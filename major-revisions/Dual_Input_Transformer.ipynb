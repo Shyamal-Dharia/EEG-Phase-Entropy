{
 "cells": [
  {
   "cell_type": "code",
   "execution_count": null,
   "metadata": {},
   "outputs": [],
   "source": [
    "#!/usr/bin/env python3\n",
    "# -*- coding: utf-8 -*-\n",
    "\"\"\"\n",
    "load_data_stratified_kfold.py\n",
    "\n",
    "• Removes the first 5 subjects of every class (per modality)\n",
    "• Builds subject-wise stratified folds\n",
    "• Balances **only the training fold** with SMOTE\n",
    "• Preserves subject IDs (pid) for synthetic samples\n",
    "• Scales features with MinMaxScaler (fit on train only)\n",
    "• Returns: list[repetition] → list[fold] → (train_loader, val_loader)\n",
    "\"\"\"\n",
    "\n",
    "import os\n",
    "import re\n",
    "from pathlib import Path\n",
    "from collections import Counter\n",
    "\n",
    "import numpy as np\n",
    "import torch\n",
    "from torch.utils.data import TensorDataset, DataLoader\n",
    "from sklearn.model_selection import StratifiedKFold\n",
    "from sklearn.preprocessing import MinMaxScaler, StandardScaler\n",
    "from imblearn.over_sampling import SMOTE\n",
    "\n",
    "# ────────────────────────────────────────────────────────────────\n",
    "# Main utility\n",
    "# ────────────────────────────────────────────────────────────────\n",
    "def load_data_stratified_kfold(\n",
    "    pte_directory: str,\n",
    "    DE_directory: str,\n",
    "    batch_size: int,\n",
    "    selected_classes=(\"alz\", \"ctrl\"),\n",
    "    selected_channels=None,\n",
    "    n_splits: int = 10,\n",
    "    n_repetitions: int = 30,\n",
    "    random_state: int = 42,\n",
    "):\n",
    "    # ────────── 1) Channel setup ──────────────────────────────\n",
    "    ch_names = [\n",
    "        \"Fp1\", \"Fp2\", \"F3\", \"F4\", \"C3\", \"C4\", \"P3\", \"P4\", \"O1\", \"O2\",\n",
    "        \"F7\", \"F8\", \"T3\", \"T4\", \"T5\", \"T6\", \"Fz\", \"Cz\", \"Pz\",\n",
    "    ]\n",
    "    if selected_channels is None:\n",
    "        selected_channels = ch_names\n",
    "    sel_idx = [ch_names.index(ch) for ch in selected_channels]\n",
    "    label_map = {c: i for i, c in enumerate(selected_classes)}\n",
    "\n",
    "    # helper to parse filenames -> (subject_id, label)\n",
    "    def parse_info(fname):\n",
    "        m = re.match(r\"sub-(\\d+)_.*_(\\w+)\\.npz\", fname)\n",
    "        if not m:\n",
    "            return None\n",
    "        sid, lbl = int(m.group(1)), m.group(2).lower()\n",
    "        if lbl not in selected_classes:\n",
    "            return None\n",
    "        return sid, lbl\n",
    "\n",
    "    # ────────── 2) Collect file lists per modality ────────────\n",
    "    def collect_files(directory):\n",
    "        all_files = sorted(\n",
    "            [f for f in os.listdir(directory) if f.endswith(\".npz\")],\n",
    "            key=lambda f: int(re.search(r\"sub-(\\d+)_\", f).group(1)),\n",
    "        )\n",
    "        info = [parse_info(f) + (f,) for f in all_files if parse_info(f) is not None]\n",
    "\n",
    "        # drop the first 5 subjects per class\n",
    "        drop_ids = {}\n",
    "        for cls in selected_classes:\n",
    "            ids = sorted({sid for sid, lbl, _ in info if lbl == cls})\n",
    "            drop_ids[cls] = set(ids[:5])\n",
    "\n",
    "        return [\n",
    "            fname\n",
    "            for sid, lbl, fname in info\n",
    "            if sid not in drop_ids[lbl]\n",
    "        ]\n",
    "\n",
    "    pte_files = collect_files(pte_directory)\n",
    "    psd_files = collect_files(DE_directory)\n",
    "\n",
    "    # ────────── 3) Load arrays & build master tensors ─────────\n",
    "    pte_list, psd_list, labels_list, pid_list = [], [], [], []\n",
    "\n",
    "    for fname in pte_files:\n",
    "        sid, lbl = parse_info(fname)\n",
    "        lbl_int = label_map[lbl]\n",
    "        arr = np.load(Path(pte_directory) / fname, allow_pickle=True)\n",
    "\n",
    "        pte = arr[\"pte_data\"]  # (N, 11, n_bands, n_ch, n_ch)\n",
    "        pte = pte[:, :, :, sel_idx, :][:, :, :, :, sel_idx]\n",
    "\n",
    "        N = pte.shape[0]\n",
    "        pte_list.append(pte)\n",
    "        labels_list.append(np.full(N, lbl_int, dtype=int))\n",
    "        pid_list.extend([sid] * N)\n",
    "\n",
    "    for fname in psd_files:\n",
    "        sid, _ = parse_info(fname)\n",
    "        arr = np.load(Path(DE_directory) / fname, allow_pickle=True)\n",
    "\n",
    "        psd = arr[\"DE_features\"]  # (N, n_ch, n_bands)\n",
    "        psd = psd[:, sel_idx, :]\n",
    "\n",
    "        psd_list.append(psd)\n",
    "\n",
    "    X_pte = np.concatenate(pte_list, axis=0)\n",
    "    X_psd = np.concatenate(psd_list, axis=0)\n",
    "    y = np.concatenate(labels_list, axis=0)\n",
    "    pid = np.asarray(pid_list, dtype=int)\n",
    "\n",
    "    assert X_pte.shape[0] == X_psd.shape[0] == y.shape[0] == pid.shape[0]\n",
    "\n",
    "    # ────────── 4) Subject labels for stratification ──────────\n",
    "    unique_pids = np.unique(pid)\n",
    "    subj_labels = np.array(\n",
    "        [Counter(y[pid == sid]).most_common(1)[0][0] for sid in unique_pids]\n",
    "    )\n",
    "\n",
    "    # ────────── 5) Build repeated folds ───────────────────────\n",
    "    all_reps = []\n",
    "    for rep in range(n_repetitions):\n",
    "        skf = StratifiedKFold(n_splits=n_splits, shuffle=True, random_state=rep)\n",
    "        rep_folds = []\n",
    "\n",
    "        for subj_tr_idx, subj_va_idx in skf.split(unique_pids, subj_labels):\n",
    "            train_pids = unique_pids[subj_tr_idx]\n",
    "            val_pids = unique_pids[subj_va_idx]\n",
    "\n",
    "            tr_mask = np.isin(pid, train_pids)\n",
    "            va_mask = np.isin(pid, val_pids)\n",
    "\n",
    "            Xp_tr, Xp_va = X_pte[tr_mask], X_pte[va_mask]\n",
    "            Xs_tr, Xs_va = X_psd[tr_mask], X_psd[va_mask]\n",
    "            y_tr, y_va = y[tr_mask], y[va_mask]\n",
    "            pid_tr, pid_va = pid[tr_mask], pid[va_mask]\n",
    "\n",
    "            # ── flatten \n",
    "            flat_pte_tr = Xp_tr.reshape(len(y_tr), -1)\n",
    "            flat_psd_tr = Xs_tr.reshape(len(y_tr), -1)\n",
    "            X_train_flat = np.hstack([flat_pte_tr, flat_psd_tr])\n",
    "\n",
    "            # ── SMOTE train-only \n",
    "            sm = SMOTE(random_state=rep)\n",
    "            X_bal, y_bal = sm.fit_resample(X_train_flat, y_tr)\n",
    "\n",
    "            # grab resampling indices (version-robust)\n",
    "            if hasattr(sm, \"sample_indices_\"):\n",
    "                res_idx = sm.sample_indices_\n",
    "            elif hasattr(sm, \"_sample_indices\"):\n",
    "                res_idx = sm._sample_indices\n",
    "            else:\n",
    "                # fallback: resample indices array\n",
    "                idx = np.arange(len(y_tr)).reshape(-1, 1)\n",
    "                idx_bal, _ = SMOTE(random_state=rep).fit_resample(idx, y_tr)\n",
    "                res_idx = idx_bal.ravel()\n",
    "\n",
    "            pid_bal = pid_tr[res_idx]\n",
    "\n",
    "            # report synthetic count\n",
    "            n_synth = len(X_bal) - len(X_train_flat)\n",
    "            print(f\"[rep {rep:02d}] SMOTE added {n_synth} synthetic samples\")\n",
    "\n",
    "            # ── split back to modalities\n",
    "            split_at = flat_pte_tr.shape[1]\n",
    "            flat_pte_bal = X_bal[:, :split_at]\n",
    "            flat_psd_bal = X_bal[:, split_at:]\n",
    "\n",
    "            # ── scale (fit on train only)\n",
    "            scaler_pte = MinMaxScaler()\n",
    "            scaler_psd = MinMaxScaler()\n",
    "\n",
    "            flat_pte_bal = scaler_pte.fit_transform(flat_pte_bal)\n",
    "            flat_pte_val = scaler_pte.transform(Xp_va.reshape(len(y_va), -1))\n",
    "\n",
    "            flat_psd_bal = scaler_psd.fit_transform(flat_psd_bal)\n",
    "            flat_psd_val = scaler_psd.transform(Xs_va.reshape(len(y_va), -1))\n",
    "\n",
    "            # ── reshape back\n",
    "            Xp_tr_bal = flat_pte_bal.reshape(-1, *Xp_tr.shape[1:])\n",
    "            Xs_tr_bal = flat_psd_bal.reshape(-1, *Xs_tr.shape[1:])\n",
    "            Xp_va = flat_pte_val.reshape(Xp_va.shape)\n",
    "            Xs_va = flat_psd_val.reshape(Xs_va.shape)\n",
    "\n",
    "            # ── DataLoaders\n",
    "            def make_loader(x1, x2, y_, p_, shuffle):\n",
    "                t1 = torch.from_numpy(x1).float()\n",
    "                t2 = torch.from_numpy(x2).float()\n",
    "                ty = torch.from_numpy(y_).long()\n",
    "                tp = torch.from_numpy(p_).long()\n",
    "                ds = TensorDataset(t1, t2, ty, tp)\n",
    "                return DataLoader(ds, batch_size=batch_size, shuffle=shuffle, drop_last=False)\n",
    "\n",
    "            train_loader = make_loader(Xp_tr_bal, Xs_tr_bal, y_bal, pid_bal, shuffle=True)\n",
    "            val_loader   = make_loader(Xp_va,      Xs_va,    y_va, pid_va,  shuffle=False)\n",
    "\n",
    "            rep_folds.append((train_loader, val_loader))\n",
    "\n",
    "        all_reps.append(rep_folds)\n",
    "\n",
    "    return all_reps\n",
    "\n",
    "\n",
    "# ────────────────────────────────────────────────────────────────\n",
    "# Demo / quick smoke-test\n",
    "# ────────────────────────────────────────────────────────────────\n",
    "if __name__ == \"__main__\":\n",
    "    pte_dir   = \"features\"\n",
    "    de_dir    = \"DE_features_single_window\"\n",
    "    bs        = 32\n",
    "    sel_chans = [\"Fp1\", \"Fp2\", \"F3\", \"F4\"]\n",
    "    n_folds   = 15\n",
    "\n",
    "    folds_by_rep = load_data_stratified_kfold(\n",
    "        pte_directory=pte_dir,\n",
    "        DE_directory=de_dir,\n",
    "        batch_size=bs,\n",
    "        selected_classes=(\"alz\", \"ctrl\"),\n",
    "        selected_channels=sel_chans,\n",
    "        n_splits=n_folds,\n",
    "        n_repetitions=1,     # keep small for the smoke-test\n",
    "    )\n",
    "\n",
    "    # print a quick sanity check of the first repetition\n",
    "    rep0 = folds_by_rep[0]\n",
    "    for k, (tr, va) in enumerate(rep0, 1):\n",
    "        print(f\"\\nFold {k:02d}: batches → train {len(tr)}, val {len(va)}\")\n",
    "        xpte, xpsd, y, p = next(iter(tr))\n",
    "        print(\"   Train batch shapes :\", xpte.shape, xpsd.shape, y.shape, p.shape)\n",
    "        xpte, xpsd, y, p = next(iter(va))\n",
    "        print(\"   Valid batch shapes :\", xpte.shape, xpsd.shape, y.shape, p.shape)\n"
   ]
  },
  {
   "cell_type": "code",
   "execution_count": null,
   "metadata": {},
   "outputs": [],
   "source": [
    "import math\n",
    "import torch\n",
    "from itertools import cycle\n",
    "import torch.nn.functional as F\n",
    "\n",
    "\n",
    "def train_model(\n",
    "    model,\n",
    "    source_dataloader,\n",
    "    target_dataloader,\n",
    "    criterion_label,\n",
    "    criterion_domain,\n",
    "    optimizer,\n",
    "    num_epochs=10,\n",
    "    device=\"cuda\",\n",
    "    alpha_entropy = 0.01,\n",
    "    scheduler=None,\n",
    "):\n",
    "   \n",
    "    model.to(device)\n",
    "    model.train()\n",
    "\n",
    "    accuracy_history = []\n",
    "    domain_accuracy_history = []\n",
    "\n",
    "    for epoch in range(num_epochs):\n",
    "        total_correct = 0\n",
    "        total_samples = 0\n",
    "        total_domain_correct = 0\n",
    "        total_domain_samples = 0\n",
    "\n",
    "        epoch_loss = 0.0\n",
    "\n",
    "\n",
    "        for i, batch_src in enumerate(source_dataloader):\n",
    "\n",
    "            if len(batch_src) == 4:\n",
    "                source_pte, source_psd, source_labels, _ = batch_src\n",
    "            else:\n",
    "                source_pte, source_psd, source_labels, _ = batch_src\n",
    "\n",
    "\n",
    "            # Move data to device\n",
    "            source_pte = source_pte.to(device)\n",
    "            source_psd = source_psd.to(device)\n",
    "            source_labels = source_labels.to(device)\n",
    "\n",
    "\n",
    "            label_preds, _ = model(\n",
    "                source_pte, source_psd\n",
    "            )\n",
    " \n",
    "\n",
    "\n",
    "            loss_label = criterion_label(label_preds, source_labels)\n",
    "\n",
    "\n",
    "            total_loss = loss_label\n",
    "            # Backward + Optimize\n",
    "            optimizer.zero_grad()\n",
    "            total_loss.backward()\n",
    "            optimizer.step()\n",
    "\n",
    "            # -------------------------------\n",
    "            # Update Metrics\n",
    "            # -------------------------------\n",
    "            epoch_loss += loss_label.item()\n",
    "\n",
    "            # Label prediction accuracy (source)\n",
    "            _, predicted = torch.max(label_preds, dim=1)\n",
    "            correct = (predicted == source_labels).sum().item()\n",
    "            total_correct += correct\n",
    "            total_samples += source_labels.size(0)\n",
    "\n",
    "        if scheduler is not None:\n",
    "            scheduler.step()\n",
    "\n",
    "            \n",
    "        epoch_accuracy = 100.0 * total_correct / total_samples if total_samples > 0 else 0\n",
    "        epoch_domain_accuracy = 100.0 * total_domain_correct / total_domain_samples if total_domain_samples > 0 else 0\n",
    "\n",
    "        accuracy_history.append(epoch_accuracy)\n",
    "        domain_accuracy_history.append(epoch_domain_accuracy)\n",
    "\n",
    "        # print(f\"Epoch [{epoch+1}/{num_epochs}] \"\n",
    "        #       f\"Label Acc: {epoch_accuracy:.2f}%, \"\n",
    "        #       f\"Domain Acc: {epoch_domain_accuracy:.2f}%\")\n",
    "\n",
    "    return accuracy_history, domain_accuracy_history\n"
   ]
  },
  {
   "cell_type": "code",
   "execution_count": null,
   "metadata": {},
   "outputs": [],
   "source": [
    "import torch\n",
    "import torch.nn.functional as F\n",
    "import numpy as np\n",
    "from typing import Tuple\n",
    "from sklearn.metrics import f1_score\n",
    "\n",
    "def test_model(\n",
    "    model: torch.nn.Module,\n",
    "    test_dataloader: torch.utils.data.DataLoader,\n",
    "    criterion_label: torch.nn.Module,\n",
    "    device: str = \"cuda\",\n",
    "    num_classes: int = 2,\n",
    "    alz_threshold: float = 0.4\n",
    ") -> Tuple[\n",
    "    float,        # avg sample loss\n",
    "    float,        # mean participant accuracy (%)\n",
    "    float,        # mean participant F1 (macro)\n",
    "    np.ndarray,   # summed confusion matrix (num_classes×num_classes)\n",
    "    np.ndarray,   # all sample softmax probs, shape (N, num_classes)\n",
    "    np.ndarray,   # all sample true labels,   shape (N,)\n",
    "    np.ndarray,   # per‐participant alz_ratio, shape (P,)\n",
    "    np.ndarray    # per‐participant true labels, shape (P,)\n",
    "]:\n",
    "    model.to(device).eval()\n",
    "    total_loss = 0.0\n",
    "\n",
    "    all_preds  = []\n",
    "    all_labels = []\n",
    "    all_probs  = []\n",
    "    all_pids   = []\n",
    "\n",
    "    with torch.no_grad():\n",
    "        for batch in test_dataloader:\n",
    "            # unpack 3 or 4 items\n",
    "            if len(batch) == 4:\n",
    "                pte, psd, labels, pids = batch\n",
    "            else:\n",
    "                pte, psd, labels = batch\n",
    "                pids = torch.zeros_like(labels)\n",
    "\n",
    "            pte, psd, labels = pte.to(device), psd.to(device), labels.to(device)\n",
    "            logits, _ = model(pte, psd)\n",
    "            loss = criterion_label(logits, labels)\n",
    "            total_loss += loss.item()\n",
    "\n",
    "            probs = F.softmax(logits, dim=1)\n",
    "            preds = probs.argmax(dim=1)\n",
    "\n",
    "            all_probs .append(probs.cpu().numpy())\n",
    "            all_preds .extend(preds.cpu().numpy())\n",
    "            all_labels.extend(labels.cpu().numpy())\n",
    "            all_pids  .extend(pids.cpu().numpy())\n",
    "\n",
    "    # average sample loss\n",
    "    n_batches = len(test_dataloader)\n",
    "    avg_loss  = total_loss / n_batches if n_batches else 0.0\n",
    "\n",
    "    # flatten lists → arrays\n",
    "    all_probs  = np.vstack(all_probs)        # (N, num_classes)\n",
    "    all_preds  = np.array(all_preds)         # (N,)\n",
    "    all_labels = np.array(all_labels)        # (N,)\n",
    "    all_pids   = np.array(all_pids)          # (N,)\n",
    "\n",
    "    # group by participant\n",
    "    part_ids    = np.unique(all_pids)\n",
    "    part_accs   = []\n",
    "    part_preds  = []\n",
    "    part_confs  = np.zeros((num_classes, num_classes), dtype=int)\n",
    "    part_ratios = []\n",
    "    part_trues  = []\n",
    "\n",
    "    for pid in part_ids:\n",
    "        mask = (all_pids == pid)\n",
    "        labs = all_labels[mask]\n",
    "        preds= all_preds[mask]\n",
    "\n",
    "        # assume each participant’s true label is constant\n",
    "        true_lbl = labs[0]\n",
    "\n",
    "        # fraction of windows predicted as \"alz\"\n",
    "        alz_ratio = (preds == 1).sum() / max(len(preds), 1)\n",
    "        pred_lbl  = 1 if alz_ratio >= alz_threshold else 0\n",
    "\n",
    "        part_confs[true_lbl, pred_lbl] += 1\n",
    "        part_accs.append(100.0 if pred_lbl == true_lbl else 0.0)\n",
    "\n",
    "        part_preds.append(pred_lbl)\n",
    "        part_ratios.append(alz_ratio)\n",
    "        part_trues.append(true_lbl)\n",
    "\n",
    "    mean_acc = float(np.mean(part_accs)) if part_accs else 0.0\n",
    "    # compute true participant-level macro-F1\n",
    "    mean_f1 = (f1_score(part_trues, part_preds,\n",
    "                        average='macro', zero_division=0)\n",
    "               if part_trues else 0.0)\n",
    "\n",
    "    return (\n",
    "        avg_loss,                    # sample‐level loss\n",
    "        mean_acc,                    # mean participant accuracy\n",
    "        mean_f1,                     # mean participant F1 (macro)\n",
    "        part_confs,                  # summed conf matrix\n",
    "        all_probs,                   # sample‐level probs\n",
    "        all_labels,                  # sample‐level labels\n",
    "        np.array(part_ratios),       # per‐participant alz ratios\n",
    "        np.array(part_trues)         # per‐participant true labels\n",
    "    )\n"
   ]
  },
  {
   "cell_type": "code",
   "execution_count": null,
   "metadata": {},
   "outputs": [],
   "source": [
    "import torch\n",
    "import torch.nn.functional as F\n",
    "from collections import defaultdict\n",
    "from sklearn.metrics import f1_score, accuracy_score\n",
    "\n",
    "def tune_threshold_on_source(\n",
    "    model,\n",
    "    source_dataloader,\n",
    "    device=\"cuda\",\n",
    "    thresholds=[0.1, 0.2, 0.3, 0.4, 0.5],\n",
    "    num_classes=2\n",
    "):\n",
    "\n",
    "    model.eval()\n",
    "    model.to(device)\n",
    "    sample_preds = defaultdict(list)\n",
    "    participant_label = {}\n",
    "\n",
    "    with torch.no_grad():\n",
    "        for batch in source_dataloader:\n",
    "            # If your source dataloader returns 4 items, including participant_id\n",
    "            if len(batch) == 4:\n",
    "                pte_batch, psd_batch, labels, pid_batch = batch\n",
    "            else:\n",
    "                raise ValueError(\"Expected Dataloader to return (pte, psd, labels, pid).\")\n",
    "\n",
    "            pte_batch = pte_batch.to(device)\n",
    "            psd_batch = psd_batch.to(device)\n",
    "            labels = labels.to(device)\n",
    "            pid_batch = pid_batch.to(device)\n",
    "\n",
    "            # Forward pass (disable GRL in inference by setting lambda_=0)\n",
    "            label_preds, _ = model(pte_batch, psd_batch)\n",
    "\n",
    "            # Convert predictions to class=0/1\n",
    "            softmax_output = F.softmax(label_preds, dim=1)\n",
    "            _, predicted = torch.max(softmax_output, dim=1)\n",
    "\n",
    "            # Move to CPU\n",
    "            predicted = predicted.cpu().numpy()\n",
    "            labels = labels.cpu().numpy()\n",
    "            pid_batch = pid_batch.cpu().numpy()\n",
    "\n",
    "            # Store predictions for each participant\n",
    "            for pred, true_lbl, pid in zip(predicted, labels, pid_batch):\n",
    "                sample_preds[pid].append(pred)\n",
    "                # We assume all samples from participant pid share the same ground-truth label:\n",
    "                if pid not in participant_label:\n",
    "                    participant_label[pid] = true_lbl\n",
    "                else:\n",
    "                    # Optionally check that the label is consistent\n",
    "                    if participant_label[pid] != true_lbl:\n",
    "                        raise ValueError(f\"Inconsistent labels for participant {pid} in source data.\")\n",
    "\n",
    "    # Now we have sample-level predictions per participant. We'll try each threshold.\n",
    "    best_threshold = None\n",
    "    best_metric_val = -1.0\n",
    "\n",
    "    for thr in thresholds:\n",
    "        # For each threshold, generate participant-level predictions\n",
    "        # by counting how many samples predicted as class=1\n",
    "        part_level_preds = []\n",
    "        part_level_trues = []\n",
    "\n",
    "        for pid, preds_list in sample_preds.items():\n",
    "            true_lbl = participant_label[pid]\n",
    "            n_alz = sum([p == 1 for p in preds_list])\n",
    "            ratio = float(n_alz) / len(preds_list)\n",
    "            # Decide participant-level label\n",
    "            if ratio >= thr:\n",
    "                participant_pred = 1\n",
    "            else:\n",
    "                participant_pred = 0\n",
    "            \n",
    "            part_level_preds.append(participant_pred)\n",
    "            part_level_trues.append(true_lbl)\n",
    "\n",
    "        # Evaluate participant-level performance\n",
    "        # For example, we use F1 (macro):\n",
    "        f1 = f1_score(part_level_trues, part_level_preds, average='macro', zero_division=0)\n",
    "        acc = accuracy_score(part_level_trues, part_level_preds)\n",
    "\n",
    "        print(f\"[Threshold {thr}] -> F1={f1:.4f} | Acc={acc:.4f}\")\n",
    "\n",
    "        # Suppose we pick the threshold that maximizes participant-level F1\n",
    "        if f1 > best_metric_val:\n",
    "            best_metric_val = f1\n",
    "            best_threshold = thr\n",
    "\n",
    "    print(f\"\\n[Best Threshold] = {best_threshold} with F1={best_metric_val:.4f}\")\n",
    "    return best_threshold\n"
   ]
  },
  {
   "cell_type": "code",
   "execution_count": null,
   "metadata": {},
   "outputs": [],
   "source": [
    "import torch.nn as nn\n",
    "import torch\n",
    "import torch.nn.functional as F\n",
    "import math\n",
    "\n",
    "\n",
    "# Define the Multi-Head Cross Attention Module\n",
    "class MultiHeadCrossAttention(nn.Module):\n",
    "    def __init__(self, d_model, num_heads, dropout=0.1):\n",
    "\n",
    "        super(MultiHeadCrossAttention, self).__init__()\n",
    "        self.multihead_attn = nn.MultiheadAttention(embed_dim=d_model, num_heads=num_heads, dropout=dropout, batch_first=True)\n",
    "        self.layer_norm = nn.LayerNorm(d_model)\n",
    "        self.dropout = nn.Dropout(dropout)\n",
    "\n",
    "    def forward(self, query, key, value, attn_mask=None, key_padding_mask=None):\n",
    "\n",
    "        # Apply MultiheadAttention; note that nn.MultiheadAttention expects inputs of shape (batch, seq, feature)\n",
    "        attn_output, attn_weights = self.multihead_attn(query, key, value, attn_mask=attn_mask, key_padding_mask=key_padding_mask)\n",
    "        \n",
    "        # Apply dropout\n",
    "        attn_output = self.dropout(attn_output)\n",
    "        \n",
    "        # Add & Norm\n",
    "        output = self.layer_norm(query + attn_output)\n",
    "        \n",
    "        return output, attn_weights\n",
    "\n",
    "# Existing Transformer Classes (PteTransformer and PsdTransformer)\n",
    "class PteTransformer(nn.Module):\n",
    "    def __init__(self, input_dim, hidden_dim, num_layers, num_heads, output_dim, dropout):\n",
    "        super(PteTransformer, self).__init__()\n",
    "        self.input_dim = input_dim\n",
    "        self.hidden_dim = hidden_dim\n",
    "        self.num_layers = num_layers\n",
    "        self.num_heads = num_heads\n",
    "        self.output_dim = output_dim\n",
    "        self.dropout = dropout\n",
    "        self.position_encoding = nn.Parameter(torch.randn(1, 11, input_dim), requires_grad=True)\n",
    "\n",
    "        self.encoder_layer = nn.TransformerEncoderLayer(\n",
    "            d_model=input_dim,\n",
    "            nhead=num_heads,\n",
    "            dim_feedforward=hidden_dim,\n",
    "            dropout=dropout,\n",
    "            batch_first=True,\n",
    "            activation=\"gelu\"\n",
    "        )\n",
    "        self.transformer = nn.TransformerEncoder(encoder_layer=self.encoder_layer, num_layers=num_layers)\n",
    "        self.output_layer = nn.Linear(input_dim, output_dim)  # Project to desired output_dim\n",
    "\n",
    "    def forward(self, x):\n",
    "        \"\"\"\n",
    "        x: (batch_size, original_features)\n",
    "        \"\"\"\n",
    "        b = x.shape[0]\n",
    "        win = x.shape[1]\n",
    "        # Reshape to (batch_size, 11, input_dim//11) assuming input_dim is divisible by 11\n",
    "        x = x.reshape(b, 11, -1)\n",
    "        x = self.position_encoding + x  # (batch_size, 11, input_dim)\n",
    "        x = self.transformer(x)         # (batch_size, 11, input_dim)\n",
    "        x = self.output_layer(x)        # (batch_size, 11, output_dim)\n",
    "        return x\n",
    "\n",
    "class PsdTransformer(nn.Module):\n",
    "    def __init__(self, input_dim, hidden_dim, num_layers, num_heads, output_dim, dropout):\n",
    "        super(PsdTransformer, self).__init__()\n",
    "        self.input_dim = input_dim\n",
    "        self.hidden_dim = hidden_dim\n",
    "        self.num_layers = num_layers\n",
    "        self.num_heads = num_heads\n",
    "        self.output_dim = output_dim\n",
    "        self.dropout = dropout\n",
    "\n",
    "        self.encoder_layer = nn.TransformerEncoderLayer(\n",
    "            d_model=input_dim,\n",
    "            nhead=num_heads,\n",
    "            dim_feedforward=hidden_dim,\n",
    "            dropout=dropout,\n",
    "            batch_first=True,\n",
    "            activation=\"gelu\"\n",
    "        )\n",
    "        self.transformer = nn.TransformerEncoder(encoder_layer=self.encoder_layer, num_layers=num_layers)\n",
    "        self.output_layer = nn.Linear(input_dim, output_dim)  # Project to desired output_dim\n",
    "\n",
    "    def forward(self, x):\n",
    "        \"\"\"\n",
    "        x: (batch_size, original_features)\n",
    "        \"\"\"\n",
    "        # Assuming x is already of shape (batch_size, T_e, input_dim)\n",
    "        x = self.transformer(x)         # (batch_size, T_e, input_dim)\n",
    "        x = self.output_layer(x)        # (batch_size, T_e, output_dim)\n",
    "        return x\n",
    "\n",
    "# Updated Final Model with Multi-Head Cross Attention and DANN Components\n",
    "class FinalModel(nn.Module):\n",
    "    def __init__(self, \n",
    "                 pte_input_dim, pte_hidden_dim, pte_num_layers, pte_num_heads, pte_output_dim, pte_dropout,\n",
    "                 psd_input_dim, psd_hidden_dim, psd_num_layers, psd_num_heads, psd_output_dim, psd_dropout,\n",
    "                 cross_d_model, cross_num_heads,\n",
    "                 ):\n",
    "        super(FinalModel, self).__init__() \n",
    "\n",
    "        # Initialize PTE and PSD Transformers\n",
    "        self.pte_transformer = PteTransformer(\n",
    "            input_dim=pte_input_dim,\n",
    "            hidden_dim=pte_hidden_dim,\n",
    "            num_layers=pte_num_layers,\n",
    "            num_heads=pte_num_heads,\n",
    "            output_dim=pte_output_dim,\n",
    "            dropout=pte_dropout\n",
    "        )\n",
    "        \n",
    "        self.psd_transformer = PsdTransformer(\n",
    "            input_dim=psd_input_dim,\n",
    "            hidden_dim=psd_hidden_dim,\n",
    "            num_layers=psd_num_layers,\n",
    "            num_heads=psd_num_heads,\n",
    "            output_dim=psd_output_dim,\n",
    "            dropout=psd_dropout\n",
    "        )\n",
    "        \n",
    "        # Initialize Multi-Head Cross-Attention\n",
    "        self.cross_attention = MultiHeadCrossAttention(\n",
    "            d_model=cross_d_model,\n",
    "            num_heads=cross_num_heads,\n",
    "            dropout=psd_dropout\n",
    "        )\n",
    "\n",
    "        # Final Classifier for Label Prediction\n",
    "        self.final_classifier = nn.Sequential(\n",
    "            nn.Flatten(),\n",
    "            nn.Dropout(0.7),\n",
    "            nn.Linear(1408, 2)  # Adjust based on the sequence length (12 here)\n",
    "        )\n",
    "        \n",
    "    def forward(self, pte_input, psd_input):\n",
    "\n",
    "        # Pass through respective transformers\n",
    "        pte_encoded = self.pte_transformer(pte_input)  # (batch_size, T_pte=11, pte_output_dim=128)\n",
    "        psd_encoded = self.psd_transformer(psd_input)  # (batch_size, T_psd=6, psd_output_dim=128)\n",
    "        \n",
    "        # print(psd_encoded.shape)\n",
    "        # Apply multi-head cross-attention: Let pte_encoded attend to psd_encoded\n",
    "        cross_attn_output, attn_weights = self.cross_attention(\n",
    "            query=pte_encoded,      # (batch_size, T_q=11, d_model=128)\n",
    "            key=psd_encoded,        # (batch_size, T_k=6, d_model=128)\n",
    "            value=psd_encoded       # (batch_size, T_k=6, d_model=128)\n",
    "        )\n",
    "        \n",
    "        # Label Prediction\n",
    "        label_pred = self.final_classifier(cross_attn_output)  # (batch_size, 2)\n",
    "        \n",
    "        \n",
    "        return label_pred, attn_weights\n",
    "\n",
    "# Example usage\n",
    "if __name__ == \"__main__\":\n",
    "    # Example input tensors\n",
    "    # Adjust the shapes based on your actual data\n",
    "    # For illustration, assuming:\n",
    "    # pte_input has 11 time steps, each with (input_dim_pte / 11) features\n",
    "    x_1 = torch.randn(32, 11 * 5 * 6 * 6)  # (batch_size, pte_original_features)\n",
    "    # psd_input has sequence length 6 with 5 features each\n",
    "    x_2 = torch.randn(32, 6, 5)            # (batch_size, psd_seq_length, psd_original_features)\n",
    "    \n",
    "    # Define the model parameters\n",
    "    input_dim_pte = 180   # Example: 11 * 5 * 6 * 6 = 180\n",
    "    hidden_dim_pte = 512\n",
    "    num_layers_pte = 2\n",
    "    num_heads_pte = 5     # Typically, num_heads should divide d_model\n",
    "    output_dim_pte = 128\n",
    "    dropout_pte = 0.4\n",
    "    \n",
    "    input_dim_psd = 5\n",
    "    hidden_dim_psd = 512\n",
    "    num_layers_psd = 2\n",
    "    num_heads_psd = 5    # Typically, num_heads should divide d_model\n",
    "    output_dim_psd = 128\n",
    "    dropout_psd = 0.4\n",
    "    \n",
    "    cross_d_model = 128\n",
    "    cross_num_heads = 8   # Number of heads in cross-attention\n",
    "    \n",
    "    # Initialize the DANN model\n",
    "    model = FinalModel(\n",
    "        pte_input_dim=input_dim_pte, \n",
    "        pte_hidden_dim=hidden_dim_pte, \n",
    "        pte_num_layers=num_layers_pte, \n",
    "        pte_num_heads=num_heads_pte, \n",
    "        pte_output_dim=output_dim_pte, \n",
    "        pte_dropout=dropout_pte,\n",
    "        psd_input_dim=input_dim_psd, \n",
    "        psd_hidden_dim=hidden_dim_psd, \n",
    "        psd_num_layers=num_layers_psd, \n",
    "        psd_num_heads=num_heads_psd, \n",
    "        psd_output_dim=output_dim_psd, \n",
    "        psd_dropout=dropout_psd,\n",
    "        cross_d_model=cross_d_model, \n",
    "        cross_num_heads=cross_num_heads\n",
    "    )\n",
    "    \n",
    "    # Example forward pass\n",
    "    label_pred, attn_weights = model(x_1, x_2)\n",
    "    print(\"Label Prediction Shape:\", label_pred.shape)        # Expected: (32, 2)\n",
    "    print(\"Attention Weights Shape:\", attn_weights.shape)\n",
    "    \n",
    "# summary(model, input_size=[(32, 11 * 5 * 6 * 6), (32, 6, 5)], col_names=[\"input_size\", \"output_size\", \"num_params\", \"trainable\"], col_width=20)\n",
    "from torchinfo import summary\n",
    "\n",
    "summary(model=model,\n",
    "        input_size=[(32, 11, 5 * 6 * 6), (32, 6, 5)], # (batch_size, color_channels, height, width)\n",
    "        # col_names=[\"input_size\"], # uncomment for smaller output\n",
    "        col_names=[\"input_size\", \"output_size\", \"num_params\", \"trainable\"],\n",
    "        col_width=20,\n",
    "        row_settings=[\"var_names\"]\n",
    ")\n"
   ]
  },
  {
   "cell_type": "code",
   "execution_count": null,
   "metadata": {},
   "outputs": [],
   "source": [
    "import random\n",
    "import numpy as np\n",
    "import torch\n",
    "from sklearn.utils import check_random_state\n",
    "\n",
    "def set_seed(seed):\n",
    "    random.seed(seed)\n",
    "\n",
    "    # Set the seed for numpy\n",
    "    np.random.seed(seed)\n",
    "\n",
    "    # Set the seed for PyTorch (both CPU and CUDA)\n",
    "    torch.manual_seed(seed)\n",
    "    torch.cuda.manual_seed(seed)\n",
    "    torch.cuda.manual_seed_all(seed)  # For multi-GPU setups\n",
    "\n",
    "    # Ensure deterministic behavior in PyTorch (if applicable)\n",
    "    torch.backends.cudnn.deterministic = True\n",
    "    torch.backends.cudnn.benchmark = False\n",
    "\n",
    "    # Set the seed for sklearn (via check_random_state)\n",
    "    _ = check_random_state(seed)\n",
    "\n",
    "    print(f\"Seed set to: {seed}\")\n"
   ]
  },
  {
   "cell_type": "code",
   "execution_count": null,
   "metadata": {},
   "outputs": [],
   "source": [
    "import os\n",
    "import numpy as np\n",
    "import torch\n",
    "import torch.nn as nn\n",
    "from torch.utils.data import DataLoader\n",
    "from sklearn.metrics import roc_auc_score, roc_curve\n",
    "from statistics import mode, StatisticsError\n",
    "import matplotlib.pyplot as plt\n",
    "\n",
    "seeds = [0, 1, 2 ,3, 4 , 5 , 6 ,7, 8, 9]  # Example seeds for reproducibility\n",
    "\n",
    "all_acc_final   = []\n",
    "all_f1_final    = []\n",
    "all_conf_final  = []\n",
    "global_probs_final  = []\n",
    "global_labels_final = []\n",
    "best_thresholds_final = []\n",
    "\n",
    "set_seed(0)\n",
    "#for seed in seeds:\n",
    "#    set_seed(seed)  # reproducibility\n",
    "\n",
    "# model hyperparameters (unchanged)\n",
    "input_dim_pte  = 180\n",
    "hidden_dim_pte = 512\n",
    "num_layers_pte = 2\n",
    "num_heads_pte  = 5\n",
    "output_dim_pte = 128\n",
    "dropout_pte    = 0.4\n",
    "\n",
    "input_dim_psd  = 5\n",
    "hidden_dim_psd = 512\n",
    "num_layers_psd = 2\n",
    "num_heads_psd  = 5\n",
    "output_dim_psd = 128\n",
    "dropout_psd    = 0.4\n",
    "\n",
    "cross_d_model   = 128\n",
    "cross_num_heads = 8\n",
    "\n",
    "\n",
    "\n",
    "# get stratified folds\n",
    "all_folds  = load_data_stratified_kfold(\n",
    "    pte_directory=\"features\",\n",
    "    DE_directory=\"DE_features_single_window\",\n",
    "    batch_size=32,\n",
    "    selected_classes=[\"ctrl\",\"alz\"],\n",
    "    selected_channels=['O1','O2','T4','T5','F7','F8'],\n",
    "    n_splits=10,\n",
    "    n_repetitions=30,\n",
    ")\n",
    "\n",
    "\n",
    "for folds in all_folds:\n",
    "\n",
    "    # accumulators\n",
    "    all_acc   = []\n",
    "    all_f1    = []\n",
    "    all_conf  = []\n",
    "    global_probs  = []\n",
    "    global_labels = []\n",
    "    best_thresholds = []\n",
    "\n",
    "\n",
    "    for fold_idx, (train_loader, val_loader) in enumerate(folds, 1):\n",
    "        print(f\"\\n===== Fold {fold_idx}/{len(folds)} =====\")\n",
    "\n",
    "        # 1) model init\n",
    "        model = FinalModel(\n",
    "            pte_input_dim=input_dim_pte,\n",
    "            pte_hidden_dim=hidden_dim_pte,\n",
    "            pte_num_layers=num_layers_pte,\n",
    "            pte_num_heads=num_heads_pte,\n",
    "            pte_output_dim=output_dim_pte,\n",
    "            pte_dropout=dropout_pte,\n",
    "            psd_input_dim=input_dim_psd,\n",
    "            psd_hidden_dim=hidden_dim_psd,\n",
    "            psd_num_layers=num_layers_psd,\n",
    "            psd_num_heads=num_heads_psd,\n",
    "            psd_output_dim=output_dim_psd,\n",
    "            psd_dropout=dropout_psd,\n",
    "            cross_d_model=cross_d_model,\n",
    "            cross_num_heads=cross_num_heads\n",
    "        )\n",
    "\n",
    "        device = torch.device('cuda:2' if torch.cuda.is_available() else 'cpu')\n",
    "        model.to(device)\n",
    "\n",
    "        # 2) loss & optimizer\n",
    "        # class_weights = torch.tensor([1.0, 0.8], device=device)\n",
    "        #balance the classes weights\n",
    "        # from sklearn.utils.class_weight import compute_class_weight\n",
    "        # labels = []\n",
    "        # for _, _, y, _ in train_loader:\n",
    "        #     labels.extend(y.numpy())\n",
    "        # labels = np.array(labels)\n",
    "        # class_weights = compute_class_weight(\n",
    "        #     class_weight='balanced',\n",
    "        #     classes=np.unique(labels),\n",
    "        #     y=labels\n",
    "        # )\n",
    "        # class_weights = torch.tensor(class_weights, dtype=torch.float32).to(device)\n",
    "        class_weights = torch.tensor([1.0, 0.7], device=device)\n",
    "        # print(f\"Class weights: {class_weights}\")\n",
    "        criterion_label = nn.CrossEntropyLoss(class_weights)\n",
    "        # criterion_label = FocalLoss(gamma=2, alpha=class_weights, reduction='mean', task_type='multi-class', num_classes=2)\n",
    "\n",
    "        optimizer = torch.optim.Adam(model.parameters(), lr=0.0001)\n",
    "        # scheduler = torch.optim.lr_scheduler.StepLR(optimizer, step_size=20, gamma=0.5)\n",
    "        # 3) train\n",
    "        num_epochs = 100\n",
    "        label_acc_history, _ = train_model(\n",
    "            model=model,\n",
    "            source_dataloader=train_loader,\n",
    "            target_dataloader=val_loader,\n",
    "            criterion_label=criterion_label,\n",
    "            criterion_domain=criterion_label,\n",
    "            optimizer=optimizer,\n",
    "            num_epochs=num_epochs,\n",
    "            device=device,\n",
    "            scheduler=None,\n",
    "        )\n",
    "        print(f\"Final training label acc: {label_acc_history[-1]:.2f}%\")\n",
    "\n",
    "        # 4) threshold tuning on train set\n",
    "        thresholds_to_try = [0.2,0.3,0.4,0.5]\n",
    "        best_thr = tune_threshold_on_source(\n",
    "            model=model,\n",
    "            source_dataloader=train_loader,\n",
    "            device=device,\n",
    "            thresholds=thresholds_to_try,\n",
    "            num_classes=2\n",
    "        )\n",
    "        best_thresholds.append(best_thr)\n",
    "\n",
    "        # 5) test on validation set\n",
    "        test_loss, test_acc, test_f1, conf_mat, preds, labels, alz_ratio, true_label = test_model(\n",
    "            model=model,\n",
    "            test_dataloader=val_loader,\n",
    "            criterion_label=criterion_label,\n",
    "            device=device,\n",
    "            num_classes=2,\n",
    "            alz_threshold=best_thr\n",
    "        )\n",
    "\n",
    "        print(f\"Final validation loss: {test_loss:.4f}\")\n",
    "        print(f\"Final validation acc: {test_acc:.2f}%\")\n",
    "        print(f\"Final validation f1: {test_f1:.2f}%\")\n",
    "\n",
    "        # 6) record metrics\n",
    "        all_acc.append(test_acc)\n",
    "        all_f1.append(test_f1)\n",
    "        all_conf.append(conf_mat)\n",
    "        global_probs.append(preds)\n",
    "        global_labels.append(labels)\n",
    "        best_thresholds.append(best_thr)\n",
    "\n",
    "    # ────────── 7) Final results ─────────────────────────────\n",
    "    all_acc_final.append(all_acc)\n",
    "    all_f1_final.append(all_f1)\n",
    "    all_conf_final.append(all_conf)\n",
    "    global_probs_final.append(global_probs)\n",
    "    global_labels_final.append(global_labels)\n",
    "    best_thresholds_final.append(best_thresholds)\n",
    "\n",
    "    print(f\"\\n=== Cross‐Val Results ===\")\n",
    "    print(f\"Accuracies per fold: {all_acc}\")\n",
    "    print(f\"Mean acc: {np.mean(all_acc):.2f}%, Std: {np.std(all_acc):.2f}%\")\n",
    "    print(f\"Mean f1: {np.mean(all_f1):.2f}%, Std: {np.std(all_f1):.2f}%\")\n",
    "\n",
    "final_results = {\n",
    "\"all_acc\": all_acc_final,\n",
    "\"all_f1\": all_f1_final,\n",
    "\"all_conf\": all_conf_final,\n",
    "\"global_probs\": global_probs_final,\n",
    "\"global_labels\": global_labels_final,\n",
    "\"best_thresholds\": best_thresholds_final\n",
    "}\n",
    "\n",
    "np.savez(\n",
    "\"final_results_cn_ad_dtca.npz\",\n",
    "final_results=final_results\n",
    ")\n"
   ]
  },
  {
   "cell_type": "code",
   "execution_count": null,
   "metadata": {},
   "outputs": [],
   "source": []
  },
  {
   "cell_type": "code",
   "execution_count": null,
   "metadata": {},
   "outputs": [],
   "source": []
  },
  {
   "cell_type": "code",
   "execution_count": null,
   "metadata": {},
   "outputs": [],
   "source": []
  },
  {
   "cell_type": "code",
   "execution_count": null,
   "metadata": {},
   "outputs": [],
   "source": []
  },
  {
   "cell_type": "code",
   "execution_count": null,
   "metadata": {},
   "outputs": [],
   "source": []
  },
  {
   "cell_type": "code",
   "execution_count": null,
   "metadata": {},
   "outputs": [],
   "source": [
    "accuarcy = final_results[\"all_acc\"]\n",
    "f1 = final_results[\"all_f1\"]\n",
    "confusion_matrix = final_results[\"all_conf\"]\n",
    "global_probs = final_results[\"global_probs\"]\n",
    "global_labels = final_results[\"global_labels\"]\n",
    "best_thresholds = final_results[\"best_thresholds\"]\n",
    "\n",
    "import numpy as np\n",
    "from sklearn.metrics import accuracy_score, precision_score, recall_score, f1_score\n",
    "\n",
    "# final_results[\"all_conf\"] is a list of 10 runs, each a (5,2,2) array of confusion matrices\n",
    "all_runs = final_results[\"all_conf\"]\n",
    "\n",
    "acc_scores, precision_scores, recall_scores, f1_scores = [], [], [], []\n",
    "\n",
    "for run_idx, run_cms in enumerate(all_runs, start=1):\n",
    "    # run_cms has shape (5,2,2): 5 folds × 2 × 2\n",
    "    for fold_idx, cm in enumerate(run_cms, start=1):\n",
    "        cm = np.asarray(cm)\n",
    "        if cm.shape != (2,2):\n",
    "            raise ValueError(f\"Run {run_idx} Fold {fold_idx} has shape {cm.shape}, expected (2,2)\")\n",
    "\n",
    "        tn, fp, fn, tp = cm.ravel()\n",
    "\n",
    "        # Reconstruct the true/pred arrays\n",
    "        y_true = np.array([0]*(tn+fp) + [1]*(fn+tp))\n",
    "        y_pred = np.array([0]*tn     + [1]*fp    +\n",
    "                          [0]*fn     + [1]*tp)\n",
    "\n",
    "        # Compute metrics\n",
    "        acc_scores.append(   accuracy_score(y_true, y_pred))\n",
    "        precision_scores.append(precision_score(y_true, y_pred, zero_division=0))\n",
    "        recall_scores.append(   recall_score(y_true, y_pred, zero_division=0))\n",
    "        f1_scores.append(       f1_score(y_true, y_pred,average=\"macro\", zero_division=0))\n",
    "\n",
    "# Now aggregate across all 50 confusion matrices\n",
    "metrics = {\n",
    "    \"Accuracy\":  (np.mean(acc_scores),       np.std(acc_scores)),\n",
    "    \"Precision\": (np.mean(precision_scores), np.std(precision_scores)),\n",
    "    \"Recall\":    (np.mean(recall_scores),    np.std(recall_scores)),\n",
    "    \"F1-score\":  (np.mean(f1_scores),        np.std(f1_scores)),\n",
    "}\n",
    "\n",
    "for name, (mean, std) in metrics.items():\n",
    "    print(f\"{name}: Mean = {mean:.4f}, Std = {std:.4f}\")\n",
    "\n"
   ]
  },
  {
   "cell_type": "code",
   "execution_count": null,
   "metadata": {},
   "outputs": [],
   "source": [
    "# global_probs = np.hstack(global_probs)\n",
    "\n",
    "gp = []\n",
    "for i in range(len(global_probs)):\n",
    "    gp.extend(global_probs[i])\n",
    "global_probs = np.vstack(gp)\n",
    "print(global_probs.shape)\n",
    "\n",
    "gl = []\n",
    "for i in range(len(global_labels)):\n",
    "    gl.extend(global_labels[i])\n",
    "global_labels = np.hstack(gl)\n",
    "print(global_labels.shape)\n",
    "print(global_labels)\n"
   ]
  },
  {
   "cell_type": "code",
   "execution_count": null,
   "metadata": {},
   "outputs": [],
   "source": [
    "from sklearn.metrics import roc_auc_score, roc_curve\n",
    "\n",
    "# Compute global sample-level AUC\n",
    "global_auc = roc_auc_score(global_labels, global_probs[:, 1])\n",
    "print(f\"\\nGlobal Sample-Level AUC: {global_auc:.4f}\")\n",
    "\n",
    "#plot ROC curve\n",
    "fpr, tpr, _ = roc_curve(global_labels, global_probs[:, 1])\n",
    "plt.figure(figsize=(6, 6))\n",
    "plt.plot(fpr, tpr, color='darkorange', lw=2, label=f\"Global AUC = {global_auc:.4f}\")\n",
    "plt.plot([0, 1], [0, 1], color='navy', lw=2, linestyle='--')\n",
    "plt.xlabel('False Positive Rate')\n",
    "plt.ylabel('True Positive Rate')\n",
    "plt.title('Global ROC Curve')\n",
    "plt.legend(loc=\"lower right\")\n",
    "plt.grid()\n",
    "plt.show()\n",
    "\n"
   ]
  },
  {
   "cell_type": "code",
   "execution_count": null,
   "metadata": {},
   "outputs": [],
   "source": []
  },
  {
   "cell_type": "code",
   "execution_count": 10,
   "metadata": {},
   "outputs": [
    {
     "name": "stdout",
     "output_type": "stream",
     "text": [
      "Seed set to: 0\n",
      "[rep 00] SMOTE added 87 synthetic samples\n",
      "[rep 00] SMOTE added 83 synthetic samples\n",
      "[rep 00] SMOTE added 71 synthetic samples\n",
      "[rep 00] SMOTE added 71 synthetic samples\n",
      "[rep 00] SMOTE added 91 synthetic samples\n",
      "[rep 00] SMOTE added 90 synthetic samples\n",
      "[rep 00] SMOTE added 103 synthetic samples\n",
      "[rep 00] SMOTE added 102 synthetic samples\n",
      "[rep 00] SMOTE added 95 synthetic samples\n",
      "[rep 00] SMOTE added 98 synthetic samples\n",
      "[rep 01] SMOTE added 88 synthetic samples\n",
      "[rep 01] SMOTE added 82 synthetic samples\n",
      "[rep 01] SMOTE added 70 synthetic samples\n",
      "[rep 01] SMOTE added 67 synthetic samples\n",
      "[rep 01] SMOTE added 94 synthetic samples\n",
      "[rep 01] SMOTE added 97 synthetic samples\n",
      "[rep 01] SMOTE added 102 synthetic samples\n",
      "[rep 01] SMOTE added 99 synthetic samples\n",
      "[rep 01] SMOTE added 96 synthetic samples\n",
      "[rep 01] SMOTE added 96 synthetic samples\n",
      "[rep 02] SMOTE added 86 synthetic samples\n",
      "[rep 02] SMOTE added 83 synthetic samples\n",
      "[rep 02] SMOTE added 68 synthetic samples\n",
      "[rep 02] SMOTE added 70 synthetic samples\n",
      "[rep 02] SMOTE added 101 synthetic samples\n",
      "[rep 02] SMOTE added 95 synthetic samples\n",
      "[rep 02] SMOTE added 95 synthetic samples\n",
      "[rep 02] SMOTE added 99 synthetic samples\n",
      "[rep 02] SMOTE added 101 synthetic samples\n",
      "[rep 02] SMOTE added 93 synthetic samples\n",
      "[rep 03] SMOTE added 76 synthetic samples\n",
      "[rep 03] SMOTE added 90 synthetic samples\n",
      "[rep 03] SMOTE added 72 synthetic samples\n",
      "[rep 03] SMOTE added 73 synthetic samples\n",
      "[rep 03] SMOTE added 97 synthetic samples\n",
      "[rep 03] SMOTE added 97 synthetic samples\n",
      "[rep 03] SMOTE added 102 synthetic samples\n",
      "[rep 03] SMOTE added 93 synthetic samples\n",
      "[rep 03] SMOTE added 95 synthetic samples\n",
      "[rep 03] SMOTE added 96 synthetic samples\n",
      "[rep 04] SMOTE added 85 synthetic samples\n",
      "[rep 04] SMOTE added 86 synthetic samples\n",
      "[rep 04] SMOTE added 67 synthetic samples\n",
      "[rep 04] SMOTE added 72 synthetic samples\n",
      "[rep 04] SMOTE added 100 synthetic samples\n",
      "[rep 04] SMOTE added 95 synthetic samples\n",
      "[rep 04] SMOTE added 97 synthetic samples\n",
      "[rep 04] SMOTE added 97 synthetic samples\n",
      "[rep 04] SMOTE added 99 synthetic samples\n",
      "[rep 04] SMOTE added 93 synthetic samples\n",
      "[rep 05] SMOTE added 84 synthetic samples\n",
      "[rep 05] SMOTE added 91 synthetic samples\n",
      "[rep 05] SMOTE added 70 synthetic samples\n",
      "[rep 05] SMOTE added 76 synthetic samples\n",
      "[rep 05] SMOTE added 95 synthetic samples\n",
      "[rep 05] SMOTE added 99 synthetic samples\n",
      "[rep 05] SMOTE added 92 synthetic samples\n",
      "[rep 05] SMOTE added 99 synthetic samples\n",
      "[rep 05] SMOTE added 90 synthetic samples\n",
      "[rep 05] SMOTE added 95 synthetic samples\n",
      "[rep 06] SMOTE added 83 synthetic samples\n",
      "[rep 06] SMOTE added 85 synthetic samples\n",
      "[rep 06] SMOTE added 75 synthetic samples\n",
      "[rep 06] SMOTE added 67 synthetic samples\n",
      "[rep 06] SMOTE added 99 synthetic samples\n",
      "[rep 06] SMOTE added 96 synthetic samples\n",
      "[rep 06] SMOTE added 96 synthetic samples\n",
      "[rep 06] SMOTE added 101 synthetic samples\n",
      "[rep 06] SMOTE added 94 synthetic samples\n",
      "[rep 06] SMOTE added 95 synthetic samples\n",
      "[rep 07] SMOTE added 80 synthetic samples\n",
      "[rep 07] SMOTE added 87 synthetic samples\n",
      "[rep 07] SMOTE added 73 synthetic samples\n",
      "[rep 07] SMOTE added 69 synthetic samples\n",
      "[rep 07] SMOTE added 97 synthetic samples\n",
      "[rep 07] SMOTE added 98 synthetic samples\n",
      "[rep 07] SMOTE added 96 synthetic samples\n",
      "[rep 07] SMOTE added 92 synthetic samples\n",
      "[rep 07] SMOTE added 103 synthetic samples\n",
      "[rep 07] SMOTE added 96 synthetic samples\n",
      "[rep 08] SMOTE added 88 synthetic samples\n",
      "[rep 08] SMOTE added 82 synthetic samples\n",
      "[rep 08] SMOTE added 69 synthetic samples\n",
      "[rep 08] SMOTE added 73 synthetic samples\n",
      "[rep 08] SMOTE added 101 synthetic samples\n",
      "[rep 08] SMOTE added 97 synthetic samples\n",
      "[rep 08] SMOTE added 94 synthetic samples\n",
      "[rep 08] SMOTE added 96 synthetic samples\n",
      "[rep 08] SMOTE added 94 synthetic samples\n",
      "[rep 08] SMOTE added 97 synthetic samples\n",
      "[rep 09] SMOTE added 80 synthetic samples\n",
      "[rep 09] SMOTE added 78 synthetic samples\n",
      "[rep 09] SMOTE added 77 synthetic samples\n",
      "[rep 09] SMOTE added 70 synthetic samples\n",
      "[rep 09] SMOTE added 101 synthetic samples\n",
      "[rep 09] SMOTE added 93 synthetic samples\n",
      "[rep 09] SMOTE added 96 synthetic samples\n",
      "[rep 09] SMOTE added 99 synthetic samples\n",
      "[rep 09] SMOTE added 98 synthetic samples\n",
      "[rep 09] SMOTE added 99 synthetic samples\n",
      "[rep 10] SMOTE added 77 synthetic samples\n",
      "[rep 10] SMOTE added 77 synthetic samples\n",
      "[rep 10] SMOTE added 70 synthetic samples\n",
      "[rep 10] SMOTE added 72 synthetic samples\n",
      "[rep 10] SMOTE added 99 synthetic samples\n",
      "[rep 10] SMOTE added 101 synthetic samples\n",
      "[rep 10] SMOTE added 104 synthetic samples\n",
      "[rep 10] SMOTE added 99 synthetic samples\n",
      "[rep 10] SMOTE added 92 synthetic samples\n",
      "[rep 10] SMOTE added 100 synthetic samples\n",
      "[rep 11] SMOTE added 86 synthetic samples\n",
      "[rep 11] SMOTE added 83 synthetic samples\n",
      "[rep 11] SMOTE added 74 synthetic samples\n",
      "[rep 11] SMOTE added 67 synthetic samples\n",
      "[rep 11] SMOTE added 95 synthetic samples\n",
      "[rep 11] SMOTE added 98 synthetic samples\n",
      "[rep 11] SMOTE added 93 synthetic samples\n",
      "[rep 11] SMOTE added 96 synthetic samples\n",
      "[rep 11] SMOTE added 94 synthetic samples\n",
      "[rep 11] SMOTE added 105 synthetic samples\n",
      "[rep 12] SMOTE added 79 synthetic samples\n",
      "[rep 12] SMOTE added 88 synthetic samples\n",
      "[rep 12] SMOTE added 68 synthetic samples\n",
      "[rep 12] SMOTE added 73 synthetic samples\n",
      "[rep 12] SMOTE added 94 synthetic samples\n",
      "[rep 12] SMOTE added 99 synthetic samples\n",
      "[rep 12] SMOTE added 102 synthetic samples\n",
      "[rep 12] SMOTE added 99 synthetic samples\n",
      "[rep 12] SMOTE added 93 synthetic samples\n",
      "[rep 12] SMOTE added 96 synthetic samples\n",
      "[rep 13] SMOTE added 80 synthetic samples\n",
      "[rep 13] SMOTE added 83 synthetic samples\n",
      "[rep 13] SMOTE added 72 synthetic samples\n",
      "[rep 13] SMOTE added 73 synthetic samples\n",
      "[rep 13] SMOTE added 98 synthetic samples\n",
      "[rep 13] SMOTE added 99 synthetic samples\n",
      "[rep 13] SMOTE added 95 synthetic samples\n",
      "[rep 13] SMOTE added 96 synthetic samples\n",
      "[rep 13] SMOTE added 98 synthetic samples\n",
      "[rep 13] SMOTE added 97 synthetic samples\n",
      "[rep 14] SMOTE added 87 synthetic samples\n",
      "[rep 14] SMOTE added 86 synthetic samples\n",
      "[rep 14] SMOTE added 72 synthetic samples\n",
      "[rep 14] SMOTE added 72 synthetic samples\n",
      "[rep 14] SMOTE added 95 synthetic samples\n",
      "[rep 14] SMOTE added 91 synthetic samples\n",
      "[rep 14] SMOTE added 98 synthetic samples\n",
      "[rep 14] SMOTE added 97 synthetic samples\n",
      "[rep 14] SMOTE added 97 synthetic samples\n",
      "[rep 14] SMOTE added 96 synthetic samples\n",
      "[rep 15] SMOTE added 78 synthetic samples\n",
      "[rep 15] SMOTE added 79 synthetic samples\n",
      "[rep 15] SMOTE added 74 synthetic samples\n",
      "[rep 15] SMOTE added 71 synthetic samples\n",
      "[rep 15] SMOTE added 94 synthetic samples\n",
      "[rep 15] SMOTE added 99 synthetic samples\n",
      "[rep 15] SMOTE added 98 synthetic samples\n",
      "[rep 15] SMOTE added 99 synthetic samples\n",
      "[rep 15] SMOTE added 97 synthetic samples\n",
      "[rep 15] SMOTE added 102 synthetic samples\n",
      "[rep 16] SMOTE added 87 synthetic samples\n",
      "[rep 16] SMOTE added 82 synthetic samples\n",
      "[rep 16] SMOTE added 71 synthetic samples\n",
      "[rep 16] SMOTE added 66 synthetic samples\n",
      "[rep 16] SMOTE added 102 synthetic samples\n",
      "[rep 16] SMOTE added 96 synthetic samples\n",
      "[rep 16] SMOTE added 95 synthetic samples\n",
      "[rep 16] SMOTE added 99 synthetic samples\n",
      "[rep 16] SMOTE added 95 synthetic samples\n",
      "[rep 16] SMOTE added 98 synthetic samples\n",
      "[rep 17] SMOTE added 85 synthetic samples\n",
      "[rep 17] SMOTE added 90 synthetic samples\n",
      "[rep 17] SMOTE added 75 synthetic samples\n",
      "[rep 17] SMOTE added 66 synthetic samples\n",
      "[rep 17] SMOTE added 97 synthetic samples\n",
      "[rep 17] SMOTE added 97 synthetic samples\n",
      "[rep 17] SMOTE added 97 synthetic samples\n",
      "[rep 17] SMOTE added 94 synthetic samples\n",
      "[rep 17] SMOTE added 92 synthetic samples\n",
      "[rep 17] SMOTE added 98 synthetic samples\n",
      "[rep 18] SMOTE added 80 synthetic samples\n",
      "[rep 18] SMOTE added 86 synthetic samples\n",
      "[rep 18] SMOTE added 73 synthetic samples\n",
      "[rep 18] SMOTE added 65 synthetic samples\n",
      "[rep 18] SMOTE added 98 synthetic samples\n",
      "[rep 18] SMOTE added 102 synthetic samples\n",
      "[rep 18] SMOTE added 96 synthetic samples\n",
      "[rep 18] SMOTE added 92 synthetic samples\n",
      "[rep 18] SMOTE added 98 synthetic samples\n",
      "[rep 18] SMOTE added 101 synthetic samples\n",
      "[rep 19] SMOTE added 87 synthetic samples\n",
      "[rep 19] SMOTE added 78 synthetic samples\n",
      "[rep 19] SMOTE added 71 synthetic samples\n",
      "[rep 19] SMOTE added 70 synthetic samples\n",
      "[rep 19] SMOTE added 101 synthetic samples\n",
      "[rep 19] SMOTE added 91 synthetic samples\n",
      "[rep 19] SMOTE added 105 synthetic samples\n",
      "[rep 19] SMOTE added 99 synthetic samples\n",
      "[rep 19] SMOTE added 94 synthetic samples\n",
      "[rep 19] SMOTE added 95 synthetic samples\n",
      "[rep 20] SMOTE added 89 synthetic samples\n",
      "[rep 20] SMOTE added 84 synthetic samples\n",
      "[rep 20] SMOTE added 71 synthetic samples\n",
      "[rep 20] SMOTE added 76 synthetic samples\n",
      "[rep 20] SMOTE added 92 synthetic samples\n",
      "[rep 20] SMOTE added 94 synthetic samples\n",
      "[rep 20] SMOTE added 93 synthetic samples\n",
      "[rep 20] SMOTE added 93 synthetic samples\n",
      "[rep 20] SMOTE added 98 synthetic samples\n",
      "[rep 20] SMOTE added 101 synthetic samples\n",
      "[rep 21] SMOTE added 81 synthetic samples\n",
      "[rep 21] SMOTE added 86 synthetic samples\n",
      "[rep 21] SMOTE added 71 synthetic samples\n",
      "[rep 21] SMOTE added 70 synthetic samples\n",
      "[rep 21] SMOTE added 92 synthetic samples\n",
      "[rep 21] SMOTE added 98 synthetic samples\n",
      "[rep 21] SMOTE added 100 synthetic samples\n",
      "[rep 21] SMOTE added 100 synthetic samples\n",
      "[rep 21] SMOTE added 102 synthetic samples\n",
      "[rep 21] SMOTE added 91 synthetic samples\n",
      "[rep 22] SMOTE added 82 synthetic samples\n",
      "[rep 22] SMOTE added 83 synthetic samples\n",
      "[rep 22] SMOTE added 73 synthetic samples\n",
      "[rep 22] SMOTE added 75 synthetic samples\n",
      "[rep 22] SMOTE added 96 synthetic samples\n",
      "[rep 22] SMOTE added 95 synthetic samples\n",
      "[rep 22] SMOTE added 99 synthetic samples\n",
      "[rep 22] SMOTE added 96 synthetic samples\n",
      "[rep 22] SMOTE added 92 synthetic samples\n",
      "[rep 22] SMOTE added 100 synthetic samples\n",
      "[rep 23] SMOTE added 86 synthetic samples\n",
      "[rep 23] SMOTE added 84 synthetic samples\n",
      "[rep 23] SMOTE added 69 synthetic samples\n",
      "[rep 23] SMOTE added 69 synthetic samples\n",
      "[rep 23] SMOTE added 97 synthetic samples\n",
      "[rep 23] SMOTE added 97 synthetic samples\n",
      "[rep 23] SMOTE added 100 synthetic samples\n",
      "[rep 23] SMOTE added 97 synthetic samples\n",
      "[rep 23] SMOTE added 94 synthetic samples\n",
      "[rep 23] SMOTE added 98 synthetic samples\n",
      "[rep 24] SMOTE added 86 synthetic samples\n",
      "[rep 24] SMOTE added 83 synthetic samples\n",
      "[rep 24] SMOTE added 70 synthetic samples\n",
      "[rep 24] SMOTE added 76 synthetic samples\n",
      "[rep 24] SMOTE added 95 synthetic samples\n",
      "[rep 24] SMOTE added 100 synthetic samples\n",
      "[rep 24] SMOTE added 95 synthetic samples\n",
      "[rep 24] SMOTE added 96 synthetic samples\n",
      "[rep 24] SMOTE added 99 synthetic samples\n",
      "[rep 24] SMOTE added 91 synthetic samples\n",
      "[rep 25] SMOTE added 76 synthetic samples\n",
      "[rep 25] SMOTE added 88 synthetic samples\n",
      "[rep 25] SMOTE added 73 synthetic samples\n",
      "[rep 25] SMOTE added 70 synthetic samples\n",
      "[rep 25] SMOTE added 97 synthetic samples\n",
      "[rep 25] SMOTE added 95 synthetic samples\n",
      "[rep 25] SMOTE added 96 synthetic samples\n",
      "[rep 25] SMOTE added 96 synthetic samples\n",
      "[rep 25] SMOTE added 102 synthetic samples\n",
      "[rep 25] SMOTE added 98 synthetic samples\n",
      "[rep 26] SMOTE added 81 synthetic samples\n",
      "[rep 26] SMOTE added 87 synthetic samples\n",
      "[rep 26] SMOTE added 69 synthetic samples\n",
      "[rep 26] SMOTE added 76 synthetic samples\n",
      "[rep 26] SMOTE added 93 synthetic samples\n",
      "[rep 26] SMOTE added 101 synthetic samples\n",
      "[rep 26] SMOTE added 90 synthetic samples\n",
      "[rep 26] SMOTE added 98 synthetic samples\n",
      "[rep 26] SMOTE added 99 synthetic samples\n",
      "[rep 26] SMOTE added 97 synthetic samples\n",
      "[rep 27] SMOTE added 81 synthetic samples\n",
      "[rep 27] SMOTE added 82 synthetic samples\n",
      "[rep 27] SMOTE added 70 synthetic samples\n",
      "[rep 27] SMOTE added 71 synthetic samples\n",
      "[rep 27] SMOTE added 92 synthetic samples\n",
      "[rep 27] SMOTE added 99 synthetic samples\n",
      "[rep 27] SMOTE added 101 synthetic samples\n",
      "[rep 27] SMOTE added 94 synthetic samples\n",
      "[rep 27] SMOTE added 102 synthetic samples\n",
      "[rep 27] SMOTE added 99 synthetic samples\n",
      "[rep 28] SMOTE added 84 synthetic samples\n",
      "[rep 28] SMOTE added 83 synthetic samples\n",
      "[rep 28] SMOTE added 70 synthetic samples\n",
      "[rep 28] SMOTE added 63 synthetic samples\n",
      "[rep 28] SMOTE added 98 synthetic samples\n",
      "[rep 28] SMOTE added 94 synthetic samples\n",
      "[rep 28] SMOTE added 96 synthetic samples\n",
      "[rep 28] SMOTE added 105 synthetic samples\n",
      "[rep 28] SMOTE added 100 synthetic samples\n",
      "[rep 28] SMOTE added 98 synthetic samples\n",
      "[rep 29] SMOTE added 84 synthetic samples\n",
      "[rep 29] SMOTE added 85 synthetic samples\n",
      "[rep 29] SMOTE added 75 synthetic samples\n",
      "[rep 29] SMOTE added 77 synthetic samples\n",
      "[rep 29] SMOTE added 97 synthetic samples\n",
      "[rep 29] SMOTE added 96 synthetic samples\n",
      "[rep 29] SMOTE added 98 synthetic samples\n",
      "[rep 29] SMOTE added 95 synthetic samples\n",
      "[rep 29] SMOTE added 95 synthetic samples\n",
      "[rep 29] SMOTE added 89 synthetic samples\n",
      "\n",
      "===== Fold 1/10 =====\n"
     ]
    },
    {
     "name": "stderr",
     "output_type": "stream",
     "text": [
      "/home/s.dharia-ra/miniconda3/envs/ml/lib/python3.10/site-packages/torch/nn/modules/transformer.py:379: UserWarning: enable_nested_tensor is True, but self.use_nested_tensor is False because encoder_layer.self_attn.num_heads is odd\n",
      "  warnings.warn(\n"
     ]
    },
    {
     "name": "stdout",
     "output_type": "stream",
     "text": [
      "Final training label acc: 83.45%\n",
      "[Threshold 0.2] -> F1=0.8103 | Acc=0.8108\n",
      "[Threshold 0.3] -> F1=0.8377 | Acc=0.8378\n",
      "[Threshold 0.4] -> F1=0.8645 | Acc=0.8649\n",
      "[Threshold 0.5] -> F1=0.8912 | Acc=0.8919\n",
      "\n",
      "[Best Threshold] = 0.5 with F1=0.8912\n",
      "Final validation loss: 0.8513\n",
      "Final validation acc: 80.00%\n",
      "Final validation f1: 0.80%\n",
      "\n",
      "===== Fold 2/10 =====\n"
     ]
    },
    {
     "name": "stderr",
     "output_type": "stream",
     "text": [
      "/home/s.dharia-ra/miniconda3/envs/ml/lib/python3.10/site-packages/torch/nn/modules/transformer.py:379: UserWarning: enable_nested_tensor is True, but self.use_nested_tensor is False because encoder_layer.self_attn.num_heads is odd\n",
      "  warnings.warn(\n"
     ]
    },
    {
     "name": "stdout",
     "output_type": "stream",
     "text": [
      "Final training label acc: 83.87%\n",
      "[Threshold 0.2] -> F1=0.7539 | Acc=0.7568\n",
      "[Threshold 0.3] -> F1=0.8377 | Acc=0.8378\n",
      "[Threshold 0.4] -> F1=0.8645 | Acc=0.8649\n",
      "[Threshold 0.5] -> F1=0.9180 | Acc=0.9189\n",
      "\n",
      "[Best Threshold] = 0.5 with F1=0.9180\n",
      "Final validation loss: 1.3248\n",
      "Final validation acc: 60.00%\n",
      "Final validation f1: 0.58%\n",
      "\n",
      "===== Fold 3/10 =====\n"
     ]
    },
    {
     "name": "stderr",
     "output_type": "stream",
     "text": [
      "/home/s.dharia-ra/miniconda3/envs/ml/lib/python3.10/site-packages/torch/nn/modules/transformer.py:379: UserWarning: enable_nested_tensor is True, but self.use_nested_tensor is False because encoder_layer.self_attn.num_heads is odd\n",
      "  warnings.warn(\n"
     ]
    },
    {
     "name": "stdout",
     "output_type": "stream",
     "text": [
      "Final training label acc: 81.85%\n",
      "[Threshold 0.2] -> F1=0.8421 | Acc=0.8421\n",
      "[Threshold 0.3] -> F1=0.8683 | Acc=0.8684\n",
      "[Threshold 0.4] -> F1=0.9468 | Acc=0.9474\n",
      "[Threshold 0.5] -> F1=0.9468 | Acc=0.9474\n",
      "\n",
      "[Best Threshold] = 0.4 with F1=0.9468\n",
      "Final validation loss: 0.4104\n",
      "Final validation acc: 75.00%\n",
      "Final validation f1: 0.73%\n",
      "\n",
      "===== Fold 4/10 =====\n"
     ]
    },
    {
     "name": "stderr",
     "output_type": "stream",
     "text": [
      "/home/s.dharia-ra/miniconda3/envs/ml/lib/python3.10/site-packages/torch/nn/modules/transformer.py:379: UserWarning: enable_nested_tensor is True, but self.use_nested_tensor is False because encoder_layer.self_attn.num_heads is odd\n",
      "  warnings.warn(\n"
     ]
    },
    {
     "name": "stdout",
     "output_type": "stream",
     "text": [
      "Final training label acc: 78.70%\n",
      "[Threshold 0.2] -> F1=0.8421 | Acc=0.8421\n",
      "[Threshold 0.3] -> F1=0.8944 | Acc=0.8947\n",
      "[Threshold 0.4] -> F1=0.9206 | Acc=0.9211\n",
      "[Threshold 0.5] -> F1=0.9468 | Acc=0.9474\n",
      "\n",
      "[Best Threshold] = 0.5 with F1=0.9468\n",
      "Final validation loss: 0.4310\n",
      "Final validation acc: 75.00%\n",
      "Final validation f1: 0.73%\n",
      "\n",
      "===== Fold 5/10 =====\n"
     ]
    },
    {
     "name": "stderr",
     "output_type": "stream",
     "text": [
      "/home/s.dharia-ra/miniconda3/envs/ml/lib/python3.10/site-packages/torch/nn/modules/transformer.py:379: UserWarning: enable_nested_tensor is True, but self.use_nested_tensor is False because encoder_layer.self_attn.num_heads is odd\n",
      "  warnings.warn(\n"
     ]
    },
    {
     "name": "stdout",
     "output_type": "stream",
     "text": [
      "Final training label acc: 82.47%\n",
      "[Threshold 0.2] -> F1=0.8157 | Acc=0.8158\n",
      "[Threshold 0.3] -> F1=0.8936 | Acc=0.8947\n",
      "[Threshold 0.4] -> F1=0.9197 | Acc=0.9211\n",
      "[Threshold 0.5] -> F1=0.9460 | Acc=0.9474\n",
      "\n",
      "[Best Threshold] = 0.5 with F1=0.9460\n",
      "Final validation loss: 0.7865\n",
      "Final validation acc: 75.00%\n",
      "Final validation f1: 0.73%\n",
      "\n",
      "===== Fold 6/10 =====\n"
     ]
    },
    {
     "name": "stderr",
     "output_type": "stream",
     "text": [
      "/home/s.dharia-ra/miniconda3/envs/ml/lib/python3.10/site-packages/torch/nn/modules/transformer.py:379: UserWarning: enable_nested_tensor is True, but self.use_nested_tensor is False because encoder_layer.self_attn.num_heads is odd\n",
      "  warnings.warn(\n"
     ]
    },
    {
     "name": "stdout",
     "output_type": "stream",
     "text": [
      "Final training label acc: 79.83%\n",
      "[Threshold 0.2] -> F1=0.7630 | Acc=0.7632\n",
      "[Threshold 0.3] -> F1=0.8676 | Acc=0.8684\n",
      "[Threshold 0.4] -> F1=0.9197 | Acc=0.9211\n",
      "[Threshold 0.5] -> F1=0.9197 | Acc=0.9211\n",
      "\n",
      "[Best Threshold] = 0.4 with F1=0.9197\n",
      "Final validation loss: 0.3559\n",
      "Final validation acc: 75.00%\n",
      "Final validation f1: 0.73%\n",
      "\n",
      "===== Fold 7/10 =====\n"
     ]
    },
    {
     "name": "stderr",
     "output_type": "stream",
     "text": [
      "/home/s.dharia-ra/miniconda3/envs/ml/lib/python3.10/site-packages/torch/nn/modules/transformer.py:379: UserWarning: enable_nested_tensor is True, but self.use_nested_tensor is False because encoder_layer.self_attn.num_heads is odd\n",
      "  warnings.warn(\n"
     ]
    },
    {
     "name": "stdout",
     "output_type": "stream",
     "text": [
      "Final training label acc: 83.39%\n",
      "[Threshold 0.2] -> F1=0.8417 | Acc=0.8421\n",
      "[Threshold 0.3] -> F1=0.8936 | Acc=0.8947\n",
      "[Threshold 0.4] -> F1=0.9197 | Acc=0.9211\n",
      "[Threshold 0.5] -> F1=0.9460 | Acc=0.9474\n",
      "\n",
      "[Best Threshold] = 0.5 with F1=0.9460\n",
      "Final validation loss: 0.7466\n",
      "Final validation acc: 75.00%\n",
      "Final validation f1: 0.73%\n",
      "\n",
      "===== Fold 8/10 =====\n"
     ]
    },
    {
     "name": "stderr",
     "output_type": "stream",
     "text": [
      "/home/s.dharia-ra/miniconda3/envs/ml/lib/python3.10/site-packages/torch/nn/modules/transformer.py:379: UserWarning: enable_nested_tensor is True, but self.use_nested_tensor is False because encoder_layer.self_attn.num_heads is odd\n",
      "  warnings.warn(\n"
     ]
    },
    {
     "name": "stdout",
     "output_type": "stream",
     "text": [
      "Final training label acc: 89.93%\n",
      "[Threshold 0.2] -> F1=0.8944 | Acc=0.8947\n",
      "[Threshold 0.3] -> F1=0.8944 | Acc=0.8947\n",
      "[Threshold 0.4] -> F1=1.0000 | Acc=1.0000\n",
      "[Threshold 0.5] -> F1=1.0000 | Acc=1.0000\n",
      "\n",
      "[Best Threshold] = 0.4 with F1=1.0000\n",
      "Final validation loss: 3.4967\n",
      "Final validation acc: 25.00%\n",
      "Final validation f1: 0.20%\n",
      "\n",
      "===== Fold 9/10 =====\n"
     ]
    },
    {
     "name": "stderr",
     "output_type": "stream",
     "text": [
      "/home/s.dharia-ra/miniconda3/envs/ml/lib/python3.10/site-packages/torch/nn/modules/transformer.py:379: UserWarning: enable_nested_tensor is True, but self.use_nested_tensor is False because encoder_layer.self_attn.num_heads is odd\n",
      "  warnings.warn(\n"
     ]
    },
    {
     "name": "stdout",
     "output_type": "stream",
     "text": [
      "Final training label acc: 81.91%\n",
      "[Threshold 0.2] -> F1=0.7617 | Acc=0.7632\n",
      "[Threshold 0.3] -> F1=0.8683 | Acc=0.8684\n",
      "[Threshold 0.4] -> F1=0.8676 | Acc=0.8684\n",
      "[Threshold 0.5] -> F1=0.8676 | Acc=0.8684\n",
      "\n",
      "[Best Threshold] = 0.3 with F1=0.8683\n",
      "Final validation loss: 0.5081\n",
      "Final validation acc: 50.00%\n",
      "Final validation f1: 0.33%\n",
      "\n",
      "===== Fold 10/10 =====\n"
     ]
    },
    {
     "name": "stderr",
     "output_type": "stream",
     "text": [
      "/home/s.dharia-ra/miniconda3/envs/ml/lib/python3.10/site-packages/torch/nn/modules/transformer.py:379: UserWarning: enable_nested_tensor is True, but self.use_nested_tensor is False because encoder_layer.self_attn.num_heads is odd\n",
      "  warnings.warn(\n"
     ]
    },
    {
     "name": "stdout",
     "output_type": "stream",
     "text": [
      "Final training label acc: 81.44%\n",
      "[Threshold 0.2] -> F1=0.8676 | Acc=0.8684\n",
      "[Threshold 0.3] -> F1=0.8676 | Acc=0.8684\n",
      "[Threshold 0.4] -> F1=0.9728 | Acc=0.9737\n",
      "[Threshold 0.5] -> F1=0.9728 | Acc=0.9737\n",
      "\n",
      "[Best Threshold] = 0.4 with F1=0.9728\n",
      "Final validation loss: 1.2342\n",
      "Final validation acc: 75.00%\n",
      "Final validation f1: 0.73%\n",
      "\n",
      "=== Cross‐Val Results ===\n",
      "Accuracies per fold: [80.0, 60.0, 75.0, 75.0, 75.0, 75.0, 75.0, 25.0, 50.0, 75.0]\n",
      "Mean acc: 66.50%, Std: 16.29%\n",
      "Mean f1: 0.63%, Std: 0.19%\n",
      "\n",
      "===== Fold 1/10 =====\n"
     ]
    },
    {
     "name": "stderr",
     "output_type": "stream",
     "text": [
      "/home/s.dharia-ra/miniconda3/envs/ml/lib/python3.10/site-packages/torch/nn/modules/transformer.py:379: UserWarning: enable_nested_tensor is True, but self.use_nested_tensor is False because encoder_layer.self_attn.num_heads is odd\n",
      "  warnings.warn(\n"
     ]
    },
    {
     "name": "stdout",
     "output_type": "stream",
     "text": [
      "Final training label acc: 83.51%\n",
      "[Threshold 0.2] -> F1=0.8649 | Acc=0.8649\n",
      "[Threshold 0.3] -> F1=0.8918 | Acc=0.8919\n",
      "[Threshold 0.4] -> F1=0.9180 | Acc=0.9189\n",
      "[Threshold 0.5] -> F1=0.9449 | Acc=0.9459\n",
      "\n",
      "[Best Threshold] = 0.5 with F1=0.9449\n",
      "Final validation loss: 1.0323\n",
      "Final validation acc: 60.00%\n",
      "Final validation f1: 0.58%\n",
      "\n",
      "===== Fold 2/10 =====\n"
     ]
    },
    {
     "name": "stderr",
     "output_type": "stream",
     "text": [
      "/home/s.dharia-ra/miniconda3/envs/ml/lib/python3.10/site-packages/torch/nn/modules/transformer.py:379: UserWarning: enable_nested_tensor is True, but self.use_nested_tensor is False because encoder_layer.self_attn.num_heads is odd\n",
      "  warnings.warn(\n"
     ]
    },
    {
     "name": "stdout",
     "output_type": "stream",
     "text": [
      "Final training label acc: 83.39%\n",
      "[Threshold 0.2] -> F1=0.6947 | Acc=0.7027\n",
      "[Threshold 0.3] -> F1=0.8377 | Acc=0.8378\n",
      "[Threshold 0.4] -> F1=0.8649 | Acc=0.8649\n",
      "[Threshold 0.5] -> F1=0.9187 | Acc=0.9189\n",
      "\n",
      "[Best Threshold] = 0.5 with F1=0.9187\n",
      "Final validation loss: 0.6408\n",
      "Final validation acc: 40.00%\n",
      "Final validation f1: 0.40%\n",
      "\n",
      "===== Fold 3/10 =====\n"
     ]
    },
    {
     "name": "stderr",
     "output_type": "stream",
     "text": [
      "/home/s.dharia-ra/miniconda3/envs/ml/lib/python3.10/site-packages/torch/nn/modules/transformer.py:379: UserWarning: enable_nested_tensor is True, but self.use_nested_tensor is False because encoder_layer.self_attn.num_heads is odd\n",
      "  warnings.warn(\n"
     ]
    },
    {
     "name": "stdout",
     "output_type": "stream",
     "text": [
      "Final training label acc: 80.82%\n",
      "[Threshold 0.2] -> F1=0.8146 | Acc=0.8158\n",
      "[Threshold 0.3] -> F1=0.8417 | Acc=0.8421\n",
      "[Threshold 0.4] -> F1=0.8421 | Acc=0.8421\n",
      "[Threshold 0.5] -> F1=0.9206 | Acc=0.9211\n",
      "\n",
      "[Best Threshold] = 0.5 with F1=0.9206\n",
      "Final validation loss: 0.2875\n",
      "Final validation acc: 100.00%\n",
      "Final validation f1: 1.00%\n",
      "\n",
      "===== Fold 4/10 =====\n"
     ]
    },
    {
     "name": "stderr",
     "output_type": "stream",
     "text": [
      "/home/s.dharia-ra/miniconda3/envs/ml/lib/python3.10/site-packages/torch/nn/modules/transformer.py:379: UserWarning: enable_nested_tensor is True, but self.use_nested_tensor is False because encoder_layer.self_attn.num_heads is odd\n",
      "  warnings.warn(\n"
     ]
    },
    {
     "name": "stdout",
     "output_type": "stream",
     "text": [
      "Final training label acc: 81.82%\n",
      "[Threshold 0.2] -> F1=0.7301 | Acc=0.7368\n",
      "[Threshold 0.3] -> F1=0.7301 | Acc=0.7368\n",
      "[Threshold 0.4] -> F1=0.7590 | Acc=0.7632\n",
      "[Threshold 0.5] -> F1=0.7617 | Acc=0.7632\n",
      "\n",
      "[Best Threshold] = 0.5 with F1=0.7617\n",
      "Final validation loss: 0.9684\n",
      "Final validation acc: 75.00%\n",
      "Final validation f1: 0.73%\n",
      "\n",
      "===== Fold 5/10 =====\n"
     ]
    },
    {
     "name": "stderr",
     "output_type": "stream",
     "text": [
      "/home/s.dharia-ra/miniconda3/envs/ml/lib/python3.10/site-packages/torch/nn/modules/transformer.py:379: UserWarning: enable_nested_tensor is True, but self.use_nested_tensor is False because encoder_layer.self_attn.num_heads is odd\n",
      "  warnings.warn(\n"
     ]
    },
    {
     "name": "stdout",
     "output_type": "stream",
     "text": [
      "Final training label acc: 80.97%\n",
      "[Threshold 0.2] -> F1=0.7889 | Acc=0.7895\n",
      "[Threshold 0.3] -> F1=0.8157 | Acc=0.8158\n",
      "[Threshold 0.4] -> F1=0.8944 | Acc=0.8947\n",
      "[Threshold 0.5] -> F1=0.8676 | Acc=0.8684\n",
      "\n",
      "[Best Threshold] = 0.4 with F1=0.8944\n",
      "Final validation loss: 1.9574\n",
      "Final validation acc: 50.00%\n",
      "Final validation f1: 0.50%\n",
      "\n",
      "===== Fold 6/10 =====\n"
     ]
    },
    {
     "name": "stderr",
     "output_type": "stream",
     "text": [
      "/home/s.dharia-ra/miniconda3/envs/ml/lib/python3.10/site-packages/torch/nn/modules/transformer.py:379: UserWarning: enable_nested_tensor is True, but self.use_nested_tensor is False because encoder_layer.self_attn.num_heads is odd\n",
      "  warnings.warn(\n"
     ]
    },
    {
     "name": "stdout",
     "output_type": "stream",
     "text": [
      "Final training label acc: 78.77%\n",
      "[Threshold 0.2] -> F1=0.8157 | Acc=0.8158\n",
      "[Threshold 0.3] -> F1=0.8417 | Acc=0.8421\n",
      "[Threshold 0.4] -> F1=0.8936 | Acc=0.8947\n",
      "[Threshold 0.5] -> F1=0.9728 | Acc=0.9737\n",
      "\n",
      "[Best Threshold] = 0.5 with F1=0.9728\n",
      "Final validation loss: 0.6653\n",
      "Final validation acc: 75.00%\n",
      "Final validation f1: 0.73%\n",
      "\n",
      "===== Fold 7/10 =====\n"
     ]
    },
    {
     "name": "stderr",
     "output_type": "stream",
     "text": [
      "/home/s.dharia-ra/miniconda3/envs/ml/lib/python3.10/site-packages/torch/nn/modules/transformer.py:379: UserWarning: enable_nested_tensor is True, but self.use_nested_tensor is False because encoder_layer.self_attn.num_heads is odd\n",
      "  warnings.warn(\n"
     ]
    },
    {
     "name": "stdout",
     "output_type": "stream",
     "text": [
      "Final training label acc: 79.79%\n",
      "[Threshold 0.2] -> F1=0.9468 | Acc=0.9474\n",
      "[Threshold 0.3] -> F1=0.9468 | Acc=0.9474\n",
      "[Threshold 0.4] -> F1=0.8899 | Acc=0.8947\n",
      "[Threshold 0.5] -> F1=0.9164 | Acc=0.9211\n",
      "\n",
      "[Best Threshold] = 0.2 with F1=0.9468\n",
      "Final validation loss: 0.7395\n",
      "Final validation acc: 100.00%\n",
      "Final validation f1: 1.00%\n",
      "\n",
      "===== Fold 8/10 =====\n"
     ]
    },
    {
     "name": "stderr",
     "output_type": "stream",
     "text": [
      "/home/s.dharia-ra/miniconda3/envs/ml/lib/python3.10/site-packages/torch/nn/modules/transformer.py:379: UserWarning: enable_nested_tensor is True, but self.use_nested_tensor is False because encoder_layer.self_attn.num_heads is odd\n",
      "  warnings.warn(\n"
     ]
    },
    {
     "name": "stdout",
     "output_type": "stream",
     "text": [
      "Final training label acc: 83.45%\n",
      "[Threshold 0.2] -> F1=0.8421 | Acc=0.8421\n",
      "[Threshold 0.3] -> F1=0.8683 | Acc=0.8684\n",
      "[Threshold 0.4] -> F1=0.9460 | Acc=0.9474\n",
      "[Threshold 0.5] -> F1=0.9460 | Acc=0.9474\n",
      "\n",
      "[Best Threshold] = 0.4 with F1=0.9460\n",
      "Final validation loss: 1.2210\n",
      "Final validation acc: 50.00%\n",
      "Final validation f1: 0.33%\n",
      "\n",
      "===== Fold 9/10 =====\n"
     ]
    },
    {
     "name": "stderr",
     "output_type": "stream",
     "text": [
      "/home/s.dharia-ra/miniconda3/envs/ml/lib/python3.10/site-packages/torch/nn/modules/transformer.py:379: UserWarning: enable_nested_tensor is True, but self.use_nested_tensor is False because encoder_layer.self_attn.num_heads is odd\n",
      "  warnings.warn(\n"
     ]
    },
    {
     "name": "stdout",
     "output_type": "stream",
     "text": [
      "Final training label acc: 84.98%\n",
      "[Threshold 0.2] -> F1=0.7889 | Acc=0.7895\n",
      "[Threshold 0.3] -> F1=0.8944 | Acc=0.8947\n",
      "[Threshold 0.4] -> F1=0.9468 | Acc=0.9474\n",
      "[Threshold 0.5] -> F1=0.9468 | Acc=0.9474\n",
      "\n",
      "[Best Threshold] = 0.4 with F1=0.9468\n",
      "Final validation loss: 2.4266\n",
      "Final validation acc: 75.00%\n",
      "Final validation f1: 0.73%\n",
      "\n",
      "===== Fold 10/10 =====\n"
     ]
    },
    {
     "name": "stderr",
     "output_type": "stream",
     "text": [
      "/home/s.dharia-ra/miniconda3/envs/ml/lib/python3.10/site-packages/torch/nn/modules/transformer.py:379: UserWarning: enable_nested_tensor is True, but self.use_nested_tensor is False because encoder_layer.self_attn.num_heads is odd\n",
      "  warnings.warn(\n"
     ]
    },
    {
     "name": "stdout",
     "output_type": "stream",
     "text": [
      "Final training label acc: 79.18%\n",
      "[Threshold 0.2] -> F1=0.8417 | Acc=0.8421\n",
      "[Threshold 0.3] -> F1=0.8936 | Acc=0.8947\n",
      "[Threshold 0.4] -> F1=0.9460 | Acc=0.9474\n",
      "[Threshold 0.5] -> F1=0.9728 | Acc=0.9737\n",
      "\n",
      "[Best Threshold] = 0.5 with F1=0.9728\n",
      "Final validation loss: 1.9152\n",
      "Final validation acc: 50.00%\n",
      "Final validation f1: 0.50%\n",
      "\n",
      "=== Cross‐Val Results ===\n",
      "Accuracies per fold: [60.0, 40.0, 100.0, 75.0, 50.0, 75.0, 100.0, 50.0, 75.0, 50.0]\n",
      "Mean acc: 67.50%, Std: 20.03%\n",
      "Mean f1: 0.65%, Std: 0.22%\n",
      "\n",
      "===== Fold 1/10 =====\n"
     ]
    },
    {
     "name": "stderr",
     "output_type": "stream",
     "text": [
      "/home/s.dharia-ra/miniconda3/envs/ml/lib/python3.10/site-packages/torch/nn/modules/transformer.py:379: UserWarning: enable_nested_tensor is True, but self.use_nested_tensor is False because encoder_layer.self_attn.num_heads is odd\n",
      "  warnings.warn(\n"
     ]
    },
    {
     "name": "stdout",
     "output_type": "stream",
     "text": [
      "Final training label acc: 87.99%\n",
      "[Threshold 0.2] -> F1=0.8377 | Acc=0.8378\n",
      "[Threshold 0.3] -> F1=0.9456 | Acc=0.9459\n",
      "[Threshold 0.4] -> F1=0.9727 | Acc=0.9730\n",
      "[Threshold 0.5] -> F1=1.0000 | Acc=1.0000\n",
      "\n",
      "[Best Threshold] = 0.5 with F1=1.0000\n",
      "Final validation loss: 3.0772\n",
      "Final validation acc: 40.00%\n",
      "Final validation f1: 0.29%\n",
      "\n",
      "===== Fold 2/10 =====\n"
     ]
    },
    {
     "name": "stderr",
     "output_type": "stream",
     "text": [
      "/home/s.dharia-ra/miniconda3/envs/ml/lib/python3.10/site-packages/torch/nn/modules/transformer.py:379: UserWarning: enable_nested_tensor is True, but self.use_nested_tensor is False because encoder_layer.self_attn.num_heads is odd\n",
      "  warnings.warn(\n"
     ]
    },
    {
     "name": "stdout",
     "output_type": "stream",
     "text": [
      "Final training label acc: 85.02%\n",
      "[Threshold 0.2] -> F1=0.7560 | Acc=0.7568\n",
      "[Threshold 0.3] -> F1=0.8377 | Acc=0.8378\n",
      "[Threshold 0.4] -> F1=0.8912 | Acc=0.8919\n",
      "[Threshold 0.5] -> F1=0.9180 | Acc=0.9189\n",
      "\n",
      "[Best Threshold] = 0.5 with F1=0.9180\n",
      "Final validation loss: 1.0683\n",
      "Final validation acc: 60.00%\n",
      "Final validation f1: 0.58%\n",
      "\n",
      "===== Fold 3/10 =====\n"
     ]
    },
    {
     "name": "stderr",
     "output_type": "stream",
     "text": [
      "/home/s.dharia-ra/miniconda3/envs/ml/lib/python3.10/site-packages/torch/nn/modules/transformer.py:379: UserWarning: enable_nested_tensor is True, but self.use_nested_tensor is False because encoder_layer.self_attn.num_heads is odd\n",
      "  warnings.warn(\n"
     ]
    },
    {
     "name": "stdout",
     "output_type": "stream",
     "text": [
      "Final training label acc: 85.92%\n",
      "[Threshold 0.2] -> F1=0.8947 | Acc=0.8947\n",
      "[Threshold 0.3] -> F1=0.8944 | Acc=0.8947\n",
      "[Threshold 0.4] -> F1=0.9206 | Acc=0.9211\n",
      "[Threshold 0.5] -> F1=0.9468 | Acc=0.9474\n",
      "\n",
      "[Best Threshold] = 0.5 with F1=0.9468\n",
      "Final validation loss: 1.1284\n",
      "Final validation acc: 75.00%\n",
      "Final validation f1: 0.73%\n",
      "\n",
      "===== Fold 4/10 =====\n"
     ]
    },
    {
     "name": "stderr",
     "output_type": "stream",
     "text": [
      "/home/s.dharia-ra/miniconda3/envs/ml/lib/python3.10/site-packages/torch/nn/modules/transformer.py:379: UserWarning: enable_nested_tensor is True, but self.use_nested_tensor is False because encoder_layer.self_attn.num_heads is odd\n",
      "  warnings.warn(\n"
     ]
    },
    {
     "name": "stdout",
     "output_type": "stream",
     "text": [
      "Final training label acc: 84.64%\n",
      "[Threshold 0.2] -> F1=0.8683 | Acc=0.8684\n",
      "[Threshold 0.3] -> F1=0.9206 | Acc=0.9211\n",
      "[Threshold 0.4] -> F1=0.9468 | Acc=0.9474\n",
      "[Threshold 0.5] -> F1=0.9468 | Acc=0.9474\n",
      "\n",
      "[Best Threshold] = 0.4 with F1=0.9468\n",
      "Final validation loss: 1.7154\n",
      "Final validation acc: 50.00%\n",
      "Final validation f1: 0.50%\n",
      "\n",
      "===== Fold 5/10 =====\n"
     ]
    },
    {
     "name": "stderr",
     "output_type": "stream",
     "text": [
      "/home/s.dharia-ra/miniconda3/envs/ml/lib/python3.10/site-packages/torch/nn/modules/transformer.py:379: UserWarning: enable_nested_tensor is True, but self.use_nested_tensor is False because encoder_layer.self_attn.num_heads is odd\n",
      "  warnings.warn(\n"
     ]
    },
    {
     "name": "stdout",
     "output_type": "stream",
     "text": [
      "Final training label acc: 83.73%\n",
      "[Threshold 0.2] -> F1=0.8683 | Acc=0.8684\n",
      "[Threshold 0.3] -> F1=0.8417 | Acc=0.8421\n",
      "[Threshold 0.4] -> F1=0.8676 | Acc=0.8684\n",
      "[Threshold 0.5] -> F1=0.8936 | Acc=0.8947\n",
      "\n",
      "[Best Threshold] = 0.5 with F1=0.8936\n",
      "Final validation loss: 0.6502\n",
      "Final validation acc: 100.00%\n",
      "Final validation f1: 1.00%\n",
      "\n",
      "===== Fold 6/10 =====\n"
     ]
    },
    {
     "name": "stderr",
     "output_type": "stream",
     "text": [
      "/home/s.dharia-ra/miniconda3/envs/ml/lib/python3.10/site-packages/torch/nn/modules/transformer.py:379: UserWarning: enable_nested_tensor is True, but self.use_nested_tensor is False because encoder_layer.self_attn.num_heads is odd\n",
      "  warnings.warn(\n"
     ]
    },
    {
     "name": "stdout",
     "output_type": "stream",
     "text": [
      "Final training label acc: 79.45%\n",
      "[Threshold 0.2] -> F1=0.8157 | Acc=0.8158\n",
      "[Threshold 0.3] -> F1=0.8683 | Acc=0.8684\n",
      "[Threshold 0.4] -> F1=0.9206 | Acc=0.9211\n",
      "[Threshold 0.5] -> F1=0.8936 | Acc=0.8947\n",
      "\n",
      "[Best Threshold] = 0.4 with F1=0.9206\n",
      "Final validation loss: 0.2121\n",
      "Final validation acc: 100.00%\n",
      "Final validation f1: 1.00%\n",
      "\n",
      "===== Fold 7/10 =====\n"
     ]
    },
    {
     "name": "stderr",
     "output_type": "stream",
     "text": [
      "/home/s.dharia-ra/miniconda3/envs/ml/lib/python3.10/site-packages/torch/nn/modules/transformer.py:379: UserWarning: enable_nested_tensor is True, but self.use_nested_tensor is False because encoder_layer.self_attn.num_heads is odd\n",
      "  warnings.warn(\n"
     ]
    },
    {
     "name": "stdout",
     "output_type": "stream",
     "text": [
      "Final training label acc: 82.88%\n",
      "[Threshold 0.2] -> F1=0.7054 | Acc=0.7105\n",
      "[Threshold 0.3] -> F1=0.7889 | Acc=0.7895\n",
      "[Threshold 0.4] -> F1=0.8421 | Acc=0.8421\n",
      "[Threshold 0.5] -> F1=0.8944 | Acc=0.8947\n",
      "\n",
      "[Best Threshold] = 0.5 with F1=0.8944\n",
      "Final validation loss: 0.6785\n",
      "Final validation acc: 75.00%\n",
      "Final validation f1: 0.73%\n",
      "\n",
      "===== Fold 8/10 =====\n"
     ]
    },
    {
     "name": "stderr",
     "output_type": "stream",
     "text": [
      "/home/s.dharia-ra/miniconda3/envs/ml/lib/python3.10/site-packages/torch/nn/modules/transformer.py:379: UserWarning: enable_nested_tensor is True, but self.use_nested_tensor is False because encoder_layer.self_attn.num_heads is odd\n",
      "  warnings.warn(\n"
     ]
    },
    {
     "name": "stdout",
     "output_type": "stream",
     "text": [
      "Final training label acc: 83.45%\n",
      "[Threshold 0.2] -> F1=0.8936 | Acc=0.8947\n",
      "[Threshold 0.3] -> F1=0.9197 | Acc=0.9211\n",
      "[Threshold 0.4] -> F1=0.9728 | Acc=0.9737\n",
      "[Threshold 0.5] -> F1=0.9728 | Acc=0.9737\n",
      "\n",
      "[Best Threshold] = 0.4 with F1=0.9728\n",
      "Final validation loss: 0.6660\n",
      "Final validation acc: 75.00%\n",
      "Final validation f1: 0.73%\n",
      "\n",
      "===== Fold 9/10 =====\n"
     ]
    },
    {
     "name": "stderr",
     "output_type": "stream",
     "text": [
      "/home/s.dharia-ra/miniconda3/envs/ml/lib/python3.10/site-packages/torch/nn/modules/transformer.py:379: UserWarning: enable_nested_tensor is True, but self.use_nested_tensor is False because encoder_layer.self_attn.num_heads is odd\n",
      "  warnings.warn(\n"
     ]
    },
    {
     "name": "stdout",
     "output_type": "stream",
     "text": [
      "Final training label acc: 80.52%\n",
      "[Threshold 0.2] -> F1=0.6761 | Acc=0.6842\n",
      "[Threshold 0.3] -> F1=0.8157 | Acc=0.8158\n",
      "[Threshold 0.4] -> F1=0.8417 | Acc=0.8421\n",
      "[Threshold 0.5] -> F1=0.9197 | Acc=0.9211\n",
      "\n",
      "[Best Threshold] = 0.5 with F1=0.9197\n",
      "Final validation loss: 0.3639\n",
      "Final validation acc: 100.00%\n",
      "Final validation f1: 1.00%\n",
      "\n",
      "===== Fold 10/10 =====\n"
     ]
    },
    {
     "name": "stderr",
     "output_type": "stream",
     "text": [
      "/home/s.dharia-ra/miniconda3/envs/ml/lib/python3.10/site-packages/torch/nn/modules/transformer.py:379: UserWarning: enable_nested_tensor is True, but self.use_nested_tensor is False because encoder_layer.self_attn.num_heads is odd\n",
      "  warnings.warn(\n"
     ]
    },
    {
     "name": "stdout",
     "output_type": "stream",
     "text": [
      "Final training label acc: 82.93%\n",
      "[Threshold 0.2] -> F1=0.8417 | Acc=0.8421\n",
      "[Threshold 0.3] -> F1=0.8676 | Acc=0.8684\n",
      "[Threshold 0.4] -> F1=0.8936 | Acc=0.8947\n",
      "[Threshold 0.5] -> F1=0.9197 | Acc=0.9211\n",
      "\n",
      "[Best Threshold] = 0.5 with F1=0.9197\n",
      "Final validation loss: 1.2213\n",
      "Final validation acc: 75.00%\n",
      "Final validation f1: 0.73%\n",
      "\n",
      "=== Cross‐Val Results ===\n",
      "Accuracies per fold: [40.0, 60.0, 75.0, 50.0, 100.0, 100.0, 75.0, 75.0, 100.0, 75.0]\n",
      "Mean acc: 75.00%, Std: 19.87%\n",
      "Mean f1: 0.73%, Std: 0.22%\n",
      "\n",
      "===== Fold 1/10 =====\n"
     ]
    },
    {
     "name": "stderr",
     "output_type": "stream",
     "text": [
      "/home/s.dharia-ra/miniconda3/envs/ml/lib/python3.10/site-packages/torch/nn/modules/transformer.py:379: UserWarning: enable_nested_tensor is True, but self.use_nested_tensor is False because encoder_layer.self_attn.num_heads is odd\n",
      "  warnings.warn(\n"
     ]
    },
    {
     "name": "stdout",
     "output_type": "stream",
     "text": [
      "Final training label acc: 77.82%\n",
      "[Threshold 0.2] -> F1=0.8377 | Acc=0.8378\n",
      "[Threshold 0.3] -> F1=0.9180 | Acc=0.9189\n",
      "[Threshold 0.4] -> F1=0.9449 | Acc=0.9459\n",
      "[Threshold 0.5] -> F1=0.9449 | Acc=0.9459\n",
      "\n",
      "[Best Threshold] = 0.4 with F1=0.9449\n",
      "Final validation loss: 0.2096\n",
      "Final validation acc: 100.00%\n",
      "Final validation f1: 1.00%\n",
      "\n",
      "===== Fold 2/10 =====\n"
     ]
    },
    {
     "name": "stderr",
     "output_type": "stream",
     "text": [
      "/home/s.dharia-ra/miniconda3/envs/ml/lib/python3.10/site-packages/torch/nn/modules/transformer.py:379: UserWarning: enable_nested_tensor is True, but self.use_nested_tensor is False because encoder_layer.self_attn.num_heads is odd\n",
      "  warnings.warn(\n"
     ]
    },
    {
     "name": "stdout",
     "output_type": "stream",
     "text": [
      "Final training label acc: 80.11%\n",
      "[Threshold 0.2] -> F1=0.8645 | Acc=0.8649\n",
      "[Threshold 0.3] -> F1=0.9180 | Acc=0.9189\n",
      "[Threshold 0.4] -> F1=0.9167 | Acc=0.9189\n",
      "[Threshold 0.5] -> F1=0.9167 | Acc=0.9189\n",
      "\n",
      "[Best Threshold] = 0.3 with F1=0.9180\n",
      "Final validation loss: 0.3850\n",
      "Final validation acc: 100.00%\n",
      "Final validation f1: 1.00%\n",
      "\n",
      "===== Fold 3/10 =====\n"
     ]
    },
    {
     "name": "stderr",
     "output_type": "stream",
     "text": [
      "/home/s.dharia-ra/miniconda3/envs/ml/lib/python3.10/site-packages/torch/nn/modules/transformer.py:379: UserWarning: enable_nested_tensor is True, but self.use_nested_tensor is False because encoder_layer.self_attn.num_heads is odd\n",
      "  warnings.warn(\n"
     ]
    },
    {
     "name": "stdout",
     "output_type": "stream",
     "text": [
      "Final training label acc: 81.90%\n",
      "[Threshold 0.2] -> F1=0.8417 | Acc=0.8421\n",
      "[Threshold 0.3] -> F1=0.9210 | Acc=0.9211\n",
      "[Threshold 0.4] -> F1=0.9210 | Acc=0.9211\n",
      "[Threshold 0.5] -> F1=0.9472 | Acc=0.9474\n",
      "\n",
      "[Best Threshold] = 0.5 with F1=0.9472\n",
      "Final validation loss: 0.6860\n",
      "Final validation acc: 50.00%\n",
      "Final validation f1: 0.50%\n",
      "\n",
      "===== Fold 4/10 =====\n"
     ]
    },
    {
     "name": "stderr",
     "output_type": "stream",
     "text": [
      "/home/s.dharia-ra/miniconda3/envs/ml/lib/python3.10/site-packages/torch/nn/modules/transformer.py:379: UserWarning: enable_nested_tensor is True, but self.use_nested_tensor is False because encoder_layer.self_attn.num_heads is odd\n",
      "  warnings.warn(\n"
     ]
    },
    {
     "name": "stdout",
     "output_type": "stream",
     "text": [
      "Final training label acc: 85.30%\n",
      "[Threshold 0.2] -> F1=0.7590 | Acc=0.7632\n",
      "[Threshold 0.3] -> F1=0.7871 | Acc=0.7895\n",
      "[Threshold 0.4] -> F1=0.8417 | Acc=0.8421\n",
      "[Threshold 0.5] -> F1=0.8947 | Acc=0.8947\n",
      "\n",
      "[Best Threshold] = 0.5 with F1=0.8947\n",
      "Final validation loss: 2.2494\n",
      "Final validation acc: 25.00%\n",
      "Final validation f1: 0.20%\n",
      "\n",
      "===== Fold 5/10 =====\n"
     ]
    },
    {
     "name": "stderr",
     "output_type": "stream",
     "text": [
      "/home/s.dharia-ra/miniconda3/envs/ml/lib/python3.10/site-packages/torch/nn/modules/transformer.py:379: UserWarning: enable_nested_tensor is True, but self.use_nested_tensor is False because encoder_layer.self_attn.num_heads is odd\n",
      "  warnings.warn(\n"
     ]
    },
    {
     "name": "stdout",
     "output_type": "stream",
     "text": [
      "Final training label acc: 82.59%\n",
      "[Threshold 0.2] -> F1=0.7889 | Acc=0.7895\n",
      "[Threshold 0.3] -> F1=0.7895 | Acc=0.7895\n",
      "[Threshold 0.4] -> F1=0.8417 | Acc=0.8421\n",
      "[Threshold 0.5] -> F1=0.9728 | Acc=0.9737\n",
      "\n",
      "[Best Threshold] = 0.5 with F1=0.9728\n",
      "Final validation loss: 0.8912\n",
      "Final validation acc: 25.00%\n",
      "Final validation f1: 0.20%\n",
      "\n",
      "===== Fold 6/10 =====\n"
     ]
    },
    {
     "name": "stderr",
     "output_type": "stream",
     "text": [
      "/home/s.dharia-ra/miniconda3/envs/ml/lib/python3.10/site-packages/torch/nn/modules/transformer.py:379: UserWarning: enable_nested_tensor is True, but self.use_nested_tensor is False because encoder_layer.self_attn.num_heads is odd\n",
      "  warnings.warn(\n"
     ]
    },
    {
     "name": "stdout",
     "output_type": "stream",
     "text": [
      "Final training label acc: 81.34%\n",
      "[Threshold 0.2] -> F1=0.8421 | Acc=0.8421\n",
      "[Threshold 0.3] -> F1=0.8944 | Acc=0.8947\n",
      "[Threshold 0.4] -> F1=0.9197 | Acc=0.9211\n",
      "[Threshold 0.5] -> F1=0.9197 | Acc=0.9211\n",
      "\n",
      "[Best Threshold] = 0.4 with F1=0.9197\n",
      "Final validation loss: 0.3897\n",
      "Final validation acc: 100.00%\n",
      "Final validation f1: 1.00%\n",
      "\n",
      "===== Fold 7/10 =====\n"
     ]
    },
    {
     "name": "stderr",
     "output_type": "stream",
     "text": [
      "/home/s.dharia-ra/miniconda3/envs/ml/lib/python3.10/site-packages/torch/nn/modules/transformer.py:379: UserWarning: enable_nested_tensor is True, but self.use_nested_tensor is False because encoder_layer.self_attn.num_heads is odd\n",
      "  warnings.warn(\n"
     ]
    },
    {
     "name": "stdout",
     "output_type": "stream",
     "text": [
      "Final training label acc: 84.19%\n",
      "[Threshold 0.2] -> F1=0.6761 | Acc=0.6842\n",
      "[Threshold 0.3] -> F1=0.7617 | Acc=0.7632\n",
      "[Threshold 0.4] -> F1=0.8421 | Acc=0.8421\n",
      "[Threshold 0.5] -> F1=0.8683 | Acc=0.8684\n",
      "\n",
      "[Best Threshold] = 0.5 with F1=0.8683\n",
      "Final validation loss: 1.8817\n",
      "Final validation acc: 75.00%\n",
      "Final validation f1: 0.73%\n",
      "\n",
      "===== Fold 8/10 =====\n"
     ]
    },
    {
     "name": "stderr",
     "output_type": "stream",
     "text": [
      "/home/s.dharia-ra/miniconda3/envs/ml/lib/python3.10/site-packages/torch/nn/modules/transformer.py:379: UserWarning: enable_nested_tensor is True, but self.use_nested_tensor is False because encoder_layer.self_attn.num_heads is odd\n",
      "  warnings.warn(\n"
     ]
    },
    {
     "name": "stdout",
     "output_type": "stream",
     "text": [
      "Final training label acc: 87.33%\n",
      "[Threshold 0.2] -> F1=0.9460 | Acc=0.9474\n",
      "[Threshold 0.3] -> F1=0.9728 | Acc=0.9737\n",
      "[Threshold 0.4] -> F1=0.9728 | Acc=0.9737\n",
      "[Threshold 0.5] -> F1=0.9728 | Acc=0.9737\n",
      "\n",
      "[Best Threshold] = 0.3 with F1=0.9728\n",
      "Final validation loss: 3.2293\n",
      "Final validation acc: 25.00%\n",
      "Final validation f1: 0.20%\n",
      "\n",
      "===== Fold 9/10 =====\n"
     ]
    },
    {
     "name": "stderr",
     "output_type": "stream",
     "text": [
      "/home/s.dharia-ra/miniconda3/envs/ml/lib/python3.10/site-packages/torch/nn/modules/transformer.py:379: UserWarning: enable_nested_tensor is True, but self.use_nested_tensor is False because encoder_layer.self_attn.num_heads is odd\n",
      "  warnings.warn(\n"
     ]
    },
    {
     "name": "stdout",
     "output_type": "stream",
     "text": [
      "Final training label acc: 81.34%\n",
      "[Threshold 0.2] -> F1=0.8417 | Acc=0.8421\n",
      "[Threshold 0.3] -> F1=0.9197 | Acc=0.9211\n",
      "[Threshold 0.4] -> F1=0.9449 | Acc=0.9474\n",
      "[Threshold 0.5] -> F1=0.9449 | Acc=0.9474\n",
      "\n",
      "[Best Threshold] = 0.4 with F1=0.9449\n",
      "Final validation loss: 0.8773\n",
      "Final validation acc: 75.00%\n",
      "Final validation f1: 0.73%\n",
      "\n",
      "===== Fold 10/10 =====\n"
     ]
    },
    {
     "name": "stderr",
     "output_type": "stream",
     "text": [
      "/home/s.dharia-ra/miniconda3/envs/ml/lib/python3.10/site-packages/torch/nn/modules/transformer.py:379: UserWarning: enable_nested_tensor is True, but self.use_nested_tensor is False because encoder_layer.self_attn.num_heads is odd\n",
      "  warnings.warn(\n"
     ]
    },
    {
     "name": "stdout",
     "output_type": "stream",
     "text": [
      "Final training label acc: 84.31%\n",
      "[Threshold 0.2] -> F1=0.8683 | Acc=0.8684\n",
      "[Threshold 0.3] -> F1=0.9206 | Acc=0.9211\n",
      "[Threshold 0.4] -> F1=0.9468 | Acc=0.9474\n",
      "[Threshold 0.5] -> F1=0.9732 | Acc=0.9737\n",
      "\n",
      "[Best Threshold] = 0.5 with F1=0.9732\n",
      "Final validation loss: 1.5331\n",
      "Final validation acc: 50.00%\n",
      "Final validation f1: 0.50%\n",
      "\n",
      "=== Cross‐Val Results ===\n",
      "Accuracies per fold: [100.0, 100.0, 50.0, 25.0, 25.0, 100.0, 75.0, 25.0, 75.0, 50.0]\n",
      "Mean acc: 62.50%, Std: 30.10%\n",
      "Mean f1: 0.61%, Std: 0.32%\n",
      "\n",
      "===== Fold 1/10 =====\n"
     ]
    },
    {
     "name": "stderr",
     "output_type": "stream",
     "text": [
      "/home/s.dharia-ra/miniconda3/envs/ml/lib/python3.10/site-packages/torch/nn/modules/transformer.py:379: UserWarning: enable_nested_tensor is True, but self.use_nested_tensor is False because encoder_layer.self_attn.num_heads is odd\n",
      "  warnings.warn(\n"
     ]
    },
    {
     "name": "stdout",
     "output_type": "stream",
     "text": [
      "Final training label acc: 87.05%\n",
      "[Threshold 0.2] -> F1=0.7247 | Acc=0.7297\n",
      "[Threshold 0.3] -> F1=0.8649 | Acc=0.8649\n",
      "[Threshold 0.4] -> F1=0.8918 | Acc=0.8919\n",
      "[Threshold 0.5] -> F1=0.8918 | Acc=0.8919\n",
      "\n",
      "[Best Threshold] = 0.4 with F1=0.8918\n",
      "Final validation loss: 2.6504\n",
      "Final validation acc: 40.00%\n",
      "Final validation f1: 0.40%\n",
      "\n",
      "===== Fold 2/10 =====\n"
     ]
    },
    {
     "name": "stderr",
     "output_type": "stream",
     "text": [
      "/home/s.dharia-ra/miniconda3/envs/ml/lib/python3.10/site-packages/torch/nn/modules/transformer.py:379: UserWarning: enable_nested_tensor is True, but self.use_nested_tensor is False because encoder_layer.self_attn.num_heads is odd\n",
      "  warnings.warn(\n"
     ]
    },
    {
     "name": "stdout",
     "output_type": "stream",
     "text": [
      "Final training label acc: 79.86%\n",
      "[Threshold 0.2] -> F1=0.8377 | Acc=0.8378\n",
      "[Threshold 0.3] -> F1=0.8912 | Acc=0.8919\n",
      "[Threshold 0.4] -> F1=0.9449 | Acc=0.9459\n",
      "[Threshold 0.5] -> F1=0.9439 | Acc=0.9459\n",
      "\n",
      "[Best Threshold] = 0.4 with F1=0.9449\n",
      "Final validation loss: 0.7216\n",
      "Final validation acc: 60.00%\n",
      "Final validation f1: 0.58%\n",
      "\n",
      "===== Fold 3/10 =====\n"
     ]
    },
    {
     "name": "stderr",
     "output_type": "stream",
     "text": [
      "/home/s.dharia-ra/miniconda3/envs/ml/lib/python3.10/site-packages/torch/nn/modules/transformer.py:379: UserWarning: enable_nested_tensor is True, but self.use_nested_tensor is False because encoder_layer.self_attn.num_heads is odd\n",
      "  warnings.warn(\n"
     ]
    },
    {
     "name": "stdout",
     "output_type": "stream",
     "text": [
      "Final training label acc: 78.99%\n",
      "[Threshold 0.2] -> F1=0.6042 | Acc=0.6316\n",
      "[Threshold 0.3] -> F1=0.6376 | Acc=0.6579\n",
      "[Threshold 0.4] -> F1=0.7004 | Acc=0.7105\n",
      "[Threshold 0.5] -> F1=0.7339 | Acc=0.7368\n",
      "\n",
      "[Best Threshold] = 0.5 with F1=0.7339\n",
      "Final validation loss: 0.5683\n",
      "Final validation acc: 50.00%\n",
      "Final validation f1: 0.50%\n",
      "\n",
      "===== Fold 4/10 =====\n"
     ]
    },
    {
     "name": "stderr",
     "output_type": "stream",
     "text": [
      "/home/s.dharia-ra/miniconda3/envs/ml/lib/python3.10/site-packages/torch/nn/modules/transformer.py:379: UserWarning: enable_nested_tensor is True, but self.use_nested_tensor is False because encoder_layer.self_attn.num_heads is odd\n",
      "  warnings.warn(\n"
     ]
    },
    {
     "name": "stdout",
     "output_type": "stream",
     "text": [
      "Final training label acc: 83.87%\n",
      "[Threshold 0.2] -> F1=0.9206 | Acc=0.9211\n",
      "[Threshold 0.3] -> F1=0.8936 | Acc=0.8947\n",
      "[Threshold 0.4] -> F1=0.8638 | Acc=0.8684\n",
      "[Threshold 0.5] -> F1=0.8899 | Acc=0.8947\n",
      "\n",
      "[Best Threshold] = 0.2 with F1=0.9206\n",
      "Final validation loss: 1.4327\n",
      "Final validation acc: 50.00%\n",
      "Final validation f1: 0.33%\n",
      "\n",
      "===== Fold 5/10 =====\n"
     ]
    },
    {
     "name": "stderr",
     "output_type": "stream",
     "text": [
      "/home/s.dharia-ra/miniconda3/envs/ml/lib/python3.10/site-packages/torch/nn/modules/transformer.py:379: UserWarning: enable_nested_tensor is True, but self.use_nested_tensor is False because encoder_layer.self_attn.num_heads is odd\n",
      "  warnings.warn(\n"
     ]
    },
    {
     "name": "stdout",
     "output_type": "stream",
     "text": [
      "Final training label acc: 82.08%\n",
      "[Threshold 0.2] -> F1=0.8417 | Acc=0.8421\n",
      "[Threshold 0.3] -> F1=0.8661 | Acc=0.8684\n",
      "[Threshold 0.4] -> F1=0.9183 | Acc=0.9211\n",
      "[Threshold 0.5] -> F1=0.9449 | Acc=0.9474\n",
      "\n",
      "[Best Threshold] = 0.5 with F1=0.9449\n",
      "Final validation loss: 0.6979\n",
      "Final validation acc: 75.00%\n",
      "Final validation f1: 0.73%\n",
      "\n",
      "===== Fold 6/10 =====\n"
     ]
    },
    {
     "name": "stderr",
     "output_type": "stream",
     "text": [
      "/home/s.dharia-ra/miniconda3/envs/ml/lib/python3.10/site-packages/torch/nn/modules/transformer.py:379: UserWarning: enable_nested_tensor is True, but self.use_nested_tensor is False because encoder_layer.self_attn.num_heads is odd\n",
      "  warnings.warn(\n"
     ]
    },
    {
     "name": "stdout",
     "output_type": "stream",
     "text": [
      "Final training label acc: 84.71%\n",
      "[Threshold 0.2] -> F1=0.7617 | Acc=0.7632\n",
      "[Threshold 0.3] -> F1=0.8421 | Acc=0.8421\n",
      "[Threshold 0.4] -> F1=0.8944 | Acc=0.8947\n",
      "[Threshold 0.5] -> F1=0.9206 | Acc=0.9211\n",
      "\n",
      "[Best Threshold] = 0.5 with F1=0.9206\n",
      "Final validation loss: 2.3978\n",
      "Final validation acc: 25.00%\n",
      "Final validation f1: 0.20%\n",
      "\n",
      "===== Fold 7/10 =====\n"
     ]
    },
    {
     "name": "stderr",
     "output_type": "stream",
     "text": [
      "/home/s.dharia-ra/miniconda3/envs/ml/lib/python3.10/site-packages/torch/nn/modules/transformer.py:379: UserWarning: enable_nested_tensor is True, but self.use_nested_tensor is False because encoder_layer.self_attn.num_heads is odd\n",
      "  warnings.warn(\n"
     ]
    },
    {
     "name": "stdout",
     "output_type": "stream",
     "text": [
      "Final training label acc: 82.53%\n",
      "[Threshold 0.2] -> F1=0.7895 | Acc=0.7895\n",
      "[Threshold 0.3] -> F1=0.8676 | Acc=0.8684\n",
      "[Threshold 0.4] -> F1=0.8936 | Acc=0.8947\n",
      "[Threshold 0.5] -> F1=0.9197 | Acc=0.9211\n",
      "\n",
      "[Best Threshold] = 0.5 with F1=0.9197\n",
      "Final validation loss: 0.5241\n",
      "Final validation acc: 75.00%\n",
      "Final validation f1: 0.73%\n",
      "\n",
      "===== Fold 8/10 =====\n"
     ]
    },
    {
     "name": "stderr",
     "output_type": "stream",
     "text": [
      "/home/s.dharia-ra/miniconda3/envs/ml/lib/python3.10/site-packages/torch/nn/modules/transformer.py:379: UserWarning: enable_nested_tensor is True, but self.use_nested_tensor is False because encoder_layer.self_attn.num_heads is odd\n",
      "  warnings.warn(\n"
     ]
    },
    {
     "name": "stdout",
     "output_type": "stream",
     "text": [
      "Final training label acc: 80.10%\n",
      "[Threshold 0.2] -> F1=0.8417 | Acc=0.8421\n",
      "[Threshold 0.3] -> F1=0.8936 | Acc=0.8947\n",
      "[Threshold 0.4] -> F1=0.8638 | Acc=0.8684\n",
      "[Threshold 0.5] -> F1=0.8348 | Acc=0.8421\n",
      "\n",
      "[Best Threshold] = 0.3 with F1=0.8936\n",
      "Final validation loss: 0.9074\n",
      "Final validation acc: 75.00%\n",
      "Final validation f1: 0.73%\n",
      "\n",
      "===== Fold 9/10 =====\n"
     ]
    },
    {
     "name": "stderr",
     "output_type": "stream",
     "text": [
      "/home/s.dharia-ra/miniconda3/envs/ml/lib/python3.10/site-packages/torch/nn/modules/transformer.py:379: UserWarning: enable_nested_tensor is True, but self.use_nested_tensor is False because encoder_layer.self_attn.num_heads is odd\n",
      "  warnings.warn(\n"
     ]
    },
    {
     "name": "stdout",
     "output_type": "stream",
     "text": [
      "Final training label acc: 82.71%\n",
      "[Threshold 0.2] -> F1=0.8157 | Acc=0.8158\n",
      "[Threshold 0.3] -> F1=0.8683 | Acc=0.8684\n",
      "[Threshold 0.4] -> F1=0.9206 | Acc=0.9211\n",
      "[Threshold 0.5] -> F1=0.9197 | Acc=0.9211\n",
      "\n",
      "[Best Threshold] = 0.4 with F1=0.9206\n",
      "Final validation loss: 1.2671\n",
      "Final validation acc: 50.00%\n",
      "Final validation f1: 0.33%\n",
      "\n",
      "===== Fold 10/10 =====\n"
     ]
    },
    {
     "name": "stderr",
     "output_type": "stream",
     "text": [
      "/home/s.dharia-ra/miniconda3/envs/ml/lib/python3.10/site-packages/torch/nn/modules/transformer.py:379: UserWarning: enable_nested_tensor is True, but self.use_nested_tensor is False because encoder_layer.self_attn.num_heads is odd\n",
      "  warnings.warn(\n"
     ]
    },
    {
     "name": "stdout",
     "output_type": "stream",
     "text": [
      "Final training label acc: 75.95%\n",
      "[Threshold 0.2] -> F1=0.8157 | Acc=0.8158\n",
      "[Threshold 0.3] -> F1=0.8676 | Acc=0.8684\n",
      "[Threshold 0.4] -> F1=0.8899 | Acc=0.8947\n",
      "[Threshold 0.5] -> F1=0.8899 | Acc=0.8947\n",
      "\n",
      "[Best Threshold] = 0.4 with F1=0.8899\n",
      "Final validation loss: 0.2580\n",
      "Final validation acc: 100.00%\n",
      "Final validation f1: 1.00%\n",
      "\n",
      "=== Cross‐Val Results ===\n",
      "Accuracies per fold: [40.0, 60.0, 50.0, 50.0, 75.0, 25.0, 75.0, 75.0, 50.0, 100.0]\n",
      "Mean acc: 60.00%, Std: 20.49%\n",
      "Mean f1: 0.55%, Std: 0.23%\n",
      "\n",
      "===== Fold 1/10 =====\n"
     ]
    },
    {
     "name": "stderr",
     "output_type": "stream",
     "text": [
      "/home/s.dharia-ra/miniconda3/envs/ml/lib/python3.10/site-packages/torch/nn/modules/transformer.py:379: UserWarning: enable_nested_tensor is True, but self.use_nested_tensor is False because encoder_layer.self_attn.num_heads is odd\n",
      "  warnings.warn(\n"
     ]
    },
    {
     "name": "stdout",
     "output_type": "stream",
     "text": [
      "Final training label acc: 84.11%\n",
      "[Threshold 0.2] -> F1=0.7824 | Acc=0.7838\n",
      "[Threshold 0.3] -> F1=0.8645 | Acc=0.8649\n",
      "[Threshold 0.4] -> F1=0.8912 | Acc=0.8919\n",
      "[Threshold 0.5] -> F1=0.9449 | Acc=0.9459\n",
      "\n",
      "[Best Threshold] = 0.5 with F1=0.9449\n",
      "Final validation loss: 1.0983\n",
      "Final validation acc: 40.00%\n",
      "Final validation f1: 0.29%\n",
      "\n",
      "===== Fold 2/10 =====\n"
     ]
    },
    {
     "name": "stderr",
     "output_type": "stream",
     "text": [
      "/home/s.dharia-ra/miniconda3/envs/ml/lib/python3.10/site-packages/torch/nn/modules/transformer.py:379: UserWarning: enable_nested_tensor is True, but self.use_nested_tensor is False because encoder_layer.self_attn.num_heads is odd\n",
      "  warnings.warn(\n"
     ]
    },
    {
     "name": "stdout",
     "output_type": "stream",
     "text": [
      "Final training label acc: 82.26%\n",
      "[Threshold 0.2] -> F1=0.8645 | Acc=0.8649\n",
      "[Threshold 0.3] -> F1=0.8912 | Acc=0.8919\n",
      "[Threshold 0.4] -> F1=0.9449 | Acc=0.9459\n",
      "[Threshold 0.5] -> F1=0.9449 | Acc=0.9459\n",
      "\n",
      "[Best Threshold] = 0.4 with F1=0.9449\n",
      "Final validation loss: 0.7283\n",
      "Final validation acc: 80.00%\n",
      "Final validation f1: 0.80%\n",
      "\n",
      "===== Fold 3/10 =====\n"
     ]
    },
    {
     "name": "stderr",
     "output_type": "stream",
     "text": [
      "/home/s.dharia-ra/miniconda3/envs/ml/lib/python3.10/site-packages/torch/nn/modules/transformer.py:379: UserWarning: enable_nested_tensor is True, but self.use_nested_tensor is False because encoder_layer.self_attn.num_heads is odd\n",
      "  warnings.warn(\n"
     ]
    },
    {
     "name": "stdout",
     "output_type": "stream",
     "text": [
      "Final training label acc: 84.89%\n",
      "[Threshold 0.2] -> F1=0.8947 | Acc=0.8947\n",
      "[Threshold 0.3] -> F1=0.9210 | Acc=0.9211\n",
      "[Threshold 0.4] -> F1=0.9206 | Acc=0.9211\n",
      "[Threshold 0.5] -> F1=0.9206 | Acc=0.9211\n",
      "\n",
      "[Best Threshold] = 0.3 with F1=0.9210\n",
      "Final validation loss: 0.6181\n",
      "Final validation acc: 75.00%\n",
      "Final validation f1: 0.73%\n",
      "\n",
      "===== Fold 4/10 =====\n"
     ]
    },
    {
     "name": "stderr",
     "output_type": "stream",
     "text": [
      "/home/s.dharia-ra/miniconda3/envs/ml/lib/python3.10/site-packages/torch/nn/modules/transformer.py:379: UserWarning: enable_nested_tensor is True, but self.use_nested_tensor is False because encoder_layer.self_attn.num_heads is odd\n",
      "  warnings.warn(\n"
     ]
    },
    {
     "name": "stdout",
     "output_type": "stream",
     "text": [
      "Final training label acc: 83.75%\n",
      "[Threshold 0.2] -> F1=0.8417 | Acc=0.8421\n",
      "[Threshold 0.3] -> F1=0.8947 | Acc=0.8947\n",
      "[Threshold 0.4] -> F1=0.9472 | Acc=0.9474\n",
      "[Threshold 0.5] -> F1=0.9472 | Acc=0.9474\n",
      "\n",
      "[Best Threshold] = 0.4 with F1=0.9472\n",
      "Final validation loss: 2.0296\n",
      "Final validation acc: 50.00%\n",
      "Final validation f1: 0.33%\n",
      "\n",
      "===== Fold 5/10 =====\n"
     ]
    },
    {
     "name": "stderr",
     "output_type": "stream",
     "text": [
      "/home/s.dharia-ra/miniconda3/envs/ml/lib/python3.10/site-packages/torch/nn/modules/transformer.py:379: UserWarning: enable_nested_tensor is True, but self.use_nested_tensor is False because encoder_layer.self_attn.num_heads is odd\n",
      "  warnings.warn(\n"
     ]
    },
    {
     "name": "stdout",
     "output_type": "stream",
     "text": [
      "Final training label acc: 82.18%\n",
      "[Threshold 0.2] -> F1=0.8157 | Acc=0.8158\n",
      "[Threshold 0.3] -> F1=0.8417 | Acc=0.8421\n",
      "[Threshold 0.4] -> F1=0.8676 | Acc=0.8684\n",
      "[Threshold 0.5] -> F1=0.9197 | Acc=0.9211\n",
      "\n",
      "[Best Threshold] = 0.5 with F1=0.9197\n",
      "Final validation loss: 0.8385\n",
      "Final validation acc: 75.00%\n",
      "Final validation f1: 0.73%\n",
      "\n",
      "===== Fold 6/10 =====\n"
     ]
    },
    {
     "name": "stderr",
     "output_type": "stream",
     "text": [
      "/home/s.dharia-ra/miniconda3/envs/ml/lib/python3.10/site-packages/torch/nn/modules/transformer.py:379: UserWarning: enable_nested_tensor is True, but self.use_nested_tensor is False because encoder_layer.self_attn.num_heads is odd\n",
      "  warnings.warn(\n"
     ]
    },
    {
     "name": "stdout",
     "output_type": "stream",
     "text": [
      "Final training label acc: 85.05%\n",
      "[Threshold 0.2] -> F1=0.8683 | Acc=0.8684\n",
      "[Threshold 0.3] -> F1=0.9206 | Acc=0.9211\n",
      "[Threshold 0.4] -> F1=0.9732 | Acc=0.9737\n",
      "[Threshold 0.5] -> F1=1.0000 | Acc=1.0000\n",
      "\n",
      "[Best Threshold] = 0.5 with F1=1.0000\n",
      "Final validation loss: 1.7457\n",
      "Final validation acc: 75.00%\n",
      "Final validation f1: 0.73%\n",
      "\n",
      "===== Fold 7/10 =====\n"
     ]
    },
    {
     "name": "stderr",
     "output_type": "stream",
     "text": [
      "/home/s.dharia-ra/miniconda3/envs/ml/lib/python3.10/site-packages/torch/nn/modules/transformer.py:379: UserWarning: enable_nested_tensor is True, but self.use_nested_tensor is False because encoder_layer.self_attn.num_heads is odd\n",
      "  warnings.warn(\n"
     ]
    },
    {
     "name": "stdout",
     "output_type": "stream",
     "text": [
      "Final training label acc: 83.16%\n",
      "[Threshold 0.2] -> F1=0.7895 | Acc=0.7895\n",
      "[Threshold 0.3] -> F1=0.8936 | Acc=0.8947\n",
      "[Threshold 0.4] -> F1=0.9197 | Acc=0.9211\n",
      "[Threshold 0.5] -> F1=0.9197 | Acc=0.9211\n",
      "\n",
      "[Best Threshold] = 0.4 with F1=0.9197\n",
      "Final validation loss: 0.4759\n",
      "Final validation acc: 75.00%\n",
      "Final validation f1: 0.73%\n",
      "\n",
      "===== Fold 8/10 =====\n"
     ]
    },
    {
     "name": "stderr",
     "output_type": "stream",
     "text": [
      "/home/s.dharia-ra/miniconda3/envs/ml/lib/python3.10/site-packages/torch/nn/modules/transformer.py:379: UserWarning: enable_nested_tensor is True, but self.use_nested_tensor is False because encoder_layer.self_attn.num_heads is odd\n",
      "  warnings.warn(\n"
     ]
    },
    {
     "name": "stdout",
     "output_type": "stream",
     "text": [
      "Final training label acc: 79.97%\n",
      "[Threshold 0.2] -> F1=0.6807 | Acc=0.6842\n",
      "[Threshold 0.3] -> F1=0.7087 | Acc=0.7105\n",
      "[Threshold 0.4] -> F1=0.7895 | Acc=0.7895\n",
      "[Threshold 0.5] -> F1=0.8157 | Acc=0.8158\n",
      "\n",
      "[Best Threshold] = 0.5 with F1=0.8157\n",
      "Final validation loss: 0.5841\n",
      "Final validation acc: 75.00%\n",
      "Final validation f1: 0.73%\n",
      "\n",
      "===== Fold 9/10 =====\n"
     ]
    },
    {
     "name": "stderr",
     "output_type": "stream",
     "text": [
      "/home/s.dharia-ra/miniconda3/envs/ml/lib/python3.10/site-packages/torch/nn/modules/transformer.py:379: UserWarning: enable_nested_tensor is True, but self.use_nested_tensor is False because encoder_layer.self_attn.num_heads is odd\n",
      "  warnings.warn(\n"
     ]
    },
    {
     "name": "stdout",
     "output_type": "stream",
     "text": [
      "Final training label acc: 77.07%\n",
      "[Threshold 0.2] -> F1=0.8676 | Acc=0.8684\n",
      "[Threshold 0.3] -> F1=0.8936 | Acc=0.8947\n",
      "[Threshold 0.4] -> F1=0.8899 | Acc=0.8947\n",
      "[Threshold 0.5] -> F1=0.9164 | Acc=0.9211\n",
      "\n",
      "[Best Threshold] = 0.5 with F1=0.9164\n",
      "Final validation loss: 0.4298\n",
      "Final validation acc: 75.00%\n",
      "Final validation f1: 0.73%\n",
      "\n",
      "===== Fold 10/10 =====\n"
     ]
    },
    {
     "name": "stderr",
     "output_type": "stream",
     "text": [
      "/home/s.dharia-ra/miniconda3/envs/ml/lib/python3.10/site-packages/torch/nn/modules/transformer.py:379: UserWarning: enable_nested_tensor is True, but self.use_nested_tensor is False because encoder_layer.self_attn.num_heads is odd\n",
      "  warnings.warn(\n"
     ]
    },
    {
     "name": "stdout",
     "output_type": "stream",
     "text": [
      "Final training label acc: 79.97%\n",
      "[Threshold 0.2] -> F1=0.9206 | Acc=0.9211\n",
      "[Threshold 0.3] -> F1=0.9197 | Acc=0.9211\n",
      "[Threshold 0.4] -> F1=0.8920 | Acc=0.8947\n",
      "[Threshold 0.5] -> F1=0.9183 | Acc=0.9211\n",
      "\n",
      "[Best Threshold] = 0.2 with F1=0.9206\n",
      "Final validation loss: 0.7089\n",
      "Final validation acc: 100.00%\n",
      "Final validation f1: 1.00%\n",
      "\n",
      "=== Cross‐Val Results ===\n",
      "Accuracies per fold: [40.0, 80.0, 75.0, 50.0, 75.0, 75.0, 75.0, 75.0, 75.0, 100.0]\n",
      "Mean acc: 72.00%, Std: 15.52%\n",
      "Mean f1: 0.68%, Std: 0.20%\n",
      "\n",
      "===== Fold 1/10 =====\n"
     ]
    },
    {
     "name": "stderr",
     "output_type": "stream",
     "text": [
      "/home/s.dharia-ra/miniconda3/envs/ml/lib/python3.10/site-packages/torch/nn/modules/transformer.py:379: UserWarning: enable_nested_tensor is True, but self.use_nested_tensor is False because encoder_layer.self_attn.num_heads is odd\n",
      "  warnings.warn(\n"
     ]
    },
    {
     "name": "stdout",
     "output_type": "stream",
     "text": [
      "Final training label acc: 81.36%\n",
      "[Threshold 0.2] -> F1=0.7824 | Acc=0.7838\n",
      "[Threshold 0.3] -> F1=0.8649 | Acc=0.8649\n",
      "[Threshold 0.4] -> F1=0.9180 | Acc=0.9189\n",
      "[Threshold 0.5] -> F1=0.9180 | Acc=0.9189\n",
      "\n",
      "[Best Threshold] = 0.4 with F1=0.9180\n",
      "Final validation loss: 0.9356\n",
      "Final validation acc: 60.00%\n",
      "Final validation f1: 0.58%\n",
      "\n",
      "===== Fold 2/10 =====\n"
     ]
    },
    {
     "name": "stderr",
     "output_type": "stream",
     "text": [
      "/home/s.dharia-ra/miniconda3/envs/ml/lib/python3.10/site-packages/torch/nn/modules/transformer.py:379: UserWarning: enable_nested_tensor is True, but self.use_nested_tensor is False because encoder_layer.self_attn.num_heads is odd\n",
      "  warnings.warn(\n"
     ]
    },
    {
     "name": "stdout",
     "output_type": "stream",
     "text": [
      "Final training label acc: 84.35%\n",
      "[Threshold 0.2] -> F1=0.8918 | Acc=0.8919\n",
      "[Threshold 0.3] -> F1=0.9187 | Acc=0.9189\n",
      "[Threshold 0.4] -> F1=0.9727 | Acc=0.9730\n",
      "[Threshold 0.5] -> F1=0.9449 | Acc=0.9459\n",
      "\n",
      "[Best Threshold] = 0.4 with F1=0.9727\n",
      "Final validation loss: 2.9066\n",
      "Final validation acc: 40.00%\n",
      "Final validation f1: 0.40%\n",
      "\n",
      "===== Fold 3/10 =====\n"
     ]
    },
    {
     "name": "stderr",
     "output_type": "stream",
     "text": [
      "/home/s.dharia-ra/miniconda3/envs/ml/lib/python3.10/site-packages/torch/nn/modules/transformer.py:379: UserWarning: enable_nested_tensor is True, but self.use_nested_tensor is False because encoder_layer.self_attn.num_heads is odd\n",
      "  warnings.warn(\n"
     ]
    },
    {
     "name": "stdout",
     "output_type": "stream",
     "text": [
      "Final training label acc: 81.18%\n",
      "[Threshold 0.2] -> F1=0.7889 | Acc=0.7895\n",
      "[Threshold 0.3] -> F1=0.8683 | Acc=0.8684\n",
      "[Threshold 0.4] -> F1=0.9468 | Acc=0.9474\n",
      "[Threshold 0.5] -> F1=0.9468 | Acc=0.9474\n",
      "\n",
      "[Best Threshold] = 0.4 with F1=0.9468\n",
      "Final validation loss: 0.7980\n",
      "Final validation acc: 50.00%\n",
      "Final validation f1: 0.50%\n",
      "\n",
      "===== Fold 4/10 =====\n"
     ]
    },
    {
     "name": "stderr",
     "output_type": "stream",
     "text": [
      "/home/s.dharia-ra/miniconda3/envs/ml/lib/python3.10/site-packages/torch/nn/modules/transformer.py:379: UserWarning: enable_nested_tensor is True, but self.use_nested_tensor is False because encoder_layer.self_attn.num_heads is odd\n",
      "  warnings.warn(\n"
     ]
    },
    {
     "name": "stdout",
     "output_type": "stream",
     "text": [
      "Final training label acc: 80.69%\n",
      "[Threshold 0.2] -> F1=0.7590 | Acc=0.7632\n",
      "[Threshold 0.3] -> F1=0.7889 | Acc=0.7895\n",
      "[Threshold 0.4] -> F1=0.8944 | Acc=0.8947\n",
      "[Threshold 0.5] -> F1=0.9468 | Acc=0.9474\n",
      "\n",
      "[Best Threshold] = 0.5 with F1=0.9468\n",
      "Final validation loss: 0.3698\n",
      "Final validation acc: 100.00%\n",
      "Final validation f1: 1.00%\n",
      "\n",
      "===== Fold 5/10 =====\n"
     ]
    },
    {
     "name": "stderr",
     "output_type": "stream",
     "text": [
      "/home/s.dharia-ra/miniconda3/envs/ml/lib/python3.10/site-packages/torch/nn/modules/transformer.py:379: UserWarning: enable_nested_tensor is True, but self.use_nested_tensor is False because encoder_layer.self_attn.num_heads is odd\n",
      "  warnings.warn(\n"
     ]
    },
    {
     "name": "stdout",
     "output_type": "stream",
     "text": [
      "Final training label acc: 84.01%\n",
      "[Threshold 0.2] -> F1=0.8157 | Acc=0.8158\n",
      "[Threshold 0.3] -> F1=0.8683 | Acc=0.8684\n",
      "[Threshold 0.4] -> F1=0.9468 | Acc=0.9474\n",
      "[Threshold 0.5] -> F1=0.9468 | Acc=0.9474\n",
      "\n",
      "[Best Threshold] = 0.4 with F1=0.9468\n",
      "Final validation loss: 0.5591\n",
      "Final validation acc: 75.00%\n",
      "Final validation f1: 0.73%\n",
      "\n",
      "===== Fold 6/10 =====\n"
     ]
    },
    {
     "name": "stderr",
     "output_type": "stream",
     "text": [
      "/home/s.dharia-ra/miniconda3/envs/ml/lib/python3.10/site-packages/torch/nn/modules/transformer.py:379: UserWarning: enable_nested_tensor is True, but self.use_nested_tensor is False because encoder_layer.self_attn.num_heads is odd\n",
      "  warnings.warn(\n"
     ]
    },
    {
     "name": "stdout",
     "output_type": "stream",
     "text": [
      "Final training label acc: 80.31%\n",
      "[Threshold 0.2] -> F1=0.8676 | Acc=0.8684\n",
      "[Threshold 0.3] -> F1=0.8403 | Acc=0.8421\n",
      "[Threshold 0.4] -> F1=0.8920 | Acc=0.8947\n",
      "[Threshold 0.5] -> F1=0.8920 | Acc=0.8947\n",
      "\n",
      "[Best Threshold] = 0.4 with F1=0.8920\n",
      "Final validation loss: 0.7961\n",
      "Final validation acc: 75.00%\n",
      "Final validation f1: 0.73%\n",
      "\n",
      "===== Fold 7/10 =====\n"
     ]
    },
    {
     "name": "stderr",
     "output_type": "stream",
     "text": [
      "/home/s.dharia-ra/miniconda3/envs/ml/lib/python3.10/site-packages/torch/nn/modules/transformer.py:379: UserWarning: enable_nested_tensor is True, but self.use_nested_tensor is False because encoder_layer.self_attn.num_heads is odd\n",
      "  warnings.warn(\n"
     ]
    },
    {
     "name": "stdout",
     "output_type": "stream",
     "text": [
      "Final training label acc: 76.82%\n",
      "[Threshold 0.2] -> F1=0.7361 | Acc=0.7368\n",
      "[Threshold 0.3] -> F1=0.7895 | Acc=0.7895\n",
      "[Threshold 0.4] -> F1=0.7895 | Acc=0.7895\n",
      "[Threshold 0.5] -> F1=0.8676 | Acc=0.8684\n",
      "\n",
      "[Best Threshold] = 0.5 with F1=0.8676\n",
      "Final validation loss: 0.3503\n",
      "Final validation acc: 100.00%\n",
      "Final validation f1: 1.00%\n",
      "\n",
      "===== Fold 8/10 =====\n"
     ]
    },
    {
     "name": "stderr",
     "output_type": "stream",
     "text": [
      "/home/s.dharia-ra/miniconda3/envs/ml/lib/python3.10/site-packages/torch/nn/modules/transformer.py:379: UserWarning: enable_nested_tensor is True, but self.use_nested_tensor is False because encoder_layer.self_attn.num_heads is odd\n",
      "  warnings.warn(\n"
     ]
    },
    {
     "name": "stdout",
     "output_type": "stream",
     "text": [
      "Final training label acc: 79.25%\n",
      "[Threshold 0.2] -> F1=0.7617 | Acc=0.7632\n",
      "[Threshold 0.3] -> F1=0.7889 | Acc=0.7895\n",
      "[Threshold 0.4] -> F1=0.8421 | Acc=0.8421\n",
      "[Threshold 0.5] -> F1=0.9206 | Acc=0.9211\n",
      "\n",
      "[Best Threshold] = 0.5 with F1=0.9206\n",
      "Final validation loss: 0.6822\n",
      "Final validation acc: 50.00%\n",
      "Final validation f1: 0.33%\n",
      "\n",
      "===== Fold 9/10 =====\n"
     ]
    },
    {
     "name": "stderr",
     "output_type": "stream",
     "text": [
      "/home/s.dharia-ra/miniconda3/envs/ml/lib/python3.10/site-packages/torch/nn/modules/transformer.py:379: UserWarning: enable_nested_tensor is True, but self.use_nested_tensor is False because encoder_layer.self_attn.num_heads is odd\n",
      "  warnings.warn(\n"
     ]
    },
    {
     "name": "stdout",
     "output_type": "stream",
     "text": [
      "Final training label acc: 86.28%\n",
      "[Threshold 0.2] -> F1=0.8157 | Acc=0.8158\n",
      "[Threshold 0.3] -> F1=0.9468 | Acc=0.9474\n",
      "[Threshold 0.4] -> F1=1.0000 | Acc=1.0000\n",
      "[Threshold 0.5] -> F1=1.0000 | Acc=1.0000\n",
      "\n",
      "[Best Threshold] = 0.4 with F1=1.0000\n",
      "Final validation loss: 2.7006\n",
      "Final validation acc: 50.00%\n",
      "Final validation f1: 0.33%\n",
      "\n",
      "===== Fold 10/10 =====\n"
     ]
    },
    {
     "name": "stderr",
     "output_type": "stream",
     "text": [
      "/home/s.dharia-ra/miniconda3/envs/ml/lib/python3.10/site-packages/torch/nn/modules/transformer.py:379: UserWarning: enable_nested_tensor is True, but self.use_nested_tensor is False because encoder_layer.self_attn.num_heads is odd\n",
      "  warnings.warn(\n"
     ]
    },
    {
     "name": "stdout",
     "output_type": "stream",
     "text": [
      "Final training label acc: 80.48%\n",
      "[Threshold 0.2] -> F1=0.7617 | Acc=0.7632\n",
      "[Threshold 0.3] -> F1=0.8157 | Acc=0.8158\n",
      "[Threshold 0.4] -> F1=0.8157 | Acc=0.8158\n",
      "[Threshold 0.5] -> F1=0.8944 | Acc=0.8947\n",
      "\n",
      "[Best Threshold] = 0.5 with F1=0.8944\n",
      "Final validation loss: 0.8411\n",
      "Final validation acc: 50.00%\n",
      "Final validation f1: 0.33%\n",
      "\n",
      "=== Cross‐Val Results ===\n",
      "Accuracies per fold: [60.0, 40.0, 50.0, 100.0, 75.0, 75.0, 100.0, 50.0, 50.0, 50.0]\n",
      "Mean acc: 65.00%, Std: 20.49%\n",
      "Mean f1: 0.59%, Std: 0.25%\n",
      "\n",
      "===== Fold 1/10 =====\n"
     ]
    },
    {
     "name": "stderr",
     "output_type": "stream",
     "text": [
      "/home/s.dharia-ra/miniconda3/envs/ml/lib/python3.10/site-packages/torch/nn/modules/transformer.py:379: UserWarning: enable_nested_tensor is True, but self.use_nested_tensor is False because encoder_layer.self_attn.num_heads is odd\n",
      "  warnings.warn(\n"
     ]
    },
    {
     "name": "stdout",
     "output_type": "stream",
     "text": [
      "Final training label acc: 81.65%\n",
      "[Threshold 0.2] -> F1=0.8103 | Acc=0.8108\n",
      "[Threshold 0.3] -> F1=0.8377 | Acc=0.8378\n",
      "[Threshold 0.4] -> F1=0.8912 | Acc=0.8919\n",
      "[Threshold 0.5] -> F1=0.8633 | Acc=0.8649\n",
      "\n",
      "[Best Threshold] = 0.4 with F1=0.8912\n",
      "Final validation loss: 0.3184\n",
      "Final validation acc: 80.00%\n",
      "Final validation f1: 0.80%\n",
      "\n",
      "===== Fold 2/10 =====\n"
     ]
    },
    {
     "name": "stderr",
     "output_type": "stream",
     "text": [
      "/home/s.dharia-ra/miniconda3/envs/ml/lib/python3.10/site-packages/torch/nn/modules/transformer.py:379: UserWarning: enable_nested_tensor is True, but self.use_nested_tensor is False because encoder_layer.self_attn.num_heads is odd\n",
      "  warnings.warn(\n"
     ]
    },
    {
     "name": "stdout",
     "output_type": "stream",
     "text": [
      "Final training label acc: 79.68%\n",
      "[Threshold 0.2] -> F1=0.7247 | Acc=0.7297\n",
      "[Threshold 0.3] -> F1=0.8377 | Acc=0.8378\n",
      "[Threshold 0.4] -> F1=0.8377 | Acc=0.8378\n",
      "[Threshold 0.5] -> F1=0.8912 | Acc=0.8919\n",
      "\n",
      "[Best Threshold] = 0.5 with F1=0.8912\n",
      "Final validation loss: 0.9444\n",
      "Final validation acc: 60.00%\n",
      "Final validation f1: 0.58%\n",
      "\n",
      "===== Fold 3/10 =====\n"
     ]
    },
    {
     "name": "stderr",
     "output_type": "stream",
     "text": [
      "/home/s.dharia-ra/miniconda3/envs/ml/lib/python3.10/site-packages/torch/nn/modules/transformer.py:379: UserWarning: enable_nested_tensor is True, but self.use_nested_tensor is False because encoder_layer.self_attn.num_heads is odd\n",
      "  warnings.warn(\n"
     ]
    },
    {
     "name": "stdout",
     "output_type": "stream",
     "text": [
      "Final training label acc: 81.90%\n",
      "[Threshold 0.2] -> F1=0.8683 | Acc=0.8684\n",
      "[Threshold 0.3] -> F1=0.9206 | Acc=0.9211\n",
      "[Threshold 0.4] -> F1=0.9197 | Acc=0.9211\n",
      "[Threshold 0.5] -> F1=0.9460 | Acc=0.9474\n",
      "\n",
      "[Best Threshold] = 0.5 with F1=0.9460\n",
      "Final validation loss: 1.2714\n",
      "Final validation acc: 50.00%\n",
      "Final validation f1: 0.33%\n",
      "\n",
      "===== Fold 4/10 =====\n"
     ]
    },
    {
     "name": "stderr",
     "output_type": "stream",
     "text": [
      "/home/s.dharia-ra/miniconda3/envs/ml/lib/python3.10/site-packages/torch/nn/modules/transformer.py:379: UserWarning: enable_nested_tensor is True, but self.use_nested_tensor is False because encoder_layer.self_attn.num_heads is odd\n",
      "  warnings.warn(\n"
     ]
    },
    {
     "name": "stdout",
     "output_type": "stream",
     "text": [
      "Final training label acc: 82.91%\n",
      "[Threshold 0.2] -> F1=0.7871 | Acc=0.7895\n",
      "[Threshold 0.3] -> F1=0.8417 | Acc=0.8421\n",
      "[Threshold 0.4] -> F1=0.8947 | Acc=0.8947\n",
      "[Threshold 0.5] -> F1=0.9735 | Acc=0.9737\n",
      "\n",
      "[Best Threshold] = 0.5 with F1=0.9735\n",
      "Final validation loss: 2.7565\n",
      "Final validation acc: 50.00%\n",
      "Final validation f1: 0.33%\n",
      "\n",
      "===== Fold 5/10 =====\n"
     ]
    },
    {
     "name": "stderr",
     "output_type": "stream",
     "text": [
      "/home/s.dharia-ra/miniconda3/envs/ml/lib/python3.10/site-packages/torch/nn/modules/transformer.py:379: UserWarning: enable_nested_tensor is True, but self.use_nested_tensor is False because encoder_layer.self_attn.num_heads is odd\n",
      "  warnings.warn(\n"
     ]
    },
    {
     "name": "stdout",
     "output_type": "stream",
     "text": [
      "Final training label acc: 85.40%\n",
      "[Threshold 0.2] -> F1=0.8944 | Acc=0.8947\n",
      "[Threshold 0.3] -> F1=0.9468 | Acc=0.9474\n",
      "[Threshold 0.4] -> F1=0.9732 | Acc=0.9737\n",
      "[Threshold 0.5] -> F1=0.9728 | Acc=0.9737\n",
      "\n",
      "[Best Threshold] = 0.4 with F1=0.9732\n",
      "Final validation loss: 2.5881\n",
      "Final validation acc: 25.00%\n",
      "Final validation f1: 0.20%\n",
      "\n",
      "===== Fold 6/10 =====\n"
     ]
    },
    {
     "name": "stderr",
     "output_type": "stream",
     "text": [
      "/home/s.dharia-ra/miniconda3/envs/ml/lib/python3.10/site-packages/torch/nn/modules/transformer.py:379: UserWarning: enable_nested_tensor is True, but self.use_nested_tensor is False because encoder_layer.self_attn.num_heads is odd\n",
      "  warnings.warn(\n"
     ]
    },
    {
     "name": "stdout",
     "output_type": "stream",
     "text": [
      "Final training label acc: 82.02%\n",
      "[Threshold 0.2] -> F1=0.7889 | Acc=0.7895\n",
      "[Threshold 0.3] -> F1=0.8421 | Acc=0.8421\n",
      "[Threshold 0.4] -> F1=0.8421 | Acc=0.8421\n",
      "[Threshold 0.5] -> F1=0.9206 | Acc=0.9211\n",
      "\n",
      "[Best Threshold] = 0.5 with F1=0.9206\n",
      "Final validation loss: 1.3430\n",
      "Final validation acc: 50.00%\n",
      "Final validation f1: 0.50%\n",
      "\n",
      "===== Fold 7/10 =====\n"
     ]
    },
    {
     "name": "stderr",
     "output_type": "stream",
     "text": [
      "/home/s.dharia-ra/miniconda3/envs/ml/lib/python3.10/site-packages/torch/nn/modules/transformer.py:379: UserWarning: enable_nested_tensor is True, but self.use_nested_tensor is False because encoder_layer.self_attn.num_heads is odd\n",
      "  warnings.warn(\n"
     ]
    },
    {
     "name": "stdout",
     "output_type": "stream",
     "text": [
      "Final training label acc: 79.97%\n",
      "[Threshold 0.2] -> F1=0.6459 | Acc=0.6579\n",
      "[Threshold 0.3] -> F1=0.7054 | Acc=0.7105\n",
      "[Threshold 0.4] -> F1=0.7617 | Acc=0.7632\n",
      "[Threshold 0.5] -> F1=0.8157 | Acc=0.8158\n",
      "\n",
      "[Best Threshold] = 0.5 with F1=0.8157\n",
      "Final validation loss: 0.3544\n",
      "Final validation acc: 100.00%\n",
      "Final validation f1: 1.00%\n",
      "\n",
      "===== Fold 8/10 =====\n"
     ]
    },
    {
     "name": "stderr",
     "output_type": "stream",
     "text": [
      "/home/s.dharia-ra/miniconda3/envs/ml/lib/python3.10/site-packages/torch/nn/modules/transformer.py:379: UserWarning: enable_nested_tensor is True, but self.use_nested_tensor is False because encoder_layer.self_attn.num_heads is odd\n",
      "  warnings.warn(\n"
     ]
    },
    {
     "name": "stdout",
     "output_type": "stream",
     "text": [
      "Final training label acc: 83.90%\n",
      "[Threshold 0.2] -> F1=0.5476 | Acc=0.5789\n",
      "[Threshold 0.3] -> F1=0.6761 | Acc=0.6842\n",
      "[Threshold 0.4] -> F1=0.8157 | Acc=0.8158\n",
      "[Threshold 0.5] -> F1=0.8157 | Acc=0.8158\n",
      "\n",
      "[Best Threshold] = 0.4 with F1=0.8157\n",
      "Final validation loss: 0.4587\n",
      "Final validation acc: 75.00%\n",
      "Final validation f1: 0.73%\n",
      "\n",
      "===== Fold 9/10 =====\n"
     ]
    },
    {
     "name": "stderr",
     "output_type": "stream",
     "text": [
      "/home/s.dharia-ra/miniconda3/envs/ml/lib/python3.10/site-packages/torch/nn/modules/transformer.py:379: UserWarning: enable_nested_tensor is True, but self.use_nested_tensor is False because encoder_layer.self_attn.num_heads is odd\n",
      "  warnings.warn(\n"
     ]
    },
    {
     "name": "stdout",
     "output_type": "stream",
     "text": [
      "Final training label acc: 82.71%\n",
      "[Threshold 0.2] -> F1=0.5476 | Acc=0.5789\n",
      "[Threshold 0.3] -> F1=0.6459 | Acc=0.6579\n",
      "[Threshold 0.4] -> F1=0.7889 | Acc=0.7895\n",
      "[Threshold 0.5] -> F1=0.7889 | Acc=0.7895\n",
      "\n",
      "[Best Threshold] = 0.4 with F1=0.7889\n",
      "Final validation loss: 0.4906\n",
      "Final validation acc: 75.00%\n",
      "Final validation f1: 0.73%\n",
      "\n",
      "===== Fold 10/10 =====\n"
     ]
    },
    {
     "name": "stderr",
     "output_type": "stream",
     "text": [
      "/home/s.dharia-ra/miniconda3/envs/ml/lib/python3.10/site-packages/torch/nn/modules/transformer.py:379: UserWarning: enable_nested_tensor is True, but self.use_nested_tensor is False because encoder_layer.self_attn.num_heads is odd\n",
      "  warnings.warn(\n"
     ]
    },
    {
     "name": "stdout",
     "output_type": "stream",
     "text": [
      "Final training label acc: 80.72%\n",
      "[Threshold 0.2] -> F1=0.8157 | Acc=0.8158\n",
      "[Threshold 0.3] -> F1=0.8417 | Acc=0.8421\n",
      "[Threshold 0.4] -> F1=0.8936 | Acc=0.8947\n",
      "[Threshold 0.5] -> F1=0.9197 | Acc=0.9211\n",
      "\n",
      "[Best Threshold] = 0.5 with F1=0.9197\n",
      "Final validation loss: 0.3049\n",
      "Final validation acc: 100.00%\n",
      "Final validation f1: 1.00%\n",
      "\n",
      "=== Cross‐Val Results ===\n",
      "Accuracies per fold: [80.0, 60.0, 50.0, 50.0, 25.0, 50.0, 100.0, 75.0, 75.0, 100.0]\n",
      "Mean acc: 66.50%, Std: 22.70%\n",
      "Mean f1: 0.62%, Std: 0.27%\n",
      "\n",
      "===== Fold 1/10 =====\n"
     ]
    },
    {
     "name": "stderr",
     "output_type": "stream",
     "text": [
      "/home/s.dharia-ra/miniconda3/envs/ml/lib/python3.10/site-packages/torch/nn/modules/transformer.py:379: UserWarning: enable_nested_tensor is True, but self.use_nested_tensor is False because encoder_layer.self_attn.num_heads is odd\n",
      "  warnings.warn(\n"
     ]
    },
    {
     "name": "stdout",
     "output_type": "stream",
     "text": [
      "Final training label acc: 86.79%\n",
      "[Threshold 0.2] -> F1=0.8377 | Acc=0.8378\n",
      "[Threshold 0.3] -> F1=0.8918 | Acc=0.8919\n",
      "[Threshold 0.4] -> F1=0.8912 | Acc=0.8919\n",
      "[Threshold 0.5] -> F1=0.9722 | Acc=0.9730\n",
      "\n",
      "[Best Threshold] = 0.5 with F1=0.9722\n",
      "Final validation loss: 2.3501\n",
      "Final validation acc: 80.00%\n",
      "Final validation f1: 0.76%\n",
      "\n",
      "===== Fold 2/10 =====\n"
     ]
    },
    {
     "name": "stderr",
     "output_type": "stream",
     "text": [
      "/home/s.dharia-ra/miniconda3/envs/ml/lib/python3.10/site-packages/torch/nn/modules/transformer.py:379: UserWarning: enable_nested_tensor is True, but self.use_nested_tensor is False because encoder_layer.self_attn.num_heads is odd\n",
      "  warnings.warn(\n"
     ]
    },
    {
     "name": "stdout",
     "output_type": "stream",
     "text": [
      "Final training label acc: 82.31%\n",
      "[Threshold 0.2] -> F1=0.7539 | Acc=0.7568\n",
      "[Threshold 0.3] -> F1=0.7824 | Acc=0.7838\n",
      "[Threshold 0.4] -> F1=0.8645 | Acc=0.8649\n",
      "[Threshold 0.5] -> F1=0.8912 | Acc=0.8919\n",
      "\n",
      "[Best Threshold] = 0.5 with F1=0.8912\n",
      "Final validation loss: 1.0628\n",
      "Final validation acc: 60.00%\n",
      "Final validation f1: 0.58%\n",
      "\n",
      "===== Fold 3/10 =====\n"
     ]
    },
    {
     "name": "stderr",
     "output_type": "stream",
     "text": [
      "/home/s.dharia-ra/miniconda3/envs/ml/lib/python3.10/site-packages/torch/nn/modules/transformer.py:379: UserWarning: enable_nested_tensor is True, but self.use_nested_tensor is False because encoder_layer.self_attn.num_heads is odd\n",
      "  warnings.warn(\n"
     ]
    },
    {
     "name": "stdout",
     "output_type": "stream",
     "text": [
      "Final training label acc: 79.06%\n",
      "[Threshold 0.2] -> F1=0.7871 | Acc=0.7895\n",
      "[Threshold 0.3] -> F1=0.8417 | Acc=0.8421\n",
      "[Threshold 0.4] -> F1=0.8683 | Acc=0.8684\n",
      "[Threshold 0.5] -> F1=0.8683 | Acc=0.8684\n",
      "\n",
      "[Best Threshold] = 0.4 with F1=0.8683\n",
      "Final validation loss: 1.2642\n",
      "Final validation acc: 50.00%\n",
      "Final validation f1: 0.50%\n",
      "\n",
      "===== Fold 4/10 =====\n"
     ]
    },
    {
     "name": "stderr",
     "output_type": "stream",
     "text": [
      "/home/s.dharia-ra/miniconda3/envs/ml/lib/python3.10/site-packages/torch/nn/modules/transformer.py:379: UserWarning: enable_nested_tensor is True, but self.use_nested_tensor is False because encoder_layer.self_attn.num_heads is odd\n",
      "  warnings.warn(\n"
     ]
    },
    {
     "name": "stdout",
     "output_type": "stream",
     "text": [
      "Final training label acc: 81.00%\n",
      "[Threshold 0.2] -> F1=0.7301 | Acc=0.7368\n",
      "[Threshold 0.3] -> F1=0.7590 | Acc=0.7632\n",
      "[Threshold 0.4] -> F1=0.7871 | Acc=0.7895\n",
      "[Threshold 0.5] -> F1=0.8417 | Acc=0.8421\n",
      "\n",
      "[Best Threshold] = 0.5 with F1=0.8417\n",
      "Final validation loss: 0.4251\n",
      "Final validation acc: 75.00%\n",
      "Final validation f1: 0.73%\n",
      "\n",
      "===== Fold 5/10 =====\n"
     ]
    },
    {
     "name": "stderr",
     "output_type": "stream",
     "text": [
      "/home/s.dharia-ra/miniconda3/envs/ml/lib/python3.10/site-packages/torch/nn/modules/transformer.py:379: UserWarning: enable_nested_tensor is True, but self.use_nested_tensor is False because encoder_layer.self_attn.num_heads is odd\n",
      "  warnings.warn(\n"
     ]
    },
    {
     "name": "stdout",
     "output_type": "stream",
     "text": [
      "Final training label acc: 85.79%\n",
      "[Threshold 0.2] -> F1=0.7054 | Acc=0.7105\n",
      "[Threshold 0.3] -> F1=0.7617 | Acc=0.7632\n",
      "[Threshold 0.4] -> F1=0.8421 | Acc=0.8421\n",
      "[Threshold 0.5] -> F1=0.8683 | Acc=0.8684\n",
      "\n",
      "[Best Threshold] = 0.5 with F1=0.8683\n",
      "Final validation loss: 2.5453\n",
      "Final validation acc: 25.00%\n",
      "Final validation f1: 0.20%\n",
      "\n",
      "===== Fold 6/10 =====\n"
     ]
    },
    {
     "name": "stderr",
     "output_type": "stream",
     "text": [
      "/home/s.dharia-ra/miniconda3/envs/ml/lib/python3.10/site-packages/torch/nn/modules/transformer.py:379: UserWarning: enable_nested_tensor is True, but self.use_nested_tensor is False because encoder_layer.self_attn.num_heads is odd\n",
      "  warnings.warn(\n"
     ]
    },
    {
     "name": "stdout",
     "output_type": "stream",
     "text": [
      "Final training label acc: 81.79%\n",
      "[Threshold 0.2] -> F1=0.7889 | Acc=0.7895\n",
      "[Threshold 0.3] -> F1=0.8944 | Acc=0.8947\n",
      "[Threshold 0.4] -> F1=0.8676 | Acc=0.8684\n",
      "[Threshold 0.5] -> F1=0.8676 | Acc=0.8684\n",
      "\n",
      "[Best Threshold] = 0.3 with F1=0.8944\n",
      "Final validation loss: 0.5761\n",
      "Final validation acc: 75.00%\n",
      "Final validation f1: 0.73%\n",
      "\n",
      "===== Fold 7/10 =====\n"
     ]
    },
    {
     "name": "stderr",
     "output_type": "stream",
     "text": [
      "/home/s.dharia-ra/miniconda3/envs/ml/lib/python3.10/site-packages/torch/nn/modules/transformer.py:379: UserWarning: enable_nested_tensor is True, but self.use_nested_tensor is False because encoder_layer.self_attn.num_heads is odd\n",
      "  warnings.warn(\n"
     ]
    },
    {
     "name": "stdout",
     "output_type": "stream",
     "text": [
      "Final training label acc: 80.20%\n",
      "[Threshold 0.2] -> F1=0.6761 | Acc=0.6842\n",
      "[Threshold 0.3] -> F1=0.6761 | Acc=0.6842\n",
      "[Threshold 0.4] -> F1=0.7617 | Acc=0.7632\n",
      "[Threshold 0.5] -> F1=0.7617 | Acc=0.7632\n",
      "\n",
      "[Best Threshold] = 0.4 with F1=0.7617\n",
      "Final validation loss: 0.6462\n",
      "Final validation acc: 50.00%\n",
      "Final validation f1: 0.33%\n",
      "\n",
      "===== Fold 8/10 =====\n"
     ]
    },
    {
     "name": "stderr",
     "output_type": "stream",
     "text": [
      "/home/s.dharia-ra/miniconda3/envs/ml/lib/python3.10/site-packages/torch/nn/modules/transformer.py:379: UserWarning: enable_nested_tensor is True, but self.use_nested_tensor is False because encoder_layer.self_attn.num_heads is odd\n",
      "  warnings.warn(\n"
     ]
    },
    {
     "name": "stdout",
     "output_type": "stream",
     "text": [
      "Final training label acc: 81.16%\n",
      "[Threshold 0.2] -> F1=0.7054 | Acc=0.7105\n",
      "[Threshold 0.3] -> F1=0.8157 | Acc=0.8158\n",
      "[Threshold 0.4] -> F1=0.8683 | Acc=0.8684\n",
      "[Threshold 0.5] -> F1=0.8936 | Acc=0.8947\n",
      "\n",
      "[Best Threshold] = 0.5 with F1=0.8936\n",
      "Final validation loss: 1.2018\n",
      "Final validation acc: 25.00%\n",
      "Final validation f1: 0.20%\n",
      "\n",
      "===== Fold 9/10 =====\n"
     ]
    },
    {
     "name": "stderr",
     "output_type": "stream",
     "text": [
      "/home/s.dharia-ra/miniconda3/envs/ml/lib/python3.10/site-packages/torch/nn/modules/transformer.py:379: UserWarning: enable_nested_tensor is True, but self.use_nested_tensor is False because encoder_layer.self_attn.num_heads is odd\n",
      "  warnings.warn(\n"
     ]
    },
    {
     "name": "stdout",
     "output_type": "stream",
     "text": [
      "Final training label acc: 85.76%\n",
      "[Threshold 0.2] -> F1=0.8683 | Acc=0.8684\n",
      "[Threshold 0.3] -> F1=0.8944 | Acc=0.8947\n",
      "[Threshold 0.4] -> F1=0.9197 | Acc=0.9211\n",
      "[Threshold 0.5] -> F1=0.9460 | Acc=0.9474\n",
      "\n",
      "[Best Threshold] = 0.5 with F1=0.9460\n",
      "Final validation loss: 1.2325\n",
      "Final validation acc: 75.00%\n",
      "Final validation f1: 0.73%\n",
      "\n",
      "===== Fold 10/10 =====\n"
     ]
    },
    {
     "name": "stderr",
     "output_type": "stream",
     "text": [
      "/home/s.dharia-ra/miniconda3/envs/ml/lib/python3.10/site-packages/torch/nn/modules/transformer.py:379: UserWarning: enable_nested_tensor is True, but self.use_nested_tensor is False because encoder_layer.self_attn.num_heads is odd\n",
      "  warnings.warn(\n"
     ]
    },
    {
     "name": "stdout",
     "output_type": "stream",
     "text": [
      "Final training label acc: 81.06%\n",
      "[Threshold 0.2] -> F1=0.7054 | Acc=0.7105\n",
      "[Threshold 0.3] -> F1=0.7630 | Acc=0.7632\n",
      "[Threshold 0.4] -> F1=0.8417 | Acc=0.8421\n",
      "[Threshold 0.5] -> F1=0.8676 | Acc=0.8684\n",
      "\n",
      "[Best Threshold] = 0.5 with F1=0.8676\n",
      "Final validation loss: 0.3921\n",
      "Final validation acc: 75.00%\n",
      "Final validation f1: 0.73%\n",
      "\n",
      "=== Cross‐Val Results ===\n",
      "Accuracies per fold: [80.0, 60.0, 50.0, 75.0, 25.0, 75.0, 50.0, 25.0, 75.0, 75.0]\n",
      "Mean acc: 59.00%, Std: 19.85%\n",
      "Mean f1: 0.55%, Std: 0.22%\n",
      "\n",
      "===== Fold 1/10 =====\n"
     ]
    },
    {
     "name": "stderr",
     "output_type": "stream",
     "text": [
      "/home/s.dharia-ra/miniconda3/envs/ml/lib/python3.10/site-packages/torch/nn/modules/transformer.py:379: UserWarning: enable_nested_tensor is True, but self.use_nested_tensor is False because encoder_layer.self_attn.num_heads is odd\n",
      "  warnings.warn(\n"
     ]
    },
    {
     "name": "stdout",
     "output_type": "stream",
     "text": [
      "Final training label acc: 80.71%\n",
      "[Threshold 0.2] -> F1=0.8103 | Acc=0.8108\n",
      "[Threshold 0.3] -> F1=0.8918 | Acc=0.8919\n",
      "[Threshold 0.4] -> F1=0.8645 | Acc=0.8649\n",
      "[Threshold 0.5] -> F1=0.9180 | Acc=0.9189\n",
      "\n",
      "[Best Threshold] = 0.5 with F1=0.9180\n",
      "Final validation loss: 0.7770\n",
      "Final validation acc: 60.00%\n",
      "Final validation f1: 0.58%\n",
      "\n",
      "===== Fold 2/10 =====\n"
     ]
    },
    {
     "name": "stderr",
     "output_type": "stream",
     "text": [
      "/home/s.dharia-ra/miniconda3/envs/ml/lib/python3.10/site-packages/torch/nn/modules/transformer.py:379: UserWarning: enable_nested_tensor is True, but self.use_nested_tensor is False because encoder_layer.self_attn.num_heads is odd\n",
      "  warnings.warn(\n"
     ]
    },
    {
     "name": "stdout",
     "output_type": "stream",
     "text": [
      "Final training label acc: 73.36%\n",
      "[Threshold 0.2] -> F1=0.7560 | Acc=0.7568\n",
      "[Threshold 0.3] -> F1=0.8108 | Acc=0.8108\n",
      "[Threshold 0.4] -> F1=0.8086 | Acc=0.8108\n",
      "[Threshold 0.5] -> F1=0.8348 | Acc=0.8378\n",
      "\n",
      "[Best Threshold] = 0.5 with F1=0.8348\n",
      "Final validation loss: 0.5170\n",
      "Final validation acc: 60.00%\n",
      "Final validation f1: 0.58%\n",
      "\n",
      "===== Fold 3/10 =====\n"
     ]
    },
    {
     "name": "stderr",
     "output_type": "stream",
     "text": [
      "/home/s.dharia-ra/miniconda3/envs/ml/lib/python3.10/site-packages/torch/nn/modules/transformer.py:379: UserWarning: enable_nested_tensor is True, but self.use_nested_tensor is False because encoder_layer.self_attn.num_heads is odd\n",
      "  warnings.warn(\n"
     ]
    },
    {
     "name": "stdout",
     "output_type": "stream",
     "text": [
      "Final training label acc: 82.68%\n",
      "[Threshold 0.2] -> F1=0.7301 | Acc=0.7368\n",
      "[Threshold 0.3] -> F1=0.7590 | Acc=0.7632\n",
      "[Threshold 0.4] -> F1=0.8683 | Acc=0.8684\n",
      "[Threshold 0.5] -> F1=0.8947 | Acc=0.8947\n",
      "\n",
      "[Best Threshold] = 0.5 with F1=0.8947\n",
      "Final validation loss: 0.9122\n",
      "Final validation acc: 50.00%\n",
      "Final validation f1: 0.50%\n",
      "\n",
      "===== Fold 4/10 =====\n"
     ]
    },
    {
     "name": "stderr",
     "output_type": "stream",
     "text": [
      "/home/s.dharia-ra/miniconda3/envs/ml/lib/python3.10/site-packages/torch/nn/modules/transformer.py:379: UserWarning: enable_nested_tensor is True, but self.use_nested_tensor is False because encoder_layer.self_attn.num_heads is odd\n",
      "  warnings.warn(\n"
     ]
    },
    {
     "name": "stdout",
     "output_type": "stream",
     "text": [
      "Final training label acc: 83.51%\n",
      "[Threshold 0.2] -> F1=0.8417 | Acc=0.8421\n",
      "[Threshold 0.3] -> F1=0.9210 | Acc=0.9211\n",
      "[Threshold 0.4] -> F1=0.9468 | Acc=0.9474\n",
      "[Threshold 0.5] -> F1=0.9460 | Acc=0.9474\n",
      "\n",
      "[Best Threshold] = 0.4 with F1=0.9468\n",
      "Final validation loss: 0.7708\n",
      "Final validation acc: 50.00%\n",
      "Final validation f1: 0.50%\n",
      "\n",
      "===== Fold 5/10 =====\n"
     ]
    },
    {
     "name": "stderr",
     "output_type": "stream",
     "text": [
      "/home/s.dharia-ra/miniconda3/envs/ml/lib/python3.10/site-packages/torch/nn/modules/transformer.py:379: UserWarning: enable_nested_tensor is True, but self.use_nested_tensor is False because encoder_layer.self_attn.num_heads is odd\n",
      "  warnings.warn(\n"
     ]
    },
    {
     "name": "stdout",
     "output_type": "stream",
     "text": [
      "Final training label acc: 86.35%\n",
      "[Threshold 0.2] -> F1=0.8157 | Acc=0.8158\n",
      "[Threshold 0.3] -> F1=0.8944 | Acc=0.8947\n",
      "[Threshold 0.4] -> F1=0.9206 | Acc=0.9211\n",
      "[Threshold 0.5] -> F1=0.9468 | Acc=0.9474\n",
      "\n",
      "[Best Threshold] = 0.5 with F1=0.9468\n",
      "Final validation loss: 2.0688\n",
      "Final validation acc: 50.00%\n",
      "Final validation f1: 0.50%\n",
      "\n",
      "===== Fold 6/10 =====\n"
     ]
    },
    {
     "name": "stderr",
     "output_type": "stream",
     "text": [
      "/home/s.dharia-ra/miniconda3/envs/ml/lib/python3.10/site-packages/torch/nn/modules/transformer.py:379: UserWarning: enable_nested_tensor is True, but self.use_nested_tensor is False because encoder_layer.self_attn.num_heads is odd\n",
      "  warnings.warn(\n"
     ]
    },
    {
     "name": "stdout",
     "output_type": "stream",
     "text": [
      "Final training label acc: 75.77%\n",
      "[Threshold 0.2] -> F1=0.7895 | Acc=0.7895\n",
      "[Threshold 0.3] -> F1=0.8157 | Acc=0.8158\n",
      "[Threshold 0.4] -> F1=0.8936 | Acc=0.8947\n",
      "[Threshold 0.5] -> F1=0.8936 | Acc=0.8947\n",
      "\n",
      "[Best Threshold] = 0.4 with F1=0.8936\n",
      "Final validation loss: 0.2998\n",
      "Final validation acc: 100.00%\n",
      "Final validation f1: 1.00%\n",
      "\n",
      "===== Fold 7/10 =====\n"
     ]
    },
    {
     "name": "stderr",
     "output_type": "stream",
     "text": [
      "/home/s.dharia-ra/miniconda3/envs/ml/lib/python3.10/site-packages/torch/nn/modules/transformer.py:379: UserWarning: enable_nested_tensor is True, but self.use_nested_tensor is False because encoder_layer.self_attn.num_heads is odd\n",
      "  warnings.warn(\n"
     ]
    },
    {
     "name": "stdout",
     "output_type": "stream",
     "text": [
      "Final training label acc: 82.24%\n",
      "[Threshold 0.2] -> F1=0.7889 | Acc=0.7895\n",
      "[Threshold 0.3] -> F1=0.8944 | Acc=0.8947\n",
      "[Threshold 0.4] -> F1=0.8936 | Acc=0.8947\n",
      "[Threshold 0.5] -> F1=0.8936 | Acc=0.8947\n",
      "\n",
      "[Best Threshold] = 0.3 with F1=0.8944\n",
      "Final validation loss: 1.2035\n",
      "Final validation acc: 50.00%\n",
      "Final validation f1: 0.50%\n",
      "\n",
      "===== Fold 8/10 =====\n"
     ]
    },
    {
     "name": "stderr",
     "output_type": "stream",
     "text": [
      "/home/s.dharia-ra/miniconda3/envs/ml/lib/python3.10/site-packages/torch/nn/modules/transformer.py:379: UserWarning: enable_nested_tensor is True, but self.use_nested_tensor is False because encoder_layer.self_attn.num_heads is odd\n",
      "  warnings.warn(\n"
     ]
    },
    {
     "name": "stdout",
     "output_type": "stream",
     "text": [
      "Final training label acc: 82.53%\n",
      "[Threshold 0.2] -> F1=0.6761 | Acc=0.6842\n",
      "[Threshold 0.3] -> F1=0.7617 | Acc=0.7632\n",
      "[Threshold 0.4] -> F1=0.8157 | Acc=0.8158\n",
      "[Threshold 0.5] -> F1=0.8683 | Acc=0.8684\n",
      "\n",
      "[Best Threshold] = 0.5 with F1=0.8683\n",
      "Final validation loss: 1.9950\n",
      "Final validation acc: 50.00%\n",
      "Final validation f1: 0.50%\n",
      "\n",
      "===== Fold 9/10 =====\n"
     ]
    },
    {
     "name": "stderr",
     "output_type": "stream",
     "text": [
      "/home/s.dharia-ra/miniconda3/envs/ml/lib/python3.10/site-packages/torch/nn/modules/transformer.py:379: UserWarning: enable_nested_tensor is True, but self.use_nested_tensor is False because encoder_layer.self_attn.num_heads is odd\n",
      "  warnings.warn(\n"
     ]
    },
    {
     "name": "stdout",
     "output_type": "stream",
     "text": [
      "Final training label acc: 78.28%\n",
      "[Threshold 0.2] -> F1=0.7339 | Acc=0.7368\n",
      "[Threshold 0.3] -> F1=0.7889 | Acc=0.7895\n",
      "[Threshold 0.4] -> F1=0.8421 | Acc=0.8421\n",
      "[Threshold 0.5] -> F1=0.8417 | Acc=0.8421\n",
      "\n",
      "[Best Threshold] = 0.4 with F1=0.8421\n",
      "Final validation loss: 0.4137\n",
      "Final validation acc: 100.00%\n",
      "Final validation f1: 1.00%\n",
      "\n",
      "===== Fold 10/10 =====\n"
     ]
    },
    {
     "name": "stderr",
     "output_type": "stream",
     "text": [
      "/home/s.dharia-ra/miniconda3/envs/ml/lib/python3.10/site-packages/torch/nn/modules/transformer.py:379: UserWarning: enable_nested_tensor is True, but self.use_nested_tensor is False because encoder_layer.self_attn.num_heads is odd\n",
      "  warnings.warn(\n"
     ]
    },
    {
     "name": "stdout",
     "output_type": "stream",
     "text": [
      "Final training label acc: 85.74%\n",
      "[Threshold 0.2] -> F1=0.8421 | Acc=0.8421\n",
      "[Threshold 0.3] -> F1=0.9468 | Acc=0.9474\n",
      "[Threshold 0.4] -> F1=0.9468 | Acc=0.9474\n",
      "[Threshold 0.5] -> F1=0.9732 | Acc=0.9737\n",
      "\n",
      "[Best Threshold] = 0.5 with F1=0.9732\n",
      "Final validation loss: 0.9134\n",
      "Final validation acc: 75.00%\n",
      "Final validation f1: 0.73%\n",
      "\n",
      "=== Cross‐Val Results ===\n",
      "Accuracies per fold: [60.0, 60.0, 50.0, 50.0, 50.0, 100.0, 50.0, 50.0, 100.0, 75.0]\n",
      "Mean acc: 64.50%, Std: 19.29%\n",
      "Mean f1: 0.64%, Std: 0.19%\n",
      "\n",
      "===== Fold 1/10 =====\n"
     ]
    },
    {
     "name": "stderr",
     "output_type": "stream",
     "text": [
      "/home/s.dharia-ra/miniconda3/envs/ml/lib/python3.10/site-packages/torch/nn/modules/transformer.py:379: UserWarning: enable_nested_tensor is True, but self.use_nested_tensor is False because encoder_layer.self_attn.num_heads is odd\n",
      "  warnings.warn(\n"
     ]
    },
    {
     "name": "stdout",
     "output_type": "stream",
     "text": [
      "Final training label acc: 81.41%\n",
      "[Threshold 0.2] -> F1=0.8377 | Acc=0.8378\n",
      "[Threshold 0.3] -> F1=0.9449 | Acc=0.9459\n",
      "[Threshold 0.4] -> F1=0.9722 | Acc=0.9730\n",
      "[Threshold 0.5] -> F1=0.9722 | Acc=0.9730\n",
      "\n",
      "[Best Threshold] = 0.4 with F1=0.9722\n",
      "Final validation loss: 0.7118\n",
      "Final validation acc: 60.00%\n",
      "Final validation f1: 0.58%\n",
      "\n",
      "===== Fold 2/10 =====\n"
     ]
    },
    {
     "name": "stderr",
     "output_type": "stream",
     "text": [
      "/home/s.dharia-ra/miniconda3/envs/ml/lib/python3.10/site-packages/torch/nn/modules/transformer.py:379: UserWarning: enable_nested_tensor is True, but self.use_nested_tensor is False because encoder_layer.self_attn.num_heads is odd\n",
      "  warnings.warn(\n"
     ]
    },
    {
     "name": "stdout",
     "output_type": "stream",
     "text": [
      "Final training label acc: 70.83%\n",
      "[Threshold 0.2] -> F1=0.8582 | Acc=0.8649\n",
      "[Threshold 0.3] -> F1=0.8276 | Acc=0.8378\n",
      "[Threshold 0.4] -> F1=0.8542 | Acc=0.8649\n",
      "[Threshold 0.5] -> F1=0.8542 | Acc=0.8649\n",
      "\n",
      "[Best Threshold] = 0.2 with F1=0.8582\n",
      "Final validation loss: 0.6203\n",
      "Final validation acc: 80.00%\n",
      "Final validation f1: 0.76%\n",
      "\n",
      "===== Fold 3/10 =====\n"
     ]
    },
    {
     "name": "stderr",
     "output_type": "stream",
     "text": [
      "/home/s.dharia-ra/miniconda3/envs/ml/lib/python3.10/site-packages/torch/nn/modules/transformer.py:379: UserWarning: enable_nested_tensor is True, but self.use_nested_tensor is False because encoder_layer.self_attn.num_heads is odd\n",
      "  warnings.warn(\n"
     ]
    },
    {
     "name": "stdout",
     "output_type": "stream",
     "text": [
      "Final training label acc: 78.85%\n",
      "[Threshold 0.2] -> F1=0.7054 | Acc=0.7105\n",
      "[Threshold 0.3] -> F1=0.7617 | Acc=0.7632\n",
      "[Threshold 0.4] -> F1=0.7889 | Acc=0.7895\n",
      "[Threshold 0.5] -> F1=0.8421 | Acc=0.8421\n",
      "\n",
      "[Best Threshold] = 0.5 with F1=0.8421\n",
      "Final validation loss: 0.2841\n",
      "Final validation acc: 100.00%\n",
      "Final validation f1: 1.00%\n",
      "\n",
      "===== Fold 4/10 =====\n"
     ]
    },
    {
     "name": "stderr",
     "output_type": "stream",
     "text": [
      "/home/s.dharia-ra/miniconda3/envs/ml/lib/python3.10/site-packages/torch/nn/modules/transformer.py:379: UserWarning: enable_nested_tensor is True, but self.use_nested_tensor is False because encoder_layer.self_attn.num_heads is odd\n",
      "  warnings.warn(\n"
     ]
    },
    {
     "name": "stdout",
     "output_type": "stream",
     "text": [
      "Final training label acc: 83.51%\n",
      "[Threshold 0.2] -> F1=0.7871 | Acc=0.7895\n",
      "[Threshold 0.3] -> F1=0.8157 | Acc=0.8158\n",
      "[Threshold 0.4] -> F1=0.8421 | Acc=0.8421\n",
      "[Threshold 0.5] -> F1=0.8421 | Acc=0.8421\n",
      "\n",
      "[Best Threshold] = 0.4 with F1=0.8421\n",
      "Final validation loss: 1.3730\n",
      "Final validation acc: 25.00%\n",
      "Final validation f1: 0.20%\n",
      "\n",
      "===== Fold 5/10 =====\n"
     ]
    },
    {
     "name": "stderr",
     "output_type": "stream",
     "text": [
      "/home/s.dharia-ra/miniconda3/envs/ml/lib/python3.10/site-packages/torch/nn/modules/transformer.py:379: UserWarning: enable_nested_tensor is True, but self.use_nested_tensor is False because encoder_layer.self_attn.num_heads is odd\n",
      "  warnings.warn(\n"
     ]
    },
    {
     "name": "stdout",
     "output_type": "stream",
     "text": [
      "Final training label acc: 78.08%\n",
      "[Threshold 0.2] -> F1=0.7895 | Acc=0.7895\n",
      "[Threshold 0.3] -> F1=0.7889 | Acc=0.7895\n",
      "[Threshold 0.4] -> F1=0.8661 | Acc=0.8684\n",
      "[Threshold 0.5] -> F1=0.8920 | Acc=0.8947\n",
      "\n",
      "[Best Threshold] = 0.5 with F1=0.8920\n",
      "Final validation loss: 0.4696\n",
      "Final validation acc: 100.00%\n",
      "Final validation f1: 1.00%\n",
      "\n",
      "===== Fold 6/10 =====\n"
     ]
    },
    {
     "name": "stderr",
     "output_type": "stream",
     "text": [
      "/home/s.dharia-ra/miniconda3/envs/ml/lib/python3.10/site-packages/torch/nn/modules/transformer.py:379: UserWarning: enable_nested_tensor is True, but self.use_nested_tensor is False because encoder_layer.self_attn.num_heads is odd\n",
      "  warnings.warn(\n"
     ]
    },
    {
     "name": "stdout",
     "output_type": "stream",
     "text": [
      "Final training label acc: 86.99%\n",
      "[Threshold 0.2] -> F1=0.7617 | Acc=0.7632\n",
      "[Threshold 0.3] -> F1=0.7889 | Acc=0.7895\n",
      "[Threshold 0.4] -> F1=0.9206 | Acc=0.9211\n",
      "[Threshold 0.5] -> F1=0.9206 | Acc=0.9211\n",
      "\n",
      "[Best Threshold] = 0.4 with F1=0.9206\n",
      "Final validation loss: 3.5316\n",
      "Final validation acc: 0.00%\n",
      "Final validation f1: 0.00%\n",
      "\n",
      "===== Fold 7/10 =====\n"
     ]
    },
    {
     "name": "stderr",
     "output_type": "stream",
     "text": [
      "/home/s.dharia-ra/miniconda3/envs/ml/lib/python3.10/site-packages/torch/nn/modules/transformer.py:379: UserWarning: enable_nested_tensor is True, but self.use_nested_tensor is False because encoder_layer.self_attn.num_heads is odd\n",
      "  warnings.warn(\n"
     ]
    },
    {
     "name": "stdout",
     "output_type": "stream",
     "text": [
      "Final training label acc: 82.59%\n",
      "[Threshold 0.2] -> F1=0.7339 | Acc=0.7368\n",
      "[Threshold 0.3] -> F1=0.7617 | Acc=0.7632\n",
      "[Threshold 0.4] -> F1=0.7889 | Acc=0.7895\n",
      "[Threshold 0.5] -> F1=0.8417 | Acc=0.8421\n",
      "\n",
      "[Best Threshold] = 0.5 with F1=0.8417\n",
      "Final validation loss: 1.3582\n",
      "Final validation acc: 50.00%\n",
      "Final validation f1: 0.33%\n",
      "\n",
      "===== Fold 8/10 =====\n"
     ]
    },
    {
     "name": "stderr",
     "output_type": "stream",
     "text": [
      "/home/s.dharia-ra/miniconda3/envs/ml/lib/python3.10/site-packages/torch/nn/modules/transformer.py:379: UserWarning: enable_nested_tensor is True, but self.use_nested_tensor is False because encoder_layer.self_attn.num_heads is odd\n",
      "  warnings.warn(\n"
     ]
    },
    {
     "name": "stdout",
     "output_type": "stream",
     "text": [
      "Final training label acc: 85.10%\n",
      "[Threshold 0.2] -> F1=0.7054 | Acc=0.7105\n",
      "[Threshold 0.3] -> F1=0.8157 | Acc=0.8158\n",
      "[Threshold 0.4] -> F1=0.8683 | Acc=0.8684\n",
      "[Threshold 0.5] -> F1=0.8936 | Acc=0.8947\n",
      "\n",
      "[Best Threshold] = 0.5 with F1=0.8936\n",
      "Final validation loss: 1.2532\n",
      "Final validation acc: 25.00%\n",
      "Final validation f1: 0.20%\n",
      "\n",
      "===== Fold 9/10 =====\n"
     ]
    },
    {
     "name": "stderr",
     "output_type": "stream",
     "text": [
      "/home/s.dharia-ra/miniconda3/envs/ml/lib/python3.10/site-packages/torch/nn/modules/transformer.py:379: UserWarning: enable_nested_tensor is True, but self.use_nested_tensor is False because encoder_layer.self_attn.num_heads is odd\n",
      "  warnings.warn(\n"
     ]
    },
    {
     "name": "stdout",
     "output_type": "stream",
     "text": [
      "Final training label acc: 81.14%\n",
      "[Threshold 0.2] -> F1=0.8157 | Acc=0.8158\n",
      "[Threshold 0.3] -> F1=0.8936 | Acc=0.8947\n",
      "[Threshold 0.4] -> F1=0.8920 | Acc=0.8947\n",
      "[Threshold 0.5] -> F1=0.8920 | Acc=0.8947\n",
      "\n",
      "[Best Threshold] = 0.3 with F1=0.8936\n",
      "Final validation loss: 0.8112\n",
      "Final validation acc: 75.00%\n",
      "Final validation f1: 0.73%\n",
      "\n",
      "===== Fold 10/10 =====\n"
     ]
    },
    {
     "name": "stderr",
     "output_type": "stream",
     "text": [
      "/home/s.dharia-ra/miniconda3/envs/ml/lib/python3.10/site-packages/torch/nn/modules/transformer.py:379: UserWarning: enable_nested_tensor is True, but self.use_nested_tensor is False because encoder_layer.self_attn.num_heads is odd\n",
      "  warnings.warn(\n"
     ]
    },
    {
     "name": "stdout",
     "output_type": "stream",
     "text": [
      "Final training label acc: 85.49%\n",
      "[Threshold 0.2] -> F1=0.6459 | Acc=0.6579\n",
      "[Threshold 0.3] -> F1=0.7054 | Acc=0.7105\n",
      "[Threshold 0.4] -> F1=0.7339 | Acc=0.7368\n",
      "[Threshold 0.5] -> F1=0.7889 | Acc=0.7895\n",
      "\n",
      "[Best Threshold] = 0.5 with F1=0.7889\n",
      "Final validation loss: 1.5417\n",
      "Final validation acc: 50.00%\n",
      "Final validation f1: 0.33%\n",
      "\n",
      "=== Cross‐Val Results ===\n",
      "Accuracies per fold: [60.0, 80.0, 100.0, 25.0, 100.0, 0.0, 50.0, 25.0, 75.0, 50.0]\n",
      "Mean acc: 56.50%, Std: 31.55%\n",
      "Mean f1: 0.51%, Std: 0.33%\n",
      "\n",
      "===== Fold 1/10 =====\n"
     ]
    },
    {
     "name": "stderr",
     "output_type": "stream",
     "text": [
      "/home/s.dharia-ra/miniconda3/envs/ml/lib/python3.10/site-packages/torch/nn/modules/transformer.py:379: UserWarning: enable_nested_tensor is True, but self.use_nested_tensor is False because encoder_layer.self_attn.num_heads is odd\n",
      "  warnings.warn(\n"
     ]
    },
    {
     "name": "stdout",
     "output_type": "stream",
     "text": [
      "Final training label acc: 82.14%\n",
      "[Threshold 0.2] -> F1=0.8645 | Acc=0.8649\n",
      "[Threshold 0.3] -> F1=0.9180 | Acc=0.9189\n",
      "[Threshold 0.4] -> F1=0.9439 | Acc=0.9459\n",
      "[Threshold 0.5] -> F1=0.9439 | Acc=0.9459\n",
      "\n",
      "[Best Threshold] = 0.4 with F1=0.9439\n",
      "Final validation loss: 0.8461\n",
      "Final validation acc: 60.00%\n",
      "Final validation f1: 0.58%\n",
      "\n",
      "===== Fold 2/10 =====\n"
     ]
    },
    {
     "name": "stderr",
     "output_type": "stream",
     "text": [
      "/home/s.dharia-ra/miniconda3/envs/ml/lib/python3.10/site-packages/torch/nn/modules/transformer.py:379: UserWarning: enable_nested_tensor is True, but self.use_nested_tensor is False because encoder_layer.self_attn.num_heads is odd\n",
      "  warnings.warn(\n"
     ]
    },
    {
     "name": "stdout",
     "output_type": "stream",
     "text": [
      "Final training label acc: 84.11%\n",
      "[Threshold 0.2] -> F1=0.8103 | Acc=0.8108\n",
      "[Threshold 0.3] -> F1=0.8918 | Acc=0.8919\n",
      "[Threshold 0.4] -> F1=0.9727 | Acc=0.9730\n",
      "[Threshold 0.5] -> F1=0.9727 | Acc=0.9730\n",
      "\n",
      "[Best Threshold] = 0.4 with F1=0.9727\n",
      "Final validation loss: 1.6050\n",
      "Final validation acc: 60.00%\n",
      "Final validation f1: 0.58%\n",
      "\n",
      "===== Fold 3/10 =====\n"
     ]
    },
    {
     "name": "stderr",
     "output_type": "stream",
     "text": [
      "/home/s.dharia-ra/miniconda3/envs/ml/lib/python3.10/site-packages/torch/nn/modules/transformer.py:379: UserWarning: enable_nested_tensor is True, but self.use_nested_tensor is False because encoder_layer.self_attn.num_heads is odd\n",
      "  warnings.warn(\n"
     ]
    },
    {
     "name": "stdout",
     "output_type": "stream",
     "text": [
      "Final training label acc: 83.15%\n",
      "[Threshold 0.2] -> F1=0.7590 | Acc=0.7632\n",
      "[Threshold 0.3] -> F1=0.8157 | Acc=0.8158\n",
      "[Threshold 0.4] -> F1=0.8421 | Acc=0.8421\n",
      "[Threshold 0.5] -> F1=0.8944 | Acc=0.8947\n",
      "\n",
      "[Best Threshold] = 0.5 with F1=0.8944\n",
      "Final validation loss: 0.6657\n",
      "Final validation acc: 75.00%\n",
      "Final validation f1: 0.73%\n",
      "\n",
      "===== Fold 4/10 =====\n"
     ]
    },
    {
     "name": "stderr",
     "output_type": "stream",
     "text": [
      "/home/s.dharia-ra/miniconda3/envs/ml/lib/python3.10/site-packages/torch/nn/modules/transformer.py:379: UserWarning: enable_nested_tensor is True, but self.use_nested_tensor is False because encoder_layer.self_attn.num_heads is odd\n",
      "  warnings.warn(\n"
     ]
    },
    {
     "name": "stdout",
     "output_type": "stream",
     "text": [
      "Final training label acc: 80.59%\n",
      "[Threshold 0.2] -> F1=0.8157 | Acc=0.8158\n",
      "[Threshold 0.3] -> F1=0.8944 | Acc=0.8947\n",
      "[Threshold 0.4] -> F1=0.8936 | Acc=0.8947\n",
      "[Threshold 0.5] -> F1=0.9197 | Acc=0.9211\n",
      "\n",
      "[Best Threshold] = 0.5 with F1=0.9197\n",
      "Final validation loss: 0.5028\n",
      "Final validation acc: 75.00%\n",
      "Final validation f1: 0.43%\n",
      "\n",
      "===== Fold 5/10 =====\n"
     ]
    },
    {
     "name": "stderr",
     "output_type": "stream",
     "text": [
      "/home/s.dharia-ra/miniconda3/envs/ml/lib/python3.10/site-packages/torch/nn/modules/transformer.py:379: UserWarning: enable_nested_tensor is True, but self.use_nested_tensor is False because encoder_layer.self_attn.num_heads is odd\n",
      "  warnings.warn(\n"
     ]
    },
    {
     "name": "stdout",
     "output_type": "stream",
     "text": [
      "Final training label acc: 79.55%\n",
      "[Threshold 0.2] -> F1=0.7630 | Acc=0.7632\n",
      "[Threshold 0.3] -> F1=0.8157 | Acc=0.8158\n",
      "[Threshold 0.4] -> F1=0.8676 | Acc=0.8684\n",
      "[Threshold 0.5] -> F1=0.8936 | Acc=0.8947\n",
      "\n",
      "[Best Threshold] = 0.5 with F1=0.8936\n",
      "Final validation loss: 0.4734\n",
      "Final validation acc: 100.00%\n",
      "Final validation f1: 1.00%\n",
      "\n",
      "===== Fold 6/10 =====\n"
     ]
    },
    {
     "name": "stderr",
     "output_type": "stream",
     "text": [
      "/home/s.dharia-ra/miniconda3/envs/ml/lib/python3.10/site-packages/torch/nn/modules/transformer.py:379: UserWarning: enable_nested_tensor is True, but self.use_nested_tensor is False because encoder_layer.self_attn.num_heads is odd\n",
      "  warnings.warn(\n"
     ]
    },
    {
     "name": "stdout",
     "output_type": "stream",
     "text": [
      "Final training label acc: 80.76%\n",
      "[Threshold 0.2] -> F1=0.7895 | Acc=0.7895\n",
      "[Threshold 0.3] -> F1=0.8157 | Acc=0.8158\n",
      "[Threshold 0.4] -> F1=0.8417 | Acc=0.8421\n",
      "[Threshold 0.5] -> F1=0.9197 | Acc=0.9211\n",
      "\n",
      "[Best Threshold] = 0.5 with F1=0.9197\n",
      "Final validation loss: 0.6888\n",
      "Final validation acc: 75.00%\n",
      "Final validation f1: 0.73%\n",
      "\n",
      "===== Fold 7/10 =====\n"
     ]
    },
    {
     "name": "stderr",
     "output_type": "stream",
     "text": [
      "/home/s.dharia-ra/miniconda3/envs/ml/lib/python3.10/site-packages/torch/nn/modules/transformer.py:379: UserWarning: enable_nested_tensor is True, but self.use_nested_tensor is False because encoder_layer.self_attn.num_heads is odd\n",
      "  warnings.warn(\n"
     ]
    },
    {
     "name": "stdout",
     "output_type": "stream",
     "text": [
      "Final training label acc: 81.38%\n",
      "[Threshold 0.2] -> F1=0.6459 | Acc=0.6579\n",
      "[Threshold 0.3] -> F1=0.7054 | Acc=0.7105\n",
      "[Threshold 0.4] -> F1=0.7087 | Acc=0.7105\n",
      "[Threshold 0.5] -> F1=0.7630 | Acc=0.7632\n",
      "\n",
      "[Best Threshold] = 0.5 with F1=0.7630\n",
      "Final validation loss: 0.6090\n",
      "Final validation acc: 75.00%\n",
      "Final validation f1: 0.73%\n",
      "\n",
      "===== Fold 8/10 =====\n"
     ]
    },
    {
     "name": "stderr",
     "output_type": "stream",
     "text": [
      "/home/s.dharia-ra/miniconda3/envs/ml/lib/python3.10/site-packages/torch/nn/modules/transformer.py:379: UserWarning: enable_nested_tensor is True, but self.use_nested_tensor is False because encoder_layer.self_attn.num_heads is odd\n",
      "  warnings.warn(\n"
     ]
    },
    {
     "name": "stdout",
     "output_type": "stream",
     "text": [
      "Final training label acc: 87.37%\n",
      "[Threshold 0.2] -> F1=0.7617 | Acc=0.7632\n",
      "[Threshold 0.3] -> F1=0.8683 | Acc=0.8684\n",
      "[Threshold 0.4] -> F1=0.8936 | Acc=0.8947\n",
      "[Threshold 0.5] -> F1=0.8936 | Acc=0.8947\n",
      "\n",
      "[Best Threshold] = 0.4 with F1=0.8936\n",
      "Final validation loss: 1.9218\n",
      "Final validation acc: 50.00%\n",
      "Final validation f1: 0.50%\n",
      "\n",
      "===== Fold 9/10 =====\n"
     ]
    },
    {
     "name": "stderr",
     "output_type": "stream",
     "text": [
      "/home/s.dharia-ra/miniconda3/envs/ml/lib/python3.10/site-packages/torch/nn/modules/transformer.py:379: UserWarning: enable_nested_tensor is True, but self.use_nested_tensor is False because encoder_layer.self_attn.num_heads is odd\n",
      "  warnings.warn(\n"
     ]
    },
    {
     "name": "stdout",
     "output_type": "stream",
     "text": [
      "Final training label acc: 83.90%\n",
      "[Threshold 0.2] -> F1=0.7339 | Acc=0.7368\n",
      "[Threshold 0.3] -> F1=0.8683 | Acc=0.8684\n",
      "[Threshold 0.4] -> F1=0.8936 | Acc=0.8947\n",
      "[Threshold 0.5] -> F1=0.8936 | Acc=0.8947\n",
      "\n",
      "[Best Threshold] = 0.4 with F1=0.8936\n",
      "Final validation loss: 0.8801\n",
      "Final validation acc: 50.00%\n",
      "Final validation f1: 0.33%\n",
      "\n",
      "===== Fold 10/10 =====\n"
     ]
    },
    {
     "name": "stderr",
     "output_type": "stream",
     "text": [
      "/home/s.dharia-ra/miniconda3/envs/ml/lib/python3.10/site-packages/torch/nn/modules/transformer.py:379: UserWarning: enable_nested_tensor is True, but self.use_nested_tensor is False because encoder_layer.self_attn.num_heads is odd\n",
      "  warnings.warn(\n"
     ]
    },
    {
     "name": "stdout",
     "output_type": "stream",
     "text": [
      "Final training label acc: 84.64%\n",
      "[Threshold 0.2] -> F1=0.8157 | Acc=0.8158\n",
      "[Threshold 0.3] -> F1=0.9206 | Acc=0.9211\n",
      "[Threshold 0.4] -> F1=0.9468 | Acc=0.9474\n",
      "[Threshold 0.5] -> F1=0.9732 | Acc=0.9737\n",
      "\n",
      "[Best Threshold] = 0.5 with F1=0.9732\n",
      "Final validation loss: 1.6572\n",
      "Final validation acc: 50.00%\n",
      "Final validation f1: 0.50%\n",
      "\n",
      "=== Cross‐Val Results ===\n",
      "Accuracies per fold: [60.0, 60.0, 75.0, 75.0, 100.0, 75.0, 75.0, 50.0, 50.0, 50.0]\n",
      "Mean acc: 67.00%, Std: 15.20%\n",
      "Mean f1: 0.61%, Std: 0.18%\n",
      "\n",
      "===== Fold 1/10 =====\n"
     ]
    },
    {
     "name": "stderr",
     "output_type": "stream",
     "text": [
      "/home/s.dharia-ra/miniconda3/envs/ml/lib/python3.10/site-packages/torch/nn/modules/transformer.py:379: UserWarning: enable_nested_tensor is True, but self.use_nested_tensor is False because encoder_layer.self_attn.num_heads is odd\n",
      "  warnings.warn(\n"
     ]
    },
    {
     "name": "stdout",
     "output_type": "stream",
     "text": [
      "Final training label acc: 85.97%\n",
      "[Threshold 0.2] -> F1=0.8918 | Acc=0.8919\n",
      "[Threshold 0.3] -> F1=0.9187 | Acc=0.9189\n",
      "[Threshold 0.4] -> F1=0.9456 | Acc=0.9459\n",
      "[Threshold 0.5] -> F1=0.9727 | Acc=0.9730\n",
      "\n",
      "[Best Threshold] = 0.5 with F1=0.9727\n",
      "Final validation loss: 0.8675\n",
      "Final validation acc: 80.00%\n",
      "Final validation f1: 0.80%\n",
      "\n",
      "===== Fold 2/10 =====\n"
     ]
    },
    {
     "name": "stderr",
     "output_type": "stream",
     "text": [
      "/home/s.dharia-ra/miniconda3/envs/ml/lib/python3.10/site-packages/torch/nn/modules/transformer.py:379: UserWarning: enable_nested_tensor is True, but self.use_nested_tensor is False because encoder_layer.self_attn.num_heads is odd\n",
      "  warnings.warn(\n"
     ]
    },
    {
     "name": "stdout",
     "output_type": "stream",
     "text": [
      "Final training label acc: 84.77%\n",
      "[Threshold 0.2] -> F1=0.8103 | Acc=0.8108\n",
      "[Threshold 0.3] -> F1=0.8649 | Acc=0.8649\n",
      "[Threshold 0.4] -> F1=0.9456 | Acc=0.9459\n",
      "[Threshold 0.5] -> F1=0.9727 | Acc=0.9730\n",
      "\n",
      "[Best Threshold] = 0.5 with F1=0.9727\n",
      "Final validation loss: 3.3864\n",
      "Final validation acc: 60.00%\n",
      "Final validation f1: 0.58%\n",
      "\n",
      "===== Fold 3/10 =====\n"
     ]
    },
    {
     "name": "stderr",
     "output_type": "stream",
     "text": [
      "/home/s.dharia-ra/miniconda3/envs/ml/lib/python3.10/site-packages/torch/nn/modules/transformer.py:379: UserWarning: enable_nested_tensor is True, but self.use_nested_tensor is False because encoder_layer.self_attn.num_heads is odd\n",
      "  warnings.warn(\n"
     ]
    },
    {
     "name": "stdout",
     "output_type": "stream",
     "text": [
      "Final training label acc: 84.12%\n",
      "[Threshold 0.2] -> F1=0.7590 | Acc=0.7632\n",
      "[Threshold 0.3] -> F1=0.8146 | Acc=0.8158\n",
      "[Threshold 0.4] -> F1=0.9735 | Acc=0.9737\n",
      "[Threshold 0.5] -> F1=0.9468 | Acc=0.9474\n",
      "\n",
      "[Best Threshold] = 0.4 with F1=0.9735\n",
      "Final validation loss: 0.7907\n",
      "Final validation acc: 50.00%\n",
      "Final validation f1: 0.33%\n",
      "\n",
      "===== Fold 4/10 =====\n"
     ]
    },
    {
     "name": "stderr",
     "output_type": "stream",
     "text": [
      "/home/s.dharia-ra/miniconda3/envs/ml/lib/python3.10/site-packages/torch/nn/modules/transformer.py:379: UserWarning: enable_nested_tensor is True, but self.use_nested_tensor is False because encoder_layer.self_attn.num_heads is odd\n",
      "  warnings.warn(\n"
     ]
    },
    {
     "name": "stdout",
     "output_type": "stream",
     "text": [
      "Final training label acc: 81.54%\n",
      "[Threshold 0.2] -> F1=0.7339 | Acc=0.7368\n",
      "[Threshold 0.3] -> F1=0.8157 | Acc=0.8158\n",
      "[Threshold 0.4] -> F1=0.9206 | Acc=0.9211\n",
      "[Threshold 0.5] -> F1=0.9468 | Acc=0.9474\n",
      "\n",
      "[Best Threshold] = 0.5 with F1=0.9468\n",
      "Final validation loss: 0.4981\n",
      "Final validation acc: 75.00%\n",
      "Final validation f1: 0.73%\n",
      "\n",
      "===== Fold 5/10 =====\n"
     ]
    },
    {
     "name": "stderr",
     "output_type": "stream",
     "text": [
      "/home/s.dharia-ra/miniconda3/envs/ml/lib/python3.10/site-packages/torch/nn/modules/transformer.py:379: UserWarning: enable_nested_tensor is True, but self.use_nested_tensor is False because encoder_layer.self_attn.num_heads is odd\n",
      "  warnings.warn(\n"
     ]
    },
    {
     "name": "stdout",
     "output_type": "stream",
     "text": [
      "Final training label acc: 82.19%\n",
      "[Threshold 0.2] -> F1=0.7889 | Acc=0.7895\n",
      "[Threshold 0.3] -> F1=0.8421 | Acc=0.8421\n",
      "[Threshold 0.4] -> F1=0.8421 | Acc=0.8421\n",
      "[Threshold 0.5] -> F1=0.9206 | Acc=0.9211\n",
      "\n",
      "[Best Threshold] = 0.5 with F1=0.9206\n",
      "Final validation loss: 0.9259\n",
      "Final validation acc: 75.00%\n",
      "Final validation f1: 0.73%\n",
      "\n",
      "===== Fold 6/10 =====\n"
     ]
    },
    {
     "name": "stderr",
     "output_type": "stream",
     "text": [
      "/home/s.dharia-ra/miniconda3/envs/ml/lib/python3.10/site-packages/torch/nn/modules/transformer.py:379: UserWarning: enable_nested_tensor is True, but self.use_nested_tensor is False because encoder_layer.self_attn.num_heads is odd\n",
      "  warnings.warn(\n"
     ]
    },
    {
     "name": "stdout",
     "output_type": "stream",
     "text": [
      "Final training label acc: 82.19%\n",
      "[Threshold 0.2] -> F1=0.7054 | Acc=0.7105\n",
      "[Threshold 0.3] -> F1=0.7889 | Acc=0.7895\n",
      "[Threshold 0.4] -> F1=0.8417 | Acc=0.8421\n",
      "[Threshold 0.5] -> F1=0.8676 | Acc=0.8684\n",
      "\n",
      "[Best Threshold] = 0.5 with F1=0.8676\n",
      "Final validation loss: 0.5797\n",
      "Final validation acc: 75.00%\n",
      "Final validation f1: 0.73%\n",
      "\n",
      "===== Fold 7/10 =====\n"
     ]
    },
    {
     "name": "stderr",
     "output_type": "stream",
     "text": [
      "/home/s.dharia-ra/miniconda3/envs/ml/lib/python3.10/site-packages/torch/nn/modules/transformer.py:379: UserWarning: enable_nested_tensor is True, but self.use_nested_tensor is False because encoder_layer.self_attn.num_heads is odd\n",
      "  warnings.warn(\n"
     ]
    },
    {
     "name": "stdout",
     "output_type": "stream",
     "text": [
      "Final training label acc: 78.50%\n",
      "[Threshold 0.2] -> F1=0.8157 | Acc=0.8158\n",
      "[Threshold 0.3] -> F1=0.8936 | Acc=0.8947\n",
      "[Threshold 0.4] -> F1=0.9460 | Acc=0.9474\n",
      "[Threshold 0.5] -> F1=0.9183 | Acc=0.9211\n",
      "\n",
      "[Best Threshold] = 0.4 with F1=0.9460\n",
      "Final validation loss: 0.4929\n",
      "Final validation acc: 75.00%\n",
      "Final validation f1: 0.73%\n",
      "\n",
      "===== Fold 8/10 =====\n"
     ]
    },
    {
     "name": "stderr",
     "output_type": "stream",
     "text": [
      "/home/s.dharia-ra/miniconda3/envs/ml/lib/python3.10/site-packages/torch/nn/modules/transformer.py:379: UserWarning: enable_nested_tensor is True, but self.use_nested_tensor is False because encoder_layer.self_attn.num_heads is odd\n",
      "  warnings.warn(\n"
     ]
    },
    {
     "name": "stdout",
     "output_type": "stream",
     "text": [
      "Final training label acc: 81.38%\n",
      "[Threshold 0.2] -> F1=0.5818 | Acc=0.6053\n",
      "[Threshold 0.3] -> F1=0.6459 | Acc=0.6579\n",
      "[Threshold 0.4] -> F1=0.7889 | Acc=0.7895\n",
      "[Threshold 0.5] -> F1=0.8421 | Acc=0.8421\n",
      "\n",
      "[Best Threshold] = 0.5 with F1=0.8421\n",
      "Final validation loss: 2.0246\n",
      "Final validation acc: 50.00%\n",
      "Final validation f1: 0.50%\n",
      "\n",
      "===== Fold 9/10 =====\n"
     ]
    },
    {
     "name": "stderr",
     "output_type": "stream",
     "text": [
      "/home/s.dharia-ra/miniconda3/envs/ml/lib/python3.10/site-packages/torch/nn/modules/transformer.py:379: UserWarning: enable_nested_tensor is True, but self.use_nested_tensor is False because encoder_layer.self_attn.num_heads is odd\n",
      "  warnings.warn(\n"
     ]
    },
    {
     "name": "stdout",
     "output_type": "stream",
     "text": [
      "Final training label acc: 78.67%\n",
      "[Threshold 0.2] -> F1=0.6145 | Acc=0.6316\n",
      "[Threshold 0.3] -> F1=0.6761 | Acc=0.6842\n",
      "[Threshold 0.4] -> F1=0.7054 | Acc=0.7105\n",
      "[Threshold 0.5] -> F1=0.7617 | Acc=0.7632\n",
      "\n",
      "[Best Threshold] = 0.5 with F1=0.7617\n",
      "Final validation loss: 0.5574\n",
      "Final validation acc: 50.00%\n",
      "Final validation f1: 0.33%\n",
      "\n",
      "===== Fold 10/10 =====\n"
     ]
    },
    {
     "name": "stderr",
     "output_type": "stream",
     "text": [
      "/home/s.dharia-ra/miniconda3/envs/ml/lib/python3.10/site-packages/torch/nn/modules/transformer.py:379: UserWarning: enable_nested_tensor is True, but self.use_nested_tensor is False because encoder_layer.self_attn.num_heads is odd\n",
      "  warnings.warn(\n"
     ]
    },
    {
     "name": "stdout",
     "output_type": "stream",
     "text": [
      "Final training label acc: 84.76%\n",
      "[Threshold 0.2] -> F1=0.7617 | Acc=0.7632\n",
      "[Threshold 0.3] -> F1=0.7889 | Acc=0.7895\n",
      "[Threshold 0.4] -> F1=0.8683 | Acc=0.8684\n",
      "[Threshold 0.5] -> F1=0.8683 | Acc=0.8684\n",
      "\n",
      "[Best Threshold] = 0.4 with F1=0.8683\n",
      "Final validation loss: 1.5168\n",
      "Final validation acc: 50.00%\n",
      "Final validation f1: 0.33%\n",
      "\n",
      "=== Cross‐Val Results ===\n",
      "Accuracies per fold: [80.0, 60.0, 50.0, 75.0, 75.0, 75.0, 75.0, 50.0, 50.0, 50.0]\n",
      "Mean acc: 64.00%, Std: 12.41%\n",
      "Mean f1: 0.58%, Std: 0.18%\n",
      "\n",
      "===== Fold 1/10 =====\n"
     ]
    },
    {
     "name": "stderr",
     "output_type": "stream",
     "text": [
      "/home/s.dharia-ra/miniconda3/envs/ml/lib/python3.10/site-packages/torch/nn/modules/transformer.py:379: UserWarning: enable_nested_tensor is True, but self.use_nested_tensor is False because encoder_layer.self_attn.num_heads is odd\n",
      "  warnings.warn(\n"
     ]
    },
    {
     "name": "stdout",
     "output_type": "stream",
     "text": [
      "Final training label acc: 84.30%\n",
      "[Threshold 0.2] -> F1=0.7247 | Acc=0.7297\n",
      "[Threshold 0.3] -> F1=0.7824 | Acc=0.7838\n",
      "[Threshold 0.4] -> F1=0.8918 | Acc=0.8919\n",
      "[Threshold 0.5] -> F1=0.8645 | Acc=0.8649\n",
      "\n",
      "[Best Threshold] = 0.4 with F1=0.8918\n",
      "Final validation loss: 1.4855\n",
      "Final validation acc: 60.00%\n",
      "Final validation f1: 0.58%\n",
      "\n",
      "===== Fold 2/10 =====\n"
     ]
    },
    {
     "name": "stderr",
     "output_type": "stream",
     "text": [
      "/home/s.dharia-ra/miniconda3/envs/ml/lib/python3.10/site-packages/torch/nn/modules/transformer.py:379: UserWarning: enable_nested_tensor is True, but self.use_nested_tensor is False because encoder_layer.self_attn.num_heads is odd\n",
      "  warnings.warn(\n"
     ]
    },
    {
     "name": "stdout",
     "output_type": "stream",
     "text": [
      "Final training label acc: 79.82%\n",
      "[Threshold 0.2] -> F1=0.8108 | Acc=0.8108\n",
      "[Threshold 0.3] -> F1=0.8645 | Acc=0.8649\n",
      "[Threshold 0.4] -> F1=0.8899 | Acc=0.8919\n",
      "[Threshold 0.5] -> F1=0.9167 | Acc=0.9189\n",
      "\n",
      "[Best Threshold] = 0.5 with F1=0.9167\n",
      "Final validation loss: 0.4287\n",
      "Final validation acc: 80.00%\n",
      "Final validation f1: 0.76%\n",
      "\n",
      "===== Fold 3/10 =====\n"
     ]
    },
    {
     "name": "stderr",
     "output_type": "stream",
     "text": [
      "/home/s.dharia-ra/miniconda3/envs/ml/lib/python3.10/site-packages/torch/nn/modules/transformer.py:379: UserWarning: enable_nested_tensor is True, but self.use_nested_tensor is False because encoder_layer.self_attn.num_heads is odd\n",
      "  warnings.warn(\n"
     ]
    },
    {
     "name": "stdout",
     "output_type": "stream",
     "text": [
      "Final training label acc: 82.31%\n",
      "[Threshold 0.2] -> F1=0.8421 | Acc=0.8421\n",
      "[Threshold 0.3] -> F1=0.8683 | Acc=0.8684\n",
      "[Threshold 0.4] -> F1=0.8944 | Acc=0.8947\n",
      "[Threshold 0.5] -> F1=0.9468 | Acc=0.9474\n",
      "\n",
      "[Best Threshold] = 0.5 with F1=0.9468\n",
      "Final validation loss: 1.1903\n",
      "Final validation acc: 75.00%\n",
      "Final validation f1: 0.73%\n",
      "\n",
      "===== Fold 4/10 =====\n"
     ]
    },
    {
     "name": "stderr",
     "output_type": "stream",
     "text": [
      "/home/s.dharia-ra/miniconda3/envs/ml/lib/python3.10/site-packages/torch/nn/modules/transformer.py:379: UserWarning: enable_nested_tensor is True, but self.use_nested_tensor is False because encoder_layer.self_attn.num_heads is odd\n",
      "  warnings.warn(\n"
     ]
    },
    {
     "name": "stdout",
     "output_type": "stream",
     "text": [
      "Final training label acc: 83.45%\n",
      "[Threshold 0.2] -> F1=0.7871 | Acc=0.7895\n",
      "[Threshold 0.3] -> F1=0.8157 | Acc=0.8158\n",
      "[Threshold 0.4] -> F1=0.8683 | Acc=0.8684\n",
      "[Threshold 0.5] -> F1=0.8944 | Acc=0.8947\n",
      "\n",
      "[Best Threshold] = 0.5 with F1=0.8944\n",
      "Final validation loss: 0.8118\n",
      "Final validation acc: 50.00%\n",
      "Final validation f1: 0.50%\n",
      "\n",
      "===== Fold 5/10 =====\n"
     ]
    },
    {
     "name": "stderr",
     "output_type": "stream",
     "text": [
      "/home/s.dharia-ra/miniconda3/envs/ml/lib/python3.10/site-packages/torch/nn/modules/transformer.py:379: UserWarning: enable_nested_tensor is True, but self.use_nested_tensor is False because encoder_layer.self_attn.num_heads is odd\n",
      "  warnings.warn(\n"
     ]
    },
    {
     "name": "stdout",
     "output_type": "stream",
     "text": [
      "Final training label acc: 83.56%\n",
      "[Threshold 0.2] -> F1=0.7339 | Acc=0.7368\n",
      "[Threshold 0.3] -> F1=0.8157 | Acc=0.8158\n",
      "[Threshold 0.4] -> F1=0.8683 | Acc=0.8684\n",
      "[Threshold 0.5] -> F1=0.8944 | Acc=0.8947\n",
      "\n",
      "[Best Threshold] = 0.5 with F1=0.8944\n",
      "Final validation loss: 1.8816\n",
      "Final validation acc: 75.00%\n",
      "Final validation f1: 0.73%\n",
      "\n",
      "===== Fold 6/10 =====\n"
     ]
    },
    {
     "name": "stderr",
     "output_type": "stream",
     "text": [
      "/home/s.dharia-ra/miniconda3/envs/ml/lib/python3.10/site-packages/torch/nn/modules/transformer.py:379: UserWarning: enable_nested_tensor is True, but self.use_nested_tensor is False because encoder_layer.self_attn.num_heads is odd\n",
      "  warnings.warn(\n"
     ]
    },
    {
     "name": "stdout",
     "output_type": "stream",
     "text": [
      "Final training label acc: 84.30%\n",
      "[Threshold 0.2] -> F1=0.8417 | Acc=0.8421\n",
      "[Threshold 0.3] -> F1=0.8936 | Acc=0.8947\n",
      "[Threshold 0.4] -> F1=0.9197 | Acc=0.9211\n",
      "[Threshold 0.5] -> F1=0.9197 | Acc=0.9211\n",
      "\n",
      "[Best Threshold] = 0.4 with F1=0.9197\n",
      "Final validation loss: 0.4337\n",
      "Final validation acc: 75.00%\n",
      "Final validation f1: 0.73%\n",
      "\n",
      "===== Fold 7/10 =====\n"
     ]
    },
    {
     "name": "stderr",
     "output_type": "stream",
     "text": [
      "/home/s.dharia-ra/miniconda3/envs/ml/lib/python3.10/site-packages/torch/nn/modules/transformer.py:379: UserWarning: enable_nested_tensor is True, but self.use_nested_tensor is False because encoder_layer.self_attn.num_heads is odd\n",
      "  warnings.warn(\n"
     ]
    },
    {
     "name": "stdout",
     "output_type": "stream",
     "text": [
      "Final training label acc: 87.33%\n",
      "[Threshold 0.2] -> F1=0.9732 | Acc=0.9737\n",
      "[Threshold 0.3] -> F1=0.9728 | Acc=0.9737\n",
      "[Threshold 0.4] -> F1=0.9728 | Acc=0.9737\n",
      "[Threshold 0.5] -> F1=0.9728 | Acc=0.9737\n",
      "\n",
      "[Best Threshold] = 0.2 with F1=0.9732\n",
      "Final validation loss: 1.9244\n",
      "Final validation acc: 75.00%\n",
      "Final validation f1: 0.73%\n",
      "\n",
      "===== Fold 8/10 =====\n"
     ]
    },
    {
     "name": "stderr",
     "output_type": "stream",
     "text": [
      "/home/s.dharia-ra/miniconda3/envs/ml/lib/python3.10/site-packages/torch/nn/modules/transformer.py:379: UserWarning: enable_nested_tensor is True, but self.use_nested_tensor is False because encoder_layer.self_attn.num_heads is odd\n",
      "  warnings.warn(\n"
     ]
    },
    {
     "name": "stdout",
     "output_type": "stream",
     "text": [
      "Final training label acc: 82.82%\n",
      "[Threshold 0.2] -> F1=0.7889 | Acc=0.7895\n",
      "[Threshold 0.3] -> F1=0.8683 | Acc=0.8684\n",
      "[Threshold 0.4] -> F1=0.8944 | Acc=0.8947\n",
      "[Threshold 0.5] -> F1=0.8936 | Acc=0.8947\n",
      "\n",
      "[Best Threshold] = 0.4 with F1=0.8944\n",
      "Final validation loss: 0.5781\n",
      "Final validation acc: 50.00%\n",
      "Final validation f1: 0.33%\n",
      "\n",
      "===== Fold 9/10 =====\n"
     ]
    },
    {
     "name": "stderr",
     "output_type": "stream",
     "text": [
      "/home/s.dharia-ra/miniconda3/envs/ml/lib/python3.10/site-packages/torch/nn/modules/transformer.py:379: UserWarning: enable_nested_tensor is True, but self.use_nested_tensor is False because encoder_layer.self_attn.num_heads is odd\n",
      "  warnings.warn(\n"
     ]
    },
    {
     "name": "stdout",
     "output_type": "stream",
     "text": [
      "Final training label acc: 85.10%\n",
      "[Threshold 0.2] -> F1=0.9197 | Acc=0.9211\n",
      "[Threshold 0.3] -> F1=0.9460 | Acc=0.9474\n",
      "[Threshold 0.4] -> F1=0.9728 | Acc=0.9737\n",
      "[Threshold 0.5] -> F1=0.9449 | Acc=0.9474\n",
      "\n",
      "[Best Threshold] = 0.4 with F1=0.9728\n",
      "Final validation loss: 2.6526\n",
      "Final validation acc: 25.00%\n",
      "Final validation f1: 0.20%\n",
      "\n",
      "===== Fold 10/10 =====\n"
     ]
    },
    {
     "name": "stderr",
     "output_type": "stream",
     "text": [
      "/home/s.dharia-ra/miniconda3/envs/ml/lib/python3.10/site-packages/torch/nn/modules/transformer.py:379: UserWarning: enable_nested_tensor is True, but self.use_nested_tensor is False because encoder_layer.self_attn.num_heads is odd\n",
      "  warnings.warn(\n"
     ]
    },
    {
     "name": "stdout",
     "output_type": "stream",
     "text": [
      "Final training label acc: 81.44%\n",
      "[Threshold 0.2] -> F1=0.7617 | Acc=0.7632\n",
      "[Threshold 0.3] -> F1=0.7889 | Acc=0.7895\n",
      "[Threshold 0.4] -> F1=0.8421 | Acc=0.8421\n",
      "[Threshold 0.5] -> F1=0.8676 | Acc=0.8684\n",
      "\n",
      "[Best Threshold] = 0.5 with F1=0.8676\n",
      "Final validation loss: 0.4577\n",
      "Final validation acc: 75.00%\n",
      "Final validation f1: 0.73%\n",
      "\n",
      "=== Cross‐Val Results ===\n",
      "Accuracies per fold: [60.0, 80.0, 75.0, 50.0, 75.0, 75.0, 75.0, 50.0, 25.0, 75.0]\n",
      "Mean acc: 64.00%, Std: 16.70%\n",
      "Mean f1: 0.60%, Std: 0.19%\n",
      "\n",
      "===== Fold 1/10 =====\n"
     ]
    },
    {
     "name": "stderr",
     "output_type": "stream",
     "text": [
      "/home/s.dharia-ra/miniconda3/envs/ml/lib/python3.10/site-packages/torch/nn/modules/transformer.py:379: UserWarning: enable_nested_tensor is True, but self.use_nested_tensor is False because encoder_layer.self_attn.num_heads is odd\n",
      "  warnings.warn(\n"
     ]
    },
    {
     "name": "stdout",
     "output_type": "stream",
     "text": [
      "Final training label acc: 85.74%\n",
      "[Threshold 0.2] -> F1=0.8918 | Acc=0.8919\n",
      "[Threshold 0.3] -> F1=0.9180 | Acc=0.9189\n",
      "[Threshold 0.4] -> F1=0.9722 | Acc=0.9730\n",
      "[Threshold 0.5] -> F1=0.9722 | Acc=0.9730\n",
      "\n",
      "[Best Threshold] = 0.4 with F1=0.9722\n",
      "Final validation loss: 2.5760\n",
      "Final validation acc: 60.00%\n",
      "Final validation f1: 0.58%\n",
      "\n",
      "===== Fold 2/10 =====\n"
     ]
    },
    {
     "name": "stderr",
     "output_type": "stream",
     "text": [
      "/home/s.dharia-ra/miniconda3/envs/ml/lib/python3.10/site-packages/torch/nn/modules/transformer.py:379: UserWarning: enable_nested_tensor is True, but self.use_nested_tensor is False because encoder_layer.self_attn.num_heads is odd\n",
      "  warnings.warn(\n"
     ]
    },
    {
     "name": "stdout",
     "output_type": "stream",
     "text": [
      "Final training label acc: 82.07%\n",
      "[Threshold 0.2] -> F1=0.8377 | Acc=0.8378\n",
      "[Threshold 0.3] -> F1=0.9180 | Acc=0.9189\n",
      "[Threshold 0.4] -> F1=0.9449 | Acc=0.9459\n",
      "[Threshold 0.5] -> F1=0.9449 | Acc=0.9459\n",
      "\n",
      "[Best Threshold] = 0.4 with F1=0.9449\n",
      "Final validation loss: 0.4434\n",
      "Final validation acc: 80.00%\n",
      "Final validation f1: 0.80%\n",
      "\n",
      "===== Fold 3/10 =====\n"
     ]
    },
    {
     "name": "stderr",
     "output_type": "stream",
     "text": [
      "/home/s.dharia-ra/miniconda3/envs/ml/lib/python3.10/site-packages/torch/nn/modules/transformer.py:379: UserWarning: enable_nested_tensor is True, but self.use_nested_tensor is False because encoder_layer.self_attn.num_heads is odd\n",
      "  warnings.warn(\n"
     ]
    },
    {
     "name": "stdout",
     "output_type": "stream",
     "text": [
      "Final training label acc: 84.95%\n",
      "[Threshold 0.2] -> F1=0.8146 | Acc=0.8158\n",
      "[Threshold 0.3] -> F1=0.8683 | Acc=0.8684\n",
      "[Threshold 0.4] -> F1=0.9206 | Acc=0.9211\n",
      "[Threshold 0.5] -> F1=0.9468 | Acc=0.9474\n",
      "\n",
      "[Best Threshold] = 0.5 with F1=0.9468\n",
      "Final validation loss: 1.4077\n",
      "Final validation acc: 75.00%\n",
      "Final validation f1: 0.43%\n",
      "\n",
      "===== Fold 4/10 =====\n"
     ]
    },
    {
     "name": "stderr",
     "output_type": "stream",
     "text": [
      "/home/s.dharia-ra/miniconda3/envs/ml/lib/python3.10/site-packages/torch/nn/modules/transformer.py:379: UserWarning: enable_nested_tensor is True, but self.use_nested_tensor is False because encoder_layer.self_attn.num_heads is odd\n",
      "  warnings.warn(\n"
     ]
    },
    {
     "name": "stdout",
     "output_type": "stream",
     "text": [
      "Final training label acc: 86.69%\n",
      "[Threshold 0.2] -> F1=0.8417 | Acc=0.8421\n",
      "[Threshold 0.3] -> F1=0.8947 | Acc=0.8947\n",
      "[Threshold 0.4] -> F1=0.8947 | Acc=0.8947\n",
      "[Threshold 0.5] -> F1=0.9735 | Acc=0.9737\n",
      "\n",
      "[Best Threshold] = 0.5 with F1=0.9735\n",
      "Final validation loss: 2.6753\n",
      "Final validation acc: 0.00%\n",
      "Final validation f1: 0.00%\n",
      "\n",
      "===== Fold 5/10 =====\n"
     ]
    },
    {
     "name": "stderr",
     "output_type": "stream",
     "text": [
      "/home/s.dharia-ra/miniconda3/envs/ml/lib/python3.10/site-packages/torch/nn/modules/transformer.py:379: UserWarning: enable_nested_tensor is True, but self.use_nested_tensor is False because encoder_layer.self_attn.num_heads is odd\n",
      "  warnings.warn(\n"
     ]
    },
    {
     "name": "stdout",
     "output_type": "stream",
     "text": [
      "Final training label acc: 83.33%\n",
      "[Threshold 0.2] -> F1=0.7339 | Acc=0.7368\n",
      "[Threshold 0.3] -> F1=0.7889 | Acc=0.7895\n",
      "[Threshold 0.4] -> F1=0.8944 | Acc=0.8947\n",
      "[Threshold 0.5] -> F1=0.9206 | Acc=0.9211\n",
      "\n",
      "[Best Threshold] = 0.5 with F1=0.9206\n",
      "Final validation loss: 1.0335\n",
      "Final validation acc: 50.00%\n",
      "Final validation f1: 0.50%\n",
      "\n",
      "===== Fold 6/10 =====\n"
     ]
    },
    {
     "name": "stderr",
     "output_type": "stream",
     "text": [
      "/home/s.dharia-ra/miniconda3/envs/ml/lib/python3.10/site-packages/torch/nn/modules/transformer.py:379: UserWarning: enable_nested_tensor is True, but self.use_nested_tensor is False because encoder_layer.self_attn.num_heads is odd\n",
      "  warnings.warn(\n"
     ]
    },
    {
     "name": "stdout",
     "output_type": "stream",
     "text": [
      "Final training label acc: 79.11%\n",
      "[Threshold 0.2] -> F1=0.8676 | Acc=0.8684\n",
      "[Threshold 0.3] -> F1=0.8936 | Acc=0.8947\n",
      "[Threshold 0.4] -> F1=0.9728 | Acc=0.9737\n",
      "[Threshold 0.5] -> F1=0.8869 | Acc=0.8947\n",
      "\n",
      "[Best Threshold] = 0.4 with F1=0.9728\n",
      "Final validation loss: 0.6218\n",
      "Final validation acc: 75.00%\n",
      "Final validation f1: 0.73%\n",
      "\n",
      "===== Fold 7/10 =====\n"
     ]
    },
    {
     "name": "stderr",
     "output_type": "stream",
     "text": [
      "/home/s.dharia-ra/miniconda3/envs/ml/lib/python3.10/site-packages/torch/nn/modules/transformer.py:379: UserWarning: enable_nested_tensor is True, but self.use_nested_tensor is False because encoder_layer.self_attn.num_heads is odd\n",
      "  warnings.warn(\n"
     ]
    },
    {
     "name": "stdout",
     "output_type": "stream",
     "text": [
      "Final training label acc: 74.23%\n",
      "[Threshold 0.2] -> F1=0.7889 | Acc=0.7895\n",
      "[Threshold 0.3] -> F1=0.8157 | Acc=0.8158\n",
      "[Threshold 0.4] -> F1=0.8944 | Acc=0.8947\n",
      "[Threshold 0.5] -> F1=0.8936 | Acc=0.8947\n",
      "\n",
      "[Best Threshold] = 0.4 with F1=0.8944\n",
      "Final validation loss: 0.7106\n",
      "Final validation acc: 75.00%\n",
      "Final validation f1: 0.73%\n",
      "\n",
      "===== Fold 8/10 =====\n"
     ]
    },
    {
     "name": "stderr",
     "output_type": "stream",
     "text": [
      "/home/s.dharia-ra/miniconda3/envs/ml/lib/python3.10/site-packages/torch/nn/modules/transformer.py:379: UserWarning: enable_nested_tensor is True, but self.use_nested_tensor is False because encoder_layer.self_attn.num_heads is odd\n",
      "  warnings.warn(\n"
     ]
    },
    {
     "name": "stdout",
     "output_type": "stream",
     "text": [
      "Final training label acc: 81.74%\n",
      "[Threshold 0.2] -> F1=0.7054 | Acc=0.7105\n",
      "[Threshold 0.3] -> F1=0.7889 | Acc=0.7895\n",
      "[Threshold 0.4] -> F1=0.8421 | Acc=0.8421\n",
      "[Threshold 0.5] -> F1=0.8936 | Acc=0.8947\n",
      "\n",
      "[Best Threshold] = 0.5 with F1=0.8936\n",
      "Final validation loss: 0.4710\n",
      "Final validation acc: 75.00%\n",
      "Final validation f1: 0.73%\n",
      "\n",
      "===== Fold 9/10 =====\n"
     ]
    },
    {
     "name": "stderr",
     "output_type": "stream",
     "text": [
      "/home/s.dharia-ra/miniconda3/envs/ml/lib/python3.10/site-packages/torch/nn/modules/transformer.py:379: UserWarning: enable_nested_tensor is True, but self.use_nested_tensor is False because encoder_layer.self_attn.num_heads is odd\n",
      "  warnings.warn(\n"
     ]
    },
    {
     "name": "stdout",
     "output_type": "stream",
     "text": [
      "Final training label acc: 81.68%\n",
      "[Threshold 0.2] -> F1=0.6761 | Acc=0.6842\n",
      "[Threshold 0.3] -> F1=0.8421 | Acc=0.8421\n",
      "[Threshold 0.4] -> F1=0.8944 | Acc=0.8947\n",
      "[Threshold 0.5] -> F1=0.8936 | Acc=0.8947\n",
      "\n",
      "[Best Threshold] = 0.4 with F1=0.8944\n",
      "Final validation loss: 0.4884\n",
      "Final validation acc: 75.00%\n",
      "Final validation f1: 0.73%\n",
      "\n",
      "===== Fold 10/10 =====\n"
     ]
    },
    {
     "name": "stderr",
     "output_type": "stream",
     "text": [
      "/home/s.dharia-ra/miniconda3/envs/ml/lib/python3.10/site-packages/torch/nn/modules/transformer.py:379: UserWarning: enable_nested_tensor is True, but self.use_nested_tensor is False because encoder_layer.self_attn.num_heads is odd\n",
      "  warnings.warn(\n"
     ]
    },
    {
     "name": "stdout",
     "output_type": "stream",
     "text": [
      "Final training label acc: 81.91%\n",
      "[Threshold 0.2] -> F1=0.7630 | Acc=0.7632\n",
      "[Threshold 0.3] -> F1=0.7895 | Acc=0.7895\n",
      "[Threshold 0.4] -> F1=0.8676 | Acc=0.8684\n",
      "[Threshold 0.5] -> F1=0.9197 | Acc=0.9211\n",
      "\n",
      "[Best Threshold] = 0.5 with F1=0.9197\n",
      "Final validation loss: 0.6488\n",
      "Final validation acc: 75.00%\n",
      "Final validation f1: 0.73%\n",
      "\n",
      "=== Cross‐Val Results ===\n",
      "Accuracies per fold: [60.0, 80.0, 75.0, 0.0, 50.0, 75.0, 75.0, 75.0, 75.0, 75.0]\n",
      "Mean acc: 64.00%, Std: 23.00%\n",
      "Mean f1: 0.60%, Std: 0.23%\n",
      "\n",
      "===== Fold 1/10 =====\n"
     ]
    },
    {
     "name": "stderr",
     "output_type": "stream",
     "text": [
      "/home/s.dharia-ra/miniconda3/envs/ml/lib/python3.10/site-packages/torch/nn/modules/transformer.py:379: UserWarning: enable_nested_tensor is True, but self.use_nested_tensor is False because encoder_layer.self_attn.num_heads is odd\n",
      "  warnings.warn(\n"
     ]
    },
    {
     "name": "stdout",
     "output_type": "stream",
     "text": [
      "Final training label acc: 79.68%\n",
      "[Threshold 0.2] -> F1=0.7824 | Acc=0.7838\n",
      "[Threshold 0.3] -> F1=0.8649 | Acc=0.8649\n",
      "[Threshold 0.4] -> F1=0.9187 | Acc=0.9189\n",
      "[Threshold 0.5] -> F1=0.9187 | Acc=0.9189\n",
      "\n",
      "[Best Threshold] = 0.4 with F1=0.9187\n",
      "Final validation loss: 0.6952\n",
      "Final validation acc: 80.00%\n",
      "Final validation f1: 0.80%\n",
      "\n",
      "===== Fold 2/10 =====\n"
     ]
    },
    {
     "name": "stderr",
     "output_type": "stream",
     "text": [
      "/home/s.dharia-ra/miniconda3/envs/ml/lib/python3.10/site-packages/torch/nn/modules/transformer.py:379: UserWarning: enable_nested_tensor is True, but self.use_nested_tensor is False because encoder_layer.self_attn.num_heads is odd\n",
      "  warnings.warn(\n"
     ]
    },
    {
     "name": "stdout",
     "output_type": "stream",
     "text": [
      "Final training label acc: 81.70%\n",
      "[Threshold 0.2] -> F1=0.8912 | Acc=0.8919\n",
      "[Threshold 0.3] -> F1=0.9722 | Acc=0.9730\n",
      "[Threshold 0.4] -> F1=0.9722 | Acc=0.9730\n",
      "[Threshold 0.5] -> F1=0.9149 | Acc=0.9189\n",
      "\n",
      "[Best Threshold] = 0.3 with F1=0.9722\n",
      "Final validation loss: 0.9020\n",
      "Final validation acc: 80.00%\n",
      "Final validation f1: 0.76%\n",
      "\n",
      "===== Fold 3/10 =====\n"
     ]
    },
    {
     "name": "stderr",
     "output_type": "stream",
     "text": [
      "/home/s.dharia-ra/miniconda3/envs/ml/lib/python3.10/site-packages/torch/nn/modules/transformer.py:379: UserWarning: enable_nested_tensor is True, but self.use_nested_tensor is False because encoder_layer.self_attn.num_heads is odd\n",
      "  warnings.warn(\n"
     ]
    },
    {
     "name": "stdout",
     "output_type": "stream",
     "text": [
      "Final training label acc: 82.80%\n",
      "[Threshold 0.2] -> F1=0.8947 | Acc=0.8947\n",
      "[Threshold 0.3] -> F1=0.9472 | Acc=0.9474\n",
      "[Threshold 0.4] -> F1=0.9735 | Acc=0.9737\n",
      "[Threshold 0.5] -> F1=0.9732 | Acc=0.9737\n",
      "\n",
      "[Best Threshold] = 0.4 with F1=0.9735\n",
      "Final validation loss: 1.1192\n",
      "Final validation acc: 25.00%\n",
      "Final validation f1: 0.20%\n",
      "\n",
      "===== Fold 4/10 =====\n"
     ]
    },
    {
     "name": "stderr",
     "output_type": "stream",
     "text": [
      "/home/s.dharia-ra/miniconda3/envs/ml/lib/python3.10/site-packages/torch/nn/modules/transformer.py:379: UserWarning: enable_nested_tensor is True, but self.use_nested_tensor is False because encoder_layer.self_attn.num_heads is odd\n",
      "  warnings.warn(\n"
     ]
    },
    {
     "name": "stdout",
     "output_type": "stream",
     "text": [
      "Final training label acc: 81.25%\n",
      "[Threshold 0.2] -> F1=0.7004 | Acc=0.7105\n",
      "[Threshold 0.3] -> F1=0.7301 | Acc=0.7368\n",
      "[Threshold 0.4] -> F1=0.7871 | Acc=0.7895\n",
      "[Threshold 0.5] -> F1=0.8146 | Acc=0.8158\n",
      "\n",
      "[Best Threshold] = 0.5 with F1=0.8146\n",
      "Final validation loss: 0.6834\n",
      "Final validation acc: 50.00%\n",
      "Final validation f1: 0.50%\n",
      "\n",
      "===== Fold 5/10 =====\n"
     ]
    },
    {
     "name": "stderr",
     "output_type": "stream",
     "text": [
      "/home/s.dharia-ra/miniconda3/envs/ml/lib/python3.10/site-packages/torch/nn/modules/transformer.py:379: UserWarning: enable_nested_tensor is True, but self.use_nested_tensor is False because encoder_layer.self_attn.num_heads is odd\n",
      "  warnings.warn(\n"
     ]
    },
    {
     "name": "stdout",
     "output_type": "stream",
     "text": [
      "Final training label acc: 76.88%\n",
      "[Threshold 0.2] -> F1=0.8638 | Acc=0.8684\n",
      "[Threshold 0.3] -> F1=0.8606 | Acc=0.8684\n",
      "[Threshold 0.4] -> F1=0.8606 | Acc=0.8684\n",
      "[Threshold 0.5] -> F1=0.8564 | Acc=0.8684\n",
      "\n",
      "[Best Threshold] = 0.2 with F1=0.8638\n",
      "Final validation loss: 0.6321\n",
      "Final validation acc: 50.00%\n",
      "Final validation f1: 0.33%\n",
      "\n",
      "===== Fold 6/10 =====\n"
     ]
    },
    {
     "name": "stderr",
     "output_type": "stream",
     "text": [
      "/home/s.dharia-ra/miniconda3/envs/ml/lib/python3.10/site-packages/torch/nn/modules/transformer.py:379: UserWarning: enable_nested_tensor is True, but self.use_nested_tensor is False because encoder_layer.self_attn.num_heads is odd\n",
      "  warnings.warn(\n"
     ]
    },
    {
     "name": "stdout",
     "output_type": "stream",
     "text": [
      "Final training label acc: 83.56%\n",
      "[Threshold 0.2] -> F1=0.8683 | Acc=0.8684\n",
      "[Threshold 0.3] -> F1=0.8936 | Acc=0.8947\n",
      "[Threshold 0.4] -> F1=0.9460 | Acc=0.9474\n",
      "[Threshold 0.5] -> F1=0.9460 | Acc=0.9474\n",
      "\n",
      "[Best Threshold] = 0.4 with F1=0.9460\n",
      "Final validation loss: 1.1730\n",
      "Final validation acc: 75.00%\n",
      "Final validation f1: 0.73%\n",
      "\n",
      "===== Fold 7/10 =====\n"
     ]
    },
    {
     "name": "stderr",
     "output_type": "stream",
     "text": [
      "/home/s.dharia-ra/miniconda3/envs/ml/lib/python3.10/site-packages/torch/nn/modules/transformer.py:379: UserWarning: enable_nested_tensor is True, but self.use_nested_tensor is False because encoder_layer.self_attn.num_heads is odd\n",
      "  warnings.warn(\n"
     ]
    },
    {
     "name": "stdout",
     "output_type": "stream",
     "text": [
      "Final training label acc: 78.72%\n",
      "[Threshold 0.2] -> F1=0.7871 | Acc=0.7895\n",
      "[Threshold 0.3] -> F1=0.8381 | Acc=0.8421\n",
      "[Threshold 0.4] -> F1=0.8899 | Acc=0.8947\n",
      "[Threshold 0.5] -> F1=0.8899 | Acc=0.8947\n",
      "\n",
      "[Best Threshold] = 0.4 with F1=0.8899\n",
      "Final validation loss: 0.3500\n",
      "Final validation acc: 100.00%\n",
      "Final validation f1: 1.00%\n",
      "\n",
      "===== Fold 8/10 =====\n"
     ]
    },
    {
     "name": "stderr",
     "output_type": "stream",
     "text": [
      "/home/s.dharia-ra/miniconda3/envs/ml/lib/python3.10/site-packages/torch/nn/modules/transformer.py:379: UserWarning: enable_nested_tensor is True, but self.use_nested_tensor is False because encoder_layer.self_attn.num_heads is odd\n",
      "  warnings.warn(\n"
     ]
    },
    {
     "name": "stdout",
     "output_type": "stream",
     "text": [
      "Final training label acc: 81.34%\n",
      "[Threshold 0.2] -> F1=0.8417 | Acc=0.8421\n",
      "[Threshold 0.3] -> F1=0.8936 | Acc=0.8947\n",
      "[Threshold 0.4] -> F1=0.9460 | Acc=0.9474\n",
      "[Threshold 0.5] -> F1=0.9183 | Acc=0.9211\n",
      "\n",
      "[Best Threshold] = 0.4 with F1=0.9460\n",
      "Final validation loss: 0.5880\n",
      "Final validation acc: 100.00%\n",
      "Final validation f1: 1.00%\n",
      "\n",
      "===== Fold 9/10 =====\n"
     ]
    },
    {
     "name": "stderr",
     "output_type": "stream",
     "text": [
      "/home/s.dharia-ra/miniconda3/envs/ml/lib/python3.10/site-packages/torch/nn/modules/transformer.py:379: UserWarning: enable_nested_tensor is True, but self.use_nested_tensor is False because encoder_layer.self_attn.num_heads is odd\n",
      "  warnings.warn(\n"
     ]
    },
    {
     "name": "stdout",
     "output_type": "stream",
     "text": [
      "Final training label acc: 78.52%\n",
      "[Threshold 0.2] -> F1=0.8944 | Acc=0.8947\n",
      "[Threshold 0.3] -> F1=0.9197 | Acc=0.9211\n",
      "[Threshold 0.4] -> F1=0.9449 | Acc=0.9474\n",
      "[Threshold 0.5] -> F1=0.9164 | Acc=0.9211\n",
      "\n",
      "[Best Threshold] = 0.4 with F1=0.9449\n",
      "Final validation loss: 0.5455\n",
      "Final validation acc: 75.00%\n",
      "Final validation f1: 0.73%\n",
      "\n",
      "===== Fold 10/10 =====\n"
     ]
    },
    {
     "name": "stderr",
     "output_type": "stream",
     "text": [
      "/home/s.dharia-ra/miniconda3/envs/ml/lib/python3.10/site-packages/torch/nn/modules/transformer.py:379: UserWarning: enable_nested_tensor is True, but self.use_nested_tensor is False because encoder_layer.self_attn.num_heads is odd\n",
      "  warnings.warn(\n"
     ]
    },
    {
     "name": "stdout",
     "output_type": "stream",
     "text": [
      "Final training label acc: 87.71%\n",
      "[Threshold 0.2] -> F1=0.8944 | Acc=0.8947\n",
      "[Threshold 0.3] -> F1=0.9732 | Acc=0.9737\n",
      "[Threshold 0.4] -> F1=0.9732 | Acc=0.9737\n",
      "[Threshold 0.5] -> F1=0.9460 | Acc=0.9474\n",
      "\n",
      "[Best Threshold] = 0.3 with F1=0.9732\n",
      "Final validation loss: 3.5999\n",
      "Final validation acc: 25.00%\n",
      "Final validation f1: 0.20%\n",
      "\n",
      "=== Cross‐Val Results ===\n",
      "Accuracies per fold: [80.0, 80.0, 25.0, 50.0, 50.0, 75.0, 100.0, 100.0, 75.0, 25.0]\n",
      "Mean acc: 66.00%, Std: 25.96%\n",
      "Mean f1: 0.63%, Std: 0.29%\n",
      "\n",
      "===== Fold 1/10 =====\n"
     ]
    },
    {
     "name": "stderr",
     "output_type": "stream",
     "text": [
      "/home/s.dharia-ra/miniconda3/envs/ml/lib/python3.10/site-packages/torch/nn/modules/transformer.py:379: UserWarning: enable_nested_tensor is True, but self.use_nested_tensor is False because encoder_layer.self_attn.num_heads is odd\n",
      "  warnings.warn(\n"
     ]
    },
    {
     "name": "stdout",
     "output_type": "stream",
     "text": [
      "Final training label acc: 84.05%\n",
      "[Threshold 0.2] -> F1=0.7824 | Acc=0.7838\n",
      "[Threshold 0.3] -> F1=0.8103 | Acc=0.8108\n",
      "[Threshold 0.4] -> F1=0.9456 | Acc=0.9459\n",
      "[Threshold 0.5] -> F1=0.9456 | Acc=0.9459\n",
      "\n",
      "[Best Threshold] = 0.4 with F1=0.9456\n",
      "Final validation loss: 3.2063\n",
      "Final validation acc: 80.00%\n",
      "Final validation f1: 0.76%\n",
      "\n",
      "===== Fold 2/10 =====\n"
     ]
    },
    {
     "name": "stderr",
     "output_type": "stream",
     "text": [
      "/home/s.dharia-ra/miniconda3/envs/ml/lib/python3.10/site-packages/torch/nn/modules/transformer.py:379: UserWarning: enable_nested_tensor is True, but self.use_nested_tensor is False because encoder_layer.self_attn.num_heads is odd\n",
      "  warnings.warn(\n"
     ]
    },
    {
     "name": "stdout",
     "output_type": "stream",
     "text": [
      "Final training label acc: 87.46%\n",
      "[Threshold 0.2] -> F1=0.9180 | Acc=0.9189\n",
      "[Threshold 0.3] -> F1=0.9449 | Acc=0.9459\n",
      "[Threshold 0.4] -> F1=0.9449 | Acc=0.9459\n",
      "[Threshold 0.5] -> F1=0.9449 | Acc=0.9459\n",
      "\n",
      "[Best Threshold] = 0.3 with F1=0.9449\n",
      "Final validation loss: 1.9108\n",
      "Final validation acc: 20.00%\n",
      "Final validation f1: 0.17%\n",
      "\n",
      "===== Fold 3/10 =====\n"
     ]
    },
    {
     "name": "stderr",
     "output_type": "stream",
     "text": [
      "/home/s.dharia-ra/miniconda3/envs/ml/lib/python3.10/site-packages/torch/nn/modules/transformer.py:379: UserWarning: enable_nested_tensor is True, but self.use_nested_tensor is False because encoder_layer.self_attn.num_heads is odd\n",
      "  warnings.warn(\n"
     ]
    },
    {
     "name": "stdout",
     "output_type": "stream",
     "text": [
      "Final training label acc: 78.49%\n",
      "[Threshold 0.2] -> F1=0.7617 | Acc=0.7632\n",
      "[Threshold 0.3] -> F1=0.8417 | Acc=0.8421\n",
      "[Threshold 0.4] -> F1=0.8417 | Acc=0.8421\n",
      "[Threshold 0.5] -> F1=0.8936 | Acc=0.8947\n",
      "\n",
      "[Best Threshold] = 0.5 with F1=0.8936\n",
      "Final validation loss: 0.4210\n",
      "Final validation acc: 100.00%\n",
      "Final validation f1: 1.00%\n",
      "\n",
      "===== Fold 4/10 =====\n"
     ]
    },
    {
     "name": "stderr",
     "output_type": "stream",
     "text": [
      "/home/s.dharia-ra/miniconda3/envs/ml/lib/python3.10/site-packages/torch/nn/modules/transformer.py:379: UserWarning: enable_nested_tensor is True, but self.use_nested_tensor is False because encoder_layer.self_attn.num_heads is odd\n",
      "  warnings.warn(\n"
     ]
    },
    {
     "name": "stdout",
     "output_type": "stream",
     "text": [
      "Final training label acc: 77.45%\n",
      "[Threshold 0.2] -> F1=0.8157 | Acc=0.8158\n",
      "[Threshold 0.3] -> F1=0.8157 | Acc=0.8158\n",
      "[Threshold 0.4] -> F1=0.8417 | Acc=0.8421\n",
      "[Threshold 0.5] -> F1=0.8676 | Acc=0.8684\n",
      "\n",
      "[Best Threshold] = 0.5 with F1=0.8676\n",
      "Final validation loss: 0.4681\n",
      "Final validation acc: 75.00%\n",
      "Final validation f1: 0.73%\n",
      "\n",
      "===== Fold 5/10 =====\n"
     ]
    },
    {
     "name": "stderr",
     "output_type": "stream",
     "text": [
      "/home/s.dharia-ra/miniconda3/envs/ml/lib/python3.10/site-packages/torch/nn/modules/transformer.py:379: UserWarning: enable_nested_tensor is True, but self.use_nested_tensor is False because encoder_layer.self_attn.num_heads is odd\n",
      "  warnings.warn(\n"
     ]
    },
    {
     "name": "stdout",
     "output_type": "stream",
     "text": [
      "Final training label acc: 83.22%\n",
      "[Threshold 0.2] -> F1=0.7895 | Acc=0.7895\n",
      "[Threshold 0.3] -> F1=0.8936 | Acc=0.8947\n",
      "[Threshold 0.4] -> F1=0.9197 | Acc=0.9211\n",
      "[Threshold 0.5] -> F1=0.9460 | Acc=0.9474\n",
      "\n",
      "[Best Threshold] = 0.5 with F1=0.9460\n",
      "Final validation loss: 0.4473\n",
      "Final validation acc: 100.00%\n",
      "Final validation f1: 1.00%\n",
      "\n",
      "===== Fold 6/10 =====\n"
     ]
    },
    {
     "name": "stderr",
     "output_type": "stream",
     "text": [
      "/home/s.dharia-ra/miniconda3/envs/ml/lib/python3.10/site-packages/torch/nn/modules/transformer.py:379: UserWarning: enable_nested_tensor is True, but self.use_nested_tensor is False because encoder_layer.self_attn.num_heads is odd\n",
      "  warnings.warn(\n"
     ]
    },
    {
     "name": "stdout",
     "output_type": "stream",
     "text": [
      "Final training label acc: 80.65%\n",
      "[Threshold 0.2] -> F1=0.7617 | Acc=0.7632\n",
      "[Threshold 0.3] -> F1=0.8157 | Acc=0.8158\n",
      "[Threshold 0.4] -> F1=0.8676 | Acc=0.8684\n",
      "[Threshold 0.5] -> F1=0.8936 | Acc=0.8947\n",
      "\n",
      "[Best Threshold] = 0.5 with F1=0.8936\n",
      "Final validation loss: 0.3425\n",
      "Final validation acc: 100.00%\n",
      "Final validation f1: 1.00%\n",
      "\n",
      "===== Fold 7/10 =====\n"
     ]
    },
    {
     "name": "stderr",
     "output_type": "stream",
     "text": [
      "/home/s.dharia-ra/miniconda3/envs/ml/lib/python3.10/site-packages/torch/nn/modules/transformer.py:379: UserWarning: enable_nested_tensor is True, but self.use_nested_tensor is False because encoder_layer.self_attn.num_heads is odd\n",
      "  warnings.warn(\n"
     ]
    },
    {
     "name": "stdout",
     "output_type": "stream",
     "text": [
      "Final training label acc: 80.45%\n",
      "[Threshold 0.2] -> F1=0.8157 | Acc=0.8158\n",
      "[Threshold 0.3] -> F1=0.8157 | Acc=0.8158\n",
      "[Threshold 0.4] -> F1=0.8676 | Acc=0.8684\n",
      "[Threshold 0.5] -> F1=0.8936 | Acc=0.8947\n",
      "\n",
      "[Best Threshold] = 0.5 with F1=0.8936\n",
      "Final validation loss: 1.0293\n",
      "Final validation acc: 50.00%\n",
      "Final validation f1: 0.50%\n",
      "\n",
      "===== Fold 8/10 =====\n"
     ]
    },
    {
     "name": "stderr",
     "output_type": "stream",
     "text": [
      "/home/s.dharia-ra/miniconda3/envs/ml/lib/python3.10/site-packages/torch/nn/modules/transformer.py:379: UserWarning: enable_nested_tensor is True, but self.use_nested_tensor is False because encoder_layer.self_attn.num_heads is odd\n",
      "  warnings.warn(\n"
     ]
    },
    {
     "name": "stdout",
     "output_type": "stream",
     "text": [
      "Final training label acc: 83.50%\n",
      "[Threshold 0.2] -> F1=0.7054 | Acc=0.7105\n",
      "[Threshold 0.3] -> F1=0.7889 | Acc=0.7895\n",
      "[Threshold 0.4] -> F1=0.8683 | Acc=0.8684\n",
      "[Threshold 0.5] -> F1=0.8683 | Acc=0.8684\n",
      "\n",
      "[Best Threshold] = 0.4 with F1=0.8683\n",
      "Final validation loss: 2.0935\n",
      "Final validation acc: 25.00%\n",
      "Final validation f1: 0.20%\n",
      "\n",
      "===== Fold 9/10 =====\n"
     ]
    },
    {
     "name": "stderr",
     "output_type": "stream",
     "text": [
      "/home/s.dharia-ra/miniconda3/envs/ml/lib/python3.10/site-packages/torch/nn/modules/transformer.py:379: UserWarning: enable_nested_tensor is True, but self.use_nested_tensor is False because encoder_layer.self_attn.num_heads is odd\n",
      "  warnings.warn(\n"
     ]
    },
    {
     "name": "stdout",
     "output_type": "stream",
     "text": [
      "Final training label acc: 80.07%\n",
      "[Threshold 0.2] -> F1=0.6761 | Acc=0.6842\n",
      "[Threshold 0.3] -> F1=0.8157 | Acc=0.8158\n",
      "[Threshold 0.4] -> F1=0.8421 | Acc=0.8421\n",
      "[Threshold 0.5] -> F1=0.8157 | Acc=0.8158\n",
      "\n",
      "[Best Threshold] = 0.4 with F1=0.8421\n",
      "Final validation loss: 0.7927\n",
      "Final validation acc: 50.00%\n",
      "Final validation f1: 0.33%\n",
      "\n",
      "===== Fold 10/10 =====\n"
     ]
    },
    {
     "name": "stderr",
     "output_type": "stream",
     "text": [
      "/home/s.dharia-ra/miniconda3/envs/ml/lib/python3.10/site-packages/torch/nn/modules/transformer.py:379: UserWarning: enable_nested_tensor is True, but self.use_nested_tensor is False because encoder_layer.self_attn.num_heads is odd\n",
      "  warnings.warn(\n"
     ]
    },
    {
     "name": "stdout",
     "output_type": "stream",
     "text": [
      "Final training label acc: 85.96%\n",
      "[Threshold 0.2] -> F1=0.9468 | Acc=0.9474\n",
      "[Threshold 0.3] -> F1=0.9197 | Acc=0.9211\n",
      "[Threshold 0.4] -> F1=0.9460 | Acc=0.9474\n",
      "[Threshold 0.5] -> F1=0.9460 | Acc=0.9474\n",
      "\n",
      "[Best Threshold] = 0.2 with F1=0.9468\n",
      "Final validation loss: 1.3965\n",
      "Final validation acc: 25.00%\n",
      "Final validation f1: 0.20%\n",
      "\n",
      "=== Cross‐Val Results ===\n",
      "Accuracies per fold: [80.0, 20.0, 100.0, 75.0, 100.0, 100.0, 50.0, 25.0, 50.0, 25.0]\n",
      "Mean acc: 62.50%, Std: 31.00%\n",
      "Mean f1: 0.59%, Std: 0.33%\n",
      "\n",
      "===== Fold 1/10 =====\n"
     ]
    },
    {
     "name": "stderr",
     "output_type": "stream",
     "text": [
      "/home/s.dharia-ra/miniconda3/envs/ml/lib/python3.10/site-packages/torch/nn/modules/transformer.py:379: UserWarning: enable_nested_tensor is True, but self.use_nested_tensor is False because encoder_layer.self_attn.num_heads is odd\n",
      "  warnings.warn(\n"
     ]
    },
    {
     "name": "stdout",
     "output_type": "stream",
     "text": [
      "Final training label acc: 83.69%\n",
      "[Threshold 0.2] -> F1=0.8377 | Acc=0.8378\n",
      "[Threshold 0.3] -> F1=0.8645 | Acc=0.8649\n",
      "[Threshold 0.4] -> F1=0.9180 | Acc=0.9189\n",
      "[Threshold 0.5] -> F1=0.9449 | Acc=0.9459\n",
      "\n",
      "[Best Threshold] = 0.5 with F1=0.9449\n",
      "Final validation loss: 1.1154\n",
      "Final validation acc: 40.00%\n",
      "Final validation f1: 0.29%\n",
      "\n",
      "===== Fold 2/10 =====\n"
     ]
    },
    {
     "name": "stderr",
     "output_type": "stream",
     "text": [
      "/home/s.dharia-ra/miniconda3/envs/ml/lib/python3.10/site-packages/torch/nn/modules/transformer.py:379: UserWarning: enable_nested_tensor is True, but self.use_nested_tensor is False because encoder_layer.self_attn.num_heads is odd\n",
      "  warnings.warn(\n"
     ]
    },
    {
     "name": "stdout",
     "output_type": "stream",
     "text": [
      "Final training label acc: 86.07%\n",
      "[Threshold 0.2] -> F1=0.8649 | Acc=0.8649\n",
      "[Threshold 0.3] -> F1=0.8918 | Acc=0.8919\n",
      "[Threshold 0.4] -> F1=0.9727 | Acc=0.9730\n",
      "[Threshold 0.5] -> F1=0.9727 | Acc=0.9730\n",
      "\n",
      "[Best Threshold] = 0.4 with F1=0.9727\n",
      "Final validation loss: 0.9013\n",
      "Final validation acc: 60.00%\n",
      "Final validation f1: 0.58%\n",
      "\n",
      "===== Fold 3/10 =====\n"
     ]
    },
    {
     "name": "stderr",
     "output_type": "stream",
     "text": [
      "/home/s.dharia-ra/miniconda3/envs/ml/lib/python3.10/site-packages/torch/nn/modules/transformer.py:379: UserWarning: enable_nested_tensor is True, but self.use_nested_tensor is False because encoder_layer.self_attn.num_heads is odd\n",
      "  warnings.warn(\n"
     ]
    },
    {
     "name": "stdout",
     "output_type": "stream",
     "text": [
      "Final training label acc: 79.82%\n",
      "[Threshold 0.2] -> F1=0.7590 | Acc=0.7632\n",
      "[Threshold 0.3] -> F1=0.8157 | Acc=0.8158\n",
      "[Threshold 0.4] -> F1=0.8944 | Acc=0.8947\n",
      "[Threshold 0.5] -> F1=0.9206 | Acc=0.9211\n",
      "\n",
      "[Best Threshold] = 0.5 with F1=0.9206\n",
      "Final validation loss: 0.6082\n",
      "Final validation acc: 75.00%\n",
      "Final validation f1: 0.73%\n",
      "\n",
      "===== Fold 4/10 =====\n"
     ]
    },
    {
     "name": "stderr",
     "output_type": "stream",
     "text": [
      "/home/s.dharia-ra/miniconda3/envs/ml/lib/python3.10/site-packages/torch/nn/modules/transformer.py:379: UserWarning: enable_nested_tensor is True, but self.use_nested_tensor is False because encoder_layer.self_attn.num_heads is odd\n",
      "  warnings.warn(\n"
     ]
    },
    {
     "name": "stdout",
     "output_type": "stream",
     "text": [
      "Final training label acc: 80.07%\n",
      "[Threshold 0.2] -> F1=0.8417 | Acc=0.8421\n",
      "[Threshold 0.3] -> F1=0.8157 | Acc=0.8158\n",
      "[Threshold 0.4] -> F1=0.8421 | Acc=0.8421\n",
      "[Threshold 0.5] -> F1=0.8944 | Acc=0.8947\n",
      "\n",
      "[Best Threshold] = 0.5 with F1=0.8944\n",
      "Final validation loss: 0.5214\n",
      "Final validation acc: 75.00%\n",
      "Final validation f1: 0.73%\n",
      "\n",
      "===== Fold 5/10 =====\n"
     ]
    },
    {
     "name": "stderr",
     "output_type": "stream",
     "text": [
      "/home/s.dharia-ra/miniconda3/envs/ml/lib/python3.10/site-packages/torch/nn/modules/transformer.py:379: UserWarning: enable_nested_tensor is True, but self.use_nested_tensor is False because encoder_layer.self_attn.num_heads is odd\n",
      "  warnings.warn(\n"
     ]
    },
    {
     "name": "stdout",
     "output_type": "stream",
     "text": [
      "Final training label acc: 81.74%\n",
      "[Threshold 0.2] -> F1=0.7617 | Acc=0.7632\n",
      "[Threshold 0.3] -> F1=0.8421 | Acc=0.8421\n",
      "[Threshold 0.4] -> F1=0.8944 | Acc=0.8947\n",
      "[Threshold 0.5] -> F1=0.9206 | Acc=0.9211\n",
      "\n",
      "[Best Threshold] = 0.5 with F1=0.9206\n",
      "Final validation loss: 0.5176\n",
      "Final validation acc: 50.00%\n",
      "Final validation f1: 0.50%\n",
      "\n",
      "===== Fold 6/10 =====\n"
     ]
    },
    {
     "name": "stderr",
     "output_type": "stream",
     "text": [
      "/home/s.dharia-ra/miniconda3/envs/ml/lib/python3.10/site-packages/torch/nn/modules/transformer.py:379: UserWarning: enable_nested_tensor is True, but self.use_nested_tensor is False because encoder_layer.self_attn.num_heads is odd\n",
      "  warnings.warn(\n"
     ]
    },
    {
     "name": "stdout",
     "output_type": "stream",
     "text": [
      "Final training label acc: 80.93%\n",
      "[Threshold 0.2] -> F1=0.8157 | Acc=0.8158\n",
      "[Threshold 0.3] -> F1=0.8417 | Acc=0.8421\n",
      "[Threshold 0.4] -> F1=0.9197 | Acc=0.9211\n",
      "[Threshold 0.5] -> F1=0.9460 | Acc=0.9474\n",
      "\n",
      "[Best Threshold] = 0.5 with F1=0.9460\n",
      "Final validation loss: 0.2863\n",
      "Final validation acc: 100.00%\n",
      "Final validation f1: 1.00%\n",
      "\n",
      "===== Fold 7/10 =====\n"
     ]
    },
    {
     "name": "stderr",
     "output_type": "stream",
     "text": [
      "/home/s.dharia-ra/miniconda3/envs/ml/lib/python3.10/site-packages/torch/nn/modules/transformer.py:379: UserWarning: enable_nested_tensor is True, but self.use_nested_tensor is False because encoder_layer.self_attn.num_heads is odd\n",
      "  warnings.warn(\n"
     ]
    },
    {
     "name": "stdout",
     "output_type": "stream",
     "text": [
      "Final training label acc: 84.19%\n",
      "[Threshold 0.2] -> F1=0.8157 | Acc=0.8158\n",
      "[Threshold 0.3] -> F1=0.8421 | Acc=0.8421\n",
      "[Threshold 0.4] -> F1=0.9197 | Acc=0.9211\n",
      "[Threshold 0.5] -> F1=0.9728 | Acc=0.9737\n",
      "\n",
      "[Best Threshold] = 0.5 with F1=0.9728\n",
      "Final validation loss: 2.3788\n",
      "Final validation acc: 50.00%\n",
      "Final validation f1: 0.50%\n",
      "\n",
      "===== Fold 8/10 =====\n"
     ]
    },
    {
     "name": "stderr",
     "output_type": "stream",
     "text": [
      "/home/s.dharia-ra/miniconda3/envs/ml/lib/python3.10/site-packages/torch/nn/modules/transformer.py:379: UserWarning: enable_nested_tensor is True, but self.use_nested_tensor is False because encoder_layer.self_attn.num_heads is odd\n",
      "  warnings.warn(\n"
     ]
    },
    {
     "name": "stdout",
     "output_type": "stream",
     "text": [
      "Final training label acc: 80.14%\n",
      "[Threshold 0.2] -> F1=0.8157 | Acc=0.8158\n",
      "[Threshold 0.3] -> F1=0.8676 | Acc=0.8684\n",
      "[Threshold 0.4] -> F1=0.8920 | Acc=0.8947\n",
      "[Threshold 0.5] -> F1=0.9449 | Acc=0.9474\n",
      "\n",
      "[Best Threshold] = 0.5 with F1=0.9449\n",
      "Final validation loss: 0.3568\n",
      "Final validation acc: 100.00%\n",
      "Final validation f1: 1.00%\n",
      "\n",
      "===== Fold 9/10 =====\n"
     ]
    },
    {
     "name": "stderr",
     "output_type": "stream",
     "text": [
      "/home/s.dharia-ra/miniconda3/envs/ml/lib/python3.10/site-packages/torch/nn/modules/transformer.py:379: UserWarning: enable_nested_tensor is True, but self.use_nested_tensor is False because encoder_layer.self_attn.num_heads is odd\n",
      "  warnings.warn(\n"
     ]
    },
    {
     "name": "stdout",
     "output_type": "stream",
     "text": [
      "Final training label acc: 81.77%\n",
      "[Threshold 0.2] -> F1=0.7054 | Acc=0.7105\n",
      "[Threshold 0.3] -> F1=0.7617 | Acc=0.7632\n",
      "[Threshold 0.4] -> F1=0.7889 | Acc=0.7895\n",
      "[Threshold 0.5] -> F1=0.8157 | Acc=0.8158\n",
      "\n",
      "[Best Threshold] = 0.5 with F1=0.8157\n",
      "Final validation loss: 0.5112\n",
      "Final validation acc: 75.00%\n",
      "Final validation f1: 0.73%\n",
      "\n",
      "===== Fold 10/10 =====\n"
     ]
    },
    {
     "name": "stderr",
     "output_type": "stream",
     "text": [
      "/home/s.dharia-ra/miniconda3/envs/ml/lib/python3.10/site-packages/torch/nn/modules/transformer.py:379: UserWarning: enable_nested_tensor is True, but self.use_nested_tensor is False because encoder_layer.self_attn.num_heads is odd\n",
      "  warnings.warn(\n"
     ]
    },
    {
     "name": "stdout",
     "output_type": "stream",
     "text": [
      "Final training label acc: 92.81%\n",
      "[Threshold 0.2] -> F1=0.8944 | Acc=0.8947\n",
      "[Threshold 0.3] -> F1=0.9206 | Acc=0.9211\n",
      "[Threshold 0.4] -> F1=0.9468 | Acc=0.9474\n",
      "[Threshold 0.5] -> F1=0.9468 | Acc=0.9474\n",
      "\n",
      "[Best Threshold] = 0.4 with F1=0.9468\n",
      "Final validation loss: 5.0502\n",
      "Final validation acc: 0.00%\n",
      "Final validation f1: 0.00%\n",
      "\n",
      "=== Cross‐Val Results ===\n",
      "Accuracies per fold: [40.0, 60.0, 75.0, 75.0, 50.0, 100.0, 50.0, 100.0, 75.0, 0.0]\n",
      "Mean acc: 62.50%, Std: 28.31%\n",
      "Mean f1: 0.61%, Std: 0.29%\n",
      "\n",
      "===== Fold 1/10 =====\n"
     ]
    },
    {
     "name": "stderr",
     "output_type": "stream",
     "text": [
      "/home/s.dharia-ra/miniconda3/envs/ml/lib/python3.10/site-packages/torch/nn/modules/transformer.py:379: UserWarning: enable_nested_tensor is True, but self.use_nested_tensor is False because encoder_layer.self_attn.num_heads is odd\n",
      "  warnings.warn(\n"
     ]
    },
    {
     "name": "stdout",
     "output_type": "stream",
     "text": [
      "Final training label acc: 79.35%\n",
      "[Threshold 0.2] -> F1=0.7247 | Acc=0.7297\n",
      "[Threshold 0.3] -> F1=0.8377 | Acc=0.8378\n",
      "[Threshold 0.4] -> F1=0.8649 | Acc=0.8649\n",
      "[Threshold 0.5] -> F1=0.8918 | Acc=0.8919\n",
      "\n",
      "[Best Threshold] = 0.5 with F1=0.8918\n",
      "Final validation loss: 0.5090\n",
      "Final validation acc: 80.00%\n",
      "Final validation f1: 0.80%\n",
      "\n",
      "===== Fold 2/10 =====\n"
     ]
    },
    {
     "name": "stderr",
     "output_type": "stream",
     "text": [
      "/home/s.dharia-ra/miniconda3/envs/ml/lib/python3.10/site-packages/torch/nn/modules/transformer.py:379: UserWarning: enable_nested_tensor is True, but self.use_nested_tensor is False because encoder_layer.self_attn.num_heads is odd\n",
      "  warnings.warn(\n"
     ]
    },
    {
     "name": "stdout",
     "output_type": "stream",
     "text": [
      "Final training label acc: 86.07%\n",
      "[Threshold 0.2] -> F1=0.8918 | Acc=0.8919\n",
      "[Threshold 0.3] -> F1=0.9187 | Acc=0.9189\n",
      "[Threshold 0.4] -> F1=0.9449 | Acc=0.9459\n",
      "[Threshold 0.5] -> F1=0.9722 | Acc=0.9730\n",
      "\n",
      "[Best Threshold] = 0.5 with F1=0.9722\n",
      "Final validation loss: 1.2051\n",
      "Final validation acc: 60.00%\n",
      "Final validation f1: 0.38%\n",
      "\n",
      "===== Fold 3/10 =====\n"
     ]
    },
    {
     "name": "stderr",
     "output_type": "stream",
     "text": [
      "/home/s.dharia-ra/miniconda3/envs/ml/lib/python3.10/site-packages/torch/nn/modules/transformer.py:379: UserWarning: enable_nested_tensor is True, but self.use_nested_tensor is False because encoder_layer.self_attn.num_heads is odd\n",
      "  warnings.warn(\n"
     ]
    },
    {
     "name": "stdout",
     "output_type": "stream",
     "text": [
      "Final training label acc: 81.32%\n",
      "[Threshold 0.2] -> F1=0.8146 | Acc=0.8158\n",
      "[Threshold 0.3] -> F1=0.8421 | Acc=0.8421\n",
      "[Threshold 0.4] -> F1=0.8936 | Acc=0.8947\n",
      "[Threshold 0.5] -> F1=0.9197 | Acc=0.9211\n",
      "\n",
      "[Best Threshold] = 0.5 with F1=0.9197\n",
      "Final validation loss: 0.4174\n",
      "Final validation acc: 100.00%\n",
      "Final validation f1: 1.00%\n",
      "\n",
      "===== Fold 4/10 =====\n"
     ]
    },
    {
     "name": "stderr",
     "output_type": "stream",
     "text": [
      "/home/s.dharia-ra/miniconda3/envs/ml/lib/python3.10/site-packages/torch/nn/modules/transformer.py:379: UserWarning: enable_nested_tensor is True, but self.use_nested_tensor is False because encoder_layer.self_attn.num_heads is odd\n",
      "  warnings.warn(\n"
     ]
    },
    {
     "name": "stdout",
     "output_type": "stream",
     "text": [
      "Final training label acc: 81.82%\n",
      "[Threshold 0.2] -> F1=0.8146 | Acc=0.8158\n",
      "[Threshold 0.3] -> F1=0.7889 | Acc=0.7895\n",
      "[Threshold 0.4] -> F1=0.8683 | Acc=0.8684\n",
      "[Threshold 0.5] -> F1=0.9206 | Acc=0.9211\n",
      "\n",
      "[Best Threshold] = 0.5 with F1=0.9206\n",
      "Final validation loss: 0.8849\n",
      "Final validation acc: 50.00%\n",
      "Final validation f1: 0.50%\n",
      "\n",
      "===== Fold 5/10 =====\n"
     ]
    },
    {
     "name": "stderr",
     "output_type": "stream",
     "text": [
      "/home/s.dharia-ra/miniconda3/envs/ml/lib/python3.10/site-packages/torch/nn/modules/transformer.py:379: UserWarning: enable_nested_tensor is True, but self.use_nested_tensor is False because encoder_layer.self_attn.num_heads is odd\n",
      "  warnings.warn(\n"
     ]
    },
    {
     "name": "stdout",
     "output_type": "stream",
     "text": [
      "Final training label acc: 80.93%\n",
      "[Threshold 0.2] -> F1=0.8157 | Acc=0.8158\n",
      "[Threshold 0.3] -> F1=0.8421 | Acc=0.8421\n",
      "[Threshold 0.4] -> F1=0.8936 | Acc=0.8947\n",
      "[Threshold 0.5] -> F1=0.8936 | Acc=0.8947\n",
      "\n",
      "[Best Threshold] = 0.4 with F1=0.8936\n",
      "Final validation loss: 0.4000\n",
      "Final validation acc: 75.00%\n",
      "Final validation f1: 0.73%\n",
      "\n",
      "===== Fold 6/10 =====\n"
     ]
    },
    {
     "name": "stderr",
     "output_type": "stream",
     "text": [
      "/home/s.dharia-ra/miniconda3/envs/ml/lib/python3.10/site-packages/torch/nn/modules/transformer.py:379: UserWarning: enable_nested_tensor is True, but self.use_nested_tensor is False because encoder_layer.self_attn.num_heads is odd\n",
      "  warnings.warn(\n"
     ]
    },
    {
     "name": "stdout",
     "output_type": "stream",
     "text": [
      "Final training label acc: 84.54%\n",
      "[Threshold 0.2] -> F1=0.7054 | Acc=0.7105\n",
      "[Threshold 0.3] -> F1=0.8421 | Acc=0.8421\n",
      "[Threshold 0.4] -> F1=0.8157 | Acc=0.8158\n",
      "[Threshold 0.5] -> F1=0.9197 | Acc=0.9211\n",
      "\n",
      "[Best Threshold] = 0.5 with F1=0.9197\n",
      "Final validation loss: 1.9750\n",
      "Final validation acc: 50.00%\n",
      "Final validation f1: 0.50%\n",
      "\n",
      "===== Fold 7/10 =====\n"
     ]
    },
    {
     "name": "stderr",
     "output_type": "stream",
     "text": [
      "/home/s.dharia-ra/miniconda3/envs/ml/lib/python3.10/site-packages/torch/nn/modules/transformer.py:379: UserWarning: enable_nested_tensor is True, but self.use_nested_tensor is False because encoder_layer.self_attn.num_heads is odd\n",
      "  warnings.warn(\n"
     ]
    },
    {
     "name": "stdout",
     "output_type": "stream",
     "text": [
      "Final training label acc: 85.05%\n",
      "[Threshold 0.2] -> F1=0.7617 | Acc=0.7632\n",
      "[Threshold 0.3] -> F1=0.8683 | Acc=0.8684\n",
      "[Threshold 0.4] -> F1=0.8683 | Acc=0.8684\n",
      "[Threshold 0.5] -> F1=0.8936 | Acc=0.8947\n",
      "\n",
      "[Best Threshold] = 0.5 with F1=0.8936\n",
      "Final validation loss: 0.8565\n",
      "Final validation acc: 50.00%\n",
      "Final validation f1: 0.50%\n",
      "\n",
      "===== Fold 8/10 =====\n"
     ]
    },
    {
     "name": "stderr",
     "output_type": "stream",
     "text": [
      "/home/s.dharia-ra/miniconda3/envs/ml/lib/python3.10/site-packages/torch/nn/modules/transformer.py:379: UserWarning: enable_nested_tensor is True, but self.use_nested_tensor is False because encoder_layer.self_attn.num_heads is odd\n",
      "  warnings.warn(\n"
     ]
    },
    {
     "name": "stdout",
     "output_type": "stream",
     "text": [
      "Final training label acc: 79.97%\n",
      "[Threshold 0.2] -> F1=0.7339 | Acc=0.7368\n",
      "[Threshold 0.3] -> F1=0.7339 | Acc=0.7368\n",
      "[Threshold 0.4] -> F1=0.8157 | Acc=0.8158\n",
      "[Threshold 0.5] -> F1=0.8683 | Acc=0.8684\n",
      "\n",
      "[Best Threshold] = 0.5 with F1=0.8683\n",
      "Final validation loss: 0.5142\n",
      "Final validation acc: 75.00%\n",
      "Final validation f1: 0.73%\n",
      "\n",
      "===== Fold 9/10 =====\n"
     ]
    },
    {
     "name": "stderr",
     "output_type": "stream",
     "text": [
      "/home/s.dharia-ra/miniconda3/envs/ml/lib/python3.10/site-packages/torch/nn/modules/transformer.py:379: UserWarning: enable_nested_tensor is True, but self.use_nested_tensor is False because encoder_layer.self_attn.num_heads is odd\n",
      "  warnings.warn(\n"
     ]
    },
    {
     "name": "stdout",
     "output_type": "stream",
     "text": [
      "Final training label acc: 85.10%\n",
      "[Threshold 0.2] -> F1=0.8157 | Acc=0.8158\n",
      "[Threshold 0.3] -> F1=0.8683 | Acc=0.8684\n",
      "[Threshold 0.4] -> F1=0.8944 | Acc=0.8947\n",
      "[Threshold 0.5] -> F1=0.8944 | Acc=0.8947\n",
      "\n",
      "[Best Threshold] = 0.4 with F1=0.8944\n",
      "Final validation loss: 1.8227\n",
      "Final validation acc: 50.00%\n",
      "Final validation f1: 0.50%\n",
      "\n",
      "===== Fold 10/10 =====\n"
     ]
    },
    {
     "name": "stderr",
     "output_type": "stream",
     "text": [
      "/home/s.dharia-ra/miniconda3/envs/ml/lib/python3.10/site-packages/torch/nn/modules/transformer.py:379: UserWarning: enable_nested_tensor is True, but self.use_nested_tensor is False because encoder_layer.self_attn.num_heads is odd\n",
      "  warnings.warn(\n"
     ]
    },
    {
     "name": "stdout",
     "output_type": "stream",
     "text": [
      "Final training label acc: 82.76%\n",
      "[Threshold 0.2] -> F1=0.8683 | Acc=0.8684\n",
      "[Threshold 0.3] -> F1=0.9206 | Acc=0.9211\n",
      "[Threshold 0.4] -> F1=0.9732 | Acc=0.9737\n",
      "[Threshold 0.5] -> F1=0.9728 | Acc=0.9737\n",
      "\n",
      "[Best Threshold] = 0.4 with F1=0.9732\n",
      "Final validation loss: 0.9589\n",
      "Final validation acc: 75.00%\n",
      "Final validation f1: 0.73%\n",
      "\n",
      "=== Cross‐Val Results ===\n",
      "Accuracies per fold: [80.0, 60.0, 100.0, 50.0, 75.0, 50.0, 50.0, 75.0, 50.0, 75.0]\n",
      "Mean acc: 66.50%, Std: 16.29%\n",
      "Mean f1: 0.64%, Std: 0.18%\n",
      "\n",
      "===== Fold 1/10 =====\n"
     ]
    },
    {
     "name": "stderr",
     "output_type": "stream",
     "text": [
      "/home/s.dharia-ra/miniconda3/envs/ml/lib/python3.10/site-packages/torch/nn/modules/transformer.py:379: UserWarning: enable_nested_tensor is True, but self.use_nested_tensor is False because encoder_layer.self_attn.num_heads is odd\n",
      "  warnings.warn(\n"
     ]
    },
    {
     "name": "stdout",
     "output_type": "stream",
     "text": [
      "Final training label acc: 80.65%\n",
      "[Threshold 0.2] -> F1=0.8918 | Acc=0.8919\n",
      "[Threshold 0.3] -> F1=0.9187 | Acc=0.9189\n",
      "[Threshold 0.4] -> F1=0.9449 | Acc=0.9459\n",
      "[Threshold 0.5] -> F1=0.9449 | Acc=0.9459\n",
      "\n",
      "[Best Threshold] = 0.4 with F1=0.9449\n",
      "Final validation loss: 0.7830\n",
      "Final validation acc: 80.00%\n",
      "Final validation f1: 0.80%\n",
      "\n",
      "===== Fold 2/10 =====\n"
     ]
    },
    {
     "name": "stderr",
     "output_type": "stream",
     "text": [
      "/home/s.dharia-ra/miniconda3/envs/ml/lib/python3.10/site-packages/torch/nn/modules/transformer.py:379: UserWarning: enable_nested_tensor is True, but self.use_nested_tensor is False because encoder_layer.self_attn.num_heads is odd\n",
      "  warnings.warn(\n"
     ]
    },
    {
     "name": "stdout",
     "output_type": "stream",
     "text": [
      "Final training label acc: 81.29%\n",
      "[Threshold 0.2] -> F1=0.8103 | Acc=0.8108\n",
      "[Threshold 0.3] -> F1=0.8918 | Acc=0.8919\n",
      "[Threshold 0.4] -> F1=0.9449 | Acc=0.9459\n",
      "[Threshold 0.5] -> F1=0.9449 | Acc=0.9459\n",
      "\n",
      "[Best Threshold] = 0.4 with F1=0.9449\n",
      "Final validation loss: 0.7783\n",
      "Final validation acc: 80.00%\n",
      "Final validation f1: 0.80%\n",
      "\n",
      "===== Fold 3/10 =====\n"
     ]
    },
    {
     "name": "stderr",
     "output_type": "stream",
     "text": [
      "/home/s.dharia-ra/miniconda3/envs/ml/lib/python3.10/site-packages/torch/nn/modules/transformer.py:379: UserWarning: enable_nested_tensor is True, but self.use_nested_tensor is False because encoder_layer.self_attn.num_heads is odd\n",
      "  warnings.warn(\n"
     ]
    },
    {
     "name": "stdout",
     "output_type": "stream",
     "text": [
      "Final training label acc: 78.49%\n",
      "[Threshold 0.2] -> F1=0.8920 | Acc=0.8947\n",
      "[Threshold 0.3] -> F1=0.9183 | Acc=0.9211\n",
      "[Threshold 0.4] -> F1=0.8899 | Acc=0.8947\n",
      "[Threshold 0.5] -> F1=0.8899 | Acc=0.8947\n",
      "\n",
      "[Best Threshold] = 0.3 with F1=0.9183\n",
      "Final validation loss: 0.2399\n",
      "Final validation acc: 100.00%\n",
      "Final validation f1: 1.00%\n",
      "\n",
      "===== Fold 4/10 =====\n"
     ]
    },
    {
     "name": "stderr",
     "output_type": "stream",
     "text": [
      "/home/s.dharia-ra/miniconda3/envs/ml/lib/python3.10/site-packages/torch/nn/modules/transformer.py:379: UserWarning: enable_nested_tensor is True, but self.use_nested_tensor is False because encoder_layer.self_attn.num_heads is odd\n",
      "  warnings.warn(\n"
     ]
    },
    {
     "name": "stdout",
     "output_type": "stream",
     "text": [
      "Final training label acc: 82.32%\n",
      "[Threshold 0.2] -> F1=0.7871 | Acc=0.7895\n",
      "[Threshold 0.3] -> F1=0.7871 | Acc=0.7895\n",
      "[Threshold 0.4] -> F1=0.8947 | Acc=0.8947\n",
      "[Threshold 0.5] -> F1=0.8944 | Acc=0.8947\n",
      "\n",
      "[Best Threshold] = 0.4 with F1=0.8947\n",
      "Final validation loss: 1.2173\n",
      "Final validation acc: 50.00%\n",
      "Final validation f1: 0.50%\n",
      "\n",
      "===== Fold 5/10 =====\n"
     ]
    },
    {
     "name": "stderr",
     "output_type": "stream",
     "text": [
      "/home/s.dharia-ra/miniconda3/envs/ml/lib/python3.10/site-packages/torch/nn/modules/transformer.py:379: UserWarning: enable_nested_tensor is True, but self.use_nested_tensor is False because encoder_layer.self_attn.num_heads is odd\n",
      "  warnings.warn(\n"
     ]
    },
    {
     "name": "stdout",
     "output_type": "stream",
     "text": [
      "Final training label acc: 84.69%\n",
      "[Threshold 0.2] -> F1=0.8157 | Acc=0.8158\n",
      "[Threshold 0.3] -> F1=0.8683 | Acc=0.8684\n",
      "[Threshold 0.4] -> F1=0.9206 | Acc=0.9211\n",
      "[Threshold 0.5] -> F1=0.9468 | Acc=0.9474\n",
      "\n",
      "[Best Threshold] = 0.5 with F1=0.9468\n",
      "Final validation loss: 1.7250\n",
      "Final validation acc: 75.00%\n",
      "Final validation f1: 0.73%\n",
      "\n",
      "===== Fold 6/10 =====\n"
     ]
    },
    {
     "name": "stderr",
     "output_type": "stream",
     "text": [
      "/home/s.dharia-ra/miniconda3/envs/ml/lib/python3.10/site-packages/torch/nn/modules/transformer.py:379: UserWarning: enable_nested_tensor is True, but self.use_nested_tensor is False because encoder_layer.self_attn.num_heads is odd\n",
      "  warnings.warn(\n"
     ]
    },
    {
     "name": "stdout",
     "output_type": "stream",
     "text": [
      "Final training label acc: 82.64%\n",
      "[Threshold 0.2] -> F1=0.8421 | Acc=0.8421\n",
      "[Threshold 0.3] -> F1=0.8683 | Acc=0.8684\n",
      "[Threshold 0.4] -> F1=0.8676 | Acc=0.8684\n",
      "[Threshold 0.5] -> F1=0.8936 | Acc=0.8947\n",
      "\n",
      "[Best Threshold] = 0.5 with F1=0.8936\n",
      "Final validation loss: 0.9588\n",
      "Final validation acc: 75.00%\n",
      "Final validation f1: 0.73%\n",
      "\n",
      "===== Fold 7/10 =====\n"
     ]
    },
    {
     "name": "stderr",
     "output_type": "stream",
     "text": [
      "/home/s.dharia-ra/miniconda3/envs/ml/lib/python3.10/site-packages/torch/nn/modules/transformer.py:379: UserWarning: enable_nested_tensor is True, but self.use_nested_tensor is False because encoder_layer.self_attn.num_heads is odd\n",
      "  warnings.warn(\n"
     ]
    },
    {
     "name": "stdout",
     "output_type": "stream",
     "text": [
      "Final training label acc: 83.45%\n",
      "[Threshold 0.2] -> F1=0.8676 | Acc=0.8684\n",
      "[Threshold 0.3] -> F1=0.9197 | Acc=0.9211\n",
      "[Threshold 0.4] -> F1=0.9183 | Acc=0.9211\n",
      "[Threshold 0.5] -> F1=0.9164 | Acc=0.9211\n",
      "\n",
      "[Best Threshold] = 0.3 with F1=0.9197\n",
      "Final validation loss: 2.0896\n",
      "Final validation acc: 75.00%\n",
      "Final validation f1: 0.73%\n",
      "\n",
      "===== Fold 8/10 =====\n"
     ]
    },
    {
     "name": "stderr",
     "output_type": "stream",
     "text": [
      "/home/s.dharia-ra/miniconda3/envs/ml/lib/python3.10/site-packages/torch/nn/modules/transformer.py:379: UserWarning: enable_nested_tensor is True, but self.use_nested_tensor is False because encoder_layer.self_attn.num_heads is odd\n",
      "  warnings.warn(\n"
     ]
    },
    {
     "name": "stdout",
     "output_type": "stream",
     "text": [
      "Final training label acc: 82.19%\n",
      "[Threshold 0.2] -> F1=0.8417 | Acc=0.8421\n",
      "[Threshold 0.3] -> F1=0.8920 | Acc=0.8947\n",
      "[Threshold 0.4] -> F1=0.9449 | Acc=0.9474\n",
      "[Threshold 0.5] -> F1=0.9449 | Acc=0.9474\n",
      "\n",
      "[Best Threshold] = 0.4 with F1=0.9449\n",
      "Final validation loss: 0.7942\n",
      "Final validation acc: 75.00%\n",
      "Final validation f1: 0.73%\n",
      "\n",
      "===== Fold 9/10 =====\n"
     ]
    },
    {
     "name": "stderr",
     "output_type": "stream",
     "text": [
      "/home/s.dharia-ra/miniconda3/envs/ml/lib/python3.10/site-packages/torch/nn/modules/transformer.py:379: UserWarning: enable_nested_tensor is True, but self.use_nested_tensor is False because encoder_layer.self_attn.num_heads is odd\n",
      "  warnings.warn(\n"
     ]
    },
    {
     "name": "stdout",
     "output_type": "stream",
     "text": [
      "Final training label acc: 80.69%\n",
      "[Threshold 0.2] -> F1=0.8676 | Acc=0.8684\n",
      "[Threshold 0.3] -> F1=0.8661 | Acc=0.8684\n",
      "[Threshold 0.4] -> F1=0.8920 | Acc=0.8947\n",
      "[Threshold 0.5] -> F1=0.9183 | Acc=0.9211\n",
      "\n",
      "[Best Threshold] = 0.5 with F1=0.9183\n",
      "Final validation loss: 0.6026\n",
      "Final validation acc: 100.00%\n",
      "Final validation f1: 1.00%\n",
      "\n",
      "===== Fold 10/10 =====\n"
     ]
    },
    {
     "name": "stderr",
     "output_type": "stream",
     "text": [
      "/home/s.dharia-ra/miniconda3/envs/ml/lib/python3.10/site-packages/torch/nn/modules/transformer.py:379: UserWarning: enable_nested_tensor is True, but self.use_nested_tensor is False because encoder_layer.self_attn.num_heads is odd\n",
      "  warnings.warn(\n"
     ]
    },
    {
     "name": "stdout",
     "output_type": "stream",
     "text": [
      "Final training label acc: 73.18%\n",
      "[Threshold 0.2] -> F1=0.7871 | Acc=0.7895\n",
      "[Threshold 0.3] -> F1=0.8638 | Acc=0.8684\n",
      "[Threshold 0.4] -> F1=0.9164 | Acc=0.9211\n",
      "[Threshold 0.5] -> F1=0.8869 | Acc=0.8947\n",
      "\n",
      "[Best Threshold] = 0.4 with F1=0.9164\n",
      "Final validation loss: 0.4751\n",
      "Final validation acc: 100.00%\n",
      "Final validation f1: 1.00%\n",
      "\n",
      "=== Cross‐Val Results ===\n",
      "Accuracies per fold: [80.0, 80.0, 100.0, 50.0, 75.0, 75.0, 75.0, 75.0, 100.0, 100.0]\n",
      "Mean acc: 81.00%, Std: 14.80%\n",
      "Mean f1: 0.80%, Std: 0.15%\n",
      "\n",
      "===== Fold 1/10 =====\n"
     ]
    },
    {
     "name": "stderr",
     "output_type": "stream",
     "text": [
      "/home/s.dharia-ra/miniconda3/envs/ml/lib/python3.10/site-packages/torch/nn/modules/transformer.py:379: UserWarning: enable_nested_tensor is True, but self.use_nested_tensor is False because encoder_layer.self_attn.num_heads is odd\n",
      "  warnings.warn(\n"
     ]
    },
    {
     "name": "stdout",
     "output_type": "stream",
     "text": [
      "Final training label acc: 82.38%\n",
      "[Threshold 0.2] -> F1=0.6947 | Acc=0.7027\n",
      "[Threshold 0.3] -> F1=0.7539 | Acc=0.7568\n",
      "[Threshold 0.4] -> F1=0.7824 | Acc=0.7838\n",
      "[Threshold 0.5] -> F1=0.8377 | Acc=0.8378\n",
      "\n",
      "[Best Threshold] = 0.5 with F1=0.8377\n",
      "Final validation loss: 0.8197\n",
      "Final validation acc: 60.00%\n",
      "Final validation f1: 0.58%\n",
      "\n",
      "===== Fold 2/10 =====\n"
     ]
    },
    {
     "name": "stderr",
     "output_type": "stream",
     "text": [
      "/home/s.dharia-ra/miniconda3/envs/ml/lib/python3.10/site-packages/torch/nn/modules/transformer.py:379: UserWarning: enable_nested_tensor is True, but self.use_nested_tensor is False because encoder_layer.self_attn.num_heads is odd\n",
      "  warnings.warn(\n"
     ]
    },
    {
     "name": "stdout",
     "output_type": "stream",
     "text": [
      "Final training label acc: 84.48%\n",
      "[Threshold 0.2] -> F1=0.7824 | Acc=0.7838\n",
      "[Threshold 0.3] -> F1=0.7824 | Acc=0.7838\n",
      "[Threshold 0.4] -> F1=0.8649 | Acc=0.8649\n",
      "[Threshold 0.5] -> F1=0.8918 | Acc=0.8919\n",
      "\n",
      "[Best Threshold] = 0.5 with F1=0.8918\n",
      "Final validation loss: 2.5694\n",
      "Final validation acc: 20.00%\n",
      "Final validation f1: 0.17%\n",
      "\n",
      "===== Fold 3/10 =====\n"
     ]
    },
    {
     "name": "stderr",
     "output_type": "stream",
     "text": [
      "/home/s.dharia-ra/miniconda3/envs/ml/lib/python3.10/site-packages/torch/nn/modules/transformer.py:379: UserWarning: enable_nested_tensor is True, but self.use_nested_tensor is False because encoder_layer.self_attn.num_heads is odd\n",
      "  warnings.warn(\n"
     ]
    },
    {
     "name": "stdout",
     "output_type": "stream",
     "text": [
      "Final training label acc: 81.61%\n",
      "[Threshold 0.2] -> F1=0.8936 | Acc=0.8947\n",
      "[Threshold 0.3] -> F1=0.8936 | Acc=0.8947\n",
      "[Threshold 0.4] -> F1=0.8936 | Acc=0.8947\n",
      "[Threshold 0.5] -> F1=0.9197 | Acc=0.9211\n",
      "\n",
      "[Best Threshold] = 0.5 with F1=0.9197\n",
      "Final validation loss: 0.6304\n",
      "Final validation acc: 75.00%\n",
      "Final validation f1: 0.73%\n",
      "\n",
      "===== Fold 4/10 =====\n"
     ]
    },
    {
     "name": "stderr",
     "output_type": "stream",
     "text": [
      "/home/s.dharia-ra/miniconda3/envs/ml/lib/python3.10/site-packages/torch/nn/modules/transformer.py:379: UserWarning: enable_nested_tensor is True, but self.use_nested_tensor is False because encoder_layer.self_attn.num_heads is odd\n",
      "  warnings.warn(\n"
     ]
    },
    {
     "name": "stdout",
     "output_type": "stream",
     "text": [
      "Final training label acc: 83.15%\n",
      "[Threshold 0.2] -> F1=0.8947 | Acc=0.8947\n",
      "[Threshold 0.3] -> F1=0.9210 | Acc=0.9211\n",
      "[Threshold 0.4] -> F1=0.9472 | Acc=0.9474\n",
      "[Threshold 0.5] -> F1=0.9735 | Acc=0.9737\n",
      "\n",
      "[Best Threshold] = 0.5 with F1=0.9735\n",
      "Final validation loss: 1.2794\n",
      "Final validation acc: 50.00%\n",
      "Final validation f1: 0.50%\n",
      "\n",
      "===== Fold 5/10 =====\n"
     ]
    },
    {
     "name": "stderr",
     "output_type": "stream",
     "text": [
      "/home/s.dharia-ra/miniconda3/envs/ml/lib/python3.10/site-packages/torch/nn/modules/transformer.py:379: UserWarning: enable_nested_tensor is True, but self.use_nested_tensor is False because encoder_layer.self_attn.num_heads is odd\n",
      "  warnings.warn(\n"
     ]
    },
    {
     "name": "stdout",
     "output_type": "stream",
     "text": [
      "Final training label acc: 77.51%\n",
      "[Threshold 0.2] -> F1=0.6807 | Acc=0.6842\n",
      "[Threshold 0.3] -> F1=0.7630 | Acc=0.7632\n",
      "[Threshold 0.4] -> F1=0.8157 | Acc=0.8158\n",
      "[Threshold 0.5] -> F1=0.8417 | Acc=0.8421\n",
      "\n",
      "[Best Threshold] = 0.5 with F1=0.8417\n",
      "Final validation loss: 0.3637\n",
      "Final validation acc: 100.00%\n",
      "Final validation f1: 1.00%\n",
      "\n",
      "===== Fold 6/10 =====\n"
     ]
    },
    {
     "name": "stderr",
     "output_type": "stream",
     "text": [
      "/home/s.dharia-ra/miniconda3/envs/ml/lib/python3.10/site-packages/torch/nn/modules/transformer.py:379: UserWarning: enable_nested_tensor is True, but self.use_nested_tensor is False because encoder_layer.self_attn.num_heads is odd\n",
      "  warnings.warn(\n"
     ]
    },
    {
     "name": "stdout",
     "output_type": "stream",
     "text": [
      "Final training label acc: 84.71%\n",
      "[Threshold 0.2] -> F1=0.8157 | Acc=0.8158\n",
      "[Threshold 0.3] -> F1=0.8944 | Acc=0.8947\n",
      "[Threshold 0.4] -> F1=0.8936 | Acc=0.8947\n",
      "[Threshold 0.5] -> F1=0.9197 | Acc=0.9211\n",
      "\n",
      "[Best Threshold] = 0.5 with F1=0.9197\n",
      "Final validation loss: 1.5850\n",
      "Final validation acc: 50.00%\n",
      "Final validation f1: 0.33%\n",
      "\n",
      "===== Fold 7/10 =====\n"
     ]
    },
    {
     "name": "stderr",
     "output_type": "stream",
     "text": [
      "/home/s.dharia-ra/miniconda3/envs/ml/lib/python3.10/site-packages/torch/nn/modules/transformer.py:379: UserWarning: enable_nested_tensor is True, but self.use_nested_tensor is False because encoder_layer.self_attn.num_heads is odd\n",
      "  warnings.warn(\n"
     ]
    },
    {
     "name": "stdout",
     "output_type": "stream",
     "text": [
      "Final training label acc: 79.01%\n",
      "[Threshold 0.2] -> F1=0.5818 | Acc=0.6053\n",
      "[Threshold 0.3] -> F1=0.7889 | Acc=0.7895\n",
      "[Threshold 0.4] -> F1=0.8157 | Acc=0.8158\n",
      "[Threshold 0.5] -> F1=0.8683 | Acc=0.8684\n",
      "\n",
      "[Best Threshold] = 0.5 with F1=0.8683\n",
      "Final validation loss: 0.8949\n",
      "Final validation acc: 50.00%\n",
      "Final validation f1: 0.33%\n",
      "\n",
      "===== Fold 8/10 =====\n"
     ]
    },
    {
     "name": "stderr",
     "output_type": "stream",
     "text": [
      "/home/s.dharia-ra/miniconda3/envs/ml/lib/python3.10/site-packages/torch/nn/modules/transformer.py:379: UserWarning: enable_nested_tensor is True, but self.use_nested_tensor is False because encoder_layer.self_attn.num_heads is odd\n",
      "  warnings.warn(\n"
     ]
    },
    {
     "name": "stdout",
     "output_type": "stream",
     "text": [
      "Final training label acc: 83.85%\n",
      "[Threshold 0.2] -> F1=0.8683 | Acc=0.8684\n",
      "[Threshold 0.3] -> F1=0.8944 | Acc=0.8947\n",
      "[Threshold 0.4] -> F1=0.9197 | Acc=0.9211\n",
      "[Threshold 0.5] -> F1=0.9460 | Acc=0.9474\n",
      "\n",
      "[Best Threshold] = 0.5 with F1=0.9460\n",
      "Final validation loss: 1.9670\n",
      "Final validation acc: 75.00%\n",
      "Final validation f1: 0.73%\n",
      "\n",
      "===== Fold 9/10 =====\n"
     ]
    },
    {
     "name": "stderr",
     "output_type": "stream",
     "text": [
      "/home/s.dharia-ra/miniconda3/envs/ml/lib/python3.10/site-packages/torch/nn/modules/transformer.py:379: UserWarning: enable_nested_tensor is True, but self.use_nested_tensor is False because encoder_layer.self_attn.num_heads is odd\n",
      "  warnings.warn(\n"
     ]
    },
    {
     "name": "stdout",
     "output_type": "stream",
     "text": [
      "Final training label acc: 80.24%\n",
      "[Threshold 0.2] -> F1=0.7630 | Acc=0.7632\n",
      "[Threshold 0.3] -> F1=0.8676 | Acc=0.8684\n",
      "[Threshold 0.4] -> F1=0.9197 | Acc=0.9211\n",
      "[Threshold 0.5] -> F1=0.9449 | Acc=0.9474\n",
      "\n",
      "[Best Threshold] = 0.5 with F1=0.9449\n",
      "Final validation loss: 0.3834\n",
      "Final validation acc: 100.00%\n",
      "Final validation f1: 1.00%\n",
      "\n",
      "===== Fold 10/10 =====\n"
     ]
    },
    {
     "name": "stderr",
     "output_type": "stream",
     "text": [
      "/home/s.dharia-ra/miniconda3/envs/ml/lib/python3.10/site-packages/torch/nn/modules/transformer.py:379: UserWarning: enable_nested_tensor is True, but self.use_nested_tensor is False because encoder_layer.self_attn.num_heads is odd\n",
      "  warnings.warn(\n"
     ]
    },
    {
     "name": "stdout",
     "output_type": "stream",
     "text": [
      "Final training label acc: 86.86%\n",
      "[Threshold 0.2] -> F1=0.8936 | Acc=0.8947\n",
      "[Threshold 0.3] -> F1=0.8936 | Acc=0.8947\n",
      "[Threshold 0.4] -> F1=0.9460 | Acc=0.9474\n",
      "[Threshold 0.5] -> F1=0.9460 | Acc=0.9474\n",
      "\n",
      "[Best Threshold] = 0.4 with F1=0.9460\n",
      "Final validation loss: 1.0711\n",
      "Final validation acc: 75.00%\n",
      "Final validation f1: 0.73%\n",
      "\n",
      "=== Cross‐Val Results ===\n",
      "Accuracies per fold: [60.0, 20.0, 75.0, 50.0, 100.0, 50.0, 50.0, 75.0, 100.0, 75.0]\n",
      "Mean acc: 65.50%, Std: 23.39%\n",
      "Mean f1: 0.61%, Std: 0.27%\n",
      "\n",
      "===== Fold 1/10 =====\n"
     ]
    },
    {
     "name": "stderr",
     "output_type": "stream",
     "text": [
      "/home/s.dharia-ra/miniconda3/envs/ml/lib/python3.10/site-packages/torch/nn/modules/transformer.py:379: UserWarning: enable_nested_tensor is True, but self.use_nested_tensor is False because encoder_layer.self_attn.num_heads is odd\n",
      "  warnings.warn(\n"
     ]
    },
    {
     "name": "stdout",
     "output_type": "stream",
     "text": [
      "Final training label acc: 84.66%\n",
      "[Threshold 0.2] -> F1=0.8912 | Acc=0.8919\n",
      "[Threshold 0.3] -> F1=0.9449 | Acc=0.9459\n",
      "[Threshold 0.4] -> F1=0.9449 | Acc=0.9459\n",
      "[Threshold 0.5] -> F1=0.9449 | Acc=0.9459\n",
      "\n",
      "[Best Threshold] = 0.3 with F1=0.9449\n",
      "Final validation loss: 0.9607\n",
      "Final validation acc: 40.00%\n",
      "Final validation f1: 0.40%\n",
      "\n",
      "===== Fold 2/10 =====\n"
     ]
    },
    {
     "name": "stderr",
     "output_type": "stream",
     "text": [
      "/home/s.dharia-ra/miniconda3/envs/ml/lib/python3.10/site-packages/torch/nn/modules/transformer.py:379: UserWarning: enable_nested_tensor is True, but self.use_nested_tensor is False because encoder_layer.self_attn.num_heads is odd\n",
      "  warnings.warn(\n"
     ]
    },
    {
     "name": "stdout",
     "output_type": "stream",
     "text": [
      "Final training label acc: 82.97%\n",
      "[Threshold 0.2] -> F1=0.8645 | Acc=0.8649\n",
      "[Threshold 0.3] -> F1=0.8912 | Acc=0.8919\n",
      "[Threshold 0.4] -> F1=0.9722 | Acc=0.9730\n",
      "[Threshold 0.5] -> F1=0.9722 | Acc=0.9730\n",
      "\n",
      "[Best Threshold] = 0.4 with F1=0.9722\n",
      "Final validation loss: 1.0238\n",
      "Final validation acc: 60.00%\n",
      "Final validation f1: 0.58%\n",
      "\n",
      "===== Fold 3/10 =====\n"
     ]
    },
    {
     "name": "stderr",
     "output_type": "stream",
     "text": [
      "/home/s.dharia-ra/miniconda3/envs/ml/lib/python3.10/site-packages/torch/nn/modules/transformer.py:379: UserWarning: enable_nested_tensor is True, but self.use_nested_tensor is False because encoder_layer.self_attn.num_heads is odd\n",
      "  warnings.warn(\n"
     ]
    },
    {
     "name": "stdout",
     "output_type": "stream",
     "text": [
      "Final training label acc: 79.11%\n",
      "[Threshold 0.2] -> F1=0.6376 | Acc=0.6579\n",
      "[Threshold 0.3] -> F1=0.7301 | Acc=0.7368\n",
      "[Threshold 0.4] -> F1=0.7871 | Acc=0.7895\n",
      "[Threshold 0.5] -> F1=0.8421 | Acc=0.8421\n",
      "\n",
      "[Best Threshold] = 0.5 with F1=0.8421\n",
      "Final validation loss: 1.0243\n",
      "Final validation acc: 75.00%\n",
      "Final validation f1: 0.73%\n",
      "\n",
      "===== Fold 4/10 =====\n"
     ]
    },
    {
     "name": "stderr",
     "output_type": "stream",
     "text": [
      "/home/s.dharia-ra/miniconda3/envs/ml/lib/python3.10/site-packages/torch/nn/modules/transformer.py:379: UserWarning: enable_nested_tensor is True, but self.use_nested_tensor is False because encoder_layer.self_attn.num_heads is odd\n",
      "  warnings.warn(\n"
     ]
    },
    {
     "name": "stdout",
     "output_type": "stream",
     "text": [
      "Final training label acc: 81.54%\n",
      "[Threshold 0.2] -> F1=0.8683 | Acc=0.8684\n",
      "[Threshold 0.3] -> F1=0.9206 | Acc=0.9211\n",
      "[Threshold 0.4] -> F1=0.9206 | Acc=0.9211\n",
      "[Threshold 0.5] -> F1=0.9197 | Acc=0.9211\n",
      "\n",
      "[Best Threshold] = 0.3 with F1=0.9206\n",
      "Final validation loss: 0.3782\n",
      "Final validation acc: 75.00%\n",
      "Final validation f1: 0.73%\n",
      "\n",
      "===== Fold 5/10 =====\n"
     ]
    },
    {
     "name": "stderr",
     "output_type": "stream",
     "text": [
      "/home/s.dharia-ra/miniconda3/envs/ml/lib/python3.10/site-packages/torch/nn/modules/transformer.py:379: UserWarning: enable_nested_tensor is True, but self.use_nested_tensor is False because encoder_layer.self_attn.num_heads is odd\n",
      "  warnings.warn(\n"
     ]
    },
    {
     "name": "stdout",
     "output_type": "stream",
     "text": [
      "Final training label acc: 83.16%\n",
      "[Threshold 0.2] -> F1=0.7339 | Acc=0.7368\n",
      "[Threshold 0.3] -> F1=0.7617 | Acc=0.7632\n",
      "[Threshold 0.4] -> F1=0.8157 | Acc=0.8158\n",
      "[Threshold 0.5] -> F1=0.8683 | Acc=0.8684\n",
      "\n",
      "[Best Threshold] = 0.5 with F1=0.8683\n",
      "Final validation loss: 0.5300\n",
      "Final validation acc: 75.00%\n",
      "Final validation f1: 0.73%\n",
      "\n",
      "===== Fold 6/10 =====\n"
     ]
    },
    {
     "name": "stderr",
     "output_type": "stream",
     "text": [
      "/home/s.dharia-ra/miniconda3/envs/ml/lib/python3.10/site-packages/torch/nn/modules/transformer.py:379: UserWarning: enable_nested_tensor is True, but self.use_nested_tensor is False because encoder_layer.self_attn.num_heads is odd\n",
      "  warnings.warn(\n"
     ]
    },
    {
     "name": "stdout",
     "output_type": "stream",
     "text": [
      "Final training label acc: 87.29%\n",
      "[Threshold 0.2] -> F1=0.9206 | Acc=0.9211\n",
      "[Threshold 0.3] -> F1=0.9206 | Acc=0.9211\n",
      "[Threshold 0.4] -> F1=0.9468 | Acc=0.9474\n",
      "[Threshold 0.5] -> F1=0.9732 | Acc=0.9737\n",
      "\n",
      "[Best Threshold] = 0.5 with F1=0.9732\n",
      "Final validation loss: 1.7621\n",
      "Final validation acc: 75.00%\n",
      "Final validation f1: 0.73%\n",
      "\n",
      "===== Fold 7/10 =====\n"
     ]
    },
    {
     "name": "stderr",
     "output_type": "stream",
     "text": [
      "/home/s.dharia-ra/miniconda3/envs/ml/lib/python3.10/site-packages/torch/nn/modules/transformer.py:379: UserWarning: enable_nested_tensor is True, but self.use_nested_tensor is False because encoder_layer.self_attn.num_heads is odd\n",
      "  warnings.warn(\n"
     ]
    },
    {
     "name": "stdout",
     "output_type": "stream",
     "text": [
      "Final training label acc: 86.43%\n",
      "[Threshold 0.2] -> F1=0.8421 | Acc=0.8421\n",
      "[Threshold 0.3] -> F1=0.8944 | Acc=0.8947\n",
      "[Threshold 0.4] -> F1=0.9197 | Acc=0.9211\n",
      "[Threshold 0.5] -> F1=0.9728 | Acc=0.9737\n",
      "\n",
      "[Best Threshold] = 0.5 with F1=0.9728\n",
      "Final validation loss: 2.4388\n",
      "Final validation acc: 50.00%\n",
      "Final validation f1: 0.50%\n",
      "\n",
      "===== Fold 8/10 =====\n"
     ]
    },
    {
     "name": "stderr",
     "output_type": "stream",
     "text": [
      "/home/s.dharia-ra/miniconda3/envs/ml/lib/python3.10/site-packages/torch/nn/modules/transformer.py:379: UserWarning: enable_nested_tensor is True, but self.use_nested_tensor is False because encoder_layer.self_attn.num_heads is odd\n",
      "  warnings.warn(\n"
     ]
    },
    {
     "name": "stdout",
     "output_type": "stream",
     "text": [
      "Final training label acc: 86.35%\n",
      "[Threshold 0.2] -> F1=0.8421 | Acc=0.8421\n",
      "[Threshold 0.3] -> F1=0.8944 | Acc=0.8947\n",
      "[Threshold 0.4] -> F1=0.9197 | Acc=0.9211\n",
      "[Threshold 0.5] -> F1=0.9460 | Acc=0.9474\n",
      "\n",
      "[Best Threshold] = 0.5 with F1=0.9460\n",
      "Final validation loss: 1.5083\n",
      "Final validation acc: 50.00%\n",
      "Final validation f1: 0.50%\n",
      "\n",
      "===== Fold 9/10 =====\n"
     ]
    },
    {
     "name": "stderr",
     "output_type": "stream",
     "text": [
      "/home/s.dharia-ra/miniconda3/envs/ml/lib/python3.10/site-packages/torch/nn/modules/transformer.py:379: UserWarning: enable_nested_tensor is True, but self.use_nested_tensor is False because encoder_layer.self_attn.num_heads is odd\n",
      "  warnings.warn(\n"
     ]
    },
    {
     "name": "stdout",
     "output_type": "stream",
     "text": [
      "Final training label acc: 82.53%\n",
      "[Threshold 0.2] -> F1=0.8936 | Acc=0.8947\n",
      "[Threshold 0.3] -> F1=0.8936 | Acc=0.8947\n",
      "[Threshold 0.4] -> F1=0.9460 | Acc=0.9474\n",
      "[Threshold 0.5] -> F1=0.9728 | Acc=0.9737\n",
      "\n",
      "[Best Threshold] = 0.5 with F1=0.9728\n",
      "Final validation loss: 1.3716\n",
      "Final validation acc: 50.00%\n",
      "Final validation f1: 0.33%\n",
      "\n",
      "===== Fold 10/10 =====\n"
     ]
    },
    {
     "name": "stderr",
     "output_type": "stream",
     "text": [
      "/home/s.dharia-ra/miniconda3/envs/ml/lib/python3.10/site-packages/torch/nn/modules/transformer.py:379: UserWarning: enable_nested_tensor is True, but self.use_nested_tensor is False because encoder_layer.self_attn.num_heads is odd\n",
      "  warnings.warn(\n"
     ]
    },
    {
     "name": "stdout",
     "output_type": "stream",
     "text": [
      "Final training label acc: 82.18%\n",
      "[Threshold 0.2] -> F1=0.6807 | Acc=0.6842\n",
      "[Threshold 0.3] -> F1=0.7087 | Acc=0.7105\n",
      "[Threshold 0.4] -> F1=0.8157 | Acc=0.8158\n",
      "[Threshold 0.5] -> F1=0.8936 | Acc=0.8947\n",
      "\n",
      "[Best Threshold] = 0.5 with F1=0.8936\n",
      "Final validation loss: 0.4394\n",
      "Final validation acc: 75.00%\n",
      "Final validation f1: 0.73%\n",
      "\n",
      "=== Cross‐Val Results ===\n",
      "Accuracies per fold: [40.0, 60.0, 75.0, 75.0, 75.0, 75.0, 50.0, 50.0, 50.0, 75.0]\n",
      "Mean acc: 62.50%, Std: 13.28%\n",
      "Mean f1: 0.60%, Std: 0.15%\n",
      "\n",
      "===== Fold 1/10 =====\n"
     ]
    },
    {
     "name": "stderr",
     "output_type": "stream",
     "text": [
      "/home/s.dharia-ra/miniconda3/envs/ml/lib/python3.10/site-packages/torch/nn/modules/transformer.py:379: UserWarning: enable_nested_tensor is True, but self.use_nested_tensor is False because encoder_layer.self_attn.num_heads is odd\n",
      "  warnings.warn(\n"
     ]
    },
    {
     "name": "stdout",
     "output_type": "stream",
     "text": [
      "Final training label acc: 78.24%\n",
      "[Threshold 0.2] -> F1=0.6314 | Acc=0.6486\n",
      "[Threshold 0.3] -> F1=0.6947 | Acc=0.7027\n",
      "[Threshold 0.4] -> F1=0.7247 | Acc=0.7297\n",
      "[Threshold 0.5] -> F1=0.7539 | Acc=0.7568\n",
      "\n",
      "[Best Threshold] = 0.5 with F1=0.7539\n",
      "Final validation loss: 0.8005\n",
      "Final validation acc: 60.00%\n",
      "Final validation f1: 0.58%\n",
      "\n",
      "===== Fold 2/10 =====\n"
     ]
    },
    {
     "name": "stderr",
     "output_type": "stream",
     "text": [
      "/home/s.dharia-ra/miniconda3/envs/ml/lib/python3.10/site-packages/torch/nn/modules/transformer.py:379: UserWarning: enable_nested_tensor is True, but self.use_nested_tensor is False because encoder_layer.self_attn.num_heads is odd\n",
      "  warnings.warn(\n"
     ]
    },
    {
     "name": "stdout",
     "output_type": "stream",
     "text": [
      "Final training label acc: 79.68%\n",
      "[Threshold 0.2] -> F1=0.5978 | Acc=0.6216\n",
      "[Threshold 0.3] -> F1=0.7247 | Acc=0.7297\n",
      "[Threshold 0.4] -> F1=0.8103 | Acc=0.8108\n",
      "[Threshold 0.5] -> F1=0.8377 | Acc=0.8378\n",
      "\n",
      "[Best Threshold] = 0.5 with F1=0.8377\n",
      "Final validation loss: 0.5793\n",
      "Final validation acc: 80.00%\n",
      "Final validation f1: 0.80%\n",
      "\n",
      "===== Fold 3/10 =====\n"
     ]
    },
    {
     "name": "stderr",
     "output_type": "stream",
     "text": [
      "/home/s.dharia-ra/miniconda3/envs/ml/lib/python3.10/site-packages/torch/nn/modules/transformer.py:379: UserWarning: enable_nested_tensor is True, but self.use_nested_tensor is False because encoder_layer.self_attn.num_heads is odd\n",
      "  warnings.warn(\n"
     ]
    },
    {
     "name": "stdout",
     "output_type": "stream",
     "text": [
      "Final training label acc: 80.50%\n",
      "[Threshold 0.2] -> F1=0.8661 | Acc=0.8684\n",
      "[Threshold 0.3] -> F1=0.8920 | Acc=0.8947\n",
      "[Threshold 0.4] -> F1=0.9183 | Acc=0.9211\n",
      "[Threshold 0.5] -> F1=0.8899 | Acc=0.8947\n",
      "\n",
      "[Best Threshold] = 0.4 with F1=0.9183\n",
      "Final validation loss: 0.8865\n",
      "Final validation acc: 75.00%\n",
      "Final validation f1: 0.43%\n",
      "\n",
      "===== Fold 4/10 =====\n"
     ]
    },
    {
     "name": "stderr",
     "output_type": "stream",
     "text": [
      "/home/s.dharia-ra/miniconda3/envs/ml/lib/python3.10/site-packages/torch/nn/modules/transformer.py:379: UserWarning: enable_nested_tensor is True, but self.use_nested_tensor is False because encoder_layer.self_attn.num_heads is odd\n",
      "  warnings.warn(\n"
     ]
    },
    {
     "name": "stdout",
     "output_type": "stream",
     "text": [
      "Final training label acc: 82.50%\n",
      "[Threshold 0.2] -> F1=0.8417 | Acc=0.8421\n",
      "[Threshold 0.3] -> F1=0.9206 | Acc=0.9211\n",
      "[Threshold 0.4] -> F1=0.9468 | Acc=0.9474\n",
      "[Threshold 0.5] -> F1=0.9460 | Acc=0.9474\n",
      "\n",
      "[Best Threshold] = 0.4 with F1=0.9468\n",
      "Final validation loss: 0.8790\n",
      "Final validation acc: 50.00%\n",
      "Final validation f1: 0.50%\n",
      "\n",
      "===== Fold 5/10 =====\n"
     ]
    },
    {
     "name": "stderr",
     "output_type": "stream",
     "text": [
      "/home/s.dharia-ra/miniconda3/envs/ml/lib/python3.10/site-packages/torch/nn/modules/transformer.py:379: UserWarning: enable_nested_tensor is True, but self.use_nested_tensor is False because encoder_layer.self_attn.num_heads is odd\n",
      "  warnings.warn(\n"
     ]
    },
    {
     "name": "stdout",
     "output_type": "stream",
     "text": [
      "Final training label acc: 80.65%\n",
      "[Threshold 0.2] -> F1=0.8683 | Acc=0.8684\n",
      "[Threshold 0.3] -> F1=0.8676 | Acc=0.8684\n",
      "[Threshold 0.4] -> F1=0.8676 | Acc=0.8684\n",
      "[Threshold 0.5] -> F1=0.8676 | Acc=0.8684\n",
      "\n",
      "[Best Threshold] = 0.2 with F1=0.8683\n",
      "Final validation loss: 0.6965\n",
      "Final validation acc: 50.00%\n",
      "Final validation f1: 0.33%\n",
      "\n",
      "===== Fold 6/10 =====\n"
     ]
    },
    {
     "name": "stderr",
     "output_type": "stream",
     "text": [
      "/home/s.dharia-ra/miniconda3/envs/ml/lib/python3.10/site-packages/torch/nn/modules/transformer.py:379: UserWarning: enable_nested_tensor is True, but self.use_nested_tensor is False because encoder_layer.self_attn.num_heads is odd\n",
      "  warnings.warn(\n"
     ]
    },
    {
     "name": "stdout",
     "output_type": "stream",
     "text": [
      "Final training label acc: 76.12%\n",
      "[Threshold 0.2] -> F1=0.6761 | Acc=0.6842\n",
      "[Threshold 0.3] -> F1=0.6807 | Acc=0.6842\n",
      "[Threshold 0.4] -> F1=0.7087 | Acc=0.7105\n",
      "[Threshold 0.5] -> F1=0.7630 | Acc=0.7632\n",
      "\n",
      "[Best Threshold] = 0.5 with F1=0.7630\n",
      "Final validation loss: 0.6683\n",
      "Final validation acc: 75.00%\n",
      "Final validation f1: 0.73%\n",
      "\n",
      "===== Fold 7/10 =====\n"
     ]
    },
    {
     "name": "stderr",
     "output_type": "stream",
     "text": [
      "/home/s.dharia-ra/miniconda3/envs/ml/lib/python3.10/site-packages/torch/nn/modules/transformer.py:379: UserWarning: enable_nested_tensor is True, but self.use_nested_tensor is False because encoder_layer.self_attn.num_heads is odd\n",
      "  warnings.warn(\n"
     ]
    },
    {
     "name": "stdout",
     "output_type": "stream",
     "text": [
      "Final training label acc: 85.74%\n",
      "[Threshold 0.2] -> F1=0.8157 | Acc=0.8158\n",
      "[Threshold 0.3] -> F1=0.8944 | Acc=0.8947\n",
      "[Threshold 0.4] -> F1=0.9468 | Acc=0.9474\n",
      "[Threshold 0.5] -> F1=1.0000 | Acc=1.0000\n",
      "\n",
      "[Best Threshold] = 0.5 with F1=1.0000\n",
      "Final validation loss: 2.7278\n",
      "Final validation acc: 50.00%\n",
      "Final validation f1: 0.33%\n",
      "\n",
      "===== Fold 8/10 =====\n"
     ]
    },
    {
     "name": "stderr",
     "output_type": "stream",
     "text": [
      "/home/s.dharia-ra/miniconda3/envs/ml/lib/python3.10/site-packages/torch/nn/modules/transformer.py:379: UserWarning: enable_nested_tensor is True, but self.use_nested_tensor is False because encoder_layer.self_attn.num_heads is odd\n",
      "  warnings.warn(\n"
     ]
    },
    {
     "name": "stdout",
     "output_type": "stream",
     "text": [
      "Final training label acc: 81.16%\n",
      "[Threshold 0.2] -> F1=0.8676 | Acc=0.8684\n",
      "[Threshold 0.3] -> F1=0.8936 | Acc=0.8947\n",
      "[Threshold 0.4] -> F1=0.9197 | Acc=0.9211\n",
      "[Threshold 0.5] -> F1=0.9197 | Acc=0.9211\n",
      "\n",
      "[Best Threshold] = 0.4 with F1=0.9197\n",
      "Final validation loss: 0.2756\n",
      "Final validation acc: 100.00%\n",
      "Final validation f1: 1.00%\n",
      "\n",
      "===== Fold 9/10 =====\n"
     ]
    },
    {
     "name": "stderr",
     "output_type": "stream",
     "text": [
      "/home/s.dharia-ra/miniconda3/envs/ml/lib/python3.10/site-packages/torch/nn/modules/transformer.py:379: UserWarning: enable_nested_tensor is True, but self.use_nested_tensor is False because encoder_layer.self_attn.num_heads is odd\n",
      "  warnings.warn(\n"
     ]
    },
    {
     "name": "stdout",
     "output_type": "stream",
     "text": [
      "Final training label acc: 84.55%\n",
      "[Threshold 0.2] -> F1=0.8683 | Acc=0.8684\n",
      "[Threshold 0.3] -> F1=0.9468 | Acc=0.9474\n",
      "[Threshold 0.4] -> F1=0.9728 | Acc=0.9737\n",
      "[Threshold 0.5] -> F1=0.9449 | Acc=0.9474\n",
      "\n",
      "[Best Threshold] = 0.4 with F1=0.9728\n",
      "Final validation loss: 0.9996\n",
      "Final validation acc: 75.00%\n",
      "Final validation f1: 0.73%\n",
      "\n",
      "===== Fold 10/10 =====\n"
     ]
    },
    {
     "name": "stderr",
     "output_type": "stream",
     "text": [
      "/home/s.dharia-ra/miniconda3/envs/ml/lib/python3.10/site-packages/torch/nn/modules/transformer.py:379: UserWarning: enable_nested_tensor is True, but self.use_nested_tensor is False because encoder_layer.self_attn.num_heads is odd\n",
      "  warnings.warn(\n"
     ]
    },
    {
     "name": "stdout",
     "output_type": "stream",
     "text": [
      "Final training label acc: 87.33%\n",
      "[Threshold 0.2] -> F1=0.8421 | Acc=0.8421\n",
      "[Threshold 0.3] -> F1=0.9206 | Acc=0.9211\n",
      "[Threshold 0.4] -> F1=1.0000 | Acc=1.0000\n",
      "[Threshold 0.5] -> F1=1.0000 | Acc=1.0000\n",
      "\n",
      "[Best Threshold] = 0.4 with F1=1.0000\n",
      "Final validation loss: 4.0219\n",
      "Final validation acc: 25.00%\n",
      "Final validation f1: 0.20%\n",
      "\n",
      "=== Cross‐Val Results ===\n",
      "Accuracies per fold: [60.0, 80.0, 75.0, 50.0, 50.0, 75.0, 50.0, 100.0, 75.0, 25.0]\n",
      "Mean acc: 64.00%, Std: 20.10%\n",
      "Mean f1: 0.56%, Std: 0.24%\n",
      "\n",
      "===== Fold 1/10 =====\n"
     ]
    },
    {
     "name": "stderr",
     "output_type": "stream",
     "text": [
      "/home/s.dharia-ra/miniconda3/envs/ml/lib/python3.10/site-packages/torch/nn/modules/transformer.py:379: UserWarning: enable_nested_tensor is True, but self.use_nested_tensor is False because encoder_layer.self_attn.num_heads is odd\n",
      "  warnings.warn(\n"
     ]
    },
    {
     "name": "stdout",
     "output_type": "stream",
     "text": [
      "Final training label acc: 84.17%\n",
      "[Threshold 0.2] -> F1=0.8649 | Acc=0.8649\n",
      "[Threshold 0.3] -> F1=0.8918 | Acc=0.8919\n",
      "[Threshold 0.4] -> F1=0.9727 | Acc=0.9730\n",
      "[Threshold 0.5] -> F1=0.9722 | Acc=0.9730\n",
      "\n",
      "[Best Threshold] = 0.4 with F1=0.9727\n",
      "Final validation loss: 2.9829\n",
      "Final validation acc: 80.00%\n",
      "Final validation f1: 0.76%\n",
      "\n",
      "===== Fold 2/10 =====\n"
     ]
    },
    {
     "name": "stderr",
     "output_type": "stream",
     "text": [
      "/home/s.dharia-ra/miniconda3/envs/ml/lib/python3.10/site-packages/torch/nn/modules/transformer.py:379: UserWarning: enable_nested_tensor is True, but self.use_nested_tensor is False because encoder_layer.self_attn.num_heads is odd\n",
      "  warnings.warn(\n"
     ]
    },
    {
     "name": "stdout",
     "output_type": "stream",
     "text": [
      "Final training label acc: 82.62%\n",
      "[Threshold 0.2] -> F1=0.8377 | Acc=0.8378\n",
      "[Threshold 0.3] -> F1=0.9449 | Acc=0.9459\n",
      "[Threshold 0.4] -> F1=0.9722 | Acc=0.9730\n",
      "[Threshold 0.5] -> F1=0.9439 | Acc=0.9459\n",
      "\n",
      "[Best Threshold] = 0.4 with F1=0.9722\n",
      "Final validation loss: 0.7523\n",
      "Final validation acc: 80.00%\n",
      "Final validation f1: 0.76%\n",
      "\n",
      "===== Fold 3/10 =====\n"
     ]
    },
    {
     "name": "stderr",
     "output_type": "stream",
     "text": [
      "/home/s.dharia-ra/miniconda3/envs/ml/lib/python3.10/site-packages/torch/nn/modules/transformer.py:379: UserWarning: enable_nested_tensor is True, but self.use_nested_tensor is False because encoder_layer.self_attn.num_heads is odd\n",
      "  warnings.warn(\n"
     ]
    },
    {
     "name": "stdout",
     "output_type": "stream",
     "text": [
      "Final training label acc: 81.00%\n",
      "[Threshold 0.2] -> F1=0.8944 | Acc=0.8947\n",
      "[Threshold 0.3] -> F1=0.8944 | Acc=0.8947\n",
      "[Threshold 0.4] -> F1=0.9468 | Acc=0.9474\n",
      "[Threshold 0.5] -> F1=0.8920 | Acc=0.8947\n",
      "\n",
      "[Best Threshold] = 0.4 with F1=0.9468\n",
      "Final validation loss: 0.2299\n",
      "Final validation acc: 75.00%\n",
      "Final validation f1: 0.73%\n",
      "\n",
      "===== Fold 4/10 =====\n"
     ]
    },
    {
     "name": "stderr",
     "output_type": "stream",
     "text": [
      "/home/s.dharia-ra/miniconda3/envs/ml/lib/python3.10/site-packages/torch/nn/modules/transformer.py:379: UserWarning: enable_nested_tensor is True, but self.use_nested_tensor is False because encoder_layer.self_attn.num_heads is odd\n",
      "  warnings.warn(\n"
     ]
    },
    {
     "name": "stdout",
     "output_type": "stream",
     "text": [
      "Final training label acc: 82.37%\n",
      "[Threshold 0.2] -> F1=0.7617 | Acc=0.7632\n",
      "[Threshold 0.3] -> F1=0.8157 | Acc=0.8158\n",
      "[Threshold 0.4] -> F1=0.8417 | Acc=0.8421\n",
      "[Threshold 0.5] -> F1=0.8417 | Acc=0.8421\n",
      "\n",
      "[Best Threshold] = 0.4 with F1=0.8417\n",
      "Final validation loss: 0.8521\n",
      "Final validation acc: 75.00%\n",
      "Final validation f1: 0.73%\n",
      "\n",
      "===== Fold 5/10 =====\n"
     ]
    },
    {
     "name": "stderr",
     "output_type": "stream",
     "text": [
      "/home/s.dharia-ra/miniconda3/envs/ml/lib/python3.10/site-packages/torch/nn/modules/transformer.py:379: UserWarning: enable_nested_tensor is True, but self.use_nested_tensor is False because encoder_layer.self_attn.num_heads is odd\n",
      "  warnings.warn(\n"
     ]
    },
    {
     "name": "stdout",
     "output_type": "stream",
     "text": [
      "Final training label acc: 83.96%\n",
      "[Threshold 0.2] -> F1=0.8676 | Acc=0.8684\n",
      "[Threshold 0.3] -> F1=0.8920 | Acc=0.8947\n",
      "[Threshold 0.4] -> F1=0.9183 | Acc=0.9211\n",
      "[Threshold 0.5] -> F1=0.9183 | Acc=0.9211\n",
      "\n",
      "[Best Threshold] = 0.4 with F1=0.9183\n",
      "Final validation loss: 0.5076\n",
      "Final validation acc: 75.00%\n",
      "Final validation f1: 0.73%\n",
      "\n",
      "===== Fold 6/10 =====\n"
     ]
    },
    {
     "name": "stderr",
     "output_type": "stream",
     "text": [
      "/home/s.dharia-ra/miniconda3/envs/ml/lib/python3.10/site-packages/torch/nn/modules/transformer.py:379: UserWarning: enable_nested_tensor is True, but self.use_nested_tensor is False because encoder_layer.self_attn.num_heads is odd\n",
      "  warnings.warn(\n"
     ]
    },
    {
     "name": "stdout",
     "output_type": "stream",
     "text": [
      "Final training label acc: 83.97%\n",
      "[Threshold 0.2] -> F1=0.9197 | Acc=0.9211\n",
      "[Threshold 0.3] -> F1=0.9460 | Acc=0.9474\n",
      "[Threshold 0.4] -> F1=0.9183 | Acc=0.9211\n",
      "[Threshold 0.5] -> F1=0.9164 | Acc=0.9211\n",
      "\n",
      "[Best Threshold] = 0.3 with F1=0.9460\n",
      "Final validation loss: 0.9372\n",
      "Final validation acc: 75.00%\n",
      "Final validation f1: 0.73%\n",
      "\n",
      "===== Fold 7/10 =====\n"
     ]
    },
    {
     "name": "stderr",
     "output_type": "stream",
     "text": [
      "/home/s.dharia-ra/miniconda3/envs/ml/lib/python3.10/site-packages/torch/nn/modules/transformer.py:379: UserWarning: enable_nested_tensor is True, but self.use_nested_tensor is False because encoder_layer.self_attn.num_heads is odd\n",
      "  warnings.warn(\n"
     ]
    },
    {
     "name": "stdout",
     "output_type": "stream",
     "text": [
      "Final training label acc: 80.89%\n",
      "[Threshold 0.2] -> F1=0.6761 | Acc=0.6842\n",
      "[Threshold 0.3] -> F1=0.7617 | Acc=0.7632\n",
      "[Threshold 0.4] -> F1=0.8417 | Acc=0.8421\n",
      "[Threshold 0.5] -> F1=0.8676 | Acc=0.8684\n",
      "\n",
      "[Best Threshold] = 0.5 with F1=0.8676\n",
      "Final validation loss: 0.9319\n",
      "Final validation acc: 75.00%\n",
      "Final validation f1: 0.73%\n",
      "\n",
      "===== Fold 8/10 =====\n"
     ]
    },
    {
     "name": "stderr",
     "output_type": "stream",
     "text": [
      "/home/s.dharia-ra/miniconda3/envs/ml/lib/python3.10/site-packages/torch/nn/modules/transformer.py:379: UserWarning: enable_nested_tensor is True, but self.use_nested_tensor is False because encoder_layer.self_attn.num_heads is odd\n",
      "  warnings.warn(\n"
     ]
    },
    {
     "name": "stdout",
     "output_type": "stream",
     "text": [
      "Final training label acc: 82.47%\n",
      "[Threshold 0.2] -> F1=0.7617 | Acc=0.7632\n",
      "[Threshold 0.3] -> F1=0.7889 | Acc=0.7895\n",
      "[Threshold 0.4] -> F1=0.8421 | Acc=0.8421\n",
      "[Threshold 0.5] -> F1=0.8683 | Acc=0.8684\n",
      "\n",
      "[Best Threshold] = 0.5 with F1=0.8683\n",
      "Final validation loss: 0.6638\n",
      "Final validation acc: 75.00%\n",
      "Final validation f1: 0.73%\n",
      "\n",
      "===== Fold 9/10 =====\n"
     ]
    },
    {
     "name": "stderr",
     "output_type": "stream",
     "text": [
      "/home/s.dharia-ra/miniconda3/envs/ml/lib/python3.10/site-packages/torch/nn/modules/transformer.py:379: UserWarning: enable_nested_tensor is True, but self.use_nested_tensor is False because encoder_layer.self_attn.num_heads is odd\n",
      "  warnings.warn(\n"
     ]
    },
    {
     "name": "stdout",
     "output_type": "stream",
     "text": [
      "Final training label acc: 86.47%\n",
      "[Threshold 0.2] -> F1=0.7889 | Acc=0.7895\n",
      "[Threshold 0.3] -> F1=0.8683 | Acc=0.8684\n",
      "[Threshold 0.4] -> F1=0.8683 | Acc=0.8684\n",
      "[Threshold 0.5] -> F1=0.9732 | Acc=0.9737\n",
      "\n",
      "[Best Threshold] = 0.5 with F1=0.9732\n",
      "Final validation loss: 1.3179\n",
      "Final validation acc: 50.00%\n",
      "Final validation f1: 0.50%\n",
      "\n",
      "===== Fold 10/10 =====\n"
     ]
    },
    {
     "name": "stderr",
     "output_type": "stream",
     "text": [
      "/home/s.dharia-ra/miniconda3/envs/ml/lib/python3.10/site-packages/torch/nn/modules/transformer.py:379: UserWarning: enable_nested_tensor is True, but self.use_nested_tensor is False because encoder_layer.self_attn.num_heads is odd\n",
      "  warnings.warn(\n"
     ]
    },
    {
     "name": "stdout",
     "output_type": "stream",
     "text": [
      "Final training label acc: 86.47%\n",
      "[Threshold 0.2] -> F1=0.8683 | Acc=0.8684\n",
      "[Threshold 0.3] -> F1=0.8676 | Acc=0.8684\n",
      "[Threshold 0.4] -> F1=0.9197 | Acc=0.9211\n",
      "[Threshold 0.5] -> F1=0.9197 | Acc=0.9211\n",
      "\n",
      "[Best Threshold] = 0.4 with F1=0.9197\n",
      "Final validation loss: 1.8527\n",
      "Final validation acc: 50.00%\n",
      "Final validation f1: 0.33%\n",
      "\n",
      "=== Cross‐Val Results ===\n",
      "Accuracies per fold: [80.0, 80.0, 75.0, 75.0, 75.0, 75.0, 75.0, 75.0, 50.0, 50.0]\n",
      "Mean acc: 71.00%, Std: 10.68%\n",
      "Mean f1: 0.68%, Std: 0.14%\n",
      "\n",
      "===== Fold 1/10 =====\n"
     ]
    },
    {
     "name": "stderr",
     "output_type": "stream",
     "text": [
      "/home/s.dharia-ra/miniconda3/envs/ml/lib/python3.10/site-packages/torch/nn/modules/transformer.py:379: UserWarning: enable_nested_tensor is True, but self.use_nested_tensor is False because encoder_layer.self_attn.num_heads is odd\n",
      "  warnings.warn(\n"
     ]
    },
    {
     "name": "stdout",
     "output_type": "stream",
     "text": [
      "Final training label acc: 84.77%\n",
      "[Threshold 0.2] -> F1=0.8377 | Acc=0.8378\n",
      "[Threshold 0.3] -> F1=0.9180 | Acc=0.9189\n",
      "[Threshold 0.4] -> F1=0.9180 | Acc=0.9189\n",
      "[Threshold 0.5] -> F1=0.9722 | Acc=0.9730\n",
      "\n",
      "[Best Threshold] = 0.5 with F1=0.9722\n",
      "Final validation loss: 0.6996\n",
      "Final validation acc: 60.00%\n",
      "Final validation f1: 0.58%\n",
      "\n",
      "===== Fold 2/10 =====\n"
     ]
    },
    {
     "name": "stderr",
     "output_type": "stream",
     "text": [
      "/home/s.dharia-ra/miniconda3/envs/ml/lib/python3.10/site-packages/torch/nn/modules/transformer.py:379: UserWarning: enable_nested_tensor is True, but self.use_nested_tensor is False because encoder_layer.self_attn.num_heads is odd\n",
      "  warnings.warn(\n"
     ]
    },
    {
     "name": "stdout",
     "output_type": "stream",
     "text": [
      "Final training label acc: 78.70%\n",
      "[Threshold 0.2] -> F1=0.8108 | Acc=0.8108\n",
      "[Threshold 0.3] -> F1=0.9180 | Acc=0.9189\n",
      "[Threshold 0.4] -> F1=0.8612 | Acc=0.8649\n",
      "[Threshold 0.5] -> F1=0.8318 | Acc=0.8378\n",
      "\n",
      "[Best Threshold] = 0.3 with F1=0.9180\n",
      "Final validation loss: 0.5945\n",
      "Final validation acc: 60.00%\n",
      "Final validation f1: 0.58%\n",
      "\n",
      "===== Fold 3/10 =====\n"
     ]
    },
    {
     "name": "stderr",
     "output_type": "stream",
     "text": [
      "/home/s.dharia-ra/miniconda3/envs/ml/lib/python3.10/site-packages/torch/nn/modules/transformer.py:379: UserWarning: enable_nested_tensor is True, but self.use_nested_tensor is False because encoder_layer.self_attn.num_heads is odd\n",
      "  warnings.warn(\n"
     ]
    },
    {
     "name": "stdout",
     "output_type": "stream",
     "text": [
      "Final training label acc: 84.05%\n",
      "[Threshold 0.2] -> F1=0.7301 | Acc=0.7368\n",
      "[Threshold 0.3] -> F1=0.8146 | Acc=0.8158\n",
      "[Threshold 0.4] -> F1=0.8947 | Acc=0.8947\n",
      "[Threshold 0.5] -> F1=0.8944 | Acc=0.8947\n",
      "\n",
      "[Best Threshold] = 0.4 with F1=0.8947\n",
      "Final validation loss: 1.8483\n",
      "Final validation acc: 50.00%\n",
      "Final validation f1: 0.50%\n",
      "\n",
      "===== Fold 4/10 =====\n"
     ]
    },
    {
     "name": "stderr",
     "output_type": "stream",
     "text": [
      "/home/s.dharia-ra/miniconda3/envs/ml/lib/python3.10/site-packages/torch/nn/modules/transformer.py:379: UserWarning: enable_nested_tensor is True, but self.use_nested_tensor is False because encoder_layer.self_attn.num_heads is odd\n",
      "  warnings.warn(\n"
     ]
    },
    {
     "name": "stdout",
     "output_type": "stream",
     "text": [
      "Final training label acc: 80.43%\n",
      "[Threshold 0.2] -> F1=0.8944 | Acc=0.8947\n",
      "[Threshold 0.3] -> F1=0.8936 | Acc=0.8947\n",
      "[Threshold 0.4] -> F1=0.9183 | Acc=0.9211\n",
      "[Threshold 0.5] -> F1=0.9183 | Acc=0.9211\n",
      "\n",
      "[Best Threshold] = 0.4 with F1=0.9183\n",
      "Final validation loss: 0.4101\n",
      "Final validation acc: 75.00%\n",
      "Final validation f1: 0.73%\n",
      "\n",
      "===== Fold 5/10 =====\n"
     ]
    },
    {
     "name": "stderr",
     "output_type": "stream",
     "text": [
      "/home/s.dharia-ra/miniconda3/envs/ml/lib/python3.10/site-packages/torch/nn/modules/transformer.py:379: UserWarning: enable_nested_tensor is True, but self.use_nested_tensor is False because encoder_layer.self_attn.num_heads is odd\n",
      "  warnings.warn(\n"
     ]
    },
    {
     "name": "stdout",
     "output_type": "stream",
     "text": [
      "Final training label acc: 78.55%\n",
      "[Threshold 0.2] -> F1=0.7617 | Acc=0.7632\n",
      "[Threshold 0.3] -> F1=0.8125 | Acc=0.8158\n",
      "[Threshold 0.4] -> F1=0.8899 | Acc=0.8947\n",
      "[Threshold 0.5] -> F1=0.9164 | Acc=0.9211\n",
      "\n",
      "[Best Threshold] = 0.5 with F1=0.9164\n",
      "Final validation loss: 0.5113\n",
      "Final validation acc: 75.00%\n",
      "Final validation f1: 0.73%\n",
      "\n",
      "===== Fold 6/10 =====\n"
     ]
    },
    {
     "name": "stderr",
     "output_type": "stream",
     "text": [
      "/home/s.dharia-ra/miniconda3/envs/ml/lib/python3.10/site-packages/torch/nn/modules/transformer.py:379: UserWarning: enable_nested_tensor is True, but self.use_nested_tensor is False because encoder_layer.self_attn.num_heads is odd\n",
      "  warnings.warn(\n"
     ]
    },
    {
     "name": "stdout",
     "output_type": "stream",
     "text": [
      "Final training label acc: 83.33%\n",
      "[Threshold 0.2] -> F1=0.8157 | Acc=0.8158\n",
      "[Threshold 0.3] -> F1=0.8683 | Acc=0.8684\n",
      "[Threshold 0.4] -> F1=0.9468 | Acc=0.9474\n",
      "[Threshold 0.5] -> F1=0.9460 | Acc=0.9474\n",
      "\n",
      "[Best Threshold] = 0.4 with F1=0.9468\n",
      "Final validation loss: 0.7148\n",
      "Final validation acc: 100.00%\n",
      "Final validation f1: 1.00%\n",
      "\n",
      "===== Fold 7/10 =====\n"
     ]
    },
    {
     "name": "stderr",
     "output_type": "stream",
     "text": [
      "/home/s.dharia-ra/miniconda3/envs/ml/lib/python3.10/site-packages/torch/nn/modules/transformer.py:379: UserWarning: enable_nested_tensor is True, but self.use_nested_tensor is False because encoder_layer.self_attn.num_heads is odd\n",
      "  warnings.warn(\n"
     ]
    },
    {
     "name": "stdout",
     "output_type": "stream",
     "text": [
      "Final training label acc: 84.72%\n",
      "[Threshold 0.2] -> F1=0.8936 | Acc=0.8947\n",
      "[Threshold 0.3] -> F1=0.9197 | Acc=0.9211\n",
      "[Threshold 0.4] -> F1=0.9728 | Acc=0.9737\n",
      "[Threshold 0.5] -> F1=0.9728 | Acc=0.9737\n",
      "\n",
      "[Best Threshold] = 0.4 with F1=0.9728\n",
      "Final validation loss: 0.8092\n",
      "Final validation acc: 75.00%\n",
      "Final validation f1: 0.73%\n",
      "\n",
      "===== Fold 8/10 =====\n"
     ]
    },
    {
     "name": "stderr",
     "output_type": "stream",
     "text": [
      "/home/s.dharia-ra/miniconda3/envs/ml/lib/python3.10/site-packages/torch/nn/modules/transformer.py:379: UserWarning: enable_nested_tensor is True, but self.use_nested_tensor is False because encoder_layer.self_attn.num_heads is odd\n",
      "  warnings.warn(\n"
     ]
    },
    {
     "name": "stdout",
     "output_type": "stream",
     "text": [
      "Final training label acc: 86.82%\n",
      "[Threshold 0.2] -> F1=0.8944 | Acc=0.8947\n",
      "[Threshold 0.3] -> F1=0.9468 | Acc=0.9474\n",
      "[Threshold 0.4] -> F1=0.9197 | Acc=0.9211\n",
      "[Threshold 0.5] -> F1=0.9460 | Acc=0.9474\n",
      "\n",
      "[Best Threshold] = 0.3 with F1=0.9468\n",
      "Final validation loss: 2.4636\n",
      "Final validation acc: 25.00%\n",
      "Final validation f1: 0.20%\n",
      "\n",
      "===== Fold 9/10 =====\n"
     ]
    },
    {
     "name": "stderr",
     "output_type": "stream",
     "text": [
      "/home/s.dharia-ra/miniconda3/envs/ml/lib/python3.10/site-packages/torch/nn/modules/transformer.py:379: UserWarning: enable_nested_tensor is True, but self.use_nested_tensor is False because encoder_layer.self_attn.num_heads is odd\n",
      "  warnings.warn(\n"
     ]
    },
    {
     "name": "stdout",
     "output_type": "stream",
     "text": [
      "Final training label acc: 88.32%\n",
      "[Threshold 0.2] -> F1=0.7617 | Acc=0.7632\n",
      "[Threshold 0.3] -> F1=0.8157 | Acc=0.8158\n",
      "[Threshold 0.4] -> F1=0.8421 | Acc=0.8421\n",
      "[Threshold 0.5] -> F1=0.8683 | Acc=0.8684\n",
      "\n",
      "[Best Threshold] = 0.5 with F1=0.8683\n",
      "Final validation loss: 2.5385\n",
      "Final validation acc: 25.00%\n",
      "Final validation f1: 0.20%\n",
      "\n",
      "===== Fold 10/10 =====\n"
     ]
    },
    {
     "name": "stderr",
     "output_type": "stream",
     "text": [
      "/home/s.dharia-ra/miniconda3/envs/ml/lib/python3.10/site-packages/torch/nn/modules/transformer.py:379: UserWarning: enable_nested_tensor is True, but self.use_nested_tensor is False because encoder_layer.self_attn.num_heads is odd\n",
      "  warnings.warn(\n"
     ]
    },
    {
     "name": "stdout",
     "output_type": "stream",
     "text": [
      "Final training label acc: 77.74%\n",
      "[Threshold 0.2] -> F1=0.5818 | Acc=0.6053\n",
      "[Threshold 0.3] -> F1=0.6761 | Acc=0.6842\n",
      "[Threshold 0.4] -> F1=0.6761 | Acc=0.6842\n",
      "[Threshold 0.5] -> F1=0.6519 | Acc=0.6579\n",
      "\n",
      "[Best Threshold] = 0.3 with F1=0.6761\n",
      "Final validation loss: 0.3546\n",
      "Final validation acc: 75.00%\n",
      "Final validation f1: 0.73%\n",
      "\n",
      "=== Cross‐Val Results ===\n",
      "Accuracies per fold: [60.0, 60.0, 50.0, 75.0, 75.0, 100.0, 75.0, 25.0, 25.0, 75.0]\n",
      "Mean acc: 62.00%, Std: 22.38%\n",
      "Mean f1: 0.60%, Std: 0.24%\n",
      "\n",
      "===== Fold 1/10 =====\n"
     ]
    },
    {
     "name": "stderr",
     "output_type": "stream",
     "text": [
      "/home/s.dharia-ra/miniconda3/envs/ml/lib/python3.10/site-packages/torch/nn/modules/transformer.py:379: UserWarning: enable_nested_tensor is True, but self.use_nested_tensor is False because encoder_layer.self_attn.num_heads is odd\n",
      "  warnings.warn(\n"
     ]
    },
    {
     "name": "stdout",
     "output_type": "stream",
     "text": [
      "Final training label acc: 79.74%\n",
      "[Threshold 0.2] -> F1=0.7824 | Acc=0.7838\n",
      "[Threshold 0.3] -> F1=0.8108 | Acc=0.8108\n",
      "[Threshold 0.4] -> F1=0.8912 | Acc=0.8919\n",
      "[Threshold 0.5] -> F1=0.9180 | Acc=0.9189\n",
      "\n",
      "[Best Threshold] = 0.5 with F1=0.9180\n",
      "Final validation loss: 0.4389\n",
      "Final validation acc: 80.00%\n",
      "Final validation f1: 0.76%\n",
      "\n",
      "===== Fold 2/10 =====\n"
     ]
    },
    {
     "name": "stderr",
     "output_type": "stream",
     "text": [
      "/home/s.dharia-ra/miniconda3/envs/ml/lib/python3.10/site-packages/torch/nn/modules/transformer.py:379: UserWarning: enable_nested_tensor is True, but self.use_nested_tensor is False because encoder_layer.self_attn.num_heads is odd\n",
      "  warnings.warn(\n"
     ]
    },
    {
     "name": "stdout",
     "output_type": "stream",
     "text": [
      "Final training label acc: 85.07%\n",
      "[Threshold 0.2] -> F1=0.8912 | Acc=0.8919\n",
      "[Threshold 0.3] -> F1=0.9449 | Acc=0.9459\n",
      "[Threshold 0.4] -> F1=0.9449 | Acc=0.9459\n",
      "[Threshold 0.5] -> F1=0.9149 | Acc=0.9189\n",
      "\n",
      "[Best Threshold] = 0.3 with F1=0.9449\n",
      "Final validation loss: 0.9792\n",
      "Final validation acc: 60.00%\n",
      "Final validation f1: 0.58%\n",
      "\n",
      "===== Fold 3/10 =====\n"
     ]
    },
    {
     "name": "stderr",
     "output_type": "stream",
     "text": [
      "/home/s.dharia-ra/miniconda3/envs/ml/lib/python3.10/site-packages/torch/nn/modules/transformer.py:379: UserWarning: enable_nested_tensor is True, but self.use_nested_tensor is False because encoder_layer.self_attn.num_heads is odd\n",
      "  warnings.warn(\n"
     ]
    },
    {
     "name": "stdout",
     "output_type": "stream",
     "text": [
      "Final training label acc: 90.14%\n",
      "[Threshold 0.2] -> F1=0.8683 | Acc=0.8684\n",
      "[Threshold 0.3] -> F1=0.9472 | Acc=0.9474\n",
      "[Threshold 0.4] -> F1=0.9735 | Acc=0.9737\n",
      "[Threshold 0.5] -> F1=1.0000 | Acc=1.0000\n",
      "\n",
      "[Best Threshold] = 0.5 with F1=1.0000\n",
      "Final validation loss: 3.6113\n",
      "Final validation acc: 25.00%\n",
      "Final validation f1: 0.20%\n",
      "\n",
      "===== Fold 4/10 =====\n"
     ]
    },
    {
     "name": "stderr",
     "output_type": "stream",
     "text": [
      "/home/s.dharia-ra/miniconda3/envs/ml/lib/python3.10/site-packages/torch/nn/modules/transformer.py:379: UserWarning: enable_nested_tensor is True, but self.use_nested_tensor is False because encoder_layer.self_attn.num_heads is odd\n",
      "  warnings.warn(\n"
     ]
    },
    {
     "name": "stdout",
     "output_type": "stream",
     "text": [
      "Final training label acc: 83.33%\n",
      "[Threshold 0.2] -> F1=0.7871 | Acc=0.7895\n",
      "[Threshold 0.3] -> F1=0.8417 | Acc=0.8421\n",
      "[Threshold 0.4] -> F1=0.8944 | Acc=0.8947\n",
      "[Threshold 0.5] -> F1=0.9206 | Acc=0.9211\n",
      "\n",
      "[Best Threshold] = 0.5 with F1=0.9206\n",
      "Final validation loss: 1.4748\n",
      "Final validation acc: 25.00%\n",
      "Final validation f1: 0.20%\n",
      "\n",
      "===== Fold 5/10 =====\n"
     ]
    },
    {
     "name": "stderr",
     "output_type": "stream",
     "text": [
      "/home/s.dharia-ra/miniconda3/envs/ml/lib/python3.10/site-packages/torch/nn/modules/transformer.py:379: UserWarning: enable_nested_tensor is True, but self.use_nested_tensor is False because encoder_layer.self_attn.num_heads is odd\n",
      "  warnings.warn(\n"
     ]
    },
    {
     "name": "stdout",
     "output_type": "stream",
     "text": [
      "Final training label acc: 78.42%\n",
      "[Threshold 0.2] -> F1=0.7361 | Acc=0.7368\n",
      "[Threshold 0.3] -> F1=0.8157 | Acc=0.8158\n",
      "[Threshold 0.4] -> F1=0.8417 | Acc=0.8421\n",
      "[Threshold 0.5] -> F1=0.8676 | Acc=0.8684\n",
      "\n",
      "[Best Threshold] = 0.5 with F1=0.8676\n",
      "Final validation loss: 0.4531\n",
      "Final validation acc: 75.00%\n",
      "Final validation f1: 0.73%\n",
      "\n",
      "===== Fold 6/10 =====\n"
     ]
    },
    {
     "name": "stderr",
     "output_type": "stream",
     "text": [
      "/home/s.dharia-ra/miniconda3/envs/ml/lib/python3.10/site-packages/torch/nn/modules/transformer.py:379: UserWarning: enable_nested_tensor is True, but self.use_nested_tensor is False because encoder_layer.self_attn.num_heads is odd\n",
      "  warnings.warn(\n"
     ]
    },
    {
     "name": "stdout",
     "output_type": "stream",
     "text": [
      "Final training label acc: 80.93%\n",
      "[Threshold 0.2] -> F1=0.8157 | Acc=0.8158\n",
      "[Threshold 0.3] -> F1=0.8417 | Acc=0.8421\n",
      "[Threshold 0.4] -> F1=0.8936 | Acc=0.8947\n",
      "[Threshold 0.5] -> F1=0.9460 | Acc=0.9474\n",
      "\n",
      "[Best Threshold] = 0.5 with F1=0.9460\n",
      "Final validation loss: 0.3521\n",
      "Final validation acc: 100.00%\n",
      "Final validation f1: 1.00%\n",
      "\n",
      "===== Fold 7/10 =====\n"
     ]
    },
    {
     "name": "stderr",
     "output_type": "stream",
     "text": [
      "/home/s.dharia-ra/miniconda3/envs/ml/lib/python3.10/site-packages/torch/nn/modules/transformer.py:379: UserWarning: enable_nested_tensor is True, but self.use_nested_tensor is False because encoder_layer.self_attn.num_heads is odd\n",
      "  warnings.warn(\n"
     ]
    },
    {
     "name": "stdout",
     "output_type": "stream",
     "text": [
      "Final training label acc: 82.30%\n",
      "[Threshold 0.2] -> F1=0.6459 | Acc=0.6579\n",
      "[Threshold 0.3] -> F1=0.7339 | Acc=0.7368\n",
      "[Threshold 0.4] -> F1=0.7339 | Acc=0.7368\n",
      "[Threshold 0.5] -> F1=0.7889 | Acc=0.7895\n",
      "\n",
      "[Best Threshold] = 0.5 with F1=0.7889\n",
      "Final validation loss: 1.7830\n",
      "Final validation acc: 50.00%\n",
      "Final validation f1: 0.50%\n",
      "\n",
      "===== Fold 8/10 =====\n"
     ]
    },
    {
     "name": "stderr",
     "output_type": "stream",
     "text": [
      "/home/s.dharia-ra/miniconda3/envs/ml/lib/python3.10/site-packages/torch/nn/modules/transformer.py:379: UserWarning: enable_nested_tensor is True, but self.use_nested_tensor is False because encoder_layer.self_attn.num_heads is odd\n",
      "  warnings.warn(\n"
     ]
    },
    {
     "name": "stdout",
     "output_type": "stream",
     "text": [
      "Final training label acc: 84.02%\n",
      "[Threshold 0.2] -> F1=0.7889 | Acc=0.7895\n",
      "[Threshold 0.3] -> F1=0.8421 | Acc=0.8421\n",
      "[Threshold 0.4] -> F1=0.9206 | Acc=0.9211\n",
      "[Threshold 0.5] -> F1=0.8936 | Acc=0.8947\n",
      "\n",
      "[Best Threshold] = 0.4 with F1=0.9206\n",
      "Final validation loss: 0.7533\n",
      "Final validation acc: 50.00%\n",
      "Final validation f1: 0.33%\n",
      "\n",
      "===== Fold 9/10 =====\n"
     ]
    },
    {
     "name": "stderr",
     "output_type": "stream",
     "text": [
      "/home/s.dharia-ra/miniconda3/envs/ml/lib/python3.10/site-packages/torch/nn/modules/transformer.py:379: UserWarning: enable_nested_tensor is True, but self.use_nested_tensor is False because encoder_layer.self_attn.num_heads is odd\n",
      "  warnings.warn(\n"
     ]
    },
    {
     "name": "stdout",
     "output_type": "stream",
     "text": [
      "Final training label acc: 84.52%\n",
      "[Threshold 0.2] -> F1=0.7339 | Acc=0.7368\n",
      "[Threshold 0.3] -> F1=0.8421 | Acc=0.8421\n",
      "[Threshold 0.4] -> F1=0.8944 | Acc=0.8947\n",
      "[Threshold 0.5] -> F1=0.9206 | Acc=0.9211\n",
      "\n",
      "[Best Threshold] = 0.5 with F1=0.9206\n",
      "Final validation loss: 0.3910\n",
      "Final validation acc: 100.00%\n",
      "Final validation f1: 1.00%\n",
      "\n",
      "===== Fold 10/10 =====\n"
     ]
    },
    {
     "name": "stderr",
     "output_type": "stream",
     "text": [
      "/home/s.dharia-ra/miniconda3/envs/ml/lib/python3.10/site-packages/torch/nn/modules/transformer.py:379: UserWarning: enable_nested_tensor is True, but self.use_nested_tensor is False because encoder_layer.self_attn.num_heads is odd\n",
      "  warnings.warn(\n"
     ]
    },
    {
     "name": "stdout",
     "output_type": "stream",
     "text": [
      "Final training label acc: 80.89%\n",
      "[Threshold 0.2] -> F1=0.8157 | Acc=0.8158\n",
      "[Threshold 0.3] -> F1=0.9206 | Acc=0.9211\n",
      "[Threshold 0.4] -> F1=0.8936 | Acc=0.8947\n",
      "[Threshold 0.5] -> F1=0.8661 | Acc=0.8684\n",
      "\n",
      "[Best Threshold] = 0.3 with F1=0.9206\n",
      "Final validation loss: 0.7382\n",
      "Final validation acc: 50.00%\n",
      "Final validation f1: 0.33%\n",
      "\n",
      "=== Cross‐Val Results ===\n",
      "Accuracies per fold: [80.0, 60.0, 25.0, 25.0, 75.0, 100.0, 50.0, 50.0, 100.0, 50.0]\n",
      "Mean acc: 61.50%, Std: 25.60%\n",
      "Mean f1: 0.56%, Std: 0.29%\n",
      "\n",
      "===== Fold 1/10 =====\n"
     ]
    },
    {
     "name": "stderr",
     "output_type": "stream",
     "text": [
      "/home/s.dharia-ra/miniconda3/envs/ml/lib/python3.10/site-packages/torch/nn/modules/transformer.py:379: UserWarning: enable_nested_tensor is True, but self.use_nested_tensor is False because encoder_layer.self_attn.num_heads is odd\n",
      "  warnings.warn(\n"
     ]
    },
    {
     "name": "stdout",
     "output_type": "stream",
     "text": [
      "Final training label acc: 81.47%\n",
      "[Threshold 0.2] -> F1=0.8912 | Acc=0.8919\n",
      "[Threshold 0.3] -> F1=0.9180 | Acc=0.9189\n",
      "[Threshold 0.4] -> F1=0.8879 | Acc=0.8919\n",
      "[Threshold 0.5] -> F1=0.8879 | Acc=0.8919\n",
      "\n",
      "[Best Threshold] = 0.3 with F1=0.9180\n",
      "Final validation loss: 0.5849\n",
      "Final validation acc: 60.00%\n",
      "Final validation f1: 0.58%\n",
      "\n",
      "===== Fold 2/10 =====\n"
     ]
    },
    {
     "name": "stderr",
     "output_type": "stream",
     "text": [
      "/home/s.dharia-ra/miniconda3/envs/ml/lib/python3.10/site-packages/torch/nn/modules/transformer.py:379: UserWarning: enable_nested_tensor is True, but self.use_nested_tensor is False because encoder_layer.self_attn.num_heads is odd\n",
      "  warnings.warn(\n"
     ]
    },
    {
     "name": "stdout",
     "output_type": "stream",
     "text": [
      "Final training label acc: 80.60%\n",
      "[Threshold 0.2] -> F1=0.7539 | Acc=0.7568\n",
      "[Threshold 0.3] -> F1=0.7539 | Acc=0.7568\n",
      "[Threshold 0.4] -> F1=0.9187 | Acc=0.9189\n",
      "[Threshold 0.5] -> F1=0.9180 | Acc=0.9189\n",
      "\n",
      "[Best Threshold] = 0.4 with F1=0.9187\n",
      "Final validation loss: 0.6153\n",
      "Final validation acc: 80.00%\n",
      "Final validation f1: 0.76%\n",
      "\n",
      "===== Fold 3/10 =====\n"
     ]
    },
    {
     "name": "stderr",
     "output_type": "stream",
     "text": [
      "/home/s.dharia-ra/miniconda3/envs/ml/lib/python3.10/site-packages/torch/nn/modules/transformer.py:379: UserWarning: enable_nested_tensor is True, but self.use_nested_tensor is False because encoder_layer.self_attn.num_heads is odd\n",
      "  warnings.warn(\n"
     ]
    },
    {
     "name": "stdout",
     "output_type": "stream",
     "text": [
      "Final training label acc: 79.78%\n",
      "[Threshold 0.2] -> F1=0.8683 | Acc=0.8684\n",
      "[Threshold 0.3] -> F1=0.8638 | Acc=0.8684\n",
      "[Threshold 0.4] -> F1=0.8638 | Acc=0.8684\n",
      "[Threshold 0.5] -> F1=0.8348 | Acc=0.8421\n",
      "\n",
      "[Best Threshold] = 0.2 with F1=0.8683\n",
      "Final validation loss: 0.3388\n",
      "Final validation acc: 75.00%\n",
      "Final validation f1: 0.73%\n",
      "\n",
      "===== Fold 4/10 =====\n"
     ]
    },
    {
     "name": "stderr",
     "output_type": "stream",
     "text": [
      "/home/s.dharia-ra/miniconda3/envs/ml/lib/python3.10/site-packages/torch/nn/modules/transformer.py:379: UserWarning: enable_nested_tensor is True, but self.use_nested_tensor is False because encoder_layer.self_attn.num_heads is odd\n",
      "  warnings.warn(\n"
     ]
    },
    {
     "name": "stdout",
     "output_type": "stream",
     "text": [
      "Final training label acc: 81.72%\n",
      "[Threshold 0.2] -> F1=0.8146 | Acc=0.8158\n",
      "[Threshold 0.3] -> F1=0.8947 | Acc=0.8947\n",
      "[Threshold 0.4] -> F1=0.8944 | Acc=0.8947\n",
      "[Threshold 0.5] -> F1=0.9197 | Acc=0.9211\n",
      "\n",
      "[Best Threshold] = 0.5 with F1=0.9197\n",
      "Final validation loss: 0.5170\n",
      "Final validation acc: 100.00%\n",
      "Final validation f1: 1.00%\n",
      "\n",
      "===== Fold 5/10 =====\n"
     ]
    },
    {
     "name": "stderr",
     "output_type": "stream",
     "text": [
      "/home/s.dharia-ra/miniconda3/envs/ml/lib/python3.10/site-packages/torch/nn/modules/transformer.py:379: UserWarning: enable_nested_tensor is True, but self.use_nested_tensor is False because encoder_layer.self_attn.num_heads is odd\n",
      "  warnings.warn(\n"
     ]
    },
    {
     "name": "stdout",
     "output_type": "stream",
     "text": [
      "Final training label acc: 78.10%\n",
      "[Threshold 0.2] -> F1=0.7617 | Acc=0.7632\n",
      "[Threshold 0.3] -> F1=0.7889 | Acc=0.7895\n",
      "[Threshold 0.4] -> F1=0.8417 | Acc=0.8421\n",
      "[Threshold 0.5] -> F1=0.8676 | Acc=0.8684\n",
      "\n",
      "[Best Threshold] = 0.5 with F1=0.8676\n",
      "Final validation loss: 0.8245\n",
      "Final validation acc: 75.00%\n",
      "Final validation f1: 0.73%\n",
      "\n",
      "===== Fold 6/10 =====\n"
     ]
    },
    {
     "name": "stderr",
     "output_type": "stream",
     "text": [
      "/home/s.dharia-ra/miniconda3/envs/ml/lib/python3.10/site-packages/torch/nn/modules/transformer.py:379: UserWarning: enable_nested_tensor is True, but self.use_nested_tensor is False because encoder_layer.self_attn.num_heads is odd\n",
      "  warnings.warn(\n"
     ]
    },
    {
     "name": "stdout",
     "output_type": "stream",
     "text": [
      "Final training label acc: 84.98%\n",
      "[Threshold 0.2] -> F1=0.8421 | Acc=0.8421\n",
      "[Threshold 0.3] -> F1=0.9732 | Acc=0.9737\n",
      "[Threshold 0.4] -> F1=1.0000 | Acc=1.0000\n",
      "[Threshold 0.5] -> F1=0.9728 | Acc=0.9737\n",
      "\n",
      "[Best Threshold] = 0.4 with F1=1.0000\n",
      "Final validation loss: 1.5822\n",
      "Final validation acc: 50.00%\n",
      "Final validation f1: 0.50%\n",
      "\n",
      "===== Fold 7/10 =====\n"
     ]
    },
    {
     "name": "stderr",
     "output_type": "stream",
     "text": [
      "/home/s.dharia-ra/miniconda3/envs/ml/lib/python3.10/site-packages/torch/nn/modules/transformer.py:379: UserWarning: enable_nested_tensor is True, but self.use_nested_tensor is False because encoder_layer.self_attn.num_heads is odd\n",
      "  warnings.warn(\n"
     ]
    },
    {
     "name": "stdout",
     "output_type": "stream",
     "text": [
      "Final training label acc: 78.20%\n",
      "[Threshold 0.2] -> F1=0.8403 | Acc=0.8421\n",
      "[Threshold 0.3] -> F1=0.8381 | Acc=0.8421\n",
      "[Threshold 0.4] -> F1=0.8869 | Acc=0.8947\n",
      "[Threshold 0.5] -> F1=0.8869 | Acc=0.8947\n",
      "\n",
      "[Best Threshold] = 0.4 with F1=0.8869\n",
      "Final validation loss: 0.8689\n",
      "Final validation acc: 50.00%\n",
      "Final validation f1: 0.33%\n",
      "\n",
      "===== Fold 8/10 =====\n"
     ]
    },
    {
     "name": "stderr",
     "output_type": "stream",
     "text": [
      "/home/s.dharia-ra/miniconda3/envs/ml/lib/python3.10/site-packages/torch/nn/modules/transformer.py:379: UserWarning: enable_nested_tensor is True, but self.use_nested_tensor is False because encoder_layer.self_attn.num_heads is odd\n",
      "  warnings.warn(\n"
     ]
    },
    {
     "name": "stdout",
     "output_type": "stream",
     "text": [
      "Final training label acc: 84.93%\n",
      "[Threshold 0.2] -> F1=0.8944 | Acc=0.8947\n",
      "[Threshold 0.3] -> F1=0.9206 | Acc=0.9211\n",
      "[Threshold 0.4] -> F1=0.9460 | Acc=0.9474\n",
      "[Threshold 0.5] -> F1=0.9183 | Acc=0.9211\n",
      "\n",
      "[Best Threshold] = 0.4 with F1=0.9460\n",
      "Final validation loss: 1.7479\n",
      "Final validation acc: 75.00%\n",
      "Final validation f1: 0.73%\n",
      "\n",
      "===== Fold 9/10 =====\n"
     ]
    },
    {
     "name": "stderr",
     "output_type": "stream",
     "text": [
      "/home/s.dharia-ra/miniconda3/envs/ml/lib/python3.10/site-packages/torch/nn/modules/transformer.py:379: UserWarning: enable_nested_tensor is True, but self.use_nested_tensor is False because encoder_layer.self_attn.num_heads is odd\n",
      "  warnings.warn(\n"
     ]
    },
    {
     "name": "stdout",
     "output_type": "stream",
     "text": [
      "Final training label acc: 85.05%\n",
      "[Threshold 0.2] -> F1=0.8683 | Acc=0.8684\n",
      "[Threshold 0.3] -> F1=0.9460 | Acc=0.9474\n",
      "[Threshold 0.4] -> F1=0.9728 | Acc=0.9737\n",
      "[Threshold 0.5] -> F1=0.9728 | Acc=0.9737\n",
      "\n",
      "[Best Threshold] = 0.4 with F1=0.9728\n",
      "Final validation loss: 1.9332\n",
      "Final validation acc: 75.00%\n",
      "Final validation f1: 0.73%\n",
      "\n",
      "===== Fold 10/10 =====\n"
     ]
    },
    {
     "name": "stderr",
     "output_type": "stream",
     "text": [
      "/home/s.dharia-ra/miniconda3/envs/ml/lib/python3.10/site-packages/torch/nn/modules/transformer.py:379: UserWarning: enable_nested_tensor is True, but self.use_nested_tensor is False because encoder_layer.self_attn.num_heads is odd\n",
      "  warnings.warn(\n"
     ]
    },
    {
     "name": "stdout",
     "output_type": "stream",
     "text": [
      "Final training label acc: 79.62%\n",
      "[Threshold 0.2] -> F1=0.7895 | Acc=0.7895\n",
      "[Threshold 0.3] -> F1=0.8417 | Acc=0.8421\n",
      "[Threshold 0.4] -> F1=0.8403 | Acc=0.8421\n",
      "[Threshold 0.5] -> F1=0.8920 | Acc=0.8947\n",
      "\n",
      "[Best Threshold] = 0.5 with F1=0.8920\n",
      "Final validation loss: 1.2578\n",
      "Final validation acc: 50.00%\n",
      "Final validation f1: 0.33%\n",
      "\n",
      "=== Cross‐Val Results ===\n",
      "Accuracies per fold: [60.0, 80.0, 75.0, 100.0, 75.0, 50.0, 50.0, 75.0, 75.0, 50.0]\n",
      "Mean acc: 69.00%, Std: 15.46%\n",
      "Mean f1: 0.64%, Std: 0.20%\n",
      "\n",
      "===== Fold 1/10 =====\n"
     ]
    },
    {
     "name": "stderr",
     "output_type": "stream",
     "text": [
      "/home/s.dharia-ra/miniconda3/envs/ml/lib/python3.10/site-packages/torch/nn/modules/transformer.py:379: UserWarning: enable_nested_tensor is True, but self.use_nested_tensor is False because encoder_layer.self_attn.num_heads is odd\n",
      "  warnings.warn(\n"
     ]
    },
    {
     "name": "stdout",
     "output_type": "stream",
     "text": [
      "Final training label acc: 83.88%\n",
      "[Threshold 0.2] -> F1=0.8649 | Acc=0.8649\n",
      "[Threshold 0.3] -> F1=0.8912 | Acc=0.8919\n",
      "[Threshold 0.4] -> F1=0.8912 | Acc=0.8919\n",
      "[Threshold 0.5] -> F1=0.9180 | Acc=0.9189\n",
      "\n",
      "[Best Threshold] = 0.5 with F1=0.9180\n",
      "Final validation loss: 0.4769\n",
      "Final validation acc: 60.00%\n",
      "Final validation f1: 0.58%\n",
      "\n",
      "===== Fold 2/10 =====\n"
     ]
    },
    {
     "name": "stderr",
     "output_type": "stream",
     "text": [
      "/home/s.dharia-ra/miniconda3/envs/ml/lib/python3.10/site-packages/torch/nn/modules/transformer.py:379: UserWarning: enable_nested_tensor is True, but self.use_nested_tensor is False because encoder_layer.self_attn.num_heads is odd\n",
      "  warnings.warn(\n"
     ]
    },
    {
     "name": "stdout",
     "output_type": "stream",
     "text": [
      "Final training label acc: 78.49%\n",
      "[Threshold 0.2] -> F1=0.7836 | Acc=0.7838\n",
      "[Threshold 0.3] -> F1=0.8633 | Acc=0.8649\n",
      "[Threshold 0.4] -> F1=0.8879 | Acc=0.8919\n",
      "[Threshold 0.5] -> F1=0.9149 | Acc=0.9189\n",
      "\n",
      "[Best Threshold] = 0.5 with F1=0.9149\n",
      "Final validation loss: 0.2439\n",
      "Final validation acc: 100.00%\n",
      "Final validation f1: 1.00%\n",
      "\n",
      "===== Fold 3/10 =====\n"
     ]
    },
    {
     "name": "stderr",
     "output_type": "stream",
     "text": [
      "/home/s.dharia-ra/miniconda3/envs/ml/lib/python3.10/site-packages/torch/nn/modules/transformer.py:379: UserWarning: enable_nested_tensor is True, but self.use_nested_tensor is False because encoder_layer.self_attn.num_heads is odd\n",
      "  warnings.warn(\n"
     ]
    },
    {
     "name": "stdout",
     "output_type": "stream",
     "text": [
      "Final training label acc: 84.77%\n",
      "[Threshold 0.2] -> F1=0.8417 | Acc=0.8421\n",
      "[Threshold 0.3] -> F1=0.8947 | Acc=0.8947\n",
      "[Threshold 0.4] -> F1=0.9210 | Acc=0.9211\n",
      "[Threshold 0.5] -> F1=0.8944 | Acc=0.8947\n",
      "\n",
      "[Best Threshold] = 0.4 with F1=0.9210\n",
      "Final validation loss: 0.8454\n",
      "Final validation acc: 75.00%\n",
      "Final validation f1: 0.73%\n",
      "\n",
      "===== Fold 4/10 =====\n"
     ]
    },
    {
     "name": "stderr",
     "output_type": "stream",
     "text": [
      "/home/s.dharia-ra/miniconda3/envs/ml/lib/python3.10/site-packages/torch/nn/modules/transformer.py:379: UserWarning: enable_nested_tensor is True, but self.use_nested_tensor is False because encoder_layer.self_attn.num_heads is odd\n",
      "  warnings.warn(\n"
     ]
    },
    {
     "name": "stdout",
     "output_type": "stream",
     "text": [
      "Final training label acc: 77.44%\n",
      "[Threshold 0.2] -> F1=0.7590 | Acc=0.7632\n",
      "[Threshold 0.3] -> F1=0.7871 | Acc=0.7895\n",
      "[Threshold 0.4] -> F1=0.8417 | Acc=0.8421\n",
      "[Threshold 0.5] -> F1=0.9472 | Acc=0.9474\n",
      "\n",
      "[Best Threshold] = 0.5 with F1=0.9472\n",
      "Final validation loss: 0.7932\n",
      "Final validation acc: 50.00%\n",
      "Final validation f1: 0.50%\n",
      "\n",
      "===== Fold 5/10 =====\n"
     ]
    },
    {
     "name": "stderr",
     "output_type": "stream",
     "text": [
      "/home/s.dharia-ra/miniconda3/envs/ml/lib/python3.10/site-packages/torch/nn/modules/transformer.py:379: UserWarning: enable_nested_tensor is True, but self.use_nested_tensor is False because encoder_layer.self_attn.num_heads is odd\n",
      "  warnings.warn(\n"
     ]
    },
    {
     "name": "stdout",
     "output_type": "stream",
     "text": [
      "Final training label acc: 80.76%\n",
      "[Threshold 0.2] -> F1=0.6761 | Acc=0.6842\n",
      "[Threshold 0.3] -> F1=0.7617 | Acc=0.7632\n",
      "[Threshold 0.4] -> F1=0.7630 | Acc=0.7632\n",
      "[Threshold 0.5] -> F1=0.8157 | Acc=0.8158\n",
      "\n",
      "[Best Threshold] = 0.5 with F1=0.8157\n",
      "Final validation loss: 1.1872\n",
      "Final validation acc: 75.00%\n",
      "Final validation f1: 0.73%\n",
      "\n",
      "===== Fold 6/10 =====\n"
     ]
    },
    {
     "name": "stderr",
     "output_type": "stream",
     "text": [
      "/home/s.dharia-ra/miniconda3/envs/ml/lib/python3.10/site-packages/torch/nn/modules/transformer.py:379: UserWarning: enable_nested_tensor is True, but self.use_nested_tensor is False because encoder_layer.self_attn.num_heads is odd\n",
      "  warnings.warn(\n"
     ]
    },
    {
     "name": "stdout",
     "output_type": "stream",
     "text": [
      "Final training label acc: 84.76%\n",
      "[Threshold 0.2] -> F1=0.7054 | Acc=0.7105\n",
      "[Threshold 0.3] -> F1=0.7889 | Acc=0.7895\n",
      "[Threshold 0.4] -> F1=0.8421 | Acc=0.8421\n",
      "[Threshold 0.5] -> F1=0.8683 | Acc=0.8684\n",
      "\n",
      "[Best Threshold] = 0.5 with F1=0.8683\n",
      "Final validation loss: 1.0079\n",
      "Final validation acc: 50.00%\n",
      "Final validation f1: 0.50%\n",
      "\n",
      "===== Fold 7/10 =====\n"
     ]
    },
    {
     "name": "stderr",
     "output_type": "stream",
     "text": [
      "/home/s.dharia-ra/miniconda3/envs/ml/lib/python3.10/site-packages/torch/nn/modules/transformer.py:379: UserWarning: enable_nested_tensor is True, but self.use_nested_tensor is False because encoder_layer.self_attn.num_heads is odd\n",
      "  warnings.warn(\n"
     ]
    },
    {
     "name": "stdout",
     "output_type": "stream",
     "text": [
      "Final training label acc: 81.40%\n",
      "[Threshold 0.2] -> F1=0.8899 | Acc=0.8947\n",
      "[Threshold 0.3] -> F1=0.8869 | Acc=0.8947\n",
      "[Threshold 0.4] -> F1=0.8869 | Acc=0.8947\n",
      "[Threshold 0.5] -> F1=0.8869 | Acc=0.8947\n",
      "\n",
      "[Best Threshold] = 0.2 with F1=0.8899\n",
      "Final validation loss: 0.7740\n",
      "Final validation acc: 75.00%\n",
      "Final validation f1: 0.73%\n",
      "\n",
      "===== Fold 8/10 =====\n"
     ]
    },
    {
     "name": "stderr",
     "output_type": "stream",
     "text": [
      "/home/s.dharia-ra/miniconda3/envs/ml/lib/python3.10/site-packages/torch/nn/modules/transformer.py:379: UserWarning: enable_nested_tensor is True, but self.use_nested_tensor is False because encoder_layer.self_attn.num_heads is odd\n",
      "  warnings.warn(\n"
     ]
    },
    {
     "name": "stdout",
     "output_type": "stream",
     "text": [
      "Final training label acc: 86.60%\n",
      "[Threshold 0.2] -> F1=0.8421 | Acc=0.8421\n",
      "[Threshold 0.3] -> F1=0.8683 | Acc=0.8684\n",
      "[Threshold 0.4] -> F1=0.9206 | Acc=0.9211\n",
      "[Threshold 0.5] -> F1=0.9468 | Acc=0.9474\n",
      "\n",
      "[Best Threshold] = 0.5 with F1=0.9468\n",
      "Final validation loss: 2.1035\n",
      "Final validation acc: 50.00%\n",
      "Final validation f1: 0.50%\n",
      "\n",
      "===== Fold 9/10 =====\n"
     ]
    },
    {
     "name": "stderr",
     "output_type": "stream",
     "text": [
      "/home/s.dharia-ra/miniconda3/envs/ml/lib/python3.10/site-packages/torch/nn/modules/transformer.py:379: UserWarning: enable_nested_tensor is True, but self.use_nested_tensor is False because encoder_layer.self_attn.num_heads is odd\n",
      "  warnings.warn(\n"
     ]
    },
    {
     "name": "stdout",
     "output_type": "stream",
     "text": [
      "Final training label acc: 80.48%\n",
      "[Threshold 0.2] -> F1=0.8683 | Acc=0.8684\n",
      "[Threshold 0.3] -> F1=0.9449 | Acc=0.9474\n",
      "[Threshold 0.4] -> F1=0.9164 | Acc=0.9211\n",
      "[Threshold 0.5] -> F1=0.8869 | Acc=0.8947\n",
      "\n",
      "[Best Threshold] = 0.3 with F1=0.9449\n",
      "Final validation loss: 1.7955\n",
      "Final validation acc: 75.00%\n",
      "Final validation f1: 0.73%\n",
      "\n",
      "===== Fold 10/10 =====\n"
     ]
    },
    {
     "name": "stderr",
     "output_type": "stream",
     "text": [
      "/home/s.dharia-ra/miniconda3/envs/ml/lib/python3.10/site-packages/torch/nn/modules/transformer.py:379: UserWarning: enable_nested_tensor is True, but self.use_nested_tensor is False because encoder_layer.self_attn.num_heads is odd\n",
      "  warnings.warn(\n"
     ]
    },
    {
     "name": "stdout",
     "output_type": "stream",
     "text": [
      "Final training label acc: 83.39%\n",
      "[Threshold 0.2] -> F1=0.8936 | Acc=0.8947\n",
      "[Threshold 0.3] -> F1=0.9460 | Acc=0.9474\n",
      "[Threshold 0.4] -> F1=0.9449 | Acc=0.9474\n",
      "[Threshold 0.5] -> F1=0.8869 | Acc=0.8947\n",
      "\n",
      "[Best Threshold] = 0.3 with F1=0.9460\n",
      "Final validation loss: 0.4828\n",
      "Final validation acc: 75.00%\n",
      "Final validation f1: 0.73%\n",
      "\n",
      "=== Cross‐Val Results ===\n",
      "Accuracies per fold: [60.0, 100.0, 75.0, 50.0, 75.0, 50.0, 75.0, 50.0, 75.0, 75.0]\n",
      "Mean acc: 68.50%, Std: 15.17%\n",
      "Mean f1: 0.68%, Std: 0.15%\n",
      "\n",
      "===== Fold 1/10 =====\n"
     ]
    },
    {
     "name": "stderr",
     "output_type": "stream",
     "text": [
      "/home/s.dharia-ra/miniconda3/envs/ml/lib/python3.10/site-packages/torch/nn/modules/transformer.py:379: UserWarning: enable_nested_tensor is True, but self.use_nested_tensor is False because encoder_layer.self_attn.num_heads is odd\n",
      "  warnings.warn(\n"
     ]
    },
    {
     "name": "stdout",
     "output_type": "stream",
     "text": [
      "Final training label acc: 85.02%\n",
      "[Threshold 0.2] -> F1=0.9187 | Acc=0.9189\n",
      "[Threshold 0.3] -> F1=0.9456 | Acc=0.9459\n",
      "[Threshold 0.4] -> F1=1.0000 | Acc=1.0000\n",
      "[Threshold 0.5] -> F1=0.9722 | Acc=0.9730\n",
      "\n",
      "[Best Threshold] = 0.4 with F1=1.0000\n",
      "Final validation loss: 2.8159\n",
      "Final validation acc: 60.00%\n",
      "Final validation f1: 0.38%\n",
      "\n",
      "===== Fold 2/10 =====\n"
     ]
    },
    {
     "name": "stderr",
     "output_type": "stream",
     "text": [
      "/home/s.dharia-ra/miniconda3/envs/ml/lib/python3.10/site-packages/torch/nn/modules/transformer.py:379: UserWarning: enable_nested_tensor is True, but self.use_nested_tensor is False because encoder_layer.self_attn.num_heads is odd\n",
      "  warnings.warn(\n"
     ]
    },
    {
     "name": "stdout",
     "output_type": "stream",
     "text": [
      "Final training label acc: 80.65%\n",
      "[Threshold 0.2] -> F1=0.8649 | Acc=0.8649\n",
      "[Threshold 0.3] -> F1=0.8912 | Acc=0.8919\n",
      "[Threshold 0.4] -> F1=0.9180 | Acc=0.9189\n",
      "[Threshold 0.5] -> F1=0.9180 | Acc=0.9189\n",
      "\n",
      "[Best Threshold] = 0.4 with F1=0.9180\n",
      "Final validation loss: 0.8357\n",
      "Final validation acc: 80.00%\n",
      "Final validation f1: 0.80%\n",
      "\n",
      "===== Fold 3/10 =====\n"
     ]
    },
    {
     "name": "stderr",
     "output_type": "stream",
     "text": [
      "/home/s.dharia-ra/miniconda3/envs/ml/lib/python3.10/site-packages/torch/nn/modules/transformer.py:379: UserWarning: enable_nested_tensor is True, but self.use_nested_tensor is False because encoder_layer.self_attn.num_heads is odd\n",
      "  warnings.warn(\n"
     ]
    },
    {
     "name": "stdout",
     "output_type": "stream",
     "text": [
      "Final training label acc: 83.57%\n",
      "[Threshold 0.2] -> F1=0.7617 | Acc=0.7632\n",
      "[Threshold 0.3] -> F1=0.7889 | Acc=0.7895\n",
      "[Threshold 0.4] -> F1=0.8157 | Acc=0.8158\n",
      "[Threshold 0.5] -> F1=0.8944 | Acc=0.8947\n",
      "\n",
      "[Best Threshold] = 0.5 with F1=0.8944\n",
      "Final validation loss: 0.3914\n",
      "Final validation acc: 100.00%\n",
      "Final validation f1: 1.00%\n",
      "\n",
      "===== Fold 4/10 =====\n"
     ]
    },
    {
     "name": "stderr",
     "output_type": "stream",
     "text": [
      "/home/s.dharia-ra/miniconda3/envs/ml/lib/python3.10/site-packages/torch/nn/modules/transformer.py:379: UserWarning: enable_nested_tensor is True, but self.use_nested_tensor is False because encoder_layer.self_attn.num_heads is odd\n",
      "  warnings.warn(\n"
     ]
    },
    {
     "name": "stdout",
     "output_type": "stream",
     "text": [
      "Final training label acc: 79.41%\n",
      "[Threshold 0.2] -> F1=0.8683 | Acc=0.8684\n",
      "[Threshold 0.3] -> F1=0.9468 | Acc=0.9474\n",
      "[Threshold 0.4] -> F1=0.9732 | Acc=0.9737\n",
      "[Threshold 0.5] -> F1=0.9460 | Acc=0.9474\n",
      "\n",
      "[Best Threshold] = 0.4 with F1=0.9732\n",
      "Final validation loss: 0.5034\n",
      "Final validation acc: 75.00%\n",
      "Final validation f1: 0.73%\n",
      "\n",
      "===== Fold 5/10 =====\n"
     ]
    },
    {
     "name": "stderr",
     "output_type": "stream",
     "text": [
      "/home/s.dharia-ra/miniconda3/envs/ml/lib/python3.10/site-packages/torch/nn/modules/transformer.py:379: UserWarning: enable_nested_tensor is True, but self.use_nested_tensor is False because encoder_layer.self_attn.num_heads is odd\n",
      "  warnings.warn(\n"
     ]
    },
    {
     "name": "stdout",
     "output_type": "stream",
     "text": [
      "Final training label acc: 84.30%\n",
      "[Threshold 0.2] -> F1=0.7054 | Acc=0.7105\n",
      "[Threshold 0.3] -> F1=0.7339 | Acc=0.7368\n",
      "[Threshold 0.4] -> F1=0.8683 | Acc=0.8684\n",
      "[Threshold 0.5] -> F1=0.8683 | Acc=0.8684\n",
      "\n",
      "[Best Threshold] = 0.4 with F1=0.8683\n",
      "Final validation loss: 1.8463\n",
      "Final validation acc: 25.00%\n",
      "Final validation f1: 0.20%\n",
      "\n",
      "===== Fold 6/10 =====\n"
     ]
    },
    {
     "name": "stderr",
     "output_type": "stream",
     "text": [
      "/home/s.dharia-ra/miniconda3/envs/ml/lib/python3.10/site-packages/torch/nn/modules/transformer.py:379: UserWarning: enable_nested_tensor is True, but self.use_nested_tensor is False because encoder_layer.self_attn.num_heads is odd\n",
      "  warnings.warn(\n"
     ]
    },
    {
     "name": "stdout",
     "output_type": "stream",
     "text": [
      "Final training label acc: 82.94%\n",
      "[Threshold 0.2] -> F1=0.7889 | Acc=0.7895\n",
      "[Threshold 0.3] -> F1=0.8683 | Acc=0.8684\n",
      "[Threshold 0.4] -> F1=0.8936 | Acc=0.8947\n",
      "[Threshold 0.5] -> F1=0.8936 | Acc=0.8947\n",
      "\n",
      "[Best Threshold] = 0.4 with F1=0.8936\n",
      "Final validation loss: 0.6108\n",
      "Final validation acc: 75.00%\n",
      "Final validation f1: 0.73%\n",
      "\n",
      "===== Fold 7/10 =====\n"
     ]
    },
    {
     "name": "stderr",
     "output_type": "stream",
     "text": [
      "/home/s.dharia-ra/miniconda3/envs/ml/lib/python3.10/site-packages/torch/nn/modules/transformer.py:379: UserWarning: enable_nested_tensor is True, but self.use_nested_tensor is False because encoder_layer.self_attn.num_heads is odd\n",
      "  warnings.warn(\n"
     ]
    },
    {
     "name": "stdout",
     "output_type": "stream",
     "text": [
      "Final training label acc: 83.85%\n",
      "[Threshold 0.2] -> F1=0.8417 | Acc=0.8421\n",
      "[Threshold 0.3] -> F1=0.8676 | Acc=0.8684\n",
      "[Threshold 0.4] -> F1=0.9197 | Acc=0.9211\n",
      "[Threshold 0.5] -> F1=0.9728 | Acc=0.9737\n",
      "\n",
      "[Best Threshold] = 0.5 with F1=0.9728\n",
      "Final validation loss: 2.3328\n",
      "Final validation acc: 50.00%\n",
      "Final validation f1: 0.50%\n",
      "\n",
      "===== Fold 8/10 =====\n"
     ]
    },
    {
     "name": "stderr",
     "output_type": "stream",
     "text": [
      "/home/s.dharia-ra/miniconda3/envs/ml/lib/python3.10/site-packages/torch/nn/modules/transformer.py:379: UserWarning: enable_nested_tensor is True, but self.use_nested_tensor is False because encoder_layer.self_attn.num_heads is odd\n",
      "  warnings.warn(\n"
     ]
    },
    {
     "name": "stdout",
     "output_type": "stream",
     "text": [
      "Final training label acc: 82.76%\n",
      "[Threshold 0.2] -> F1=0.6459 | Acc=0.6579\n",
      "[Threshold 0.3] -> F1=0.7617 | Acc=0.7632\n",
      "[Threshold 0.4] -> F1=0.8683 | Acc=0.8684\n",
      "[Threshold 0.5] -> F1=0.9206 | Acc=0.9211\n",
      "\n",
      "[Best Threshold] = 0.5 with F1=0.9206\n",
      "Final validation loss: 0.7851\n",
      "Final validation acc: 75.00%\n",
      "Final validation f1: 0.73%\n",
      "\n",
      "===== Fold 9/10 =====\n"
     ]
    },
    {
     "name": "stderr",
     "output_type": "stream",
     "text": [
      "/home/s.dharia-ra/miniconda3/envs/ml/lib/python3.10/site-packages/torch/nn/modules/transformer.py:379: UserWarning: enable_nested_tensor is True, but self.use_nested_tensor is False because encoder_layer.self_attn.num_heads is odd\n",
      "  warnings.warn(\n"
     ]
    },
    {
     "name": "stdout",
     "output_type": "stream",
     "text": [
      "Final training label acc: 80.48%\n",
      "[Threshold 0.2] -> F1=0.8157 | Acc=0.8158\n",
      "[Threshold 0.3] -> F1=0.8157 | Acc=0.8158\n",
      "[Threshold 0.4] -> F1=0.8676 | Acc=0.8684\n",
      "[Threshold 0.5] -> F1=0.8936 | Acc=0.8947\n",
      "\n",
      "[Best Threshold] = 0.5 with F1=0.8936\n",
      "Final validation loss: 0.5425\n",
      "Final validation acc: 75.00%\n",
      "Final validation f1: 0.73%\n",
      "\n",
      "===== Fold 10/10 =====\n"
     ]
    },
    {
     "name": "stderr",
     "output_type": "stream",
     "text": [
      "/home/s.dharia-ra/miniconda3/envs/ml/lib/python3.10/site-packages/torch/nn/modules/transformer.py:379: UserWarning: enable_nested_tensor is True, but self.use_nested_tensor is False because encoder_layer.self_attn.num_heads is odd\n",
      "  warnings.warn(\n"
     ]
    },
    {
     "name": "stdout",
     "output_type": "stream",
     "text": [
      "Final training label acc: 84.59%\n",
      "[Threshold 0.2] -> F1=0.8683 | Acc=0.8684\n",
      "[Threshold 0.3] -> F1=0.8944 | Acc=0.8947\n",
      "[Threshold 0.4] -> F1=0.9468 | Acc=0.9474\n",
      "[Threshold 0.5] -> F1=0.9197 | Acc=0.9211\n",
      "\n",
      "[Best Threshold] = 0.4 with F1=0.9468\n",
      "Final validation loss: 0.8842\n",
      "Final validation acc: 75.00%\n",
      "Final validation f1: 0.73%\n",
      "\n",
      "=== Cross‐Val Results ===\n",
      "Accuracies per fold: [60.0, 80.0, 100.0, 75.0, 25.0, 75.0, 50.0, 75.0, 75.0, 75.0]\n",
      "Mean acc: 69.00%, Std: 19.08%\n",
      "Mean f1: 0.65%, Std: 0.22%\n",
      "\n",
      "===== Fold 1/10 =====\n"
     ]
    },
    {
     "name": "stderr",
     "output_type": "stream",
     "text": [
      "/home/s.dharia-ra/miniconda3/envs/ml/lib/python3.10/site-packages/torch/nn/modules/transformer.py:379: UserWarning: enable_nested_tensor is True, but self.use_nested_tensor is False because encoder_layer.self_attn.num_heads is odd\n",
      "  warnings.warn(\n"
     ]
    },
    {
     "name": "stdout",
     "output_type": "stream",
     "text": [
      "Final training label acc: 85.18%\n",
      "[Threshold 0.2] -> F1=0.7824 | Acc=0.7838\n",
      "[Threshold 0.3] -> F1=0.8918 | Acc=0.8919\n",
      "[Threshold 0.4] -> F1=0.9456 | Acc=0.9459\n",
      "[Threshold 0.5] -> F1=0.9727 | Acc=0.9730\n",
      "\n",
      "[Best Threshold] = 0.5 with F1=0.9727\n",
      "Final validation loss: 1.1021\n",
      "Final validation acc: 40.00%\n",
      "Final validation f1: 0.40%\n",
      "\n",
      "===== Fold 2/10 =====\n"
     ]
    },
    {
     "name": "stderr",
     "output_type": "stream",
     "text": [
      "/home/s.dharia-ra/miniconda3/envs/ml/lib/python3.10/site-packages/torch/nn/modules/transformer.py:379: UserWarning: enable_nested_tensor is True, but self.use_nested_tensor is False because encoder_layer.self_attn.num_heads is odd\n",
      "  warnings.warn(\n"
     ]
    },
    {
     "name": "stdout",
     "output_type": "stream",
     "text": [
      "Final training label acc: 81.07%\n",
      "[Threshold 0.2] -> F1=0.8649 | Acc=0.8649\n",
      "[Threshold 0.3] -> F1=0.8918 | Acc=0.8919\n",
      "[Threshold 0.4] -> F1=0.9180 | Acc=0.9189\n",
      "[Threshold 0.5] -> F1=0.9180 | Acc=0.9189\n",
      "\n",
      "[Best Threshold] = 0.4 with F1=0.9180\n",
      "Final validation loss: 0.6819\n",
      "Final validation acc: 80.00%\n",
      "Final validation f1: 0.80%\n",
      "\n",
      "===== Fold 3/10 =====\n"
     ]
    },
    {
     "name": "stderr",
     "output_type": "stream",
     "text": [
      "/home/s.dharia-ra/miniconda3/envs/ml/lib/python3.10/site-packages/torch/nn/modules/transformer.py:379: UserWarning: enable_nested_tensor is True, but self.use_nested_tensor is False because encoder_layer.self_attn.num_heads is odd\n",
      "  warnings.warn(\n"
     ]
    },
    {
     "name": "stdout",
     "output_type": "stream",
     "text": [
      "Final training label acc: 85.48%\n",
      "[Threshold 0.2] -> F1=0.8146 | Acc=0.8158\n",
      "[Threshold 0.3] -> F1=0.8146 | Acc=0.8158\n",
      "[Threshold 0.4] -> F1=0.8947 | Acc=0.8947\n",
      "[Threshold 0.5] -> F1=0.9735 | Acc=0.9737\n",
      "\n",
      "[Best Threshold] = 0.5 with F1=0.9735\n",
      "Final validation loss: 3.1215\n",
      "Final validation acc: 0.00%\n",
      "Final validation f1: 0.00%\n",
      "\n",
      "===== Fold 4/10 =====\n"
     ]
    },
    {
     "name": "stderr",
     "output_type": "stream",
     "text": [
      "/home/s.dharia-ra/miniconda3/envs/ml/lib/python3.10/site-packages/torch/nn/modules/transformer.py:379: UserWarning: enable_nested_tensor is True, but self.use_nested_tensor is False because encoder_layer.self_attn.num_heads is odd\n",
      "  warnings.warn(\n"
     ]
    },
    {
     "name": "stdout",
     "output_type": "stream",
     "text": [
      "Final training label acc: 80.18%\n",
      "[Threshold 0.2] -> F1=0.8683 | Acc=0.8684\n",
      "[Threshold 0.3] -> F1=0.9206 | Acc=0.9211\n",
      "[Threshold 0.4] -> F1=0.9732 | Acc=0.9737\n",
      "[Threshold 0.5] -> F1=0.9732 | Acc=0.9737\n",
      "\n",
      "[Best Threshold] = 0.4 with F1=0.9732\n",
      "Final validation loss: 0.4827\n",
      "Final validation acc: 100.00%\n",
      "Final validation f1: 1.00%\n",
      "\n",
      "===== Fold 5/10 =====\n"
     ]
    },
    {
     "name": "stderr",
     "output_type": "stream",
     "text": [
      "/home/s.dharia-ra/miniconda3/envs/ml/lib/python3.10/site-packages/torch/nn/modules/transformer.py:379: UserWarning: enable_nested_tensor is True, but self.use_nested_tensor is False because encoder_layer.self_attn.num_heads is odd\n",
      "  warnings.warn(\n"
     ]
    },
    {
     "name": "stdout",
     "output_type": "stream",
     "text": [
      "Final training label acc: 84.88%\n",
      "[Threshold 0.2] -> F1=0.7889 | Acc=0.7895\n",
      "[Threshold 0.3] -> F1=0.8421 | Acc=0.8421\n",
      "[Threshold 0.4] -> F1=0.8683 | Acc=0.8684\n",
      "[Threshold 0.5] -> F1=0.8944 | Acc=0.8947\n",
      "\n",
      "[Best Threshold] = 0.5 with F1=0.8944\n",
      "Final validation loss: 0.9932\n",
      "Final validation acc: 50.00%\n",
      "Final validation f1: 0.50%\n",
      "\n",
      "===== Fold 6/10 =====\n"
     ]
    },
    {
     "name": "stderr",
     "output_type": "stream",
     "text": [
      "/home/s.dharia-ra/miniconda3/envs/ml/lib/python3.10/site-packages/torch/nn/modules/transformer.py:379: UserWarning: enable_nested_tensor is True, but self.use_nested_tensor is False because encoder_layer.self_attn.num_heads is odd\n",
      "  warnings.warn(\n"
     ]
    },
    {
     "name": "stdout",
     "output_type": "stream",
     "text": [
      "Final training label acc: 79.45%\n",
      "[Threshold 0.2] -> F1=0.8683 | Acc=0.8684\n",
      "[Threshold 0.3] -> F1=0.8944 | Acc=0.8947\n",
      "[Threshold 0.4] -> F1=0.9206 | Acc=0.9211\n",
      "[Threshold 0.5] -> F1=0.9468 | Acc=0.9474\n",
      "\n",
      "[Best Threshold] = 0.5 with F1=0.9468\n",
      "Final validation loss: 0.7057\n",
      "Final validation acc: 75.00%\n",
      "Final validation f1: 0.73%\n",
      "\n",
      "===== Fold 7/10 =====\n"
     ]
    },
    {
     "name": "stderr",
     "output_type": "stream",
     "text": [
      "/home/s.dharia-ra/miniconda3/envs/ml/lib/python3.10/site-packages/torch/nn/modules/transformer.py:379: UserWarning: enable_nested_tensor is True, but self.use_nested_tensor is False because encoder_layer.self_attn.num_heads is odd\n",
      "  warnings.warn(\n"
     ]
    },
    {
     "name": "stdout",
     "output_type": "stream",
     "text": [
      "Final training label acc: 83.04%\n",
      "[Threshold 0.2] -> F1=0.8157 | Acc=0.8158\n",
      "[Threshold 0.3] -> F1=0.8683 | Acc=0.8684\n",
      "[Threshold 0.4] -> F1=0.9206 | Acc=0.9211\n",
      "[Threshold 0.5] -> F1=0.9732 | Acc=0.9737\n",
      "\n",
      "[Best Threshold] = 0.5 with F1=0.9732\n",
      "Final validation loss: 1.8328\n",
      "Final validation acc: 50.00%\n",
      "Final validation f1: 0.33%\n",
      "\n",
      "===== Fold 8/10 =====\n"
     ]
    },
    {
     "name": "stderr",
     "output_type": "stream",
     "text": [
      "/home/s.dharia-ra/miniconda3/envs/ml/lib/python3.10/site-packages/torch/nn/modules/transformer.py:379: UserWarning: enable_nested_tensor is True, but self.use_nested_tensor is False because encoder_layer.self_attn.num_heads is odd\n",
      "  warnings.warn(\n"
     ]
    },
    {
     "name": "stdout",
     "output_type": "stream",
     "text": [
      "Final training label acc: 80.07%\n",
      "[Threshold 0.2] -> F1=0.8157 | Acc=0.8158\n",
      "[Threshold 0.3] -> F1=0.8417 | Acc=0.8421\n",
      "[Threshold 0.4] -> F1=0.8936 | Acc=0.8947\n",
      "[Threshold 0.5] -> F1=0.9183 | Acc=0.9211\n",
      "\n",
      "[Best Threshold] = 0.5 with F1=0.9183\n",
      "Final validation loss: 0.5396\n",
      "Final validation acc: 100.00%\n",
      "Final validation f1: 1.00%\n",
      "\n",
      "===== Fold 9/10 =====\n"
     ]
    },
    {
     "name": "stderr",
     "output_type": "stream",
     "text": [
      "/home/s.dharia-ra/miniconda3/envs/ml/lib/python3.10/site-packages/torch/nn/modules/transformer.py:379: UserWarning: enable_nested_tensor is True, but self.use_nested_tensor is False because encoder_layer.self_attn.num_heads is odd\n",
      "  warnings.warn(\n"
     ]
    },
    {
     "name": "stdout",
     "output_type": "stream",
     "text": [
      "Final training label acc: 79.04%\n",
      "[Threshold 0.2] -> F1=0.8157 | Acc=0.8158\n",
      "[Threshold 0.3] -> F1=0.8676 | Acc=0.8684\n",
      "[Threshold 0.4] -> F1=0.9460 | Acc=0.9474\n",
      "[Threshold 0.5] -> F1=0.9183 | Acc=0.9211\n",
      "\n",
      "[Best Threshold] = 0.4 with F1=0.9460\n",
      "Final validation loss: 0.2555\n",
      "Final validation acc: 100.00%\n",
      "Final validation f1: 1.00%\n",
      "\n",
      "===== Fold 10/10 =====\n"
     ]
    },
    {
     "name": "stderr",
     "output_type": "stream",
     "text": [
      "/home/s.dharia-ra/miniconda3/envs/ml/lib/python3.10/site-packages/torch/nn/modules/transformer.py:379: UserWarning: enable_nested_tensor is True, but self.use_nested_tensor is False because encoder_layer.self_attn.num_heads is odd\n",
      "  warnings.warn(\n"
     ]
    },
    {
     "name": "stdout",
     "output_type": "stream",
     "text": [
      "Final training label acc: 79.07%\n",
      "[Threshold 0.2] -> F1=0.8676 | Acc=0.8684\n",
      "[Threshold 0.3] -> F1=0.8936 | Acc=0.8947\n",
      "[Threshold 0.4] -> F1=0.9449 | Acc=0.9474\n",
      "[Threshold 0.5] -> F1=0.9164 | Acc=0.9211\n",
      "\n",
      "[Best Threshold] = 0.4 with F1=0.9449\n",
      "Final validation loss: 0.8054\n",
      "Final validation acc: 50.00%\n",
      "Final validation f1: 0.33%\n",
      "\n",
      "=== Cross‐Val Results ===\n",
      "Accuracies per fold: [40.0, 80.0, 0.0, 100.0, 50.0, 75.0, 50.0, 100.0, 100.0, 50.0]\n",
      "Mean acc: 64.50%, Std: 30.86%\n",
      "Mean f1: 0.61%, Std: 0.33%\n"
     ]
    }
   ],
   "source": [
    "import os\n",
    "import numpy as np\n",
    "import torch\n",
    "import torch.nn as nn\n",
    "from torch.utils.data import DataLoader\n",
    "from sklearn.metrics import roc_auc_score, roc_curve\n",
    "from statistics import mode, StatisticsError\n",
    "import matplotlib.pyplot as plt\n",
    "\n",
    "seeds = [0, 1, 2 ,3, 4 , 5 , 6 ,7, 8, 9]  # Example seeds for reproducibility\n",
    "\n",
    "all_acc_final   = []\n",
    "all_f1_final    = []\n",
    "all_conf_final  = []\n",
    "global_probs_final  = []\n",
    "global_labels_final = []\n",
    "best_thresholds_final = []\n",
    "\n",
    "set_seed(0)\n",
    "#for seed in seeds:\n",
    "#    set_seed(seed)  # reproducibility\n",
    "\n",
    "# model hyperparameters (unchanged)\n",
    "input_dim_pte  = 180\n",
    "hidden_dim_pte = 512\n",
    "num_layers_pte = 2\n",
    "num_heads_pte  = 5\n",
    "output_dim_pte = 128\n",
    "dropout_pte    = 0.4\n",
    "\n",
    "input_dim_psd  = 5\n",
    "hidden_dim_psd = 512\n",
    "num_layers_psd = 2\n",
    "num_heads_psd  = 5\n",
    "output_dim_psd = 128\n",
    "dropout_psd    = 0.4\n",
    "\n",
    "cross_d_model   = 128\n",
    "cross_num_heads = 8\n",
    "\n",
    "\n",
    "\n",
    "# get stratified folds\n",
    "all_folds  = load_data_stratified_kfold(\n",
    "    pte_directory=\"features\",\n",
    "    DE_directory=\"DE_features_single_window\",\n",
    "    batch_size=32,\n",
    "    selected_classes=[\"ctrl\",\"ftd\"],\n",
    "    selected_channels=['O1','O2','T4','T5','F7','F8'],\n",
    "    n_splits=10,\n",
    "    n_repetitions=30,\n",
    ")\n",
    "\n",
    "\n",
    "for folds in all_folds:\n",
    "\n",
    "    # accumulators\n",
    "    all_acc   = []\n",
    "    all_f1    = []\n",
    "    all_conf  = []\n",
    "    global_probs  = []\n",
    "    global_labels = []\n",
    "    best_thresholds = []\n",
    "\n",
    "\n",
    "    for fold_idx, (train_loader, val_loader) in enumerate(folds, 1):\n",
    "        print(f\"\\n===== Fold {fold_idx}/{len(folds)} =====\")\n",
    "\n",
    "        # 1) model init\n",
    "        model = FinalModel(\n",
    "            pte_input_dim=input_dim_pte,\n",
    "            pte_hidden_dim=hidden_dim_pte,\n",
    "            pte_num_layers=num_layers_pte,\n",
    "            pte_num_heads=num_heads_pte,\n",
    "            pte_output_dim=output_dim_pte,\n",
    "            pte_dropout=dropout_pte,\n",
    "            psd_input_dim=input_dim_psd,\n",
    "            psd_hidden_dim=hidden_dim_psd,\n",
    "            psd_num_layers=num_layers_psd,\n",
    "            psd_num_heads=num_heads_psd,\n",
    "            psd_output_dim=output_dim_psd,\n",
    "            psd_dropout=dropout_psd,\n",
    "            cross_d_model=cross_d_model,\n",
    "            cross_num_heads=cross_num_heads\n",
    "        )\n",
    "\n",
    "        device = torch.device('cuda:2' if torch.cuda.is_available() else 'cpu')\n",
    "        model.to(device)\n",
    "\n",
    "        # 2) loss & optimizer\n",
    "        # class_weights = torch.tensor([1.0, 0.8], device=device)\n",
    "        #balance the classes weights\n",
    "        # from sklearn.utils.class_weight import compute_class_weight\n",
    "        # labels = []\n",
    "        # for _, _, y, _ in train_loader:\n",
    "        #     labels.extend(y.numpy())\n",
    "        # labels = np.array(labels)\n",
    "        # class_weights = compute_class_weight(\n",
    "        #     class_weight='balanced',\n",
    "        #     classes=np.unique(labels),\n",
    "        #     y=labels\n",
    "        # )\n",
    "        # class_weights = torch.tensor(class_weights, dtype=torch.float32).to(device)\n",
    "        # class_weights = torch.tensor([1.0, 0.7], device=device)\n",
    "        # print(f\"Class weights: {class_weights}\")\n",
    "        criterion_label = nn.CrossEntropyLoss()\n",
    "        # criterion_label = FocalLoss(gamma=2, alpha=class_weights, reduction='mean', task_type='multi-class', num_classes=2)\n",
    "\n",
    "        optimizer = torch.optim.Adam(model.parameters(), lr=0.0001)\n",
    "        # scheduler = torch.optim.lr_scheduler.StepLR(optimizer, step_size=20, gamma=0.5)\n",
    "        # 3) train\n",
    "        num_epochs = 100\n",
    "        label_acc_history, _ = train_model(\n",
    "            model=model,\n",
    "            source_dataloader=train_loader,\n",
    "            target_dataloader=val_loader,\n",
    "            criterion_label=criterion_label,\n",
    "            criterion_domain=criterion_label,\n",
    "            optimizer=optimizer,\n",
    "            num_epochs=num_epochs,\n",
    "            device=device,\n",
    "            scheduler=None,\n",
    "        )\n",
    "        print(f\"Final training label acc: {label_acc_history[-1]:.2f}%\")\n",
    "\n",
    "        # 4) threshold tuning on train set\n",
    "        thresholds_to_try = [0.2,0.3,0.4,0.5]\n",
    "        best_thr = tune_threshold_on_source(\n",
    "            model=model,\n",
    "            source_dataloader=train_loader,\n",
    "            device=device,\n",
    "            thresholds=thresholds_to_try,\n",
    "            num_classes=2\n",
    "        )\n",
    "        best_thresholds.append(best_thr)\n",
    "\n",
    "        # 5) test on validation set\n",
    "        test_loss, test_acc, test_f1, conf_mat, preds, labels, alz_ratio, true_label = test_model(\n",
    "            model=model,\n",
    "            test_dataloader=val_loader,\n",
    "            criterion_label=criterion_label,\n",
    "            device=device,\n",
    "            num_classes=2,\n",
    "            alz_threshold=best_thr\n",
    "        )\n",
    "\n",
    "        print(f\"Final validation loss: {test_loss:.4f}\")\n",
    "        print(f\"Final validation acc: {test_acc:.2f}%\")\n",
    "        print(f\"Final validation f1: {test_f1:.2f}%\")\n",
    "\n",
    "        # 6) record metrics\n",
    "        all_acc.append(test_acc)\n",
    "        all_f1.append(test_f1)\n",
    "        all_conf.append(conf_mat)\n",
    "        global_probs.append(preds)\n",
    "        global_labels.append(labels)\n",
    "        best_thresholds.append(best_thr)\n",
    "\n",
    "    # ────────── 7) Final results ─────────────────────────────\n",
    "    all_acc_final.append(all_acc)\n",
    "    all_f1_final.append(all_f1)\n",
    "    all_conf_final.append(all_conf)\n",
    "    global_probs_final.append(global_probs)\n",
    "    global_labels_final.append(global_labels)\n",
    "    best_thresholds_final.append(best_thresholds)\n",
    "\n",
    "    print(f\"\\n=== Cross‐Val Results ===\")\n",
    "    print(f\"Accuracies per fold: {all_acc}\")\n",
    "    print(f\"Mean acc: {np.mean(all_acc):.2f}%, Std: {np.std(all_acc):.2f}%\")\n",
    "    print(f\"Mean f1: {np.mean(all_f1):.2f}%, Std: {np.std(all_f1):.2f}%\")\n",
    "\n",
    "final_results = {\n",
    "\"all_acc\": all_acc_final,\n",
    "\"all_f1\": all_f1_final,\n",
    "\"all_conf\": all_conf_final,\n",
    "\"global_probs\": global_probs_final,\n",
    "\"global_labels\": global_labels_final,\n",
    "\"best_thresholds\": best_thresholds_final\n",
    "}\n",
    "\n",
    "np.savez(\n",
    "    \"final_results_cn_ftd_dtca_no_weights.npz\",\n",
    "    final_results=final_results\n",
    ")"
   ]
  },
  {
   "cell_type": "code",
   "execution_count": null,
   "metadata": {},
   "outputs": [],
   "source": []
  },
  {
   "cell_type": "code",
   "execution_count": null,
   "metadata": {},
   "outputs": [],
   "source": []
  },
  {
   "cell_type": "code",
   "execution_count": null,
   "metadata": {},
   "outputs": [],
   "source": []
  },
  {
   "cell_type": "code",
   "execution_count": null,
   "metadata": {},
   "outputs": [],
   "source": []
  },
  {
   "cell_type": "code",
   "execution_count": null,
   "metadata": {},
   "outputs": [],
   "source": []
  },
  {
   "cell_type": "code",
   "execution_count": null,
   "metadata": {},
   "outputs": [],
   "source": []
  },
  {
   "cell_type": "code",
   "execution_count": null,
   "metadata": {},
   "outputs": [],
   "source": []
  },
  {
   "cell_type": "code",
   "execution_count": null,
   "metadata": {},
   "outputs": [],
   "source": []
  },
  {
   "cell_type": "code",
   "execution_count": null,
   "metadata": {},
   "outputs": [],
   "source": []
  }
 ],
 "metadata": {
  "kernelspec": {
   "display_name": "ml",
   "language": "python",
   "name": "python3"
  },
  "language_info": {
   "codemirror_mode": {
    "name": "ipython",
    "version": 3
   },
   "file_extension": ".py",
   "mimetype": "text/x-python",
   "name": "python",
   "nbconvert_exporter": "python",
   "pygments_lexer": "ipython3",
   "version": "3.10.13"
  }
 },
 "nbformat": 4,
 "nbformat_minor": 2
}
