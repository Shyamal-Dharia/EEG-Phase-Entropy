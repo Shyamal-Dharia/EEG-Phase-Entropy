{
 "cells": [
  {
   "cell_type": "code",
   "execution_count": null,
   "metadata": {},
   "outputs": [],
   "source": [
    "#!/usr/bin/env python3\n",
    "# -*- coding: utf-8 -*-\n",
    "\"\"\"\n",
    "load_data_stratified_kfold.py\n",
    "\n",
    "• Removes the first 5 subjects of every class (per modality)\n",
    "• Builds subject-wise stratified folds\n",
    "• Balances **only the training fold** with SMOTE\n",
    "• Preserves subject IDs (pid) for synthetic samples\n",
    "• Scales features with MinMaxScaler (fit on train only)\n",
    "• Returns: list[repetition] → list[fold] → (train_loader, val_loader)\n",
    "\"\"\"\n",
    "\n",
    "import os\n",
    "import re\n",
    "from pathlib import Path\n",
    "from collections import Counter\n",
    "\n",
    "import numpy as np\n",
    "import torch\n",
    "from torch.utils.data import TensorDataset, DataLoader\n",
    "from sklearn.model_selection import StratifiedKFold\n",
    "from sklearn.preprocessing import MinMaxScaler, StandardScaler\n",
    "from imblearn.over_sampling import SMOTE\n",
    "\n",
    "# ────────────────────────────────────────────────────────────────\n",
    "# Main utility\n",
    "# ────────────────────────────────────────────────────────────────\n",
    "def load_data_stratified_kfold(\n",
    "    pte_directory: str,\n",
    "    DE_directory: str,\n",
    "    batch_size: int,\n",
    "    selected_classes=(\"alz\", \"ctrl\"),\n",
    "    selected_channels=None,\n",
    "    n_splits: int = 10,\n",
    "    n_repetitions: int = 30,\n",
    "    random_state: int = 42,\n",
    "):\n",
    "    # ────────── 1) Channel setup ──────────────────────────────\n",
    "    ch_names = [\n",
    "        \"Fp1\", \"Fp2\", \"F3\", \"F4\", \"C3\", \"C4\", \"P3\", \"P4\", \"O1\", \"O2\",\n",
    "        \"F7\", \"F8\", \"T3\", \"T4\", \"T5\", \"T6\", \"Fz\", \"Cz\", \"Pz\",\n",
    "    ]\n",
    "    if selected_channels is None:\n",
    "        selected_channels = ch_names\n",
    "    sel_idx = [ch_names.index(ch) for ch in selected_channels]\n",
    "    label_map = {c: i for i, c in enumerate(selected_classes)}\n",
    "\n",
    "    # helper to parse filenames -> (subject_id, label)\n",
    "    def parse_info(fname):\n",
    "        m = re.match(r\"sub-(\\d+)_.*_(\\w+)\\.npz\", fname)\n",
    "        if not m:\n",
    "            return None\n",
    "        sid, lbl = int(m.group(1)), m.group(2).lower()\n",
    "        if lbl not in selected_classes:\n",
    "            return None\n",
    "        return sid, lbl\n",
    "\n",
    "    # ────────── 2) Collect file lists per modality ────────────\n",
    "    def collect_files(directory):\n",
    "        all_files = sorted(\n",
    "            [f for f in os.listdir(directory) if f.endswith(\".npz\")],\n",
    "            key=lambda f: int(re.search(r\"sub-(\\d+)_\", f).group(1)),\n",
    "        )\n",
    "        info = [parse_info(f) + (f,) for f in all_files if parse_info(f) is not None]\n",
    "\n",
    "        # drop the first 5 subjects per class\n",
    "        drop_ids = {}\n",
    "        for cls in selected_classes:\n",
    "            ids = sorted({sid for sid, lbl, _ in info if lbl == cls})\n",
    "            drop_ids[cls] = set(ids[:5])\n",
    "\n",
    "        return [\n",
    "            fname\n",
    "            for sid, lbl, fname in info\n",
    "            if sid not in drop_ids[lbl]\n",
    "        ]\n",
    "\n",
    "    pte_files = collect_files(pte_directory)\n",
    "    psd_files = collect_files(DE_directory)\n",
    "\n",
    "    # ────────── 3) Load arrays & build master tensors ─────────\n",
    "    pte_list, psd_list, labels_list, pid_list = [], [], [], []\n",
    "\n",
    "    for fname in pte_files:\n",
    "        sid, lbl = parse_info(fname)\n",
    "        lbl_int = label_map[lbl]\n",
    "        arr = np.load(Path(pte_directory) / fname, allow_pickle=True)\n",
    "\n",
    "        pte = arr[\"pte_data\"]  # (N, 11, n_bands, n_ch, n_ch)\n",
    "        pte = pte[:, :, :, sel_idx, :][:, :, :, :, sel_idx]\n",
    "\n",
    "        N = pte.shape[0]\n",
    "        pte_list.append(pte)\n",
    "        labels_list.append(np.full(N, lbl_int, dtype=int))\n",
    "        pid_list.extend([sid] * N)\n",
    "\n",
    "    for fname in psd_files:\n",
    "        sid, _ = parse_info(fname)\n",
    "        arr = np.load(Path(DE_directory) / fname, allow_pickle=True)\n",
    "\n",
    "        psd = arr[\"DE_features\"]  # (N, n_ch, n_bands)\n",
    "        psd = psd[:, sel_idx, :]\n",
    "\n",
    "        psd_list.append(psd)\n",
    "\n",
    "    X_pte = np.concatenate(pte_list, axis=0)\n",
    "    X_psd = np.concatenate(psd_list, axis=0)\n",
    "    y = np.concatenate(labels_list, axis=0)\n",
    "    pid = np.asarray(pid_list, dtype=int)\n",
    "\n",
    "    assert X_pte.shape[0] == X_psd.shape[0] == y.shape[0] == pid.shape[0]\n",
    "\n",
    "    # ────────── 4) Subject labels for stratification ──────────\n",
    "    unique_pids = np.unique(pid)\n",
    "    subj_labels = np.array(\n",
    "        [Counter(y[pid == sid]).most_common(1)[0][0] for sid in unique_pids]\n",
    "    )\n",
    "\n",
    "    # ────────── 5) Build repeated folds ───────────────────────\n",
    "    all_reps = []\n",
    "    for rep in range(n_repetitions):\n",
    "        skf = StratifiedKFold(n_splits=n_splits, shuffle=True, random_state=rep)\n",
    "        rep_folds = []\n",
    "\n",
    "        for subj_tr_idx, subj_va_idx in skf.split(unique_pids, subj_labels):\n",
    "            train_pids = unique_pids[subj_tr_idx]\n",
    "            val_pids = unique_pids[subj_va_idx]\n",
    "\n",
    "            tr_mask = np.isin(pid, train_pids)\n",
    "            va_mask = np.isin(pid, val_pids)\n",
    "\n",
    "            Xp_tr, Xp_va = X_pte[tr_mask], X_pte[va_mask]\n",
    "            Xs_tr, Xs_va = X_psd[tr_mask], X_psd[va_mask]\n",
    "            y_tr, y_va = y[tr_mask], y[va_mask]\n",
    "            pid_tr, pid_va = pid[tr_mask], pid[va_mask]\n",
    "\n",
    "            # ── flatten \n",
    "            flat_pte_tr = Xp_tr.reshape(len(y_tr), -1)\n",
    "            flat_psd_tr = Xs_tr.reshape(len(y_tr), -1)\n",
    "            X_train_flat = np.hstack([flat_pte_tr, flat_psd_tr])\n",
    "\n",
    "            # ── SMOTE train-only \n",
    "            sm = SMOTE(random_state=rep)\n",
    "            X_bal, y_bal = sm.fit_resample(X_train_flat, y_tr)\n",
    "\n",
    "            # grab resampling indices (version-robust)\n",
    "            if hasattr(sm, \"sample_indices_\"):\n",
    "                res_idx = sm.sample_indices_\n",
    "            elif hasattr(sm, \"_sample_indices\"):\n",
    "                res_idx = sm._sample_indices\n",
    "            else:\n",
    "                # fallback: resample indices array\n",
    "                idx = np.arange(len(y_tr)).reshape(-1, 1)\n",
    "                idx_bal, _ = SMOTE(random_state=rep).fit_resample(idx, y_tr)\n",
    "                res_idx = idx_bal.ravel()\n",
    "\n",
    "            pid_bal = pid_tr[res_idx]\n",
    "\n",
    "            # report synthetic count\n",
    "            n_synth = len(X_bal) - len(X_train_flat)\n",
    "            print(f\"[rep {rep:02d}] SMOTE added {n_synth} synthetic samples\")\n",
    "\n",
    "            # ── split back to modalities\n",
    "            split_at = flat_pte_tr.shape[1]\n",
    "            flat_pte_bal = X_bal[:, :split_at]\n",
    "            flat_psd_bal = X_bal[:, split_at:]\n",
    "\n",
    "            # ── scale (fit on train only)\n",
    "            scaler_pte = MinMaxScaler()\n",
    "            scaler_psd = MinMaxScaler()\n",
    "\n",
    "            flat_pte_bal = scaler_pte.fit_transform(flat_pte_bal)\n",
    "            flat_pte_val = scaler_pte.transform(Xp_va.reshape(len(y_va), -1))\n",
    "\n",
    "            flat_psd_bal = scaler_psd.fit_transform(flat_psd_bal)\n",
    "            flat_psd_val = scaler_psd.transform(Xs_va.reshape(len(y_va), -1))\n",
    "\n",
    "            # ── reshape back\n",
    "            Xp_tr_bal = flat_pte_bal.reshape(-1, *Xp_tr.shape[1:])\n",
    "            Xs_tr_bal = flat_psd_bal.reshape(-1, *Xs_tr.shape[1:])\n",
    "            Xp_va = flat_pte_val.reshape(Xp_va.shape)\n",
    "            Xs_va = flat_psd_val.reshape(Xs_va.shape)\n",
    "\n",
    "            # ── DataLoaders\n",
    "            def make_loader(x1, x2, y_, p_, shuffle):\n",
    "                t1 = torch.from_numpy(x1).float()\n",
    "                t2 = torch.from_numpy(x2).float()\n",
    "                ty = torch.from_numpy(y_).long()\n",
    "                tp = torch.from_numpy(p_).long()\n",
    "                ds = TensorDataset(t1, t2, ty, tp)\n",
    "                return DataLoader(ds, batch_size=batch_size, shuffle=shuffle, drop_last=False)\n",
    "\n",
    "            train_loader = make_loader(Xp_tr_bal, Xs_tr_bal, y_bal, pid_bal, shuffle=True)\n",
    "            val_loader   = make_loader(Xp_va,      Xs_va,    y_va, pid_va,  shuffle=False)\n",
    "\n",
    "            rep_folds.append((train_loader, val_loader))\n",
    "\n",
    "        all_reps.append(rep_folds)\n",
    "\n",
    "    return all_reps\n",
    "\n",
    "\n",
    "# ────────────────────────────────────────────────────────────────\n",
    "# Demo / quick smoke-test\n",
    "# ────────────────────────────────────────────────────────────────\n",
    "if __name__ == \"__main__\":\n",
    "    pte_dir   = \"features\"\n",
    "    de_dir    = \"DE_features_single_window\"\n",
    "    bs        = 32\n",
    "    sel_chans = [\"Fp1\", \"Fp2\", \"F3\", \"F4\"]\n",
    "    n_folds   = 15\n",
    "\n",
    "    folds_by_rep = load_data_stratified_kfold(\n",
    "        pte_directory=pte_dir,\n",
    "        DE_directory=de_dir,\n",
    "        batch_size=bs,\n",
    "        selected_classes=(\"alz\", \"ctrl\"),\n",
    "        selected_channels=sel_chans,\n",
    "        n_splits=n_folds,\n",
    "        n_repetitions=1,     # keep small for the smoke-test\n",
    "    )\n",
    "\n",
    "    # print a quick sanity check of the first repetition\n",
    "    rep0 = folds_by_rep[0]\n",
    "    for k, (tr, va) in enumerate(rep0, 1):\n",
    "        print(f\"\\nFold {k:02d}: batches → train {len(tr)}, val {len(va)}\")\n",
    "        xpte, xpsd, y, p = next(iter(tr))\n",
    "        print(\"   Train batch shapes :\", xpte.shape, xpsd.shape, y.shape, p.shape)\n",
    "        xpte, xpsd, y, p = next(iter(va))\n",
    "        print(\"   Valid batch shapes :\", xpte.shape, xpsd.shape, y.shape, p.shape)\n"
   ]
  },
  {
   "cell_type": "code",
   "execution_count": null,
   "metadata": {},
   "outputs": [],
   "source": [
    "import math\n",
    "import torch\n",
    "from itertools import cycle\n",
    "import torch.nn.functional as F\n",
    "\n",
    "\n",
    "def train_model(\n",
    "    model,\n",
    "    source_dataloader,\n",
    "    target_dataloader,\n",
    "    criterion_label,\n",
    "    criterion_domain,\n",
    "    optimizer,\n",
    "    num_epochs=10,\n",
    "    device=\"cuda\",\n",
    "    alpha_entropy = 0.01,\n",
    "    scheduler=None,\n",
    "):\n",
    "   \n",
    "    model.to(device)\n",
    "    model.train()\n",
    "\n",
    "    accuracy_history = []\n",
    "    domain_accuracy_history = []\n",
    "\n",
    "    for epoch in range(num_epochs):\n",
    "        total_correct = 0\n",
    "        total_samples = 0\n",
    "        total_domain_correct = 0\n",
    "        total_domain_samples = 0\n",
    "\n",
    "        epoch_loss = 0.0\n",
    "\n",
    "\n",
    "        for i, batch_src in enumerate(source_dataloader):\n",
    "\n",
    "            if len(batch_src) == 4:\n",
    "                source_pte, source_psd, source_labels, _ = batch_src\n",
    "            else:\n",
    "                source_pte, source_psd, source_labels, _ = batch_src\n",
    "\n",
    "\n",
    "            # Move data to device\n",
    "            source_pte = source_pte.to(device)\n",
    "            source_psd = source_psd.to(device)\n",
    "            source_labels = source_labels.to(device)\n",
    "\n",
    "\n",
    "            label_preds, _ = model(\n",
    "                source_pte, source_psd\n",
    "            )\n",
    " \n",
    "\n",
    "\n",
    "            loss_label = criterion_label(label_preds, source_labels)\n",
    "\n",
    "\n",
    "            total_loss = loss_label\n",
    "            # Backward + Optimize\n",
    "            optimizer.zero_grad()\n",
    "            total_loss.backward()\n",
    "            optimizer.step()\n",
    "\n",
    "            # -------------------------------\n",
    "            # Update Metrics\n",
    "            # -------------------------------\n",
    "            epoch_loss += loss_label.item()\n",
    "\n",
    "            # Label prediction accuracy (source)\n",
    "            _, predicted = torch.max(label_preds, dim=1)\n",
    "            correct = (predicted == source_labels).sum().item()\n",
    "            total_correct += correct\n",
    "            total_samples += source_labels.size(0)\n",
    "\n",
    "        if scheduler is not None:\n",
    "            scheduler.step()\n",
    "\n",
    "            \n",
    "        epoch_accuracy = 100.0 * total_correct / total_samples if total_samples > 0 else 0\n",
    "        epoch_domain_accuracy = 100.0 * total_domain_correct / total_domain_samples if total_domain_samples > 0 else 0\n",
    "\n",
    "        accuracy_history.append(epoch_accuracy)\n",
    "        domain_accuracy_history.append(epoch_domain_accuracy)\n",
    "\n",
    "        # print(f\"Epoch [{epoch+1}/{num_epochs}] \"\n",
    "        #       f\"Label Acc: {epoch_accuracy:.2f}%, \"\n",
    "        #       f\"Domain Acc: {epoch_domain_accuracy:.2f}%\")\n",
    "\n",
    "    return accuracy_history, domain_accuracy_history\n"
   ]
  },
  {
   "cell_type": "code",
   "execution_count": null,
   "metadata": {},
   "outputs": [],
   "source": [
    "import torch\n",
    "import torch.nn.functional as F\n",
    "import numpy as np\n",
    "from typing import Tuple\n",
    "from sklearn.metrics import f1_score\n",
    "\n",
    "def test_model(\n",
    "    model: torch.nn.Module,\n",
    "    test_dataloader: torch.utils.data.DataLoader,\n",
    "    criterion_label: torch.nn.Module,\n",
    "    device: str = \"cuda\",\n",
    "    num_classes: int = 2,\n",
    "    alz_threshold: float = 0.4\n",
    ") -> Tuple[\n",
    "    float,        # avg sample loss\n",
    "    float,        # mean participant accuracy (%)\n",
    "    float,        # mean participant F1 (macro)\n",
    "    np.ndarray,   # summed confusion matrix (num_classes×num_classes)\n",
    "    np.ndarray,   # all sample softmax probs, shape (N, num_classes)\n",
    "    np.ndarray,   # all sample true labels,   shape (N,)\n",
    "    np.ndarray,   # per‐participant alz_ratio, shape (P,)\n",
    "    np.ndarray    # per‐participant true labels, shape (P,)\n",
    "]:\n",
    "    model.to(device).eval()\n",
    "    total_loss = 0.0\n",
    "\n",
    "    all_preds  = []\n",
    "    all_labels = []\n",
    "    all_probs  = []\n",
    "    all_pids   = []\n",
    "\n",
    "    with torch.no_grad():\n",
    "        for batch in test_dataloader:\n",
    "            # unpack 3 or 4 items\n",
    "            if len(batch) == 4:\n",
    "                pte, psd, labels, pids = batch\n",
    "            else:\n",
    "                pte, psd, labels = batch\n",
    "                pids = torch.zeros_like(labels)\n",
    "\n",
    "            pte, psd, labels = pte.to(device), psd.to(device), labels.to(device)\n",
    "            logits, _ = model(pte, psd)\n",
    "            loss = criterion_label(logits, labels)\n",
    "            total_loss += loss.item()\n",
    "\n",
    "            probs = F.softmax(logits, dim=1)\n",
    "            preds = probs.argmax(dim=1)\n",
    "\n",
    "            all_probs .append(probs.cpu().numpy())\n",
    "            all_preds .extend(preds.cpu().numpy())\n",
    "            all_labels.extend(labels.cpu().numpy())\n",
    "            all_pids  .extend(pids.cpu().numpy())\n",
    "\n",
    "    # average sample loss\n",
    "    n_batches = len(test_dataloader)\n",
    "    avg_loss  = total_loss / n_batches if n_batches else 0.0\n",
    "\n",
    "    # flatten lists → arrays\n",
    "    all_probs  = np.vstack(all_probs)        # (N, num_classes)\n",
    "    all_preds  = np.array(all_preds)         # (N,)\n",
    "    all_labels = np.array(all_labels)        # (N,)\n",
    "    all_pids   = np.array(all_pids)          # (N,)\n",
    "\n",
    "    # group by participant\n",
    "    part_ids    = np.unique(all_pids)\n",
    "    part_accs   = []\n",
    "    part_preds  = []\n",
    "    part_confs  = np.zeros((num_classes, num_classes), dtype=int)\n",
    "    part_ratios = []\n",
    "    part_trues  = []\n",
    "\n",
    "    for pid in part_ids:\n",
    "        mask = (all_pids == pid)\n",
    "        labs = all_labels[mask]\n",
    "        preds= all_preds[mask]\n",
    "\n",
    "        # assume each participant’s true label is constant\n",
    "        true_lbl = labs[0]\n",
    "\n",
    "        # fraction of windows predicted as \"alz\"\n",
    "        alz_ratio = (preds == 1).sum() / max(len(preds), 1)\n",
    "        pred_lbl  = 1 if alz_ratio >= alz_threshold else 0\n",
    "\n",
    "        part_confs[true_lbl, pred_lbl] += 1\n",
    "        part_accs.append(100.0 if pred_lbl == true_lbl else 0.0)\n",
    "\n",
    "        part_preds.append(pred_lbl)\n",
    "        part_ratios.append(alz_ratio)\n",
    "        part_trues.append(true_lbl)\n",
    "\n",
    "    mean_acc = float(np.mean(part_accs)) if part_accs else 0.0\n",
    "    # compute true participant-level macro-F1\n",
    "    mean_f1 = (f1_score(part_trues, part_preds,\n",
    "                        average='macro', zero_division=0)\n",
    "               if part_trues else 0.0)\n",
    "\n",
    "    return (\n",
    "        avg_loss,                    # sample‐level loss\n",
    "        mean_acc,                    # mean participant accuracy\n",
    "        mean_f1,                     # mean participant F1 (macro)\n",
    "        part_confs,                  # summed conf matrix\n",
    "        all_probs,                   # sample‐level probs\n",
    "        all_labels,                  # sample‐level labels\n",
    "        np.array(part_ratios),       # per‐participant alz ratios\n",
    "        np.array(part_trues)         # per‐participant true labels\n",
    "    )\n"
   ]
  },
  {
   "cell_type": "code",
   "execution_count": null,
   "metadata": {},
   "outputs": [],
   "source": [
    "import torch\n",
    "import torch.nn.functional as F\n",
    "from collections import defaultdict\n",
    "from sklearn.metrics import f1_score, accuracy_score\n",
    "\n",
    "def tune_threshold_on_source(\n",
    "    model,\n",
    "    source_dataloader,\n",
    "    device=\"cuda\",\n",
    "    thresholds=[0.1, 0.2, 0.3, 0.4, 0.5],\n",
    "    num_classes=2\n",
    "):\n",
    "\n",
    "    model.eval()\n",
    "    model.to(device)\n",
    "    sample_preds = defaultdict(list)\n",
    "    participant_label = {}\n",
    "\n",
    "    with torch.no_grad():\n",
    "        for batch in source_dataloader:\n",
    "            # If your source dataloader returns 4 items, including participant_id\n",
    "            if len(batch) == 4:\n",
    "                pte_batch, psd_batch, labels, pid_batch = batch\n",
    "            else:\n",
    "                raise ValueError(\"Expected Dataloader to return (pte, psd, labels, pid).\")\n",
    "\n",
    "            pte_batch = pte_batch.to(device)\n",
    "            psd_batch = psd_batch.to(device)\n",
    "            labels = labels.to(device)\n",
    "            pid_batch = pid_batch.to(device)\n",
    "\n",
    "            # Forward pass (disable GRL in inference by setting lambda_=0)\n",
    "            label_preds, _ = model(pte_batch, psd_batch)\n",
    "\n",
    "            # Convert predictions to class=0/1\n",
    "            softmax_output = F.softmax(label_preds, dim=1)\n",
    "            _, predicted = torch.max(softmax_output, dim=1)\n",
    "\n",
    "            # Move to CPU\n",
    "            predicted = predicted.cpu().numpy()\n",
    "            labels = labels.cpu().numpy()\n",
    "            pid_batch = pid_batch.cpu().numpy()\n",
    "\n",
    "            # Store predictions for each participant\n",
    "            for pred, true_lbl, pid in zip(predicted, labels, pid_batch):\n",
    "                sample_preds[pid].append(pred)\n",
    "                # We assume all samples from participant pid share the same ground-truth label:\n",
    "                if pid not in participant_label:\n",
    "                    participant_label[pid] = true_lbl\n",
    "                else:\n",
    "                    # Optionally check that the label is consistent\n",
    "                    if participant_label[pid] != true_lbl:\n",
    "                        raise ValueError(f\"Inconsistent labels for participant {pid} in source data.\")\n",
    "\n",
    "    # Now we have sample-level predictions per participant. We'll try each threshold.\n",
    "    best_threshold = None\n",
    "    best_metric_val = -1.0\n",
    "\n",
    "    for thr in thresholds:\n",
    "        # For each threshold, generate participant-level predictions\n",
    "        # by counting how many samples predicted as class=1\n",
    "        part_level_preds = []\n",
    "        part_level_trues = []\n",
    "\n",
    "        for pid, preds_list in sample_preds.items():\n",
    "            true_lbl = participant_label[pid]\n",
    "            n_alz = sum([p == 1 for p in preds_list])\n",
    "            ratio = float(n_alz) / len(preds_list)\n",
    "            # Decide participant-level label\n",
    "            if ratio >= thr:\n",
    "                participant_pred = 1\n",
    "            else:\n",
    "                participant_pred = 0\n",
    "            \n",
    "            part_level_preds.append(participant_pred)\n",
    "            part_level_trues.append(true_lbl)\n",
    "\n",
    "        # Evaluate participant-level performance\n",
    "        # For example, we use F1 (macro):\n",
    "        f1 = f1_score(part_level_trues, part_level_preds, average='macro', zero_division=0)\n",
    "        acc = accuracy_score(part_level_trues, part_level_preds)\n",
    "\n",
    "        print(f\"[Threshold {thr}] -> F1={f1:.4f} | Acc={acc:.4f}\")\n",
    "\n",
    "        # Suppose we pick the threshold that maximizes participant-level F1\n",
    "        if f1 > best_metric_val:\n",
    "            best_metric_val = f1\n",
    "            best_threshold = thr\n",
    "\n",
    "    print(f\"\\n[Best Threshold] = {best_threshold} with F1={best_metric_val:.4f}\")\n",
    "    return best_threshold\n"
   ]
  },
  {
   "cell_type": "code",
   "execution_count": null,
   "metadata": {},
   "outputs": [],
   "source": [
    "import torch.nn as nn\n",
    "import torch\n",
    "import torch.nn.functional as F\n",
    "import math\n",
    "\n",
    "\n",
    "# Define the Multi-Head Cross Attention Module\n",
    "class MultiHeadCrossAttention(nn.Module):\n",
    "    def __init__(self, d_model, num_heads, dropout=0.1):\n",
    "\n",
    "        super(MultiHeadCrossAttention, self).__init__()\n",
    "        self.multihead_attn = nn.MultiheadAttention(embed_dim=d_model, num_heads=num_heads, dropout=dropout, batch_first=True)\n",
    "        self.layer_norm = nn.LayerNorm(d_model)\n",
    "        self.dropout = nn.Dropout(dropout)\n",
    "\n",
    "    def forward(self, query, key, value, attn_mask=None, key_padding_mask=None):\n",
    "\n",
    "        # Apply MultiheadAttention; note that nn.MultiheadAttention expects inputs of shape (batch, seq, feature)\n",
    "        attn_output, attn_weights = self.multihead_attn(query, key, value, attn_mask=attn_mask, key_padding_mask=key_padding_mask)\n",
    "        \n",
    "        # Apply dropout\n",
    "        attn_output = self.dropout(attn_output)\n",
    "        \n",
    "        # Add & Norm\n",
    "        output = self.layer_norm(query + attn_output)\n",
    "        \n",
    "        return output, attn_weights\n",
    "\n",
    "# Existing Transformer Classes (PteTransformer and PsdTransformer)\n",
    "class PteTransformer(nn.Module):\n",
    "    def __init__(self, input_dim, hidden_dim, num_layers, num_heads, output_dim, dropout):\n",
    "        super(PteTransformer, self).__init__()\n",
    "        self.input_dim = input_dim\n",
    "        self.hidden_dim = hidden_dim\n",
    "        self.num_layers = num_layers\n",
    "        self.num_heads = num_heads\n",
    "        self.output_dim = output_dim\n",
    "        self.dropout = dropout\n",
    "        self.position_encoding = nn.Parameter(torch.randn(1, 11, input_dim), requires_grad=True)\n",
    "\n",
    "        self.encoder_layer = nn.TransformerEncoderLayer(\n",
    "            d_model=input_dim,\n",
    "            nhead=num_heads,\n",
    "            dim_feedforward=hidden_dim,\n",
    "            dropout=dropout,\n",
    "            batch_first=True,\n",
    "            activation=\"gelu\"\n",
    "        )\n",
    "        self.transformer = nn.TransformerEncoder(encoder_layer=self.encoder_layer, num_layers=num_layers)\n",
    "        self.output_layer = nn.Linear(input_dim, output_dim)  # Project to desired output_dim\n",
    "\n",
    "    def forward(self, x):\n",
    "        \"\"\"\n",
    "        x: (batch_size, original_features)\n",
    "        \"\"\"\n",
    "        b = x.shape[0]\n",
    "        # Reshape to (batch_size, 11, input_dim//11) assuming input_dim is divisible by 11\n",
    "        x = x.reshape(b, 11, -1)\n",
    "        x = self.position_encoding + x  # (batch_size, 11, input_dim)\n",
    "        x = self.transformer(x)         # (batch_size, 11, input_dim)\n",
    "        x = self.output_layer(x)        # (batch_size, 11, output_dim)\n",
    "        return x\n",
    "\n",
    "class PsdTransformer(nn.Module):\n",
    "    def __init__(self, input_dim, hidden_dim, num_layers, num_heads, output_dim, dropout):\n",
    "        super(PsdTransformer, self).__init__()\n",
    "        self.input_dim = input_dim\n",
    "        self.hidden_dim = hidden_dim\n",
    "        self.num_layers = num_layers\n",
    "        self.num_heads = num_heads\n",
    "        self.output_dim = output_dim\n",
    "        self.dropout = dropout\n",
    "\n",
    "        self.encoder_layer = nn.TransformerEncoderLayer(\n",
    "            d_model=input_dim,\n",
    "            nhead=num_heads,\n",
    "            dim_feedforward=hidden_dim,\n",
    "            dropout=dropout,\n",
    "            batch_first=True,\n",
    "            activation=\"gelu\"\n",
    "        )\n",
    "        self.transformer = nn.TransformerEncoder(encoder_layer=self.encoder_layer, num_layers=num_layers)\n",
    "        self.output_layer = nn.Linear(input_dim, output_dim)  # Project to desired output_dim\n",
    "\n",
    "    def forward(self, x):\n",
    "        \"\"\"\n",
    "        x: (batch_size, original_features)\n",
    "        \"\"\"\n",
    "        # Assuming x is already of shape (batch_size, T_e, input_dim)\n",
    "        x = self.transformer(x)         # (batch_size, T_e, input_dim)\n",
    "        x = self.output_layer(x)        # (batch_size, T_e, output_dim)\n",
    "        return x\n",
    "\n",
    "# Updated Final Model with Multi-Head Cross Attention and DANN Components\n",
    "class FinalModel(nn.Module):\n",
    "    def __init__(self, \n",
    "                 pte_input_dim, pte_hidden_dim, pte_num_layers, pte_num_heads, pte_output_dim, pte_dropout,\n",
    "                 psd_input_dim, psd_hidden_dim, psd_num_layers, psd_num_heads, psd_output_dim, psd_dropout,\n",
    "                 cross_d_model, cross_num_heads,\n",
    "                 ):\n",
    "        super(FinalModel, self).__init__() \n",
    "\n",
    "        # Initialize PTE and PSD Transformers\n",
    "        self.pte_transformer = PteTransformer(\n",
    "            input_dim=pte_input_dim,\n",
    "            hidden_dim=pte_hidden_dim,\n",
    "            num_layers=pte_num_layers,\n",
    "            num_heads=pte_num_heads,\n",
    "            output_dim=pte_output_dim,\n",
    "            dropout=pte_dropout\n",
    "        )\n",
    "        \n",
    "        self.psd_transformer = PsdTransformer(\n",
    "            input_dim=psd_input_dim,\n",
    "            hidden_dim=psd_hidden_dim,\n",
    "            num_layers=psd_num_layers,\n",
    "            num_heads=psd_num_heads,\n",
    "            output_dim=psd_output_dim,\n",
    "            dropout=psd_dropout\n",
    "        )\n",
    "        \n",
    "        # Initialize Multi-Head Cross-Attention\n",
    "        self.cross_attention = MultiHeadCrossAttention(\n",
    "            d_model=cross_d_model,\n",
    "            num_heads=cross_num_heads,\n",
    "            dropout=0.1\n",
    "        )\n",
    "\n",
    "        # Final Classifier for Label Prediction\n",
    "        self.final_classifier = nn.Sequential(\n",
    "            nn.Flatten(),\n",
    "            nn.Dropout(0.7),\n",
    "            nn.Linear(768, 2)  # Adjust based on the sequence length (12 here)\n",
    "        )\n",
    "        \n",
    "    def forward(self, pte_input, psd_input):\n",
    "\n",
    "        # Pass through respective transformers\n",
    "        # pte_encoded = self.pte_transformer(pte_input)  # (batch_size, T_pte=11, pte_output_dim=128)\n",
    "        psd_encoded = self.psd_transformer(psd_input)  # (batch_size, T_psd=6, psd_output_dim=128)\n",
    "        \n",
    "        \n",
    "        # Label Prediction\n",
    "        label_pred = self.final_classifier(psd_encoded)  # (batch_size, 2)\n",
    "        \n",
    "        \n",
    "        return label_pred, None\n",
    "\n",
    "# Example usage\n",
    "if __name__ == \"__main__\":\n",
    "    # Example input tensors\n",
    "    # Adjust the shapes based on your actual data\n",
    "    # For illustration, assuming:\n",
    "    # pte_input has 11 time steps, each with (input_dim_pte / 11) features\n",
    "    x_1 = torch.randn(32, 11 * 5 * 6 * 6)  # (batch_size, pte_original_features)\n",
    "    # psd_input has sequence length 6 with 5 features each\n",
    "    x_2 = torch.randn(32, 6, 5)            # (batch_size, psd_seq_length, psd_original_features)\n",
    "    \n",
    "    # Define the model parameters\n",
    "    input_dim_pte = 180   # Example: 11 * 5 * 6 * 6 = 180\n",
    "    hidden_dim_pte = 512\n",
    "    num_layers_pte = 2\n",
    "    num_heads_pte = 5     # Typically, num_heads should divide d_model\n",
    "    output_dim_pte = 128\n",
    "    dropout_pte = 0.1\n",
    "    \n",
    "    input_dim_psd = 5\n",
    "    hidden_dim_psd = 512\n",
    "    num_layers_psd = 2\n",
    "    num_heads_psd = 5    # Typically, num_heads should divide d_model\n",
    "    output_dim_psd = 128\n",
    "    dropout_psd = 0.1\n",
    "    \n",
    "    cross_d_model = 128\n",
    "    cross_num_heads = 8   # Number of heads in cross-attention\n",
    "    \n",
    "    # Initialize the DANN model\n",
    "    model = FinalModel(\n",
    "        pte_input_dim=input_dim_pte, \n",
    "        pte_hidden_dim=hidden_dim_pte, \n",
    "        pte_num_layers=num_layers_pte, \n",
    "        pte_num_heads=num_heads_pte, \n",
    "        pte_output_dim=output_dim_pte, \n",
    "        pte_dropout=dropout_pte,\n",
    "        psd_input_dim=input_dim_psd, \n",
    "        psd_hidden_dim=hidden_dim_psd, \n",
    "        psd_num_layers=num_layers_psd, \n",
    "        psd_num_heads=num_heads_psd, \n",
    "        psd_output_dim=output_dim_psd, \n",
    "        psd_dropout=dropout_psd,\n",
    "        cross_d_model=cross_d_model, \n",
    "        cross_num_heads=cross_num_heads\n",
    "    )\n",
    "    \n",
    "    # Example forward pass\n",
    "    label_pred, _ = model(x_1, x_2)\n",
    "    print(\"Label Prediction Shape:\", label_pred.shape)        # Expected: (32, 2)\n"
   ]
  },
  {
   "cell_type": "code",
   "execution_count": null,
   "metadata": {},
   "outputs": [],
   "source": [
    "import random\n",
    "import numpy as np\n",
    "import torch\n",
    "from sklearn.utils import check_random_state\n",
    "\n",
    "def set_seed(seed):\n",
    "    random.seed(seed)\n",
    "\n",
    "    # Set the seed for numpy\n",
    "    np.random.seed(seed)\n",
    "\n",
    "    # Set the seed for PyTorch (both CPU and CUDA)\n",
    "    torch.manual_seed(seed)\n",
    "    torch.cuda.manual_seed(seed)\n",
    "    torch.cuda.manual_seed_all(seed)  # For multi-GPU setups\n",
    "\n",
    "    # Ensure deterministic behavior in PyTorch (if applicable)\n",
    "    torch.backends.cudnn.deterministic = True\n",
    "    torch.backends.cudnn.benchmark = False\n",
    "\n",
    "    # Set the seed for sklearn (via check_random_state)\n",
    "    _ = check_random_state(seed)\n",
    "\n",
    "    print(f\"Seed set to: {seed}\")\n"
   ]
  },
  {
   "cell_type": "code",
   "execution_count": null,
   "metadata": {},
   "outputs": [],
   "source": [
    "import os\n",
    "import numpy as np\n",
    "import torch\n",
    "import torch.nn as nn\n",
    "from torch.utils.data import DataLoader\n",
    "from sklearn.metrics import roc_auc_score, roc_curve\n",
    "from statistics import mode, StatisticsError\n",
    "import matplotlib.pyplot as plt\n",
    "\n",
    "seeds = [0, 1, 2 ,3, 4 , 5 , 6 ,7, 8, 9]  # Example seeds for reproducibility\n",
    "\n",
    "all_acc_final   = []\n",
    "all_f1_final    = []\n",
    "all_conf_final  = []\n",
    "global_probs_final  = []\n",
    "global_labels_final = []\n",
    "best_thresholds_final = []\n",
    "\n",
    "set_seed(0)\n",
    "#for seed in seeds:\n",
    "#    set_seed(seed)  # reproducibility\n",
    "\n",
    "# model hyperparameters (unchanged)\n",
    "input_dim_pte  = 180\n",
    "hidden_dim_pte = 512\n",
    "num_layers_pte = 2\n",
    "num_heads_pte  = 5\n",
    "output_dim_pte = 128\n",
    "dropout_pte    = 0.4\n",
    "\n",
    "input_dim_psd  = 5\n",
    "hidden_dim_psd = 512\n",
    "num_layers_psd = 2\n",
    "num_heads_psd  = 5\n",
    "output_dim_psd = 128\n",
    "dropout_psd    = 0.4\n",
    "\n",
    "cross_d_model   = 128\n",
    "cross_num_heads = 8\n",
    "\n",
    "\n",
    "\n",
    "# get stratified folds\n",
    "all_folds  = load_data_stratified_kfold(\n",
    "    pte_directory=\"features\",\n",
    "    DE_directory=\"DE_features_single_window\",\n",
    "    batch_size=32,\n",
    "    selected_classes=[\"ctrl\",\"alz\"],\n",
    "    selected_channels=['O1','O2','T4','T5','F7','F8'],\n",
    "    n_splits=10,\n",
    "    n_repetitions=30,\n",
    ")\n",
    "\n",
    "\n",
    "for folds in all_folds:\n",
    "\n",
    "    # accumulators\n",
    "    all_acc   = []\n",
    "    all_f1    = []\n",
    "    all_conf  = []\n",
    "    global_probs  = []\n",
    "    global_labels = []\n",
    "    best_thresholds = []\n",
    "\n",
    "\n",
    "    for fold_idx, (train_loader, val_loader) in enumerate(folds, 1):\n",
    "        print(f\"\\n===== Fold {fold_idx}/{len(folds)} =====\")\n",
    "\n",
    "        # 1) model init\n",
    "        model = FinalModel(\n",
    "            pte_input_dim=input_dim_pte,\n",
    "            pte_hidden_dim=hidden_dim_pte,\n",
    "            pte_num_layers=num_layers_pte,\n",
    "            pte_num_heads=num_heads_pte,\n",
    "            pte_output_dim=output_dim_pte,\n",
    "            pte_dropout=dropout_pte,\n",
    "            psd_input_dim=input_dim_psd,\n",
    "            psd_hidden_dim=hidden_dim_psd,\n",
    "            psd_num_layers=num_layers_psd,\n",
    "            psd_num_heads=num_heads_psd,\n",
    "            psd_output_dim=output_dim_psd,\n",
    "            psd_dropout=dropout_psd,\n",
    "            cross_d_model=cross_d_model,\n",
    "            cross_num_heads=cross_num_heads\n",
    "        )\n",
    "\n",
    "        device = torch.device('cuda:1' if torch.cuda.is_available() else 'cpu')\n",
    "        model.to(device)\n",
    "\n",
    "        # 2) loss & optimizer\n",
    "        # class_weights = torch.tensor([1.0, 0.8], device=device)\n",
    "        #balance the classes weights\n",
    "        # from sklearn.utils.class_weight import compute_class_weight\n",
    "        # labels = []\n",
    "        # for _, _, y, _ in train_loader:\n",
    "        #     labels.extend(y.numpy())\n",
    "        # labels = np.array(labels)\n",
    "        # class_weights = compute_class_weight(\n",
    "        #     class_weight='balanced',\n",
    "        #     classes=np.unique(labels),\n",
    "        #     y=labels\n",
    "        # )\n",
    "        # class_weights = torch.tensor(class_weights, dtype=torch.float32).to(device)\n",
    "        class_weights = torch.tensor([1.0, 0.7], device=device)\n",
    "        # print(f\"Class weights: {class_weights}\")\n",
    "        criterion_label = nn.CrossEntropyLoss(class_weights)\n",
    "        # criterion_label = FocalLoss(gamma=2, alpha=class_weights, reduction='mean', task_type='multi-class', num_classes=2)\n",
    "\n",
    "        optimizer = torch.optim.Adam(model.parameters(), lr=0.0001)\n",
    "        # scheduler = torch.optim.lr_scheduler.StepLR(optimizer, step_size=20, gamma=0.5)\n",
    "        # 3) train\n",
    "        num_epochs = 100\n",
    "        label_acc_history, _ = train_model(\n",
    "            model=model,\n",
    "            source_dataloader=train_loader,\n",
    "            target_dataloader=val_loader,\n",
    "            criterion_label=criterion_label,\n",
    "            criterion_domain=criterion_label,\n",
    "            optimizer=optimizer,\n",
    "            num_epochs=num_epochs,\n",
    "            device=device,\n",
    "            scheduler=None,\n",
    "        )\n",
    "        print(f\"Final training label acc: {label_acc_history[-1]:.2f}%\")\n",
    "\n",
    "        # 4) threshold tuning on train set\n",
    "        thresholds_to_try = [0.2,0.3,0.4,0.5]\n",
    "        best_thr = tune_threshold_on_source(\n",
    "            model=model,\n",
    "            source_dataloader=train_loader,\n",
    "            device=device,\n",
    "            thresholds=thresholds_to_try,\n",
    "            num_classes=2\n",
    "        )\n",
    "        best_thresholds.append(best_thr)\n",
    "\n",
    "        # 5) test on validation set\n",
    "        test_loss, test_acc, test_f1, conf_mat, preds, labels, alz_ratio, true_label = test_model(\n",
    "            model=model,\n",
    "            test_dataloader=val_loader,\n",
    "            criterion_label=criterion_label,\n",
    "            device=device,\n",
    "            num_classes=2,\n",
    "            alz_threshold=best_thr\n",
    "        )\n",
    "\n",
    "        print(f\"Final validation loss: {test_loss:.4f}\")\n",
    "        print(f\"Final validation acc: {test_acc:.2f}%\")\n",
    "        print(f\"Final validation f1: {test_f1:.2f}%\")\n",
    "\n",
    "        # 6) record metrics\n",
    "        all_acc.append(test_acc)\n",
    "        all_f1.append(test_f1)\n",
    "        all_conf.append(conf_mat)\n",
    "        global_probs.append(preds)\n",
    "        global_labels.append(labels)\n",
    "        best_thresholds.append(best_thr)\n",
    "\n",
    "    # ────────── 7) Final results ─────────────────────────────\n",
    "    all_acc_final.append(all_acc)\n",
    "    all_f1_final.append(all_f1)\n",
    "    all_conf_final.append(all_conf)\n",
    "    global_probs_final.append(global_probs)\n",
    "    global_labels_final.append(global_labels)\n",
    "    best_thresholds_final.append(best_thresholds)\n",
    "\n",
    "    print(f\"\\n=== Cross‐Val Results ===\")\n",
    "    print(f\"Accuracies per fold: {all_acc}\")\n",
    "    print(f\"Mean acc: {np.mean(all_acc):.2f}%, Std: {np.std(all_acc):.2f}%\")\n",
    "    print(f\"Mean f1: {np.mean(all_f1):.2f}%, Std: {np.std(all_f1):.2f}%\")\n",
    "\n",
    "final_results = {\n",
    "\"all_acc\": all_acc_final,\n",
    "\"all_f1\": all_f1_final,\n",
    "\"all_conf\": all_conf_final,\n",
    "\"global_probs\": global_probs_final,\n",
    "\"global_labels\": global_labels_final,\n",
    "\"best_thresholds\": best_thresholds_final\n",
    "}\n",
    "\n",
    "np.savez(\n",
    "    \"final_results_cn_ad_de_only.npz\",\n",
    "    final_results=final_results\n",
    ")"
   ]
  },
  {
   "cell_type": "code",
   "execution_count": null,
   "metadata": {},
   "outputs": [],
   "source": [
    "accuarcy = final_results[\"all_acc\"]\n",
    "f1 = final_results[\"all_f1\"]\n",
    "confusion_matrix = final_results[\"all_conf\"]\n",
    "global_probs = final_results[\"global_probs\"]\n",
    "global_labels = final_results[\"global_labels\"]\n",
    "best_thresholds = final_results[\"best_thresholds\"]\n",
    "\n",
    "import numpy as np\n",
    "from sklearn.metrics import accuracy_score, precision_score, recall_score, f1_score\n",
    "\n",
    "# final_results[\"all_conf\"] is a list of 10 runs, each a (5,2,2) array of confusion matrices\n",
    "all_runs = final_results[\"all_conf\"]\n",
    "\n",
    "acc_scores, precision_scores, recall_scores, f1_scores = [], [], [], []\n",
    "\n",
    "for run_idx, run_cms in enumerate(all_runs, start=1):\n",
    "    # run_cms has shape (5,2,2): 5 folds × 2 × 2\n",
    "    for fold_idx, cm in enumerate(run_cms, start=1):\n",
    "        cm = np.asarray(cm)\n",
    "        if cm.shape != (2,2):\n",
    "            raise ValueError(f\"Run {run_idx} Fold {fold_idx} has shape {cm.shape}, expected (2,2)\")\n",
    "\n",
    "        tn, fp, fn, tp = cm.ravel()\n",
    "\n",
    "        # Reconstruct the true/pred arrays\n",
    "        y_true = np.array([0]*(tn+fp) + [1]*(fn+tp))\n",
    "        y_pred = np.array([0]*tn     + [1]*fp    +\n",
    "                          [0]*fn     + [1]*tp)\n",
    "\n",
    "        # Compute metrics\n",
    "        acc_scores.append(   accuracy_score(y_true, y_pred))\n",
    "        precision_scores.append(precision_score(y_true, y_pred, zero_division=0))\n",
    "        recall_scores.append(   recall_score(y_true, y_pred, zero_division=0))\n",
    "        f1_scores.append(       f1_score(y_true, y_pred,average=\"macro\", zero_division=0))\n",
    "\n",
    "# Now aggregate across all 50 confusion matrices\n",
    "metrics = {\n",
    "    \"Accuracy\":  (np.mean(acc_scores),       np.std(acc_scores)),\n",
    "    \"Precision\": (np.mean(precision_scores), np.std(precision_scores)),\n",
    "    \"Recall\":    (np.mean(recall_scores),    np.std(recall_scores)),\n",
    "    \"F1-score\":  (np.mean(f1_scores),        np.std(f1_scores)),\n",
    "}\n",
    "\n",
    "for name, (mean, std) in metrics.items():\n",
    "    print(f\"{name}: Mean = {mean:.4f}, Std = {std:.4f}\")\n",
    "\n",
    "# global_probs = np.hstack(global_probs)\n",
    "\n",
    "gp = []\n",
    "for i in range(len(global_probs)):\n",
    "    gp.extend(global_probs[i])\n",
    "global_probs = np.vstack(gp)\n",
    "print(global_probs.shape)\n",
    "\n",
    "gl = []\n",
    "for i in range(len(global_labels)):\n",
    "    gl.extend(global_labels[i])\n",
    "global_labels = np.hstack(gl)\n",
    "print(global_labels.shape)\n",
    "print(global_labels)\n",
    "from sklearn.metrics import roc_auc_score, roc_curve\n",
    "\n",
    "# Compute global sample-level AUC\n",
    "global_auc = roc_auc_score(global_labels, global_probs[:, 1])\n",
    "print(f\"\\nGlobal Sample-Level AUC: {global_auc:.4f}\")\n",
    "\n",
    "#plot ROC curve\n",
    "fpr, tpr, _ = roc_curve(global_labels, global_probs[:, 1])\n",
    "plt.figure(figsize=(6, 6))\n",
    "plt.plot(fpr, tpr, color='darkorange', lw=2, label=f\"Global AUC = {global_auc:.4f}\")\n",
    "plt.plot([0, 1], [0, 1], color='navy', lw=2, linestyle='--')\n",
    "plt.xlabel('False Positive Rate')\n",
    "plt.ylabel('True Positive Rate')\n",
    "plt.title('Global ROC Curve')\n",
    "plt.legend(loc=\"lower right\")\n",
    "plt.grid()\n",
    "plt.show()\n",
    "\n"
   ]
  },
  {
   "cell_type": "code",
   "execution_count": null,
   "metadata": {},
   "outputs": [],
   "source": []
  },
  {
   "cell_type": "code",
   "execution_count": 10,
   "metadata": {},
   "outputs": [
    {
     "name": "stdout",
     "output_type": "stream",
     "text": [
      "Seed set to: 0\n",
      "[rep 00] SMOTE added 87 synthetic samples\n",
      "[rep 00] SMOTE added 83 synthetic samples\n",
      "[rep 00] SMOTE added 71 synthetic samples\n",
      "[rep 00] SMOTE added 71 synthetic samples\n",
      "[rep 00] SMOTE added 91 synthetic samples\n",
      "[rep 00] SMOTE added 90 synthetic samples\n",
      "[rep 00] SMOTE added 103 synthetic samples\n",
      "[rep 00] SMOTE added 102 synthetic samples\n",
      "[rep 00] SMOTE added 95 synthetic samples\n",
      "[rep 00] SMOTE added 98 synthetic samples\n",
      "[rep 01] SMOTE added 88 synthetic samples\n",
      "[rep 01] SMOTE added 82 synthetic samples\n",
      "[rep 01] SMOTE added 70 synthetic samples\n",
      "[rep 01] SMOTE added 67 synthetic samples\n",
      "[rep 01] SMOTE added 94 synthetic samples\n",
      "[rep 01] SMOTE added 97 synthetic samples\n",
      "[rep 01] SMOTE added 102 synthetic samples\n",
      "[rep 01] SMOTE added 99 synthetic samples\n",
      "[rep 01] SMOTE added 96 synthetic samples\n",
      "[rep 01] SMOTE added 96 synthetic samples\n",
      "[rep 02] SMOTE added 86 synthetic samples\n",
      "[rep 02] SMOTE added 83 synthetic samples\n",
      "[rep 02] SMOTE added 68 synthetic samples\n",
      "[rep 02] SMOTE added 70 synthetic samples\n",
      "[rep 02] SMOTE added 101 synthetic samples\n",
      "[rep 02] SMOTE added 95 synthetic samples\n",
      "[rep 02] SMOTE added 95 synthetic samples\n",
      "[rep 02] SMOTE added 99 synthetic samples\n",
      "[rep 02] SMOTE added 101 synthetic samples\n",
      "[rep 02] SMOTE added 93 synthetic samples\n",
      "[rep 03] SMOTE added 76 synthetic samples\n",
      "[rep 03] SMOTE added 90 synthetic samples\n",
      "[rep 03] SMOTE added 72 synthetic samples\n",
      "[rep 03] SMOTE added 73 synthetic samples\n",
      "[rep 03] SMOTE added 97 synthetic samples\n",
      "[rep 03] SMOTE added 97 synthetic samples\n",
      "[rep 03] SMOTE added 102 synthetic samples\n",
      "[rep 03] SMOTE added 93 synthetic samples\n",
      "[rep 03] SMOTE added 95 synthetic samples\n",
      "[rep 03] SMOTE added 96 synthetic samples\n",
      "[rep 04] SMOTE added 85 synthetic samples\n",
      "[rep 04] SMOTE added 86 synthetic samples\n",
      "[rep 04] SMOTE added 67 synthetic samples\n",
      "[rep 04] SMOTE added 72 synthetic samples\n",
      "[rep 04] SMOTE added 100 synthetic samples\n",
      "[rep 04] SMOTE added 95 synthetic samples\n",
      "[rep 04] SMOTE added 97 synthetic samples\n",
      "[rep 04] SMOTE added 97 synthetic samples\n",
      "[rep 04] SMOTE added 99 synthetic samples\n",
      "[rep 04] SMOTE added 93 synthetic samples\n",
      "[rep 05] SMOTE added 84 synthetic samples\n",
      "[rep 05] SMOTE added 91 synthetic samples\n",
      "[rep 05] SMOTE added 70 synthetic samples\n",
      "[rep 05] SMOTE added 76 synthetic samples\n",
      "[rep 05] SMOTE added 95 synthetic samples\n",
      "[rep 05] SMOTE added 99 synthetic samples\n",
      "[rep 05] SMOTE added 92 synthetic samples\n",
      "[rep 05] SMOTE added 99 synthetic samples\n",
      "[rep 05] SMOTE added 90 synthetic samples\n",
      "[rep 05] SMOTE added 95 synthetic samples\n",
      "[rep 06] SMOTE added 83 synthetic samples\n",
      "[rep 06] SMOTE added 85 synthetic samples\n",
      "[rep 06] SMOTE added 75 synthetic samples\n",
      "[rep 06] SMOTE added 67 synthetic samples\n",
      "[rep 06] SMOTE added 99 synthetic samples\n",
      "[rep 06] SMOTE added 96 synthetic samples\n",
      "[rep 06] SMOTE added 96 synthetic samples\n",
      "[rep 06] SMOTE added 101 synthetic samples\n",
      "[rep 06] SMOTE added 94 synthetic samples\n",
      "[rep 06] SMOTE added 95 synthetic samples\n",
      "[rep 07] SMOTE added 80 synthetic samples\n",
      "[rep 07] SMOTE added 87 synthetic samples\n",
      "[rep 07] SMOTE added 73 synthetic samples\n",
      "[rep 07] SMOTE added 69 synthetic samples\n",
      "[rep 07] SMOTE added 97 synthetic samples\n",
      "[rep 07] SMOTE added 98 synthetic samples\n",
      "[rep 07] SMOTE added 96 synthetic samples\n",
      "[rep 07] SMOTE added 92 synthetic samples\n",
      "[rep 07] SMOTE added 103 synthetic samples\n",
      "[rep 07] SMOTE added 96 synthetic samples\n",
      "[rep 08] SMOTE added 88 synthetic samples\n",
      "[rep 08] SMOTE added 82 synthetic samples\n",
      "[rep 08] SMOTE added 69 synthetic samples\n",
      "[rep 08] SMOTE added 73 synthetic samples\n",
      "[rep 08] SMOTE added 101 synthetic samples\n",
      "[rep 08] SMOTE added 97 synthetic samples\n",
      "[rep 08] SMOTE added 94 synthetic samples\n",
      "[rep 08] SMOTE added 96 synthetic samples\n",
      "[rep 08] SMOTE added 94 synthetic samples\n",
      "[rep 08] SMOTE added 97 synthetic samples\n",
      "[rep 09] SMOTE added 80 synthetic samples\n",
      "[rep 09] SMOTE added 78 synthetic samples\n",
      "[rep 09] SMOTE added 77 synthetic samples\n",
      "[rep 09] SMOTE added 70 synthetic samples\n",
      "[rep 09] SMOTE added 101 synthetic samples\n",
      "[rep 09] SMOTE added 93 synthetic samples\n",
      "[rep 09] SMOTE added 96 synthetic samples\n",
      "[rep 09] SMOTE added 99 synthetic samples\n",
      "[rep 09] SMOTE added 98 synthetic samples\n",
      "[rep 09] SMOTE added 99 synthetic samples\n",
      "[rep 10] SMOTE added 77 synthetic samples\n",
      "[rep 10] SMOTE added 77 synthetic samples\n",
      "[rep 10] SMOTE added 70 synthetic samples\n",
      "[rep 10] SMOTE added 72 synthetic samples\n",
      "[rep 10] SMOTE added 99 synthetic samples\n",
      "[rep 10] SMOTE added 101 synthetic samples\n",
      "[rep 10] SMOTE added 104 synthetic samples\n",
      "[rep 10] SMOTE added 99 synthetic samples\n",
      "[rep 10] SMOTE added 92 synthetic samples\n",
      "[rep 10] SMOTE added 100 synthetic samples\n",
      "[rep 11] SMOTE added 86 synthetic samples\n",
      "[rep 11] SMOTE added 83 synthetic samples\n",
      "[rep 11] SMOTE added 74 synthetic samples\n",
      "[rep 11] SMOTE added 67 synthetic samples\n",
      "[rep 11] SMOTE added 95 synthetic samples\n",
      "[rep 11] SMOTE added 98 synthetic samples\n",
      "[rep 11] SMOTE added 93 synthetic samples\n",
      "[rep 11] SMOTE added 96 synthetic samples\n",
      "[rep 11] SMOTE added 94 synthetic samples\n",
      "[rep 11] SMOTE added 105 synthetic samples\n",
      "[rep 12] SMOTE added 79 synthetic samples\n",
      "[rep 12] SMOTE added 88 synthetic samples\n",
      "[rep 12] SMOTE added 68 synthetic samples\n",
      "[rep 12] SMOTE added 73 synthetic samples\n",
      "[rep 12] SMOTE added 94 synthetic samples\n",
      "[rep 12] SMOTE added 99 synthetic samples\n",
      "[rep 12] SMOTE added 102 synthetic samples\n",
      "[rep 12] SMOTE added 99 synthetic samples\n",
      "[rep 12] SMOTE added 93 synthetic samples\n",
      "[rep 12] SMOTE added 96 synthetic samples\n",
      "[rep 13] SMOTE added 80 synthetic samples\n",
      "[rep 13] SMOTE added 83 synthetic samples\n",
      "[rep 13] SMOTE added 72 synthetic samples\n",
      "[rep 13] SMOTE added 73 synthetic samples\n",
      "[rep 13] SMOTE added 98 synthetic samples\n",
      "[rep 13] SMOTE added 99 synthetic samples\n",
      "[rep 13] SMOTE added 95 synthetic samples\n",
      "[rep 13] SMOTE added 96 synthetic samples\n",
      "[rep 13] SMOTE added 98 synthetic samples\n",
      "[rep 13] SMOTE added 97 synthetic samples\n",
      "[rep 14] SMOTE added 87 synthetic samples\n",
      "[rep 14] SMOTE added 86 synthetic samples\n",
      "[rep 14] SMOTE added 72 synthetic samples\n",
      "[rep 14] SMOTE added 72 synthetic samples\n",
      "[rep 14] SMOTE added 95 synthetic samples\n",
      "[rep 14] SMOTE added 91 synthetic samples\n",
      "[rep 14] SMOTE added 98 synthetic samples\n",
      "[rep 14] SMOTE added 97 synthetic samples\n",
      "[rep 14] SMOTE added 97 synthetic samples\n",
      "[rep 14] SMOTE added 96 synthetic samples\n",
      "[rep 15] SMOTE added 78 synthetic samples\n",
      "[rep 15] SMOTE added 79 synthetic samples\n",
      "[rep 15] SMOTE added 74 synthetic samples\n",
      "[rep 15] SMOTE added 71 synthetic samples\n",
      "[rep 15] SMOTE added 94 synthetic samples\n",
      "[rep 15] SMOTE added 99 synthetic samples\n",
      "[rep 15] SMOTE added 98 synthetic samples\n",
      "[rep 15] SMOTE added 99 synthetic samples\n",
      "[rep 15] SMOTE added 97 synthetic samples\n",
      "[rep 15] SMOTE added 102 synthetic samples\n",
      "[rep 16] SMOTE added 87 synthetic samples\n",
      "[rep 16] SMOTE added 82 synthetic samples\n",
      "[rep 16] SMOTE added 71 synthetic samples\n",
      "[rep 16] SMOTE added 66 synthetic samples\n",
      "[rep 16] SMOTE added 102 synthetic samples\n",
      "[rep 16] SMOTE added 96 synthetic samples\n",
      "[rep 16] SMOTE added 95 synthetic samples\n",
      "[rep 16] SMOTE added 99 synthetic samples\n",
      "[rep 16] SMOTE added 95 synthetic samples\n",
      "[rep 16] SMOTE added 98 synthetic samples\n",
      "[rep 17] SMOTE added 85 synthetic samples\n",
      "[rep 17] SMOTE added 90 synthetic samples\n",
      "[rep 17] SMOTE added 75 synthetic samples\n",
      "[rep 17] SMOTE added 66 synthetic samples\n",
      "[rep 17] SMOTE added 97 synthetic samples\n",
      "[rep 17] SMOTE added 97 synthetic samples\n",
      "[rep 17] SMOTE added 97 synthetic samples\n",
      "[rep 17] SMOTE added 94 synthetic samples\n",
      "[rep 17] SMOTE added 92 synthetic samples\n",
      "[rep 17] SMOTE added 98 synthetic samples\n",
      "[rep 18] SMOTE added 80 synthetic samples\n",
      "[rep 18] SMOTE added 86 synthetic samples\n",
      "[rep 18] SMOTE added 73 synthetic samples\n",
      "[rep 18] SMOTE added 65 synthetic samples\n",
      "[rep 18] SMOTE added 98 synthetic samples\n",
      "[rep 18] SMOTE added 102 synthetic samples\n",
      "[rep 18] SMOTE added 96 synthetic samples\n",
      "[rep 18] SMOTE added 92 synthetic samples\n",
      "[rep 18] SMOTE added 98 synthetic samples\n",
      "[rep 18] SMOTE added 101 synthetic samples\n",
      "[rep 19] SMOTE added 87 synthetic samples\n",
      "[rep 19] SMOTE added 78 synthetic samples\n",
      "[rep 19] SMOTE added 71 synthetic samples\n",
      "[rep 19] SMOTE added 70 synthetic samples\n",
      "[rep 19] SMOTE added 101 synthetic samples\n",
      "[rep 19] SMOTE added 91 synthetic samples\n",
      "[rep 19] SMOTE added 105 synthetic samples\n",
      "[rep 19] SMOTE added 99 synthetic samples\n",
      "[rep 19] SMOTE added 94 synthetic samples\n",
      "[rep 19] SMOTE added 95 synthetic samples\n",
      "[rep 20] SMOTE added 89 synthetic samples\n",
      "[rep 20] SMOTE added 84 synthetic samples\n",
      "[rep 20] SMOTE added 71 synthetic samples\n",
      "[rep 20] SMOTE added 76 synthetic samples\n",
      "[rep 20] SMOTE added 92 synthetic samples\n",
      "[rep 20] SMOTE added 94 synthetic samples\n",
      "[rep 20] SMOTE added 93 synthetic samples\n",
      "[rep 20] SMOTE added 93 synthetic samples\n",
      "[rep 20] SMOTE added 98 synthetic samples\n",
      "[rep 20] SMOTE added 101 synthetic samples\n",
      "[rep 21] SMOTE added 81 synthetic samples\n",
      "[rep 21] SMOTE added 86 synthetic samples\n",
      "[rep 21] SMOTE added 71 synthetic samples\n",
      "[rep 21] SMOTE added 70 synthetic samples\n",
      "[rep 21] SMOTE added 92 synthetic samples\n",
      "[rep 21] SMOTE added 98 synthetic samples\n",
      "[rep 21] SMOTE added 100 synthetic samples\n",
      "[rep 21] SMOTE added 100 synthetic samples\n",
      "[rep 21] SMOTE added 102 synthetic samples\n",
      "[rep 21] SMOTE added 91 synthetic samples\n",
      "[rep 22] SMOTE added 82 synthetic samples\n",
      "[rep 22] SMOTE added 83 synthetic samples\n",
      "[rep 22] SMOTE added 73 synthetic samples\n",
      "[rep 22] SMOTE added 75 synthetic samples\n",
      "[rep 22] SMOTE added 96 synthetic samples\n",
      "[rep 22] SMOTE added 95 synthetic samples\n",
      "[rep 22] SMOTE added 99 synthetic samples\n",
      "[rep 22] SMOTE added 96 synthetic samples\n",
      "[rep 22] SMOTE added 92 synthetic samples\n",
      "[rep 22] SMOTE added 100 synthetic samples\n",
      "[rep 23] SMOTE added 86 synthetic samples\n",
      "[rep 23] SMOTE added 84 synthetic samples\n",
      "[rep 23] SMOTE added 69 synthetic samples\n",
      "[rep 23] SMOTE added 69 synthetic samples\n",
      "[rep 23] SMOTE added 97 synthetic samples\n",
      "[rep 23] SMOTE added 97 synthetic samples\n",
      "[rep 23] SMOTE added 100 synthetic samples\n",
      "[rep 23] SMOTE added 97 synthetic samples\n",
      "[rep 23] SMOTE added 94 synthetic samples\n",
      "[rep 23] SMOTE added 98 synthetic samples\n",
      "[rep 24] SMOTE added 86 synthetic samples\n",
      "[rep 24] SMOTE added 83 synthetic samples\n",
      "[rep 24] SMOTE added 70 synthetic samples\n",
      "[rep 24] SMOTE added 76 synthetic samples\n",
      "[rep 24] SMOTE added 95 synthetic samples\n",
      "[rep 24] SMOTE added 100 synthetic samples\n",
      "[rep 24] SMOTE added 95 synthetic samples\n",
      "[rep 24] SMOTE added 96 synthetic samples\n",
      "[rep 24] SMOTE added 99 synthetic samples\n",
      "[rep 24] SMOTE added 91 synthetic samples\n",
      "[rep 25] SMOTE added 76 synthetic samples\n",
      "[rep 25] SMOTE added 88 synthetic samples\n",
      "[rep 25] SMOTE added 73 synthetic samples\n",
      "[rep 25] SMOTE added 70 synthetic samples\n",
      "[rep 25] SMOTE added 97 synthetic samples\n",
      "[rep 25] SMOTE added 95 synthetic samples\n",
      "[rep 25] SMOTE added 96 synthetic samples\n",
      "[rep 25] SMOTE added 96 synthetic samples\n",
      "[rep 25] SMOTE added 102 synthetic samples\n",
      "[rep 25] SMOTE added 98 synthetic samples\n",
      "[rep 26] SMOTE added 81 synthetic samples\n",
      "[rep 26] SMOTE added 87 synthetic samples\n",
      "[rep 26] SMOTE added 69 synthetic samples\n",
      "[rep 26] SMOTE added 76 synthetic samples\n",
      "[rep 26] SMOTE added 93 synthetic samples\n",
      "[rep 26] SMOTE added 101 synthetic samples\n",
      "[rep 26] SMOTE added 90 synthetic samples\n",
      "[rep 26] SMOTE added 98 synthetic samples\n",
      "[rep 26] SMOTE added 99 synthetic samples\n",
      "[rep 26] SMOTE added 97 synthetic samples\n",
      "[rep 27] SMOTE added 81 synthetic samples\n",
      "[rep 27] SMOTE added 82 synthetic samples\n",
      "[rep 27] SMOTE added 70 synthetic samples\n",
      "[rep 27] SMOTE added 71 synthetic samples\n",
      "[rep 27] SMOTE added 92 synthetic samples\n",
      "[rep 27] SMOTE added 99 synthetic samples\n",
      "[rep 27] SMOTE added 101 synthetic samples\n",
      "[rep 27] SMOTE added 94 synthetic samples\n",
      "[rep 27] SMOTE added 102 synthetic samples\n",
      "[rep 27] SMOTE added 99 synthetic samples\n",
      "[rep 28] SMOTE added 84 synthetic samples\n",
      "[rep 28] SMOTE added 83 synthetic samples\n",
      "[rep 28] SMOTE added 70 synthetic samples\n",
      "[rep 28] SMOTE added 63 synthetic samples\n",
      "[rep 28] SMOTE added 98 synthetic samples\n",
      "[rep 28] SMOTE added 94 synthetic samples\n",
      "[rep 28] SMOTE added 96 synthetic samples\n",
      "[rep 28] SMOTE added 105 synthetic samples\n",
      "[rep 28] SMOTE added 100 synthetic samples\n",
      "[rep 28] SMOTE added 98 synthetic samples\n",
      "[rep 29] SMOTE added 84 synthetic samples\n",
      "[rep 29] SMOTE added 85 synthetic samples\n",
      "[rep 29] SMOTE added 75 synthetic samples\n",
      "[rep 29] SMOTE added 77 synthetic samples\n",
      "[rep 29] SMOTE added 97 synthetic samples\n",
      "[rep 29] SMOTE added 96 synthetic samples\n",
      "[rep 29] SMOTE added 98 synthetic samples\n",
      "[rep 29] SMOTE added 95 synthetic samples\n",
      "[rep 29] SMOTE added 95 synthetic samples\n",
      "[rep 29] SMOTE added 89 synthetic samples\n",
      "\n",
      "===== Fold 1/10 =====\n"
     ]
    },
    {
     "name": "stderr",
     "output_type": "stream",
     "text": [
      "/home/s.dharia-ra/miniconda3/envs/ml/lib/python3.10/site-packages/torch/nn/modules/transformer.py:379: UserWarning: enable_nested_tensor is True, but self.use_nested_tensor is False because encoder_layer.self_attn.num_heads is odd\n",
      "  warnings.warn(\n"
     ]
    },
    {
     "name": "stdout",
     "output_type": "stream",
     "text": [
      "Final training label acc: 73.02%\n",
      "[Threshold 0.2] -> F1=0.7279 | Acc=0.7297\n",
      "[Threshold 0.3] -> F1=0.7836 | Acc=0.7838\n",
      "[Threshold 0.4] -> F1=0.7836 | Acc=0.7838\n",
      "[Threshold 0.5] -> F1=0.8377 | Acc=0.8378\n",
      "\n",
      "[Best Threshold] = 0.5 with F1=0.8377\n",
      "Final validation loss: 0.3294\n",
      "Final validation acc: 80.00%\n",
      "Final validation f1: 0.76%\n",
      "\n",
      "===== Fold 2/10 =====\n"
     ]
    },
    {
     "name": "stderr",
     "output_type": "stream",
     "text": [
      "/home/s.dharia-ra/miniconda3/envs/ml/lib/python3.10/site-packages/torch/nn/modules/transformer.py:379: UserWarning: enable_nested_tensor is True, but self.use_nested_tensor is False because encoder_layer.self_attn.num_heads is odd\n",
      "  warnings.warn(\n"
     ]
    },
    {
     "name": "stdout",
     "output_type": "stream",
     "text": [
      "Final training label acc: 79.57%\n",
      "[Threshold 0.2] -> F1=0.8377 | Acc=0.8378\n",
      "[Threshold 0.3] -> F1=0.8633 | Acc=0.8649\n",
      "[Threshold 0.4] -> F1=0.8899 | Acc=0.8919\n",
      "[Threshold 0.5] -> F1=0.8899 | Acc=0.8919\n",
      "\n",
      "[Best Threshold] = 0.4 with F1=0.8899\n",
      "Final validation loss: 0.8437\n",
      "Final validation acc: 60.00%\n",
      "Final validation f1: 0.58%\n",
      "\n",
      "===== Fold 3/10 =====\n"
     ]
    },
    {
     "name": "stderr",
     "output_type": "stream",
     "text": [
      "/home/s.dharia-ra/miniconda3/envs/ml/lib/python3.10/site-packages/torch/nn/modules/transformer.py:379: UserWarning: enable_nested_tensor is True, but self.use_nested_tensor is False because encoder_layer.self_attn.num_heads is odd\n",
      "  warnings.warn(\n"
     ]
    },
    {
     "name": "stdout",
     "output_type": "stream",
     "text": [
      "Final training label acc: 78.11%\n",
      "[Threshold 0.2] -> F1=0.7889 | Acc=0.7895\n",
      "[Threshold 0.3] -> F1=0.8157 | Acc=0.8158\n",
      "[Threshold 0.4] -> F1=0.8683 | Acc=0.8684\n",
      "[Threshold 0.5] -> F1=0.8683 | Acc=0.8684\n",
      "\n",
      "[Best Threshold] = 0.4 with F1=0.8683\n",
      "Final validation loss: 0.7279\n",
      "Final validation acc: 50.00%\n",
      "Final validation f1: 0.50%\n",
      "\n",
      "===== Fold 4/10 =====\n"
     ]
    },
    {
     "name": "stderr",
     "output_type": "stream",
     "text": [
      "/home/s.dharia-ra/miniconda3/envs/ml/lib/python3.10/site-packages/torch/nn/modules/transformer.py:379: UserWarning: enable_nested_tensor is True, but self.use_nested_tensor is False because encoder_layer.self_attn.num_heads is odd\n",
      "  warnings.warn(\n"
     ]
    },
    {
     "name": "stdout",
     "output_type": "stream",
     "text": [
      "Final training label acc: 74.91%\n",
      "[Threshold 0.2] -> F1=0.7087 | Acc=0.7105\n",
      "[Threshold 0.3] -> F1=0.7630 | Acc=0.7632\n",
      "[Threshold 0.4] -> F1=0.8157 | Acc=0.8158\n",
      "[Threshold 0.5] -> F1=0.8676 | Acc=0.8684\n",
      "\n",
      "[Best Threshold] = 0.5 with F1=0.8676\n",
      "Final validation loss: 0.5163\n",
      "Final validation acc: 75.00%\n",
      "Final validation f1: 0.73%\n",
      "\n",
      "===== Fold 5/10 =====\n"
     ]
    },
    {
     "name": "stderr",
     "output_type": "stream",
     "text": [
      "/home/s.dharia-ra/miniconda3/envs/ml/lib/python3.10/site-packages/torch/nn/modules/transformer.py:379: UserWarning: enable_nested_tensor is True, but self.use_nested_tensor is False because encoder_layer.self_attn.num_heads is odd\n",
      "  warnings.warn(\n"
     ]
    },
    {
     "name": "stdout",
     "output_type": "stream",
     "text": [
      "Final training label acc: 73.61%\n",
      "[Threshold 0.2] -> F1=0.6833 | Acc=0.6842\n",
      "[Threshold 0.3] -> F1=0.7103 | Acc=0.7105\n",
      "[Threshold 0.4] -> F1=0.7103 | Acc=0.7105\n",
      "[Threshold 0.5] -> F1=0.7103 | Acc=0.7105\n",
      "\n",
      "[Best Threshold] = 0.3 with F1=0.7103\n",
      "Final validation loss: 0.9457\n",
      "Final validation acc: 50.00%\n",
      "Final validation f1: 0.33%\n",
      "\n",
      "===== Fold 6/10 =====\n"
     ]
    },
    {
     "name": "stderr",
     "output_type": "stream",
     "text": [
      "/home/s.dharia-ra/miniconda3/envs/ml/lib/python3.10/site-packages/torch/nn/modules/transformer.py:379: UserWarning: enable_nested_tensor is True, but self.use_nested_tensor is False because encoder_layer.self_attn.num_heads is odd\n",
      "  warnings.warn(\n"
     ]
    },
    {
     "name": "stdout",
     "output_type": "stream",
     "text": [
      "Final training label acc: 75.52%\n",
      "[Threshold 0.2] -> F1=0.7630 | Acc=0.7632\n",
      "[Threshold 0.3] -> F1=0.8146 | Acc=0.8158\n",
      "[Threshold 0.4] -> F1=0.8403 | Acc=0.8421\n",
      "[Threshold 0.5] -> F1=0.8661 | Acc=0.8684\n",
      "\n",
      "[Best Threshold] = 0.5 with F1=0.8661\n",
      "Final validation loss: 0.4734\n",
      "Final validation acc: 75.00%\n",
      "Final validation f1: 0.73%\n",
      "\n",
      "===== Fold 7/10 =====\n"
     ]
    },
    {
     "name": "stderr",
     "output_type": "stream",
     "text": [
      "/home/s.dharia-ra/miniconda3/envs/ml/lib/python3.10/site-packages/torch/nn/modules/transformer.py:379: UserWarning: enable_nested_tensor is True, but self.use_nested_tensor is False because encoder_layer.self_attn.num_heads is odd\n",
      "  warnings.warn(\n"
     ]
    },
    {
     "name": "stdout",
     "output_type": "stream",
     "text": [
      "Final training label acc: 74.49%\n",
      "[Threshold 0.2] -> F1=0.7087 | Acc=0.7105\n",
      "[Threshold 0.3] -> F1=0.7368 | Acc=0.7368\n",
      "[Threshold 0.4] -> F1=0.7889 | Acc=0.7895\n",
      "[Threshold 0.5] -> F1=0.8146 | Acc=0.8158\n",
      "\n",
      "[Best Threshold] = 0.5 with F1=0.8146\n",
      "Final validation loss: 0.7397\n",
      "Final validation acc: 75.00%\n",
      "Final validation f1: 0.73%\n",
      "\n",
      "===== Fold 8/10 =====\n"
     ]
    },
    {
     "name": "stderr",
     "output_type": "stream",
     "text": [
      "/home/s.dharia-ra/miniconda3/envs/ml/lib/python3.10/site-packages/torch/nn/modules/transformer.py:379: UserWarning: enable_nested_tensor is True, but self.use_nested_tensor is False because encoder_layer.self_attn.num_heads is odd\n",
      "  warnings.warn(\n"
     ]
    },
    {
     "name": "stdout",
     "output_type": "stream",
     "text": [
      "Final training label acc: 79.86%\n",
      "[Threshold 0.2] -> F1=0.8157 | Acc=0.8158\n",
      "[Threshold 0.3] -> F1=0.8421 | Acc=0.8421\n",
      "[Threshold 0.4] -> F1=0.8944 | Acc=0.8947\n",
      "[Threshold 0.5] -> F1=0.8676 | Acc=0.8684\n",
      "\n",
      "[Best Threshold] = 0.4 with F1=0.8944\n",
      "Final validation loss: 2.4064\n",
      "Final validation acc: 25.00%\n",
      "Final validation f1: 0.20%\n",
      "\n",
      "===== Fold 9/10 =====\n"
     ]
    },
    {
     "name": "stderr",
     "output_type": "stream",
     "text": [
      "/home/s.dharia-ra/miniconda3/envs/ml/lib/python3.10/site-packages/torch/nn/modules/transformer.py:379: UserWarning: enable_nested_tensor is True, but self.use_nested_tensor is False because encoder_layer.self_attn.num_heads is odd\n",
      "  warnings.warn(\n"
     ]
    },
    {
     "name": "stdout",
     "output_type": "stream",
     "text": [
      "Final training label acc: 74.06%\n",
      "[Threshold 0.2] -> F1=0.7103 | Acc=0.7105\n",
      "[Threshold 0.3] -> F1=0.7368 | Acc=0.7368\n",
      "[Threshold 0.4] -> F1=0.7630 | Acc=0.7632\n",
      "[Threshold 0.5] -> F1=0.7889 | Acc=0.7895\n",
      "\n",
      "[Best Threshold] = 0.5 with F1=0.7889\n",
      "Final validation loss: 0.3399\n",
      "Final validation acc: 75.00%\n",
      "Final validation f1: 0.73%\n",
      "\n",
      "===== Fold 10/10 =====\n"
     ]
    },
    {
     "name": "stderr",
     "output_type": "stream",
     "text": [
      "/home/s.dharia-ra/miniconda3/envs/ml/lib/python3.10/site-packages/torch/nn/modules/transformer.py:379: UserWarning: enable_nested_tensor is True, but self.use_nested_tensor is False because encoder_layer.self_attn.num_heads is odd\n",
      "  warnings.warn(\n"
     ]
    },
    {
     "name": "stdout",
     "output_type": "stream",
     "text": [
      "Final training label acc: 74.91%\n",
      "[Threshold 0.2] -> F1=0.7630 | Acc=0.7632\n",
      "[Threshold 0.3] -> F1=0.7630 | Acc=0.7632\n",
      "[Threshold 0.4] -> F1=0.8146 | Acc=0.8158\n",
      "[Threshold 0.5] -> F1=0.8146 | Acc=0.8158\n",
      "\n",
      "[Best Threshold] = 0.4 with F1=0.8146\n",
      "Final validation loss: 0.5026\n",
      "Final validation acc: 75.00%\n",
      "Final validation f1: 0.73%\n",
      "\n",
      "=== Cross‐Val Results ===\n",
      "Accuracies per fold: [80.0, 60.0, 50.0, 75.0, 50.0, 75.0, 75.0, 25.0, 75.0, 75.0]\n",
      "Mean acc: 64.00%, Std: 16.70%\n",
      "Mean f1: 0.60%, Std: 0.19%\n",
      "\n",
      "===== Fold 1/10 =====\n"
     ]
    },
    {
     "name": "stderr",
     "output_type": "stream",
     "text": [
      "/home/s.dharia-ra/miniconda3/envs/ml/lib/python3.10/site-packages/torch/nn/modules/transformer.py:379: UserWarning: enable_nested_tensor is True, but self.use_nested_tensor is False because encoder_layer.self_attn.num_heads is odd\n",
      "  warnings.warn(\n"
     ]
    },
    {
     "name": "stdout",
     "output_type": "stream",
     "text": [
      "Final training label acc: 73.84%\n",
      "[Threshold 0.2] -> F1=0.7295 | Acc=0.7297\n",
      "[Threshold 0.3] -> F1=0.7568 | Acc=0.7568\n",
      "[Threshold 0.4] -> F1=0.7836 | Acc=0.7838\n",
      "[Threshold 0.5] -> F1=0.8103 | Acc=0.8108\n",
      "\n",
      "[Best Threshold] = 0.5 with F1=0.8103\n",
      "Final validation loss: 0.4799\n",
      "Final validation acc: 80.00%\n",
      "Final validation f1: 0.80%\n",
      "\n",
      "===== Fold 2/10 =====\n"
     ]
    },
    {
     "name": "stderr",
     "output_type": "stream",
     "text": [
      "/home/s.dharia-ra/miniconda3/envs/ml/lib/python3.10/site-packages/torch/nn/modules/transformer.py:379: UserWarning: enable_nested_tensor is True, but self.use_nested_tensor is False because encoder_layer.self_attn.num_heads is odd\n",
      "  warnings.warn(\n"
     ]
    },
    {
     "name": "stdout",
     "output_type": "stream",
     "text": [
      "Final training label acc: 74.01%\n",
      "[Threshold 0.2] -> F1=0.7560 | Acc=0.7568\n",
      "[Threshold 0.3] -> F1=0.7560 | Acc=0.7568\n",
      "[Threshold 0.4] -> F1=0.8108 | Acc=0.8108\n",
      "[Threshold 0.5] -> F1=0.7836 | Acc=0.7838\n",
      "\n",
      "[Best Threshold] = 0.4 with F1=0.8108\n",
      "Final validation loss: 0.4380\n",
      "Final validation acc: 60.00%\n",
      "Final validation f1: 0.58%\n",
      "\n",
      "===== Fold 3/10 =====\n"
     ]
    },
    {
     "name": "stderr",
     "output_type": "stream",
     "text": [
      "/home/s.dharia-ra/miniconda3/envs/ml/lib/python3.10/site-packages/torch/nn/modules/transformer.py:379: UserWarning: enable_nested_tensor is True, but self.use_nested_tensor is False because encoder_layer.self_attn.num_heads is odd\n",
      "  warnings.warn(\n"
     ]
    },
    {
     "name": "stdout",
     "output_type": "stream",
     "text": [
      "Final training label acc: 72.94%\n",
      "[Threshold 0.2] -> F1=0.7339 | Acc=0.7368\n",
      "[Threshold 0.3] -> F1=0.7617 | Acc=0.7632\n",
      "[Threshold 0.4] -> F1=0.8421 | Acc=0.8421\n",
      "[Threshold 0.5] -> F1=0.8683 | Acc=0.8684\n",
      "\n",
      "[Best Threshold] = 0.5 with F1=0.8683\n",
      "Final validation loss: 0.4273\n",
      "Final validation acc: 50.00%\n",
      "Final validation f1: 0.50%\n",
      "\n",
      "===== Fold 4/10 =====\n"
     ]
    },
    {
     "name": "stderr",
     "output_type": "stream",
     "text": [
      "/home/s.dharia-ra/miniconda3/envs/ml/lib/python3.10/site-packages/torch/nn/modules/transformer.py:379: UserWarning: enable_nested_tensor is True, but self.use_nested_tensor is False because encoder_layer.self_attn.num_heads is odd\n",
      "  warnings.warn(\n"
     ]
    },
    {
     "name": "stdout",
     "output_type": "stream",
     "text": [
      "Final training label acc: 77.09%\n",
      "[Threshold 0.2] -> F1=0.8157 | Acc=0.8158\n",
      "[Threshold 0.3] -> F1=0.8157 | Acc=0.8158\n",
      "[Threshold 0.4] -> F1=0.8157 | Acc=0.8158\n",
      "[Threshold 0.5] -> F1=0.8157 | Acc=0.8158\n",
      "\n",
      "[Best Threshold] = 0.2 with F1=0.8157\n",
      "Final validation loss: 0.6214\n",
      "Final validation acc: 50.00%\n",
      "Final validation f1: 0.50%\n",
      "\n",
      "===== Fold 5/10 =====\n"
     ]
    },
    {
     "name": "stderr",
     "output_type": "stream",
     "text": [
      "/home/s.dharia-ra/miniconda3/envs/ml/lib/python3.10/site-packages/torch/nn/modules/transformer.py:379: UserWarning: enable_nested_tensor is True, but self.use_nested_tensor is False because encoder_layer.self_attn.num_heads is odd\n",
      "  warnings.warn(\n"
     ]
    },
    {
     "name": "stdout",
     "output_type": "stream",
     "text": [
      "Final training label acc: 75.78%\n",
      "[Threshold 0.2] -> F1=0.7087 | Acc=0.7105\n",
      "[Threshold 0.3] -> F1=0.7087 | Acc=0.7105\n",
      "[Threshold 0.4] -> F1=0.7630 | Acc=0.7632\n",
      "[Threshold 0.5] -> F1=0.8157 | Acc=0.8158\n",
      "\n",
      "[Best Threshold] = 0.5 with F1=0.8157\n",
      "Final validation loss: 1.2890\n",
      "Final validation acc: 75.00%\n",
      "Final validation f1: 0.73%\n",
      "\n",
      "===== Fold 6/10 =====\n"
     ]
    },
    {
     "name": "stderr",
     "output_type": "stream",
     "text": [
      "/home/s.dharia-ra/miniconda3/envs/ml/lib/python3.10/site-packages/torch/nn/modules/transformer.py:379: UserWarning: enable_nested_tensor is True, but self.use_nested_tensor is False because encoder_layer.self_attn.num_heads is odd\n",
      "  warnings.warn(\n"
     ]
    },
    {
     "name": "stdout",
     "output_type": "stream",
     "text": [
      "Final training label acc: 73.97%\n",
      "[Threshold 0.2] -> F1=0.7368 | Acc=0.7368\n",
      "[Threshold 0.3] -> F1=0.7630 | Acc=0.7632\n",
      "[Threshold 0.4] -> F1=0.7889 | Acc=0.7895\n",
      "[Threshold 0.5] -> F1=0.8146 | Acc=0.8158\n",
      "\n",
      "[Best Threshold] = 0.5 with F1=0.8146\n",
      "Final validation loss: 0.4199\n",
      "Final validation acc: 75.00%\n",
      "Final validation f1: 0.73%\n",
      "\n",
      "===== Fold 7/10 =====\n"
     ]
    },
    {
     "name": "stderr",
     "output_type": "stream",
     "text": [
      "/home/s.dharia-ra/miniconda3/envs/ml/lib/python3.10/site-packages/torch/nn/modules/transformer.py:379: UserWarning: enable_nested_tensor is True, but self.use_nested_tensor is False because encoder_layer.self_attn.num_heads is odd\n",
      "  warnings.warn(\n"
     ]
    },
    {
     "name": "stdout",
     "output_type": "stream",
     "text": [
      "Final training label acc: 77.74%\n",
      "[Threshold 0.2] -> F1=0.7895 | Acc=0.7895\n",
      "[Threshold 0.3] -> F1=0.8417 | Acc=0.8421\n",
      "[Threshold 0.4] -> F1=0.8676 | Acc=0.8684\n",
      "[Threshold 0.5] -> F1=0.8403 | Acc=0.8421\n",
      "\n",
      "[Best Threshold] = 0.4 with F1=0.8676\n",
      "Final validation loss: 0.4627\n",
      "Final validation acc: 100.00%\n",
      "Final validation f1: 1.00%\n",
      "\n",
      "===== Fold 8/10 =====\n"
     ]
    },
    {
     "name": "stderr",
     "output_type": "stream",
     "text": [
      "/home/s.dharia-ra/miniconda3/envs/ml/lib/python3.10/site-packages/torch/nn/modules/transformer.py:379: UserWarning: enable_nested_tensor is True, but self.use_nested_tensor is False because encoder_layer.self_attn.num_heads is odd\n",
      "  warnings.warn(\n"
     ]
    },
    {
     "name": "stdout",
     "output_type": "stream",
     "text": [
      "Final training label acc: 75.94%\n",
      "[Threshold 0.2] -> F1=0.7361 | Acc=0.7368\n",
      "[Threshold 0.3] -> F1=0.7889 | Acc=0.7895\n",
      "[Threshold 0.4] -> F1=0.8661 | Acc=0.8684\n",
      "[Threshold 0.5] -> F1=0.8661 | Acc=0.8684\n",
      "\n",
      "[Best Threshold] = 0.4 with F1=0.8661\n",
      "Final validation loss: 1.0917\n",
      "Final validation acc: 50.00%\n",
      "Final validation f1: 0.50%\n",
      "\n",
      "===== Fold 9/10 =====\n"
     ]
    },
    {
     "name": "stderr",
     "output_type": "stream",
     "text": [
      "/home/s.dharia-ra/miniconda3/envs/ml/lib/python3.10/site-packages/torch/nn/modules/transformer.py:379: UserWarning: enable_nested_tensor is True, but self.use_nested_tensor is False because encoder_layer.self_attn.num_heads is odd\n",
      "  warnings.warn(\n"
     ]
    },
    {
     "name": "stdout",
     "output_type": "stream",
     "text": [
      "Final training label acc: 74.57%\n",
      "[Threshold 0.2] -> F1=0.6807 | Acc=0.6842\n",
      "[Threshold 0.3] -> F1=0.7087 | Acc=0.7105\n",
      "[Threshold 0.4] -> F1=0.6833 | Acc=0.6842\n",
      "[Threshold 0.5] -> F1=0.7103 | Acc=0.7105\n",
      "\n",
      "[Best Threshold] = 0.5 with F1=0.7103\n",
      "Final validation loss: 1.1969\n",
      "Final validation acc: 75.00%\n",
      "Final validation f1: 0.73%\n",
      "\n",
      "===== Fold 10/10 =====\n"
     ]
    },
    {
     "name": "stderr",
     "output_type": "stream",
     "text": [
      "/home/s.dharia-ra/miniconda3/envs/ml/lib/python3.10/site-packages/torch/nn/modules/transformer.py:379: UserWarning: enable_nested_tensor is True, but self.use_nested_tensor is False because encoder_layer.self_attn.num_heads is odd\n",
      "  warnings.warn(\n"
     ]
    },
    {
     "name": "stdout",
     "output_type": "stream",
     "text": [
      "Final training label acc: 77.82%\n",
      "[Threshold 0.2] -> F1=0.7630 | Acc=0.7632\n",
      "[Threshold 0.3] -> F1=0.8157 | Acc=0.8158\n",
      "[Threshold 0.4] -> F1=0.8936 | Acc=0.8947\n",
      "[Threshold 0.5] -> F1=0.8661 | Acc=0.8684\n",
      "\n",
      "[Best Threshold] = 0.4 with F1=0.8936\n",
      "Final validation loss: 0.9482\n",
      "Final validation acc: 25.00%\n",
      "Final validation f1: 0.20%\n",
      "\n",
      "=== Cross‐Val Results ===\n",
      "Accuracies per fold: [80.0, 60.0, 50.0, 50.0, 75.0, 75.0, 100.0, 50.0, 75.0, 25.0]\n",
      "Mean acc: 64.00%, Std: 20.10%\n",
      "Mean f1: 0.63%, Std: 0.21%\n",
      "\n",
      "===== Fold 1/10 =====\n"
     ]
    },
    {
     "name": "stderr",
     "output_type": "stream",
     "text": [
      "/home/s.dharia-ra/miniconda3/envs/ml/lib/python3.10/site-packages/torch/nn/modules/transformer.py:379: UserWarning: enable_nested_tensor is True, but self.use_nested_tensor is False because encoder_layer.self_attn.num_heads is odd\n",
      "  warnings.warn(\n"
     ]
    },
    {
     "name": "stdout",
     "output_type": "stream",
     "text": [
      "Final training label acc: 78.85%\n",
      "[Threshold 0.2] -> F1=0.8377 | Acc=0.8378\n",
      "[Threshold 0.3] -> F1=0.8377 | Acc=0.8378\n",
      "[Threshold 0.4] -> F1=0.8912 | Acc=0.8919\n",
      "[Threshold 0.5] -> F1=0.8912 | Acc=0.8919\n",
      "\n",
      "[Best Threshold] = 0.4 with F1=0.8912\n",
      "Final validation loss: 2.2638\n",
      "Final validation acc: 60.00%\n",
      "Final validation f1: 0.58%\n",
      "\n",
      "===== Fold 2/10 =====\n"
     ]
    },
    {
     "name": "stderr",
     "output_type": "stream",
     "text": [
      "/home/s.dharia-ra/miniconda3/envs/ml/lib/python3.10/site-packages/torch/nn/modules/transformer.py:379: UserWarning: enable_nested_tensor is True, but self.use_nested_tensor is False because encoder_layer.self_attn.num_heads is odd\n",
      "  warnings.warn(\n"
     ]
    },
    {
     "name": "stdout",
     "output_type": "stream",
     "text": [
      "Final training label acc: 76.53%\n",
      "[Threshold 0.2] -> F1=0.7279 | Acc=0.7297\n",
      "[Threshold 0.3] -> F1=0.7279 | Acc=0.7297\n",
      "[Threshold 0.4] -> F1=0.7568 | Acc=0.7568\n",
      "[Threshold 0.5] -> F1=0.7836 | Acc=0.7838\n",
      "\n",
      "[Best Threshold] = 0.5 with F1=0.7836\n",
      "Final validation loss: 0.7928\n",
      "Final validation acc: 40.00%\n",
      "Final validation f1: 0.40%\n",
      "\n",
      "===== Fold 3/10 =====\n"
     ]
    },
    {
     "name": "stderr",
     "output_type": "stream",
     "text": [
      "/home/s.dharia-ra/miniconda3/envs/ml/lib/python3.10/site-packages/torch/nn/modules/transformer.py:379: UserWarning: enable_nested_tensor is True, but self.use_nested_tensor is False because encoder_layer.self_attn.num_heads is odd\n",
      "  warnings.warn(\n"
     ]
    },
    {
     "name": "stdout",
     "output_type": "stream",
     "text": [
      "Final training label acc: 75.99%\n",
      "[Threshold 0.2] -> F1=0.7630 | Acc=0.7632\n",
      "[Threshold 0.3] -> F1=0.8157 | Acc=0.8158\n",
      "[Threshold 0.4] -> F1=0.8417 | Acc=0.8421\n",
      "[Threshold 0.5] -> F1=0.8417 | Acc=0.8421\n",
      "\n",
      "[Best Threshold] = 0.4 with F1=0.8417\n",
      "Final validation loss: 0.5042\n",
      "Final validation acc: 75.00%\n",
      "Final validation f1: 0.73%\n",
      "\n",
      "===== Fold 4/10 =====\n"
     ]
    },
    {
     "name": "stderr",
     "output_type": "stream",
     "text": [
      "/home/s.dharia-ra/miniconda3/envs/ml/lib/python3.10/site-packages/torch/nn/modules/transformer.py:379: UserWarning: enable_nested_tensor is True, but self.use_nested_tensor is False because encoder_layer.self_attn.num_heads is odd\n",
      "  warnings.warn(\n"
     ]
    },
    {
     "name": "stdout",
     "output_type": "stream",
     "text": [
      "Final training label acc: 79.11%\n",
      "[Threshold 0.2] -> F1=0.7895 | Acc=0.7895\n",
      "[Threshold 0.3] -> F1=0.8157 | Acc=0.8158\n",
      "[Threshold 0.4] -> F1=0.8417 | Acc=0.8421\n",
      "[Threshold 0.5] -> F1=0.8936 | Acc=0.8947\n",
      "\n",
      "[Best Threshold] = 0.5 with F1=0.8936\n",
      "Final validation loss: 1.6485\n",
      "Final validation acc: 25.00%\n",
      "Final validation f1: 0.20%\n",
      "\n",
      "===== Fold 5/10 =====\n"
     ]
    },
    {
     "name": "stderr",
     "output_type": "stream",
     "text": [
      "/home/s.dharia-ra/miniconda3/envs/ml/lib/python3.10/site-packages/torch/nn/modules/transformer.py:379: UserWarning: enable_nested_tensor is True, but self.use_nested_tensor is False because encoder_layer.self_attn.num_heads is odd\n",
      "  warnings.warn(\n"
     ]
    },
    {
     "name": "stdout",
     "output_type": "stream",
     "text": [
      "Final training label acc: 72.95%\n",
      "[Threshold 0.2] -> F1=0.6807 | Acc=0.6842\n",
      "[Threshold 0.3] -> F1=0.7630 | Acc=0.7632\n",
      "[Threshold 0.4] -> F1=0.7895 | Acc=0.7895\n",
      "[Threshold 0.5] -> F1=0.7895 | Acc=0.7895\n",
      "\n",
      "[Best Threshold] = 0.4 with F1=0.7895\n",
      "Final validation loss: 0.5389\n",
      "Final validation acc: 75.00%\n",
      "Final validation f1: 0.73%\n",
      "\n",
      "===== Fold 6/10 =====\n"
     ]
    },
    {
     "name": "stderr",
     "output_type": "stream",
     "text": [
      "/home/s.dharia-ra/miniconda3/envs/ml/lib/python3.10/site-packages/torch/nn/modules/transformer.py:379: UserWarning: enable_nested_tensor is True, but self.use_nested_tensor is False because encoder_layer.self_attn.num_heads is odd\n",
      "  warnings.warn(\n"
     ]
    },
    {
     "name": "stdout",
     "output_type": "stream",
     "text": [
      "Final training label acc: 75.17%\n",
      "[Threshold 0.2] -> F1=0.6833 | Acc=0.6842\n",
      "[Threshold 0.3] -> F1=0.7630 | Acc=0.7632\n",
      "[Threshold 0.4] -> F1=0.8146 | Acc=0.8158\n",
      "[Threshold 0.5] -> F1=0.8403 | Acc=0.8421\n",
      "\n",
      "[Best Threshold] = 0.5 with F1=0.8403\n",
      "Final validation loss: 0.1651\n",
      "Final validation acc: 100.00%\n",
      "Final validation f1: 1.00%\n",
      "\n",
      "===== Fold 7/10 =====\n"
     ]
    },
    {
     "name": "stderr",
     "output_type": "stream",
     "text": [
      "/home/s.dharia-ra/miniconda3/envs/ml/lib/python3.10/site-packages/torch/nn/modules/transformer.py:379: UserWarning: enable_nested_tensor is True, but self.use_nested_tensor is False because encoder_layer.self_attn.num_heads is odd\n",
      "  warnings.warn(\n"
     ]
    },
    {
     "name": "stdout",
     "output_type": "stream",
     "text": [
      "Final training label acc: 78.60%\n",
      "[Threshold 0.2] -> F1=0.7889 | Acc=0.7895\n",
      "[Threshold 0.3] -> F1=0.8146 | Acc=0.8158\n",
      "[Threshold 0.4] -> F1=0.8403 | Acc=0.8421\n",
      "[Threshold 0.5] -> F1=0.8125 | Acc=0.8158\n",
      "\n",
      "[Best Threshold] = 0.4 with F1=0.8403\n",
      "Final validation loss: 0.8167\n",
      "Final validation acc: 50.00%\n",
      "Final validation f1: 0.33%\n",
      "\n",
      "===== Fold 8/10 =====\n"
     ]
    },
    {
     "name": "stderr",
     "output_type": "stream",
     "text": [
      "/home/s.dharia-ra/miniconda3/envs/ml/lib/python3.10/site-packages/torch/nn/modules/transformer.py:379: UserWarning: enable_nested_tensor is True, but self.use_nested_tensor is False because encoder_layer.self_attn.num_heads is odd\n",
      "  warnings.warn(\n"
     ]
    },
    {
     "name": "stdout",
     "output_type": "stream",
     "text": [
      "Final training label acc: 71.67%\n",
      "[Threshold 0.2] -> F1=0.7368 | Acc=0.7368\n",
      "[Threshold 0.3] -> F1=0.7361 | Acc=0.7368\n",
      "[Threshold 0.4] -> F1=0.7339 | Acc=0.7368\n",
      "[Threshold 0.5] -> F1=0.7339 | Acc=0.7368\n",
      "\n",
      "[Best Threshold] = 0.2 with F1=0.7368\n",
      "Final validation loss: 0.6803\n",
      "Final validation acc: 50.00%\n",
      "Final validation f1: 0.33%\n",
      "\n",
      "===== Fold 9/10 =====\n"
     ]
    },
    {
     "name": "stderr",
     "output_type": "stream",
     "text": [
      "/home/s.dharia-ra/miniconda3/envs/ml/lib/python3.10/site-packages/torch/nn/modules/transformer.py:379: UserWarning: enable_nested_tensor is True, but self.use_nested_tensor is False because encoder_layer.self_attn.num_heads is odd\n",
      "  warnings.warn(\n"
     ]
    },
    {
     "name": "stdout",
     "output_type": "stream",
     "text": [
      "Final training label acc: 74.66%\n",
      "[Threshold 0.2] -> F1=0.7895 | Acc=0.7895\n",
      "[Threshold 0.3] -> F1=0.7889 | Acc=0.7895\n",
      "[Threshold 0.4] -> F1=0.8146 | Acc=0.8158\n",
      "[Threshold 0.5] -> F1=0.8125 | Acc=0.8158\n",
      "\n",
      "[Best Threshold] = 0.4 with F1=0.8146\n",
      "Final validation loss: 0.4328\n",
      "Final validation acc: 100.00%\n",
      "Final validation f1: 1.00%\n",
      "\n",
      "===== Fold 10/10 =====\n"
     ]
    },
    {
     "name": "stderr",
     "output_type": "stream",
     "text": [
      "/home/s.dharia-ra/miniconda3/envs/ml/lib/python3.10/site-packages/torch/nn/modules/transformer.py:379: UserWarning: enable_nested_tensor is True, but self.use_nested_tensor is False because encoder_layer.self_attn.num_heads is odd\n",
      "  warnings.warn(\n"
     ]
    },
    {
     "name": "stdout",
     "output_type": "stream",
     "text": [
      "Final training label acc: 73.28%\n",
      "[Threshold 0.2] -> F1=0.7087 | Acc=0.7105\n",
      "[Threshold 0.3] -> F1=0.7895 | Acc=0.7895\n",
      "[Threshold 0.4] -> F1=0.8403 | Acc=0.8421\n",
      "[Threshold 0.5] -> F1=0.8661 | Acc=0.8684\n",
      "\n",
      "[Best Threshold] = 0.5 with F1=0.8661\n",
      "Final validation loss: 0.5008\n",
      "Final validation acc: 75.00%\n",
      "Final validation f1: 0.73%\n",
      "\n",
      "=== Cross‐Val Results ===\n",
      "Accuracies per fold: [60.0, 40.0, 75.0, 25.0, 75.0, 100.0, 50.0, 50.0, 100.0, 75.0]\n",
      "Mean acc: 65.00%, Std: 23.35%\n",
      "Mean f1: 0.60%, Std: 0.27%\n",
      "\n",
      "===== Fold 1/10 =====\n"
     ]
    },
    {
     "name": "stderr",
     "output_type": "stream",
     "text": [
      "/home/s.dharia-ra/miniconda3/envs/ml/lib/python3.10/site-packages/torch/nn/modules/transformer.py:379: UserWarning: enable_nested_tensor is True, but self.use_nested_tensor is False because encoder_layer.self_attn.num_heads is odd\n",
      "  warnings.warn(\n"
     ]
    },
    {
     "name": "stdout",
     "output_type": "stream",
     "text": [
      "Final training label acc: 67.45%\n",
      "[Threshold 0.2] -> F1=0.7018 | Acc=0.7027\n",
      "[Threshold 0.3] -> F1=0.7295 | Acc=0.7297\n",
      "[Threshold 0.4] -> F1=0.7295 | Acc=0.7297\n",
      "[Threshold 0.5] -> F1=0.7027 | Acc=0.7027\n",
      "\n",
      "[Best Threshold] = 0.3 with F1=0.7295\n",
      "Final validation loss: 0.3784\n",
      "Final validation acc: 80.00%\n",
      "Final validation f1: 0.80%\n",
      "\n",
      "===== Fold 2/10 =====\n"
     ]
    },
    {
     "name": "stderr",
     "output_type": "stream",
     "text": [
      "/home/s.dharia-ra/miniconda3/envs/ml/lib/python3.10/site-packages/torch/nn/modules/transformer.py:379: UserWarning: enable_nested_tensor is True, but self.use_nested_tensor is False because encoder_layer.self_attn.num_heads is odd\n",
      "  warnings.warn(\n"
     ]
    },
    {
     "name": "stdout",
     "output_type": "stream",
     "text": [
      "Final training label acc: 76.34%\n",
      "[Threshold 0.2] -> F1=0.7279 | Acc=0.7297\n",
      "[Threshold 0.3] -> F1=0.7568 | Acc=0.7568\n",
      "[Threshold 0.4] -> F1=0.7836 | Acc=0.7838\n",
      "[Threshold 0.5] -> F1=0.8633 | Acc=0.8649\n",
      "\n",
      "[Best Threshold] = 0.5 with F1=0.8633\n",
      "Final validation loss: 0.3431\n",
      "Final validation acc: 100.00%\n",
      "Final validation f1: 1.00%\n",
      "\n",
      "===== Fold 3/10 =====\n"
     ]
    },
    {
     "name": "stderr",
     "output_type": "stream",
     "text": [
      "/home/s.dharia-ra/miniconda3/envs/ml/lib/python3.10/site-packages/torch/nn/modules/transformer.py:379: UserWarning: enable_nested_tensor is True, but self.use_nested_tensor is False because encoder_layer.self_attn.num_heads is odd\n",
      "  warnings.warn(\n"
     ]
    },
    {
     "name": "stdout",
     "output_type": "stream",
     "text": [
      "Final training label acc: 75.09%\n",
      "[Threshold 0.2] -> F1=0.7630 | Acc=0.7632\n",
      "[Threshold 0.3] -> F1=0.7889 | Acc=0.7895\n",
      "[Threshold 0.4] -> F1=0.8146 | Acc=0.8158\n",
      "[Threshold 0.5] -> F1=0.8403 | Acc=0.8421\n",
      "\n",
      "[Best Threshold] = 0.5 with F1=0.8403\n",
      "Final validation loss: 0.7780\n",
      "Final validation acc: 75.00%\n",
      "Final validation f1: 0.43%\n",
      "\n",
      "===== Fold 4/10 =====\n"
     ]
    },
    {
     "name": "stderr",
     "output_type": "stream",
     "text": [
      "/home/s.dharia-ra/miniconda3/envs/ml/lib/python3.10/site-packages/torch/nn/modules/transformer.py:379: UserWarning: enable_nested_tensor is True, but self.use_nested_tensor is False because encoder_layer.self_attn.num_heads is odd\n",
      "  warnings.warn(\n"
     ]
    },
    {
     "name": "stdout",
     "output_type": "stream",
     "text": [
      "Final training label acc: 79.39%\n",
      "[Threshold 0.2] -> F1=0.7871 | Acc=0.7895\n",
      "[Threshold 0.3] -> F1=0.7361 | Acc=0.7368\n",
      "[Threshold 0.4] -> F1=0.7630 | Acc=0.7632\n",
      "[Threshold 0.5] -> F1=0.8157 | Acc=0.8158\n",
      "\n",
      "[Best Threshold] = 0.5 with F1=0.8157\n",
      "Final validation loss: 1.6585\n",
      "Final validation acc: 50.00%\n",
      "Final validation f1: 0.33%\n",
      "\n",
      "===== Fold 5/10 =====\n"
     ]
    },
    {
     "name": "stderr",
     "output_type": "stream",
     "text": [
      "/home/s.dharia-ra/miniconda3/envs/ml/lib/python3.10/site-packages/torch/nn/modules/transformer.py:379: UserWarning: enable_nested_tensor is True, but self.use_nested_tensor is False because encoder_layer.self_attn.num_heads is odd\n",
      "  warnings.warn(\n"
     ]
    },
    {
     "name": "stdout",
     "output_type": "stream",
     "text": [
      "Final training label acc: 75.60%\n",
      "[Threshold 0.2] -> F1=0.7630 | Acc=0.7632\n",
      "[Threshold 0.3] -> F1=0.7895 | Acc=0.7895\n",
      "[Threshold 0.4] -> F1=0.7895 | Acc=0.7895\n",
      "[Threshold 0.5] -> F1=0.8157 | Acc=0.8158\n",
      "\n",
      "[Best Threshold] = 0.5 with F1=0.8157\n",
      "Final validation loss: 0.7448\n",
      "Final validation acc: 50.00%\n",
      "Final validation f1: 0.33%\n",
      "\n",
      "===== Fold 6/10 =====\n"
     ]
    },
    {
     "name": "stderr",
     "output_type": "stream",
     "text": [
      "/home/s.dharia-ra/miniconda3/envs/ml/lib/python3.10/site-packages/torch/nn/modules/transformer.py:379: UserWarning: enable_nested_tensor is True, but self.use_nested_tensor is False because encoder_layer.self_attn.num_heads is odd\n",
      "  warnings.warn(\n"
     ]
    },
    {
     "name": "stdout",
     "output_type": "stream",
     "text": [
      "Final training label acc: 70.89%\n",
      "[Threshold 0.2] -> F1=0.6833 | Acc=0.6842\n",
      "[Threshold 0.3] -> F1=0.7889 | Acc=0.7895\n",
      "[Threshold 0.4] -> F1=0.8403 | Acc=0.8421\n",
      "[Threshold 0.5] -> F1=0.8381 | Acc=0.8421\n",
      "\n",
      "[Best Threshold] = 0.4 with F1=0.8403\n",
      "Final validation loss: 0.5766\n",
      "Final validation acc: 75.00%\n",
      "Final validation f1: 0.73%\n",
      "\n",
      "===== Fold 7/10 =====\n"
     ]
    },
    {
     "name": "stderr",
     "output_type": "stream",
     "text": [
      "/home/s.dharia-ra/miniconda3/envs/ml/lib/python3.10/site-packages/torch/nn/modules/transformer.py:379: UserWarning: enable_nested_tensor is True, but self.use_nested_tensor is False because encoder_layer.self_attn.num_heads is odd\n",
      "  warnings.warn(\n"
     ]
    },
    {
     "name": "stdout",
     "output_type": "stream",
     "text": [
      "Final training label acc: 76.63%\n",
      "[Threshold 0.2] -> F1=0.7087 | Acc=0.7105\n",
      "[Threshold 0.3] -> F1=0.7368 | Acc=0.7368\n",
      "[Threshold 0.4] -> F1=0.8146 | Acc=0.8158\n",
      "[Threshold 0.5] -> F1=0.8146 | Acc=0.8158\n",
      "\n",
      "[Best Threshold] = 0.4 with F1=0.8146\n",
      "Final validation loss: 0.8218\n",
      "Final validation acc: 75.00%\n",
      "Final validation f1: 0.73%\n",
      "\n",
      "===== Fold 8/10 =====\n"
     ]
    },
    {
     "name": "stderr",
     "output_type": "stream",
     "text": [
      "/home/s.dharia-ra/miniconda3/envs/ml/lib/python3.10/site-packages/torch/nn/modules/transformer.py:379: UserWarning: enable_nested_tensor is True, but self.use_nested_tensor is False because encoder_layer.self_attn.num_heads is odd\n",
      "  warnings.warn(\n"
     ]
    },
    {
     "name": "stdout",
     "output_type": "stream",
     "text": [
      "Final training label acc: 75.86%\n",
      "[Threshold 0.2] -> F1=0.8157 | Acc=0.8158\n",
      "[Threshold 0.3] -> F1=0.8417 | Acc=0.8421\n",
      "[Threshold 0.4] -> F1=0.8146 | Acc=0.8158\n",
      "[Threshold 0.5] -> F1=0.9183 | Acc=0.9211\n",
      "\n",
      "[Best Threshold] = 0.5 with F1=0.9183\n",
      "Final validation loss: 1.4861\n",
      "Final validation acc: 0.00%\n",
      "Final validation f1: 0.00%\n",
      "\n",
      "===== Fold 9/10 =====\n"
     ]
    },
    {
     "name": "stderr",
     "output_type": "stream",
     "text": [
      "/home/s.dharia-ra/miniconda3/envs/ml/lib/python3.10/site-packages/torch/nn/modules/transformer.py:379: UserWarning: enable_nested_tensor is True, but self.use_nested_tensor is False because encoder_layer.self_attn.num_heads is odd\n",
      "  warnings.warn(\n"
     ]
    },
    {
     "name": "stdout",
     "output_type": "stream",
     "text": [
      "Final training label acc: 75.68%\n",
      "[Threshold 0.2] -> F1=0.7889 | Acc=0.7895\n",
      "[Threshold 0.3] -> F1=0.8403 | Acc=0.8421\n",
      "[Threshold 0.4] -> F1=0.8403 | Acc=0.8421\n",
      "[Threshold 0.5] -> F1=0.8403 | Acc=0.8421\n",
      "\n",
      "[Best Threshold] = 0.3 with F1=0.8403\n",
      "Final validation loss: 0.8552\n",
      "Final validation acc: 50.00%\n",
      "Final validation f1: 0.50%\n",
      "\n",
      "===== Fold 10/10 =====\n"
     ]
    },
    {
     "name": "stderr",
     "output_type": "stream",
     "text": [
      "/home/s.dharia-ra/miniconda3/envs/ml/lib/python3.10/site-packages/torch/nn/modules/transformer.py:379: UserWarning: enable_nested_tensor is True, but self.use_nested_tensor is False because encoder_layer.self_attn.num_heads is odd\n",
      "  warnings.warn(\n"
     ]
    },
    {
     "name": "stdout",
     "output_type": "stream",
     "text": [
      "Final training label acc: 73.45%\n",
      "[Threshold 0.2] -> F1=0.7368 | Acc=0.7368\n",
      "[Threshold 0.3] -> F1=0.7889 | Acc=0.7895\n",
      "[Threshold 0.4] -> F1=0.7889 | Acc=0.7895\n",
      "[Threshold 0.5] -> F1=0.7871 | Acc=0.7895\n",
      "\n",
      "[Best Threshold] = 0.3 with F1=0.7889\n",
      "Final validation loss: 0.5763\n",
      "Final validation acc: 100.00%\n",
      "Final validation f1: 1.00%\n",
      "\n",
      "=== Cross‐Val Results ===\n",
      "Accuracies per fold: [80.0, 100.0, 75.0, 50.0, 50.0, 75.0, 75.0, 0.0, 50.0, 100.0]\n",
      "Mean acc: 65.50%, Std: 28.06%\n",
      "Mean f1: 0.59%, Std: 0.31%\n",
      "\n",
      "===== Fold 1/10 =====\n"
     ]
    },
    {
     "name": "stderr",
     "output_type": "stream",
     "text": [
      "/home/s.dharia-ra/miniconda3/envs/ml/lib/python3.10/site-packages/torch/nn/modules/transformer.py:379: UserWarning: enable_nested_tensor is True, but self.use_nested_tensor is False because encoder_layer.self_attn.num_heads is odd\n",
      "  warnings.warn(\n"
     ]
    },
    {
     "name": "stdout",
     "output_type": "stream",
     "text": [
      "Final training label acc: 77.16%\n",
      "[Threshold 0.2] -> F1=0.7836 | Acc=0.7838\n",
      "[Threshold 0.3] -> F1=0.8912 | Acc=0.8919\n",
      "[Threshold 0.4] -> F1=0.8633 | Acc=0.8649\n",
      "[Threshold 0.5] -> F1=0.8899 | Acc=0.8919\n",
      "\n",
      "[Best Threshold] = 0.3 with F1=0.8912\n",
      "Final validation loss: 1.6131\n",
      "Final validation acc: 40.00%\n",
      "Final validation f1: 0.40%\n",
      "\n",
      "===== Fold 2/10 =====\n"
     ]
    },
    {
     "name": "stderr",
     "output_type": "stream",
     "text": [
      "/home/s.dharia-ra/miniconda3/envs/ml/lib/python3.10/site-packages/torch/nn/modules/transformer.py:379: UserWarning: enable_nested_tensor is True, but self.use_nested_tensor is False because encoder_layer.self_attn.num_heads is odd\n",
      "  warnings.warn(\n"
     ]
    },
    {
     "name": "stdout",
     "output_type": "stream",
     "text": [
      "Final training label acc: 78.96%\n",
      "[Threshold 0.2] -> F1=0.7836 | Acc=0.7838\n",
      "[Threshold 0.3] -> F1=0.8103 | Acc=0.8108\n",
      "[Threshold 0.4] -> F1=0.8368 | Acc=0.8378\n",
      "[Threshold 0.5] -> F1=0.8633 | Acc=0.8649\n",
      "\n",
      "[Best Threshold] = 0.5 with F1=0.8633\n",
      "Final validation loss: 0.5090\n",
      "Final validation acc: 40.00%\n",
      "Final validation f1: 0.40%\n",
      "\n",
      "===== Fold 3/10 =====\n"
     ]
    },
    {
     "name": "stderr",
     "output_type": "stream",
     "text": [
      "/home/s.dharia-ra/miniconda3/envs/ml/lib/python3.10/site-packages/torch/nn/modules/transformer.py:379: UserWarning: enable_nested_tensor is True, but self.use_nested_tensor is False because encoder_layer.self_attn.num_heads is odd\n",
      "  warnings.warn(\n"
     ]
    },
    {
     "name": "stdout",
     "output_type": "stream",
     "text": [
      "Final training label acc: 73.19%\n",
      "[Threshold 0.2] -> F1=0.7339 | Acc=0.7368\n",
      "[Threshold 0.3] -> F1=0.7889 | Acc=0.7895\n",
      "[Threshold 0.4] -> F1=0.7889 | Acc=0.7895\n",
      "[Threshold 0.5] -> F1=0.8157 | Acc=0.8158\n",
      "\n",
      "[Best Threshold] = 0.5 with F1=0.8157\n",
      "Final validation loss: 0.3995\n",
      "Final validation acc: 75.00%\n",
      "Final validation f1: 0.73%\n",
      "\n",
      "===== Fold 4/10 =====\n"
     ]
    },
    {
     "name": "stderr",
     "output_type": "stream",
     "text": [
      "/home/s.dharia-ra/miniconda3/envs/ml/lib/python3.10/site-packages/torch/nn/modules/transformer.py:379: UserWarning: enable_nested_tensor is True, but self.use_nested_tensor is False because encoder_layer.self_attn.num_heads is odd\n",
      "  warnings.warn(\n"
     ]
    },
    {
     "name": "stdout",
     "output_type": "stream",
     "text": [
      "Final training label acc: 75.27%\n",
      "[Threshold 0.2] -> F1=0.7630 | Acc=0.7632\n",
      "[Threshold 0.3] -> F1=0.7895 | Acc=0.7895\n",
      "[Threshold 0.4] -> F1=0.8157 | Acc=0.8158\n",
      "[Threshold 0.5] -> F1=0.7889 | Acc=0.7895\n",
      "\n",
      "[Best Threshold] = 0.4 with F1=0.8157\n",
      "Final validation loss: 0.9184\n",
      "Final validation acc: 50.00%\n",
      "Final validation f1: 0.33%\n",
      "\n",
      "===== Fold 5/10 =====\n"
     ]
    },
    {
     "name": "stderr",
     "output_type": "stream",
     "text": [
      "/home/s.dharia-ra/miniconda3/envs/ml/lib/python3.10/site-packages/torch/nn/modules/transformer.py:379: UserWarning: enable_nested_tensor is True, but self.use_nested_tensor is False because encoder_layer.self_attn.num_heads is odd\n",
      "  warnings.warn(\n"
     ]
    },
    {
     "name": "stdout",
     "output_type": "stream",
     "text": [
      "Final training label acc: 75.94%\n",
      "[Threshold 0.2] -> F1=0.7103 | Acc=0.7105\n",
      "[Threshold 0.3] -> F1=0.7368 | Acc=0.7368\n",
      "[Threshold 0.4] -> F1=0.7630 | Acc=0.7632\n",
      "[Threshold 0.5] -> F1=0.7617 | Acc=0.7632\n",
      "\n",
      "[Best Threshold] = 0.4 with F1=0.7630\n",
      "Final validation loss: 0.3607\n",
      "Final validation acc: 100.00%\n",
      "Final validation f1: 1.00%\n",
      "\n",
      "===== Fold 6/10 =====\n"
     ]
    },
    {
     "name": "stderr",
     "output_type": "stream",
     "text": [
      "/home/s.dharia-ra/miniconda3/envs/ml/lib/python3.10/site-packages/torch/nn/modules/transformer.py:379: UserWarning: enable_nested_tensor is True, but self.use_nested_tensor is False because encoder_layer.self_attn.num_heads is odd\n",
      "  warnings.warn(\n"
     ]
    },
    {
     "name": "stdout",
     "output_type": "stream",
     "text": [
      "Final training label acc: 77.32%\n",
      "[Threshold 0.2] -> F1=0.7087 | Acc=0.7105\n",
      "[Threshold 0.3] -> F1=0.7087 | Acc=0.7105\n",
      "[Threshold 0.4] -> F1=0.7895 | Acc=0.7895\n",
      "[Threshold 0.5] -> F1=0.7895 | Acc=0.7895\n",
      "\n",
      "[Best Threshold] = 0.4 with F1=0.7895\n",
      "Final validation loss: 1.5023\n",
      "Final validation acc: 50.00%\n",
      "Final validation f1: 0.50%\n",
      "\n",
      "===== Fold 7/10 =====\n"
     ]
    },
    {
     "name": "stderr",
     "output_type": "stream",
     "text": [
      "/home/s.dharia-ra/miniconda3/envs/ml/lib/python3.10/site-packages/torch/nn/modules/transformer.py:379: UserWarning: enable_nested_tensor is True, but self.use_nested_tensor is False because encoder_layer.self_attn.num_heads is odd\n",
      "  warnings.warn(\n"
     ]
    },
    {
     "name": "stdout",
     "output_type": "stream",
     "text": [
      "Final training label acc: 74.32%\n",
      "[Threshold 0.2] -> F1=0.7103 | Acc=0.7105\n",
      "[Threshold 0.3] -> F1=0.7368 | Acc=0.7368\n",
      "[Threshold 0.4] -> F1=0.7368 | Acc=0.7368\n",
      "[Threshold 0.5] -> F1=0.7617 | Acc=0.7632\n",
      "\n",
      "[Best Threshold] = 0.5 with F1=0.7617\n",
      "Final validation loss: 0.6042\n",
      "Final validation acc: 100.00%\n",
      "Final validation f1: 1.00%\n",
      "\n",
      "===== Fold 8/10 =====\n"
     ]
    },
    {
     "name": "stderr",
     "output_type": "stream",
     "text": [
      "/home/s.dharia-ra/miniconda3/envs/ml/lib/python3.10/site-packages/torch/nn/modules/transformer.py:379: UserWarning: enable_nested_tensor is True, but self.use_nested_tensor is False because encoder_layer.self_attn.num_heads is odd\n",
      "  warnings.warn(\n"
     ]
    },
    {
     "name": "stdout",
     "output_type": "stream",
     "text": [
      "Final training label acc: 74.49%\n",
      "[Threshold 0.2] -> F1=0.7103 | Acc=0.7105\n",
      "[Threshold 0.3] -> F1=0.7361 | Acc=0.7368\n",
      "[Threshold 0.4] -> F1=0.7548 | Acc=0.7632\n",
      "[Threshold 0.5] -> F1=0.7548 | Acc=0.7632\n",
      "\n",
      "[Best Threshold] = 0.4 with F1=0.7548\n",
      "Final validation loss: 0.7455\n",
      "Final validation acc: 75.00%\n",
      "Final validation f1: 0.73%\n",
      "\n",
      "===== Fold 9/10 =====\n"
     ]
    },
    {
     "name": "stderr",
     "output_type": "stream",
     "text": [
      "/home/s.dharia-ra/miniconda3/envs/ml/lib/python3.10/site-packages/torch/nn/modules/transformer.py:379: UserWarning: enable_nested_tensor is True, but self.use_nested_tensor is False because encoder_layer.self_attn.num_heads is odd\n",
      "  warnings.warn(\n"
     ]
    },
    {
     "name": "stdout",
     "output_type": "stream",
     "text": [
      "Final training label acc: 76.37%\n",
      "[Threshold 0.2] -> F1=0.7630 | Acc=0.7632\n",
      "[Threshold 0.3] -> F1=0.7630 | Acc=0.7632\n",
      "[Threshold 0.4] -> F1=0.7630 | Acc=0.7632\n",
      "[Threshold 0.5] -> F1=0.7889 | Acc=0.7895\n",
      "\n",
      "[Best Threshold] = 0.5 with F1=0.7889\n",
      "Final validation loss: 0.9887\n",
      "Final validation acc: 50.00%\n",
      "Final validation f1: 0.33%\n",
      "\n",
      "===== Fold 10/10 =====\n"
     ]
    },
    {
     "name": "stderr",
     "output_type": "stream",
     "text": [
      "/home/s.dharia-ra/miniconda3/envs/ml/lib/python3.10/site-packages/torch/nn/modules/transformer.py:379: UserWarning: enable_nested_tensor is True, but self.use_nested_tensor is False because encoder_layer.self_attn.num_heads is odd\n",
      "  warnings.warn(\n"
     ]
    },
    {
     "name": "stdout",
     "output_type": "stream",
     "text": [
      "Final training label acc: 71.80%\n",
      "[Threshold 0.2] -> F1=0.7368 | Acc=0.7368\n",
      "[Threshold 0.3] -> F1=0.7889 | Acc=0.7895\n",
      "[Threshold 0.4] -> F1=0.8125 | Acc=0.8158\n",
      "[Threshold 0.5] -> F1=0.8381 | Acc=0.8421\n",
      "\n",
      "[Best Threshold] = 0.5 with F1=0.8381\n",
      "Final validation loss: 0.2340\n",
      "Final validation acc: 100.00%\n",
      "Final validation f1: 1.00%\n",
      "\n",
      "=== Cross‐Val Results ===\n",
      "Accuracies per fold: [40.0, 40.0, 75.0, 50.0, 100.0, 50.0, 100.0, 75.0, 50.0, 100.0]\n",
      "Mean acc: 68.00%, Std: 23.90%\n",
      "Mean f1: 0.64%, Std: 0.27%\n",
      "\n",
      "===== Fold 1/10 =====\n"
     ]
    },
    {
     "name": "stderr",
     "output_type": "stream",
     "text": [
      "/home/s.dharia-ra/miniconda3/envs/ml/lib/python3.10/site-packages/torch/nn/modules/transformer.py:379: UserWarning: enable_nested_tensor is True, but self.use_nested_tensor is False because encoder_layer.self_attn.num_heads is odd\n",
      "  warnings.warn(\n"
     ]
    },
    {
     "name": "stdout",
     "output_type": "stream",
     "text": [
      "Final training label acc: 75.36%\n",
      "[Threshold 0.2] -> F1=0.7568 | Acc=0.7568\n",
      "[Threshold 0.3] -> F1=0.7836 | Acc=0.7838\n",
      "[Threshold 0.4] -> F1=0.8103 | Acc=0.8108\n",
      "[Threshold 0.5] -> F1=0.8368 | Acc=0.8378\n",
      "\n",
      "[Best Threshold] = 0.5 with F1=0.8368\n",
      "Final validation loss: 0.8968\n",
      "Final validation acc: 60.00%\n",
      "Final validation f1: 0.58%\n",
      "\n",
      "===== Fold 2/10 =====\n"
     ]
    },
    {
     "name": "stderr",
     "output_type": "stream",
     "text": [
      "/home/s.dharia-ra/miniconda3/envs/ml/lib/python3.10/site-packages/torch/nn/modules/transformer.py:379: UserWarning: enable_nested_tensor is True, but self.use_nested_tensor is False because encoder_layer.self_attn.num_heads is odd\n",
      "  warnings.warn(\n"
     ]
    },
    {
     "name": "stdout",
     "output_type": "stream",
     "text": [
      "Final training label acc: 74.91%\n",
      "[Threshold 0.2] -> F1=0.7836 | Acc=0.7838\n",
      "[Threshold 0.3] -> F1=0.8103 | Acc=0.8108\n",
      "[Threshold 0.4] -> F1=0.8368 | Acc=0.8378\n",
      "[Threshold 0.5] -> F1=0.8368 | Acc=0.8378\n",
      "\n",
      "[Best Threshold] = 0.4 with F1=0.8368\n",
      "Final validation loss: 0.4703\n",
      "Final validation acc: 80.00%\n",
      "Final validation f1: 0.80%\n",
      "\n",
      "===== Fold 3/10 =====\n"
     ]
    },
    {
     "name": "stderr",
     "output_type": "stream",
     "text": [
      "/home/s.dharia-ra/miniconda3/envs/ml/lib/python3.10/site-packages/torch/nn/modules/transformer.py:379: UserWarning: enable_nested_tensor is True, but self.use_nested_tensor is False because encoder_layer.self_attn.num_heads is odd\n",
      "  warnings.warn(\n"
     ]
    },
    {
     "name": "stdout",
     "output_type": "stream",
     "text": [
      "Final training label acc: 76.62%\n",
      "[Threshold 0.2] -> F1=0.7087 | Acc=0.7105\n",
      "[Threshold 0.3] -> F1=0.7630 | Acc=0.7632\n",
      "[Threshold 0.4] -> F1=0.7895 | Acc=0.7895\n",
      "[Threshold 0.5] -> F1=0.8157 | Acc=0.8158\n",
      "\n",
      "[Best Threshold] = 0.5 with F1=0.8157\n",
      "Final validation loss: 0.4239\n",
      "Final validation acc: 75.00%\n",
      "Final validation f1: 0.73%\n",
      "\n",
      "===== Fold 4/10 =====\n"
     ]
    },
    {
     "name": "stderr",
     "output_type": "stream",
     "text": [
      "/home/s.dharia-ra/miniconda3/envs/ml/lib/python3.10/site-packages/torch/nn/modules/transformer.py:379: UserWarning: enable_nested_tensor is True, but self.use_nested_tensor is False because encoder_layer.self_attn.num_heads is odd\n",
      "  warnings.warn(\n"
     ]
    },
    {
     "name": "stdout",
     "output_type": "stream",
     "text": [
      "Final training label acc: 78.57%\n",
      "[Threshold 0.2] -> F1=0.7617 | Acc=0.7632\n",
      "[Threshold 0.3] -> F1=0.8157 | Acc=0.8158\n",
      "[Threshold 0.4] -> F1=0.8421 | Acc=0.8421\n",
      "[Threshold 0.5] -> F1=0.8676 | Acc=0.8684\n",
      "\n",
      "[Best Threshold] = 0.5 with F1=0.8676\n",
      "Final validation loss: 1.1615\n",
      "Final validation acc: 75.00%\n",
      "Final validation f1: 0.43%\n",
      "\n",
      "===== Fold 5/10 =====\n"
     ]
    },
    {
     "name": "stderr",
     "output_type": "stream",
     "text": [
      "/home/s.dharia-ra/miniconda3/envs/ml/lib/python3.10/site-packages/torch/nn/modules/transformer.py:379: UserWarning: enable_nested_tensor is True, but self.use_nested_tensor is False because encoder_layer.self_attn.num_heads is odd\n",
      "  warnings.warn(\n"
     ]
    },
    {
     "name": "stdout",
     "output_type": "stream",
     "text": [
      "Final training label acc: 74.57%\n",
      "[Threshold 0.2] -> F1=0.7087 | Acc=0.7105\n",
      "[Threshold 0.3] -> F1=0.7103 | Acc=0.7105\n",
      "[Threshold 0.4] -> F1=0.7630 | Acc=0.7632\n",
      "[Threshold 0.5] -> F1=0.7630 | Acc=0.7632\n",
      "\n",
      "[Best Threshold] = 0.4 with F1=0.7630\n",
      "Final validation loss: 0.8054\n",
      "Final validation acc: 50.00%\n",
      "Final validation f1: 0.33%\n",
      "\n",
      "===== Fold 6/10 =====\n"
     ]
    },
    {
     "name": "stderr",
     "output_type": "stream",
     "text": [
      "/home/s.dharia-ra/miniconda3/envs/ml/lib/python3.10/site-packages/torch/nn/modules/transformer.py:379: UserWarning: enable_nested_tensor is True, but self.use_nested_tensor is False because encoder_layer.self_attn.num_heads is odd\n",
      "  warnings.warn(\n"
     ]
    },
    {
     "name": "stdout",
     "output_type": "stream",
     "text": [
      "Final training label acc: 80.07%\n",
      "[Threshold 0.2] -> F1=0.7630 | Acc=0.7632\n",
      "[Threshold 0.3] -> F1=0.8157 | Acc=0.8158\n",
      "[Threshold 0.4] -> F1=0.8936 | Acc=0.8947\n",
      "[Threshold 0.5] -> F1=0.8936 | Acc=0.8947\n",
      "\n",
      "[Best Threshold] = 0.4 with F1=0.8936\n",
      "Final validation loss: 1.4893\n",
      "Final validation acc: 50.00%\n",
      "Final validation f1: 0.50%\n",
      "\n",
      "===== Fold 7/10 =====\n"
     ]
    },
    {
     "name": "stderr",
     "output_type": "stream",
     "text": [
      "/home/s.dharia-ra/miniconda3/envs/ml/lib/python3.10/site-packages/torch/nn/modules/transformer.py:379: UserWarning: enable_nested_tensor is True, but self.use_nested_tensor is False because encoder_layer.self_attn.num_heads is odd\n",
      "  warnings.warn(\n"
     ]
    },
    {
     "name": "stdout",
     "output_type": "stream",
     "text": [
      "Final training label acc: 76.29%\n",
      "[Threshold 0.2] -> F1=0.7103 | Acc=0.7105\n",
      "[Threshold 0.3] -> F1=0.7368 | Acc=0.7368\n",
      "[Threshold 0.4] -> F1=0.7889 | Acc=0.7895\n",
      "[Threshold 0.5] -> F1=0.8146 | Acc=0.8158\n",
      "\n",
      "[Best Threshold] = 0.5 with F1=0.8146\n",
      "Final validation loss: 0.6204\n",
      "Final validation acc: 75.00%\n",
      "Final validation f1: 0.73%\n",
      "\n",
      "===== Fold 8/10 =====\n"
     ]
    },
    {
     "name": "stderr",
     "output_type": "stream",
     "text": [
      "/home/s.dharia-ra/miniconda3/envs/ml/lib/python3.10/site-packages/torch/nn/modules/transformer.py:379: UserWarning: enable_nested_tensor is True, but self.use_nested_tensor is False because encoder_layer.self_attn.num_heads is odd\n",
      "  warnings.warn(\n"
     ]
    },
    {
     "name": "stdout",
     "output_type": "stream",
     "text": [
      "Final training label acc: 76.71%\n",
      "[Threshold 0.2] -> F1=0.7103 | Acc=0.7105\n",
      "[Threshold 0.3] -> F1=0.7889 | Acc=0.7895\n",
      "[Threshold 0.4] -> F1=0.8146 | Acc=0.8158\n",
      "[Threshold 0.5] -> F1=0.8146 | Acc=0.8158\n",
      "\n",
      "[Best Threshold] = 0.4 with F1=0.8146\n",
      "Final validation loss: 0.6532\n",
      "Final validation acc: 50.00%\n",
      "Final validation f1: 0.50%\n",
      "\n",
      "===== Fold 9/10 =====\n"
     ]
    },
    {
     "name": "stderr",
     "output_type": "stream",
     "text": [
      "/home/s.dharia-ra/miniconda3/envs/ml/lib/python3.10/site-packages/torch/nn/modules/transformer.py:379: UserWarning: enable_nested_tensor is True, but self.use_nested_tensor is False because encoder_layer.self_attn.num_heads is odd\n",
      "  warnings.warn(\n"
     ]
    },
    {
     "name": "stdout",
     "output_type": "stream",
     "text": [
      "Final training label acc: 70.69%\n",
      "[Threshold 0.2] -> F1=0.7368 | Acc=0.7368\n",
      "[Threshold 0.3] -> F1=0.7630 | Acc=0.7632\n",
      "[Threshold 0.4] -> F1=0.7617 | Acc=0.7632\n",
      "[Threshold 0.5] -> F1=0.7617 | Acc=0.7632\n",
      "\n",
      "[Best Threshold] = 0.3 with F1=0.7630\n",
      "Final validation loss: 0.4082\n",
      "Final validation acc: 100.00%\n",
      "Final validation f1: 1.00%\n",
      "\n",
      "===== Fold 10/10 =====\n"
     ]
    },
    {
     "name": "stderr",
     "output_type": "stream",
     "text": [
      "/home/s.dharia-ra/miniconda3/envs/ml/lib/python3.10/site-packages/torch/nn/modules/transformer.py:379: UserWarning: enable_nested_tensor is True, but self.use_nested_tensor is False because encoder_layer.self_attn.num_heads is odd\n",
      "  warnings.warn(\n"
     ]
    },
    {
     "name": "stdout",
     "output_type": "stream",
     "text": [
      "Final training label acc: 77.40%\n",
      "[Threshold 0.2] -> F1=0.7617 | Acc=0.7632\n",
      "[Threshold 0.3] -> F1=0.8125 | Acc=0.8158\n",
      "[Threshold 0.4] -> F1=0.8381 | Acc=0.8421\n",
      "[Threshold 0.5] -> F1=0.8381 | Acc=0.8421\n",
      "\n",
      "[Best Threshold] = 0.4 with F1=0.8381\n",
      "Final validation loss: 0.8762\n",
      "Final validation acc: 50.00%\n",
      "Final validation f1: 0.33%\n",
      "\n",
      "=== Cross‐Val Results ===\n",
      "Accuracies per fold: [60.0, 80.0, 75.0, 75.0, 50.0, 50.0, 75.0, 50.0, 100.0, 50.0]\n",
      "Mean acc: 66.50%, Std: 16.29%\n",
      "Mean f1: 0.59%, Std: 0.21%\n",
      "\n",
      "===== Fold 1/10 =====\n"
     ]
    },
    {
     "name": "stderr",
     "output_type": "stream",
     "text": [
      "/home/s.dharia-ra/miniconda3/envs/ml/lib/python3.10/site-packages/torch/nn/modules/transformer.py:379: UserWarning: enable_nested_tensor is True, but self.use_nested_tensor is False because encoder_layer.self_attn.num_heads is odd\n",
      "  warnings.warn(\n"
     ]
    },
    {
     "name": "stdout",
     "output_type": "stream",
     "text": [
      "Final training label acc: 75.45%\n",
      "[Threshold 0.2] -> F1=0.7279 | Acc=0.7297\n",
      "[Threshold 0.3] -> F1=0.7560 | Acc=0.7568\n",
      "[Threshold 0.4] -> F1=0.8912 | Acc=0.8919\n",
      "[Threshold 0.5] -> F1=0.8912 | Acc=0.8919\n",
      "\n",
      "[Best Threshold] = 0.4 with F1=0.8912\n",
      "Final validation loss: 0.4495\n",
      "Final validation acc: 100.00%\n",
      "Final validation f1: 1.00%\n",
      "\n",
      "===== Fold 2/10 =====\n"
     ]
    },
    {
     "name": "stderr",
     "output_type": "stream",
     "text": [
      "/home/s.dharia-ra/miniconda3/envs/ml/lib/python3.10/site-packages/torch/nn/modules/transformer.py:379: UserWarning: enable_nested_tensor is True, but self.use_nested_tensor is False because encoder_layer.self_attn.num_heads is odd\n",
      "  warnings.warn(\n"
     ]
    },
    {
     "name": "stdout",
     "output_type": "stream",
     "text": [
      "Final training label acc: 78.24%\n",
      "[Threshold 0.2] -> F1=0.7836 | Acc=0.7838\n",
      "[Threshold 0.3] -> F1=0.8377 | Acc=0.8378\n",
      "[Threshold 0.4] -> F1=0.8377 | Acc=0.8378\n",
      "[Threshold 0.5] -> F1=0.8912 | Acc=0.8919\n",
      "\n",
      "[Best Threshold] = 0.5 with F1=0.8912\n",
      "Final validation loss: 1.5833\n",
      "Final validation acc: 40.00%\n",
      "Final validation f1: 0.40%\n",
      "\n",
      "===== Fold 3/10 =====\n"
     ]
    },
    {
     "name": "stderr",
     "output_type": "stream",
     "text": [
      "/home/s.dharia-ra/miniconda3/envs/ml/lib/python3.10/site-packages/torch/nn/modules/transformer.py:379: UserWarning: enable_nested_tensor is True, but self.use_nested_tensor is False because encoder_layer.self_attn.num_heads is odd\n",
      "  warnings.warn(\n"
     ]
    },
    {
     "name": "stdout",
     "output_type": "stream",
     "text": [
      "Final training label acc: 76.34%\n",
      "[Threshold 0.2] -> F1=0.7361 | Acc=0.7368\n",
      "[Threshold 0.3] -> F1=0.7895 | Acc=0.7895\n",
      "[Threshold 0.4] -> F1=0.8676 | Acc=0.8684\n",
      "[Threshold 0.5] -> F1=0.8676 | Acc=0.8684\n",
      "\n",
      "[Best Threshold] = 0.4 with F1=0.8676\n",
      "Final validation loss: 0.6216\n",
      "Final validation acc: 50.00%\n",
      "Final validation f1: 0.50%\n",
      "\n",
      "===== Fold 4/10 =====\n"
     ]
    },
    {
     "name": "stderr",
     "output_type": "stream",
     "text": [
      "/home/s.dharia-ra/miniconda3/envs/ml/lib/python3.10/site-packages/torch/nn/modules/transformer.py:379: UserWarning: enable_nested_tensor is True, but self.use_nested_tensor is False because encoder_layer.self_attn.num_heads is odd\n",
      "  warnings.warn(\n"
     ]
    },
    {
     "name": "stdout",
     "output_type": "stream",
     "text": [
      "Final training label acc: 74.91%\n",
      "[Threshold 0.2] -> F1=0.7630 | Acc=0.7632\n",
      "[Threshold 0.3] -> F1=0.7895 | Acc=0.7895\n",
      "[Threshold 0.4] -> F1=0.7889 | Acc=0.7895\n",
      "[Threshold 0.5] -> F1=0.7889 | Acc=0.7895\n",
      "\n",
      "[Best Threshold] = 0.3 with F1=0.7895\n",
      "Final validation loss: 0.4728\n",
      "Final validation acc: 50.00%\n",
      "Final validation f1: 0.33%\n",
      "\n",
      "===== Fold 5/10 =====\n"
     ]
    },
    {
     "name": "stderr",
     "output_type": "stream",
     "text": [
      "/home/s.dharia-ra/miniconda3/envs/ml/lib/python3.10/site-packages/torch/nn/modules/transformer.py:379: UserWarning: enable_nested_tensor is True, but self.use_nested_tensor is False because encoder_layer.self_attn.num_heads is odd\n",
      "  warnings.warn(\n"
     ]
    },
    {
     "name": "stdout",
     "output_type": "stream",
     "text": [
      "Final training label acc: 76.36%\n",
      "[Threshold 0.2] -> F1=0.7630 | Acc=0.7632\n",
      "[Threshold 0.3] -> F1=0.7889 | Acc=0.7895\n",
      "[Threshold 0.4] -> F1=0.8146 | Acc=0.8158\n",
      "[Threshold 0.5] -> F1=0.8146 | Acc=0.8158\n",
      "\n",
      "[Best Threshold] = 0.4 with F1=0.8146\n",
      "Final validation loss: 0.5043\n",
      "Final validation acc: 75.00%\n",
      "Final validation f1: 0.73%\n",
      "\n",
      "===== Fold 6/10 =====\n"
     ]
    },
    {
     "name": "stderr",
     "output_type": "stream",
     "text": [
      "/home/s.dharia-ra/miniconda3/envs/ml/lib/python3.10/site-packages/torch/nn/modules/transformer.py:379: UserWarning: enable_nested_tensor is True, but self.use_nested_tensor is False because encoder_layer.self_attn.num_heads is odd\n",
      "  warnings.warn(\n"
     ]
    },
    {
     "name": "stdout",
     "output_type": "stream",
     "text": [
      "Final training label acc: 74.83%\n",
      "[Threshold 0.2] -> F1=0.7368 | Acc=0.7368\n",
      "[Threshold 0.3] -> F1=0.7889 | Acc=0.7895\n",
      "[Threshold 0.4] -> F1=0.8661 | Acc=0.8684\n",
      "[Threshold 0.5] -> F1=0.8381 | Acc=0.8421\n",
      "\n",
      "[Best Threshold] = 0.4 with F1=0.8661\n",
      "Final validation loss: 0.9540\n",
      "Final validation acc: 50.00%\n",
      "Final validation f1: 0.50%\n",
      "\n",
      "===== Fold 7/10 =====\n"
     ]
    },
    {
     "name": "stderr",
     "output_type": "stream",
     "text": [
      "/home/s.dharia-ra/miniconda3/envs/ml/lib/python3.10/site-packages/torch/nn/modules/transformer.py:379: UserWarning: enable_nested_tensor is True, but self.use_nested_tensor is False because encoder_layer.self_attn.num_heads is odd\n",
      "  warnings.warn(\n"
     ]
    },
    {
     "name": "stdout",
     "output_type": "stream",
     "text": [
      "Final training label acc: 75.61%\n",
      "[Threshold 0.2] -> F1=0.7895 | Acc=0.7895\n",
      "[Threshold 0.3] -> F1=0.7895 | Acc=0.7895\n",
      "[Threshold 0.4] -> F1=0.8936 | Acc=0.8947\n",
      "[Threshold 0.5] -> F1=0.9197 | Acc=0.9211\n",
      "\n",
      "[Best Threshold] = 0.5 with F1=0.9197\n",
      "Final validation loss: 0.5521\n",
      "Final validation acc: 75.00%\n",
      "Final validation f1: 0.73%\n",
      "\n",
      "===== Fold 8/10 =====\n"
     ]
    },
    {
     "name": "stderr",
     "output_type": "stream",
     "text": [
      "/home/s.dharia-ra/miniconda3/envs/ml/lib/python3.10/site-packages/torch/nn/modules/transformer.py:379: UserWarning: enable_nested_tensor is True, but self.use_nested_tensor is False because encoder_layer.self_attn.num_heads is odd\n",
      "  warnings.warn(\n"
     ]
    },
    {
     "name": "stdout",
     "output_type": "stream",
     "text": [
      "Final training label acc: 72.45%\n",
      "[Threshold 0.2] -> F1=0.7103 | Acc=0.7105\n",
      "[Threshold 0.3] -> F1=0.7368 | Acc=0.7368\n",
      "[Threshold 0.4] -> F1=0.7630 | Acc=0.7632\n",
      "[Threshold 0.5] -> F1=0.7630 | Acc=0.7632\n",
      "\n",
      "[Best Threshold] = 0.4 with F1=0.7630\n",
      "Final validation loss: 0.5966\n",
      "Final validation acc: 75.00%\n",
      "Final validation f1: 0.73%\n",
      "\n",
      "===== Fold 9/10 =====\n"
     ]
    },
    {
     "name": "stderr",
     "output_type": "stream",
     "text": [
      "/home/s.dharia-ra/miniconda3/envs/ml/lib/python3.10/site-packages/torch/nn/modules/transformer.py:379: UserWarning: enable_nested_tensor is True, but self.use_nested_tensor is False because encoder_layer.self_attn.num_heads is odd\n",
      "  warnings.warn(\n"
     ]
    },
    {
     "name": "stdout",
     "output_type": "stream",
     "text": [
      "Final training label acc: 76.22%\n",
      "[Threshold 0.2] -> F1=0.7087 | Acc=0.7105\n",
      "[Threshold 0.3] -> F1=0.7630 | Acc=0.7632\n",
      "[Threshold 0.4] -> F1=0.8157 | Acc=0.8158\n",
      "[Threshold 0.5] -> F1=0.8417 | Acc=0.8421\n",
      "\n",
      "[Best Threshold] = 0.5 with F1=0.8417\n",
      "Final validation loss: 1.1064\n",
      "Final validation acc: 50.00%\n",
      "Final validation f1: 0.33%\n",
      "\n",
      "===== Fold 10/10 =====\n"
     ]
    },
    {
     "name": "stderr",
     "output_type": "stream",
     "text": [
      "/home/s.dharia-ra/miniconda3/envs/ml/lib/python3.10/site-packages/torch/nn/modules/transformer.py:379: UserWarning: enable_nested_tensor is True, but self.use_nested_tensor is False because encoder_layer.self_attn.num_heads is odd\n",
      "  warnings.warn(\n"
     ]
    },
    {
     "name": "stdout",
     "output_type": "stream",
     "text": [
      "Final training label acc: 75.86%\n",
      "[Threshold 0.2] -> F1=0.7361 | Acc=0.7368\n",
      "[Threshold 0.3] -> F1=0.8157 | Acc=0.8158\n",
      "[Threshold 0.4] -> F1=0.8417 | Acc=0.8421\n",
      "[Threshold 0.5] -> F1=0.8403 | Acc=0.8421\n",
      "\n",
      "[Best Threshold] = 0.4 with F1=0.8417\n",
      "Final validation loss: 0.8739\n",
      "Final validation acc: 50.00%\n",
      "Final validation f1: 0.50%\n",
      "\n",
      "=== Cross‐Val Results ===\n",
      "Accuracies per fold: [100.0, 40.0, 50.0, 50.0, 75.0, 50.0, 75.0, 75.0, 50.0, 50.0]\n",
      "Mean acc: 61.50%, Std: 17.76%\n",
      "Mean f1: 0.58%, Std: 0.20%\n",
      "\n",
      "===== Fold 1/10 =====\n"
     ]
    },
    {
     "name": "stderr",
     "output_type": "stream",
     "text": [
      "/home/s.dharia-ra/miniconda3/envs/ml/lib/python3.10/site-packages/torch/nn/modules/transformer.py:379: UserWarning: enable_nested_tensor is True, but self.use_nested_tensor is False because encoder_layer.self_attn.num_heads is odd\n",
      "  warnings.warn(\n"
     ]
    },
    {
     "name": "stdout",
     "output_type": "stream",
     "text": [
      "Final training label acc: 69.60%\n",
      "[Threshold 0.2] -> F1=0.6992 | Acc=0.7027\n",
      "[Threshold 0.3] -> F1=0.6992 | Acc=0.7027\n",
      "[Threshold 0.4] -> F1=0.7279 | Acc=0.7297\n",
      "[Threshold 0.5] -> F1=0.8108 | Acc=0.8108\n",
      "\n",
      "[Best Threshold] = 0.5 with F1=0.8108\n",
      "Final validation loss: 0.3537\n",
      "Final validation acc: 80.00%\n",
      "Final validation f1: 0.80%\n",
      "\n",
      "===== Fold 2/10 =====\n"
     ]
    },
    {
     "name": "stderr",
     "output_type": "stream",
     "text": [
      "/home/s.dharia-ra/miniconda3/envs/ml/lib/python3.10/site-packages/torch/nn/modules/transformer.py:379: UserWarning: enable_nested_tensor is True, but self.use_nested_tensor is False because encoder_layer.self_attn.num_heads is odd\n",
      "  warnings.warn(\n"
     ]
    },
    {
     "name": "stdout",
     "output_type": "stream",
     "text": [
      "Final training label acc: 76.98%\n",
      "[Threshold 0.2] -> F1=0.7836 | Acc=0.7838\n",
      "[Threshold 0.3] -> F1=0.7568 | Acc=0.7568\n",
      "[Threshold 0.4] -> F1=0.7836 | Acc=0.7838\n",
      "[Threshold 0.5] -> F1=0.8103 | Acc=0.8108\n",
      "\n",
      "[Best Threshold] = 0.5 with F1=0.8103\n",
      "Final validation loss: 0.5680\n",
      "Final validation acc: 40.00%\n",
      "Final validation f1: 0.40%\n",
      "\n",
      "===== Fold 3/10 =====\n"
     ]
    },
    {
     "name": "stderr",
     "output_type": "stream",
     "text": [
      "/home/s.dharia-ra/miniconda3/envs/ml/lib/python3.10/site-packages/torch/nn/modules/transformer.py:379: UserWarning: enable_nested_tensor is True, but self.use_nested_tensor is False because encoder_layer.self_attn.num_heads is odd\n",
      "  warnings.warn(\n"
     ]
    },
    {
     "name": "stdout",
     "output_type": "stream",
     "text": [
      "Final training label acc: 78.14%\n",
      "[Threshold 0.2] -> F1=0.7630 | Acc=0.7632\n",
      "[Threshold 0.3] -> F1=0.7895 | Acc=0.7895\n",
      "[Threshold 0.4] -> F1=0.7895 | Acc=0.7895\n",
      "[Threshold 0.5] -> F1=0.8157 | Acc=0.8158\n",
      "\n",
      "[Best Threshold] = 0.5 with F1=0.8157\n",
      "Final validation loss: 1.0322\n",
      "Final validation acc: 50.00%\n",
      "Final validation f1: 0.50%\n",
      "\n",
      "===== Fold 4/10 =====\n"
     ]
    },
    {
     "name": "stderr",
     "output_type": "stream",
     "text": [
      "/home/s.dharia-ra/miniconda3/envs/ml/lib/python3.10/site-packages/torch/nn/modules/transformer.py:379: UserWarning: enable_nested_tensor is True, but self.use_nested_tensor is False because encoder_layer.self_attn.num_heads is odd\n",
      "  warnings.warn(\n"
     ]
    },
    {
     "name": "stdout",
     "output_type": "stream",
     "text": [
      "Final training label acc: 75.27%\n",
      "[Threshold 0.2] -> F1=0.7339 | Acc=0.7368\n",
      "[Threshold 0.3] -> F1=0.8157 | Acc=0.8158\n",
      "[Threshold 0.4] -> F1=0.8157 | Acc=0.8158\n",
      "[Threshold 0.5] -> F1=0.8417 | Acc=0.8421\n",
      "\n",
      "[Best Threshold] = 0.5 with F1=0.8417\n",
      "Final validation loss: 1.0435\n",
      "Final validation acc: 75.00%\n",
      "Final validation f1: 0.43%\n",
      "\n",
      "===== Fold 5/10 =====\n"
     ]
    },
    {
     "name": "stderr",
     "output_type": "stream",
     "text": [
      "/home/s.dharia-ra/miniconda3/envs/ml/lib/python3.10/site-packages/torch/nn/modules/transformer.py:379: UserWarning: enable_nested_tensor is True, but self.use_nested_tensor is False because encoder_layer.self_attn.num_heads is odd\n",
      "  warnings.warn(\n"
     ]
    },
    {
     "name": "stdout",
     "output_type": "stream",
     "text": [
      "Final training label acc: 76.98%\n",
      "[Threshold 0.2] -> F1=0.7361 | Acc=0.7368\n",
      "[Threshold 0.3] -> F1=0.7361 | Acc=0.7368\n",
      "[Threshold 0.4] -> F1=0.7361 | Acc=0.7368\n",
      "[Threshold 0.5] -> F1=0.7630 | Acc=0.7632\n",
      "\n",
      "[Best Threshold] = 0.5 with F1=0.7630\n",
      "Final validation loss: 1.6056\n",
      "Final validation acc: 25.00%\n",
      "Final validation f1: 0.20%\n",
      "\n",
      "===== Fold 6/10 =====\n"
     ]
    },
    {
     "name": "stderr",
     "output_type": "stream",
     "text": [
      "/home/s.dharia-ra/miniconda3/envs/ml/lib/python3.10/site-packages/torch/nn/modules/transformer.py:379: UserWarning: enable_nested_tensor is True, but self.use_nested_tensor is False because encoder_layer.self_attn.num_heads is odd\n",
      "  warnings.warn(\n"
     ]
    },
    {
     "name": "stdout",
     "output_type": "stream",
     "text": [
      "Final training label acc: 75.00%\n",
      "[Threshold 0.2] -> F1=0.7361 | Acc=0.7368\n",
      "[Threshold 0.3] -> F1=0.7895 | Acc=0.7895\n",
      "[Threshold 0.4] -> F1=0.8403 | Acc=0.8421\n",
      "[Threshold 0.5] -> F1=0.8403 | Acc=0.8421\n",
      "\n",
      "[Best Threshold] = 0.4 with F1=0.8403\n",
      "Final validation loss: 0.7521\n",
      "Final validation acc: 50.00%\n",
      "Final validation f1: 0.50%\n",
      "\n",
      "===== Fold 7/10 =====\n"
     ]
    },
    {
     "name": "stderr",
     "output_type": "stream",
     "text": [
      "/home/s.dharia-ra/miniconda3/envs/ml/lib/python3.10/site-packages/torch/nn/modules/transformer.py:379: UserWarning: enable_nested_tensor is True, but self.use_nested_tensor is False because encoder_layer.self_attn.num_heads is odd\n",
      "  warnings.warn(\n"
     ]
    },
    {
     "name": "stdout",
     "output_type": "stream",
     "text": [
      "Final training label acc: 72.26%\n",
      "[Threshold 0.2] -> F1=0.7103 | Acc=0.7105\n",
      "[Threshold 0.3] -> F1=0.7630 | Acc=0.7632\n",
      "[Threshold 0.4] -> F1=0.7889 | Acc=0.7895\n",
      "[Threshold 0.5] -> F1=0.7339 | Acc=0.7368\n",
      "\n",
      "[Best Threshold] = 0.4 with F1=0.7889\n",
      "Final validation loss: 0.4409\n",
      "Final validation acc: 100.00%\n",
      "Final validation f1: 1.00%\n",
      "\n",
      "===== Fold 8/10 =====\n"
     ]
    },
    {
     "name": "stderr",
     "output_type": "stream",
     "text": [
      "/home/s.dharia-ra/miniconda3/envs/ml/lib/python3.10/site-packages/torch/nn/modules/transformer.py:379: UserWarning: enable_nested_tensor is True, but self.use_nested_tensor is False because encoder_layer.self_attn.num_heads is odd\n",
      "  warnings.warn(\n"
     ]
    },
    {
     "name": "stdout",
     "output_type": "stream",
     "text": [
      "Final training label acc: 77.23%\n",
      "[Threshold 0.2] -> F1=0.7361 | Acc=0.7368\n",
      "[Threshold 0.3] -> F1=0.8157 | Acc=0.8158\n",
      "[Threshold 0.4] -> F1=0.8676 | Acc=0.8684\n",
      "[Threshold 0.5] -> F1=0.8936 | Acc=0.8947\n",
      "\n",
      "[Best Threshold] = 0.5 with F1=0.8936\n",
      "Final validation loss: 0.3454\n",
      "Final validation acc: 100.00%\n",
      "Final validation f1: 1.00%\n",
      "\n",
      "===== Fold 9/10 =====\n"
     ]
    },
    {
     "name": "stderr",
     "output_type": "stream",
     "text": [
      "/home/s.dharia-ra/miniconda3/envs/ml/lib/python3.10/site-packages/torch/nn/modules/transformer.py:379: UserWarning: enable_nested_tensor is True, but self.use_nested_tensor is False because encoder_layer.self_attn.num_heads is odd\n",
      "  warnings.warn(\n"
     ]
    },
    {
     "name": "stdout",
     "output_type": "stream",
     "text": [
      "Final training label acc: 74.83%\n",
      "[Threshold 0.2] -> F1=0.8157 | Acc=0.8158\n",
      "[Threshold 0.3] -> F1=0.8157 | Acc=0.8158\n",
      "[Threshold 0.4] -> F1=0.8403 | Acc=0.8421\n",
      "[Threshold 0.5] -> F1=0.8403 | Acc=0.8421\n",
      "\n",
      "[Best Threshold] = 0.4 with F1=0.8403\n",
      "Final validation loss: 0.6909\n",
      "Final validation acc: 75.00%\n",
      "Final validation f1: 0.73%\n",
      "\n",
      "===== Fold 10/10 =====\n"
     ]
    },
    {
     "name": "stderr",
     "output_type": "stream",
     "text": [
      "/home/s.dharia-ra/miniconda3/envs/ml/lib/python3.10/site-packages/torch/nn/modules/transformer.py:379: UserWarning: enable_nested_tensor is True, but self.use_nested_tensor is False because encoder_layer.self_attn.num_heads is odd\n",
      "  warnings.warn(\n"
     ]
    },
    {
     "name": "stdout",
     "output_type": "stream",
     "text": [
      "Final training label acc: 76.79%\n",
      "[Threshold 0.2] -> F1=0.7889 | Acc=0.7895\n",
      "[Threshold 0.3] -> F1=0.8146 | Acc=0.8158\n",
      "[Threshold 0.4] -> F1=0.8661 | Acc=0.8684\n",
      "[Threshold 0.5] -> F1=0.8661 | Acc=0.8684\n",
      "\n",
      "[Best Threshold] = 0.4 with F1=0.8661\n",
      "Final validation loss: 0.6839\n",
      "Final validation acc: 100.00%\n",
      "Final validation f1: 1.00%\n",
      "\n",
      "=== Cross‐Val Results ===\n",
      "Accuracies per fold: [80.0, 40.0, 50.0, 75.0, 25.0, 50.0, 100.0, 100.0, 75.0, 100.0]\n",
      "Mean acc: 69.50%, Std: 25.64%\n",
      "Mean f1: 0.66%, Std: 0.27%\n",
      "\n",
      "===== Fold 1/10 =====\n"
     ]
    },
    {
     "name": "stderr",
     "output_type": "stream",
     "text": [
      "/home/s.dharia-ra/miniconda3/envs/ml/lib/python3.10/site-packages/torch/nn/modules/transformer.py:379: UserWarning: enable_nested_tensor is True, but self.use_nested_tensor is False because encoder_layer.self_attn.num_heads is odd\n",
      "  warnings.warn(\n"
     ]
    },
    {
     "name": "stdout",
     "output_type": "stream",
     "text": [
      "Final training label acc: 81.61%\n",
      "[Threshold 0.2] -> F1=0.8108 | Acc=0.8108\n",
      "[Threshold 0.3] -> F1=0.8377 | Acc=0.8378\n",
      "[Threshold 0.4] -> F1=0.8912 | Acc=0.8919\n",
      "[Threshold 0.5] -> F1=0.8912 | Acc=0.8919\n",
      "\n",
      "[Best Threshold] = 0.4 with F1=0.8912\n",
      "Final validation loss: 1.8359\n",
      "Final validation acc: 40.00%\n",
      "Final validation f1: 0.29%\n",
      "\n",
      "===== Fold 2/10 =====\n"
     ]
    },
    {
     "name": "stderr",
     "output_type": "stream",
     "text": [
      "/home/s.dharia-ra/miniconda3/envs/ml/lib/python3.10/site-packages/torch/nn/modules/transformer.py:379: UserWarning: enable_nested_tensor is True, but self.use_nested_tensor is False because encoder_layer.self_attn.num_heads is odd\n",
      "  warnings.warn(\n"
     ]
    },
    {
     "name": "stdout",
     "output_type": "stream",
     "text": [
      "Final training label acc: 74.73%\n",
      "[Threshold 0.2] -> F1=0.7568 | Acc=0.7568\n",
      "[Threshold 0.3] -> F1=0.7836 | Acc=0.7838\n",
      "[Threshold 0.4] -> F1=0.8103 | Acc=0.8108\n",
      "[Threshold 0.5] -> F1=0.8103 | Acc=0.8108\n",
      "\n",
      "[Best Threshold] = 0.4 with F1=0.8103\n",
      "Final validation loss: 0.6021\n",
      "Final validation acc: 60.00%\n",
      "Final validation f1: 0.58%\n",
      "\n",
      "===== Fold 3/10 =====\n"
     ]
    },
    {
     "name": "stderr",
     "output_type": "stream",
     "text": [
      "/home/s.dharia-ra/miniconda3/envs/ml/lib/python3.10/site-packages/torch/nn/modules/transformer.py:379: UserWarning: enable_nested_tensor is True, but self.use_nested_tensor is False because encoder_layer.self_attn.num_heads is odd\n",
      "  warnings.warn(\n"
     ]
    },
    {
     "name": "stdout",
     "output_type": "stream",
     "text": [
      "Final training label acc: 73.83%\n",
      "[Threshold 0.2] -> F1=0.7889 | Acc=0.7895\n",
      "[Threshold 0.3] -> F1=0.7630 | Acc=0.7632\n",
      "[Threshold 0.4] -> F1=0.8157 | Acc=0.8158\n",
      "[Threshold 0.5] -> F1=0.8417 | Acc=0.8421\n",
      "\n",
      "[Best Threshold] = 0.5 with F1=0.8417\n",
      "Final validation loss: 0.7375\n",
      "Final validation acc: 50.00%\n",
      "Final validation f1: 0.50%\n",
      "\n",
      "===== Fold 4/10 =====\n"
     ]
    },
    {
     "name": "stderr",
     "output_type": "stream",
     "text": [
      "/home/s.dharia-ra/miniconda3/envs/ml/lib/python3.10/site-packages/torch/nn/modules/transformer.py:379: UserWarning: enable_nested_tensor is True, but self.use_nested_tensor is False because encoder_layer.self_attn.num_heads is odd\n",
      "  warnings.warn(\n"
     ]
    },
    {
     "name": "stdout",
     "output_type": "stream",
     "text": [
      "Final training label acc: 71.51%\n",
      "[Threshold 0.2] -> F1=0.6807 | Acc=0.6842\n",
      "[Threshold 0.3] -> F1=0.7087 | Acc=0.7105\n",
      "[Threshold 0.4] -> F1=0.7630 | Acc=0.7632\n",
      "[Threshold 0.5] -> F1=0.7889 | Acc=0.7895\n",
      "\n",
      "[Best Threshold] = 0.5 with F1=0.7889\n",
      "Final validation loss: 0.3929\n",
      "Final validation acc: 75.00%\n",
      "Final validation f1: 0.73%\n",
      "\n",
      "===== Fold 5/10 =====\n"
     ]
    },
    {
     "name": "stderr",
     "output_type": "stream",
     "text": [
      "/home/s.dharia-ra/miniconda3/envs/ml/lib/python3.10/site-packages/torch/nn/modules/transformer.py:379: UserWarning: enable_nested_tensor is True, but self.use_nested_tensor is False because encoder_layer.self_attn.num_heads is odd\n",
      "  warnings.warn(\n"
     ]
    },
    {
     "name": "stdout",
     "output_type": "stream",
     "text": [
      "Final training label acc: 76.37%\n",
      "[Threshold 0.2] -> F1=0.7361 | Acc=0.7368\n",
      "[Threshold 0.3] -> F1=0.7895 | Acc=0.7895\n",
      "[Threshold 0.4] -> F1=0.8157 | Acc=0.8158\n",
      "[Threshold 0.5] -> F1=0.8676 | Acc=0.8684\n",
      "\n",
      "[Best Threshold] = 0.5 with F1=0.8676\n",
      "Final validation loss: 1.1037\n",
      "Final validation acc: 75.00%\n",
      "Final validation f1: 0.73%\n",
      "\n",
      "===== Fold 6/10 =====\n"
     ]
    },
    {
     "name": "stderr",
     "output_type": "stream",
     "text": [
      "/home/s.dharia-ra/miniconda3/envs/ml/lib/python3.10/site-packages/torch/nn/modules/transformer.py:379: UserWarning: enable_nested_tensor is True, but self.use_nested_tensor is False because encoder_layer.self_attn.num_heads is odd\n",
      "  warnings.warn(\n"
     ]
    },
    {
     "name": "stdout",
     "output_type": "stream",
     "text": [
      "Final training label acc: 75.43%\n",
      "[Threshold 0.2] -> F1=0.7103 | Acc=0.7105\n",
      "[Threshold 0.3] -> F1=0.7871 | Acc=0.7895\n",
      "[Threshold 0.4] -> F1=0.8125 | Acc=0.8158\n",
      "[Threshold 0.5] -> F1=0.8381 | Acc=0.8421\n",
      "\n",
      "[Best Threshold] = 0.5 with F1=0.8381\n",
      "Final validation loss: 0.6305\n",
      "Final validation acc: 75.00%\n",
      "Final validation f1: 0.73%\n",
      "\n",
      "===== Fold 7/10 =====\n"
     ]
    },
    {
     "name": "stderr",
     "output_type": "stream",
     "text": [
      "/home/s.dharia-ra/miniconda3/envs/ml/lib/python3.10/site-packages/torch/nn/modules/transformer.py:379: UserWarning: enable_nested_tensor is True, but self.use_nested_tensor is False because encoder_layer.self_attn.num_heads is odd\n",
      "  warnings.warn(\n"
     ]
    },
    {
     "name": "stdout",
     "output_type": "stream",
     "text": [
      "Final training label acc: 74.74%\n",
      "[Threshold 0.2] -> F1=0.7103 | Acc=0.7105\n",
      "[Threshold 0.3] -> F1=0.7103 | Acc=0.7105\n",
      "[Threshold 0.4] -> F1=0.7361 | Acc=0.7368\n",
      "[Threshold 0.5] -> F1=0.7361 | Acc=0.7368\n",
      "\n",
      "[Best Threshold] = 0.4 with F1=0.7361\n",
      "Final validation loss: 0.4530\n",
      "Final validation acc: 75.00%\n",
      "Final validation f1: 0.73%\n",
      "\n",
      "===== Fold 8/10 =====\n"
     ]
    },
    {
     "name": "stderr",
     "output_type": "stream",
     "text": [
      "/home/s.dharia-ra/miniconda3/envs/ml/lib/python3.10/site-packages/torch/nn/modules/transformer.py:379: UserWarning: enable_nested_tensor is True, but self.use_nested_tensor is False because encoder_layer.self_attn.num_heads is odd\n",
      "  warnings.warn(\n"
     ]
    },
    {
     "name": "stdout",
     "output_type": "stream",
     "text": [
      "Final training label acc: 79.45%\n",
      "[Threshold 0.2] -> F1=0.8417 | Acc=0.8421\n",
      "[Threshold 0.3] -> F1=0.8936 | Acc=0.8947\n",
      "[Threshold 0.4] -> F1=0.8920 | Acc=0.8947\n",
      "[Threshold 0.5] -> F1=0.9183 | Acc=0.9211\n",
      "\n",
      "[Best Threshold] = 0.5 with F1=0.9183\n",
      "Final validation loss: 1.1256\n",
      "Final validation acc: 25.00%\n",
      "Final validation f1: 0.20%\n",
      "\n",
      "===== Fold 9/10 =====\n"
     ]
    },
    {
     "name": "stderr",
     "output_type": "stream",
     "text": [
      "/home/s.dharia-ra/miniconda3/envs/ml/lib/python3.10/site-packages/torch/nn/modules/transformer.py:379: UserWarning: enable_nested_tensor is True, but self.use_nested_tensor is False because encoder_layer.self_attn.num_heads is odd\n",
      "  warnings.warn(\n"
     ]
    },
    {
     "name": "stdout",
     "output_type": "stream",
     "text": [
      "Final training label acc: 79.34%\n",
      "[Threshold 0.2] -> F1=0.7630 | Acc=0.7632\n",
      "[Threshold 0.3] -> F1=0.8146 | Acc=0.8158\n",
      "[Threshold 0.4] -> F1=0.8403 | Acc=0.8421\n",
      "[Threshold 0.5] -> F1=0.8661 | Acc=0.8684\n",
      "\n",
      "[Best Threshold] = 0.5 with F1=0.8661\n",
      "Final validation loss: 0.6301\n",
      "Final validation acc: 50.00%\n",
      "Final validation f1: 0.50%\n",
      "\n",
      "===== Fold 10/10 =====\n"
     ]
    },
    {
     "name": "stderr",
     "output_type": "stream",
     "text": [
      "/home/s.dharia-ra/miniconda3/envs/ml/lib/python3.10/site-packages/torch/nn/modules/transformer.py:379: UserWarning: enable_nested_tensor is True, but self.use_nested_tensor is False because encoder_layer.self_attn.num_heads is odd\n",
      "  warnings.warn(\n"
     ]
    },
    {
     "name": "stdout",
     "output_type": "stream",
     "text": [
      "Final training label acc: 73.21%\n",
      "[Threshold 0.2] -> F1=0.7895 | Acc=0.7895\n",
      "[Threshold 0.3] -> F1=0.8157 | Acc=0.8158\n",
      "[Threshold 0.4] -> F1=0.8146 | Acc=0.8158\n",
      "[Threshold 0.5] -> F1=0.8146 | Acc=0.8158\n",
      "\n",
      "[Best Threshold] = 0.3 with F1=0.8157\n",
      "Final validation loss: 0.4900\n",
      "Final validation acc: 75.00%\n",
      "Final validation f1: 0.73%\n",
      "\n",
      "=== Cross‐Val Results ===\n",
      "Accuracies per fold: [40.0, 60.0, 50.0, 75.0, 75.0, 75.0, 75.0, 25.0, 50.0, 75.0]\n",
      "Mean acc: 60.00%, Std: 17.18%\n",
      "Mean f1: 0.57%, Std: 0.19%\n",
      "\n",
      "===== Fold 1/10 =====\n"
     ]
    },
    {
     "name": "stderr",
     "output_type": "stream",
     "text": [
      "/home/s.dharia-ra/miniconda3/envs/ml/lib/python3.10/site-packages/torch/nn/modules/transformer.py:379: UserWarning: enable_nested_tensor is True, but self.use_nested_tensor is False because encoder_layer.self_attn.num_heads is odd\n",
      "  warnings.warn(\n"
     ]
    },
    {
     "name": "stdout",
     "output_type": "stream",
     "text": [
      "Final training label acc: 75.00%\n",
      "[Threshold 0.2] -> F1=0.6735 | Acc=0.6757\n",
      "[Threshold 0.3] -> F1=0.7568 | Acc=0.7568\n",
      "[Threshold 0.4] -> F1=0.7836 | Acc=0.7838\n",
      "[Threshold 0.5] -> F1=0.8086 | Acc=0.8108\n",
      "\n",
      "[Best Threshold] = 0.5 with F1=0.8086\n",
      "Final validation loss: 0.8586\n",
      "Final validation acc: 60.00%\n",
      "Final validation f1: 0.58%\n",
      "\n",
      "===== Fold 2/10 =====\n"
     ]
    },
    {
     "name": "stderr",
     "output_type": "stream",
     "text": [
      "/home/s.dharia-ra/miniconda3/envs/ml/lib/python3.10/site-packages/torch/nn/modules/transformer.py:379: UserWarning: enable_nested_tensor is True, but self.use_nested_tensor is False because encoder_layer.self_attn.num_heads is odd\n",
      "  warnings.warn(\n"
     ]
    },
    {
     "name": "stdout",
     "output_type": "stream",
     "text": [
      "Final training label acc: 73.91%\n",
      "[Threshold 0.2] -> F1=0.7295 | Acc=0.7297\n",
      "[Threshold 0.3] -> F1=0.7836 | Acc=0.7838\n",
      "[Threshold 0.4] -> F1=0.7836 | Acc=0.7838\n",
      "[Threshold 0.5] -> F1=0.8103 | Acc=0.8108\n",
      "\n",
      "[Best Threshold] = 0.5 with F1=0.8103\n",
      "Final validation loss: 0.6488\n",
      "Final validation acc: 60.00%\n",
      "Final validation f1: 0.58%\n",
      "\n",
      "===== Fold 3/10 =====\n"
     ]
    },
    {
     "name": "stderr",
     "output_type": "stream",
     "text": [
      "/home/s.dharia-ra/miniconda3/envs/ml/lib/python3.10/site-packages/torch/nn/modules/transformer.py:379: UserWarning: enable_nested_tensor is True, but self.use_nested_tensor is False because encoder_layer.self_attn.num_heads is odd\n",
      "  warnings.warn(\n"
     ]
    },
    {
     "name": "stdout",
     "output_type": "stream",
     "text": [
      "Final training label acc: 74.64%\n",
      "[Threshold 0.2] -> F1=0.7339 | Acc=0.7368\n",
      "[Threshold 0.3] -> F1=0.7361 | Acc=0.7368\n",
      "[Threshold 0.4] -> F1=0.8417 | Acc=0.8421\n",
      "[Threshold 0.5] -> F1=0.8676 | Acc=0.8684\n",
      "\n",
      "[Best Threshold] = 0.5 with F1=0.8676\n",
      "Final validation loss: 0.5822\n",
      "Final validation acc: 75.00%\n",
      "Final validation f1: 0.73%\n",
      "\n",
      "===== Fold 4/10 =====\n"
     ]
    },
    {
     "name": "stderr",
     "output_type": "stream",
     "text": [
      "/home/s.dharia-ra/miniconda3/envs/ml/lib/python3.10/site-packages/torch/nn/modules/transformer.py:379: UserWarning: enable_nested_tensor is True, but self.use_nested_tensor is False because encoder_layer.self_attn.num_heads is odd\n",
      "  warnings.warn(\n"
     ]
    },
    {
     "name": "stdout",
     "output_type": "stream",
     "text": [
      "Final training label acc: 78.67%\n",
      "[Threshold 0.2] -> F1=0.7617 | Acc=0.7632\n",
      "[Threshold 0.3] -> F1=0.8421 | Acc=0.8421\n",
      "[Threshold 0.4] -> F1=0.8683 | Acc=0.8684\n",
      "[Threshold 0.5] -> F1=0.8944 | Acc=0.8947\n",
      "\n",
      "[Best Threshold] = 0.5 with F1=0.8944\n",
      "Final validation loss: 0.5896\n",
      "Final validation acc: 75.00%\n",
      "Final validation f1: 0.73%\n",
      "\n",
      "===== Fold 5/10 =====\n"
     ]
    },
    {
     "name": "stderr",
     "output_type": "stream",
     "text": [
      "/home/s.dharia-ra/miniconda3/envs/ml/lib/python3.10/site-packages/torch/nn/modules/transformer.py:379: UserWarning: enable_nested_tensor is True, but self.use_nested_tensor is False because encoder_layer.self_attn.num_heads is odd\n",
      "  warnings.warn(\n"
     ]
    },
    {
     "name": "stdout",
     "output_type": "stream",
     "text": [
      "Final training label acc: 78.16%\n",
      "[Threshold 0.2] -> F1=0.7630 | Acc=0.7632\n",
      "[Threshold 0.3] -> F1=0.8157 | Acc=0.8158\n",
      "[Threshold 0.4] -> F1=0.8157 | Acc=0.8158\n",
      "[Threshold 0.5] -> F1=0.7871 | Acc=0.7895\n",
      "\n",
      "[Best Threshold] = 0.3 with F1=0.8157\n",
      "Final validation loss: 1.3284\n",
      "Final validation acc: 50.00%\n",
      "Final validation f1: 0.50%\n",
      "\n",
      "===== Fold 6/10 =====\n"
     ]
    },
    {
     "name": "stderr",
     "output_type": "stream",
     "text": [
      "/home/s.dharia-ra/miniconda3/envs/ml/lib/python3.10/site-packages/torch/nn/modules/transformer.py:379: UserWarning: enable_nested_tensor is True, but self.use_nested_tensor is False because encoder_layer.self_attn.num_heads is odd\n",
      "  warnings.warn(\n"
     ]
    },
    {
     "name": "stdout",
     "output_type": "stream",
     "text": [
      "Final training label acc: 76.96%\n",
      "[Threshold 0.2] -> F1=0.7889 | Acc=0.7895\n",
      "[Threshold 0.3] -> F1=0.8146 | Acc=0.8158\n",
      "[Threshold 0.4] -> F1=0.8661 | Acc=0.8684\n",
      "[Threshold 0.5] -> F1=0.8381 | Acc=0.8421\n",
      "\n",
      "[Best Threshold] = 0.4 with F1=0.8661\n",
      "Final validation loss: 0.3934\n",
      "Final validation acc: 100.00%\n",
      "Final validation f1: 1.00%\n",
      "\n",
      "===== Fold 7/10 =====\n"
     ]
    },
    {
     "name": "stderr",
     "output_type": "stream",
     "text": [
      "/home/s.dharia-ra/miniconda3/envs/ml/lib/python3.10/site-packages/torch/nn/modules/transformer.py:379: UserWarning: enable_nested_tensor is True, but self.use_nested_tensor is False because encoder_layer.self_attn.num_heads is odd\n",
      "  warnings.warn(\n"
     ]
    },
    {
     "name": "stdout",
     "output_type": "stream",
     "text": [
      "Final training label acc: 75.17%\n",
      "[Threshold 0.2] -> F1=0.7087 | Acc=0.7105\n",
      "[Threshold 0.3] -> F1=0.7630 | Acc=0.7632\n",
      "[Threshold 0.4] -> F1=0.7895 | Acc=0.7895\n",
      "[Threshold 0.5] -> F1=0.8417 | Acc=0.8421\n",
      "\n",
      "[Best Threshold] = 0.5 with F1=0.8417\n",
      "Final validation loss: 0.7293\n",
      "Final validation acc: 25.00%\n",
      "Final validation f1: 0.20%\n",
      "\n",
      "===== Fold 8/10 =====\n"
     ]
    },
    {
     "name": "stderr",
     "output_type": "stream",
     "text": [
      "/home/s.dharia-ra/miniconda3/envs/ml/lib/python3.10/site-packages/torch/nn/modules/transformer.py:379: UserWarning: enable_nested_tensor is True, but self.use_nested_tensor is False because encoder_layer.self_attn.num_heads is odd\n",
      "  warnings.warn(\n"
     ]
    },
    {
     "name": "stdout",
     "output_type": "stream",
     "text": [
      "Final training label acc: 75.51%\n",
      "[Threshold 0.2] -> F1=0.7895 | Acc=0.7895\n",
      "[Threshold 0.3] -> F1=0.8157 | Acc=0.8158\n",
      "[Threshold 0.4] -> F1=0.8146 | Acc=0.8158\n",
      "[Threshold 0.5] -> F1=0.8146 | Acc=0.8158\n",
      "\n",
      "[Best Threshold] = 0.3 with F1=0.8157\n",
      "Final validation loss: 1.0520\n",
      "Final validation acc: 75.00%\n",
      "Final validation f1: 0.73%\n",
      "\n",
      "===== Fold 9/10 =====\n"
     ]
    },
    {
     "name": "stderr",
     "output_type": "stream",
     "text": [
      "/home/s.dharia-ra/miniconda3/envs/ml/lib/python3.10/site-packages/torch/nn/modules/transformer.py:379: UserWarning: enable_nested_tensor is True, but self.use_nested_tensor is False because encoder_layer.self_attn.num_heads is odd\n",
      "  warnings.warn(\n"
     ]
    },
    {
     "name": "stdout",
     "output_type": "stream",
     "text": [
      "Final training label acc: 76.55%\n",
      "[Threshold 0.2] -> F1=0.7103 | Acc=0.7105\n",
      "[Threshold 0.3] -> F1=0.7630 | Acc=0.7632\n",
      "[Threshold 0.4] -> F1=0.8146 | Acc=0.8158\n",
      "[Threshold 0.5] -> F1=0.8146 | Acc=0.8158\n",
      "\n",
      "[Best Threshold] = 0.4 with F1=0.8146\n",
      "Final validation loss: 0.4447\n",
      "Final validation acc: 75.00%\n",
      "Final validation f1: 0.73%\n",
      "\n",
      "===== Fold 10/10 =====\n"
     ]
    },
    {
     "name": "stderr",
     "output_type": "stream",
     "text": [
      "/home/s.dharia-ra/miniconda3/envs/ml/lib/python3.10/site-packages/torch/nn/modules/transformer.py:379: UserWarning: enable_nested_tensor is True, but self.use_nested_tensor is False because encoder_layer.self_attn.num_heads is odd\n",
      "  warnings.warn(\n"
     ]
    },
    {
     "name": "stdout",
     "output_type": "stream",
     "text": [
      "Final training label acc: 71.99%\n",
      "[Threshold 0.2] -> F1=0.7630 | Acc=0.7632\n",
      "[Threshold 0.3] -> F1=0.7617 | Acc=0.7632\n",
      "[Threshold 0.4] -> F1=0.7871 | Acc=0.7895\n",
      "[Threshold 0.5] -> F1=0.8381 | Acc=0.8421\n",
      "\n",
      "[Best Threshold] = 0.5 with F1=0.8381\n",
      "Final validation loss: 0.6312\n",
      "Final validation acc: 50.00%\n",
      "Final validation f1: 0.50%\n",
      "\n",
      "=== Cross‐Val Results ===\n",
      "Accuracies per fold: [60.0, 60.0, 75.0, 75.0, 50.0, 100.0, 25.0, 75.0, 75.0, 50.0]\n",
      "Mean acc: 64.50%, Std: 19.29%\n",
      "Mean f1: 0.63%, Std: 0.20%\n",
      "\n",
      "===== Fold 1/10 =====\n"
     ]
    },
    {
     "name": "stderr",
     "output_type": "stream",
     "text": [
      "/home/s.dharia-ra/miniconda3/envs/ml/lib/python3.10/site-packages/torch/nn/modules/transformer.py:379: UserWarning: enable_nested_tensor is True, but self.use_nested_tensor is False because encoder_layer.self_attn.num_heads is odd\n",
      "  warnings.warn(\n"
     ]
    },
    {
     "name": "stdout",
     "output_type": "stream",
     "text": [
      "Final training label acc: 74.73%\n",
      "[Threshold 0.2] -> F1=0.7018 | Acc=0.7027\n",
      "[Threshold 0.3] -> F1=0.7295 | Acc=0.7297\n",
      "[Threshold 0.4] -> F1=0.8368 | Acc=0.8378\n",
      "[Threshold 0.5] -> F1=0.8368 | Acc=0.8378\n",
      "\n",
      "[Best Threshold] = 0.4 with F1=0.8368\n",
      "Final validation loss: 0.6561\n",
      "Final validation acc: 60.00%\n",
      "Final validation f1: 0.58%\n",
      "\n",
      "===== Fold 2/10 =====\n"
     ]
    },
    {
     "name": "stderr",
     "output_type": "stream",
     "text": [
      "/home/s.dharia-ra/miniconda3/envs/ml/lib/python3.10/site-packages/torch/nn/modules/transformer.py:379: UserWarning: enable_nested_tensor is True, but self.use_nested_tensor is False because encoder_layer.self_attn.num_heads is odd\n",
      "  warnings.warn(\n"
     ]
    },
    {
     "name": "stdout",
     "output_type": "stream",
     "text": [
      "Final training label acc: 75.00%\n",
      "[Threshold 0.2] -> F1=0.7027 | Acc=0.7027\n",
      "[Threshold 0.3] -> F1=0.7295 | Acc=0.7297\n",
      "[Threshold 0.4] -> F1=0.8086 | Acc=0.8108\n",
      "[Threshold 0.5] -> F1=0.8348 | Acc=0.8378\n",
      "\n",
      "[Best Threshold] = 0.5 with F1=0.8348\n",
      "Final validation loss: 0.5746\n",
      "Final validation acc: 40.00%\n",
      "Final validation f1: 0.29%\n",
      "\n",
      "===== Fold 3/10 =====\n"
     ]
    },
    {
     "name": "stderr",
     "output_type": "stream",
     "text": [
      "/home/s.dharia-ra/miniconda3/envs/ml/lib/python3.10/site-packages/torch/nn/modules/transformer.py:379: UserWarning: enable_nested_tensor is True, but self.use_nested_tensor is False because encoder_layer.self_attn.num_heads is odd\n",
      "  warnings.warn(\n"
     ]
    },
    {
     "name": "stdout",
     "output_type": "stream",
     "text": [
      "Final training label acc: 74.55%\n",
      "[Threshold 0.2] -> F1=0.6807 | Acc=0.6842\n",
      "[Threshold 0.3] -> F1=0.7087 | Acc=0.7105\n",
      "[Threshold 0.4] -> F1=0.7087 | Acc=0.7105\n",
      "[Threshold 0.5] -> F1=0.7630 | Acc=0.7632\n",
      "\n",
      "[Best Threshold] = 0.5 with F1=0.7630\n",
      "Final validation loss: 0.4251\n",
      "Final validation acc: 75.00%\n",
      "Final validation f1: 0.73%\n",
      "\n",
      "===== Fold 4/10 =====\n"
     ]
    },
    {
     "name": "stderr",
     "output_type": "stream",
     "text": [
      "/home/s.dharia-ra/miniconda3/envs/ml/lib/python3.10/site-packages/torch/nn/modules/transformer.py:379: UserWarning: enable_nested_tensor is True, but self.use_nested_tensor is False because encoder_layer.self_attn.num_heads is odd\n",
      "  warnings.warn(\n"
     ]
    },
    {
     "name": "stdout",
     "output_type": "stream",
     "text": [
      "Final training label acc: 77.06%\n",
      "[Threshold 0.2] -> F1=0.7339 | Acc=0.7368\n",
      "[Threshold 0.3] -> F1=0.7617 | Acc=0.7632\n",
      "[Threshold 0.4] -> F1=0.7895 | Acc=0.7895\n",
      "[Threshold 0.5] -> F1=0.8417 | Acc=0.8421\n",
      "\n",
      "[Best Threshold] = 0.5 with F1=0.8417\n",
      "Final validation loss: 0.6289\n",
      "Final validation acc: 50.00%\n",
      "Final validation f1: 0.33%\n",
      "\n",
      "===== Fold 5/10 =====\n"
     ]
    },
    {
     "name": "stderr",
     "output_type": "stream",
     "text": [
      "/home/s.dharia-ra/miniconda3/envs/ml/lib/python3.10/site-packages/torch/nn/modules/transformer.py:379: UserWarning: enable_nested_tensor is True, but self.use_nested_tensor is False because encoder_layer.self_attn.num_heads is odd\n",
      "  warnings.warn(\n"
     ]
    },
    {
     "name": "stdout",
     "output_type": "stream",
     "text": [
      "Final training label acc: 71.40%\n",
      "[Threshold 0.2] -> F1=0.6833 | Acc=0.6842\n",
      "[Threshold 0.3] -> F1=0.7368 | Acc=0.7368\n",
      "[Threshold 0.4] -> F1=0.7630 | Acc=0.7632\n",
      "[Threshold 0.5] -> F1=0.7361 | Acc=0.7368\n",
      "\n",
      "[Best Threshold] = 0.4 with F1=0.7630\n",
      "Final validation loss: 0.2210\n",
      "Final validation acc: 100.00%\n",
      "Final validation f1: 1.00%\n",
      "\n",
      "===== Fold 6/10 =====\n"
     ]
    },
    {
     "name": "stderr",
     "output_type": "stream",
     "text": [
      "/home/s.dharia-ra/miniconda3/envs/ml/lib/python3.10/site-packages/torch/nn/modules/transformer.py:379: UserWarning: enable_nested_tensor is True, but self.use_nested_tensor is False because encoder_layer.self_attn.num_heads is odd\n",
      "  warnings.warn(\n"
     ]
    },
    {
     "name": "stdout",
     "output_type": "stream",
     "text": [
      "Final training label acc: 84.93%\n",
      "[Threshold 0.2] -> F1=0.8157 | Acc=0.8158\n",
      "[Threshold 0.3] -> F1=0.8421 | Acc=0.8421\n",
      "[Threshold 0.4] -> F1=0.8944 | Acc=0.8947\n",
      "[Threshold 0.5] -> F1=0.8403 | Acc=0.8421\n",
      "\n",
      "[Best Threshold] = 0.4 with F1=0.8944\n",
      "Final validation loss: 2.6732\n",
      "Final validation acc: 0.00%\n",
      "Final validation f1: 0.00%\n",
      "\n",
      "===== Fold 7/10 =====\n"
     ]
    },
    {
     "name": "stderr",
     "output_type": "stream",
     "text": [
      "/home/s.dharia-ra/miniconda3/envs/ml/lib/python3.10/site-packages/torch/nn/modules/transformer.py:379: UserWarning: enable_nested_tensor is True, but self.use_nested_tensor is False because encoder_layer.self_attn.num_heads is odd\n",
      "  warnings.warn(\n"
     ]
    },
    {
     "name": "stdout",
     "output_type": "stream",
     "text": [
      "Final training label acc: 75.43%\n",
      "[Threshold 0.2] -> F1=0.7103 | Acc=0.7105\n",
      "[Threshold 0.3] -> F1=0.7368 | Acc=0.7368\n",
      "[Threshold 0.4] -> F1=0.7368 | Acc=0.7368\n",
      "[Threshold 0.5] -> F1=0.8403 | Acc=0.8421\n",
      "\n",
      "[Best Threshold] = 0.5 with F1=0.8403\n",
      "Final validation loss: 0.5666\n",
      "Final validation acc: 75.00%\n",
      "Final validation f1: 0.73%\n",
      "\n",
      "===== Fold 8/10 =====\n"
     ]
    },
    {
     "name": "stderr",
     "output_type": "stream",
     "text": [
      "/home/s.dharia-ra/miniconda3/envs/ml/lib/python3.10/site-packages/torch/nn/modules/transformer.py:379: UserWarning: enable_nested_tensor is True, but self.use_nested_tensor is False because encoder_layer.self_attn.num_heads is odd\n",
      "  warnings.warn(\n"
     ]
    },
    {
     "name": "stdout",
     "output_type": "stream",
     "text": [
      "Final training label acc: 77.40%\n",
      "[Threshold 0.2] -> F1=0.7368 | Acc=0.7368\n",
      "[Threshold 0.3] -> F1=0.7361 | Acc=0.7368\n",
      "[Threshold 0.4] -> F1=0.8125 | Acc=0.8158\n",
      "[Threshold 0.5] -> F1=0.8093 | Acc=0.8158\n",
      "\n",
      "[Best Threshold] = 0.4 with F1=0.8125\n",
      "Final validation loss: 0.7063\n",
      "Final validation acc: 50.00%\n",
      "Final validation f1: 0.50%\n",
      "\n",
      "===== Fold 9/10 =====\n"
     ]
    },
    {
     "name": "stderr",
     "output_type": "stream",
     "text": [
      "/home/s.dharia-ra/miniconda3/envs/ml/lib/python3.10/site-packages/torch/nn/modules/transformer.py:379: UserWarning: enable_nested_tensor is True, but self.use_nested_tensor is False because encoder_layer.self_attn.num_heads is odd\n",
      "  warnings.warn(\n"
     ]
    },
    {
     "name": "stdout",
     "output_type": "stream",
     "text": [
      "Final training label acc: 70.59%\n",
      "[Threshold 0.2] -> F1=0.6557 | Acc=0.6579\n",
      "[Threshold 0.3] -> F1=0.6842 | Acc=0.6842\n",
      "[Threshold 0.4] -> F1=0.7361 | Acc=0.7368\n",
      "[Threshold 0.5] -> F1=0.7871 | Acc=0.7895\n",
      "\n",
      "[Best Threshold] = 0.5 with F1=0.7871\n",
      "Final validation loss: 0.7312\n",
      "Final validation acc: 50.00%\n",
      "Final validation f1: 0.50%\n",
      "\n",
      "===== Fold 10/10 =====\n"
     ]
    },
    {
     "name": "stderr",
     "output_type": "stream",
     "text": [
      "/home/s.dharia-ra/miniconda3/envs/ml/lib/python3.10/site-packages/torch/nn/modules/transformer.py:379: UserWarning: enable_nested_tensor is True, but self.use_nested_tensor is False because encoder_layer.self_attn.num_heads is odd\n",
      "  warnings.warn(\n"
     ]
    },
    {
     "name": "stdout",
     "output_type": "stream",
     "text": [
      "Final training label acc: 76.62%\n",
      "[Threshold 0.2] -> F1=0.7895 | Acc=0.7895\n",
      "[Threshold 0.3] -> F1=0.7889 | Acc=0.7895\n",
      "[Threshold 0.4] -> F1=0.8146 | Acc=0.8158\n",
      "[Threshold 0.5] -> F1=0.8661 | Acc=0.8684\n",
      "\n",
      "[Best Threshold] = 0.5 with F1=0.8661\n",
      "Final validation loss: 0.5612\n",
      "Final validation acc: 75.00%\n",
      "Final validation f1: 0.73%\n",
      "\n",
      "=== Cross‐Val Results ===\n",
      "Accuracies per fold: [60.0, 40.0, 75.0, 50.0, 100.0, 0.0, 75.0, 50.0, 50.0, 75.0]\n",
      "Mean acc: 57.50%, Std: 25.52%\n",
      "Mean f1: 0.54%, Std: 0.27%\n",
      "\n",
      "===== Fold 1/10 =====\n"
     ]
    },
    {
     "name": "stderr",
     "output_type": "stream",
     "text": [
      "/home/s.dharia-ra/miniconda3/envs/ml/lib/python3.10/site-packages/torch/nn/modules/transformer.py:379: UserWarning: enable_nested_tensor is True, but self.use_nested_tensor is False because encoder_layer.self_attn.num_heads is odd\n",
      "  warnings.warn(\n"
     ]
    },
    {
     "name": "stdout",
     "output_type": "stream",
     "text": [
      "Final training label acc: 77.86%\n",
      "[Threshold 0.2] -> F1=0.7836 | Acc=0.7838\n",
      "[Threshold 0.3] -> F1=0.8103 | Acc=0.8108\n",
      "[Threshold 0.4] -> F1=0.8368 | Acc=0.8378\n",
      "[Threshold 0.5] -> F1=0.8633 | Acc=0.8649\n",
      "\n",
      "[Best Threshold] = 0.5 with F1=0.8633\n",
      "Final validation loss: 0.5739\n",
      "Final validation acc: 80.00%\n",
      "Final validation f1: 0.80%\n",
      "\n",
      "===== Fold 2/10 =====\n"
     ]
    },
    {
     "name": "stderr",
     "output_type": "stream",
     "text": [
      "/home/s.dharia-ra/miniconda3/envs/ml/lib/python3.10/site-packages/torch/nn/modules/transformer.py:379: UserWarning: enable_nested_tensor is True, but self.use_nested_tensor is False because encoder_layer.self_attn.num_heads is odd\n",
      "  warnings.warn(\n"
     ]
    },
    {
     "name": "stdout",
     "output_type": "stream",
     "text": [
      "Final training label acc: 78.39%\n",
      "[Threshold 0.2] -> F1=0.7824 | Acc=0.7838\n",
      "[Threshold 0.3] -> F1=0.8103 | Acc=0.8108\n",
      "[Threshold 0.4] -> F1=0.8918 | Acc=0.8919\n",
      "[Threshold 0.5] -> F1=0.8918 | Acc=0.8919\n",
      "\n",
      "[Best Threshold] = 0.4 with F1=0.8918\n",
      "Final validation loss: 1.1563\n",
      "Final validation acc: 60.00%\n",
      "Final validation f1: 0.58%\n",
      "\n",
      "===== Fold 3/10 =====\n"
     ]
    },
    {
     "name": "stderr",
     "output_type": "stream",
     "text": [
      "/home/s.dharia-ra/miniconda3/envs/ml/lib/python3.10/site-packages/torch/nn/modules/transformer.py:379: UserWarning: enable_nested_tensor is True, but self.use_nested_tensor is False because encoder_layer.self_attn.num_heads is odd\n",
      "  warnings.warn(\n"
     ]
    },
    {
     "name": "stdout",
     "output_type": "stream",
     "text": [
      "Final training label acc: 73.48%\n",
      "[Threshold 0.2] -> F1=0.7054 | Acc=0.7105\n",
      "[Threshold 0.3] -> F1=0.7889 | Acc=0.7895\n",
      "[Threshold 0.4] -> F1=0.7630 | Acc=0.7632\n",
      "[Threshold 0.5] -> F1=0.8146 | Acc=0.8158\n",
      "\n",
      "[Best Threshold] = 0.5 with F1=0.8146\n",
      "Final validation loss: 0.4030\n",
      "Final validation acc: 100.00%\n",
      "Final validation f1: 1.00%\n",
      "\n",
      "===== Fold 4/10 =====\n"
     ]
    },
    {
     "name": "stderr",
     "output_type": "stream",
     "text": [
      "/home/s.dharia-ra/miniconda3/envs/ml/lib/python3.10/site-packages/torch/nn/modules/transformer.py:379: UserWarning: enable_nested_tensor is True, but self.use_nested_tensor is False because encoder_layer.self_attn.num_heads is odd\n",
      "  warnings.warn(\n"
     ]
    },
    {
     "name": "stdout",
     "output_type": "stream",
     "text": [
      "Final training label acc: 72.34%\n",
      "[Threshold 0.2] -> F1=0.7361 | Acc=0.7368\n",
      "[Threshold 0.3] -> F1=0.7895 | Acc=0.7895\n",
      "[Threshold 0.4] -> F1=0.7871 | Acc=0.7895\n",
      "[Threshold 0.5] -> F1=0.8125 | Acc=0.8158\n",
      "\n",
      "[Best Threshold] = 0.5 with F1=0.8125\n",
      "Final validation loss: 0.4100\n",
      "Final validation acc: 100.00%\n",
      "Final validation f1: 1.00%\n",
      "\n",
      "===== Fold 5/10 =====\n"
     ]
    },
    {
     "name": "stderr",
     "output_type": "stream",
     "text": [
      "/home/s.dharia-ra/miniconda3/envs/ml/lib/python3.10/site-packages/torch/nn/modules/transformer.py:379: UserWarning: enable_nested_tensor is True, but self.use_nested_tensor is False because encoder_layer.self_attn.num_heads is odd\n",
      "  warnings.warn(\n"
     ]
    },
    {
     "name": "stdout",
     "output_type": "stream",
     "text": [
      "Final training label acc: 75.09%\n",
      "[Threshold 0.2] -> F1=0.7361 | Acc=0.7368\n",
      "[Threshold 0.3] -> F1=0.7630 | Acc=0.7632\n",
      "[Threshold 0.4] -> F1=0.7889 | Acc=0.7895\n",
      "[Threshold 0.5] -> F1=0.8146 | Acc=0.8158\n",
      "\n",
      "[Best Threshold] = 0.5 with F1=0.8146\n",
      "Final validation loss: 0.4433\n",
      "Final validation acc: 75.00%\n",
      "Final validation f1: 0.73%\n",
      "\n",
      "===== Fold 6/10 =====\n"
     ]
    },
    {
     "name": "stderr",
     "output_type": "stream",
     "text": [
      "/home/s.dharia-ra/miniconda3/envs/ml/lib/python3.10/site-packages/torch/nn/modules/transformer.py:379: UserWarning: enable_nested_tensor is True, but self.use_nested_tensor is False because encoder_layer.self_attn.num_heads is odd\n",
      "  warnings.warn(\n"
     ]
    },
    {
     "name": "stdout",
     "output_type": "stream",
     "text": [
      "Final training label acc: 78.01%\n",
      "[Threshold 0.2] -> F1=0.7630 | Acc=0.7632\n",
      "[Threshold 0.3] -> F1=0.7889 | Acc=0.7895\n",
      "[Threshold 0.4] -> F1=0.8403 | Acc=0.8421\n",
      "[Threshold 0.5] -> F1=0.8661 | Acc=0.8684\n",
      "\n",
      "[Best Threshold] = 0.5 with F1=0.8661\n",
      "Final validation loss: 0.6142\n",
      "Final validation acc: 50.00%\n",
      "Final validation f1: 0.50%\n",
      "\n",
      "===== Fold 7/10 =====\n"
     ]
    },
    {
     "name": "stderr",
     "output_type": "stream",
     "text": [
      "/home/s.dharia-ra/miniconda3/envs/ml/lib/python3.10/site-packages/torch/nn/modules/transformer.py:379: UserWarning: enable_nested_tensor is True, but self.use_nested_tensor is False because encoder_layer.self_attn.num_heads is odd\n",
      "  warnings.warn(\n"
     ]
    },
    {
     "name": "stdout",
     "output_type": "stream",
     "text": [
      "Final training label acc: 73.97%\n",
      "[Threshold 0.2] -> F1=0.7368 | Acc=0.7368\n",
      "[Threshold 0.3] -> F1=0.7630 | Acc=0.7632\n",
      "[Threshold 0.4] -> F1=0.7630 | Acc=0.7632\n",
      "[Threshold 0.5] -> F1=0.7617 | Acc=0.7632\n",
      "\n",
      "[Best Threshold] = 0.3 with F1=0.7630\n",
      "Final validation loss: 0.5050\n",
      "Final validation acc: 100.00%\n",
      "Final validation f1: 1.00%\n",
      "\n",
      "===== Fold 8/10 =====\n"
     ]
    },
    {
     "name": "stderr",
     "output_type": "stream",
     "text": [
      "/home/s.dharia-ra/miniconda3/envs/ml/lib/python3.10/site-packages/torch/nn/modules/transformer.py:379: UserWarning: enable_nested_tensor is True, but self.use_nested_tensor is False because encoder_layer.self_attn.num_heads is odd\n",
      "  warnings.warn(\n"
     ]
    },
    {
     "name": "stdout",
     "output_type": "stream",
     "text": [
      "Final training label acc: 78.50%\n",
      "[Threshold 0.2] -> F1=0.8157 | Acc=0.8158\n",
      "[Threshold 0.3] -> F1=0.8417 | Acc=0.8421\n",
      "[Threshold 0.4] -> F1=0.8936 | Acc=0.8947\n",
      "[Threshold 0.5] -> F1=0.8661 | Acc=0.8684\n",
      "\n",
      "[Best Threshold] = 0.4 with F1=0.8936\n",
      "Final validation loss: 1.1019\n",
      "Final validation acc: 25.00%\n",
      "Final validation f1: 0.20%\n",
      "\n",
      "===== Fold 9/10 =====\n"
     ]
    },
    {
     "name": "stderr",
     "output_type": "stream",
     "text": [
      "/home/s.dharia-ra/miniconda3/envs/ml/lib/python3.10/site-packages/torch/nn/modules/transformer.py:379: UserWarning: enable_nested_tensor is True, but self.use_nested_tensor is False because encoder_layer.self_attn.num_heads is odd\n",
      "  warnings.warn(\n"
     ]
    },
    {
     "name": "stdout",
     "output_type": "stream",
     "text": [
      "Final training label acc: 79.28%\n",
      "[Threshold 0.2] -> F1=0.7889 | Acc=0.7895\n",
      "[Threshold 0.3] -> F1=0.7889 | Acc=0.7895\n",
      "[Threshold 0.4] -> F1=0.8661 | Acc=0.8684\n",
      "[Threshold 0.5] -> F1=0.8661 | Acc=0.8684\n",
      "\n",
      "[Best Threshold] = 0.4 with F1=0.8661\n",
      "Final validation loss: 0.7304\n",
      "Final validation acc: 75.00%\n",
      "Final validation f1: 0.73%\n",
      "\n",
      "===== Fold 10/10 =====\n"
     ]
    },
    {
     "name": "stderr",
     "output_type": "stream",
     "text": [
      "/home/s.dharia-ra/miniconda3/envs/ml/lib/python3.10/site-packages/torch/nn/modules/transformer.py:379: UserWarning: enable_nested_tensor is True, but self.use_nested_tensor is False because encoder_layer.self_attn.num_heads is odd\n",
      "  warnings.warn(\n"
     ]
    },
    {
     "name": "stdout",
     "output_type": "stream",
     "text": [
      "Final training label acc: 75.43%\n",
      "[Threshold 0.2] -> F1=0.7087 | Acc=0.7105\n",
      "[Threshold 0.3] -> F1=0.7361 | Acc=0.7368\n",
      "[Threshold 0.4] -> F1=0.7895 | Acc=0.7895\n",
      "[Threshold 0.5] -> F1=0.7889 | Acc=0.7895\n",
      "\n",
      "[Best Threshold] = 0.4 with F1=0.7895\n",
      "Final validation loss: 0.8945\n",
      "Final validation acc: 75.00%\n",
      "Final validation f1: 0.73%\n",
      "\n",
      "=== Cross‐Val Results ===\n",
      "Accuracies per fold: [80.0, 60.0, 100.0, 100.0, 75.0, 50.0, 100.0, 25.0, 75.0, 75.0]\n",
      "Mean acc: 74.00%, Std: 22.89%\n",
      "Mean f1: 0.73%, Std: 0.24%\n",
      "\n",
      "===== Fold 1/10 =====\n"
     ]
    },
    {
     "name": "stderr",
     "output_type": "stream",
     "text": [
      "/home/s.dharia-ra/miniconda3/envs/ml/lib/python3.10/site-packages/torch/nn/modules/transformer.py:379: UserWarning: enable_nested_tensor is True, but self.use_nested_tensor is False because encoder_layer.self_attn.num_heads is odd\n",
      "  warnings.warn(\n"
     ]
    },
    {
     "name": "stdout",
     "output_type": "stream",
     "text": [
      "Final training label acc: 76.98%\n",
      "[Threshold 0.2] -> F1=0.8108 | Acc=0.8108\n",
      "[Threshold 0.3] -> F1=0.8377 | Acc=0.8378\n",
      "[Threshold 0.4] -> F1=0.8633 | Acc=0.8649\n",
      "[Threshold 0.5] -> F1=0.8899 | Acc=0.8919\n",
      "\n",
      "[Best Threshold] = 0.5 with F1=0.8899\n",
      "Final validation loss: 0.6593\n",
      "Final validation acc: 80.00%\n",
      "Final validation f1: 0.80%\n",
      "\n",
      "===== Fold 2/10 =====\n"
     ]
    },
    {
     "name": "stderr",
     "output_type": "stream",
     "text": [
      "/home/s.dharia-ra/miniconda3/envs/ml/lib/python3.10/site-packages/torch/nn/modules/transformer.py:379: UserWarning: enable_nested_tensor is True, but self.use_nested_tensor is False because encoder_layer.self_attn.num_heads is odd\n",
      "  warnings.warn(\n"
     ]
    },
    {
     "name": "stdout",
     "output_type": "stream",
     "text": [
      "Final training label acc: 74.37%\n",
      "[Threshold 0.2] -> F1=0.7279 | Acc=0.7297\n",
      "[Threshold 0.3] -> F1=0.7568 | Acc=0.7568\n",
      "[Threshold 0.4] -> F1=0.8103 | Acc=0.8108\n",
      "[Threshold 0.5] -> F1=0.7824 | Acc=0.7838\n",
      "\n",
      "[Best Threshold] = 0.4 with F1=0.8103\n",
      "Final validation loss: 1.4160\n",
      "Final validation acc: 60.00%\n",
      "Final validation f1: 0.58%\n",
      "\n",
      "===== Fold 3/10 =====\n"
     ]
    },
    {
     "name": "stderr",
     "output_type": "stream",
     "text": [
      "/home/s.dharia-ra/miniconda3/envs/ml/lib/python3.10/site-packages/torch/nn/modules/transformer.py:379: UserWarning: enable_nested_tensor is True, but self.use_nested_tensor is False because encoder_layer.self_attn.num_heads is odd\n",
      "  warnings.warn(\n"
     ]
    },
    {
     "name": "stdout",
     "output_type": "stream",
     "text": [
      "Final training label acc: 72.26%\n",
      "[Threshold 0.2] -> F1=0.6807 | Acc=0.6842\n",
      "[Threshold 0.3] -> F1=0.6557 | Acc=0.6579\n",
      "[Threshold 0.4] -> F1=0.6842 | Acc=0.6842\n",
      "[Threshold 0.5] -> F1=0.7361 | Acc=0.7368\n",
      "\n",
      "[Best Threshold] = 0.5 with F1=0.7361\n",
      "Final validation loss: 0.5039\n",
      "Final validation acc: 50.00%\n",
      "Final validation f1: 0.33%\n",
      "\n",
      "===== Fold 4/10 =====\n"
     ]
    },
    {
     "name": "stderr",
     "output_type": "stream",
     "text": [
      "/home/s.dharia-ra/miniconda3/envs/ml/lib/python3.10/site-packages/torch/nn/modules/transformer.py:379: UserWarning: enable_nested_tensor is True, but self.use_nested_tensor is False because encoder_layer.self_attn.num_heads is odd\n",
      "  warnings.warn(\n"
     ]
    },
    {
     "name": "stdout",
     "output_type": "stream",
     "text": [
      "Final training label acc: 75.27%\n",
      "[Threshold 0.2] -> F1=0.7054 | Acc=0.7105\n",
      "[Threshold 0.3] -> F1=0.7087 | Acc=0.7105\n",
      "[Threshold 0.4] -> F1=0.7361 | Acc=0.7368\n",
      "[Threshold 0.5] -> F1=0.8157 | Acc=0.8158\n",
      "\n",
      "[Best Threshold] = 0.5 with F1=0.8157\n",
      "Final validation loss: 0.5177\n",
      "Final validation acc: 100.00%\n",
      "Final validation f1: 1.00%\n",
      "\n",
      "===== Fold 5/10 =====\n"
     ]
    },
    {
     "name": "stderr",
     "output_type": "stream",
     "text": [
      "/home/s.dharia-ra/miniconda3/envs/ml/lib/python3.10/site-packages/torch/nn/modules/transformer.py:379: UserWarning: enable_nested_tensor is True, but self.use_nested_tensor is False because encoder_layer.self_attn.num_heads is odd\n",
      "  warnings.warn(\n"
     ]
    },
    {
     "name": "stdout",
     "output_type": "stream",
     "text": [
      "Final training label acc: 74.14%\n",
      "[Threshold 0.2] -> F1=0.8146 | Acc=0.8158\n",
      "[Threshold 0.3] -> F1=0.8146 | Acc=0.8158\n",
      "[Threshold 0.4] -> F1=0.8403 | Acc=0.8421\n",
      "[Threshold 0.5] -> F1=0.8381 | Acc=0.8421\n",
      "\n",
      "[Best Threshold] = 0.4 with F1=0.8403\n",
      "Final validation loss: 0.5535\n",
      "Final validation acc: 50.00%\n",
      "Final validation f1: 0.50%\n",
      "\n",
      "===== Fold 6/10 =====\n"
     ]
    },
    {
     "name": "stderr",
     "output_type": "stream",
     "text": [
      "/home/s.dharia-ra/miniconda3/envs/ml/lib/python3.10/site-packages/torch/nn/modules/transformer.py:379: UserWarning: enable_nested_tensor is True, but self.use_nested_tensor is False because encoder_layer.self_attn.num_heads is odd\n",
      "  warnings.warn(\n"
     ]
    },
    {
     "name": "stdout",
     "output_type": "stream",
     "text": [
      "Final training label acc: 75.00%\n",
      "[Threshold 0.2] -> F1=0.7630 | Acc=0.7632\n",
      "[Threshold 0.3] -> F1=0.8157 | Acc=0.8158\n",
      "[Threshold 0.4] -> F1=0.8403 | Acc=0.8421\n",
      "[Threshold 0.5] -> F1=0.8403 | Acc=0.8421\n",
      "\n",
      "[Best Threshold] = 0.4 with F1=0.8403\n",
      "Final validation loss: 0.6475\n",
      "Final validation acc: 50.00%\n",
      "Final validation f1: 0.33%\n",
      "\n",
      "===== Fold 7/10 =====\n"
     ]
    },
    {
     "name": "stderr",
     "output_type": "stream",
     "text": [
      "/home/s.dharia-ra/miniconda3/envs/ml/lib/python3.10/site-packages/torch/nn/modules/transformer.py:379: UserWarning: enable_nested_tensor is True, but self.use_nested_tensor is False because encoder_layer.self_attn.num_heads is odd\n",
      "  warnings.warn(\n"
     ]
    },
    {
     "name": "stdout",
     "output_type": "stream",
     "text": [
      "Final training label acc: 74.91%\n",
      "[Threshold 0.2] -> F1=0.7103 | Acc=0.7105\n",
      "[Threshold 0.3] -> F1=0.7103 | Acc=0.7105\n",
      "[Threshold 0.4] -> F1=0.7630 | Acc=0.7632\n",
      "[Threshold 0.5] -> F1=0.7617 | Acc=0.7632\n",
      "\n",
      "[Best Threshold] = 0.4 with F1=0.7630\n",
      "Final validation loss: 0.4708\n",
      "Final validation acc: 75.00%\n",
      "Final validation f1: 0.73%\n",
      "\n",
      "===== Fold 8/10 =====\n"
     ]
    },
    {
     "name": "stderr",
     "output_type": "stream",
     "text": [
      "/home/s.dharia-ra/miniconda3/envs/ml/lib/python3.10/site-packages/torch/nn/modules/transformer.py:379: UserWarning: enable_nested_tensor is True, but self.use_nested_tensor is False because encoder_layer.self_attn.num_heads is odd\n",
      "  warnings.warn(\n"
     ]
    },
    {
     "name": "stdout",
     "output_type": "stream",
     "text": [
      "Final training label acc: 74.83%\n",
      "[Threshold 0.2] -> F1=0.7361 | Acc=0.7368\n",
      "[Threshold 0.3] -> F1=0.7630 | Acc=0.7632\n",
      "[Threshold 0.4] -> F1=0.7895 | Acc=0.7895\n",
      "[Threshold 0.5] -> F1=0.8676 | Acc=0.8684\n",
      "\n",
      "[Best Threshold] = 0.5 with F1=0.8676\n",
      "Final validation loss: 1.3043\n",
      "Final validation acc: 50.00%\n",
      "Final validation f1: 0.50%\n",
      "\n",
      "===== Fold 9/10 =====\n"
     ]
    },
    {
     "name": "stderr",
     "output_type": "stream",
     "text": [
      "/home/s.dharia-ra/miniconda3/envs/ml/lib/python3.10/site-packages/torch/nn/modules/transformer.py:379: UserWarning: enable_nested_tensor is True, but self.use_nested_tensor is False because encoder_layer.self_attn.num_heads is odd\n",
      "  warnings.warn(\n"
     ]
    },
    {
     "name": "stdout",
     "output_type": "stream",
     "text": [
      "Final training label acc: 71.50%\n",
      "[Threshold 0.2] -> F1=0.6833 | Acc=0.6842\n",
      "[Threshold 0.3] -> F1=0.7103 | Acc=0.7105\n",
      "[Threshold 0.4] -> F1=0.7103 | Acc=0.7105\n",
      "[Threshold 0.5] -> F1=0.7368 | Acc=0.7368\n",
      "\n",
      "[Best Threshold] = 0.5 with F1=0.7368\n",
      "Final validation loss: 0.6095\n",
      "Final validation acc: 50.00%\n",
      "Final validation f1: 0.50%\n",
      "\n",
      "===== Fold 10/10 =====\n"
     ]
    },
    {
     "name": "stderr",
     "output_type": "stream",
     "text": [
      "/home/s.dharia-ra/miniconda3/envs/ml/lib/python3.10/site-packages/torch/nn/modules/transformer.py:379: UserWarning: enable_nested_tensor is True, but self.use_nested_tensor is False because encoder_layer.self_attn.num_heads is odd\n",
      "  warnings.warn(\n"
     ]
    },
    {
     "name": "stdout",
     "output_type": "stream",
     "text": [
      "Final training label acc: 73.29%\n",
      "[Threshold 0.2] -> F1=0.7103 | Acc=0.7105\n",
      "[Threshold 0.3] -> F1=0.7368 | Acc=0.7368\n",
      "[Threshold 0.4] -> F1=0.8146 | Acc=0.8158\n",
      "[Threshold 0.5] -> F1=0.8403 | Acc=0.8421\n",
      "\n",
      "[Best Threshold] = 0.5 with F1=0.8403\n",
      "Final validation loss: 0.6754\n",
      "Final validation acc: 50.00%\n",
      "Final validation f1: 0.50%\n",
      "\n",
      "=== Cross‐Val Results ===\n",
      "Accuracies per fold: [80.0, 60.0, 50.0, 100.0, 50.0, 50.0, 75.0, 50.0, 50.0, 50.0]\n",
      "Mean acc: 61.50%, Std: 16.74%\n",
      "Mean f1: 0.58%, Std: 0.20%\n",
      "\n",
      "===== Fold 1/10 =====\n"
     ]
    },
    {
     "name": "stderr",
     "output_type": "stream",
     "text": [
      "/home/s.dharia-ra/miniconda3/envs/ml/lib/python3.10/site-packages/torch/nn/modules/transformer.py:379: UserWarning: enable_nested_tensor is True, but self.use_nested_tensor is False because encoder_layer.self_attn.num_heads is odd\n",
      "  warnings.warn(\n"
     ]
    },
    {
     "name": "stdout",
     "output_type": "stream",
     "text": [
      "Final training label acc: 76.90%\n",
      "[Threshold 0.2] -> F1=0.7568 | Acc=0.7568\n",
      "[Threshold 0.3] -> F1=0.8103 | Acc=0.8108\n",
      "[Threshold 0.4] -> F1=0.8368 | Acc=0.8378\n",
      "[Threshold 0.5] -> F1=0.8086 | Acc=0.8108\n",
      "\n",
      "[Best Threshold] = 0.4 with F1=0.8368\n",
      "Final validation loss: 0.8437\n",
      "Final validation acc: 80.00%\n",
      "Final validation f1: 0.80%\n",
      "\n",
      "===== Fold 2/10 =====\n"
     ]
    },
    {
     "name": "stderr",
     "output_type": "stream",
     "text": [
      "/home/s.dharia-ra/miniconda3/envs/ml/lib/python3.10/site-packages/torch/nn/modules/transformer.py:379: UserWarning: enable_nested_tensor is True, but self.use_nested_tensor is False because encoder_layer.self_attn.num_heads is odd\n",
      "  warnings.warn(\n"
     ]
    },
    {
     "name": "stdout",
     "output_type": "stream",
     "text": [
      "Final training label acc: 77.14%\n",
      "[Threshold 0.2] -> F1=0.7279 | Acc=0.7297\n",
      "[Threshold 0.3] -> F1=0.8103 | Acc=0.8108\n",
      "[Threshold 0.4] -> F1=0.8368 | Acc=0.8378\n",
      "[Threshold 0.5] -> F1=0.8633 | Acc=0.8649\n",
      "\n",
      "[Best Threshold] = 0.5 with F1=0.8633\n",
      "Final validation loss: 0.5812\n",
      "Final validation acc: 80.00%\n",
      "Final validation f1: 0.76%\n",
      "\n",
      "===== Fold 3/10 =====\n"
     ]
    },
    {
     "name": "stderr",
     "output_type": "stream",
     "text": [
      "/home/s.dharia-ra/miniconda3/envs/ml/lib/python3.10/site-packages/torch/nn/modules/transformer.py:379: UserWarning: enable_nested_tensor is True, but self.use_nested_tensor is False because encoder_layer.self_attn.num_heads is odd\n",
      "  warnings.warn(\n"
     ]
    },
    {
     "name": "stdout",
     "output_type": "stream",
     "text": [
      "Final training label acc: 77.08%\n",
      "[Threshold 0.2] -> F1=0.7630 | Acc=0.7632\n",
      "[Threshold 0.3] -> F1=0.7630 | Acc=0.7632\n",
      "[Threshold 0.4] -> F1=0.8417 | Acc=0.8421\n",
      "[Threshold 0.5] -> F1=0.8417 | Acc=0.8421\n",
      "\n",
      "[Best Threshold] = 0.4 with F1=0.8417\n",
      "Final validation loss: 0.8089\n",
      "Final validation acc: 50.00%\n",
      "Final validation f1: 0.50%\n",
      "\n",
      "===== Fold 4/10 =====\n"
     ]
    },
    {
     "name": "stderr",
     "output_type": "stream",
     "text": [
      "/home/s.dharia-ra/miniconda3/envs/ml/lib/python3.10/site-packages/torch/nn/modules/transformer.py:379: UserWarning: enable_nested_tensor is True, but self.use_nested_tensor is False because encoder_layer.self_attn.num_heads is odd\n",
      "  warnings.warn(\n"
     ]
    },
    {
     "name": "stdout",
     "output_type": "stream",
     "text": [
      "Final training label acc: 74.91%\n",
      "[Threshold 0.2] -> F1=0.7361 | Acc=0.7368\n",
      "[Threshold 0.3] -> F1=0.7895 | Acc=0.7895\n",
      "[Threshold 0.4] -> F1=0.8417 | Acc=0.8421\n",
      "[Threshold 0.5] -> F1=0.8146 | Acc=0.8158\n",
      "\n",
      "[Best Threshold] = 0.4 with F1=0.8417\n",
      "Final validation loss: 0.7068\n",
      "Final validation acc: 50.00%\n",
      "Final validation f1: 0.50%\n",
      "\n",
      "===== Fold 5/10 =====\n"
     ]
    },
    {
     "name": "stderr",
     "output_type": "stream",
     "text": [
      "/home/s.dharia-ra/miniconda3/envs/ml/lib/python3.10/site-packages/torch/nn/modules/transformer.py:379: UserWarning: enable_nested_tensor is True, but self.use_nested_tensor is False because encoder_layer.self_attn.num_heads is odd\n",
      "  warnings.warn(\n"
     ]
    },
    {
     "name": "stdout",
     "output_type": "stream",
     "text": [
      "Final training label acc: 77.23%\n",
      "[Threshold 0.2] -> F1=0.7361 | Acc=0.7368\n",
      "[Threshold 0.3] -> F1=0.7895 | Acc=0.7895\n",
      "[Threshold 0.4] -> F1=0.7889 | Acc=0.7895\n",
      "[Threshold 0.5] -> F1=0.7617 | Acc=0.7632\n",
      "\n",
      "[Best Threshold] = 0.3 with F1=0.7895\n",
      "Final validation loss: 1.2702\n",
      "Final validation acc: 50.00%\n",
      "Final validation f1: 0.50%\n",
      "\n",
      "===== Fold 6/10 =====\n"
     ]
    },
    {
     "name": "stderr",
     "output_type": "stream",
     "text": [
      "/home/s.dharia-ra/miniconda3/envs/ml/lib/python3.10/site-packages/torch/nn/modules/transformer.py:379: UserWarning: enable_nested_tensor is True, but self.use_nested_tensor is False because encoder_layer.self_attn.num_heads is odd\n",
      "  warnings.warn(\n"
     ]
    },
    {
     "name": "stdout",
     "output_type": "stream",
     "text": [
      "Final training label acc: 70.82%\n",
      "[Threshold 0.2] -> F1=0.7630 | Acc=0.7632\n",
      "[Threshold 0.3] -> F1=0.7895 | Acc=0.7895\n",
      "[Threshold 0.4] -> F1=0.8417 | Acc=0.8421\n",
      "[Threshold 0.5] -> F1=0.8417 | Acc=0.8421\n",
      "\n",
      "[Best Threshold] = 0.4 with F1=0.8417\n",
      "Final validation loss: 0.5143\n",
      "Final validation acc: 50.00%\n",
      "Final validation f1: 0.33%\n",
      "\n",
      "===== Fold 7/10 =====\n"
     ]
    },
    {
     "name": "stderr",
     "output_type": "stream",
     "text": [
      "/home/s.dharia-ra/miniconda3/envs/ml/lib/python3.10/site-packages/torch/nn/modules/transformer.py:379: UserWarning: enable_nested_tensor is True, but self.use_nested_tensor is False because encoder_layer.self_attn.num_heads is odd\n",
      "  warnings.warn(\n"
     ]
    },
    {
     "name": "stdout",
     "output_type": "stream",
     "text": [
      "Final training label acc: 75.87%\n",
      "[Threshold 0.2] -> F1=0.7087 | Acc=0.7105\n",
      "[Threshold 0.3] -> F1=0.7630 | Acc=0.7632\n",
      "[Threshold 0.4] -> F1=0.7630 | Acc=0.7632\n",
      "[Threshold 0.5] -> F1=0.7889 | Acc=0.7895\n",
      "\n",
      "[Best Threshold] = 0.5 with F1=0.7889\n",
      "Final validation loss: 0.8426\n",
      "Final validation acc: 75.00%\n",
      "Final validation f1: 0.73%\n",
      "\n",
      "===== Fold 8/10 =====\n"
     ]
    },
    {
     "name": "stderr",
     "output_type": "stream",
     "text": [
      "/home/s.dharia-ra/miniconda3/envs/ml/lib/python3.10/site-packages/torch/nn/modules/transformer.py:379: UserWarning: enable_nested_tensor is True, but self.use_nested_tensor is False because encoder_layer.self_attn.num_heads is odd\n",
      "  warnings.warn(\n"
     ]
    },
    {
     "name": "stdout",
     "output_type": "stream",
     "text": [
      "Final training label acc: 74.74%\n",
      "[Threshold 0.2] -> F1=0.7103 | Acc=0.7105\n",
      "[Threshold 0.3] -> F1=0.6842 | Acc=0.6842\n",
      "[Threshold 0.4] -> F1=0.7361 | Acc=0.7368\n",
      "[Threshold 0.5] -> F1=0.7871 | Acc=0.7895\n",
      "\n",
      "[Best Threshold] = 0.5 with F1=0.7871\n",
      "Final validation loss: 0.5253\n",
      "Final validation acc: 100.00%\n",
      "Final validation f1: 1.00%\n",
      "\n",
      "===== Fold 9/10 =====\n"
     ]
    },
    {
     "name": "stderr",
     "output_type": "stream",
     "text": [
      "/home/s.dharia-ra/miniconda3/envs/ml/lib/python3.10/site-packages/torch/nn/modules/transformer.py:379: UserWarning: enable_nested_tensor is True, but self.use_nested_tensor is False because encoder_layer.self_attn.num_heads is odd\n",
      "  warnings.warn(\n"
     ]
    },
    {
     "name": "stdout",
     "output_type": "stream",
     "text": [
      "Final training label acc: 74.49%\n",
      "[Threshold 0.2] -> F1=0.7630 | Acc=0.7632\n",
      "[Threshold 0.3] -> F1=0.7889 | Acc=0.7895\n",
      "[Threshold 0.4] -> F1=0.7889 | Acc=0.7895\n",
      "[Threshold 0.5] -> F1=0.8146 | Acc=0.8158\n",
      "\n",
      "[Best Threshold] = 0.5 with F1=0.8146\n",
      "Final validation loss: 0.8462\n",
      "Final validation acc: 75.00%\n",
      "Final validation f1: 0.73%\n",
      "\n",
      "===== Fold 10/10 =====\n"
     ]
    },
    {
     "name": "stderr",
     "output_type": "stream",
     "text": [
      "/home/s.dharia-ra/miniconda3/envs/ml/lib/python3.10/site-packages/torch/nn/modules/transformer.py:379: UserWarning: enable_nested_tensor is True, but self.use_nested_tensor is False because encoder_layer.self_attn.num_heads is odd\n",
      "  warnings.warn(\n"
     ]
    },
    {
     "name": "stdout",
     "output_type": "stream",
     "text": [
      "Final training label acc: 73.71%\n",
      "[Threshold 0.2] -> F1=0.7103 | Acc=0.7105\n",
      "[Threshold 0.3] -> F1=0.7368 | Acc=0.7368\n",
      "[Threshold 0.4] -> F1=0.7889 | Acc=0.7895\n",
      "[Threshold 0.5] -> F1=0.8403 | Acc=0.8421\n",
      "\n",
      "[Best Threshold] = 0.5 with F1=0.8403\n",
      "Final validation loss: 0.3369\n",
      "Final validation acc: 75.00%\n",
      "Final validation f1: 0.73%\n",
      "\n",
      "=== Cross‐Val Results ===\n",
      "Accuracies per fold: [80.0, 80.0, 50.0, 50.0, 50.0, 50.0, 75.0, 100.0, 75.0, 75.0]\n",
      "Mean acc: 68.50%, Std: 16.59%\n",
      "Mean f1: 0.66%, Std: 0.19%\n",
      "\n",
      "===== Fold 1/10 =====\n"
     ]
    },
    {
     "name": "stderr",
     "output_type": "stream",
     "text": [
      "/home/s.dharia-ra/miniconda3/envs/ml/lib/python3.10/site-packages/torch/nn/modules/transformer.py:379: UserWarning: enable_nested_tensor is True, but self.use_nested_tensor is False because encoder_layer.self_attn.num_heads is odd\n",
      "  warnings.warn(\n"
     ]
    },
    {
     "name": "stdout",
     "output_type": "stream",
     "text": [
      "Final training label acc: 76.71%\n",
      "[Threshold 0.2] -> F1=0.7560 | Acc=0.7568\n",
      "[Threshold 0.3] -> F1=0.7836 | Acc=0.7838\n",
      "[Threshold 0.4] -> F1=0.8108 | Acc=0.8108\n",
      "[Threshold 0.5] -> F1=0.8645 | Acc=0.8649\n",
      "\n",
      "[Best Threshold] = 0.5 with F1=0.8645\n",
      "Final validation loss: 1.5663\n",
      "Final validation acc: 60.00%\n",
      "Final validation f1: 0.58%\n",
      "\n",
      "===== Fold 2/10 =====\n"
     ]
    },
    {
     "name": "stderr",
     "output_type": "stream",
     "text": [
      "/home/s.dharia-ra/miniconda3/envs/ml/lib/python3.10/site-packages/torch/nn/modules/transformer.py:379: UserWarning: enable_nested_tensor is True, but self.use_nested_tensor is False because encoder_layer.self_attn.num_heads is odd\n",
      "  warnings.warn(\n"
     ]
    },
    {
     "name": "stdout",
     "output_type": "stream",
     "text": [
      "Final training label acc: 75.54%\n",
      "[Threshold 0.2] -> F1=0.7279 | Acc=0.7297\n",
      "[Threshold 0.3] -> F1=0.7295 | Acc=0.7297\n",
      "[Threshold 0.4] -> F1=0.7836 | Acc=0.7838\n",
      "[Threshold 0.5] -> F1=0.8103 | Acc=0.8108\n",
      "\n",
      "[Best Threshold] = 0.5 with F1=0.8103\n",
      "Final validation loss: 0.4471\n",
      "Final validation acc: 80.00%\n",
      "Final validation f1: 0.80%\n",
      "\n",
      "===== Fold 3/10 =====\n"
     ]
    },
    {
     "name": "stderr",
     "output_type": "stream",
     "text": [
      "/home/s.dharia-ra/miniconda3/envs/ml/lib/python3.10/site-packages/torch/nn/modules/transformer.py:379: UserWarning: enable_nested_tensor is True, but self.use_nested_tensor is False because encoder_layer.self_attn.num_heads is odd\n",
      "  warnings.warn(\n"
     ]
    },
    {
     "name": "stdout",
     "output_type": "stream",
     "text": [
      "Final training label acc: 75.99%\n",
      "[Threshold 0.2] -> F1=0.7339 | Acc=0.7368\n",
      "[Threshold 0.3] -> F1=0.8157 | Acc=0.8158\n",
      "[Threshold 0.4] -> F1=0.8421 | Acc=0.8421\n",
      "[Threshold 0.5] -> F1=0.8944 | Acc=0.8947\n",
      "\n",
      "[Best Threshold] = 0.5 with F1=0.8944\n",
      "Final validation loss: 0.7559\n",
      "Final validation acc: 50.00%\n",
      "Final validation f1: 0.33%\n",
      "\n",
      "===== Fold 4/10 =====\n"
     ]
    },
    {
     "name": "stderr",
     "output_type": "stream",
     "text": [
      "/home/s.dharia-ra/miniconda3/envs/ml/lib/python3.10/site-packages/torch/nn/modules/transformer.py:379: UserWarning: enable_nested_tensor is True, but self.use_nested_tensor is False because encoder_layer.self_attn.num_heads is odd\n",
      "  warnings.warn(\n"
     ]
    },
    {
     "name": "stdout",
     "output_type": "stream",
     "text": [
      "Final training label acc: 80.76%\n",
      "[Threshold 0.2] -> F1=0.7889 | Acc=0.7895\n",
      "[Threshold 0.3] -> F1=0.8157 | Acc=0.8158\n",
      "[Threshold 0.4] -> F1=0.8421 | Acc=0.8421\n",
      "[Threshold 0.5] -> F1=0.8683 | Acc=0.8684\n",
      "\n",
      "[Best Threshold] = 0.5 with F1=0.8683\n",
      "Final validation loss: 1.4178\n",
      "Final validation acc: 50.00%\n",
      "Final validation f1: 0.33%\n",
      "\n",
      "===== Fold 5/10 =====\n"
     ]
    },
    {
     "name": "stderr",
     "output_type": "stream",
     "text": [
      "/home/s.dharia-ra/miniconda3/envs/ml/lib/python3.10/site-packages/torch/nn/modules/transformer.py:379: UserWarning: enable_nested_tensor is True, but self.use_nested_tensor is False because encoder_layer.self_attn.num_heads is odd\n",
      "  warnings.warn(\n"
     ]
    },
    {
     "name": "stdout",
     "output_type": "stream",
     "text": [
      "Final training label acc: 77.32%\n",
      "[Threshold 0.2] -> F1=0.7103 | Acc=0.7105\n",
      "[Threshold 0.3] -> F1=0.7617 | Acc=0.7632\n",
      "[Threshold 0.4] -> F1=0.8381 | Acc=0.8421\n",
      "[Threshold 0.5] -> F1=0.8638 | Acc=0.8684\n",
      "\n",
      "[Best Threshold] = 0.5 with F1=0.8638\n",
      "Final validation loss: 0.5882\n",
      "Final validation acc: 75.00%\n",
      "Final validation f1: 0.73%\n",
      "\n",
      "===== Fold 6/10 =====\n"
     ]
    },
    {
     "name": "stderr",
     "output_type": "stream",
     "text": [
      "/home/s.dharia-ra/miniconda3/envs/ml/lib/python3.10/site-packages/torch/nn/modules/transformer.py:379: UserWarning: enable_nested_tensor is True, but self.use_nested_tensor is False because encoder_layer.self_attn.num_heads is odd\n",
      "  warnings.warn(\n"
     ]
    },
    {
     "name": "stdout",
     "output_type": "stream",
     "text": [
      "Final training label acc: 75.86%\n",
      "[Threshold 0.2] -> F1=0.7889 | Acc=0.7895\n",
      "[Threshold 0.3] -> F1=0.8146 | Acc=0.8158\n",
      "[Threshold 0.4] -> F1=0.8403 | Acc=0.8421\n",
      "[Threshold 0.5] -> F1=0.8661 | Acc=0.8684\n",
      "\n",
      "[Best Threshold] = 0.5 with F1=0.8661\n",
      "Final validation loss: 0.5166\n",
      "Final validation acc: 75.00%\n",
      "Final validation f1: 0.73%\n",
      "\n",
      "===== Fold 7/10 =====\n"
     ]
    },
    {
     "name": "stderr",
     "output_type": "stream",
     "text": [
      "/home/s.dharia-ra/miniconda3/envs/ml/lib/python3.10/site-packages/torch/nn/modules/transformer.py:379: UserWarning: enable_nested_tensor is True, but self.use_nested_tensor is False because encoder_layer.self_attn.num_heads is odd\n",
      "  warnings.warn(\n"
     ]
    },
    {
     "name": "stdout",
     "output_type": "stream",
     "text": [
      "Final training label acc: 69.76%\n",
      "[Threshold 0.2] -> F1=0.7103 | Acc=0.7105\n",
      "[Threshold 0.3] -> F1=0.7103 | Acc=0.7105\n",
      "[Threshold 0.4] -> F1=0.7590 | Acc=0.7632\n",
      "[Threshold 0.5] -> F1=0.7301 | Acc=0.7368\n",
      "\n",
      "[Best Threshold] = 0.4 with F1=0.7590\n",
      "Final validation loss: 0.6180\n",
      "Final validation acc: 75.00%\n",
      "Final validation f1: 0.73%\n",
      "\n",
      "===== Fold 8/10 =====\n"
     ]
    },
    {
     "name": "stderr",
     "output_type": "stream",
     "text": [
      "/home/s.dharia-ra/miniconda3/envs/ml/lib/python3.10/site-packages/torch/nn/modules/transformer.py:379: UserWarning: enable_nested_tensor is True, but self.use_nested_tensor is False because encoder_layer.self_attn.num_heads is odd\n",
      "  warnings.warn(\n"
     ]
    },
    {
     "name": "stdout",
     "output_type": "stream",
     "text": [
      "Final training label acc: 74.74%\n",
      "[Threshold 0.2] -> F1=0.7368 | Acc=0.7368\n",
      "[Threshold 0.3] -> F1=0.7630 | Acc=0.7632\n",
      "[Threshold 0.4] -> F1=0.8403 | Acc=0.8421\n",
      "[Threshold 0.5] -> F1=0.8403 | Acc=0.8421\n",
      "\n",
      "[Best Threshold] = 0.4 with F1=0.8403\n",
      "Final validation loss: 0.6432\n",
      "Final validation acc: 75.00%\n",
      "Final validation f1: 0.73%\n",
      "\n",
      "===== Fold 9/10 =====\n"
     ]
    },
    {
     "name": "stderr",
     "output_type": "stream",
     "text": [
      "/home/s.dharia-ra/miniconda3/envs/ml/lib/python3.10/site-packages/torch/nn/modules/transformer.py:379: UserWarning: enable_nested_tensor is True, but self.use_nested_tensor is False because encoder_layer.self_attn.num_heads is odd\n",
      "  warnings.warn(\n"
     ]
    },
    {
     "name": "stdout",
     "output_type": "stream",
     "text": [
      "Final training label acc: 75.17%\n",
      "[Threshold 0.2] -> F1=0.7368 | Acc=0.7368\n",
      "[Threshold 0.3] -> F1=0.7630 | Acc=0.7632\n",
      "[Threshold 0.4] -> F1=0.7630 | Acc=0.7632\n",
      "[Threshold 0.5] -> F1=0.7617 | Acc=0.7632\n",
      "\n",
      "[Best Threshold] = 0.3 with F1=0.7630\n",
      "Final validation loss: 0.2363\n",
      "Final validation acc: 100.00%\n",
      "Final validation f1: 1.00%\n",
      "\n",
      "===== Fold 10/10 =====\n"
     ]
    },
    {
     "name": "stderr",
     "output_type": "stream",
     "text": [
      "/home/s.dharia-ra/miniconda3/envs/ml/lib/python3.10/site-packages/torch/nn/modules/transformer.py:379: UserWarning: enable_nested_tensor is True, but self.use_nested_tensor is False because encoder_layer.self_attn.num_heads is odd\n",
      "  warnings.warn(\n"
     ]
    },
    {
     "name": "stdout",
     "output_type": "stream",
     "text": [
      "Final training label acc: 75.60%\n",
      "[Threshold 0.2] -> F1=0.7368 | Acc=0.7368\n",
      "[Threshold 0.3] -> F1=0.7368 | Acc=0.7368\n",
      "[Threshold 0.4] -> F1=0.8403 | Acc=0.8421\n",
      "[Threshold 0.5] -> F1=0.8661 | Acc=0.8684\n",
      "\n",
      "[Best Threshold] = 0.5 with F1=0.8661\n",
      "Final validation loss: 0.7127\n",
      "Final validation acc: 50.00%\n",
      "Final validation f1: 0.50%\n",
      "\n",
      "=== Cross‐Val Results ===\n",
      "Accuracies per fold: [60.0, 80.0, 50.0, 50.0, 75.0, 75.0, 75.0, 75.0, 100.0, 50.0]\n",
      "Mean acc: 69.00%, Std: 15.46%\n",
      "Mean f1: 0.65%, Std: 0.20%\n",
      "\n",
      "===== Fold 1/10 =====\n"
     ]
    },
    {
     "name": "stderr",
     "output_type": "stream",
     "text": [
      "/home/s.dharia-ra/miniconda3/envs/ml/lib/python3.10/site-packages/torch/nn/modules/transformer.py:379: UserWarning: enable_nested_tensor is True, but self.use_nested_tensor is False because encoder_layer.self_attn.num_heads is odd\n",
      "  warnings.warn(\n"
     ]
    },
    {
     "name": "stdout",
     "output_type": "stream",
     "text": [
      "Final training label acc: 78.06%\n",
      "[Threshold 0.2] -> F1=0.8368 | Acc=0.8378\n",
      "[Threshold 0.3] -> F1=0.8633 | Acc=0.8649\n",
      "[Threshold 0.4] -> F1=0.8633 | Acc=0.8649\n",
      "[Threshold 0.5] -> F1=0.8899 | Acc=0.8919\n",
      "\n",
      "[Best Threshold] = 0.5 with F1=0.8899\n",
      "Final validation loss: 0.7916\n",
      "Final validation acc: 60.00%\n",
      "Final validation f1: 0.58%\n",
      "\n",
      "===== Fold 2/10 =====\n"
     ]
    },
    {
     "name": "stderr",
     "output_type": "stream",
     "text": [
      "/home/s.dharia-ra/miniconda3/envs/ml/lib/python3.10/site-packages/torch/nn/modules/transformer.py:379: UserWarning: enable_nested_tensor is True, but self.use_nested_tensor is False because encoder_layer.self_attn.num_heads is odd\n",
      "  warnings.warn(\n"
     ]
    },
    {
     "name": "stdout",
     "output_type": "stream",
     "text": [
      "Final training label acc: 77.90%\n",
      "[Threshold 0.2] -> F1=0.8108 | Acc=0.8108\n",
      "[Threshold 0.3] -> F1=0.8377 | Acc=0.8378\n",
      "[Threshold 0.4] -> F1=0.8368 | Acc=0.8378\n",
      "[Threshold 0.5] -> F1=0.8368 | Acc=0.8378\n",
      "\n",
      "[Best Threshold] = 0.3 with F1=0.8377\n",
      "Final validation loss: 0.6412\n",
      "Final validation acc: 60.00%\n",
      "Final validation f1: 0.58%\n",
      "\n",
      "===== Fold 3/10 =====\n"
     ]
    },
    {
     "name": "stderr",
     "output_type": "stream",
     "text": [
      "/home/s.dharia-ra/miniconda3/envs/ml/lib/python3.10/site-packages/torch/nn/modules/transformer.py:379: UserWarning: enable_nested_tensor is True, but self.use_nested_tensor is False because encoder_layer.self_attn.num_heads is odd\n",
      "  warnings.warn(\n"
     ]
    },
    {
     "name": "stdout",
     "output_type": "stream",
     "text": [
      "Final training label acc: 74.55%\n",
      "[Threshold 0.2] -> F1=0.7617 | Acc=0.7632\n",
      "[Threshold 0.3] -> F1=0.7617 | Acc=0.7632\n",
      "[Threshold 0.4] -> F1=0.7630 | Acc=0.7632\n",
      "[Threshold 0.5] -> F1=0.7103 | Acc=0.7105\n",
      "\n",
      "[Best Threshold] = 0.4 with F1=0.7630\n",
      "Final validation loss: 1.0408\n",
      "Final validation acc: 25.00%\n",
      "Final validation f1: 0.20%\n",
      "\n",
      "===== Fold 4/10 =====\n"
     ]
    },
    {
     "name": "stderr",
     "output_type": "stream",
     "text": [
      "/home/s.dharia-ra/miniconda3/envs/ml/lib/python3.10/site-packages/torch/nn/modules/transformer.py:379: UserWarning: enable_nested_tensor is True, but self.use_nested_tensor is False because encoder_layer.self_attn.num_heads is odd\n",
      "  warnings.warn(\n"
     ]
    },
    {
     "name": "stdout",
     "output_type": "stream",
     "text": [
      "Final training label acc: 75.00%\n",
      "[Threshold 0.2] -> F1=0.7087 | Acc=0.7105\n",
      "[Threshold 0.3] -> F1=0.7630 | Acc=0.7632\n",
      "[Threshold 0.4] -> F1=0.8157 | Acc=0.8158\n",
      "[Threshold 0.5] -> F1=0.8417 | Acc=0.8421\n",
      "\n",
      "[Best Threshold] = 0.5 with F1=0.8417\n",
      "Final validation loss: 0.8702\n",
      "Final validation acc: 50.00%\n",
      "Final validation f1: 0.33%\n",
      "\n",
      "===== Fold 5/10 =====\n"
     ]
    },
    {
     "name": "stderr",
     "output_type": "stream",
     "text": [
      "/home/s.dharia-ra/miniconda3/envs/ml/lib/python3.10/site-packages/torch/nn/modules/transformer.py:379: UserWarning: enable_nested_tensor is True, but self.use_nested_tensor is False because encoder_layer.self_attn.num_heads is odd\n",
      "  warnings.warn(\n"
     ]
    },
    {
     "name": "stdout",
     "output_type": "stream",
     "text": [
      "Final training label acc: 69.35%\n",
      "[Threshold 0.2] -> F1=0.7103 | Acc=0.7105\n",
      "[Threshold 0.3] -> F1=0.7368 | Acc=0.7368\n",
      "[Threshold 0.4] -> F1=0.7361 | Acc=0.7368\n",
      "[Threshold 0.5] -> F1=0.7617 | Acc=0.7632\n",
      "\n",
      "[Best Threshold] = 0.5 with F1=0.7617\n",
      "Final validation loss: 0.5332\n",
      "Final validation acc: 75.00%\n",
      "Final validation f1: 0.73%\n",
      "\n",
      "===== Fold 6/10 =====\n"
     ]
    },
    {
     "name": "stderr",
     "output_type": "stream",
     "text": [
      "/home/s.dharia-ra/miniconda3/envs/ml/lib/python3.10/site-packages/torch/nn/modules/transformer.py:379: UserWarning: enable_nested_tensor is True, but self.use_nested_tensor is False because encoder_layer.self_attn.num_heads is odd\n",
      "  warnings.warn(\n"
     ]
    },
    {
     "name": "stdout",
     "output_type": "stream",
     "text": [
      "Final training label acc: 72.09%\n",
      "[Threshold 0.2] -> F1=0.7617 | Acc=0.7632\n",
      "[Threshold 0.3] -> F1=0.7871 | Acc=0.7895\n",
      "[Threshold 0.4] -> F1=0.7841 | Acc=0.7895\n",
      "[Threshold 0.5] -> F1=0.7548 | Acc=0.7632\n",
      "\n",
      "[Best Threshold] = 0.3 with F1=0.7871\n",
      "Final validation loss: 0.7829\n",
      "Final validation acc: 75.00%\n",
      "Final validation f1: 0.73%\n",
      "\n",
      "===== Fold 7/10 =====\n"
     ]
    },
    {
     "name": "stderr",
     "output_type": "stream",
     "text": [
      "/home/s.dharia-ra/miniconda3/envs/ml/lib/python3.10/site-packages/torch/nn/modules/transformer.py:379: UserWarning: enable_nested_tensor is True, but self.use_nested_tensor is False because encoder_layer.self_attn.num_heads is odd\n",
      "  warnings.warn(\n"
     ]
    },
    {
     "name": "stdout",
     "output_type": "stream",
     "text": [
      "Final training label acc: 72.84%\n",
      "[Threshold 0.2] -> F1=0.7368 | Acc=0.7368\n",
      "[Threshold 0.3] -> F1=0.7871 | Acc=0.7895\n",
      "[Threshold 0.4] -> F1=0.8125 | Acc=0.8158\n",
      "[Threshold 0.5] -> F1=0.8125 | Acc=0.8158\n",
      "\n",
      "[Best Threshold] = 0.4 with F1=0.8125\n",
      "Final validation loss: 0.3030\n",
      "Final validation acc: 100.00%\n",
      "Final validation f1: 1.00%\n",
      "\n",
      "===== Fold 8/10 =====\n"
     ]
    },
    {
     "name": "stderr",
     "output_type": "stream",
     "text": [
      "/home/s.dharia-ra/miniconda3/envs/ml/lib/python3.10/site-packages/torch/nn/modules/transformer.py:379: UserWarning: enable_nested_tensor is True, but self.use_nested_tensor is False because encoder_layer.self_attn.num_heads is odd\n",
      "  warnings.warn(\n"
     ]
    },
    {
     "name": "stdout",
     "output_type": "stream",
     "text": [
      "Final training label acc: 75.86%\n",
      "[Threshold 0.2] -> F1=0.6833 | Acc=0.6842\n",
      "[Threshold 0.3] -> F1=0.7630 | Acc=0.7632\n",
      "[Threshold 0.4] -> F1=0.8403 | Acc=0.8421\n",
      "[Threshold 0.5] -> F1=0.8381 | Acc=0.8421\n",
      "\n",
      "[Best Threshold] = 0.4 with F1=0.8403\n",
      "Final validation loss: 0.6795\n",
      "Final validation acc: 75.00%\n",
      "Final validation f1: 0.73%\n",
      "\n",
      "===== Fold 9/10 =====\n"
     ]
    },
    {
     "name": "stderr",
     "output_type": "stream",
     "text": [
      "/home/s.dharia-ra/miniconda3/envs/ml/lib/python3.10/site-packages/torch/nn/modules/transformer.py:379: UserWarning: enable_nested_tensor is True, but self.use_nested_tensor is False because encoder_layer.self_attn.num_heads is odd\n",
      "  warnings.warn(\n"
     ]
    },
    {
     "name": "stdout",
     "output_type": "stream",
     "text": [
      "Final training label acc: 72.16%\n",
      "[Threshold 0.2] -> F1=0.6275 | Acc=0.6316\n",
      "[Threshold 0.3] -> F1=0.7368 | Acc=0.7368\n",
      "[Threshold 0.4] -> F1=0.7889 | Acc=0.7895\n",
      "[Threshold 0.5] -> F1=0.8146 | Acc=0.8158\n",
      "\n",
      "[Best Threshold] = 0.5 with F1=0.8146\n",
      "Final validation loss: 0.3314\n",
      "Final validation acc: 100.00%\n",
      "Final validation f1: 1.00%\n",
      "\n",
      "===== Fold 10/10 =====\n"
     ]
    },
    {
     "name": "stderr",
     "output_type": "stream",
     "text": [
      "/home/s.dharia-ra/miniconda3/envs/ml/lib/python3.10/site-packages/torch/nn/modules/transformer.py:379: UserWarning: enable_nested_tensor is True, but self.use_nested_tensor is False because encoder_layer.self_attn.num_heads is odd\n",
      "  warnings.warn(\n"
     ]
    },
    {
     "name": "stdout",
     "output_type": "stream",
     "text": [
      "Final training label acc: 80.72%\n",
      "[Threshold 0.2] -> F1=0.7617 | Acc=0.7632\n",
      "[Threshold 0.3] -> F1=0.8421 | Acc=0.8421\n",
      "[Threshold 0.4] -> F1=0.8683 | Acc=0.8684\n",
      "[Threshold 0.5] -> F1=0.8936 | Acc=0.8947\n",
      "\n",
      "[Best Threshold] = 0.5 with F1=0.8936\n",
      "Final validation loss: 2.2694\n",
      "Final validation acc: 25.00%\n",
      "Final validation f1: 0.20%\n",
      "\n",
      "=== Cross‐Val Results ===\n",
      "Accuracies per fold: [60.0, 60.0, 25.0, 50.0, 75.0, 75.0, 100.0, 75.0, 100.0, 25.0]\n",
      "Mean acc: 64.50%, Std: 24.94%\n",
      "Mean f1: 0.61%, Std: 0.28%\n",
      "\n",
      "===== Fold 1/10 =====\n"
     ]
    },
    {
     "name": "stderr",
     "output_type": "stream",
     "text": [
      "/home/s.dharia-ra/miniconda3/envs/ml/lib/python3.10/site-packages/torch/nn/modules/transformer.py:379: UserWarning: enable_nested_tensor is True, but self.use_nested_tensor is False because encoder_layer.self_attn.num_heads is odd\n",
      "  warnings.warn(\n"
     ]
    },
    {
     "name": "stdout",
     "output_type": "stream",
     "text": [
      "Final training label acc: 76.52%\n",
      "[Threshold 0.2] -> F1=0.7279 | Acc=0.7297\n",
      "[Threshold 0.3] -> F1=0.7836 | Acc=0.7838\n",
      "[Threshold 0.4] -> F1=0.8103 | Acc=0.8108\n",
      "[Threshold 0.5] -> F1=0.8633 | Acc=0.8649\n",
      "\n",
      "[Best Threshold] = 0.5 with F1=0.8633\n",
      "Final validation loss: 1.8884\n",
      "Final validation acc: 80.00%\n",
      "Final validation f1: 0.76%\n",
      "\n",
      "===== Fold 2/10 =====\n"
     ]
    },
    {
     "name": "stderr",
     "output_type": "stream",
     "text": [
      "/home/s.dharia-ra/miniconda3/envs/ml/lib/python3.10/site-packages/torch/nn/modules/transformer.py:379: UserWarning: enable_nested_tensor is True, but self.use_nested_tensor is False because encoder_layer.self_attn.num_heads is odd\n",
      "  warnings.warn(\n"
     ]
    },
    {
     "name": "stdout",
     "output_type": "stream",
     "text": [
      "Final training label acc: 80.29%\n",
      "[Threshold 0.2] -> F1=0.8108 | Acc=0.8108\n",
      "[Threshold 0.3] -> F1=0.7836 | Acc=0.7838\n",
      "[Threshold 0.4] -> F1=0.8103 | Acc=0.8108\n",
      "[Threshold 0.5] -> F1=0.8633 | Acc=0.8649\n",
      "\n",
      "[Best Threshold] = 0.5 with F1=0.8633\n",
      "Final validation loss: 1.4955\n",
      "Final validation acc: 40.00%\n",
      "Final validation f1: 0.29%\n",
      "\n",
      "===== Fold 3/10 =====\n"
     ]
    },
    {
     "name": "stderr",
     "output_type": "stream",
     "text": [
      "/home/s.dharia-ra/miniconda3/envs/ml/lib/python3.10/site-packages/torch/nn/modules/transformer.py:379: UserWarning: enable_nested_tensor is True, but self.use_nested_tensor is False because encoder_layer.self_attn.num_heads is odd\n",
      "  warnings.warn(\n"
     ]
    },
    {
     "name": "stdout",
     "output_type": "stream",
     "text": [
      "Final training label acc: 73.12%\n",
      "[Threshold 0.2] -> F1=0.7895 | Acc=0.7895\n",
      "[Threshold 0.3] -> F1=0.8146 | Acc=0.8158\n",
      "[Threshold 0.4] -> F1=0.8146 | Acc=0.8158\n",
      "[Threshold 0.5] -> F1=0.8661 | Acc=0.8684\n",
      "\n",
      "[Best Threshold] = 0.5 with F1=0.8661\n",
      "Final validation loss: 0.2470\n",
      "Final validation acc: 100.00%\n",
      "Final validation f1: 1.00%\n",
      "\n",
      "===== Fold 4/10 =====\n"
     ]
    },
    {
     "name": "stderr",
     "output_type": "stream",
     "text": [
      "/home/s.dharia-ra/miniconda3/envs/ml/lib/python3.10/site-packages/torch/nn/modules/transformer.py:379: UserWarning: enable_nested_tensor is True, but self.use_nested_tensor is False because encoder_layer.self_attn.num_heads is odd\n",
      "  warnings.warn(\n"
     ]
    },
    {
     "name": "stdout",
     "output_type": "stream",
     "text": [
      "Final training label acc: 71.27%\n",
      "[Threshold 0.2] -> F1=0.7087 | Acc=0.7105\n",
      "[Threshold 0.3] -> F1=0.7087 | Acc=0.7105\n",
      "[Threshold 0.4] -> F1=0.7087 | Acc=0.7105\n",
      "[Threshold 0.5] -> F1=0.7630 | Acc=0.7632\n",
      "\n",
      "[Best Threshold] = 0.5 with F1=0.7630\n",
      "Final validation loss: 0.7386\n",
      "Final validation acc: 50.00%\n",
      "Final validation f1: 0.50%\n",
      "\n",
      "===== Fold 5/10 =====\n"
     ]
    },
    {
     "name": "stderr",
     "output_type": "stream",
     "text": [
      "/home/s.dharia-ra/miniconda3/envs/ml/lib/python3.10/site-packages/torch/nn/modules/transformer.py:379: UserWarning: enable_nested_tensor is True, but self.use_nested_tensor is False because encoder_layer.self_attn.num_heads is odd\n",
      "  warnings.warn(\n"
     ]
    },
    {
     "name": "stdout",
     "output_type": "stream",
     "text": [
      "Final training label acc: 75.17%\n",
      "[Threshold 0.2] -> F1=0.7087 | Acc=0.7105\n",
      "[Threshold 0.3] -> F1=0.7361 | Acc=0.7368\n",
      "[Threshold 0.4] -> F1=0.7630 | Acc=0.7632\n",
      "[Threshold 0.5] -> F1=0.7889 | Acc=0.7895\n",
      "\n",
      "[Best Threshold] = 0.5 with F1=0.7889\n",
      "Final validation loss: 0.3548\n",
      "Final validation acc: 100.00%\n",
      "Final validation f1: 1.00%\n",
      "\n",
      "===== Fold 6/10 =====\n"
     ]
    },
    {
     "name": "stderr",
     "output_type": "stream",
     "text": [
      "/home/s.dharia-ra/miniconda3/envs/ml/lib/python3.10/site-packages/torch/nn/modules/transformer.py:379: UserWarning: enable_nested_tensor is True, but self.use_nested_tensor is False because encoder_layer.self_attn.num_heads is odd\n",
      "  warnings.warn(\n"
     ]
    },
    {
     "name": "stdout",
     "output_type": "stream",
     "text": [
      "Final training label acc: 73.63%\n",
      "[Threshold 0.2] -> F1=0.7368 | Acc=0.7368\n",
      "[Threshold 0.3] -> F1=0.7630 | Acc=0.7632\n",
      "[Threshold 0.4] -> F1=0.8146 | Acc=0.8158\n",
      "[Threshold 0.5] -> F1=0.7871 | Acc=0.7895\n",
      "\n",
      "[Best Threshold] = 0.4 with F1=0.8146\n",
      "Final validation loss: 0.5952\n",
      "Final validation acc: 75.00%\n",
      "Final validation f1: 0.73%\n",
      "\n",
      "===== Fold 7/10 =====\n"
     ]
    },
    {
     "name": "stderr",
     "output_type": "stream",
     "text": [
      "/home/s.dharia-ra/miniconda3/envs/ml/lib/python3.10/site-packages/torch/nn/modules/transformer.py:379: UserWarning: enable_nested_tensor is True, but self.use_nested_tensor is False because encoder_layer.self_attn.num_heads is odd\n",
      "  warnings.warn(\n"
     ]
    },
    {
     "name": "stdout",
     "output_type": "stream",
     "text": [
      "Final training label acc: 72.15%\n",
      "[Threshold 0.2] -> F1=0.7368 | Acc=0.7368\n",
      "[Threshold 0.3] -> F1=0.7630 | Acc=0.7632\n",
      "[Threshold 0.4] -> F1=0.7617 | Acc=0.7632\n",
      "[Threshold 0.5] -> F1=0.7871 | Acc=0.7895\n",
      "\n",
      "[Best Threshold] = 0.5 with F1=0.7871\n",
      "Final validation loss: 0.4631\n",
      "Final validation acc: 75.00%\n",
      "Final validation f1: 0.73%\n",
      "\n",
      "===== Fold 8/10 =====\n"
     ]
    },
    {
     "name": "stderr",
     "output_type": "stream",
     "text": [
      "/home/s.dharia-ra/miniconda3/envs/ml/lib/python3.10/site-packages/torch/nn/modules/transformer.py:379: UserWarning: enable_nested_tensor is True, but self.use_nested_tensor is False because encoder_layer.self_attn.num_heads is odd\n",
      "  warnings.warn(\n"
     ]
    },
    {
     "name": "stdout",
     "output_type": "stream",
     "text": [
      "Final training label acc: 79.59%\n",
      "[Threshold 0.2] -> F1=0.7895 | Acc=0.7895\n",
      "[Threshold 0.3] -> F1=0.7630 | Acc=0.7632\n",
      "[Threshold 0.4] -> F1=0.7871 | Acc=0.7895\n",
      "[Threshold 0.5] -> F1=0.7871 | Acc=0.7895\n",
      "\n",
      "[Best Threshold] = 0.2 with F1=0.7895\n",
      "Final validation loss: 1.2182\n",
      "Final validation acc: 50.00%\n",
      "Final validation f1: 0.50%\n",
      "\n",
      "===== Fold 9/10 =====\n"
     ]
    },
    {
     "name": "stderr",
     "output_type": "stream",
     "text": [
      "/home/s.dharia-ra/miniconda3/envs/ml/lib/python3.10/site-packages/torch/nn/modules/transformer.py:379: UserWarning: enable_nested_tensor is True, but self.use_nested_tensor is False because encoder_layer.self_attn.num_heads is odd\n",
      "  warnings.warn(\n"
     ]
    },
    {
     "name": "stdout",
     "output_type": "stream",
     "text": [
      "Final training label acc: 72.34%\n",
      "[Threshold 0.2] -> F1=0.7103 | Acc=0.7105\n",
      "[Threshold 0.3] -> F1=0.7103 | Acc=0.7105\n",
      "[Threshold 0.4] -> F1=0.7103 | Acc=0.7105\n",
      "[Threshold 0.5] -> F1=0.7339 | Acc=0.7368\n",
      "\n",
      "[Best Threshold] = 0.5 with F1=0.7339\n",
      "Final validation loss: 0.5896\n",
      "Final validation acc: 50.00%\n",
      "Final validation f1: 0.33%\n",
      "\n",
      "===== Fold 10/10 =====\n"
     ]
    },
    {
     "name": "stderr",
     "output_type": "stream",
     "text": [
      "/home/s.dharia-ra/miniconda3/envs/ml/lib/python3.10/site-packages/torch/nn/modules/transformer.py:379: UserWarning: enable_nested_tensor is True, but self.use_nested_tensor is False because encoder_layer.self_attn.num_heads is odd\n",
      "  warnings.warn(\n"
     ]
    },
    {
     "name": "stdout",
     "output_type": "stream",
     "text": [
      "Final training label acc: 83.73%\n",
      "[Threshold 0.2] -> F1=0.8403 | Acc=0.8421\n",
      "[Threshold 0.3] -> F1=0.8920 | Acc=0.8947\n",
      "[Threshold 0.4] -> F1=0.9183 | Acc=0.9211\n",
      "[Threshold 0.5] -> F1=0.9183 | Acc=0.9211\n",
      "\n",
      "[Best Threshold] = 0.4 with F1=0.9183\n",
      "Final validation loss: 1.2947\n",
      "Final validation acc: 25.00%\n",
      "Final validation f1: 0.20%\n",
      "\n",
      "=== Cross‐Val Results ===\n",
      "Accuracies per fold: [80.0, 40.0, 100.0, 50.0, 100.0, 75.0, 75.0, 50.0, 50.0, 25.0]\n",
      "Mean acc: 64.50%, Std: 24.03%\n",
      "Mean f1: 0.60%, Std: 0.27%\n",
      "\n",
      "===== Fold 1/10 =====\n"
     ]
    },
    {
     "name": "stderr",
     "output_type": "stream",
     "text": [
      "/home/s.dharia-ra/miniconda3/envs/ml/lib/python3.10/site-packages/torch/nn/modules/transformer.py:379: UserWarning: enable_nested_tensor is True, but self.use_nested_tensor is False because encoder_layer.self_attn.num_heads is odd\n",
      "  warnings.warn(\n"
     ]
    },
    {
     "name": "stdout",
     "output_type": "stream",
     "text": [
      "Final training label acc: 75.63%\n",
      "[Threshold 0.2] -> F1=0.7295 | Acc=0.7297\n",
      "[Threshold 0.3] -> F1=0.7568 | Acc=0.7568\n",
      "[Threshold 0.4] -> F1=0.8103 | Acc=0.8108\n",
      "[Threshold 0.5] -> F1=0.8633 | Acc=0.8649\n",
      "\n",
      "[Best Threshold] = 0.5 with F1=0.8633\n",
      "Final validation loss: 0.8955\n",
      "Final validation acc: 60.00%\n",
      "Final validation f1: 0.58%\n",
      "\n",
      "===== Fold 2/10 =====\n"
     ]
    },
    {
     "name": "stderr",
     "output_type": "stream",
     "text": [
      "/home/s.dharia-ra/miniconda3/envs/ml/lib/python3.10/site-packages/torch/nn/modules/transformer.py:379: UserWarning: enable_nested_tensor is True, but self.use_nested_tensor is False because encoder_layer.self_attn.num_heads is odd\n",
      "  warnings.warn(\n"
     ]
    },
    {
     "name": "stdout",
     "output_type": "stream",
     "text": [
      "Final training label acc: 74.82%\n",
      "[Threshold 0.2] -> F1=0.7279 | Acc=0.7297\n",
      "[Threshold 0.3] -> F1=0.8645 | Acc=0.8649\n",
      "[Threshold 0.4] -> F1=0.8633 | Acc=0.8649\n",
      "[Threshold 0.5] -> F1=0.8057 | Acc=0.8108\n",
      "\n",
      "[Best Threshold] = 0.3 with F1=0.8645\n",
      "Final validation loss: 0.6932\n",
      "Final validation acc: 80.00%\n",
      "Final validation f1: 0.80%\n",
      "\n",
      "===== Fold 3/10 =====\n"
     ]
    },
    {
     "name": "stderr",
     "output_type": "stream",
     "text": [
      "/home/s.dharia-ra/miniconda3/envs/ml/lib/python3.10/site-packages/torch/nn/modules/transformer.py:379: UserWarning: enable_nested_tensor is True, but self.use_nested_tensor is False because encoder_layer.self_attn.num_heads is odd\n",
      "  warnings.warn(\n"
     ]
    },
    {
     "name": "stdout",
     "output_type": "stream",
     "text": [
      "Final training label acc: 77.68%\n",
      "[Threshold 0.2] -> F1=0.7617 | Acc=0.7632\n",
      "[Threshold 0.3] -> F1=0.7889 | Acc=0.7895\n",
      "[Threshold 0.4] -> F1=0.7895 | Acc=0.7895\n",
      "[Threshold 0.5] -> F1=0.8157 | Acc=0.8158\n",
      "\n",
      "[Best Threshold] = 0.5 with F1=0.8157\n",
      "Final validation loss: 0.7915\n",
      "Final validation acc: 50.00%\n",
      "Final validation f1: 0.50%\n",
      "\n",
      "===== Fold 4/10 =====\n"
     ]
    },
    {
     "name": "stderr",
     "output_type": "stream",
     "text": [
      "/home/s.dharia-ra/miniconda3/envs/ml/lib/python3.10/site-packages/torch/nn/modules/transformer.py:379: UserWarning: enable_nested_tensor is True, but self.use_nested_tensor is False because encoder_layer.self_attn.num_heads is odd\n",
      "  warnings.warn(\n"
     ]
    },
    {
     "name": "stdout",
     "output_type": "stream",
     "text": [
      "Final training label acc: 74.46%\n",
      "[Threshold 0.2] -> F1=0.7889 | Acc=0.7895\n",
      "[Threshold 0.3] -> F1=0.8157 | Acc=0.8158\n",
      "[Threshold 0.4] -> F1=0.8157 | Acc=0.8158\n",
      "[Threshold 0.5] -> F1=0.7889 | Acc=0.7895\n",
      "\n",
      "[Best Threshold] = 0.3 with F1=0.8157\n",
      "Final validation loss: 0.3871\n",
      "Final validation acc: 75.00%\n",
      "Final validation f1: 0.73%\n",
      "\n",
      "===== Fold 5/10 =====\n"
     ]
    },
    {
     "name": "stderr",
     "output_type": "stream",
     "text": [
      "/home/s.dharia-ra/miniconda3/envs/ml/lib/python3.10/site-packages/torch/nn/modules/transformer.py:379: UserWarning: enable_nested_tensor is True, but self.use_nested_tensor is False because encoder_layer.self_attn.num_heads is odd\n",
      "  warnings.warn(\n"
     ]
    },
    {
     "name": "stdout",
     "output_type": "stream",
     "text": [
      "Final training label acc: 74.74%\n",
      "[Threshold 0.2] -> F1=0.7630 | Acc=0.7632\n",
      "[Threshold 0.3] -> F1=0.7889 | Acc=0.7895\n",
      "[Threshold 0.4] -> F1=0.8146 | Acc=0.8158\n",
      "[Threshold 0.5] -> F1=0.8403 | Acc=0.8421\n",
      "\n",
      "[Best Threshold] = 0.5 with F1=0.8403\n",
      "Final validation loss: 0.3776\n",
      "Final validation acc: 100.00%\n",
      "Final validation f1: 1.00%\n",
      "\n",
      "===== Fold 6/10 =====\n"
     ]
    },
    {
     "name": "stderr",
     "output_type": "stream",
     "text": [
      "/home/s.dharia-ra/miniconda3/envs/ml/lib/python3.10/site-packages/torch/nn/modules/transformer.py:379: UserWarning: enable_nested_tensor is True, but self.use_nested_tensor is False because encoder_layer.self_attn.num_heads is odd\n",
      "  warnings.warn(\n"
     ]
    },
    {
     "name": "stdout",
     "output_type": "stream",
     "text": [
      "Final training label acc: 76.63%\n",
      "[Threshold 0.2] -> F1=0.7630 | Acc=0.7632\n",
      "[Threshold 0.3] -> F1=0.7895 | Acc=0.7895\n",
      "[Threshold 0.4] -> F1=0.7889 | Acc=0.7895\n",
      "[Threshold 0.5] -> F1=0.8403 | Acc=0.8421\n",
      "\n",
      "[Best Threshold] = 0.5 with F1=0.8403\n",
      "Final validation loss: 0.3392\n",
      "Final validation acc: 100.00%\n",
      "Final validation f1: 1.00%\n",
      "\n",
      "===== Fold 7/10 =====\n"
     ]
    },
    {
     "name": "stderr",
     "output_type": "stream",
     "text": [
      "/home/s.dharia-ra/miniconda3/envs/ml/lib/python3.10/site-packages/torch/nn/modules/transformer.py:379: UserWarning: enable_nested_tensor is True, but self.use_nested_tensor is False because encoder_layer.self_attn.num_heads is odd\n",
      "  warnings.warn(\n"
     ]
    },
    {
     "name": "stdout",
     "output_type": "stream",
     "text": [
      "Final training label acc: 71.13%\n",
      "[Threshold 0.2] -> F1=0.6519 | Acc=0.6579\n",
      "[Threshold 0.3] -> F1=0.6833 | Acc=0.6842\n",
      "[Threshold 0.4] -> F1=0.6833 | Acc=0.6842\n",
      "[Threshold 0.5] -> F1=0.7630 | Acc=0.7632\n",
      "\n",
      "[Best Threshold] = 0.5 with F1=0.7630\n",
      "Final validation loss: 1.0585\n",
      "Final validation acc: 50.00%\n",
      "Final validation f1: 0.50%\n",
      "\n",
      "===== Fold 8/10 =====\n"
     ]
    },
    {
     "name": "stderr",
     "output_type": "stream",
     "text": [
      "/home/s.dharia-ra/miniconda3/envs/ml/lib/python3.10/site-packages/torch/nn/modules/transformer.py:379: UserWarning: enable_nested_tensor is True, but self.use_nested_tensor is False because encoder_layer.self_attn.num_heads is odd\n",
      "  warnings.warn(\n"
     ]
    },
    {
     "name": "stdout",
     "output_type": "stream",
     "text": [
      "Final training label acc: 75.17%\n",
      "[Threshold 0.2] -> F1=0.6833 | Acc=0.6842\n",
      "[Threshold 0.3] -> F1=0.7368 | Acc=0.7368\n",
      "[Threshold 0.4] -> F1=0.7630 | Acc=0.7632\n",
      "[Threshold 0.5] -> F1=0.8146 | Acc=0.8158\n",
      "\n",
      "[Best Threshold] = 0.5 with F1=0.8146\n",
      "Final validation loss: 0.4693\n",
      "Final validation acc: 75.00%\n",
      "Final validation f1: 0.73%\n",
      "\n",
      "===== Fold 9/10 =====\n"
     ]
    },
    {
     "name": "stderr",
     "output_type": "stream",
     "text": [
      "/home/s.dharia-ra/miniconda3/envs/ml/lib/python3.10/site-packages/torch/nn/modules/transformer.py:379: UserWarning: enable_nested_tensor is True, but self.use_nested_tensor is False because encoder_layer.self_attn.num_heads is odd\n",
      "  warnings.warn(\n"
     ]
    },
    {
     "name": "stdout",
     "output_type": "stream",
     "text": [
      "Final training label acc: 74.65%\n",
      "[Threshold 0.2] -> F1=0.7087 | Acc=0.7105\n",
      "[Threshold 0.3] -> F1=0.7630 | Acc=0.7632\n",
      "[Threshold 0.4] -> F1=0.8146 | Acc=0.8158\n",
      "[Threshold 0.5] -> F1=0.8661 | Acc=0.8684\n",
      "\n",
      "[Best Threshold] = 0.5 with F1=0.8661\n",
      "Final validation loss: 0.5625\n",
      "Final validation acc: 50.00%\n",
      "Final validation f1: 0.50%\n",
      "\n",
      "===== Fold 10/10 =====\n"
     ]
    },
    {
     "name": "stderr",
     "output_type": "stream",
     "text": [
      "/home/s.dharia-ra/miniconda3/envs/ml/lib/python3.10/site-packages/torch/nn/modules/transformer.py:379: UserWarning: enable_nested_tensor is True, but self.use_nested_tensor is False because encoder_layer.self_attn.num_heads is odd\n",
      "  warnings.warn(\n"
     ]
    },
    {
     "name": "stdout",
     "output_type": "stream",
     "text": [
      "Final training label acc: 83.73%\n",
      "[Threshold 0.2] -> F1=0.8157 | Acc=0.8158\n",
      "[Threshold 0.3] -> F1=0.8683 | Acc=0.8684\n",
      "[Threshold 0.4] -> F1=0.9206 | Acc=0.9211\n",
      "[Threshold 0.5] -> F1=0.9206 | Acc=0.9211\n",
      "\n",
      "[Best Threshold] = 0.4 with F1=0.9206\n",
      "Final validation loss: 1.8645\n",
      "Final validation acc: 25.00%\n",
      "Final validation f1: 0.20%\n",
      "\n",
      "=== Cross‐Val Results ===\n",
      "Accuracies per fold: [60.0, 80.0, 50.0, 75.0, 100.0, 100.0, 50.0, 75.0, 50.0, 25.0]\n",
      "Mean acc: 66.50%, Std: 22.70%\n",
      "Mean f1: 0.66%, Std: 0.24%\n",
      "\n",
      "===== Fold 1/10 =====\n"
     ]
    },
    {
     "name": "stderr",
     "output_type": "stream",
     "text": [
      "/home/s.dharia-ra/miniconda3/envs/ml/lib/python3.10/site-packages/torch/nn/modules/transformer.py:379: UserWarning: enable_nested_tensor is True, but self.use_nested_tensor is False because encoder_layer.self_attn.num_heads is odd\n",
      "  warnings.warn(\n"
     ]
    },
    {
     "name": "stdout",
     "output_type": "stream",
     "text": [
      "Final training label acc: 73.01%\n",
      "[Threshold 0.2] -> F1=0.6735 | Acc=0.6757\n",
      "[Threshold 0.3] -> F1=0.6735 | Acc=0.6757\n",
      "[Threshold 0.4] -> F1=0.7560 | Acc=0.7568\n",
      "[Threshold 0.5] -> F1=0.7560 | Acc=0.7568\n",
      "\n",
      "[Best Threshold] = 0.4 with F1=0.7560\n",
      "Final validation loss: 0.4530\n",
      "Final validation acc: 80.00%\n",
      "Final validation f1: 0.80%\n",
      "\n",
      "===== Fold 2/10 =====\n"
     ]
    },
    {
     "name": "stderr",
     "output_type": "stream",
     "text": [
      "/home/s.dharia-ra/miniconda3/envs/ml/lib/python3.10/site-packages/torch/nn/modules/transformer.py:379: UserWarning: enable_nested_tensor is True, but self.use_nested_tensor is False because encoder_layer.self_attn.num_heads is odd\n",
      "  warnings.warn(\n"
     ]
    },
    {
     "name": "stdout",
     "output_type": "stream",
     "text": [
      "Final training label acc: 76.07%\n",
      "[Threshold 0.2] -> F1=0.7568 | Acc=0.7568\n",
      "[Threshold 0.3] -> F1=0.7824 | Acc=0.7838\n",
      "[Threshold 0.4] -> F1=0.7824 | Acc=0.7838\n",
      "[Threshold 0.5] -> F1=0.7824 | Acc=0.7838\n",
      "\n",
      "[Best Threshold] = 0.3 with F1=0.7824\n",
      "Final validation loss: 0.8393\n",
      "Final validation acc: 60.00%\n",
      "Final validation f1: 0.58%\n",
      "\n",
      "===== Fold 3/10 =====\n"
     ]
    },
    {
     "name": "stderr",
     "output_type": "stream",
     "text": [
      "/home/s.dharia-ra/miniconda3/envs/ml/lib/python3.10/site-packages/torch/nn/modules/transformer.py:379: UserWarning: enable_nested_tensor is True, but self.use_nested_tensor is False because encoder_layer.self_attn.num_heads is odd\n",
      "  warnings.warn(\n"
     ]
    },
    {
     "name": "stdout",
     "output_type": "stream",
     "text": [
      "Final training label acc: 74.02%\n",
      "[Threshold 0.2] -> F1=0.6761 | Acc=0.6842\n",
      "[Threshold 0.3] -> F1=0.7054 | Acc=0.7105\n",
      "[Threshold 0.4] -> F1=0.6833 | Acc=0.6842\n",
      "[Threshold 0.5] -> F1=0.7368 | Acc=0.7368\n",
      "\n",
      "[Best Threshold] = 0.5 with F1=0.7368\n",
      "Final validation loss: 0.2298\n",
      "Final validation acc: 100.00%\n",
      "Final validation f1: 1.00%\n",
      "\n",
      "===== Fold 4/10 =====\n"
     ]
    },
    {
     "name": "stderr",
     "output_type": "stream",
     "text": [
      "/home/s.dharia-ra/miniconda3/envs/ml/lib/python3.10/site-packages/torch/nn/modules/transformer.py:379: UserWarning: enable_nested_tensor is True, but self.use_nested_tensor is False because encoder_layer.self_attn.num_heads is odd\n",
      "  warnings.warn(\n"
     ]
    },
    {
     "name": "stdout",
     "output_type": "stream",
     "text": [
      "Final training label acc: 73.45%\n",
      "[Threshold 0.2] -> F1=0.7889 | Acc=0.7895\n",
      "[Threshold 0.3] -> F1=0.8157 | Acc=0.8158\n",
      "[Threshold 0.4] -> F1=0.8157 | Acc=0.8158\n",
      "[Threshold 0.5] -> F1=0.8157 | Acc=0.8158\n",
      "\n",
      "[Best Threshold] = 0.3 with F1=0.8157\n",
      "Final validation loss: 1.0032\n",
      "Final validation acc: 25.00%\n",
      "Final validation f1: 0.20%\n",
      "\n",
      "===== Fold 5/10 =====\n"
     ]
    },
    {
     "name": "stderr",
     "output_type": "stream",
     "text": [
      "/home/s.dharia-ra/miniconda3/envs/ml/lib/python3.10/site-packages/torch/nn/modules/transformer.py:379: UserWarning: enable_nested_tensor is True, but self.use_nested_tensor is False because encoder_layer.self_attn.num_heads is odd\n",
      "  warnings.warn(\n"
     ]
    },
    {
     "name": "stdout",
     "output_type": "stream",
     "text": [
      "Final training label acc: 74.05%\n",
      "[Threshold 0.2] -> F1=0.7103 | Acc=0.7105\n",
      "[Threshold 0.3] -> F1=0.7368 | Acc=0.7368\n",
      "[Threshold 0.4] -> F1=0.7103 | Acc=0.7105\n",
      "[Threshold 0.5] -> F1=0.7617 | Acc=0.7632\n",
      "\n",
      "[Best Threshold] = 0.5 with F1=0.7617\n",
      "Final validation loss: 0.5493\n",
      "Final validation acc: 75.00%\n",
      "Final validation f1: 0.73%\n",
      "\n",
      "===== Fold 6/10 =====\n"
     ]
    },
    {
     "name": "stderr",
     "output_type": "stream",
     "text": [
      "/home/s.dharia-ra/miniconda3/envs/ml/lib/python3.10/site-packages/torch/nn/modules/transformer.py:379: UserWarning: enable_nested_tensor is True, but self.use_nested_tensor is False because encoder_layer.self_attn.num_heads is odd\n",
      "  warnings.warn(\n"
     ]
    },
    {
     "name": "stdout",
     "output_type": "stream",
     "text": [
      "Final training label acc: 77.66%\n",
      "[Threshold 0.2] -> F1=0.7895 | Acc=0.7895\n",
      "[Threshold 0.3] -> F1=0.7889 | Acc=0.7895\n",
      "[Threshold 0.4] -> F1=0.8403 | Acc=0.8421\n",
      "[Threshold 0.5] -> F1=0.8920 | Acc=0.8947\n",
      "\n",
      "[Best Threshold] = 0.5 with F1=0.8920\n",
      "Final validation loss: 1.0152\n",
      "Final validation acc: 50.00%\n",
      "Final validation f1: 0.50%\n",
      "\n",
      "===== Fold 7/10 =====\n"
     ]
    },
    {
     "name": "stderr",
     "output_type": "stream",
     "text": [
      "/home/s.dharia-ra/miniconda3/envs/ml/lib/python3.10/site-packages/torch/nn/modules/transformer.py:379: UserWarning: enable_nested_tensor is True, but self.use_nested_tensor is False because encoder_layer.self_attn.num_heads is odd\n",
      "  warnings.warn(\n"
     ]
    },
    {
     "name": "stdout",
     "output_type": "stream",
     "text": [
      "Final training label acc: 74.23%\n",
      "[Threshold 0.2] -> F1=0.6842 | Acc=0.6842\n",
      "[Threshold 0.3] -> F1=0.7871 | Acc=0.7895\n",
      "[Threshold 0.4] -> F1=0.8125 | Acc=0.8158\n",
      "[Threshold 0.5] -> F1=0.8348 | Acc=0.8421\n",
      "\n",
      "[Best Threshold] = 0.5 with F1=0.8348\n",
      "Final validation loss: 0.3950\n",
      "Final validation acc: 75.00%\n",
      "Final validation f1: 0.73%\n",
      "\n",
      "===== Fold 8/10 =====\n"
     ]
    },
    {
     "name": "stderr",
     "output_type": "stream",
     "text": [
      "/home/s.dharia-ra/miniconda3/envs/ml/lib/python3.10/site-packages/torch/nn/modules/transformer.py:379: UserWarning: enable_nested_tensor is True, but self.use_nested_tensor is False because encoder_layer.self_attn.num_heads is odd\n",
      "  warnings.warn(\n"
     ]
    },
    {
     "name": "stdout",
     "output_type": "stream",
     "text": [
      "Final training label acc: 73.12%\n",
      "[Threshold 0.2] -> F1=0.7630 | Acc=0.7632\n",
      "[Threshold 0.3] -> F1=0.7630 | Acc=0.7632\n",
      "[Threshold 0.4] -> F1=0.8381 | Acc=0.8421\n",
      "[Threshold 0.5] -> F1=0.8093 | Acc=0.8158\n",
      "\n",
      "[Best Threshold] = 0.4 with F1=0.8381\n",
      "Final validation loss: 0.3821\n",
      "Final validation acc: 75.00%\n",
      "Final validation f1: 0.73%\n",
      "\n",
      "===== Fold 9/10 =====\n"
     ]
    },
    {
     "name": "stderr",
     "output_type": "stream",
     "text": [
      "/home/s.dharia-ra/miniconda3/envs/ml/lib/python3.10/site-packages/torch/nn/modules/transformer.py:379: UserWarning: enable_nested_tensor is True, but self.use_nested_tensor is False because encoder_layer.self_attn.num_heads is odd\n",
      "  warnings.warn(\n"
     ]
    },
    {
     "name": "stdout",
     "output_type": "stream",
     "text": [
      "Final training label acc: 82.19%\n",
      "[Threshold 0.2] -> F1=0.8676 | Acc=0.8684\n",
      "[Threshold 0.3] -> F1=0.8936 | Acc=0.8947\n",
      "[Threshold 0.4] -> F1=0.8936 | Acc=0.8947\n",
      "[Threshold 0.5] -> F1=0.9197 | Acc=0.9211\n",
      "\n",
      "[Best Threshold] = 0.5 with F1=0.9197\n",
      "Final validation loss: 1.5532\n",
      "Final validation acc: 50.00%\n",
      "Final validation f1: 0.33%\n",
      "\n",
      "===== Fold 10/10 =====\n"
     ]
    },
    {
     "name": "stderr",
     "output_type": "stream",
     "text": [
      "/home/s.dharia-ra/miniconda3/envs/ml/lib/python3.10/site-packages/torch/nn/modules/transformer.py:379: UserWarning: enable_nested_tensor is True, but self.use_nested_tensor is False because encoder_layer.self_attn.num_heads is odd\n",
      "  warnings.warn(\n"
     ]
    },
    {
     "name": "stdout",
     "output_type": "stream",
     "text": [
      "Final training label acc: 73.89%\n",
      "[Threshold 0.2] -> F1=0.7368 | Acc=0.7368\n",
      "[Threshold 0.3] -> F1=0.7630 | Acc=0.7632\n",
      "[Threshold 0.4] -> F1=0.7630 | Acc=0.7632\n",
      "[Threshold 0.5] -> F1=0.7889 | Acc=0.7895\n",
      "\n",
      "[Best Threshold] = 0.5 with F1=0.7889\n",
      "Final validation loss: 0.9752\n",
      "Final validation acc: 50.00%\n",
      "Final validation f1: 0.50%\n",
      "\n",
      "=== Cross‐Val Results ===\n",
      "Accuracies per fold: [80.0, 60.0, 100.0, 25.0, 75.0, 50.0, 75.0, 75.0, 50.0, 50.0]\n",
      "Mean acc: 64.00%, Std: 20.10%\n",
      "Mean f1: 0.61%, Std: 0.22%\n",
      "\n",
      "===== Fold 1/10 =====\n"
     ]
    },
    {
     "name": "stderr",
     "output_type": "stream",
     "text": [
      "/home/s.dharia-ra/miniconda3/envs/ml/lib/python3.10/site-packages/torch/nn/modules/transformer.py:379: UserWarning: enable_nested_tensor is True, but self.use_nested_tensor is False because encoder_layer.self_attn.num_heads is odd\n",
      "  warnings.warn(\n"
     ]
    },
    {
     "name": "stdout",
     "output_type": "stream",
     "text": [
      "Final training label acc: 77.96%\n",
      "[Threshold 0.2] -> F1=0.7568 | Acc=0.7568\n",
      "[Threshold 0.3] -> F1=0.8103 | Acc=0.8108\n",
      "[Threshold 0.4] -> F1=0.8633 | Acc=0.8649\n",
      "[Threshold 0.5] -> F1=0.8899 | Acc=0.8919\n",
      "\n",
      "[Best Threshold] = 0.5 with F1=0.8899\n",
      "Final validation loss: 0.6705\n",
      "Final validation acc: 60.00%\n",
      "Final validation f1: 0.58%\n",
      "\n",
      "===== Fold 2/10 =====\n"
     ]
    },
    {
     "name": "stderr",
     "output_type": "stream",
     "text": [
      "/home/s.dharia-ra/miniconda3/envs/ml/lib/python3.10/site-packages/torch/nn/modules/transformer.py:379: UserWarning: enable_nested_tensor is True, but self.use_nested_tensor is False because encoder_layer.self_attn.num_heads is odd\n",
      "  warnings.warn(\n"
     ]
    },
    {
     "name": "stdout",
     "output_type": "stream",
     "text": [
      "Final training label acc: 71.76%\n",
      "[Threshold 0.2] -> F1=0.7027 | Acc=0.7027\n",
      "[Threshold 0.3] -> F1=0.7295 | Acc=0.7297\n",
      "[Threshold 0.4] -> F1=0.7295 | Acc=0.7297\n",
      "[Threshold 0.5] -> F1=0.7279 | Acc=0.7297\n",
      "\n",
      "[Best Threshold] = 0.3 with F1=0.7295\n",
      "Final validation loss: 0.2834\n",
      "Final validation acc: 100.00%\n",
      "Final validation f1: 1.00%\n",
      "\n",
      "===== Fold 3/10 =====\n"
     ]
    },
    {
     "name": "stderr",
     "output_type": "stream",
     "text": [
      "/home/s.dharia-ra/miniconda3/envs/ml/lib/python3.10/site-packages/torch/nn/modules/transformer.py:379: UserWarning: enable_nested_tensor is True, but self.use_nested_tensor is False because encoder_layer.self_attn.num_heads is odd\n",
      "  warnings.warn(\n"
     ]
    },
    {
     "name": "stdout",
     "output_type": "stream",
     "text": [
      "Final training label acc: 74.73%\n",
      "[Threshold 0.2] -> F1=0.7617 | Acc=0.7632\n",
      "[Threshold 0.3] -> F1=0.8157 | Acc=0.8158\n",
      "[Threshold 0.4] -> F1=0.8683 | Acc=0.8684\n",
      "[Threshold 0.5] -> F1=0.8403 | Acc=0.8421\n",
      "\n",
      "[Best Threshold] = 0.4 with F1=0.8683\n",
      "Final validation loss: 0.3026\n",
      "Final validation acc: 75.00%\n",
      "Final validation f1: 0.73%\n",
      "\n",
      "===== Fold 4/10 =====\n"
     ]
    },
    {
     "name": "stderr",
     "output_type": "stream",
     "text": [
      "/home/s.dharia-ra/miniconda3/envs/ml/lib/python3.10/site-packages/torch/nn/modules/transformer.py:379: UserWarning: enable_nested_tensor is True, but self.use_nested_tensor is False because encoder_layer.self_attn.num_heads is odd\n",
      "  warnings.warn(\n"
     ]
    },
    {
     "name": "stdout",
     "output_type": "stream",
     "text": [
      "Final training label acc: 73.21%\n",
      "[Threshold 0.2] -> F1=0.7617 | Acc=0.7632\n",
      "[Threshold 0.3] -> F1=0.7889 | Acc=0.7895\n",
      "[Threshold 0.4] -> F1=0.7368 | Acc=0.7368\n",
      "[Threshold 0.5] -> F1=0.7889 | Acc=0.7895\n",
      "\n",
      "[Best Threshold] = 0.3 with F1=0.7889\n",
      "Final validation loss: 1.0108\n",
      "Final validation acc: 50.00%\n",
      "Final validation f1: 0.50%\n",
      "\n",
      "===== Fold 5/10 =====\n"
     ]
    },
    {
     "name": "stderr",
     "output_type": "stream",
     "text": [
      "/home/s.dharia-ra/miniconda3/envs/ml/lib/python3.10/site-packages/torch/nn/modules/transformer.py:379: UserWarning: enable_nested_tensor is True, but self.use_nested_tensor is False because encoder_layer.self_attn.num_heads is odd\n",
      "  warnings.warn(\n"
     ]
    },
    {
     "name": "stdout",
     "output_type": "stream",
     "text": [
      "Final training label acc: 80.61%\n",
      "[Threshold 0.2] -> F1=0.7617 | Acc=0.7632\n",
      "[Threshold 0.3] -> F1=0.8157 | Acc=0.8158\n",
      "[Threshold 0.4] -> F1=0.8683 | Acc=0.8684\n",
      "[Threshold 0.5] -> F1=0.8676 | Acc=0.8684\n",
      "\n",
      "[Best Threshold] = 0.4 with F1=0.8683\n",
      "Final validation loss: 1.6938\n",
      "Final validation acc: 75.00%\n",
      "Final validation f1: 0.73%\n",
      "\n",
      "===== Fold 6/10 =====\n"
     ]
    },
    {
     "name": "stderr",
     "output_type": "stream",
     "text": [
      "/home/s.dharia-ra/miniconda3/envs/ml/lib/python3.10/site-packages/torch/nn/modules/transformer.py:379: UserWarning: enable_nested_tensor is True, but self.use_nested_tensor is False because encoder_layer.self_attn.num_heads is odd\n",
      "  warnings.warn(\n"
     ]
    },
    {
     "name": "stdout",
     "output_type": "stream",
     "text": [
      "Final training label acc: 73.78%\n",
      "[Threshold 0.2] -> F1=0.7630 | Acc=0.7632\n",
      "[Threshold 0.3] -> F1=0.7630 | Acc=0.7632\n",
      "[Threshold 0.4] -> F1=0.8146 | Acc=0.8158\n",
      "[Threshold 0.5] -> F1=0.8403 | Acc=0.8421\n",
      "\n",
      "[Best Threshold] = 0.5 with F1=0.8403\n",
      "Final validation loss: 0.5762\n",
      "Final validation acc: 75.00%\n",
      "Final validation f1: 0.73%\n",
      "\n",
      "===== Fold 7/10 =====\n"
     ]
    },
    {
     "name": "stderr",
     "output_type": "stream",
     "text": [
      "/home/s.dharia-ra/miniconda3/envs/ml/lib/python3.10/site-packages/torch/nn/modules/transformer.py:379: UserWarning: enable_nested_tensor is True, but self.use_nested_tensor is False because encoder_layer.self_attn.num_heads is odd\n",
      "  warnings.warn(\n"
     ]
    },
    {
     "name": "stdout",
     "output_type": "stream",
     "text": [
      "Final training label acc: 78.33%\n",
      "[Threshold 0.2] -> F1=0.7361 | Acc=0.7368\n",
      "[Threshold 0.3] -> F1=0.8157 | Acc=0.8158\n",
      "[Threshold 0.4] -> F1=0.8676 | Acc=0.8684\n",
      "[Threshold 0.5] -> F1=0.8403 | Acc=0.8421\n",
      "\n",
      "[Best Threshold] = 0.4 with F1=0.8676\n",
      "Final validation loss: 0.9633\n",
      "Final validation acc: 75.00%\n",
      "Final validation f1: 0.73%\n",
      "\n",
      "===== Fold 8/10 =====\n"
     ]
    },
    {
     "name": "stderr",
     "output_type": "stream",
     "text": [
      "/home/s.dharia-ra/miniconda3/envs/ml/lib/python3.10/site-packages/torch/nn/modules/transformer.py:379: UserWarning: enable_nested_tensor is True, but self.use_nested_tensor is False because encoder_layer.self_attn.num_heads is odd\n",
      "  warnings.warn(\n"
     ]
    },
    {
     "name": "stdout",
     "output_type": "stream",
     "text": [
      "Final training label acc: 74.32%\n",
      "[Threshold 0.2] -> F1=0.7368 | Acc=0.7368\n",
      "[Threshold 0.3] -> F1=0.7889 | Acc=0.7895\n",
      "[Threshold 0.4] -> F1=0.8661 | Acc=0.8684\n",
      "[Threshold 0.5] -> F1=0.8661 | Acc=0.8684\n",
      "\n",
      "[Best Threshold] = 0.4 with F1=0.8661\n",
      "Final validation loss: 0.6954\n",
      "Final validation acc: 50.00%\n",
      "Final validation f1: 0.50%\n",
      "\n",
      "===== Fold 9/10 =====\n"
     ]
    },
    {
     "name": "stderr",
     "output_type": "stream",
     "text": [
      "/home/s.dharia-ra/miniconda3/envs/ml/lib/python3.10/site-packages/torch/nn/modules/transformer.py:379: UserWarning: enable_nested_tensor is True, but self.use_nested_tensor is False because encoder_layer.self_attn.num_heads is odd\n",
      "  warnings.warn(\n"
     ]
    },
    {
     "name": "stdout",
     "output_type": "stream",
     "text": [
      "Final training label acc: 75.17%\n",
      "[Threshold 0.2] -> F1=0.7087 | Acc=0.7105\n",
      "[Threshold 0.3] -> F1=0.7361 | Acc=0.7368\n",
      "[Threshold 0.4] -> F1=0.7368 | Acc=0.7368\n",
      "[Threshold 0.5] -> F1=0.7871 | Acc=0.7895\n",
      "\n",
      "[Best Threshold] = 0.5 with F1=0.7871\n",
      "Final validation loss: 0.6173\n",
      "Final validation acc: 50.00%\n",
      "Final validation f1: 0.50%\n",
      "\n",
      "===== Fold 10/10 =====\n"
     ]
    },
    {
     "name": "stderr",
     "output_type": "stream",
     "text": [
      "/home/s.dharia-ra/miniconda3/envs/ml/lib/python3.10/site-packages/torch/nn/modules/transformer.py:379: UserWarning: enable_nested_tensor is True, but self.use_nested_tensor is False because encoder_layer.self_attn.num_heads is odd\n",
      "  warnings.warn(\n"
     ]
    },
    {
     "name": "stdout",
     "output_type": "stream",
     "text": [
      "Final training label acc: 76.82%\n",
      "[Threshold 0.2] -> F1=0.7361 | Acc=0.7368\n",
      "[Threshold 0.3] -> F1=0.7103 | Acc=0.7105\n",
      "[Threshold 0.4] -> F1=0.7889 | Acc=0.7895\n",
      "[Threshold 0.5] -> F1=0.8146 | Acc=0.8158\n",
      "\n",
      "[Best Threshold] = 0.5 with F1=0.8146\n",
      "Final validation loss: 0.6503\n",
      "Final validation acc: 50.00%\n",
      "Final validation f1: 0.33%\n",
      "\n",
      "=== Cross‐Val Results ===\n",
      "Accuracies per fold: [60.0, 100.0, 75.0, 50.0, 75.0, 75.0, 75.0, 50.0, 50.0, 50.0]\n",
      "Mean acc: 66.00%, Std: 15.94%\n",
      "Mean f1: 0.64%, Std: 0.18%\n",
      "\n",
      "===== Fold 1/10 =====\n"
     ]
    },
    {
     "name": "stderr",
     "output_type": "stream",
     "text": [
      "/home/s.dharia-ra/miniconda3/envs/ml/lib/python3.10/site-packages/torch/nn/modules/transformer.py:379: UserWarning: enable_nested_tensor is True, but self.use_nested_tensor is False because encoder_layer.self_attn.num_heads is odd\n",
      "  warnings.warn(\n"
     ]
    },
    {
     "name": "stdout",
     "output_type": "stream",
     "text": [
      "Final training label acc: 67.62%\n",
      "[Threshold 0.2] -> F1=0.6754 | Acc=0.6757\n",
      "[Threshold 0.3] -> F1=0.7295 | Acc=0.7297\n",
      "[Threshold 0.4] -> F1=0.6992 | Acc=0.7027\n",
      "[Threshold 0.5] -> F1=0.6992 | Acc=0.7027\n",
      "\n",
      "[Best Threshold] = 0.3 with F1=0.7295\n",
      "Final validation loss: 0.7294\n",
      "Final validation acc: 80.00%\n",
      "Final validation f1: 0.80%\n",
      "\n",
      "===== Fold 2/10 =====\n"
     ]
    },
    {
     "name": "stderr",
     "output_type": "stream",
     "text": [
      "/home/s.dharia-ra/miniconda3/envs/ml/lib/python3.10/site-packages/torch/nn/modules/transformer.py:379: UserWarning: enable_nested_tensor is True, but self.use_nested_tensor is False because encoder_layer.self_attn.num_heads is odd\n",
      "  warnings.warn(\n"
     ]
    },
    {
     "name": "stdout",
     "output_type": "stream",
     "text": [
      "Final training label acc: 78.16%\n",
      "[Threshold 0.2] -> F1=0.7560 | Acc=0.7568\n",
      "[Threshold 0.3] -> F1=0.7836 | Acc=0.7838\n",
      "[Threshold 0.4] -> F1=0.7836 | Acc=0.7838\n",
      "[Threshold 0.5] -> F1=0.8912 | Acc=0.8919\n",
      "\n",
      "[Best Threshold] = 0.5 with F1=0.8912\n",
      "Final validation loss: 1.5215\n",
      "Final validation acc: 60.00%\n",
      "Final validation f1: 0.58%\n",
      "\n",
      "===== Fold 3/10 =====\n"
     ]
    },
    {
     "name": "stderr",
     "output_type": "stream",
     "text": [
      "/home/s.dharia-ra/miniconda3/envs/ml/lib/python3.10/site-packages/torch/nn/modules/transformer.py:379: UserWarning: enable_nested_tensor is True, but self.use_nested_tensor is False because encoder_layer.self_attn.num_heads is odd\n",
      "  warnings.warn(\n"
     ]
    },
    {
     "name": "stdout",
     "output_type": "stream",
     "text": [
      "Final training label acc: 74.29%\n",
      "[Threshold 0.2] -> F1=0.6807 | Acc=0.6842\n",
      "[Threshold 0.3] -> F1=0.7361 | Acc=0.7368\n",
      "[Threshold 0.4] -> F1=0.7630 | Acc=0.7632\n",
      "[Threshold 0.5] -> F1=0.7895 | Acc=0.7895\n",
      "\n",
      "[Best Threshold] = 0.5 with F1=0.7895\n",
      "Final validation loss: 0.2877\n",
      "Final validation acc: 100.00%\n",
      "Final validation f1: 1.00%\n",
      "\n",
      "===== Fold 4/10 =====\n"
     ]
    },
    {
     "name": "stderr",
     "output_type": "stream",
     "text": [
      "/home/s.dharia-ra/miniconda3/envs/ml/lib/python3.10/site-packages/torch/nn/modules/transformer.py:379: UserWarning: enable_nested_tensor is True, but self.use_nested_tensor is False because encoder_layer.self_attn.num_heads is odd\n",
      "  warnings.warn(\n"
     ]
    },
    {
     "name": "stdout",
     "output_type": "stream",
     "text": [
      "Final training label acc: 72.22%\n",
      "[Threshold 0.2] -> F1=0.7087 | Acc=0.7105\n",
      "[Threshold 0.3] -> F1=0.7361 | Acc=0.7368\n",
      "[Threshold 0.4] -> F1=0.7368 | Acc=0.7368\n",
      "[Threshold 0.5] -> F1=0.7630 | Acc=0.7632\n",
      "\n",
      "[Best Threshold] = 0.5 with F1=0.7630\n",
      "Final validation loss: 0.8009\n",
      "Final validation acc: 50.00%\n",
      "Final validation f1: 0.50%\n",
      "\n",
      "===== Fold 5/10 =====\n"
     ]
    },
    {
     "name": "stderr",
     "output_type": "stream",
     "text": [
      "/home/s.dharia-ra/miniconda3/envs/ml/lib/python3.10/site-packages/torch/nn/modules/transformer.py:379: UserWarning: enable_nested_tensor is True, but self.use_nested_tensor is False because encoder_layer.self_attn.num_heads is odd\n",
      "  warnings.warn(\n"
     ]
    },
    {
     "name": "stdout",
     "output_type": "stream",
     "text": [
      "Final training label acc: 71.28%\n",
      "[Threshold 0.2] -> F1=0.7630 | Acc=0.7632\n",
      "[Threshold 0.3] -> F1=0.7889 | Acc=0.7895\n",
      "[Threshold 0.4] -> F1=0.8403 | Acc=0.8421\n",
      "[Threshold 0.5] -> F1=0.8381 | Acc=0.8421\n",
      "\n",
      "[Best Threshold] = 0.4 with F1=0.8403\n",
      "Final validation loss: 0.5862\n",
      "Final validation acc: 100.00%\n",
      "Final validation f1: 1.00%\n",
      "\n",
      "===== Fold 6/10 =====\n"
     ]
    },
    {
     "name": "stderr",
     "output_type": "stream",
     "text": [
      "/home/s.dharia-ra/miniconda3/envs/ml/lib/python3.10/site-packages/torch/nn/modules/transformer.py:379: UserWarning: enable_nested_tensor is True, but self.use_nested_tensor is False because encoder_layer.self_attn.num_heads is odd\n",
      "  warnings.warn(\n"
     ]
    },
    {
     "name": "stdout",
     "output_type": "stream",
     "text": [
      "Final training label acc: 74.57%\n",
      "[Threshold 0.2] -> F1=0.6833 | Acc=0.6842\n",
      "[Threshold 0.3] -> F1=0.7630 | Acc=0.7632\n",
      "[Threshold 0.4] -> F1=0.7889 | Acc=0.7895\n",
      "[Threshold 0.5] -> F1=0.8146 | Acc=0.8158\n",
      "\n",
      "[Best Threshold] = 0.5 with F1=0.8146\n",
      "Final validation loss: 0.5615\n",
      "Final validation acc: 75.00%\n",
      "Final validation f1: 0.73%\n",
      "\n",
      "===== Fold 7/10 =====\n"
     ]
    },
    {
     "name": "stderr",
     "output_type": "stream",
     "text": [
      "/home/s.dharia-ra/miniconda3/envs/ml/lib/python3.10/site-packages/torch/nn/modules/transformer.py:379: UserWarning: enable_nested_tensor is True, but self.use_nested_tensor is False because encoder_layer.self_attn.num_heads is odd\n",
      "  warnings.warn(\n"
     ]
    },
    {
     "name": "stdout",
     "output_type": "stream",
     "text": [
      "Final training label acc: 74.23%\n",
      "[Threshold 0.2] -> F1=0.7103 | Acc=0.7105\n",
      "[Threshold 0.3] -> F1=0.7368 | Acc=0.7368\n",
      "[Threshold 0.4] -> F1=0.7889 | Acc=0.7895\n",
      "[Threshold 0.5] -> F1=0.8146 | Acc=0.8158\n",
      "\n",
      "[Best Threshold] = 0.5 with F1=0.8146\n",
      "Final validation loss: 0.7307\n",
      "Final validation acc: 50.00%\n",
      "Final validation f1: 0.33%\n",
      "\n",
      "===== Fold 8/10 =====\n"
     ]
    },
    {
     "name": "stderr",
     "output_type": "stream",
     "text": [
      "/home/s.dharia-ra/miniconda3/envs/ml/lib/python3.10/site-packages/torch/nn/modules/transformer.py:379: UserWarning: enable_nested_tensor is True, but self.use_nested_tensor is False because encoder_layer.self_attn.num_heads is odd\n",
      "  warnings.warn(\n"
     ]
    },
    {
     "name": "stdout",
     "output_type": "stream",
     "text": [
      "Final training label acc: 77.78%\n",
      "[Threshold 0.2] -> F1=0.7361 | Acc=0.7368\n",
      "[Threshold 0.3] -> F1=0.7630 | Acc=0.7632\n",
      "[Threshold 0.4] -> F1=0.7895 | Acc=0.7895\n",
      "[Threshold 0.5] -> F1=0.8157 | Acc=0.8158\n",
      "\n",
      "[Best Threshold] = 0.5 with F1=0.8157\n",
      "Final validation loss: 1.0787\n",
      "Final validation acc: 50.00%\n",
      "Final validation f1: 0.50%\n",
      "\n",
      "===== Fold 9/10 =====\n"
     ]
    },
    {
     "name": "stderr",
     "output_type": "stream",
     "text": [
      "/home/s.dharia-ra/miniconda3/envs/ml/lib/python3.10/site-packages/torch/nn/modules/transformer.py:379: UserWarning: enable_nested_tensor is True, but self.use_nested_tensor is False because encoder_layer.self_attn.num_heads is odd\n",
      "  warnings.warn(\n"
     ]
    },
    {
     "name": "stdout",
     "output_type": "stream",
     "text": [
      "Final training label acc: 77.15%\n",
      "[Threshold 0.2] -> F1=0.7895 | Acc=0.7895\n",
      "[Threshold 0.3] -> F1=0.7895 | Acc=0.7895\n",
      "[Threshold 0.4] -> F1=0.7895 | Acc=0.7895\n",
      "[Threshold 0.5] -> F1=0.8157 | Acc=0.8158\n",
      "\n",
      "[Best Threshold] = 0.5 with F1=0.8157\n",
      "Final validation loss: 0.2383\n",
      "Final validation acc: 100.00%\n",
      "Final validation f1: 1.00%\n",
      "\n",
      "===== Fold 10/10 =====\n"
     ]
    },
    {
     "name": "stderr",
     "output_type": "stream",
     "text": [
      "/home/s.dharia-ra/miniconda3/envs/ml/lib/python3.10/site-packages/torch/nn/modules/transformer.py:379: UserWarning: enable_nested_tensor is True, but self.use_nested_tensor is False because encoder_layer.self_attn.num_heads is odd\n",
      "  warnings.warn(\n"
     ]
    },
    {
     "name": "stdout",
     "output_type": "stream",
     "text": [
      "Final training label acc: 76.11%\n",
      "[Threshold 0.2] -> F1=0.8157 | Acc=0.8158\n",
      "[Threshold 0.3] -> F1=0.8157 | Acc=0.8158\n",
      "[Threshold 0.4] -> F1=0.8146 | Acc=0.8158\n",
      "[Threshold 0.5] -> F1=0.8146 | Acc=0.8158\n",
      "\n",
      "[Best Threshold] = 0.2 with F1=0.8157\n",
      "Final validation loss: 0.7964\n",
      "Final validation acc: 50.00%\n",
      "Final validation f1: 0.33%\n",
      "\n",
      "=== Cross‐Val Results ===\n",
      "Accuracies per fold: [80.0, 60.0, 100.0, 50.0, 100.0, 75.0, 50.0, 50.0, 100.0, 50.0]\n",
      "Mean acc: 71.50%, Std: 21.22%\n",
      "Mean f1: 0.68%, Std: 0.25%\n",
      "\n",
      "===== Fold 1/10 =====\n"
     ]
    },
    {
     "name": "stderr",
     "output_type": "stream",
     "text": [
      "/home/s.dharia-ra/miniconda3/envs/ml/lib/python3.10/site-packages/torch/nn/modules/transformer.py:379: UserWarning: enable_nested_tensor is True, but self.use_nested_tensor is False because encoder_layer.self_attn.num_heads is odd\n",
      "  warnings.warn(\n"
     ]
    },
    {
     "name": "stdout",
     "output_type": "stream",
     "text": [
      "Final training label acc: 76.53%\n",
      "[Threshold 0.2] -> F1=0.8377 | Acc=0.8378\n",
      "[Threshold 0.3] -> F1=0.8377 | Acc=0.8378\n",
      "[Threshold 0.4] -> F1=0.8912 | Acc=0.8919\n",
      "[Threshold 0.5] -> F1=0.8612 | Acc=0.8649\n",
      "\n",
      "[Best Threshold] = 0.4 with F1=0.8912\n",
      "Final validation loss: 0.8808\n",
      "Final validation acc: 40.00%\n",
      "Final validation f1: 0.40%\n",
      "\n",
      "===== Fold 2/10 =====\n"
     ]
    },
    {
     "name": "stderr",
     "output_type": "stream",
     "text": [
      "/home/s.dharia-ra/miniconda3/envs/ml/lib/python3.10/site-packages/torch/nn/modules/transformer.py:379: UserWarning: enable_nested_tensor is True, but self.use_nested_tensor is False because encoder_layer.self_attn.num_heads is odd\n",
      "  warnings.warn(\n"
     ]
    },
    {
     "name": "stdout",
     "output_type": "stream",
     "text": [
      "Final training label acc: 80.65%\n",
      "[Threshold 0.2] -> F1=0.7568 | Acc=0.7568\n",
      "[Threshold 0.3] -> F1=0.7568 | Acc=0.7568\n",
      "[Threshold 0.4] -> F1=0.8633 | Acc=0.8649\n",
      "[Threshold 0.5] -> F1=0.8899 | Acc=0.8919\n",
      "\n",
      "[Best Threshold] = 0.5 with F1=0.8899\n",
      "Final validation loss: 0.5903\n",
      "Final validation acc: 60.00%\n",
      "Final validation f1: 0.58%\n",
      "\n",
      "===== Fold 3/10 =====\n"
     ]
    },
    {
     "name": "stderr",
     "output_type": "stream",
     "text": [
      "/home/s.dharia-ra/miniconda3/envs/ml/lib/python3.10/site-packages/torch/nn/modules/transformer.py:379: UserWarning: enable_nested_tensor is True, but self.use_nested_tensor is False because encoder_layer.self_attn.num_heads is odd\n",
      "  warnings.warn(\n"
     ]
    },
    {
     "name": "stdout",
     "output_type": "stream",
     "text": [
      "Final training label acc: 71.96%\n",
      "[Threshold 0.2] -> F1=0.7361 | Acc=0.7368\n",
      "[Threshold 0.3] -> F1=0.7361 | Acc=0.7368\n",
      "[Threshold 0.4] -> F1=0.7630 | Acc=0.7632\n",
      "[Threshold 0.5] -> F1=0.7630 | Acc=0.7632\n",
      "\n",
      "[Best Threshold] = 0.4 with F1=0.7630\n",
      "Final validation loss: 0.2106\n",
      "Final validation acc: 100.00%\n",
      "Final validation f1: 1.00%\n",
      "\n",
      "===== Fold 4/10 =====\n"
     ]
    },
    {
     "name": "stderr",
     "output_type": "stream",
     "text": [
      "/home/s.dharia-ra/miniconda3/envs/ml/lib/python3.10/site-packages/torch/nn/modules/transformer.py:379: UserWarning: enable_nested_tensor is True, but self.use_nested_tensor is False because encoder_layer.self_attn.num_heads is odd\n",
      "  warnings.warn(\n"
     ]
    },
    {
     "name": "stdout",
     "output_type": "stream",
     "text": [
      "Final training label acc: 70.97%\n",
      "[Threshold 0.2] -> F1=0.6807 | Acc=0.6842\n",
      "[Threshold 0.3] -> F1=0.7087 | Acc=0.7105\n",
      "[Threshold 0.4] -> F1=0.7361 | Acc=0.7368\n",
      "[Threshold 0.5] -> F1=0.7361 | Acc=0.7368\n",
      "\n",
      "[Best Threshold] = 0.4 with F1=0.7361\n",
      "Final validation loss: 0.4764\n",
      "Final validation acc: 100.00%\n",
      "Final validation f1: 1.00%\n",
      "\n",
      "===== Fold 5/10 =====\n"
     ]
    },
    {
     "name": "stderr",
     "output_type": "stream",
     "text": [
      "/home/s.dharia-ra/miniconda3/envs/ml/lib/python3.10/site-packages/torch/nn/modules/transformer.py:379: UserWarning: enable_nested_tensor is True, but self.use_nested_tensor is False because encoder_layer.self_attn.num_heads is odd\n",
      "  warnings.warn(\n"
     ]
    },
    {
     "name": "stdout",
     "output_type": "stream",
     "text": [
      "Final training label acc: 74.40%\n",
      "[Threshold 0.2] -> F1=0.7103 | Acc=0.7105\n",
      "[Threshold 0.3] -> F1=0.7368 | Acc=0.7368\n",
      "[Threshold 0.4] -> F1=0.7617 | Acc=0.7632\n",
      "[Threshold 0.5] -> F1=0.7617 | Acc=0.7632\n",
      "\n",
      "[Best Threshold] = 0.4 with F1=0.7617\n",
      "Final validation loss: 0.3116\n",
      "Final validation acc: 100.00%\n",
      "Final validation f1: 1.00%\n",
      "\n",
      "===== Fold 6/10 =====\n"
     ]
    },
    {
     "name": "stderr",
     "output_type": "stream",
     "text": [
      "/home/s.dharia-ra/miniconda3/envs/ml/lib/python3.10/site-packages/torch/nn/modules/transformer.py:379: UserWarning: enable_nested_tensor is True, but self.use_nested_tensor is False because encoder_layer.self_attn.num_heads is odd\n",
      "  warnings.warn(\n"
     ]
    },
    {
     "name": "stdout",
     "output_type": "stream",
     "text": [
      "Final training label acc: 76.80%\n",
      "[Threshold 0.2] -> F1=0.8421 | Acc=0.8421\n",
      "[Threshold 0.3] -> F1=0.7889 | Acc=0.7895\n",
      "[Threshold 0.4] -> F1=0.8146 | Acc=0.8158\n",
      "[Threshold 0.5] -> F1=0.8403 | Acc=0.8421\n",
      "\n",
      "[Best Threshold] = 0.2 with F1=0.8421\n",
      "Final validation loss: 0.9477\n",
      "Final validation acc: 75.00%\n",
      "Final validation f1: 0.73%\n",
      "\n",
      "===== Fold 7/10 =====\n"
     ]
    },
    {
     "name": "stderr",
     "output_type": "stream",
     "text": [
      "/home/s.dharia-ra/miniconda3/envs/ml/lib/python3.10/site-packages/torch/nn/modules/transformer.py:379: UserWarning: enable_nested_tensor is True, but self.use_nested_tensor is False because encoder_layer.self_attn.num_heads is odd\n",
      "  warnings.warn(\n"
     ]
    },
    {
     "name": "stdout",
     "output_type": "stream",
     "text": [
      "Final training label acc: 78.18%\n",
      "[Threshold 0.2] -> F1=0.7630 | Acc=0.7632\n",
      "[Threshold 0.3] -> F1=0.8146 | Acc=0.8158\n",
      "[Threshold 0.4] -> F1=0.8661 | Acc=0.8684\n",
      "[Threshold 0.5] -> F1=0.8661 | Acc=0.8684\n",
      "\n",
      "[Best Threshold] = 0.4 with F1=0.8661\n",
      "Final validation loss: 1.3512\n",
      "Final validation acc: 50.00%\n",
      "Final validation f1: 0.50%\n",
      "\n",
      "===== Fold 8/10 =====\n"
     ]
    },
    {
     "name": "stderr",
     "output_type": "stream",
     "text": [
      "/home/s.dharia-ra/miniconda3/envs/ml/lib/python3.10/site-packages/torch/nn/modules/transformer.py:379: UserWarning: enable_nested_tensor is True, but self.use_nested_tensor is False because encoder_layer.self_attn.num_heads is odd\n",
      "  warnings.warn(\n"
     ]
    },
    {
     "name": "stdout",
     "output_type": "stream",
     "text": [
      "Final training label acc: 76.96%\n",
      "[Threshold 0.2] -> F1=0.7103 | Acc=0.7105\n",
      "[Threshold 0.3] -> F1=0.7368 | Acc=0.7368\n",
      "[Threshold 0.4] -> F1=0.7889 | Acc=0.7895\n",
      "[Threshold 0.5] -> F1=0.8146 | Acc=0.8158\n",
      "\n",
      "[Best Threshold] = 0.5 with F1=0.8146\n",
      "Final validation loss: 0.7584\n",
      "Final validation acc: 50.00%\n",
      "Final validation f1: 0.50%\n",
      "\n",
      "===== Fold 9/10 =====\n"
     ]
    },
    {
     "name": "stderr",
     "output_type": "stream",
     "text": [
      "/home/s.dharia-ra/miniconda3/envs/ml/lib/python3.10/site-packages/torch/nn/modules/transformer.py:379: UserWarning: enable_nested_tensor is True, but self.use_nested_tensor is False because encoder_layer.self_attn.num_heads is odd\n",
      "  warnings.warn(\n"
     ]
    },
    {
     "name": "stdout",
     "output_type": "stream",
     "text": [
      "Final training label acc: 79.45%\n",
      "[Threshold 0.2] -> F1=0.7895 | Acc=0.7895\n",
      "[Threshold 0.3] -> F1=0.8676 | Acc=0.8684\n",
      "[Threshold 0.4] -> F1=0.8676 | Acc=0.8684\n",
      "[Threshold 0.5] -> F1=0.8403 | Acc=0.8421\n",
      "\n",
      "[Best Threshold] = 0.3 with F1=0.8676\n",
      "Final validation loss: 1.2186\n",
      "Final validation acc: 50.00%\n",
      "Final validation f1: 0.33%\n",
      "\n",
      "===== Fold 10/10 =====\n"
     ]
    },
    {
     "name": "stderr",
     "output_type": "stream",
     "text": [
      "/home/s.dharia-ra/miniconda3/envs/ml/lib/python3.10/site-packages/torch/nn/modules/transformer.py:379: UserWarning: enable_nested_tensor is True, but self.use_nested_tensor is False because encoder_layer.self_attn.num_heads is odd\n",
      "  warnings.warn(\n"
     ]
    },
    {
     "name": "stdout",
     "output_type": "stream",
     "text": [
      "Final training label acc: 77.85%\n",
      "[Threshold 0.2] -> F1=0.7103 | Acc=0.7105\n",
      "[Threshold 0.3] -> F1=0.7889 | Acc=0.7895\n",
      "[Threshold 0.4] -> F1=0.8146 | Acc=0.8158\n",
      "[Threshold 0.5] -> F1=0.8403 | Acc=0.8421\n",
      "\n",
      "[Best Threshold] = 0.5 with F1=0.8403\n",
      "Final validation loss: 0.6177\n",
      "Final validation acc: 75.00%\n",
      "Final validation f1: 0.73%\n",
      "\n",
      "=== Cross‐Val Results ===\n",
      "Accuracies per fold: [40.0, 60.0, 100.0, 100.0, 100.0, 75.0, 50.0, 50.0, 50.0, 75.0]\n",
      "Mean acc: 70.00%, Std: 22.25%\n",
      "Mean f1: 0.68%, Std: 0.24%\n",
      "\n",
      "===== Fold 1/10 =====\n"
     ]
    },
    {
     "name": "stderr",
     "output_type": "stream",
     "text": [
      "/home/s.dharia-ra/miniconda3/envs/ml/lib/python3.10/site-packages/torch/nn/modules/transformer.py:379: UserWarning: enable_nested_tensor is True, but self.use_nested_tensor is False because encoder_layer.self_attn.num_heads is odd\n",
      "  warnings.warn(\n"
     ]
    },
    {
     "name": "stdout",
     "output_type": "stream",
     "text": [
      "Final training label acc: 71.40%\n",
      "[Threshold 0.2] -> F1=0.7279 | Acc=0.7297\n",
      "[Threshold 0.3] -> F1=0.7568 | Acc=0.7568\n",
      "[Threshold 0.4] -> F1=0.7836 | Acc=0.7838\n",
      "[Threshold 0.5] -> F1=0.8368 | Acc=0.8378\n",
      "\n",
      "[Best Threshold] = 0.5 with F1=0.8368\n",
      "Final validation loss: 0.3338\n",
      "Final validation acc: 100.00%\n",
      "Final validation f1: 1.00%\n",
      "\n",
      "===== Fold 2/10 =====\n"
     ]
    },
    {
     "name": "stderr",
     "output_type": "stream",
     "text": [
      "/home/s.dharia-ra/miniconda3/envs/ml/lib/python3.10/site-packages/torch/nn/modules/transformer.py:379: UserWarning: enable_nested_tensor is True, but self.use_nested_tensor is False because encoder_layer.self_attn.num_heads is odd\n",
      "  warnings.warn(\n"
     ]
    },
    {
     "name": "stdout",
     "output_type": "stream",
     "text": [
      "Final training label acc: 76.08%\n",
      "[Threshold 0.2] -> F1=0.7836 | Acc=0.7838\n",
      "[Threshold 0.3] -> F1=0.7836 | Acc=0.7838\n",
      "[Threshold 0.4] -> F1=0.8912 | Acc=0.8919\n",
      "[Threshold 0.5] -> F1=0.8899 | Acc=0.8919\n",
      "\n",
      "[Best Threshold] = 0.4 with F1=0.8912\n",
      "Final validation loss: 0.3436\n",
      "Final validation acc: 80.00%\n",
      "Final validation f1: 0.80%\n",
      "\n",
      "===== Fold 3/10 =====\n"
     ]
    },
    {
     "name": "stderr",
     "output_type": "stream",
     "text": [
      "/home/s.dharia-ra/miniconda3/envs/ml/lib/python3.10/site-packages/torch/nn/modules/transformer.py:379: UserWarning: enable_nested_tensor is True, but self.use_nested_tensor is False because encoder_layer.self_attn.num_heads is odd\n",
      "  warnings.warn(\n"
     ]
    },
    {
     "name": "stdout",
     "output_type": "stream",
     "text": [
      "Final training label acc: 76.77%\n",
      "[Threshold 0.2] -> F1=0.7087 | Acc=0.7105\n",
      "[Threshold 0.3] -> F1=0.7895 | Acc=0.7895\n",
      "[Threshold 0.4] -> F1=0.7889 | Acc=0.7895\n",
      "[Threshold 0.5] -> F1=0.7617 | Acc=0.7632\n",
      "\n",
      "[Best Threshold] = 0.3 with F1=0.7895\n",
      "Final validation loss: 0.9266\n",
      "Final validation acc: 50.00%\n",
      "Final validation f1: 0.50%\n",
      "\n",
      "===== Fold 4/10 =====\n"
     ]
    },
    {
     "name": "stderr",
     "output_type": "stream",
     "text": [
      "/home/s.dharia-ra/miniconda3/envs/ml/lib/python3.10/site-packages/torch/nn/modules/transformer.py:379: UserWarning: enable_nested_tensor is True, but self.use_nested_tensor is False because encoder_layer.self_attn.num_heads is odd\n",
      "  warnings.warn(\n"
     ]
    },
    {
     "name": "stdout",
     "output_type": "stream",
     "text": [
      "Final training label acc: 76.07%\n",
      "[Threshold 0.2] -> F1=0.7361 | Acc=0.7368\n",
      "[Threshold 0.3] -> F1=0.7895 | Acc=0.7895\n",
      "[Threshold 0.4] -> F1=0.8157 | Acc=0.8158\n",
      "[Threshold 0.5] -> F1=0.8417 | Acc=0.8421\n",
      "\n",
      "[Best Threshold] = 0.5 with F1=0.8417\n",
      "Final validation loss: 1.0441\n",
      "Final validation acc: 50.00%\n",
      "Final validation f1: 0.50%\n",
      "\n",
      "===== Fold 5/10 =====\n"
     ]
    },
    {
     "name": "stderr",
     "output_type": "stream",
     "text": [
      "/home/s.dharia-ra/miniconda3/envs/ml/lib/python3.10/site-packages/torch/nn/modules/transformer.py:379: UserWarning: enable_nested_tensor is True, but self.use_nested_tensor is False because encoder_layer.self_attn.num_heads is odd\n",
      "  warnings.warn(\n"
     ]
    },
    {
     "name": "stdout",
     "output_type": "stream",
     "text": [
      "Final training label acc: 67.29%\n",
      "[Threshold 0.2] -> F1=0.6833 | Acc=0.6842\n",
      "[Threshold 0.3] -> F1=0.6833 | Acc=0.6842\n",
      "[Threshold 0.4] -> F1=0.6842 | Acc=0.6842\n",
      "[Threshold 0.5] -> F1=0.7103 | Acc=0.7105\n",
      "\n",
      "[Best Threshold] = 0.5 with F1=0.7103\n",
      "Final validation loss: 0.5825\n",
      "Final validation acc: 75.00%\n",
      "Final validation f1: 0.73%\n",
      "\n",
      "===== Fold 6/10 =====\n"
     ]
    },
    {
     "name": "stderr",
     "output_type": "stream",
     "text": [
      "/home/s.dharia-ra/miniconda3/envs/ml/lib/python3.10/site-packages/torch/nn/modules/transformer.py:379: UserWarning: enable_nested_tensor is True, but self.use_nested_tensor is False because encoder_layer.self_attn.num_heads is odd\n",
      "  warnings.warn(\n"
     ]
    },
    {
     "name": "stdout",
     "output_type": "stream",
     "text": [
      "Final training label acc: 72.49%\n",
      "[Threshold 0.2] -> F1=0.7368 | Acc=0.7368\n",
      "[Threshold 0.3] -> F1=0.7630 | Acc=0.7632\n",
      "[Threshold 0.4] -> F1=0.8125 | Acc=0.8158\n",
      "[Threshold 0.5] -> F1=0.7841 | Acc=0.7895\n",
      "\n",
      "[Best Threshold] = 0.4 with F1=0.8125\n",
      "Final validation loss: 0.5529\n",
      "Final validation acc: 75.00%\n",
      "Final validation f1: 0.73%\n",
      "\n",
      "===== Fold 7/10 =====\n"
     ]
    },
    {
     "name": "stderr",
     "output_type": "stream",
     "text": [
      "/home/s.dharia-ra/miniconda3/envs/ml/lib/python3.10/site-packages/torch/nn/modules/transformer.py:379: UserWarning: enable_nested_tensor is True, but self.use_nested_tensor is False because encoder_layer.self_attn.num_heads is odd\n",
      "  warnings.warn(\n"
     ]
    },
    {
     "name": "stdout",
     "output_type": "stream",
     "text": [
      "Final training label acc: 79.04%\n",
      "[Threshold 0.2] -> F1=0.7889 | Acc=0.7895\n",
      "[Threshold 0.3] -> F1=0.8146 | Acc=0.8158\n",
      "[Threshold 0.4] -> F1=0.8403 | Acc=0.8421\n",
      "[Threshold 0.5] -> F1=0.8403 | Acc=0.8421\n",
      "\n",
      "[Best Threshold] = 0.4 with F1=0.8403\n",
      "Final validation loss: 1.0982\n",
      "Final validation acc: 50.00%\n",
      "Final validation f1: 0.33%\n",
      "\n",
      "===== Fold 8/10 =====\n"
     ]
    },
    {
     "name": "stderr",
     "output_type": "stream",
     "text": [
      "/home/s.dharia-ra/miniconda3/envs/ml/lib/python3.10/site-packages/torch/nn/modules/transformer.py:379: UserWarning: enable_nested_tensor is True, but self.use_nested_tensor is False because encoder_layer.self_attn.num_heads is odd\n",
      "  warnings.warn(\n"
     ]
    },
    {
     "name": "stdout",
     "output_type": "stream",
     "text": [
      "Final training label acc: 76.71%\n",
      "[Threshold 0.2] -> F1=0.8403 | Acc=0.8421\n",
      "[Threshold 0.3] -> F1=0.8661 | Acc=0.8684\n",
      "[Threshold 0.4] -> F1=0.8661 | Acc=0.8684\n",
      "[Threshold 0.5] -> F1=0.8661 | Acc=0.8684\n",
      "\n",
      "[Best Threshold] = 0.3 with F1=0.8661\n",
      "Final validation loss: 0.5398\n",
      "Final validation acc: 75.00%\n",
      "Final validation f1: 0.73%\n",
      "\n",
      "===== Fold 9/10 =====\n"
     ]
    },
    {
     "name": "stderr",
     "output_type": "stream",
     "text": [
      "/home/s.dharia-ra/miniconda3/envs/ml/lib/python3.10/site-packages/torch/nn/modules/transformer.py:379: UserWarning: enable_nested_tensor is True, but self.use_nested_tensor is False because encoder_layer.self_attn.num_heads is odd\n",
      "  warnings.warn(\n"
     ]
    },
    {
     "name": "stdout",
     "output_type": "stream",
     "text": [
      "Final training label acc: 75.69%\n",
      "[Threshold 0.2] -> F1=0.7889 | Acc=0.7895\n",
      "[Threshold 0.3] -> F1=0.8146 | Acc=0.8158\n",
      "[Threshold 0.4] -> F1=0.8403 | Acc=0.8421\n",
      "[Threshold 0.5] -> F1=0.8403 | Acc=0.8421\n",
      "\n",
      "[Best Threshold] = 0.4 with F1=0.8403\n",
      "Final validation loss: 0.6070\n",
      "Final validation acc: 100.00%\n",
      "Final validation f1: 1.00%\n",
      "\n",
      "===== Fold 10/10 =====\n"
     ]
    },
    {
     "name": "stderr",
     "output_type": "stream",
     "text": [
      "/home/s.dharia-ra/miniconda3/envs/ml/lib/python3.10/site-packages/torch/nn/modules/transformer.py:379: UserWarning: enable_nested_tensor is True, but self.use_nested_tensor is False because encoder_layer.self_attn.num_heads is odd\n",
      "  warnings.warn(\n"
     ]
    },
    {
     "name": "stdout",
     "output_type": "stream",
     "text": [
      "Final training label acc: 78.08%\n",
      "[Threshold 0.2] -> F1=0.7361 | Acc=0.7368\n",
      "[Threshold 0.3] -> F1=0.7630 | Acc=0.7632\n",
      "[Threshold 0.4] -> F1=0.8146 | Acc=0.8158\n",
      "[Threshold 0.5] -> F1=0.8403 | Acc=0.8421\n",
      "\n",
      "[Best Threshold] = 0.5 with F1=0.8403\n",
      "Final validation loss: 1.7414\n",
      "Final validation acc: 25.00%\n",
      "Final validation f1: 0.20%\n",
      "\n",
      "=== Cross‐Val Results ===\n",
      "Accuracies per fold: [100.0, 80.0, 50.0, 50.0, 75.0, 75.0, 50.0, 75.0, 100.0, 25.0]\n",
      "Mean acc: 68.00%, Std: 22.72%\n",
      "Mean f1: 0.65%, Std: 0.25%\n",
      "\n",
      "===== Fold 1/10 =====\n"
     ]
    },
    {
     "name": "stderr",
     "output_type": "stream",
     "text": [
      "/home/s.dharia-ra/miniconda3/envs/ml/lib/python3.10/site-packages/torch/nn/modules/transformer.py:379: UserWarning: enable_nested_tensor is True, but self.use_nested_tensor is False because encoder_layer.self_attn.num_heads is odd\n",
      "  warnings.warn(\n"
     ]
    },
    {
     "name": "stdout",
     "output_type": "stream",
     "text": [
      "Final training label acc: 75.36%\n",
      "[Threshold 0.2] -> F1=0.7836 | Acc=0.7838\n",
      "[Threshold 0.3] -> F1=0.7836 | Acc=0.7838\n",
      "[Threshold 0.4] -> F1=0.8108 | Acc=0.8108\n",
      "[Threshold 0.5] -> F1=0.8377 | Acc=0.8378\n",
      "\n",
      "[Best Threshold] = 0.5 with F1=0.8377\n",
      "Final validation loss: 1.4391\n",
      "Final validation acc: 20.00%\n",
      "Final validation f1: 0.17%\n",
      "\n",
      "===== Fold 2/10 =====\n"
     ]
    },
    {
     "name": "stderr",
     "output_type": "stream",
     "text": [
      "/home/s.dharia-ra/miniconda3/envs/ml/lib/python3.10/site-packages/torch/nn/modules/transformer.py:379: UserWarning: enable_nested_tensor is True, but self.use_nested_tensor is False because encoder_layer.self_attn.num_heads is odd\n",
      "  warnings.warn(\n"
     ]
    },
    {
     "name": "stdout",
     "output_type": "stream",
     "text": [
      "Final training label acc: 71.86%\n",
      "[Threshold 0.2] -> F1=0.6735 | Acc=0.6757\n",
      "[Threshold 0.3] -> F1=0.7295 | Acc=0.7297\n",
      "[Threshold 0.4] -> F1=0.7295 | Acc=0.7297\n",
      "[Threshold 0.5] -> F1=0.7824 | Acc=0.7838\n",
      "\n",
      "[Best Threshold] = 0.5 with F1=0.7824\n",
      "Final validation loss: 0.5294\n",
      "Final validation acc: 80.00%\n",
      "Final validation f1: 0.80%\n",
      "\n",
      "===== Fold 3/10 =====\n"
     ]
    },
    {
     "name": "stderr",
     "output_type": "stream",
     "text": [
      "/home/s.dharia-ra/miniconda3/envs/ml/lib/python3.10/site-packages/torch/nn/modules/transformer.py:379: UserWarning: enable_nested_tensor is True, but self.use_nested_tensor is False because encoder_layer.self_attn.num_heads is odd\n",
      "  warnings.warn(\n"
     ]
    },
    {
     "name": "stdout",
     "output_type": "stream",
     "text": [
      "Final training label acc: 74.19%\n",
      "[Threshold 0.2] -> F1=0.7054 | Acc=0.7105\n",
      "[Threshold 0.3] -> F1=0.7889 | Acc=0.7895\n",
      "[Threshold 0.4] -> F1=0.8157 | Acc=0.8158\n",
      "[Threshold 0.5] -> F1=0.8417 | Acc=0.8421\n",
      "\n",
      "[Best Threshold] = 0.5 with F1=0.8417\n",
      "Final validation loss: 0.3741\n",
      "Final validation acc: 75.00%\n",
      "Final validation f1: 0.73%\n",
      "\n",
      "===== Fold 4/10 =====\n"
     ]
    },
    {
     "name": "stderr",
     "output_type": "stream",
     "text": [
      "/home/s.dharia-ra/miniconda3/envs/ml/lib/python3.10/site-packages/torch/nn/modules/transformer.py:379: UserWarning: enable_nested_tensor is True, but self.use_nested_tensor is False because encoder_layer.self_attn.num_heads is odd\n",
      "  warnings.warn(\n"
     ]
    },
    {
     "name": "stdout",
     "output_type": "stream",
     "text": [
      "Final training label acc: 74.46%\n",
      "[Threshold 0.2] -> F1=0.7054 | Acc=0.7105\n",
      "[Threshold 0.3] -> F1=0.7339 | Acc=0.7368\n",
      "[Threshold 0.4] -> F1=0.7617 | Acc=0.7632\n",
      "[Threshold 0.5] -> F1=0.7617 | Acc=0.7632\n",
      "\n",
      "[Best Threshold] = 0.4 with F1=0.7617\n",
      "Final validation loss: 0.3880\n",
      "Final validation acc: 75.00%\n",
      "Final validation f1: 0.73%\n",
      "\n",
      "===== Fold 5/10 =====\n"
     ]
    },
    {
     "name": "stderr",
     "output_type": "stream",
     "text": [
      "/home/s.dharia-ra/miniconda3/envs/ml/lib/python3.10/site-packages/torch/nn/modules/transformer.py:379: UserWarning: enable_nested_tensor is True, but self.use_nested_tensor is False because encoder_layer.self_attn.num_heads is odd\n",
      "  warnings.warn(\n"
     ]
    },
    {
     "name": "stdout",
     "output_type": "stream",
     "text": [
      "Final training label acc: 75.60%\n",
      "[Threshold 0.2] -> F1=0.7361 | Acc=0.7368\n",
      "[Threshold 0.3] -> F1=0.7630 | Acc=0.7632\n",
      "[Threshold 0.4] -> F1=0.8157 | Acc=0.8158\n",
      "[Threshold 0.5] -> F1=0.8157 | Acc=0.8158\n",
      "\n",
      "[Best Threshold] = 0.4 with F1=0.8157\n",
      "Final validation loss: 0.7849\n",
      "Final validation acc: 50.00%\n",
      "Final validation f1: 0.33%\n",
      "\n",
      "===== Fold 6/10 =====\n"
     ]
    },
    {
     "name": "stderr",
     "output_type": "stream",
     "text": [
      "/home/s.dharia-ra/miniconda3/envs/ml/lib/python3.10/site-packages/torch/nn/modules/transformer.py:379: UserWarning: enable_nested_tensor is True, but self.use_nested_tensor is False because encoder_layer.self_attn.num_heads is odd\n",
      "  warnings.warn(\n"
     ]
    },
    {
     "name": "stdout",
     "output_type": "stream",
     "text": [
      "Final training label acc: 76.55%\n",
      "[Threshold 0.2] -> F1=0.7368 | Acc=0.7368\n",
      "[Threshold 0.3] -> F1=0.8146 | Acc=0.8158\n",
      "[Threshold 0.4] -> F1=0.8125 | Acc=0.8158\n",
      "[Threshold 0.5] -> F1=0.7841 | Acc=0.7895\n",
      "\n",
      "[Best Threshold] = 0.3 with F1=0.8146\n",
      "Final validation loss: 0.5635\n",
      "Final validation acc: 75.00%\n",
      "Final validation f1: 0.73%\n",
      "\n",
      "===== Fold 7/10 =====\n"
     ]
    },
    {
     "name": "stderr",
     "output_type": "stream",
     "text": [
      "/home/s.dharia-ra/miniconda3/envs/ml/lib/python3.10/site-packages/torch/nn/modules/transformer.py:379: UserWarning: enable_nested_tensor is True, but self.use_nested_tensor is False because encoder_layer.self_attn.num_heads is odd\n",
      "  warnings.warn(\n"
     ]
    },
    {
     "name": "stdout",
     "output_type": "stream",
     "text": [
      "Final training label acc: 73.21%\n",
      "[Threshold 0.2] -> F1=0.7103 | Acc=0.7105\n",
      "[Threshold 0.3] -> F1=0.7630 | Acc=0.7632\n",
      "[Threshold 0.4] -> F1=0.7889 | Acc=0.7895\n",
      "[Threshold 0.5] -> F1=0.7889 | Acc=0.7895\n",
      "\n",
      "[Best Threshold] = 0.4 with F1=0.7889\n",
      "Final validation loss: 0.8246\n",
      "Final validation acc: 50.00%\n",
      "Final validation f1: 0.50%\n",
      "\n",
      "===== Fold 8/10 =====\n"
     ]
    },
    {
     "name": "stderr",
     "output_type": "stream",
     "text": [
      "/home/s.dharia-ra/miniconda3/envs/ml/lib/python3.10/site-packages/torch/nn/modules/transformer.py:379: UserWarning: enable_nested_tensor is True, but self.use_nested_tensor is False because encoder_layer.self_attn.num_heads is odd\n",
      "  warnings.warn(\n"
     ]
    },
    {
     "name": "stdout",
     "output_type": "stream",
     "text": [
      "Final training label acc: 77.78%\n",
      "[Threshold 0.2] -> F1=0.7087 | Acc=0.7105\n",
      "[Threshold 0.3] -> F1=0.7630 | Acc=0.7632\n",
      "[Threshold 0.4] -> F1=0.7895 | Acc=0.7895\n",
      "[Threshold 0.5] -> F1=0.8417 | Acc=0.8421\n",
      "\n",
      "[Best Threshold] = 0.5 with F1=0.8417\n",
      "Final validation loss: 0.5684\n",
      "Final validation acc: 50.00%\n",
      "Final validation f1: 0.50%\n",
      "\n",
      "===== Fold 9/10 =====\n"
     ]
    },
    {
     "name": "stderr",
     "output_type": "stream",
     "text": [
      "/home/s.dharia-ra/miniconda3/envs/ml/lib/python3.10/site-packages/torch/nn/modules/transformer.py:379: UserWarning: enable_nested_tensor is True, but self.use_nested_tensor is False because encoder_layer.self_attn.num_heads is odd\n",
      "  warnings.warn(\n"
     ]
    },
    {
     "name": "stdout",
     "output_type": "stream",
     "text": [
      "Final training label acc: 74.14%\n",
      "[Threshold 0.2] -> F1=0.7368 | Acc=0.7368\n",
      "[Threshold 0.3] -> F1=0.7630 | Acc=0.7632\n",
      "[Threshold 0.4] -> F1=0.8403 | Acc=0.8421\n",
      "[Threshold 0.5] -> F1=0.8381 | Acc=0.8421\n",
      "\n",
      "[Best Threshold] = 0.4 with F1=0.8403\n",
      "Final validation loss: 0.6112\n",
      "Final validation acc: 75.00%\n",
      "Final validation f1: 0.73%\n",
      "\n",
      "===== Fold 10/10 =====\n"
     ]
    },
    {
     "name": "stderr",
     "output_type": "stream",
     "text": [
      "/home/s.dharia-ra/miniconda3/envs/ml/lib/python3.10/site-packages/torch/nn/modules/transformer.py:379: UserWarning: enable_nested_tensor is True, but self.use_nested_tensor is False because encoder_layer.self_attn.num_heads is odd\n",
      "  warnings.warn(\n"
     ]
    },
    {
     "name": "stdout",
     "output_type": "stream",
     "text": [
      "Final training label acc: 78.94%\n",
      "[Threshold 0.2] -> F1=0.6807 | Acc=0.6842\n",
      "[Threshold 0.3] -> F1=0.7630 | Acc=0.7632\n",
      "[Threshold 0.4] -> F1=0.8146 | Acc=0.8158\n",
      "[Threshold 0.5] -> F1=0.8920 | Acc=0.8947\n",
      "\n",
      "[Best Threshold] = 0.5 with F1=0.8920\n",
      "Final validation loss: 1.0241\n",
      "Final validation acc: 75.00%\n",
      "Final validation f1: 0.73%\n",
      "\n",
      "=== Cross‐Val Results ===\n",
      "Accuracies per fold: [20.0, 80.0, 75.0, 75.0, 50.0, 75.0, 50.0, 50.0, 75.0, 75.0]\n",
      "Mean acc: 62.50%, Std: 18.34%\n",
      "Mean f1: 0.60%, Std: 0.20%\n",
      "\n",
      "===== Fold 1/10 =====\n"
     ]
    },
    {
     "name": "stderr",
     "output_type": "stream",
     "text": [
      "/home/s.dharia-ra/miniconda3/envs/ml/lib/python3.10/site-packages/torch/nn/modules/transformer.py:379: UserWarning: enable_nested_tensor is True, but self.use_nested_tensor is False because encoder_layer.self_attn.num_heads is odd\n",
      "  warnings.warn(\n"
     ]
    },
    {
     "name": "stdout",
     "output_type": "stream",
     "text": [
      "Final training label acc: 75.99%\n",
      "[Threshold 0.2] -> F1=0.7560 | Acc=0.7568\n",
      "[Threshold 0.3] -> F1=0.7568 | Acc=0.7568\n",
      "[Threshold 0.4] -> F1=0.7836 | Acc=0.7838\n",
      "[Threshold 0.5] -> F1=0.7836 | Acc=0.7838\n",
      "\n",
      "[Best Threshold] = 0.4 with F1=0.7836\n",
      "Final validation loss: 0.7018\n",
      "Final validation acc: 40.00%\n",
      "Final validation f1: 0.29%\n",
      "\n",
      "===== Fold 2/10 =====\n"
     ]
    },
    {
     "name": "stderr",
     "output_type": "stream",
     "text": [
      "/home/s.dharia-ra/miniconda3/envs/ml/lib/python3.10/site-packages/torch/nn/modules/transformer.py:379: UserWarning: enable_nested_tensor is True, but self.use_nested_tensor is False because encoder_layer.self_attn.num_heads is odd\n",
      "  warnings.warn(\n"
     ]
    },
    {
     "name": "stdout",
     "output_type": "stream",
     "text": [
      "Final training label acc: 76.90%\n",
      "[Threshold 0.2] -> F1=0.7018 | Acc=0.7027\n",
      "[Threshold 0.3] -> F1=0.7568 | Acc=0.7568\n",
      "[Threshold 0.4] -> F1=0.8633 | Acc=0.8649\n",
      "[Threshold 0.5] -> F1=0.8899 | Acc=0.8919\n",
      "\n",
      "[Best Threshold] = 0.5 with F1=0.8899\n",
      "Final validation loss: 0.8520\n",
      "Final validation acc: 20.00%\n",
      "Final validation f1: 0.17%\n",
      "\n",
      "===== Fold 3/10 =====\n"
     ]
    },
    {
     "name": "stderr",
     "output_type": "stream",
     "text": [
      "/home/s.dharia-ra/miniconda3/envs/ml/lib/python3.10/site-packages/torch/nn/modules/transformer.py:379: UserWarning: enable_nested_tensor is True, but self.use_nested_tensor is False because encoder_layer.self_attn.num_heads is odd\n",
      "  warnings.warn(\n"
     ]
    },
    {
     "name": "stdout",
     "output_type": "stream",
     "text": [
      "Final training label acc: 79.57%\n",
      "[Threshold 0.2] -> F1=0.7889 | Acc=0.7895\n",
      "[Threshold 0.3] -> F1=0.8157 | Acc=0.8158\n",
      "[Threshold 0.4] -> F1=0.8421 | Acc=0.8421\n",
      "[Threshold 0.5] -> F1=0.8944 | Acc=0.8947\n",
      "\n",
      "[Best Threshold] = 0.5 with F1=0.8944\n",
      "Final validation loss: 1.2020\n",
      "Final validation acc: 25.00%\n",
      "Final validation f1: 0.20%\n",
      "\n",
      "===== Fold 4/10 =====\n"
     ]
    },
    {
     "name": "stderr",
     "output_type": "stream",
     "text": [
      "/home/s.dharia-ra/miniconda3/envs/ml/lib/python3.10/site-packages/torch/nn/modules/transformer.py:379: UserWarning: enable_nested_tensor is True, but self.use_nested_tensor is False because encoder_layer.self_attn.num_heads is odd\n",
      "  warnings.warn(\n"
     ]
    },
    {
     "name": "stdout",
     "output_type": "stream",
     "text": [
      "Final training label acc: 73.49%\n",
      "[Threshold 0.2] -> F1=0.7889 | Acc=0.7895\n",
      "[Threshold 0.3] -> F1=0.7889 | Acc=0.7895\n",
      "[Threshold 0.4] -> F1=0.8157 | Acc=0.8158\n",
      "[Threshold 0.5] -> F1=0.8146 | Acc=0.8158\n",
      "\n",
      "[Best Threshold] = 0.4 with F1=0.8157\n",
      "Final validation loss: 0.4646\n",
      "Final validation acc: 75.00%\n",
      "Final validation f1: 0.73%\n",
      "\n",
      "===== Fold 5/10 =====\n"
     ]
    },
    {
     "name": "stderr",
     "output_type": "stream",
     "text": [
      "/home/s.dharia-ra/miniconda3/envs/ml/lib/python3.10/site-packages/torch/nn/modules/transformer.py:379: UserWarning: enable_nested_tensor is True, but self.use_nested_tensor is False because encoder_layer.self_attn.num_heads is odd\n",
      "  warnings.warn(\n"
     ]
    },
    {
     "name": "stdout",
     "output_type": "stream",
     "text": [
      "Final training label acc: 76.12%\n",
      "[Threshold 0.2] -> F1=0.7103 | Acc=0.7105\n",
      "[Threshold 0.3] -> F1=0.7368 | Acc=0.7368\n",
      "[Threshold 0.4] -> F1=0.7889 | Acc=0.7895\n",
      "[Threshold 0.5] -> F1=0.8146 | Acc=0.8158\n",
      "\n",
      "[Best Threshold] = 0.5 with F1=0.8146\n",
      "Final validation loss: 0.5416\n",
      "Final validation acc: 50.00%\n",
      "Final validation f1: 0.33%\n",
      "\n",
      "===== Fold 6/10 =====\n"
     ]
    },
    {
     "name": "stderr",
     "output_type": "stream",
     "text": [
      "/home/s.dharia-ra/miniconda3/envs/ml/lib/python3.10/site-packages/torch/nn/modules/transformer.py:379: UserWarning: enable_nested_tensor is True, but self.use_nested_tensor is False because encoder_layer.self_attn.num_heads is odd\n",
      "  warnings.warn(\n"
     ]
    },
    {
     "name": "stdout",
     "output_type": "stream",
     "text": [
      "Final training label acc: 74.83%\n",
      "[Threshold 0.2] -> F1=0.7103 | Acc=0.7105\n",
      "[Threshold 0.3] -> F1=0.7630 | Acc=0.7632\n",
      "[Threshold 0.4] -> F1=0.8403 | Acc=0.8421\n",
      "[Threshold 0.5] -> F1=0.8661 | Acc=0.8684\n",
      "\n",
      "[Best Threshold] = 0.5 with F1=0.8661\n",
      "Final validation loss: 0.3582\n",
      "Final validation acc: 75.00%\n",
      "Final validation f1: 0.73%\n",
      "\n",
      "===== Fold 7/10 =====\n"
     ]
    },
    {
     "name": "stderr",
     "output_type": "stream",
     "text": [
      "/home/s.dharia-ra/miniconda3/envs/ml/lib/python3.10/site-packages/torch/nn/modules/transformer.py:379: UserWarning: enable_nested_tensor is True, but self.use_nested_tensor is False because encoder_layer.self_attn.num_heads is odd\n",
      "  warnings.warn(\n"
     ]
    },
    {
     "name": "stdout",
     "output_type": "stream",
     "text": [
      "Final training label acc: 73.09%\n",
      "[Threshold 0.2] -> F1=0.6833 | Acc=0.6842\n",
      "[Threshold 0.3] -> F1=0.7889 | Acc=0.7895\n",
      "[Threshold 0.4] -> F1=0.8146 | Acc=0.8158\n",
      "[Threshold 0.5] -> F1=0.8403 | Acc=0.8421\n",
      "\n",
      "[Best Threshold] = 0.5 with F1=0.8403\n",
      "Final validation loss: 0.4840\n",
      "Final validation acc: 75.00%\n",
      "Final validation f1: 0.73%\n",
      "\n",
      "===== Fold 8/10 =====\n"
     ]
    },
    {
     "name": "stderr",
     "output_type": "stream",
     "text": [
      "/home/s.dharia-ra/miniconda3/envs/ml/lib/python3.10/site-packages/torch/nn/modules/transformer.py:379: UserWarning: enable_nested_tensor is True, but self.use_nested_tensor is False because encoder_layer.self_attn.num_heads is odd\n",
      "  warnings.warn(\n"
     ]
    },
    {
     "name": "stdout",
     "output_type": "stream",
     "text": [
      "Final training label acc: 76.03%\n",
      "[Threshold 0.2] -> F1=0.6807 | Acc=0.6842\n",
      "[Threshold 0.3] -> F1=0.7087 | Acc=0.7105\n",
      "[Threshold 0.4] -> F1=0.8417 | Acc=0.8421\n",
      "[Threshold 0.5] -> F1=0.8417 | Acc=0.8421\n",
      "\n",
      "[Best Threshold] = 0.4 with F1=0.8417\n",
      "Final validation loss: 1.1033\n",
      "Final validation acc: 75.00%\n",
      "Final validation f1: 0.73%\n",
      "\n",
      "===== Fold 9/10 =====\n"
     ]
    },
    {
     "name": "stderr",
     "output_type": "stream",
     "text": [
      "/home/s.dharia-ra/miniconda3/envs/ml/lib/python3.10/site-packages/torch/nn/modules/transformer.py:379: UserWarning: enable_nested_tensor is True, but self.use_nested_tensor is False because encoder_layer.self_attn.num_heads is odd\n",
      "  warnings.warn(\n"
     ]
    },
    {
     "name": "stdout",
     "output_type": "stream",
     "text": [
      "Final training label acc: 79.90%\n",
      "[Threshold 0.2] -> F1=0.7630 | Acc=0.7632\n",
      "[Threshold 0.3] -> F1=0.7895 | Acc=0.7895\n",
      "[Threshold 0.4] -> F1=0.8936 | Acc=0.8947\n",
      "[Threshold 0.5] -> F1=0.8920 | Acc=0.8947\n",
      "\n",
      "[Best Threshold] = 0.4 with F1=0.8936\n",
      "Final validation loss: 1.4119\n",
      "Final validation acc: 50.00%\n",
      "Final validation f1: 0.50%\n",
      "\n",
      "===== Fold 10/10 =====\n"
     ]
    },
    {
     "name": "stderr",
     "output_type": "stream",
     "text": [
      "/home/s.dharia-ra/miniconda3/envs/ml/lib/python3.10/site-packages/torch/nn/modules/transformer.py:379: UserWarning: enable_nested_tensor is True, but self.use_nested_tensor is False because encoder_layer.self_attn.num_heads is odd\n",
      "  warnings.warn(\n"
     ]
    },
    {
     "name": "stdout",
     "output_type": "stream",
     "text": [
      "Final training label acc: 77.74%\n",
      "[Threshold 0.2] -> F1=0.7368 | Acc=0.7368\n",
      "[Threshold 0.3] -> F1=0.7630 | Acc=0.7632\n",
      "[Threshold 0.4] -> F1=0.7630 | Acc=0.7632\n",
      "[Threshold 0.5] -> F1=0.8146 | Acc=0.8158\n",
      "\n",
      "[Best Threshold] = 0.5 with F1=0.8146\n",
      "Final validation loss: 0.3168\n",
      "Final validation acc: 100.00%\n",
      "Final validation f1: 1.00%\n",
      "\n",
      "=== Cross‐Val Results ===\n",
      "Accuracies per fold: [40.0, 20.0, 25.0, 75.0, 50.0, 75.0, 75.0, 75.0, 50.0, 100.0]\n",
      "Mean acc: 58.50%, Std: 24.30%\n",
      "Mean f1: 0.54%, Std: 0.27%\n",
      "\n",
      "===== Fold 1/10 =====\n"
     ]
    },
    {
     "name": "stderr",
     "output_type": "stream",
     "text": [
      "/home/s.dharia-ra/miniconda3/envs/ml/lib/python3.10/site-packages/torch/nn/modules/transformer.py:379: UserWarning: enable_nested_tensor is True, but self.use_nested_tensor is False because encoder_layer.self_attn.num_heads is odd\n",
      "  warnings.warn(\n"
     ]
    },
    {
     "name": "stdout",
     "output_type": "stream",
     "text": [
      "Final training label acc: 69.53%\n",
      "[Threshold 0.2] -> F1=0.7568 | Acc=0.7568\n",
      "[Threshold 0.3] -> F1=0.7836 | Acc=0.7838\n",
      "[Threshold 0.4] -> F1=0.7824 | Acc=0.7838\n",
      "[Threshold 0.5] -> F1=0.8086 | Acc=0.8108\n",
      "\n",
      "[Best Threshold] = 0.5 with F1=0.8086\n",
      "Final validation loss: 0.4606\n",
      "Final validation acc: 80.00%\n",
      "Final validation f1: 0.76%\n",
      "\n",
      "===== Fold 2/10 =====\n"
     ]
    },
    {
     "name": "stderr",
     "output_type": "stream",
     "text": [
      "/home/s.dharia-ra/miniconda3/envs/ml/lib/python3.10/site-packages/torch/nn/modules/transformer.py:379: UserWarning: enable_nested_tensor is True, but self.use_nested_tensor is False because encoder_layer.self_attn.num_heads is odd\n",
      "  warnings.warn(\n"
     ]
    },
    {
     "name": "stdout",
     "output_type": "stream",
     "text": [
      "Final training label acc: 78.96%\n",
      "[Threshold 0.2] -> F1=0.7836 | Acc=0.7838\n",
      "[Threshold 0.3] -> F1=0.8103 | Acc=0.8108\n",
      "[Threshold 0.4] -> F1=0.8899 | Acc=0.8919\n",
      "[Threshold 0.5] -> F1=0.8612 | Acc=0.8649\n",
      "\n",
      "[Best Threshold] = 0.4 with F1=0.8899\n",
      "Final validation loss: 0.6455\n",
      "Final validation acc: 80.00%\n",
      "Final validation f1: 0.80%\n",
      "\n",
      "===== Fold 3/10 =====\n"
     ]
    },
    {
     "name": "stderr",
     "output_type": "stream",
     "text": [
      "/home/s.dharia-ra/miniconda3/envs/ml/lib/python3.10/site-packages/torch/nn/modules/transformer.py:379: UserWarning: enable_nested_tensor is True, but self.use_nested_tensor is False because encoder_layer.self_attn.num_heads is odd\n",
      "  warnings.warn(\n"
     ]
    },
    {
     "name": "stdout",
     "output_type": "stream",
     "text": [
      "Final training label acc: 77.60%\n",
      "[Threshold 0.2] -> F1=0.7871 | Acc=0.7895\n",
      "[Threshold 0.3] -> F1=0.8417 | Acc=0.8421\n",
      "[Threshold 0.4] -> F1=0.8421 | Acc=0.8421\n",
      "[Threshold 0.5] -> F1=0.8421 | Acc=0.8421\n",
      "\n",
      "[Best Threshold] = 0.4 with F1=0.8421\n",
      "Final validation loss: 1.6623\n",
      "Final validation acc: 50.00%\n",
      "Final validation f1: 0.33%\n",
      "\n",
      "===== Fold 4/10 =====\n"
     ]
    },
    {
     "name": "stderr",
     "output_type": "stream",
     "text": [
      "/home/s.dharia-ra/miniconda3/envs/ml/lib/python3.10/site-packages/torch/nn/modules/transformer.py:379: UserWarning: enable_nested_tensor is True, but self.use_nested_tensor is False because encoder_layer.self_attn.num_heads is odd\n",
      "  warnings.warn(\n"
     ]
    },
    {
     "name": "stdout",
     "output_type": "stream",
     "text": [
      "Final training label acc: 75.09%\n",
      "[Threshold 0.2] -> F1=0.7103 | Acc=0.7105\n",
      "[Threshold 0.3] -> F1=0.8146 | Acc=0.8158\n",
      "[Threshold 0.4] -> F1=0.8125 | Acc=0.8158\n",
      "[Threshold 0.5] -> F1=0.8381 | Acc=0.8421\n",
      "\n",
      "[Best Threshold] = 0.5 with F1=0.8381\n",
      "Final validation loss: 0.9827\n",
      "Final validation acc: 25.00%\n",
      "Final validation f1: 0.20%\n",
      "\n",
      "===== Fold 5/10 =====\n"
     ]
    },
    {
     "name": "stderr",
     "output_type": "stream",
     "text": [
      "/home/s.dharia-ra/miniconda3/envs/ml/lib/python3.10/site-packages/torch/nn/modules/transformer.py:379: UserWarning: enable_nested_tensor is True, but self.use_nested_tensor is False because encoder_layer.self_attn.num_heads is odd\n",
      "  warnings.warn(\n"
     ]
    },
    {
     "name": "stdout",
     "output_type": "stream",
     "text": [
      "Final training label acc: 75.86%\n",
      "[Threshold 0.2] -> F1=0.8157 | Acc=0.8158\n",
      "[Threshold 0.3] -> F1=0.8146 | Acc=0.8158\n",
      "[Threshold 0.4] -> F1=0.8403 | Acc=0.8421\n",
      "[Threshold 0.5] -> F1=0.8403 | Acc=0.8421\n",
      "\n",
      "[Best Threshold] = 0.4 with F1=0.8403\n",
      "Final validation loss: 0.3790\n",
      "Final validation acc: 75.00%\n",
      "Final validation f1: 0.73%\n",
      "\n",
      "===== Fold 6/10 =====\n"
     ]
    },
    {
     "name": "stderr",
     "output_type": "stream",
     "text": [
      "/home/s.dharia-ra/miniconda3/envs/ml/lib/python3.10/site-packages/torch/nn/modules/transformer.py:379: UserWarning: enable_nested_tensor is True, but self.use_nested_tensor is False because encoder_layer.self_attn.num_heads is odd\n",
      "  warnings.warn(\n"
     ]
    },
    {
     "name": "stdout",
     "output_type": "stream",
     "text": [
      "Final training label acc: 74.57%\n",
      "[Threshold 0.2] -> F1=0.7087 | Acc=0.7105\n",
      "[Threshold 0.3] -> F1=0.7630 | Acc=0.7632\n",
      "[Threshold 0.4] -> F1=0.7889 | Acc=0.7895\n",
      "[Threshold 0.5] -> F1=0.8146 | Acc=0.8158\n",
      "\n",
      "[Best Threshold] = 0.5 with F1=0.8146\n",
      "Final validation loss: 0.5825\n",
      "Final validation acc: 50.00%\n",
      "Final validation f1: 0.50%\n",
      "\n",
      "===== Fold 7/10 =====\n"
     ]
    },
    {
     "name": "stderr",
     "output_type": "stream",
     "text": [
      "/home/s.dharia-ra/miniconda3/envs/ml/lib/python3.10/site-packages/torch/nn/modules/transformer.py:379: UserWarning: enable_nested_tensor is True, but self.use_nested_tensor is False because encoder_layer.self_attn.num_heads is odd\n",
      "  warnings.warn(\n"
     ]
    },
    {
     "name": "stdout",
     "output_type": "stream",
     "text": [
      "Final training label acc: 78.69%\n",
      "[Threshold 0.2] -> F1=0.7361 | Acc=0.7368\n",
      "[Threshold 0.3] -> F1=0.7630 | Acc=0.7632\n",
      "[Threshold 0.4] -> F1=0.7895 | Acc=0.7895\n",
      "[Threshold 0.5] -> F1=0.7889 | Acc=0.7895\n",
      "\n",
      "[Best Threshold] = 0.4 with F1=0.7895\n",
      "Final validation loss: 1.2035\n",
      "Final validation acc: 50.00%\n",
      "Final validation f1: 0.50%\n",
      "\n",
      "===== Fold 8/10 =====\n"
     ]
    },
    {
     "name": "stderr",
     "output_type": "stream",
     "text": [
      "/home/s.dharia-ra/miniconda3/envs/ml/lib/python3.10/site-packages/torch/nn/modules/transformer.py:379: UserWarning: enable_nested_tensor is True, but self.use_nested_tensor is False because encoder_layer.self_attn.num_heads is odd\n",
      "  warnings.warn(\n"
     ]
    },
    {
     "name": "stdout",
     "output_type": "stream",
     "text": [
      "Final training label acc: 71.82%\n",
      "[Threshold 0.2] -> F1=0.6833 | Acc=0.6842\n",
      "[Threshold 0.3] -> F1=0.7103 | Acc=0.7105\n",
      "[Threshold 0.4] -> F1=0.7368 | Acc=0.7368\n",
      "[Threshold 0.5] -> F1=0.8146 | Acc=0.8158\n",
      "\n",
      "[Best Threshold] = 0.5 with F1=0.8146\n",
      "Final validation loss: 0.3787\n",
      "Final validation acc: 100.00%\n",
      "Final validation f1: 1.00%\n",
      "\n",
      "===== Fold 9/10 =====\n"
     ]
    },
    {
     "name": "stderr",
     "output_type": "stream",
     "text": [
      "/home/s.dharia-ra/miniconda3/envs/ml/lib/python3.10/site-packages/torch/nn/modules/transformer.py:379: UserWarning: enable_nested_tensor is True, but self.use_nested_tensor is False because encoder_layer.self_attn.num_heads is odd\n",
      "  warnings.warn(\n"
     ]
    },
    {
     "name": "stdout",
     "output_type": "stream",
     "text": [
      "Final training label acc: 73.98%\n",
      "[Threshold 0.2] -> F1=0.7368 | Acc=0.7368\n",
      "[Threshold 0.3] -> F1=0.7889 | Acc=0.7895\n",
      "[Threshold 0.4] -> F1=0.7889 | Acc=0.7895\n",
      "[Threshold 0.5] -> F1=0.8146 | Acc=0.8158\n",
      "\n",
      "[Best Threshold] = 0.5 with F1=0.8146\n",
      "Final validation loss: 0.4576\n",
      "Final validation acc: 75.00%\n",
      "Final validation f1: 0.73%\n",
      "\n",
      "===== Fold 10/10 =====\n"
     ]
    },
    {
     "name": "stderr",
     "output_type": "stream",
     "text": [
      "/home/s.dharia-ra/miniconda3/envs/ml/lib/python3.10/site-packages/torch/nn/modules/transformer.py:379: UserWarning: enable_nested_tensor is True, but self.use_nested_tensor is False because encoder_layer.self_attn.num_heads is odd\n",
      "  warnings.warn(\n"
     ]
    },
    {
     "name": "stdout",
     "output_type": "stream",
     "text": [
      "Final training label acc: 75.77%\n",
      "[Threshold 0.2] -> F1=0.7103 | Acc=0.7105\n",
      "[Threshold 0.3] -> F1=0.7630 | Acc=0.7632\n",
      "[Threshold 0.4] -> F1=0.8146 | Acc=0.8158\n",
      "[Threshold 0.5] -> F1=0.7871 | Acc=0.7895\n",
      "\n",
      "[Best Threshold] = 0.4 with F1=0.8146\n",
      "Final validation loss: 0.4738\n",
      "Final validation acc: 75.00%\n",
      "Final validation f1: 0.73%\n",
      "\n",
      "=== Cross‐Val Results ===\n",
      "Accuracies per fold: [80.0, 80.0, 50.0, 25.0, 75.0, 50.0, 50.0, 100.0, 75.0, 75.0]\n",
      "Mean acc: 66.00%, Std: 20.59%\n",
      "Mean f1: 0.63%, Std: 0.23%\n",
      "\n",
      "===== Fold 1/10 =====\n"
     ]
    },
    {
     "name": "stderr",
     "output_type": "stream",
     "text": [
      "/home/s.dharia-ra/miniconda3/envs/ml/lib/python3.10/site-packages/torch/nn/modules/transformer.py:379: UserWarning: enable_nested_tensor is True, but self.use_nested_tensor is False because encoder_layer.self_attn.num_heads is odd\n",
      "  warnings.warn(\n"
     ]
    },
    {
     "name": "stdout",
     "output_type": "stream",
     "text": [
      "Final training label acc: 75.90%\n",
      "[Threshold 0.2] -> F1=0.8108 | Acc=0.8108\n",
      "[Threshold 0.3] -> F1=0.8377 | Acc=0.8378\n",
      "[Threshold 0.4] -> F1=0.8645 | Acc=0.8649\n",
      "[Threshold 0.5] -> F1=0.8912 | Acc=0.8919\n",
      "\n",
      "[Best Threshold] = 0.5 with F1=0.8912\n",
      "Final validation loss: 0.6026\n",
      "Final validation acc: 60.00%\n",
      "Final validation f1: 0.58%\n",
      "\n",
      "===== Fold 2/10 =====\n"
     ]
    },
    {
     "name": "stderr",
     "output_type": "stream",
     "text": [
      "/home/s.dharia-ra/miniconda3/envs/ml/lib/python3.10/site-packages/torch/nn/modules/transformer.py:379: UserWarning: enable_nested_tensor is True, but self.use_nested_tensor is False because encoder_layer.self_attn.num_heads is odd\n",
      "  warnings.warn(\n"
     ]
    },
    {
     "name": "stdout",
     "output_type": "stream",
     "text": [
      "Final training label acc: 75.80%\n",
      "[Threshold 0.2] -> F1=0.7279 | Acc=0.7297\n",
      "[Threshold 0.3] -> F1=0.7560 | Acc=0.7568\n",
      "[Threshold 0.4] -> F1=0.7836 | Acc=0.7838\n",
      "[Threshold 0.5] -> F1=0.8645 | Acc=0.8649\n",
      "\n",
      "[Best Threshold] = 0.5 with F1=0.8645\n",
      "Final validation loss: 0.5480\n",
      "Final validation acc: 80.00%\n",
      "Final validation f1: 0.76%\n",
      "\n",
      "===== Fold 3/10 =====\n"
     ]
    },
    {
     "name": "stderr",
     "output_type": "stream",
     "text": [
      "/home/s.dharia-ra/miniconda3/envs/ml/lib/python3.10/site-packages/torch/nn/modules/transformer.py:379: UserWarning: enable_nested_tensor is True, but self.use_nested_tensor is False because encoder_layer.self_attn.num_heads is odd\n",
      "  warnings.warn(\n"
     ]
    },
    {
     "name": "stdout",
     "output_type": "stream",
     "text": [
      "Final training label acc: 74.91%\n",
      "[Threshold 0.2] -> F1=0.7895 | Acc=0.7895\n",
      "[Threshold 0.3] -> F1=0.7889 | Acc=0.7895\n",
      "[Threshold 0.4] -> F1=0.8146 | Acc=0.8158\n",
      "[Threshold 0.5] -> F1=0.7871 | Acc=0.7895\n",
      "\n",
      "[Best Threshold] = 0.4 with F1=0.8146\n",
      "Final validation loss: 0.3468\n",
      "Final validation acc: 75.00%\n",
      "Final validation f1: 0.73%\n",
      "\n",
      "===== Fold 4/10 =====\n"
     ]
    },
    {
     "name": "stderr",
     "output_type": "stream",
     "text": [
      "/home/s.dharia-ra/miniconda3/envs/ml/lib/python3.10/site-packages/torch/nn/modules/transformer.py:379: UserWarning: enable_nested_tensor is True, but self.use_nested_tensor is False because encoder_layer.self_attn.num_heads is odd\n",
      "  warnings.warn(\n"
     ]
    },
    {
     "name": "stdout",
     "output_type": "stream",
     "text": [
      "Final training label acc: 74.55%\n",
      "[Threshold 0.2] -> F1=0.8157 | Acc=0.8158\n",
      "[Threshold 0.3] -> F1=0.7617 | Acc=0.7632\n",
      "[Threshold 0.4] -> F1=0.8125 | Acc=0.8158\n",
      "[Threshold 0.5] -> F1=0.8125 | Acc=0.8158\n",
      "\n",
      "[Best Threshold] = 0.2 with F1=0.8157\n",
      "Final validation loss: 0.4097\n",
      "Final validation acc: 75.00%\n",
      "Final validation f1: 0.73%\n",
      "\n",
      "===== Fold 5/10 =====\n"
     ]
    },
    {
     "name": "stderr",
     "output_type": "stream",
     "text": [
      "/home/s.dharia-ra/miniconda3/envs/ml/lib/python3.10/site-packages/torch/nn/modules/transformer.py:379: UserWarning: enable_nested_tensor is True, but self.use_nested_tensor is False because encoder_layer.self_attn.num_heads is odd\n",
      "  warnings.warn(\n"
     ]
    },
    {
     "name": "stdout",
     "output_type": "stream",
     "text": [
      "Final training label acc: 78.97%\n",
      "[Threshold 0.2] -> F1=0.7630 | Acc=0.7632\n",
      "[Threshold 0.3] -> F1=0.7889 | Acc=0.7895\n",
      "[Threshold 0.4] -> F1=0.8403 | Acc=0.8421\n",
      "[Threshold 0.5] -> F1=0.8403 | Acc=0.8421\n",
      "\n",
      "[Best Threshold] = 0.4 with F1=0.8403\n",
      "Final validation loss: 0.9861\n",
      "Final validation acc: 50.00%\n",
      "Final validation f1: 0.33%\n",
      "\n",
      "===== Fold 6/10 =====\n"
     ]
    },
    {
     "name": "stderr",
     "output_type": "stream",
     "text": [
      "/home/s.dharia-ra/miniconda3/envs/ml/lib/python3.10/site-packages/torch/nn/modules/transformer.py:379: UserWarning: enable_nested_tensor is True, but self.use_nested_tensor is False because encoder_layer.self_attn.num_heads is odd\n",
      "  warnings.warn(\n"
     ]
    },
    {
     "name": "stdout",
     "output_type": "stream",
     "text": [
      "Final training label acc: 74.23%\n",
      "[Threshold 0.2] -> F1=0.7617 | Acc=0.7632\n",
      "[Threshold 0.3] -> F1=0.8125 | Acc=0.8158\n",
      "[Threshold 0.4] -> F1=0.8381 | Acc=0.8421\n",
      "[Threshold 0.5] -> F1=0.8381 | Acc=0.8421\n",
      "\n",
      "[Best Threshold] = 0.4 with F1=0.8381\n",
      "Final validation loss: 0.7113\n",
      "Final validation acc: 75.00%\n",
      "Final validation f1: 0.73%\n",
      "\n",
      "===== Fold 7/10 =====\n"
     ]
    },
    {
     "name": "stderr",
     "output_type": "stream",
     "text": [
      "/home/s.dharia-ra/miniconda3/envs/ml/lib/python3.10/site-packages/torch/nn/modules/transformer.py:379: UserWarning: enable_nested_tensor is True, but self.use_nested_tensor is False because encoder_layer.self_attn.num_heads is odd\n",
      "  warnings.warn(\n"
     ]
    },
    {
     "name": "stdout",
     "output_type": "stream",
     "text": [
      "Final training label acc: 78.72%\n",
      "[Threshold 0.2] -> F1=0.7368 | Acc=0.7368\n",
      "[Threshold 0.3] -> F1=0.7617 | Acc=0.7632\n",
      "[Threshold 0.4] -> F1=0.7871 | Acc=0.7895\n",
      "[Threshold 0.5] -> F1=0.8125 | Acc=0.8158\n",
      "\n",
      "[Best Threshold] = 0.5 with F1=0.8125\n",
      "Final validation loss: 0.6703\n",
      "Final validation acc: 75.00%\n",
      "Final validation f1: 0.73%\n",
      "\n",
      "===== Fold 8/10 =====\n"
     ]
    },
    {
     "name": "stderr",
     "output_type": "stream",
     "text": [
      "/home/s.dharia-ra/miniconda3/envs/ml/lib/python3.10/site-packages/torch/nn/modules/transformer.py:379: UserWarning: enable_nested_tensor is True, but self.use_nested_tensor is False because encoder_layer.self_attn.num_heads is odd\n",
      "  warnings.warn(\n"
     ]
    },
    {
     "name": "stdout",
     "output_type": "stream",
     "text": [
      "Final training label acc: 79.45%\n",
      "[Threshold 0.2] -> F1=0.7895 | Acc=0.7895\n",
      "[Threshold 0.3] -> F1=0.8157 | Acc=0.8158\n",
      "[Threshold 0.4] -> F1=0.8676 | Acc=0.8684\n",
      "[Threshold 0.5] -> F1=0.8661 | Acc=0.8684\n",
      "\n",
      "[Best Threshold] = 0.4 with F1=0.8676\n",
      "Final validation loss: 0.9390\n",
      "Final validation acc: 75.00%\n",
      "Final validation f1: 0.73%\n",
      "\n",
      "===== Fold 9/10 =====\n"
     ]
    },
    {
     "name": "stderr",
     "output_type": "stream",
     "text": [
      "/home/s.dharia-ra/miniconda3/envs/ml/lib/python3.10/site-packages/torch/nn/modules/transformer.py:379: UserWarning: enable_nested_tensor is True, but self.use_nested_tensor is False because encoder_layer.self_attn.num_heads is odd\n",
      "  warnings.warn(\n"
     ]
    },
    {
     "name": "stdout",
     "output_type": "stream",
     "text": [
      "Final training label acc: 77.84%\n",
      "[Threshold 0.2] -> F1=0.7630 | Acc=0.7632\n",
      "[Threshold 0.3] -> F1=0.7895 | Acc=0.7895\n",
      "[Threshold 0.4] -> F1=0.7889 | Acc=0.7895\n",
      "[Threshold 0.5] -> F1=0.8403 | Acc=0.8421\n",
      "\n",
      "[Best Threshold] = 0.5 with F1=0.8403\n",
      "Final validation loss: 1.3097\n",
      "Final validation acc: 50.00%\n",
      "Final validation f1: 0.50%\n",
      "\n",
      "===== Fold 10/10 =====\n"
     ]
    },
    {
     "name": "stderr",
     "output_type": "stream",
     "text": [
      "/home/s.dharia-ra/miniconda3/envs/ml/lib/python3.10/site-packages/torch/nn/modules/transformer.py:379: UserWarning: enable_nested_tensor is True, but self.use_nested_tensor is False because encoder_layer.self_attn.num_heads is odd\n",
      "  warnings.warn(\n"
     ]
    },
    {
     "name": "stdout",
     "output_type": "stream",
     "text": [
      "Final training label acc: 76.37%\n",
      "[Threshold 0.2] -> F1=0.8157 | Acc=0.8158\n",
      "[Threshold 0.3] -> F1=0.7889 | Acc=0.7895\n",
      "[Threshold 0.4] -> F1=0.7889 | Acc=0.7895\n",
      "[Threshold 0.5] -> F1=0.8146 | Acc=0.8158\n",
      "\n",
      "[Best Threshold] = 0.2 with F1=0.8157\n",
      "Final validation loss: 0.9867\n",
      "Final validation acc: 50.00%\n",
      "Final validation f1: 0.33%\n",
      "\n",
      "=== Cross‐Val Results ===\n",
      "Accuracies per fold: [60.0, 80.0, 75.0, 75.0, 50.0, 75.0, 75.0, 75.0, 50.0, 50.0]\n",
      "Mean acc: 66.50%, Std: 11.84%\n",
      "Mean f1: 0.62%, Std: 0.16%\n",
      "\n",
      "===== Fold 1/10 =====\n"
     ]
    },
    {
     "name": "stderr",
     "output_type": "stream",
     "text": [
      "/home/s.dharia-ra/miniconda3/envs/ml/lib/python3.10/site-packages/torch/nn/modules/transformer.py:379: UserWarning: enable_nested_tensor is True, but self.use_nested_tensor is False because encoder_layer.self_attn.num_heads is odd\n",
      "  warnings.warn(\n"
     ]
    },
    {
     "name": "stdout",
     "output_type": "stream",
     "text": [
      "Final training label acc: 76.09%\n",
      "[Threshold 0.2] -> F1=0.7295 | Acc=0.7297\n",
      "[Threshold 0.3] -> F1=0.7295 | Acc=0.7297\n",
      "[Threshold 0.4] -> F1=0.7295 | Acc=0.7297\n",
      "[Threshold 0.5] -> F1=0.7836 | Acc=0.7838\n",
      "\n",
      "[Best Threshold] = 0.5 with F1=0.7836\n",
      "Final validation loss: 0.5074\n",
      "Final validation acc: 60.00%\n",
      "Final validation f1: 0.58%\n",
      "\n",
      "===== Fold 2/10 =====\n"
     ]
    },
    {
     "name": "stderr",
     "output_type": "stream",
     "text": [
      "/home/s.dharia-ra/miniconda3/envs/ml/lib/python3.10/site-packages/torch/nn/modules/transformer.py:379: UserWarning: enable_nested_tensor is True, but self.use_nested_tensor is False because encoder_layer.self_attn.num_heads is odd\n",
      "  warnings.warn(\n"
     ]
    },
    {
     "name": "stdout",
     "output_type": "stream",
     "text": [
      "Final training label acc: 74.73%\n",
      "[Threshold 0.2] -> F1=0.7018 | Acc=0.7027\n",
      "[Threshold 0.3] -> F1=0.7568 | Acc=0.7568\n",
      "[Threshold 0.4] -> F1=0.7568 | Acc=0.7568\n",
      "[Threshold 0.5] -> F1=0.7539 | Acc=0.7568\n",
      "\n",
      "[Best Threshold] = 0.3 with F1=0.7568\n",
      "Final validation loss: 0.4294\n",
      "Final validation acc: 80.00%\n",
      "Final validation f1: 0.80%\n",
      "\n",
      "===== Fold 3/10 =====\n"
     ]
    },
    {
     "name": "stderr",
     "output_type": "stream",
     "text": [
      "/home/s.dharia-ra/miniconda3/envs/ml/lib/python3.10/site-packages/torch/nn/modules/transformer.py:379: UserWarning: enable_nested_tensor is True, but self.use_nested_tensor is False because encoder_layer.self_attn.num_heads is odd\n",
      "  warnings.warn(\n"
     ]
    },
    {
     "name": "stdout",
     "output_type": "stream",
     "text": [
      "Final training label acc: 73.30%\n",
      "[Threshold 0.2] -> F1=0.7361 | Acc=0.7368\n",
      "[Threshold 0.3] -> F1=0.7368 | Acc=0.7368\n",
      "[Threshold 0.4] -> F1=0.7889 | Acc=0.7895\n",
      "[Threshold 0.5] -> F1=0.7871 | Acc=0.7895\n",
      "\n",
      "[Best Threshold] = 0.4 with F1=0.7889\n",
      "Final validation loss: 0.6214\n",
      "Final validation acc: 50.00%\n",
      "Final validation f1: 0.50%\n",
      "\n",
      "===== Fold 4/10 =====\n"
     ]
    },
    {
     "name": "stderr",
     "output_type": "stream",
     "text": [
      "/home/s.dharia-ra/miniconda3/envs/ml/lib/python3.10/site-packages/torch/nn/modules/transformer.py:379: UserWarning: enable_nested_tensor is True, but self.use_nested_tensor is False because encoder_layer.self_attn.num_heads is odd\n",
      "  warnings.warn(\n"
     ]
    },
    {
     "name": "stdout",
     "output_type": "stream",
     "text": [
      "Final training label acc: 68.59%\n",
      "[Threshold 0.2] -> F1=0.6807 | Acc=0.6842\n",
      "[Threshold 0.3] -> F1=0.6807 | Acc=0.6842\n",
      "[Threshold 0.4] -> F1=0.6807 | Acc=0.6842\n",
      "[Threshold 0.5] -> F1=0.6807 | Acc=0.6842\n",
      "\n",
      "[Best Threshold] = 0.2 with F1=0.6807\n",
      "Final validation loss: 0.5447\n",
      "Final validation acc: 75.00%\n",
      "Final validation f1: 0.73%\n",
      "\n",
      "===== Fold 5/10 =====\n"
     ]
    },
    {
     "name": "stderr",
     "output_type": "stream",
     "text": [
      "/home/s.dharia-ra/miniconda3/envs/ml/lib/python3.10/site-packages/torch/nn/modules/transformer.py:379: UserWarning: enable_nested_tensor is True, but self.use_nested_tensor is False because encoder_layer.self_attn.num_heads is odd\n",
      "  warnings.warn(\n"
     ]
    },
    {
     "name": "stdout",
     "output_type": "stream",
     "text": [
      "Final training label acc: 74.91%\n",
      "[Threshold 0.2] -> F1=0.6833 | Acc=0.6842\n",
      "[Threshold 0.3] -> F1=0.6833 | Acc=0.6842\n",
      "[Threshold 0.4] -> F1=0.7103 | Acc=0.7105\n",
      "[Threshold 0.5] -> F1=0.7617 | Acc=0.7632\n",
      "\n",
      "[Best Threshold] = 0.5 with F1=0.7617\n",
      "Final validation loss: 0.7689\n",
      "Final validation acc: 50.00%\n",
      "Final validation f1: 0.50%\n",
      "\n",
      "===== Fold 6/10 =====\n"
     ]
    },
    {
     "name": "stderr",
     "output_type": "stream",
     "text": [
      "/home/s.dharia-ra/miniconda3/envs/ml/lib/python3.10/site-packages/torch/nn/modules/transformer.py:379: UserWarning: enable_nested_tensor is True, but self.use_nested_tensor is False because encoder_layer.self_attn.num_heads is odd\n",
      "  warnings.warn(\n"
     ]
    },
    {
     "name": "stdout",
     "output_type": "stream",
     "text": [
      "Final training label acc: 77.57%\n",
      "[Threshold 0.2] -> F1=0.8157 | Acc=0.8158\n",
      "[Threshold 0.3] -> F1=0.8157 | Acc=0.8158\n",
      "[Threshold 0.4] -> F1=0.8403 | Acc=0.8421\n",
      "[Threshold 0.5] -> F1=0.8920 | Acc=0.8947\n",
      "\n",
      "[Best Threshold] = 0.5 with F1=0.8920\n",
      "Final validation loss: 0.7344\n",
      "Final validation acc: 75.00%\n",
      "Final validation f1: 0.73%\n",
      "\n",
      "===== Fold 7/10 =====\n"
     ]
    },
    {
     "name": "stderr",
     "output_type": "stream",
     "text": [
      "/home/s.dharia-ra/miniconda3/envs/ml/lib/python3.10/site-packages/torch/nn/modules/transformer.py:379: UserWarning: enable_nested_tensor is True, but self.use_nested_tensor is False because encoder_layer.self_attn.num_heads is odd\n",
      "  warnings.warn(\n"
     ]
    },
    {
     "name": "stdout",
     "output_type": "stream",
     "text": [
      "Final training label acc: 76.11%\n",
      "[Threshold 0.2] -> F1=0.7368 | Acc=0.7368\n",
      "[Threshold 0.3] -> F1=0.7889 | Acc=0.7895\n",
      "[Threshold 0.4] -> F1=0.8661 | Acc=0.8684\n",
      "[Threshold 0.5] -> F1=0.8661 | Acc=0.8684\n",
      "\n",
      "[Best Threshold] = 0.4 with F1=0.8661\n",
      "Final validation loss: 0.8202\n",
      "Final validation acc: 50.00%\n",
      "Final validation f1: 0.50%\n",
      "\n",
      "===== Fold 8/10 =====\n"
     ]
    },
    {
     "name": "stderr",
     "output_type": "stream",
     "text": [
      "/home/s.dharia-ra/miniconda3/envs/ml/lib/python3.10/site-packages/torch/nn/modules/transformer.py:379: UserWarning: enable_nested_tensor is True, but self.use_nested_tensor is False because encoder_layer.self_attn.num_heads is odd\n",
      "  warnings.warn(\n"
     ]
    },
    {
     "name": "stdout",
     "output_type": "stream",
     "text": [
      "Final training label acc: 78.87%\n",
      "[Threshold 0.2] -> F1=0.7339 | Acc=0.7368\n",
      "[Threshold 0.3] -> F1=0.7087 | Acc=0.7105\n",
      "[Threshold 0.4] -> F1=0.7361 | Acc=0.7368\n",
      "[Threshold 0.5] -> F1=0.7630 | Acc=0.7632\n",
      "\n",
      "[Best Threshold] = 0.5 with F1=0.7630\n",
      "Final validation loss: 1.3388\n",
      "Final validation acc: 75.00%\n",
      "Final validation f1: 0.73%\n",
      "\n",
      "===== Fold 9/10 =====\n"
     ]
    },
    {
     "name": "stderr",
     "output_type": "stream",
     "text": [
      "/home/s.dharia-ra/miniconda3/envs/ml/lib/python3.10/site-packages/torch/nn/modules/transformer.py:379: UserWarning: enable_nested_tensor is True, but self.use_nested_tensor is False because encoder_layer.self_attn.num_heads is odd\n",
      "  warnings.warn(\n"
     ]
    },
    {
     "name": "stdout",
     "output_type": "stream",
     "text": [
      "Final training label acc: 79.11%\n",
      "[Threshold 0.2] -> F1=0.7361 | Acc=0.7368\n",
      "[Threshold 0.3] -> F1=0.7895 | Acc=0.7895\n",
      "[Threshold 0.4] -> F1=0.8936 | Acc=0.8947\n",
      "[Threshold 0.5] -> F1=0.8661 | Acc=0.8684\n",
      "\n",
      "[Best Threshold] = 0.4 with F1=0.8936\n",
      "Final validation loss: 1.0773\n",
      "Final validation acc: 75.00%\n",
      "Final validation f1: 0.73%\n",
      "\n",
      "===== Fold 10/10 =====\n"
     ]
    },
    {
     "name": "stderr",
     "output_type": "stream",
     "text": [
      "/home/s.dharia-ra/miniconda3/envs/ml/lib/python3.10/site-packages/torch/nn/modules/transformer.py:379: UserWarning: enable_nested_tensor is True, but self.use_nested_tensor is False because encoder_layer.self_attn.num_heads is odd\n",
      "  warnings.warn(\n"
     ]
    },
    {
     "name": "stdout",
     "output_type": "stream",
     "text": [
      "Final training label acc: 74.66%\n",
      "[Threshold 0.2] -> F1=0.7103 | Acc=0.7105\n",
      "[Threshold 0.3] -> F1=0.7630 | Acc=0.7632\n",
      "[Threshold 0.4] -> F1=0.8381 | Acc=0.8421\n",
      "[Threshold 0.5] -> F1=0.8381 | Acc=0.8421\n",
      "\n",
      "[Best Threshold] = 0.4 with F1=0.8381\n",
      "Final validation loss: 0.5655\n",
      "Final validation acc: 50.00%\n",
      "Final validation f1: 0.50%\n",
      "\n",
      "=== Cross‐Val Results ===\n",
      "Accuracies per fold: [60.0, 80.0, 50.0, 75.0, 50.0, 75.0, 50.0, 75.0, 75.0, 50.0]\n",
      "Mean acc: 64.00%, Std: 12.41%\n",
      "Mean f1: 0.63%, Std: 0.12%\n",
      "\n",
      "===== Fold 1/10 =====\n"
     ]
    },
    {
     "name": "stderr",
     "output_type": "stream",
     "text": [
      "/home/s.dharia-ra/miniconda3/envs/ml/lib/python3.10/site-packages/torch/nn/modules/transformer.py:379: UserWarning: enable_nested_tensor is True, but self.use_nested_tensor is False because encoder_layer.self_attn.num_heads is odd\n",
      "  warnings.warn(\n"
     ]
    },
    {
     "name": "stdout",
     "output_type": "stream",
     "text": [
      "Final training label acc: 80.14%\n",
      "[Threshold 0.2] -> F1=0.6992 | Acc=0.7027\n",
      "[Threshold 0.3] -> F1=0.6992 | Acc=0.7027\n",
      "[Threshold 0.4] -> F1=0.7560 | Acc=0.7568\n",
      "[Threshold 0.5] -> F1=0.8108 | Acc=0.8108\n",
      "\n",
      "[Best Threshold] = 0.5 with F1=0.8108\n",
      "Final validation loss: 1.4726\n",
      "Final validation acc: 80.00%\n",
      "Final validation f1: 0.76%\n",
      "\n",
      "===== Fold 2/10 =====\n"
     ]
    },
    {
     "name": "stderr",
     "output_type": "stream",
     "text": [
      "/home/s.dharia-ra/miniconda3/envs/ml/lib/python3.10/site-packages/torch/nn/modules/transformer.py:379: UserWarning: enable_nested_tensor is True, but self.use_nested_tensor is False because encoder_layer.self_attn.num_heads is odd\n",
      "  warnings.warn(\n"
     ]
    },
    {
     "name": "stdout",
     "output_type": "stream",
     "text": [
      "Final training label acc: 75.63%\n",
      "[Threshold 0.2] -> F1=0.7560 | Acc=0.7568\n",
      "[Threshold 0.3] -> F1=0.7836 | Acc=0.7838\n",
      "[Threshold 0.4] -> F1=0.8377 | Acc=0.8378\n",
      "[Threshold 0.5] -> F1=0.8912 | Acc=0.8919\n",
      "\n",
      "[Best Threshold] = 0.5 with F1=0.8912\n",
      "Final validation loss: 0.6117\n",
      "Final validation acc: 80.00%\n",
      "Final validation f1: 0.80%\n",
      "\n",
      "===== Fold 3/10 =====\n"
     ]
    },
    {
     "name": "stderr",
     "output_type": "stream",
     "text": [
      "/home/s.dharia-ra/miniconda3/envs/ml/lib/python3.10/site-packages/torch/nn/modules/transformer.py:379: UserWarning: enable_nested_tensor is True, but self.use_nested_tensor is False because encoder_layer.self_attn.num_heads is odd\n",
      "  warnings.warn(\n"
     ]
    },
    {
     "name": "stdout",
     "output_type": "stream",
     "text": [
      "Final training label acc: 71.61%\n",
      "[Threshold 0.2] -> F1=0.7361 | Acc=0.7368\n",
      "[Threshold 0.3] -> F1=0.8157 | Acc=0.8158\n",
      "[Threshold 0.4] -> F1=0.7889 | Acc=0.7895\n",
      "[Threshold 0.5] -> F1=0.8146 | Acc=0.8158\n",
      "\n",
      "[Best Threshold] = 0.3 with F1=0.8157\n",
      "Final validation loss: 0.2691\n",
      "Final validation acc: 100.00%\n",
      "Final validation f1: 1.00%\n",
      "\n",
      "===== Fold 4/10 =====\n"
     ]
    },
    {
     "name": "stderr",
     "output_type": "stream",
     "text": [
      "/home/s.dharia-ra/miniconda3/envs/ml/lib/python3.10/site-packages/torch/nn/modules/transformer.py:379: UserWarning: enable_nested_tensor is True, but self.use_nested_tensor is False because encoder_layer.self_attn.num_heads is odd\n",
      "  warnings.warn(\n"
     ]
    },
    {
     "name": "stdout",
     "output_type": "stream",
     "text": [
      "Final training label acc: 74.82%\n",
      "[Threshold 0.2] -> F1=0.7087 | Acc=0.7105\n",
      "[Threshold 0.3] -> F1=0.7361 | Acc=0.7368\n",
      "[Threshold 0.4] -> F1=0.7361 | Acc=0.7368\n",
      "[Threshold 0.5] -> F1=0.8157 | Acc=0.8158\n",
      "\n",
      "[Best Threshold] = 0.5 with F1=0.8157\n",
      "Final validation loss: 0.6688\n",
      "Final validation acc: 50.00%\n",
      "Final validation f1: 0.50%\n",
      "\n",
      "===== Fold 5/10 =====\n"
     ]
    },
    {
     "name": "stderr",
     "output_type": "stream",
     "text": [
      "/home/s.dharia-ra/miniconda3/envs/ml/lib/python3.10/site-packages/torch/nn/modules/transformer.py:379: UserWarning: enable_nested_tensor is True, but self.use_nested_tensor is False because encoder_layer.self_attn.num_heads is odd\n",
      "  warnings.warn(\n"
     ]
    },
    {
     "name": "stdout",
     "output_type": "stream",
     "text": [
      "Final training label acc: 75.26%\n",
      "[Threshold 0.2] -> F1=0.7895 | Acc=0.7895\n",
      "[Threshold 0.3] -> F1=0.7630 | Acc=0.7632\n",
      "[Threshold 0.4] -> F1=0.8403 | Acc=0.8421\n",
      "[Threshold 0.5] -> F1=0.8125 | Acc=0.8158\n",
      "\n",
      "[Best Threshold] = 0.4 with F1=0.8403\n",
      "Final validation loss: 1.0942\n",
      "Final validation acc: 50.00%\n",
      "Final validation f1: 0.50%\n",
      "\n",
      "===== Fold 6/10 =====\n"
     ]
    },
    {
     "name": "stderr",
     "output_type": "stream",
     "text": [
      "/home/s.dharia-ra/miniconda3/envs/ml/lib/python3.10/site-packages/torch/nn/modules/transformer.py:379: UserWarning: enable_nested_tensor is True, but self.use_nested_tensor is False because encoder_layer.self_attn.num_heads is odd\n",
      "  warnings.warn(\n"
     ]
    },
    {
     "name": "stdout",
     "output_type": "stream",
     "text": [
      "Final training label acc: 70.48%\n",
      "[Threshold 0.2] -> F1=0.7103 | Acc=0.7105\n",
      "[Threshold 0.3] -> F1=0.7630 | Acc=0.7632\n",
      "[Threshold 0.4] -> F1=0.7889 | Acc=0.7895\n",
      "[Threshold 0.5] -> F1=0.8920 | Acc=0.8947\n",
      "\n",
      "[Best Threshold] = 0.5 with F1=0.8920\n",
      "Final validation loss: 0.6367\n",
      "Final validation acc: 75.00%\n",
      "Final validation f1: 0.73%\n",
      "\n",
      "===== Fold 7/10 =====\n"
     ]
    },
    {
     "name": "stderr",
     "output_type": "stream",
     "text": [
      "/home/s.dharia-ra/miniconda3/envs/ml/lib/python3.10/site-packages/torch/nn/modules/transformer.py:379: UserWarning: enable_nested_tensor is True, but self.use_nested_tensor is False because encoder_layer.self_attn.num_heads is odd\n",
      "  warnings.warn(\n"
     ]
    },
    {
     "name": "stdout",
     "output_type": "stream",
     "text": [
      "Final training label acc: 78.35%\n",
      "[Threshold 0.2] -> F1=0.7630 | Acc=0.7632\n",
      "[Threshold 0.3] -> F1=0.7889 | Acc=0.7895\n",
      "[Threshold 0.4] -> F1=0.8403 | Acc=0.8421\n",
      "[Threshold 0.5] -> F1=0.8661 | Acc=0.8684\n",
      "\n",
      "[Best Threshold] = 0.5 with F1=0.8661\n",
      "Final validation loss: 0.8615\n",
      "Final validation acc: 50.00%\n",
      "Final validation f1: 0.33%\n",
      "\n",
      "===== Fold 8/10 =====\n"
     ]
    },
    {
     "name": "stderr",
     "output_type": "stream",
     "text": [
      "/home/s.dharia-ra/miniconda3/envs/ml/lib/python3.10/site-packages/torch/nn/modules/transformer.py:379: UserWarning: enable_nested_tensor is True, but self.use_nested_tensor is False because encoder_layer.self_attn.num_heads is odd\n",
      "  warnings.warn(\n"
     ]
    },
    {
     "name": "stdout",
     "output_type": "stream",
     "text": [
      "Final training label acc: 74.57%\n",
      "[Threshold 0.2] -> F1=0.7361 | Acc=0.7368\n",
      "[Threshold 0.3] -> F1=0.7895 | Acc=0.7895\n",
      "[Threshold 0.4] -> F1=0.8157 | Acc=0.8158\n",
      "[Threshold 0.5] -> F1=0.8146 | Acc=0.8158\n",
      "\n",
      "[Best Threshold] = 0.4 with F1=0.8157\n",
      "Final validation loss: 0.5957\n",
      "Final validation acc: 50.00%\n",
      "Final validation f1: 0.33%\n",
      "\n",
      "===== Fold 9/10 =====\n"
     ]
    },
    {
     "name": "stderr",
     "output_type": "stream",
     "text": [
      "/home/s.dharia-ra/miniconda3/envs/ml/lib/python3.10/site-packages/torch/nn/modules/transformer.py:379: UserWarning: enable_nested_tensor is True, but self.use_nested_tensor is False because encoder_layer.self_attn.num_heads is odd\n",
      "  warnings.warn(\n"
     ]
    },
    {
     "name": "stdout",
     "output_type": "stream",
     "text": [
      "Final training label acc: 71.23%\n",
      "[Threshold 0.2] -> F1=0.7103 | Acc=0.7105\n",
      "[Threshold 0.3] -> F1=0.7103 | Acc=0.7105\n",
      "[Threshold 0.4] -> F1=0.7361 | Acc=0.7368\n",
      "[Threshold 0.5] -> F1=0.7617 | Acc=0.7632\n",
      "\n",
      "[Best Threshold] = 0.5 with F1=0.7617\n",
      "Final validation loss: 0.8115\n",
      "Final validation acc: 50.00%\n",
      "Final validation f1: 0.33%\n",
      "\n",
      "===== Fold 10/10 =====\n"
     ]
    },
    {
     "name": "stderr",
     "output_type": "stream",
     "text": [
      "/home/s.dharia-ra/miniconda3/envs/ml/lib/python3.10/site-packages/torch/nn/modules/transformer.py:379: UserWarning: enable_nested_tensor is True, but self.use_nested_tensor is False because encoder_layer.self_attn.num_heads is odd\n",
      "  warnings.warn(\n"
     ]
    },
    {
     "name": "stdout",
     "output_type": "stream",
     "text": [
      "Final training label acc: 78.77%\n",
      "[Threshold 0.2] -> F1=0.7361 | Acc=0.7368\n",
      "[Threshold 0.3] -> F1=0.7895 | Acc=0.7895\n",
      "[Threshold 0.4] -> F1=0.8417 | Acc=0.8421\n",
      "[Threshold 0.5] -> F1=0.8676 | Acc=0.8684\n",
      "\n",
      "[Best Threshold] = 0.5 with F1=0.8676\n",
      "Final validation loss: 0.6044\n",
      "Final validation acc: 75.00%\n",
      "Final validation f1: 0.73%\n",
      "\n",
      "=== Cross‐Val Results ===\n",
      "Accuracies per fold: [80.0, 80.0, 100.0, 50.0, 50.0, 75.0, 50.0, 50.0, 50.0, 75.0]\n",
      "Mean acc: 66.00%, Std: 17.29%\n",
      "Mean f1: 0.60%, Std: 0.22%\n",
      "\n",
      "===== Fold 1/10 =====\n"
     ]
    },
    {
     "name": "stderr",
     "output_type": "stream",
     "text": [
      "/home/s.dharia-ra/miniconda3/envs/ml/lib/python3.10/site-packages/torch/nn/modules/transformer.py:379: UserWarning: enable_nested_tensor is True, but self.use_nested_tensor is False because encoder_layer.self_attn.num_heads is odd\n",
      "  warnings.warn(\n"
     ]
    },
    {
     "name": "stdout",
     "output_type": "stream",
     "text": [
      "Final training label acc: 74.29%\n",
      "[Threshold 0.2] -> F1=0.6754 | Acc=0.6757\n",
      "[Threshold 0.3] -> F1=0.7560 | Acc=0.7568\n",
      "[Threshold 0.4] -> F1=0.7560 | Acc=0.7568\n",
      "[Threshold 0.5] -> F1=0.8086 | Acc=0.8108\n",
      "\n",
      "[Best Threshold] = 0.5 with F1=0.8086\n",
      "Final validation loss: 0.5176\n",
      "Final validation acc: 80.00%\n",
      "Final validation f1: 0.76%\n",
      "\n",
      "===== Fold 2/10 =====\n"
     ]
    },
    {
     "name": "stderr",
     "output_type": "stream",
     "text": [
      "/home/s.dharia-ra/miniconda3/envs/ml/lib/python3.10/site-packages/torch/nn/modules/transformer.py:379: UserWarning: enable_nested_tensor is True, but self.use_nested_tensor is False because encoder_layer.self_attn.num_heads is odd\n",
      "  warnings.warn(\n"
     ]
    },
    {
     "name": "stdout",
     "output_type": "stream",
     "text": [
      "Final training label acc: 76.79%\n",
      "[Threshold 0.2] -> F1=0.7568 | Acc=0.7568\n",
      "[Threshold 0.3] -> F1=0.8103 | Acc=0.8108\n",
      "[Threshold 0.4] -> F1=0.8368 | Acc=0.8378\n",
      "[Threshold 0.5] -> F1=0.8368 | Acc=0.8378\n",
      "\n",
      "[Best Threshold] = 0.4 with F1=0.8368\n",
      "Final validation loss: 0.7492\n",
      "Final validation acc: 60.00%\n",
      "Final validation f1: 0.58%\n",
      "\n",
      "===== Fold 3/10 =====\n"
     ]
    },
    {
     "name": "stderr",
     "output_type": "stream",
     "text": [
      "/home/s.dharia-ra/miniconda3/envs/ml/lib/python3.10/site-packages/torch/nn/modules/transformer.py:379: UserWarning: enable_nested_tensor is True, but self.use_nested_tensor is False because encoder_layer.self_attn.num_heads is odd\n",
      "  warnings.warn(\n"
     ]
    },
    {
     "name": "stdout",
     "output_type": "stream",
     "text": [
      "Final training label acc: 82.62%\n",
      "[Threshold 0.2] -> F1=0.7889 | Acc=0.7895\n",
      "[Threshold 0.3] -> F1=0.7895 | Acc=0.7895\n",
      "[Threshold 0.4] -> F1=0.8157 | Acc=0.8158\n",
      "[Threshold 0.5] -> F1=0.8676 | Acc=0.8684\n",
      "\n",
      "[Best Threshold] = 0.5 with F1=0.8676\n",
      "Final validation loss: 2.5898\n",
      "Final validation acc: 0.00%\n",
      "Final validation f1: 0.00%\n",
      "\n",
      "===== Fold 4/10 =====\n"
     ]
    },
    {
     "name": "stderr",
     "output_type": "stream",
     "text": [
      "/home/s.dharia-ra/miniconda3/envs/ml/lib/python3.10/site-packages/torch/nn/modules/transformer.py:379: UserWarning: enable_nested_tensor is True, but self.use_nested_tensor is False because encoder_layer.self_attn.num_heads is odd\n",
      "  warnings.warn(\n"
     ]
    },
    {
     "name": "stdout",
     "output_type": "stream",
     "text": [
      "Final training label acc: 73.39%\n",
      "[Threshold 0.2] -> F1=0.7087 | Acc=0.7105\n",
      "[Threshold 0.3] -> F1=0.7361 | Acc=0.7368\n",
      "[Threshold 0.4] -> F1=0.7630 | Acc=0.7632\n",
      "[Threshold 0.5] -> F1=0.8403 | Acc=0.8421\n",
      "\n",
      "[Best Threshold] = 0.5 with F1=0.8403\n",
      "Final validation loss: 0.7242\n",
      "Final validation acc: 75.00%\n",
      "Final validation f1: 0.73%\n",
      "\n",
      "===== Fold 5/10 =====\n"
     ]
    },
    {
     "name": "stderr",
     "output_type": "stream",
     "text": [
      "/home/s.dharia-ra/miniconda3/envs/ml/lib/python3.10/site-packages/torch/nn/modules/transformer.py:379: UserWarning: enable_nested_tensor is True, but self.use_nested_tensor is False because encoder_layer.self_attn.num_heads is odd\n",
      "  warnings.warn(\n"
     ]
    },
    {
     "name": "stdout",
     "output_type": "stream",
     "text": [
      "Final training label acc: 74.05%\n",
      "[Threshold 0.2] -> F1=0.7103 | Acc=0.7105\n",
      "[Threshold 0.3] -> F1=0.7889 | Acc=0.7895\n",
      "[Threshold 0.4] -> F1=0.8146 | Acc=0.8158\n",
      "[Threshold 0.5] -> F1=0.8661 | Acc=0.8684\n",
      "\n",
      "[Best Threshold] = 0.5 with F1=0.8661\n",
      "Final validation loss: 0.6674\n",
      "Final validation acc: 50.00%\n",
      "Final validation f1: 0.50%\n",
      "\n",
      "===== Fold 6/10 =====\n"
     ]
    },
    {
     "name": "stderr",
     "output_type": "stream",
     "text": [
      "/home/s.dharia-ra/miniconda3/envs/ml/lib/python3.10/site-packages/torch/nn/modules/transformer.py:379: UserWarning: enable_nested_tensor is True, but self.use_nested_tensor is False because encoder_layer.self_attn.num_heads is odd\n",
      "  warnings.warn(\n"
     ]
    },
    {
     "name": "stdout",
     "output_type": "stream",
     "text": [
      "Final training label acc: 75.51%\n",
      "[Threshold 0.2] -> F1=0.7630 | Acc=0.7632\n",
      "[Threshold 0.3] -> F1=0.8403 | Acc=0.8421\n",
      "[Threshold 0.4] -> F1=0.8661 | Acc=0.8684\n",
      "[Threshold 0.5] -> F1=0.8661 | Acc=0.8684\n",
      "\n",
      "[Best Threshold] = 0.4 with F1=0.8661\n",
      "Final validation loss: 0.5923\n",
      "Final validation acc: 75.00%\n",
      "Final validation f1: 0.73%\n",
      "\n",
      "===== Fold 7/10 =====\n"
     ]
    },
    {
     "name": "stderr",
     "output_type": "stream",
     "text": [
      "/home/s.dharia-ra/miniconda3/envs/ml/lib/python3.10/site-packages/torch/nn/modules/transformer.py:379: UserWarning: enable_nested_tensor is True, but self.use_nested_tensor is False because encoder_layer.self_attn.num_heads is odd\n",
      "  warnings.warn(\n"
     ]
    },
    {
     "name": "stdout",
     "output_type": "stream",
     "text": [
      "Final training label acc: 77.51%\n",
      "[Threshold 0.2] -> F1=0.7617 | Acc=0.7632\n",
      "[Threshold 0.3] -> F1=0.7617 | Acc=0.7632\n",
      "[Threshold 0.4] -> F1=0.8157 | Acc=0.8158\n",
      "[Threshold 0.5] -> F1=0.8683 | Acc=0.8684\n",
      "\n",
      "[Best Threshold] = 0.5 with F1=0.8683\n",
      "Final validation loss: 1.1929\n",
      "Final validation acc: 50.00%\n",
      "Final validation f1: 0.50%\n",
      "\n",
      "===== Fold 8/10 =====\n"
     ]
    },
    {
     "name": "stderr",
     "output_type": "stream",
     "text": [
      "/home/s.dharia-ra/miniconda3/envs/ml/lib/python3.10/site-packages/torch/nn/modules/transformer.py:379: UserWarning: enable_nested_tensor is True, but self.use_nested_tensor is False because encoder_layer.self_attn.num_heads is odd\n",
      "  warnings.warn(\n"
     ]
    },
    {
     "name": "stdout",
     "output_type": "stream",
     "text": [
      "Final training label acc: 74.40%\n",
      "[Threshold 0.2] -> F1=0.6833 | Acc=0.6842\n",
      "[Threshold 0.3] -> F1=0.7630 | Acc=0.7632\n",
      "[Threshold 0.4] -> F1=0.7889 | Acc=0.7895\n",
      "[Threshold 0.5] -> F1=0.8403 | Acc=0.8421\n",
      "\n",
      "[Best Threshold] = 0.5 with F1=0.8403\n",
      "Final validation loss: 0.7638\n",
      "Final validation acc: 50.00%\n",
      "Final validation f1: 0.33%\n",
      "\n",
      "===== Fold 9/10 =====\n"
     ]
    },
    {
     "name": "stderr",
     "output_type": "stream",
     "text": [
      "/home/s.dharia-ra/miniconda3/envs/ml/lib/python3.10/site-packages/torch/nn/modules/transformer.py:379: UserWarning: enable_nested_tensor is True, but self.use_nested_tensor is False because encoder_layer.self_attn.num_heads is odd\n",
      "  warnings.warn(\n"
     ]
    },
    {
     "name": "stdout",
     "output_type": "stream",
     "text": [
      "Final training label acc: 71.99%\n",
      "[Threshold 0.2] -> F1=0.6833 | Acc=0.6842\n",
      "[Threshold 0.3] -> F1=0.6833 | Acc=0.6842\n",
      "[Threshold 0.4] -> F1=0.7368 | Acc=0.7368\n",
      "[Threshold 0.5] -> F1=0.7889 | Acc=0.7895\n",
      "\n",
      "[Best Threshold] = 0.5 with F1=0.7889\n",
      "Final validation loss: 0.4664\n",
      "Final validation acc: 75.00%\n",
      "Final validation f1: 0.73%\n",
      "\n",
      "===== Fold 10/10 =====\n"
     ]
    },
    {
     "name": "stderr",
     "output_type": "stream",
     "text": [
      "/home/s.dharia-ra/miniconda3/envs/ml/lib/python3.10/site-packages/torch/nn/modules/transformer.py:379: UserWarning: enable_nested_tensor is True, but self.use_nested_tensor is False because encoder_layer.self_attn.num_heads is odd\n",
      "  warnings.warn(\n"
     ]
    },
    {
     "name": "stdout",
     "output_type": "stream",
     "text": [
      "Final training label acc: 66.61%\n",
      "[Threshold 0.2] -> F1=0.6833 | Acc=0.6842\n",
      "[Threshold 0.3] -> F1=0.6842 | Acc=0.6842\n",
      "[Threshold 0.4] -> F1=0.7087 | Acc=0.7105\n",
      "[Threshold 0.5] -> F1=0.7590 | Acc=0.7632\n",
      "\n",
      "[Best Threshold] = 0.5 with F1=0.7590\n",
      "Final validation loss: 0.5504\n",
      "Final validation acc: 75.00%\n",
      "Final validation f1: 0.73%\n",
      "\n",
      "=== Cross‐Val Results ===\n",
      "Accuracies per fold: [80.0, 60.0, 0.0, 75.0, 50.0, 75.0, 50.0, 50.0, 75.0, 75.0]\n",
      "Mean acc: 59.00%, Std: 22.78%\n",
      "Mean f1: 0.56%, Std: 0.23%\n"
     ]
    }
   ],
   "source": [
    "import os\n",
    "import numpy as np\n",
    "import torch\n",
    "import torch.nn as nn\n",
    "from torch.utils.data import DataLoader\n",
    "from sklearn.metrics import roc_auc_score, roc_curve\n",
    "from statistics import mode, StatisticsError\n",
    "import matplotlib.pyplot as plt\n",
    "\n",
    "seeds = [0, 1, 2 ,3, 4 , 5 , 6 ,7, 8, 9]  # Example seeds for reproducibility\n",
    "\n",
    "all_acc_final   = []\n",
    "all_f1_final    = []\n",
    "all_conf_final  = []\n",
    "global_probs_final  = []\n",
    "global_labels_final = []\n",
    "best_thresholds_final = []\n",
    "\n",
    "set_seed(0)\n",
    "#for seed in seeds:\n",
    "#    set_seed(seed)  # reproducibility\n",
    "\n",
    "# model hyperparameters (unchanged)\n",
    "input_dim_pte  = 180\n",
    "hidden_dim_pte = 512\n",
    "num_layers_pte = 2\n",
    "num_heads_pte  = 5\n",
    "output_dim_pte = 128\n",
    "dropout_pte    = 0.4\n",
    "\n",
    "input_dim_psd  = 5\n",
    "hidden_dim_psd = 512\n",
    "num_layers_psd = 2\n",
    "num_heads_psd  = 5\n",
    "output_dim_psd = 128\n",
    "dropout_psd    = 0.4\n",
    "\n",
    "cross_d_model   = 128\n",
    "cross_num_heads = 8\n",
    "\n",
    "\n",
    "\n",
    "# get stratified folds\n",
    "all_folds  = load_data_stratified_kfold(\n",
    "    pte_directory=\"features\",\n",
    "    DE_directory=\"DE_features_single_window\",\n",
    "    batch_size=32,\n",
    "    selected_classes=[\"ctrl\",\"ftd\"],\n",
    "    selected_channels=['O1','O2','T4','T5','F7','F8'],\n",
    "    n_splits=10,\n",
    "    n_repetitions=30,\n",
    ")\n",
    "\n",
    "\n",
    "for folds in all_folds:\n",
    "\n",
    "    # accumulators\n",
    "    all_acc   = []\n",
    "    all_f1    = []\n",
    "    all_conf  = []\n",
    "    global_probs  = []\n",
    "    global_labels = []\n",
    "    best_thresholds = []\n",
    "\n",
    "\n",
    "    for fold_idx, (train_loader, val_loader) in enumerate(folds, 1):\n",
    "        print(f\"\\n===== Fold {fold_idx}/{len(folds)} =====\")\n",
    "\n",
    "        # 1) model init\n",
    "        model = FinalModel(\n",
    "            pte_input_dim=input_dim_pte,\n",
    "            pte_hidden_dim=hidden_dim_pte,\n",
    "            pte_num_layers=num_layers_pte,\n",
    "            pte_num_heads=num_heads_pte,\n",
    "            pte_output_dim=output_dim_pte,\n",
    "            pte_dropout=dropout_pte,\n",
    "            psd_input_dim=input_dim_psd,\n",
    "            psd_hidden_dim=hidden_dim_psd,\n",
    "            psd_num_layers=num_layers_psd,\n",
    "            psd_num_heads=num_heads_psd,\n",
    "            psd_output_dim=output_dim_psd,\n",
    "            psd_dropout=dropout_psd,\n",
    "            cross_d_model=cross_d_model,\n",
    "            cross_num_heads=cross_num_heads\n",
    "        )\n",
    "\n",
    "        device = torch.device('cuda:1' if torch.cuda.is_available() else 'cpu')\n",
    "        model.to(device)\n",
    "\n",
    "        # 2) loss & optimizer\n",
    "        # class_weights = torch.tensor([1.0, 0.8], device=device)\n",
    "        #balance the classes weights\n",
    "        # from sklearn.utils.class_weight import compute_class_weight\n",
    "        # labels = []\n",
    "        # for _, _, y, _ in train_loader:\n",
    "        #     labels.extend(y.numpy())\n",
    "        # labels = np.array(labels)\n",
    "        # class_weights = compute_class_weight(\n",
    "        #     class_weight='balanced',\n",
    "        #     classes=np.unique(labels),\n",
    "        #     y=labels\n",
    "        # )\n",
    "        # class_weights = torch.tensor(class_weights, dtype=torch.float32).to(device)\n",
    "        # class_weights = torch.tensor([1.0, 0.7], device=device)\n",
    "        # print(f\"Class weights: {class_weights}\")\n",
    "        criterion_label = nn.CrossEntropyLoss()\n",
    "        # criterion_label = FocalLoss(gamma=2, alpha=class_weights, reduction='mean', task_type='multi-class', num_classes=2)\n",
    "\n",
    "        optimizer = torch.optim.Adam(model.parameters(), lr=0.0001)\n",
    "        # scheduler = torch.optim.lr_scheduler.StepLR(optimizer, step_size=20, gamma=0.5)\n",
    "        # 3) train\n",
    "        num_epochs = 100\n",
    "        label_acc_history, _ = train_model(\n",
    "            model=model,\n",
    "            source_dataloader=train_loader,\n",
    "            target_dataloader=val_loader,\n",
    "            criterion_label=criterion_label,\n",
    "            criterion_domain=criterion_label,\n",
    "            optimizer=optimizer,\n",
    "            num_epochs=num_epochs,\n",
    "            device=device,\n",
    "            scheduler=None,\n",
    "        )\n",
    "        print(f\"Final training label acc: {label_acc_history[-1]:.2f}%\")\n",
    "\n",
    "        # 4) threshold tuning on train set\n",
    "        thresholds_to_try = [0.2,0.3,0.4,0.5]\n",
    "        best_thr = tune_threshold_on_source(\n",
    "            model=model,\n",
    "            source_dataloader=train_loader,\n",
    "            device=device,\n",
    "            thresholds=thresholds_to_try,\n",
    "            num_classes=2\n",
    "        )\n",
    "        best_thresholds.append(best_thr)\n",
    "\n",
    "        # 5) test on validation set\n",
    "        test_loss, test_acc, test_f1, conf_mat, preds, labels, alz_ratio, true_label = test_model(\n",
    "            model=model,\n",
    "            test_dataloader=val_loader,\n",
    "            criterion_label=criterion_label,\n",
    "            device=device,\n",
    "            num_classes=2,\n",
    "            alz_threshold=best_thr\n",
    "        )\n",
    "\n",
    "        print(f\"Final validation loss: {test_loss:.4f}\")\n",
    "        print(f\"Final validation acc: {test_acc:.2f}%\")\n",
    "        print(f\"Final validation f1: {test_f1:.2f}%\")\n",
    "\n",
    "        # 6) record metrics\n",
    "        all_acc.append(test_acc)\n",
    "        all_f1.append(test_f1)\n",
    "        all_conf.append(conf_mat)\n",
    "        global_probs.append(preds)\n",
    "        global_labels.append(labels)\n",
    "        best_thresholds.append(best_thr)\n",
    "\n",
    "    # ────────── 7) Final results ─────────────────────────────\n",
    "    all_acc_final.append(all_acc)\n",
    "    all_f1_final.append(all_f1)\n",
    "    all_conf_final.append(all_conf)\n",
    "    global_probs_final.append(global_probs)\n",
    "    global_labels_final.append(global_labels)\n",
    "    best_thresholds_final.append(best_thresholds)\n",
    "\n",
    "    print(f\"\\n=== Cross‐Val Results ===\")\n",
    "    print(f\"Accuracies per fold: {all_acc}\")\n",
    "    print(f\"Mean acc: {np.mean(all_acc):.2f}%, Std: {np.std(all_acc):.2f}%\")\n",
    "    print(f\"Mean f1: {np.mean(all_f1):.2f}%, Std: {np.std(all_f1):.2f}%\")\n",
    "\n",
    "final_results = {\n",
    "\"all_acc\": all_acc_final,\n",
    "\"all_f1\": all_f1_final,\n",
    "\"all_conf\": all_conf_final,\n",
    "\"global_probs\": global_probs_final,\n",
    "\"global_labels\": global_labels_final,\n",
    "\"best_thresholds\": best_thresholds_final\n",
    "}\n",
    "\n",
    "np.savez(\n",
    "    \"final_results_cn_ftd_de_only_no_weights.npz\",\n",
    "    final_results=final_results\n",
    ")"
   ]
  },
  {
   "cell_type": "code",
   "execution_count": null,
   "metadata": {},
   "outputs": [],
   "source": [
    "accuarcy = final_results[\"all_acc\"]\n",
    "f1 = final_results[\"all_f1\"]\n",
    "confusion_matrix = final_results[\"all_conf\"]\n",
    "global_probs = final_results[\"global_probs\"]\n",
    "global_labels = final_results[\"global_labels\"]\n",
    "best_thresholds = final_results[\"best_thresholds\"]\n",
    "\n",
    "import numpy as np\n",
    "from sklearn.metrics import accuracy_score, precision_score, recall_score, f1_score\n",
    "\n",
    "# final_results[\"all_conf\"] is a list of 10 runs, each a (5,2,2) array of confusion matrices\n",
    "all_runs = final_results[\"all_conf\"]\n",
    "\n",
    "acc_scores, precision_scores, recall_scores, f1_scores = [], [], [], []\n",
    "\n",
    "for run_idx, run_cms in enumerate(all_runs, start=1):\n",
    "    # run_cms has shape (5,2,2): 5 folds × 2 × 2\n",
    "    for fold_idx, cm in enumerate(run_cms, start=1):\n",
    "        cm = np.asarray(cm)\n",
    "        if cm.shape != (2,2):\n",
    "            raise ValueError(f\"Run {run_idx} Fold {fold_idx} has shape {cm.shape}, expected (2,2)\")\n",
    "\n",
    "        tn, fp, fn, tp = cm.ravel()\n",
    "\n",
    "        # Reconstruct the true/pred arrays\n",
    "        y_true = np.array([0]*(tn+fp) + [1]*(fn+tp))\n",
    "        y_pred = np.array([0]*tn     + [1]*fp    +\n",
    "                          [0]*fn     + [1]*tp)\n",
    "\n",
    "        # Compute metrics\n",
    "        acc_scores.append(   accuracy_score(y_true, y_pred))\n",
    "        precision_scores.append(precision_score(y_true, y_pred,average=\"macro\", zero_division=0))\n",
    "        recall_scores.append(   recall_score(y_true, y_pred,average=\"macro\", zero_division=0))\n",
    "        f1_scores.append(       f1_score(y_true, y_pred, average=\"macro\", zero_division=0))\n",
    "\n",
    "# Now aggregate across all 50 confusion matrices\n",
    "metrics = {\n",
    "    \"Accuracy\":  (np.mean(acc_scores),       np.std(acc_scores)),\n",
    "    \"Precision\": (np.mean(precision_scores), np.std(precision_scores)),\n",
    "    \"Recall\":    (np.mean(recall_scores),    np.std(recall_scores)),\n",
    "    \"F1-score\":  (np.mean(f1_scores),        np.std(f1_scores)),\n",
    "}\n",
    "\n",
    "for name, (mean, std) in metrics.items():\n",
    "    print(f\"{name}: Mean = {mean:.4f}, Std = {std:.4f}\")\n",
    "\n",
    "\n",
    "\n",
    "# global_probs = np.hstack(global_probs)\n",
    "\n",
    "gp = []\n",
    "for i in range(len(global_probs)):\n",
    "    gp.extend(global_probs[i])\n",
    "global_probs = np.vstack(gp)\n",
    "print(global_probs.shape)\n",
    "\n",
    "gl = []\n",
    "for i in range(len(global_labels)):\n",
    "    gl.extend(global_labels[i])\n",
    "global_labels = np.hstack(gl)\n",
    "print(global_labels.shape)\n",
    "print(global_labels)\n",
    "\n",
    "\n",
    "from sklearn.metrics import roc_auc_score, roc_curve\n",
    "\n",
    "# Compute global sample-level AUC\n",
    "global_auc = roc_auc_score(global_labels, global_probs[:, 1])\n",
    "print(f\"\\nGlobal Sample-Level AUC: {global_auc:.4f}\")\n",
    "\n",
    "#plot ROC curve\n",
    "fpr, tpr, _ = roc_curve(global_labels, global_probs[:, 1])\n",
    "plt.figure(figsize=(6, 6))\n",
    "plt.plot(fpr, tpr, color='darkorange', lw=2, label=f\"Global AUC = {global_auc:.4f}\")\n",
    "plt.plot([0, 1], [0, 1], color='navy', lw=2, linestyle='--')\n",
    "plt.xlabel('False Positive Rate')\n",
    "plt.ylabel('True Positive Rate')\n",
    "plt.title('Global ROC Curve')\n",
    "plt.legend(loc=\"lower right\")\n",
    "plt.grid()\n",
    "plt.show()\n",
    "\n",
    "\n"
   ]
  },
  {
   "cell_type": "code",
   "execution_count": null,
   "metadata": {},
   "outputs": [],
   "source": []
  }
 ],
 "metadata": {
  "kernelspec": {
   "display_name": "ml",
   "language": "python",
   "name": "python3"
  },
  "language_info": {
   "codemirror_mode": {
    "name": "ipython",
    "version": 3
   },
   "file_extension": ".py",
   "mimetype": "text/x-python",
   "name": "python",
   "nbconvert_exporter": "python",
   "pygments_lexer": "ipython3",
   "version": "3.10.13"
  }
 },
 "nbformat": 4,
 "nbformat_minor": 2
}
